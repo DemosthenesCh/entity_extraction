{
 "cells": [
  {
   "cell_type": "code",
   "outputs": [],
   "source": [
    "import json\n",
    "import pandas as pd\n",
    "\n",
    "import util"
   ],
   "metadata": {
    "collapsed": false,
    "ExecuteTime": {
     "end_time": "2024-03-18T18:58:52.274404Z",
     "start_time": "2024-03-18T18:58:51.714609Z"
    }
   },
   "id": "be085e5f63702941",
   "execution_count": 1
  },
  {
   "cell_type": "code",
   "outputs": [],
   "source": [
    "data_config = util.get_data_config()"
   ],
   "metadata": {
    "collapsed": false,
    "ExecuteTime": {
     "end_time": "2024-03-18T18:58:52.278382Z",
     "start_time": "2024-03-18T18:58:52.275589Z"
    }
   },
   "id": "39b0b5b82303ca9c",
   "execution_count": 2
  },
  {
   "cell_type": "markdown",
   "source": [
    "## Prepare Ground Truth"
   ],
   "metadata": {
    "collapsed": false
   },
   "id": "48f42106ef6818ac"
  },
  {
   "cell_type": "code",
   "execution_count": 3,
   "id": "initial_id",
   "metadata": {
    "collapsed": true,
    "ExecuteTime": {
     "end_time": "2024-03-18T18:58:52.292066Z",
     "start_time": "2024-03-18T18:58:52.279123Z"
    }
   },
   "outputs": [],
   "source": [
    "ground_truth = {\n",
    "    'NCT00037648': ['anakinra'],\n",
    "    'NCT00048542': ['adalimumab', 'methotrexate'],\n",
    "    'NCT00071487': ['belimumab'],\n",
    "    'NCT00071812': ['belimumab'],\n",
    "    'NCT00072839': ['ALX-0600'],\n",
    "    'NCT00074438': ['rituximab', 'methotrexate'],\n",
    "    'NCT00078806': ['etanercept'],\n",
    "    'NCT00078819': ['etanercept'],\n",
    "    'NCT00079937': ['omalizumab'],\n",
    "    'NCT00090142': [],\n",
    "    'NCT00092131': [],\n",
    "    'NCT00095173': ['BMS-188667', 'Abatacept'],\n",
    "    'NCT00097370': ['mepolizumab', 'mepolizumab'],\n",
    "    'NCT00106522': ['tocilizumab', 'methotrexate', 'tocilizumab', 'tocilizumab', 'methotrexate'],\n",
    "    'NCT00106535': ['tocilizumab', 'methotrexate', 'tocilizumab', 'tocilizumab'],\n",
    "    'NCT00106548': ['tocilizumab', 'methotrexate', 'tocilizumab', 'tocilizumab'],\n",
    "    'NCT00109408': ['tocilizumab', 'methotrexate', 'tocilizumab', 'methotrexate'],\n",
    "    'NCT00109707': ['Imatinib', 'imatinib', 'imatinib', 'imatinib', 'Imatinib', 'imatinib','imatinib','imatinib'],\n",
    "    'NCT00110916': ['anakinra', 'anakinra'],\n",
    "    'NCT00111436': ['etanercept', 'etanercept', 'etanercept'],\n",
    "    'NCT00119678': ['Abatacept', 'prednisone'],\n",
    "    'NCT00120523': ['pimecrolimus'],\n",
    "    'NCT00130390': ['nitazoxanide'],\n",
    "    'NCT00137969': ['rituximab'],\n",
    "    'NCT00141921': ['etanercept'],\n",
    "    'NCT00146640': ['prednisone', 'prednisone'],\n",
    "    'NCT00171860': ['imatinib mesylate', 'imatinib mesylate', 'prednisone', 'hydroxyurea', 'oxyurea'],\n",
    "    'NCT00175877': ['Certolizumab Pegol'],\n",
    "    'NCT00195663': ['adalimumab', 'methotrexate', 'adalimumab'],\n",
    "    'NCT00195702': ['adalimumab', 'adalimumab', 'methotrexate',],\n",
    "    'NCT00206596': ['Leukine'],\n",
    "    'NCT00206661': ['sargramostim'],\n",
    "    'NCT00206700': ['sargramostim'],\n",
    "    'NCT00206713': ['Leukine', 'Leukine'],\n",
    "    'NCT00207714': ['Golimumab', 'CNTO 148'],\n",
    "    'NCT00207740': ['CNTO 148', 'golimumab'],\n",
    "    'NCT00221026': [],\n",
    "    'NCT00235820': ['Adalimumab', 'Methotrexate'],\n",
    "    'NCT00244842': ['voclosporin'],\n",
    "    'NCT00245570': [],\n",
    "    'NCT00245765': ['CDP870'],\n",
    "    'NCT00254293': ['Abatacept'],\n",
    "    'NCT00264537': ['golimumab', 'methotrexate'],\n",
    "    'NCT00264550': ['golimumab', 'methotrexate', 'methotrexate'],\n",
    "    'NCT00265096': ['golimumab'],\n",
    "    'NCT00265122': ['CNTO 1275'],\n",
    "    'NCT00266565': [],\n",
    "    'NCT00267956': ['CNTO 1275', 'ustekinumab'],\n",
    "    'NCT00267969': ['ustekinumab', 'CNTO 1275'],\n",
    "    'NCT00269841': [],\n",
    "    'NCT00269854': [],\n",
    "}\n",
    "ground_truth = {k:list(set(v)) for k,v in ground_truth.items()}\n",
    "\n",
    "\n",
    "with open(data_config['ground_truth_raw_file_name'], 'w') as fout:\n",
    "    fout.write(json.dumps(ground_truth))"
   ]
  },
  {
   "cell_type": "markdown",
   "source": [
    "# Clean up ground truth terms (synonyms only)"
   ],
   "metadata": {
    "collapsed": false
   },
   "id": "781ac45e3e52f751"
  },
  {
   "cell_type": "code",
   "outputs": [],
   "source": [
    "synonyms_df = pd.read_parquet(data_config['processed_synonyms_file_name'])"
   ],
   "metadata": {
    "collapsed": false,
    "ExecuteTime": {
     "end_time": "2024-03-18T18:58:52.318212Z",
     "start_time": "2024-03-18T18:58:52.293472Z"
    }
   },
   "id": "985d5ae32650e911",
   "execution_count": 4
  },
  {
   "cell_type": "code",
   "outputs": [],
   "source": [
    "synonym_maps = util.get_synonym_maps(synonyms_df)\n",
    "preferred_name_by_term = synonym_maps['preferred_name_by_term']\n"
   ],
   "metadata": {
    "collapsed": false,
    "ExecuteTime": {
     "end_time": "2024-03-18T18:58:52.518657Z",
     "start_time": "2024-03-18T18:58:52.319126Z"
    }
   },
   "id": "f612631ad3b4a731",
   "execution_count": 5
  },
  {
   "cell_type": "code",
   "outputs": [],
   "source": [
    "# preferred_name_by_term = {}\n",
    "# for _, row in synonyms_df.iterrows():\n",
    "#     preferred_name = row['preferred_name']\n",
    "#     synonyms = row['synonyms']\n",
    "#     for synonym in synonyms:\n",
    "#         preferred_name_by_term[util.clean_up_synonym_term(synonym)] = preferred_name"
   ],
   "metadata": {
    "collapsed": false,
    "ExecuteTime": {
     "end_time": "2024-03-18T18:58:52.521882Z",
     "start_time": "2024-03-18T18:58:52.519777Z"
    }
   },
   "id": "f1d60a6979b3a643",
   "execution_count": 6
  },
  {
   "cell_type": "code",
   "outputs": [],
   "source": [
    "ground_truth_cleaned = {}\n",
    "for nct_id, terms in ground_truth.items():\n",
    "    terms_cleaned = []\n",
    "    for term in terms:\n",
    "        cleaned = util.clean_up_synonym_term(term)\n",
    "        if cleaned not in preferred_name_by_term:\n",
    "            continue\n",
    "        terms_cleaned.append(preferred_name_by_term[cleaned])\n",
    "    ground_truth_cleaned[nct_id] = list(set(terms_cleaned))"
   ],
   "metadata": {
    "collapsed": false,
    "ExecuteTime": {
     "end_time": "2024-03-18T18:58:52.527913Z",
     "start_time": "2024-03-18T18:58:52.522968Z"
    }
   },
   "id": "d88d10935c50a4fa",
   "execution_count": 7
  },
  {
   "cell_type": "code",
   "outputs": [],
   "source": [
    "with open(data_config['ground_truth_cleaned_file_name'], 'w') as fout:\n",
    "    fout.write(json.dumps(ground_truth_cleaned))"
   ],
   "metadata": {
    "collapsed": false,
    "ExecuteTime": {
     "end_time": "2024-03-18T18:58:52.533231Z",
     "start_time": "2024-03-18T18:58:52.528745Z"
    }
   },
   "id": "de344ea6b099771c",
   "execution_count": 8
  },
  {
   "cell_type": "code",
   "outputs": [],
   "source": [],
   "metadata": {
    "collapsed": false,
    "ExecuteTime": {
     "end_time": "2024-03-18T18:58:52.535574Z",
     "start_time": "2024-03-18T18:58:52.534002Z"
    }
   },
   "id": "8fe44d25e5218821",
   "execution_count": 8
  }
 ],
 "metadata": {
  "kernelspec": {
   "display_name": "Python 3",
   "language": "python",
   "name": "python3"
  },
  "language_info": {
   "codemirror_mode": {
    "name": "ipython",
    "version": 2
   },
   "file_extension": ".py",
   "mimetype": "text/x-python",
   "name": "python",
   "nbconvert_exporter": "python",
   "pygments_lexer": "ipython2",
   "version": "2.7.6"
  }
 },
 "nbformat": 4,
 "nbformat_minor": 5
}
