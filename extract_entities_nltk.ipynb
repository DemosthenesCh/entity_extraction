{
 "cells": [
  {
   "cell_type": "code",
   "execution_count": 1,
   "id": "6eef6e262a94dba2",
   "metadata": {
    "ExecuteTime": {
     "end_time": "2024-03-18T04:39:21.373612Z",
     "start_time": "2024-03-18T04:39:20.780363Z"
    },
    "collapsed": false,
    "jupyter": {
     "outputs_hidden": false
    }
   },
   "outputs": [],
   "source": [
    "from collections import defaultdict\n",
    "import pandas as pd\n",
    "import nltk\n",
    "import numpy as np\n",
    "\n",
    "import util\n"
   ]
  },
  {
   "cell_type": "code",
   "execution_count": 2,
   "id": "f166647f8a2cdf39",
   "metadata": {
    "ExecuteTime": {
     "end_time": "2024-03-18T04:39:21.536631Z",
     "start_time": "2024-03-18T04:39:21.533174Z"
    },
    "collapsed": false,
    "jupyter": {
     "outputs_hidden": false
    }
   },
   "outputs": [],
   "source": [
    "data_config = util.get_data_config()"
   ]
  },
  {
   "cell_type": "code",
   "execution_count": 3,
   "id": "3581206dc0789c71",
   "metadata": {
    "ExecuteTime": {
     "end_time": "2024-03-18T04:39:21.717002Z",
     "start_time": "2024-03-18T04:39:21.561569Z"
    },
    "collapsed": false,
    "jupyter": {
     "outputs_hidden": false
    }
   },
   "outputs": [
    {
     "name": "stderr",
     "output_type": "stream",
     "text": [
      "[nltk_data] Downloading package punkt to\n",
      "[nltk_data]     /home/dimosthenis/nltk_data...\n",
      "[nltk_data]   Package punkt is already up-to-date!\n",
      "[nltk_data] Downloading package averaged_perceptron_tagger to\n",
      "[nltk_data]     /home/dimosthenis/nltk_data...\n",
      "[nltk_data]   Package averaged_perceptron_tagger is already up-to-\n",
      "[nltk_data]       date!\n",
      "[nltk_data] Downloading package brown to\n",
      "[nltk_data]     /home/dimosthenis/nltk_data...\n",
      "[nltk_data]   Package brown is already up-to-date!\n",
      "[nltk_data] Downloading package conll2000 to\n",
      "[nltk_data]     /home/dimosthenis/nltk_data...\n",
      "[nltk_data]   Package conll2000 is already up-to-date!\n"
     ]
    },
    {
     "data": {
      "text/plain": [
       "True"
      ]
     },
     "execution_count": 3,
     "metadata": {},
     "output_type": "execute_result"
    }
   ],
   "source": [
    "nltk.download(['punkt', 'averaged_perceptron_tagger'])\n",
    "# Optional\n",
    "nltk.download(['brown', 'conll2000',])"
   ]
  },
  {
   "cell_type": "markdown",
   "id": "144623f5-a98f-4a02-95ad-ea5e21b03ef9",
   "metadata": {},
   "source": [
    "# Load Data"
   ]
  },
  {
   "cell_type": "code",
   "execution_count": 4,
   "id": "49343491d8e9ded",
   "metadata": {
    "ExecuteTime": {
     "end_time": "2024-03-18T04:39:21.732690Z",
     "start_time": "2024-03-18T04:39:21.717996Z"
    },
    "collapsed": false,
    "jupyter": {
     "outputs_hidden": false
    }
   },
   "outputs": [
    {
     "data": {
      "text/plain": [
       "(51, 2)"
      ]
     },
     "execution_count": 4,
     "metadata": {},
     "output_type": "execute_result"
    }
   ],
   "source": [
    "summaries = pd.read_parquet(data_config['summaries_file_name'])\n",
    "summaries.shape"
   ]
  },
  {
   "cell_type": "code",
   "execution_count": 5,
   "id": "6df00e9249047aeb",
   "metadata": {
    "ExecuteTime": {
     "end_time": "2024-03-18T04:39:21.738071Z",
     "start_time": "2024-03-18T04:39:21.733370Z"
    },
    "collapsed": false,
    "jupyter": {
     "outputs_hidden": false
    }
   },
   "outputs": [
    {
     "data": {
      "text/html": [
       "<div>\n",
       "<style scoped>\n",
       "    .dataframe tbody tr th:only-of-type {\n",
       "        vertical-align: middle;\n",
       "    }\n",
       "\n",
       "    .dataframe tbody tr th {\n",
       "        vertical-align: top;\n",
       "    }\n",
       "\n",
       "    .dataframe thead th {\n",
       "        text-align: right;\n",
       "    }\n",
       "</style>\n",
       "<table border=\"1\" class=\"dataframe\">\n",
       "  <thead>\n",
       "    <tr style=\"text-align: right;\">\n",
       "      <th></th>\n",
       "      <th>nct_id</th>\n",
       "      <th>brief_summary</th>\n",
       "    </tr>\n",
       "  </thead>\n",
       "  <tbody>\n",
       "    <tr>\n",
       "      <th>0</th>\n",
       "      <td>NCT00037648</td>\n",
       "      <td>The purpose of this study is to determine the ...</td>\n",
       "    </tr>\n",
       "    <tr>\n",
       "      <th>1</th>\n",
       "      <td>NCT00048542</td>\n",
       "      <td>This is a multicenter, Phase 3 randomized, pla...</td>\n",
       "    </tr>\n",
       "    <tr>\n",
       "      <th>2</th>\n",
       "      <td>NCT00071487</td>\n",
       "      <td>The purpose of this study is to evaluate the s...</td>\n",
       "    </tr>\n",
       "    <tr>\n",
       "      <th>3</th>\n",
       "      <td>NCT00071812</td>\n",
       "      <td>The purpose of this study is to evaluate the s...</td>\n",
       "    </tr>\n",
       "    <tr>\n",
       "      <th>4</th>\n",
       "      <td>NCT00072839</td>\n",
       "      <td>The purpose of the study is to determine wheth...</td>\n",
       "    </tr>\n",
       "  </tbody>\n",
       "</table>\n",
       "</div>"
      ],
      "text/plain": [
       "        nct_id                                      brief_summary\n",
       "0  NCT00037648  The purpose of this study is to determine the ...\n",
       "1  NCT00048542  This is a multicenter, Phase 3 randomized, pla...\n",
       "2  NCT00071487  The purpose of this study is to evaluate the s...\n",
       "3  NCT00071812  The purpose of this study is to evaluate the s...\n",
       "4  NCT00072839  The purpose of the study is to determine wheth..."
      ]
     },
     "execution_count": 5,
     "metadata": {},
     "output_type": "execute_result"
    }
   ],
   "source": [
    "summaries.head()"
   ]
  },
  {
   "cell_type": "code",
   "execution_count": 6,
   "id": "3215eae9b2af0b2b",
   "metadata": {
    "ExecuteTime": {
     "end_time": "2024-03-18T04:39:22.925792Z",
     "start_time": "2024-03-18T04:39:22.907493Z"
    },
    "collapsed": false,
    "jupyter": {
     "outputs_hidden": false
    }
   },
   "outputs": [
    {
     "data": {
      "text/html": [
       "<div>\n",
       "<style scoped>\n",
       "    .dataframe tbody tr th:only-of-type {\n",
       "        vertical-align: middle;\n",
       "    }\n",
       "\n",
       "    .dataframe tbody tr th {\n",
       "        vertical-align: top;\n",
       "    }\n",
       "\n",
       "    .dataframe thead th {\n",
       "        text-align: right;\n",
       "    }\n",
       "</style>\n",
       "<table border=\"1\" class=\"dataframe\">\n",
       "  <thead>\n",
       "    <tr style=\"text-align: right;\">\n",
       "      <th></th>\n",
       "      <th>preferred_name</th>\n",
       "      <th>synonyms</th>\n",
       "    </tr>\n",
       "    <tr>\n",
       "      <th>id</th>\n",
       "      <th></th>\n",
       "      <th></th>\n",
       "    </tr>\n",
       "  </thead>\n",
       "  <tbody>\n",
       "    <tr>\n",
       "      <th>4.0</th>\n",
       "      <td>levobupivacaine</td>\n",
       "      <td>[chirocain, levobupivacaine, levobupivacaine H...</td>\n",
       "    </tr>\n",
       "    <tr>\n",
       "      <th>5.0</th>\n",
       "      <td>(S)-nicardipine</td>\n",
       "      <td>[(-)-Nicardipine, (-)-nicardipine, (S)-nicardi...</td>\n",
       "    </tr>\n",
       "    <tr>\n",
       "      <th>6.0</th>\n",
       "      <td>(S)-nitrendipine</td>\n",
       "      <td>[(-)-Nitrendipine, (-)-nitrendipine, (S)-nitre...</td>\n",
       "    </tr>\n",
       "    <tr>\n",
       "      <th>13.0</th>\n",
       "      <td>levdobutamine</td>\n",
       "      <td>[LY206243, levdobutamine, levdobutamine lactob...</td>\n",
       "    </tr>\n",
       "    <tr>\n",
       "      <th>21.0</th>\n",
       "      <td>aminopterin</td>\n",
       "      <td>[4-aminofolic acid, Aminofolic acid, 4-, amino...</td>\n",
       "    </tr>\n",
       "  </tbody>\n",
       "</table>\n",
       "</div>"
      ],
      "text/plain": [
       "        preferred_name                                           synonyms\n",
       "id                                                                       \n",
       "4.0    levobupivacaine  [chirocain, levobupivacaine, levobupivacaine H...\n",
       "5.0    (S)-nicardipine  [(-)-Nicardipine, (-)-nicardipine, (S)-nicardi...\n",
       "6.0   (S)-nitrendipine  [(-)-Nitrendipine, (-)-nitrendipine, (S)-nitre...\n",
       "13.0     levdobutamine  [LY206243, levdobutamine, levdobutamine lactob...\n",
       "21.0       aminopterin  [4-aminofolic acid, Aminofolic acid, 4-, amino..."
      ]
     },
     "execution_count": 6,
     "metadata": {},
     "output_type": "execute_result"
    }
   ],
   "source": [
    "synonyms_df = pd.read_parquet(data_config['processed_synonyms_file_name'])\n",
    "synonyms_df.head()"
   ]
  },
  {
   "cell_type": "code",
   "execution_count": 7,
   "id": "6d054a49288a7db7",
   "metadata": {
    "ExecuteTime": {
     "end_time": "2024-03-18T04:39:22.949872Z",
     "start_time": "2024-03-18T04:39:22.943021Z"
    },
    "collapsed": false,
    "jupyter": {
     "outputs_hidden": false
    }
   },
   "outputs": [
    {
     "data": {
      "text/html": [
       "<div>\n",
       "<style scoped>\n",
       "    .dataframe tbody tr th:only-of-type {\n",
       "        vertical-align: middle;\n",
       "    }\n",
       "\n",
       "    .dataframe tbody tr th {\n",
       "        vertical-align: top;\n",
       "    }\n",
       "\n",
       "    .dataframe thead th {\n",
       "        text-align: right;\n",
       "    }\n",
       "</style>\n",
       "<table border=\"1\" class=\"dataframe\">\n",
       "  <thead>\n",
       "    <tr style=\"text-align: right;\">\n",
       "      <th></th>\n",
       "      <th>preferred_name</th>\n",
       "      <th>synonyms</th>\n",
       "    </tr>\n",
       "    <tr>\n",
       "      <th>id</th>\n",
       "      <th></th>\n",
       "      <th></th>\n",
       "    </tr>\n",
       "  </thead>\n",
       "  <tbody>\n",
       "    <tr>\n",
       "      <th>4.0</th>\n",
       "      <td>levobupivacaine</td>\n",
       "      <td>[chirocain, levobupivacaine, levobupivacaine H...</td>\n",
       "    </tr>\n",
       "    <tr>\n",
       "      <th>5.0</th>\n",
       "      <td>(S)-nicardipine</td>\n",
       "      <td>[(-)-Nicardipine, (-)-nicardipine, (S)-nicardi...</td>\n",
       "    </tr>\n",
       "    <tr>\n",
       "      <th>6.0</th>\n",
       "      <td>(S)-nitrendipine</td>\n",
       "      <td>[(-)-Nitrendipine, (-)-nitrendipine, (S)-nitre...</td>\n",
       "    </tr>\n",
       "    <tr>\n",
       "      <th>13.0</th>\n",
       "      <td>levdobutamine</td>\n",
       "      <td>[LY206243, levdobutamine, levdobutamine lactob...</td>\n",
       "    </tr>\n",
       "    <tr>\n",
       "      <th>21.0</th>\n",
       "      <td>aminopterin</td>\n",
       "      <td>[4-aminofolic acid, Aminofolic acid, 4-, amino...</td>\n",
       "    </tr>\n",
       "    <tr>\n",
       "      <th>...</th>\n",
       "      <td>...</td>\n",
       "      <td>...</td>\n",
       "    </tr>\n",
       "    <tr>\n",
       "      <th>5739.0</th>\n",
       "      <td>avacincaptad pegol</td>\n",
       "      <td>[ARC1905, arc1905, avacincaptad pegol, avacinc...</td>\n",
       "    </tr>\n",
       "    <tr>\n",
       "      <th>5740.0</th>\n",
       "      <td>pozelimab</td>\n",
       "      <td>[REGN3918, pozelimab, pozelimab-bbfg, regn3918...</td>\n",
       "    </tr>\n",
       "    <tr>\n",
       "      <th>5741.0</th>\n",
       "      <td>elranatamab</td>\n",
       "      <td>[PF-06863135, RN613, elranatamab, elranatamab-...</td>\n",
       "    </tr>\n",
       "    <tr>\n",
       "      <th>5742.0</th>\n",
       "      <td>talquetamab</td>\n",
       "      <td>[JNJ-64407564, jnj-64407564, talquetamab, talq...</td>\n",
       "    </tr>\n",
       "    <tr>\n",
       "      <th>5743.0</th>\n",
       "      <td>cantharidin</td>\n",
       "      <td>[cantharidin, ycanth]</td>\n",
       "    </tr>\n",
       "  </tbody>\n",
       "</table>\n",
       "<p>4992 rows × 2 columns</p>\n",
       "</div>"
      ],
      "text/plain": [
       "            preferred_name                                           synonyms\n",
       "id                                                                           \n",
       "4.0        levobupivacaine  [chirocain, levobupivacaine, levobupivacaine H...\n",
       "5.0        (S)-nicardipine  [(-)-Nicardipine, (-)-nicardipine, (S)-nicardi...\n",
       "6.0       (S)-nitrendipine  [(-)-Nitrendipine, (-)-nitrendipine, (S)-nitre...\n",
       "13.0         levdobutamine  [LY206243, levdobutamine, levdobutamine lactob...\n",
       "21.0           aminopterin  [4-aminofolic acid, Aminofolic acid, 4-, amino...\n",
       "...                    ...                                                ...\n",
       "5739.0  avacincaptad pegol  [ARC1905, arc1905, avacincaptad pegol, avacinc...\n",
       "5740.0           pozelimab  [REGN3918, pozelimab, pozelimab-bbfg, regn3918...\n",
       "5741.0         elranatamab  [PF-06863135, RN613, elranatamab, elranatamab-...\n",
       "5742.0         talquetamab  [JNJ-64407564, jnj-64407564, talquetamab, talq...\n",
       "5743.0         cantharidin                              [cantharidin, ycanth]\n",
       "\n",
       "[4992 rows x 2 columns]"
      ]
     },
     "execution_count": 7,
     "metadata": {},
     "output_type": "execute_result"
    }
   ],
   "source": [
    "synonyms_df"
   ]
  },
  {
   "cell_type": "code",
   "execution_count": 8,
   "id": "95c4037f623a6d75",
   "metadata": {
    "ExecuteTime": {
     "end_time": "2024-03-18T04:39:22.983046Z",
     "start_time": "2024-03-18T04:39:22.962756Z"
    },
    "collapsed": false,
    "jupyter": {
     "outputs_hidden": false
    }
   },
   "outputs": [
    {
     "name": "stdout",
     "output_type": "stream",
     "text": [
      "vocabulary size: 22449\n",
      "extra characters['&', \"'\", '(', ')', '+', ',', '-', '.', '/', '0', '1', '2', '3', '4', '5', '6', '7', '8', '9', ':', '<', '>', '[', ']', '–']\n"
     ]
    }
   ],
   "source": [
    "word_set = set(\n",
    "    word\n",
    "    for synonyms in synonyms_df['synonyms']\n",
    "    for synonym in synonyms\n",
    "    for word in synonym.split()\n",
    ")\n",
    "print(f'vocabulary size: {len(word_set)}')\n",
    "characters = set([char for word in word_set for char in word])\n",
    "extra_characters = [char for char in characters if not char.isalpha()]\n",
    "print(f'extra characters{sorted(extra_characters)}')"
   ]
  },
  {
   "cell_type": "code",
   "execution_count": 9,
   "id": "45a581158339c8b6",
   "metadata": {
    "ExecuteTime": {
     "end_time": "2024-03-18T04:39:24.479578Z",
     "start_time": "2024-03-18T04:39:23.039867Z"
    },
    "collapsed": false,
    "jupyter": {
     "outputs_hidden": false
    }
   },
   "outputs": [],
   "source": [
    "# tagged_synonyms = []\n",
    "# max_synonym_tokens = 0\n",
    "# for synonyms in synonyms_df['synonyms']:\n",
    "#     tags = []\n",
    "#     for synonym in synonyms:\n",
    "#         tokens = nltk.word_tokenize(synonym)\n",
    "#         max_synonym_tokens = max(len(tokens), max_synonym_tokens)\n",
    "#         for token in tokens[:-1]:\n",
    "#             tags.append((token, f'C{len(tokens)}S'))\n",
    "            \n",
    "#         for token in tokens[-1:]:\n",
    "#             tags.append((token, f'C{len(tokens)}E'))\n",
    "#     tagged_synonyms.append(tags)\n",
    "# max_synonym_tokens"
   ]
  },
  {
   "cell_type": "code",
   "execution_count": null,
   "id": "26dd4adc17b311b8",
   "metadata": {
    "ExecuteTime": {
     "end_time": "2024-03-18T04:39:24.739279Z",
     "start_time": "2024-03-18T04:39:24.737447Z"
    },
    "collapsed": false,
    "jupyter": {
     "outputs_hidden": false
    }
   },
   "outputs": [],
   "source": []
  },
  {
   "cell_type": "code",
   "execution_count": 10,
   "id": "1e385dadddce8729",
   "metadata": {
    "ExecuteTime": {
     "end_time": "2024-03-18T04:39:26.313300Z",
     "start_time": "2024-03-18T04:39:24.740163Z"
    },
    "collapsed": false,
    "jupyter": {
     "outputs_hidden": false
    }
   },
   "outputs": [
    {
     "data": {
      "text/html": [
       "<div>\n",
       "<style scoped>\n",
       "    .dataframe tbody tr th:only-of-type {\n",
       "        vertical-align: middle;\n",
       "    }\n",
       "\n",
       "    .dataframe tbody tr th {\n",
       "        vertical-align: top;\n",
       "    }\n",
       "\n",
       "    .dataframe thead th {\n",
       "        text-align: right;\n",
       "    }\n",
       "</style>\n",
       "<table border=\"1\" class=\"dataframe\">\n",
       "  <thead>\n",
       "    <tr style=\"text-align: right;\">\n",
       "      <th></th>\n",
       "      <th>synonym</th>\n",
       "      <th>tokens</th>\n",
       "      <th>token_count</th>\n",
       "    </tr>\n",
       "  </thead>\n",
       "  <tbody>\n",
       "    <tr>\n",
       "      <th>0</th>\n",
       "      <td>chirocain</td>\n",
       "      <td>[chirocain]</td>\n",
       "      <td>1</td>\n",
       "    </tr>\n",
       "    <tr>\n",
       "      <th>1</th>\n",
       "      <td>levobupivacaine</td>\n",
       "      <td>[levobupivacaine]</td>\n",
       "      <td>1</td>\n",
       "    </tr>\n",
       "    <tr>\n",
       "      <th>2</th>\n",
       "      <td>levobupivacaine HCl</td>\n",
       "      <td>[levobupivacaine, HCl]</td>\n",
       "      <td>2</td>\n",
       "    </tr>\n",
       "    <tr>\n",
       "      <th>3</th>\n",
       "      <td>levobupivacaine hcl</td>\n",
       "      <td>[levobupivacaine, hcl]</td>\n",
       "      <td>2</td>\n",
       "    </tr>\n",
       "    <tr>\n",
       "      <th>4</th>\n",
       "      <td>levobupivacaine hydrochloride</td>\n",
       "      <td>[levobupivacaine, hydrochloride]</td>\n",
       "      <td>2</td>\n",
       "    </tr>\n",
       "    <tr>\n",
       "      <th>5</th>\n",
       "      <td>(-)-Nicardipine</td>\n",
       "      <td>[(, -, ), -Nicardipine]</td>\n",
       "      <td>4</td>\n",
       "    </tr>\n",
       "    <tr>\n",
       "      <th>6</th>\n",
       "      <td>(-)-nicardipine</td>\n",
       "      <td>[(, -, ), -nicardipine]</td>\n",
       "      <td>4</td>\n",
       "    </tr>\n",
       "    <tr>\n",
       "      <th>7</th>\n",
       "      <td>(S)-nicardipine</td>\n",
       "      <td>[(, S, ), -nicardipine]</td>\n",
       "      <td>4</td>\n",
       "    </tr>\n",
       "    <tr>\n",
       "      <th>8</th>\n",
       "      <td>(s)-nicardipine</td>\n",
       "      <td>[(, s, ), -nicardipine]</td>\n",
       "      <td>4</td>\n",
       "    </tr>\n",
       "    <tr>\n",
       "      <th>9</th>\n",
       "      <td>(-)-Nitrendipine</td>\n",
       "      <td>[(, -, ), -Nitrendipine]</td>\n",
       "      <td>4</td>\n",
       "    </tr>\n",
       "  </tbody>\n",
       "</table>\n",
       "</div>"
      ],
      "text/plain": [
       "                         synonym                            tokens  \\\n",
       "0                      chirocain                       [chirocain]   \n",
       "1                levobupivacaine                 [levobupivacaine]   \n",
       "2            levobupivacaine HCl            [levobupivacaine, HCl]   \n",
       "3            levobupivacaine hcl            [levobupivacaine, hcl]   \n",
       "4  levobupivacaine hydrochloride  [levobupivacaine, hydrochloride]   \n",
       "5                (-)-Nicardipine           [(, -, ), -Nicardipine]   \n",
       "6                (-)-nicardipine           [(, -, ), -nicardipine]   \n",
       "7                (S)-nicardipine           [(, S, ), -nicardipine]   \n",
       "8                (s)-nicardipine           [(, s, ), -nicardipine]   \n",
       "9               (-)-Nitrendipine          [(, -, ), -Nitrendipine]   \n",
       "\n",
       "   token_count  \n",
       "0            1  \n",
       "1            1  \n",
       "2            2  \n",
       "3            2  \n",
       "4            2  \n",
       "5            4  \n",
       "6            4  \n",
       "7            4  \n",
       "8            4  \n",
       "9            4  "
      ]
     },
     "execution_count": 10,
     "metadata": {},
     "output_type": "execute_result"
    }
   ],
   "source": [
    "all_tokens = []\n",
    "all_synonyms = []\n",
    "dataset_by_ngram = defaultdict(list)\n",
    "for synonyms in synonyms_df['synonyms']:\n",
    "    for synonym in synonyms:\n",
    "        tokens = nltk.word_tokenize(synonym)\n",
    "        all_tokens.append(tokens)\n",
    "        all_synonyms.append(synonym)\n",
    "        tags = []\n",
    "        for token in tokens[:-1]:\n",
    "            # tags.append((token, f'C-{len(tokens)}-S'))\n",
    "            tags.append((token, f'C{len(tokens)}S'))\n",
    "            \n",
    "        for token in tokens[-1:]:\n",
    "            # tags.append((token, f'C-{len(tokens)}-E'))\n",
    "            tags.append((token, f'C{len(tokens)}E'))\n",
    "        \n",
    "        assert len(tags) == len(tokens)\n",
    "        dataset_by_ngram[len(tags)].append(tags)\n",
    "\n",
    "syn_counts_df = pd.DataFrame({\n",
    "    'synonym': all_synonyms,\n",
    "    'tokens': all_tokens,\n",
    "})\n",
    "syn_counts_df['token_count'] = syn_counts_df['tokens'].map(len)\n",
    "syn_counts_df.head(10)"
   ]
  },
  {
   "cell_type": "markdown",
   "id": "520c3dbb-0e9c-4eff-85ff-b0eda16b7f58",
   "metadata": {
    "ExecuteTime": {
     "end_time": "2024-03-18T04:39:26.316091Z",
     "start_time": "2024-03-18T04:39:26.314385Z"
    },
    "collapsed": false,
    "jupyter": {
     "outputs_hidden": false
    }
   },
   "source": [
    "# NgramTagger that uses N-1 tokens (instead of N-1 tags). "
   ]
  },
  {
   "cell_type": "code",
   "execution_count": 11,
   "id": "90d1407a521549aa",
   "metadata": {
    "ExecuteTime": {
     "end_time": "2024-03-18T04:39:26.321566Z",
     "start_time": "2024-03-18T04:39:26.316977Z"
    },
    "collapsed": false,
    "jupyter": {
     "outputs_hidden": false
    }
   },
   "outputs": [],
   "source": [
    "def parse(text, parser, tagger):\n",
    "    tagged = tagger.tag(nltk.word_tokenize(text))\n",
    "    tree = parser.parse(tagged)\n",
    "    return tree\n",
    "\n",
    "def extract_grouped_terms(tree: nltk.Tree, group_tag: str = 'GROUP') -> list[str]:\n",
    "    terms = []\n",
    "    for subtree in tree:\n",
    "        if type(subtree) != nltk.Tree:\n",
    "            continue\n",
    "        if subtree.label() != group_tag:\n",
    "            continue\n",
    "        term = ''.join([leaf[0] for leaf in subtree.leaves()])\n",
    "        terms.append(term)\n",
    "    return terms\n",
    "\n",
    "class WordNgramTagger(nltk.NgramTagger):\n",
    "    \"\"\"\n",
    "    My override of the NLTK NgramTagger class that considers previous\n",
    "    tokens rather than previous tags for context.\n",
    "    \"\"\"\n",
    "    def __init__(self, n, train=None, model=None,\n",
    "                 backoff=None, cutoff=0, verbose=False):\n",
    "        nltk.NgramTagger.__init__(self, n, train, model, backoff, cutoff, verbose)\n",
    "\n",
    "    def context(self, tokens, index, history):\n",
    "        tag_context = tuple(tokens[max(0,index-self._n+1):index])\n",
    "        return tag_context, tokens[index]\n",
    "    "
   ]
  },
  {
   "cell_type": "code",
   "execution_count": null,
   "id": "888bd896-cb22-40b4-b5af-bceb6bfa25d4",
   "metadata": {},
   "outputs": [],
   "source": []
  },
  {
   "cell_type": "code",
   "execution_count": 12,
   "id": "5791a7cdaca36531",
   "metadata": {
    "ExecuteTime": {
     "end_time": "2024-03-18T04:39:26.604445Z",
     "start_time": "2024-03-18T04:39:26.322569Z"
    },
    "collapsed": false,
    "jupyter": {
     "outputs_hidden": false
    }
   },
   "outputs": [
    {
     "name": "stdout",
     "output_type": "stream",
     "text": [
      "1\n",
      "2\n",
      "3\n",
      "4\n",
      "5\n",
      "6\n",
      "7\n",
      "8\n",
      "9\n",
      "14\n",
      "19\n"
     ]
    }
   ],
   "source": [
    "taggers = [nltk.DefaultTagger('O')]\n",
    "for n in sorted(dataset_by_ngram.keys()):\n",
    "    print(n)\n",
    "    train = dataset_by_ngram[n]\n",
    "    # ngram_tagger = nltk.NgramTagger(n=n, train=train, backoff=taggers[-1])\n",
    "    ngram_tagger = WordNgramTagger(n=n, train=train, backoff=taggers[-1])\n",
    "    taggers.append(ngram_tagger)\n",
    "\n",
    "tagger = taggers[-1]"
   ]
  },
  {
   "cell_type": "code",
   "execution_count": 13,
   "id": "32cff793-0113-436e-8771-406ad0a33e78",
   "metadata": {},
   "outputs": [
    {
     "name": "stdout",
     "output_type": "stream",
     "text": [
      "GROUP: {<C1E>}\n",
      "{<C\\dS>{0}<C1E>}\n",
      "{<C\\dS>{1}<C2E>}\n",
      "{<C\\dS>{3}<C4E>}\n",
      "{<C\\dS>{2}<C3E>}\n",
      "{<C\\dS>{4}<C5E>}\n",
      "{<C\\dS>{13}<C14E>}\n",
      "{<C\\dS>{5}<C6E>}\n",
      "{<C\\dS>{7}<C8E>}\n",
      "{<C\\dS>{6}<C7E>}\n",
      "{<C\\dS>{8}<C9E>}\n",
      "{<C\\dS>{18}<C19E>}\n"
     ]
    }
   ],
   "source": [
    "grammar = '''GROUP: {<C1E>}'''\n",
    "for num_tokens in dataset_by_ngram.keys():\n",
    "    grammar += '\\n{<C\\dS>{' + str(num_tokens-1) + '}<C' + str(num_tokens) + 'E>}'\n",
    "print(grammar)\n",
    "regexp_parser = nltk.RegexpParser(grammar)"
   ]
  },
  {
   "cell_type": "code",
   "execution_count": 14,
   "id": "787db1b2234c5fef",
   "metadata": {
    "ExecuteTime": {
     "end_time": "2024-03-18T04:39:30.293349Z",
     "start_time": "2024-03-18T04:39:26.605488Z"
    },
    "collapsed": false,
    "jupyter": {
     "outputs_hidden": false
    }
   },
   "outputs": [],
   "source": [
    "all_terms = [\n",
    "    synonym\n",
    "    for synonyms in synonyms_df['synonyms']\n",
    "    for synonym in synonyms\n",
    "]\n",
    "all_trees = [\n",
    "    parse(term, parser=regexp_parser, tagger=tagger)\n",
    "    for term in all_terms\n",
    "]\n",
    "extracted = [\n",
    "    extract_grouped_terms(tree) for tree in all_trees\n",
    "]\n",
    "\n",
    "df = pd.DataFrame({\n",
    "    'term': all_terms,\n",
    "    'tree': all_trees,\n",
    "    'extracted': extracted\n",
    "})"
   ]
  },
  {
   "cell_type": "code",
   "execution_count": 15,
   "id": "db5c8d1bf0e7db68",
   "metadata": {
    "ExecuteTime": {
     "end_time": "2024-03-18T04:39:30.303356Z",
     "start_time": "2024-03-18T04:39:30.294505Z"
    },
    "collapsed": false,
    "jupyter": {
     "outputs_hidden": false
    }
   },
   "outputs": [
    {
     "data": {
      "text/plain": [
       "extracted_count\n",
       "1    24791\n",
       "0     2624\n",
       "Name: count, dtype: int64"
      ]
     },
     "execution_count": 15,
     "metadata": {},
     "output_type": "execute_result"
    }
   ],
   "source": [
    "df['extracted_count'] = df['extracted'].map(len)\n",
    "df['extracted_count'].value_counts()"
   ]
  },
  {
   "cell_type": "code",
   "execution_count": 16,
   "id": "f86cc69ba3537ba0",
   "metadata": {
    "ExecuteTime": {
     "end_time": "2024-03-18T04:39:30.324734Z",
     "start_time": "2024-03-18T04:39:30.304193Z"
    },
    "collapsed": false,
    "jupyter": {
     "outputs_hidden": false
    }
   },
   "outputs": [
    {
     "data": {
      "text/html": [
       "<div>\n",
       "<style scoped>\n",
       "    .dataframe tbody tr th:only-of-type {\n",
       "        vertical-align: middle;\n",
       "    }\n",
       "\n",
       "    .dataframe tbody tr th {\n",
       "        vertical-align: top;\n",
       "    }\n",
       "\n",
       "    .dataframe thead th {\n",
       "        text-align: right;\n",
       "    }\n",
       "</style>\n",
       "<table border=\"1\" class=\"dataframe\">\n",
       "  <thead>\n",
       "    <tr style=\"text-align: right;\">\n",
       "      <th></th>\n",
       "      <th>term</th>\n",
       "      <th>tree</th>\n",
       "      <th>extracted</th>\n",
       "      <th>extracted_count</th>\n",
       "    </tr>\n",
       "  </thead>\n",
       "  <tbody>\n",
       "    <tr>\n",
       "      <th>0</th>\n",
       "      <td>chirocain</td>\n",
       "      <td>[[(chirocain, C1E)]]</td>\n",
       "      <td>[chirocain]</td>\n",
       "      <td>1</td>\n",
       "    </tr>\n",
       "    <tr>\n",
       "      <th>1</th>\n",
       "      <td>levobupivacaine</td>\n",
       "      <td>[(levobupivacaine, C2S)]</td>\n",
       "      <td>[]</td>\n",
       "      <td>0</td>\n",
       "    </tr>\n",
       "    <tr>\n",
       "      <th>2</th>\n",
       "      <td>levobupivacaine HCl</td>\n",
       "      <td>[[(levobupivacaine, C2S), (HCl, C2E)]]</td>\n",
       "      <td>[levobupivacaineHCl]</td>\n",
       "      <td>1</td>\n",
       "    </tr>\n",
       "    <tr>\n",
       "      <th>3</th>\n",
       "      <td>levobupivacaine hcl</td>\n",
       "      <td>[[(levobupivacaine, C2S), (hcl, C2E)]]</td>\n",
       "      <td>[levobupivacainehcl]</td>\n",
       "      <td>1</td>\n",
       "    </tr>\n",
       "    <tr>\n",
       "      <th>4</th>\n",
       "      <td>levobupivacaine hydrochloride</td>\n",
       "      <td>[[(levobupivacaine, C2S), (hydrochloride, C2E)]]</td>\n",
       "      <td>[levobupivacainehydrochloride]</td>\n",
       "      <td>1</td>\n",
       "    </tr>\n",
       "    <tr>\n",
       "      <th>5</th>\n",
       "      <td>(-)-Nicardipine</td>\n",
       "      <td>[[((, C9S), (-, C9S), (), C9S), (-Nicardipine,...</td>\n",
       "      <td>[(-)-Nicardipine]</td>\n",
       "      <td>1</td>\n",
       "    </tr>\n",
       "    <tr>\n",
       "      <th>6</th>\n",
       "      <td>(-)-nicardipine</td>\n",
       "      <td>[[((, C9S), (-, C9S), (), C9S), (-nicardipine,...</td>\n",
       "      <td>[(-)-nicardipine]</td>\n",
       "      <td>1</td>\n",
       "    </tr>\n",
       "    <tr>\n",
       "      <th>7</th>\n",
       "      <td>(S)-nicardipine</td>\n",
       "      <td>[[((, C9S), (S, C8S), (), C8S), (-nicardipine,...</td>\n",
       "      <td>[(S)-nicardipine]</td>\n",
       "      <td>1</td>\n",
       "    </tr>\n",
       "    <tr>\n",
       "      <th>8</th>\n",
       "      <td>(s)-nicardipine</td>\n",
       "      <td>[[((, C9S), (s, C8S), (), C8S), (-nicardipine,...</td>\n",
       "      <td>[(s)-nicardipine]</td>\n",
       "      <td>1</td>\n",
       "    </tr>\n",
       "    <tr>\n",
       "      <th>9</th>\n",
       "      <td>(-)-Nitrendipine</td>\n",
       "      <td>[[((, C9S), (-, C9S), (), C9S), (-Nitrendipine...</td>\n",
       "      <td>[(-)-Nitrendipine]</td>\n",
       "      <td>1</td>\n",
       "    </tr>\n",
       "  </tbody>\n",
       "</table>\n",
       "</div>"
      ],
      "text/plain": [
       "                            term  \\\n",
       "0                      chirocain   \n",
       "1                levobupivacaine   \n",
       "2            levobupivacaine HCl   \n",
       "3            levobupivacaine hcl   \n",
       "4  levobupivacaine hydrochloride   \n",
       "5                (-)-Nicardipine   \n",
       "6                (-)-nicardipine   \n",
       "7                (S)-nicardipine   \n",
       "8                (s)-nicardipine   \n",
       "9               (-)-Nitrendipine   \n",
       "\n",
       "                                                tree  \\\n",
       "0                               [[(chirocain, C1E)]]   \n",
       "1                           [(levobupivacaine, C2S)]   \n",
       "2             [[(levobupivacaine, C2S), (HCl, C2E)]]   \n",
       "3             [[(levobupivacaine, C2S), (hcl, C2E)]]   \n",
       "4   [[(levobupivacaine, C2S), (hydrochloride, C2E)]]   \n",
       "5  [[((, C9S), (-, C9S), (), C9S), (-Nicardipine,...   \n",
       "6  [[((, C9S), (-, C9S), (), C9S), (-nicardipine,...   \n",
       "7  [[((, C9S), (S, C8S), (), C8S), (-nicardipine,...   \n",
       "8  [[((, C9S), (s, C8S), (), C8S), (-nicardipine,...   \n",
       "9  [[((, C9S), (-, C9S), (), C9S), (-Nitrendipine...   \n",
       "\n",
       "                        extracted  extracted_count  \n",
       "0                     [chirocain]                1  \n",
       "1                              []                0  \n",
       "2            [levobupivacaineHCl]                1  \n",
       "3            [levobupivacainehcl]                1  \n",
       "4  [levobupivacainehydrochloride]                1  \n",
       "5               [(-)-Nicardipine]                1  \n",
       "6               [(-)-nicardipine]                1  \n",
       "7               [(S)-nicardipine]                1  \n",
       "8               [(s)-nicardipine]                1  \n",
       "9              [(-)-Nitrendipine]                1  "
      ]
     },
     "execution_count": 16,
     "metadata": {},
     "output_type": "execute_result"
    }
   ],
   "source": [
    "df.head(10)"
   ]
  },
  {
   "cell_type": "code",
   "execution_count": 17,
   "id": "f2d0beb32394818b",
   "metadata": {
    "ExecuteTime": {
     "end_time": "2024-03-18T04:39:30.479697Z",
     "start_time": "2024-03-18T04:39:30.325544Z"
    },
    "collapsed": false,
    "jupyter": {
     "outputs_hidden": false
    }
   },
   "outputs": [
    {
     "name": "stdout",
     "output_type": "stream",
     "text": [
      "Accuracy: 90.43%\n"
     ]
    }
   ],
   "source": [
    "def is_correct(term: str, extracted: list[str]) -> bool:\n",
    "    if not extracted:\n",
    "        return False\n",
    "    return term.replace(' ', '') == extracted[0]\n",
    "df['correct'] = df.apply(lambda row: is_correct(row['term'], row['extracted']), axis=1)\n",
    "print(f'Accuracy: {df.correct.mean():.2%}')"
   ]
  },
  {
   "cell_type": "code",
   "execution_count": 18,
   "id": "a24ecda350459642",
   "metadata": {
    "ExecuteTime": {
     "end_time": "2024-03-18T04:39:31.902059Z",
     "start_time": "2024-03-18T04:39:30.480797Z"
    },
    "collapsed": false,
    "jupyter": {
     "outputs_hidden": false
    }
   },
   "outputs": [],
   "source": [
    "df['term_token_count'] = df['term'].map(lambda term: len(nltk.word_tokenize(term)))"
   ]
  },
  {
   "cell_type": "code",
   "execution_count": 19,
   "id": "f7319219d0615388",
   "metadata": {
    "ExecuteTime": {
     "end_time": "2024-03-18T04:39:31.908833Z",
     "start_time": "2024-03-18T04:39:31.903017Z"
    },
    "collapsed": false,
    "jupyter": {
     "outputs_hidden": false
    }
   },
   "outputs": [
    {
     "data": {
      "text/plain": [
       "term_token_count\n",
       "1     2216\n",
       "2      372\n",
       "3       28\n",
       "4        4\n",
       "14       2\n",
       "19       2\n",
       "Name: count, dtype: int64"
      ]
     },
     "execution_count": 19,
     "metadata": {},
     "output_type": "execute_result"
    }
   ],
   "source": [
    "df[df['extracted_count']==0].term_token_count.value_counts()"
   ]
  },
  {
   "cell_type": "code",
   "execution_count": 20,
   "id": "5907318b3563ca41",
   "metadata": {
    "ExecuteTime": {
     "end_time": "2024-03-18T04:39:31.927800Z",
     "start_time": "2024-03-18T04:39:31.909702Z"
    },
    "collapsed": false,
    "jupyter": {
     "outputs_hidden": false
    }
   },
   "outputs": [
    {
     "data": {
      "text/html": [
       "<div>\n",
       "<style scoped>\n",
       "    .dataframe tbody tr th:only-of-type {\n",
       "        vertical-align: middle;\n",
       "    }\n",
       "\n",
       "    .dataframe tbody tr th {\n",
       "        vertical-align: top;\n",
       "    }\n",
       "\n",
       "    .dataframe thead th {\n",
       "        text-align: right;\n",
       "    }\n",
       "</style>\n",
       "<table border=\"1\" class=\"dataframe\">\n",
       "  <thead>\n",
       "    <tr style=\"text-align: right;\">\n",
       "      <th></th>\n",
       "      <th>term</th>\n",
       "      <th>tree</th>\n",
       "      <th>extracted</th>\n",
       "      <th>extracted_count</th>\n",
       "      <th>correct</th>\n",
       "      <th>term_token_count</th>\n",
       "    </tr>\n",
       "  </thead>\n",
       "  <tbody>\n",
       "    <tr>\n",
       "      <th>1</th>\n",
       "      <td>levobupivacaine</td>\n",
       "      <td>[(levobupivacaine, C2S)]</td>\n",
       "      <td>[]</td>\n",
       "      <td>0</td>\n",
       "      <td>False</td>\n",
       "      <td>1</td>\n",
       "    </tr>\n",
       "    <tr>\n",
       "      <th>14</th>\n",
       "      <td>levdobutamine</td>\n",
       "      <td>[(levdobutamine, C2S)]</td>\n",
       "      <td>[]</td>\n",
       "      <td>0</td>\n",
       "      <td>False</td>\n",
       "      <td>1</td>\n",
       "    </tr>\n",
       "    <tr>\n",
       "      <th>20</th>\n",
       "      <td>aminopterin</td>\n",
       "      <td>[(aminopterin, C2S)]</td>\n",
       "      <td>[]</td>\n",
       "      <td>0</td>\n",
       "      <td>False</td>\n",
       "      <td>1</td>\n",
       "    </tr>\n",
       "    <tr>\n",
       "      <th>56</th>\n",
       "      <td>5-fluorouracil</td>\n",
       "      <td>[(5-fluorouracil, C2S)]</td>\n",
       "      <td>[]</td>\n",
       "      <td>0</td>\n",
       "      <td>False</td>\n",
       "      <td>1</td>\n",
       "    </tr>\n",
       "    <tr>\n",
       "      <th>89</th>\n",
       "      <td>abacavir</td>\n",
       "      <td>[(abacavir, C2S)]</td>\n",
       "      <td>[]</td>\n",
       "      <td>0</td>\n",
       "      <td>False</td>\n",
       "      <td>1</td>\n",
       "    </tr>\n",
       "    <tr>\n",
       "      <th>...</th>\n",
       "      <td>...</td>\n",
       "      <td>...</td>\n",
       "      <td>...</td>\n",
       "      <td>...</td>\n",
       "      <td>...</td>\n",
       "      <td>...</td>\n",
       "    </tr>\n",
       "    <tr>\n",
       "      <th>27319</th>\n",
       "      <td>ensitrelvir</td>\n",
       "      <td>[(ensitrelvir, C3S)]</td>\n",
       "      <td>[]</td>\n",
       "      <td>0</td>\n",
       "      <td>False</td>\n",
       "      <td>1</td>\n",
       "    </tr>\n",
       "    <tr>\n",
       "      <th>27327</th>\n",
       "      <td>ritlecitinib</td>\n",
       "      <td>[(ritlecitinib, C2S)]</td>\n",
       "      <td>[]</td>\n",
       "      <td>0</td>\n",
       "      <td>False</td>\n",
       "      <td>1</td>\n",
       "    </tr>\n",
       "    <tr>\n",
       "      <th>27347</th>\n",
       "      <td>durlobactam</td>\n",
       "      <td>[(durlobactam, C2S)]</td>\n",
       "      <td>[]</td>\n",
       "      <td>0</td>\n",
       "      <td>False</td>\n",
       "      <td>1</td>\n",
       "    </tr>\n",
       "    <tr>\n",
       "      <th>27358</th>\n",
       "      <td>tofersen</td>\n",
       "      <td>[(tofersen, C2S)]</td>\n",
       "      <td>[]</td>\n",
       "      <td>0</td>\n",
       "      <td>False</td>\n",
       "      <td>1</td>\n",
       "    </tr>\n",
       "    <tr>\n",
       "      <th>27393</th>\n",
       "      <td>avacincaptad pegol</td>\n",
       "      <td>[(avacincaptad, C3S), (pegol, C3S)]</td>\n",
       "      <td>[]</td>\n",
       "      <td>0</td>\n",
       "      <td>False</td>\n",
       "      <td>2</td>\n",
       "    </tr>\n",
       "  </tbody>\n",
       "</table>\n",
       "<p>2624 rows × 6 columns</p>\n",
       "</div>"
      ],
      "text/plain": [
       "                     term                                 tree extracted  \\\n",
       "1         levobupivacaine             [(levobupivacaine, C2S)]        []   \n",
       "14          levdobutamine               [(levdobutamine, C2S)]        []   \n",
       "20            aminopterin                 [(aminopterin, C2S)]        []   \n",
       "56         5-fluorouracil              [(5-fluorouracil, C2S)]        []   \n",
       "89               abacavir                    [(abacavir, C2S)]        []   \n",
       "...                   ...                                  ...       ...   \n",
       "27319         ensitrelvir                 [(ensitrelvir, C3S)]        []   \n",
       "27327        ritlecitinib                [(ritlecitinib, C2S)]        []   \n",
       "27347         durlobactam                 [(durlobactam, C2S)]        []   \n",
       "27358            tofersen                    [(tofersen, C2S)]        []   \n",
       "27393  avacincaptad pegol  [(avacincaptad, C3S), (pegol, C3S)]        []   \n",
       "\n",
       "       extracted_count  correct  term_token_count  \n",
       "1                    0    False                 1  \n",
       "14                   0    False                 1  \n",
       "20                   0    False                 1  \n",
       "56                   0    False                 1  \n",
       "89                   0    False                 1  \n",
       "...                ...      ...               ...  \n",
       "27319                0    False                 1  \n",
       "27327                0    False                 1  \n",
       "27347                0    False                 1  \n",
       "27358                0    False                 1  \n",
       "27393                0    False                 2  \n",
       "\n",
       "[2624 rows x 6 columns]"
      ]
     },
     "execution_count": 20,
     "metadata": {},
     "output_type": "execute_result"
    }
   ],
   "source": [
    "_df = df[df['extracted_count']==0].copy()\n",
    "_df"
   ]
  },
  {
   "cell_type": "code",
   "execution_count": 21,
   "id": "c76a19df0e383701",
   "metadata": {
    "ExecuteTime": {
     "end_time": "2024-03-18T04:39:31.940941Z",
     "start_time": "2024-03-18T04:39:31.928579Z"
    },
    "collapsed": false,
    "jupyter": {
     "outputs_hidden": false
    }
   },
   "outputs": [
    {
     "data": {
      "text/html": [
       "<div>\n",
       "<style scoped>\n",
       "    .dataframe tbody tr th:only-of-type {\n",
       "        vertical-align: middle;\n",
       "    }\n",
       "\n",
       "    .dataframe tbody tr th {\n",
       "        vertical-align: top;\n",
       "    }\n",
       "\n",
       "    .dataframe thead th {\n",
       "        text-align: right;\n",
       "    }\n",
       "</style>\n",
       "<table border=\"1\" class=\"dataframe\">\n",
       "  <thead>\n",
       "    <tr style=\"text-align: right;\">\n",
       "      <th></th>\n",
       "      <th>term</th>\n",
       "      <th>tree</th>\n",
       "      <th>extracted</th>\n",
       "      <th>extracted_count</th>\n",
       "      <th>correct</th>\n",
       "      <th>term_token_count</th>\n",
       "    </tr>\n",
       "  </thead>\n",
       "  <tbody>\n",
       "    <tr>\n",
       "      <th>159</th>\n",
       "      <td>acefylline piperazine</td>\n",
       "      <td>[(acefylline, C3S), (piperazine, C3S)]</td>\n",
       "      <td>[]</td>\n",
       "      <td>0</td>\n",
       "      <td>False</td>\n",
       "      <td>2</td>\n",
       "    </tr>\n",
       "    <tr>\n",
       "      <th>297</th>\n",
       "      <td>acetopromazine maleate</td>\n",
       "      <td>[(acetopromazine, C3S), (maleate, C3S)]</td>\n",
       "      <td>[]</td>\n",
       "      <td>0</td>\n",
       "      <td>False</td>\n",
       "      <td>2</td>\n",
       "    </tr>\n",
       "    <tr>\n",
       "      <th>379</th>\n",
       "      <td>adenosine triphosphate</td>\n",
       "      <td>[(adenosine, C4S), (triphosphate, C4S)]</td>\n",
       "      <td>[]</td>\n",
       "      <td>0</td>\n",
       "      <td>False</td>\n",
       "      <td>2</td>\n",
       "    </tr>\n",
       "    <tr>\n",
       "      <th>494</th>\n",
       "      <td>alendronate sodium</td>\n",
       "      <td>[(alendronate, C4S), (sodium, C3S)]</td>\n",
       "      <td>[]</td>\n",
       "      <td>0</td>\n",
       "      <td>False</td>\n",
       "      <td>2</td>\n",
       "    </tr>\n",
       "    <tr>\n",
       "      <th>640</th>\n",
       "      <td>alverine citrate</td>\n",
       "      <td>[(alverine, C3S), (citrate, C3S)]</td>\n",
       "      <td>[]</td>\n",
       "      <td>0</td>\n",
       "      <td>False</td>\n",
       "      <td>2</td>\n",
       "    </tr>\n",
       "    <tr>\n",
       "      <th>...</th>\n",
       "      <td>...</td>\n",
       "      <td>...</td>\n",
       "      <td>...</td>\n",
       "      <td>...</td>\n",
       "      <td>...</td>\n",
       "      <td>...</td>\n",
       "    </tr>\n",
       "    <tr>\n",
       "      <th>26349</th>\n",
       "      <td>efgartigimod alfa</td>\n",
       "      <td>[(efgartigimod, C6S), (alfa, C6S)]</td>\n",
       "      <td>[]</td>\n",
       "      <td>0</td>\n",
       "      <td>False</td>\n",
       "      <td>2</td>\n",
       "    </tr>\n",
       "    <tr>\n",
       "      <th>26660</th>\n",
       "      <td>iron dextran</td>\n",
       "      <td>[(iron, C4S), (dextran, C3S)]</td>\n",
       "      <td>[]</td>\n",
       "      <td>0</td>\n",
       "      <td>False</td>\n",
       "      <td>2</td>\n",
       "    </tr>\n",
       "    <tr>\n",
       "      <th>26670</th>\n",
       "      <td>laidlomycin propionate</td>\n",
       "      <td>[(laidlomycin, C3S), (propionate, C3S)]</td>\n",
       "      <td>[]</td>\n",
       "      <td>0</td>\n",
       "      <td>False</td>\n",
       "      <td>2</td>\n",
       "    </tr>\n",
       "    <tr>\n",
       "      <th>26845</th>\n",
       "      <td>sodium sulfachloropyrazine</td>\n",
       "      <td>[(sodium, C8S), (sulfachloropyrazine, C3S)]</td>\n",
       "      <td>[]</td>\n",
       "      <td>0</td>\n",
       "      <td>False</td>\n",
       "      <td>2</td>\n",
       "    </tr>\n",
       "    <tr>\n",
       "      <th>27393</th>\n",
       "      <td>avacincaptad pegol</td>\n",
       "      <td>[(avacincaptad, C3S), (pegol, C3S)]</td>\n",
       "      <td>[]</td>\n",
       "      <td>0</td>\n",
       "      <td>False</td>\n",
       "      <td>2</td>\n",
       "    </tr>\n",
       "  </tbody>\n",
       "</table>\n",
       "<p>372 rows × 6 columns</p>\n",
       "</div>"
      ],
      "text/plain": [
       "                             term  \\\n",
       "159         acefylline piperazine   \n",
       "297        acetopromazine maleate   \n",
       "379        adenosine triphosphate   \n",
       "494            alendronate sodium   \n",
       "640              alverine citrate   \n",
       "...                           ...   \n",
       "26349           efgartigimod alfa   \n",
       "26660                iron dextran   \n",
       "26670      laidlomycin propionate   \n",
       "26845  sodium sulfachloropyrazine   \n",
       "27393          avacincaptad pegol   \n",
       "\n",
       "                                              tree extracted  extracted_count  \\\n",
       "159         [(acefylline, C3S), (piperazine, C3S)]        []                0   \n",
       "297        [(acetopromazine, C3S), (maleate, C3S)]        []                0   \n",
       "379        [(adenosine, C4S), (triphosphate, C4S)]        []                0   \n",
       "494            [(alendronate, C4S), (sodium, C3S)]        []                0   \n",
       "640              [(alverine, C3S), (citrate, C3S)]        []                0   \n",
       "...                                            ...       ...              ...   \n",
       "26349           [(efgartigimod, C6S), (alfa, C6S)]        []                0   \n",
       "26660                [(iron, C4S), (dextran, C3S)]        []                0   \n",
       "26670      [(laidlomycin, C3S), (propionate, C3S)]        []                0   \n",
       "26845  [(sodium, C8S), (sulfachloropyrazine, C3S)]        []                0   \n",
       "27393          [(avacincaptad, C3S), (pegol, C3S)]        []                0   \n",
       "\n",
       "       correct  term_token_count  \n",
       "159      False                 2  \n",
       "297      False                 2  \n",
       "379      False                 2  \n",
       "494      False                 2  \n",
       "640      False                 2  \n",
       "...        ...               ...  \n",
       "26349    False                 2  \n",
       "26660    False                 2  \n",
       "26670    False                 2  \n",
       "26845    False                 2  \n",
       "27393    False                 2  \n",
       "\n",
       "[372 rows x 6 columns]"
      ]
     },
     "execution_count": 21,
     "metadata": {},
     "output_type": "execute_result"
    }
   ],
   "source": [
    "_df[_df['term_token_count']==2]"
   ]
  },
  {
   "cell_type": "markdown",
   "id": "6a5f9791d3586335",
   "metadata": {
    "collapsed": false,
    "jupyter": {
     "outputs_hidden": false
    }
   },
   "source": [
    "# Classifier based chunker"
   ]
  },
  {
   "cell_type": "code",
   "execution_count": 22,
   "id": "e847a8a9c4d87623",
   "metadata": {
    "ExecuteTime": {
     "end_time": "2024-03-18T04:39:31.947688Z",
     "start_time": "2024-03-18T04:39:31.941807Z"
    },
    "collapsed": false,
    "jupyter": {
     "outputs_hidden": false
    }
   },
   "outputs": [],
   "source": [
    "def npchunk_features(sentence, i, history):\n",
    "    word, pos = sentence[i]\n",
    "    if i == 0:\n",
    "        prevword, prevpos = \"<START>\", \"<START>\"\n",
    "    else:\n",
    "        prevword, prevpos = sentence[i-1]\n",
    "    return {\"pos\": pos, \"prevpos\": prevpos}\n",
    "\n",
    "class ConsecutiveNPChunkTagger(nltk.TaggerI): # [_consec-chunk-tagger]\n",
    "\n",
    "    def __init__(self, train_sents):\n",
    "        train_set = []\n",
    "        for tagged_sent in train_sents:\n",
    "            untagged_sent = nltk.tag.untag(tagged_sent)\n",
    "            history = []\n",
    "            for i, (word, tag) in enumerate(tagged_sent):\n",
    "                featureset = npchunk_features(untagged_sent, i, history) # [_consec-use-fe]\n",
    "                train_set.append( (featureset, tag) )\n",
    "                history.append(tag)\n",
    "        self.classifier = nltk.NaiveBayesClassifier.train(train_set)\n",
    "\n",
    "    def tag(self, sentence):\n",
    "        history = []\n",
    "        for i, word in enumerate(sentence):\n",
    "            featureset = npchunk_features(sentence, i, history)\n",
    "            tag = self.classifier.classify(featureset)\n",
    "            history.append(tag)\n",
    "        return zip(sentence, history)\n",
    "\n",
    "class ConsecutiveNPChunker(nltk.ChunkParserI): # [_consec-chunker]\n",
    "    def __init__(self, train_sents):\n",
    "        tagged_sents = [[((w,t),c) for (w,t,c) in\n",
    "                         nltk.chunk.tree2conlltags(sent)]\n",
    "                        for sent in train_sents]\n",
    "        self.tagger = ConsecutiveNPChunkTagger(tagged_sents)\n",
    "\n",
    "    def parse(self, sentence):\n",
    "        tagged_sents = self.tagger.tag(sentence)\n",
    "        conlltags = [(w,t,c) for ((w,t),c) in tagged_sents]\n",
    "        return nltk.chunk.conlltags2tree(conlltags)\n",
    "\n",
    "\n",
    "def create_group_tree(nodes: list[tuple[str, str]]) ->nltk.Tree:\n",
    "    return nltk.Tree(\n",
    "        'NP',\n",
    "        nodes\n",
    "    )\n",
    "\n",
    "\n",
    "def get_filler_trees(words: list[str], size=3, tag='O') -> list[nltk.Tree]:\n",
    "    trees = []\n",
    "    selection = np.random.choice(words, size).tolist()\n",
    "    for word in selection:\n",
    "        # trees.append(nltk.Tree(word, [tag]))\n",
    "        trees.append((word, tag))\n",
    "    return trees\n"
   ]
  },
  {
   "cell_type": "code",
   "execution_count": 23,
   "id": "ad631332d7adeadb",
   "metadata": {
    "ExecuteTime": {
     "end_time": "2024-03-18T04:39:34.486150Z",
     "start_time": "2024-03-18T04:39:31.970944Z"
    },
    "collapsed": false,
    "jupyter": {
     "outputs_hidden": false
    }
   },
   "outputs": [],
   "source": [
    "filler_words = (\n",
    "    'The purpose of this study is to evaluate the safety and efficacy of 3 different doses of '\n",
    "    'administered in addition to standard therapy, in patients with active SLE disease.'\n",
    ").lower().split()\n",
    "\n",
    "    \n",
    "train_tree_synonyms = []\n",
    "for synonyms in synonyms_df['synonyms']:\n",
    "    trees = []\n",
    "    for synonym in synonyms:\n",
    "        tokens = nltk.word_tokenize(synonym)\n",
    "        synonym_tags = []\n",
    "        for token in tokens[:-1]:\n",
    "            synonym_tags.append((token, f'C{len(tokens)}S'))\n",
    "            \n",
    "        for token in tokens[-1:]:\n",
    "            synonym_tags.append((token, f'C{len(tokens)}E'))\n",
    "            \n",
    "        tree = create_group_tree(synonym_tags)\n",
    "        trees.append(tree)\n",
    "        \n",
    "        trees.extend(get_filler_trees(filler_words))\n",
    "    \n",
    "    \n",
    "    train_tree_synonyms.append(nltk.Tree('S', trees))\n",
    "        "
   ]
  },
  {
   "cell_type": "code",
   "execution_count": 24,
   "id": "7b173362bac0e3c9",
   "metadata": {
    "ExecuteTime": {
     "end_time": "2024-03-18T04:47:40.323682Z",
     "start_time": "2024-03-18T04:47:40.275648Z"
    },
    "collapsed": false,
    "jupyter": {
     "outputs_hidden": false
    }
   },
   "outputs": [],
   "source": [
    "# Check that tree height is at most 3.\n",
    "for index, tree in enumerate(train_tree_synonyms):\n",
    "    if tree.height()>3:\n",
    "        print('found')\n",
    "        break"
   ]
  },
  {
   "cell_type": "code",
   "execution_count": 25,
   "id": "989393a8cff6525a",
   "metadata": {
    "ExecuteTime": {
     "end_time": "2024-03-18T04:39:34.518911Z",
     "start_time": "2024-03-18T04:39:34.498893Z"
    },
    "collapsed": false,
    "jupyter": {
     "outputs_hidden": false
    }
   },
   "outputs": [
    {
     "data": {
      "image/svg+xml": [
       "<svg baseProfile=\"full\" height=\"168px\" preserveAspectRatio=\"xMidYMid meet\" style=\"font-family: times, serif; font-weight: normal; font-style: normal; font-size: 16px;\" version=\"1.1\" viewBox=\"0,0,1704.0,168.0\" width=\"1704px\" xmlns=\"http://www.w3.org/2000/svg\" xmlns:ev=\"http://www.w3.org/2001/xml-events\" xmlns:xlink=\"http://www.w3.org/1999/xlink\"><defs /><svg width=\"100%\" x=\"0\" y=\"0px\"><defs /><text text-anchor=\"middle\" x=\"50%\" y=\"16px\">S</text></svg><svg width=\"13.615%\" x=\"0%\" y=\"48px\"><defs /><svg width=\"100%\" x=\"0\" y=\"0px\"><defs /><text text-anchor=\"middle\" x=\"50%\" y=\"16px\">NP</text></svg><svg width=\"17.2414%\" x=\"0%\" y=\"48px\"><defs /><svg width=\"100%\" x=\"0\" y=\"0px\"><defs /><text text-anchor=\"middle\" x=\"50%\" y=\"16px\">(</text></svg><svg width=\"100%\" x=\"0%\" y=\"48px\"><defs /><svg width=\"100%\" x=\"0\" y=\"0px\"><defs /><text text-anchor=\"middle\" x=\"50%\" y=\"16px\">C4S</text></svg></svg><line stroke=\"black\" x1=\"50%\" x2=\"50%\" y1=\"19.2px\" y2=\"48px\" /></svg><line stroke=\"black\" x1=\"50%\" x2=\"8.62069%\" y1=\"19.2px\" y2=\"48px\" /><svg width=\"17.2414%\" x=\"17.2414%\" y=\"48px\"><defs /><svg width=\"100%\" x=\"0\" y=\"0px\"><defs /><text text-anchor=\"middle\" x=\"50%\" y=\"16px\">-</text></svg><svg width=\"100%\" x=\"0%\" y=\"48px\"><defs /><svg width=\"100%\" x=\"0\" y=\"0px\"><defs /><text text-anchor=\"middle\" x=\"50%\" y=\"16px\">C4S</text></svg></svg><line stroke=\"black\" x1=\"50%\" x2=\"50%\" y1=\"19.2px\" y2=\"48px\" /></svg><line stroke=\"black\" x1=\"50%\" x2=\"25.8621%\" y1=\"19.2px\" y2=\"48px\" /><svg width=\"17.2414%\" x=\"34.4828%\" y=\"48px\"><defs /><svg width=\"100%\" x=\"0\" y=\"0px\"><defs /><text text-anchor=\"middle\" x=\"50%\" y=\"16px\">)</text></svg><svg width=\"100%\" x=\"0%\" y=\"48px\"><defs /><svg width=\"100%\" x=\"0\" y=\"0px\"><defs /><text text-anchor=\"middle\" x=\"50%\" y=\"16px\">C4S</text></svg></svg><line stroke=\"black\" x1=\"50%\" x2=\"50%\" y1=\"19.2px\" y2=\"48px\" /></svg><line stroke=\"black\" x1=\"50%\" x2=\"43.1034%\" y1=\"19.2px\" y2=\"48px\" /><svg width=\"48.2759%\" x=\"51.7241%\" y=\"48px\"><defs /><svg width=\"100%\" x=\"0\" y=\"0px\"><defs /><text text-anchor=\"middle\" x=\"50%\" y=\"16px\">-Nicardipine</text></svg><svg width=\"100%\" x=\"0%\" y=\"48px\"><defs /><svg width=\"100%\" x=\"0\" y=\"0px\"><defs /><text text-anchor=\"middle\" x=\"50%\" y=\"16px\">C4E</text></svg></svg><line stroke=\"black\" x1=\"50%\" x2=\"50%\" y1=\"19.2px\" y2=\"48px\" /></svg><line stroke=\"black\" x1=\"50%\" x2=\"75.8621%\" y1=\"19.2px\" y2=\"48px\" /></svg><line stroke=\"black\" x1=\"50%\" x2=\"6.80751%\" y1=\"19.2px\" y2=\"48px\" /><svg width=\"4.69484%\" x=\"13.615%\" y=\"48px\"><defs /><svg width=\"100%\" x=\"0\" y=\"0px\"><defs /><text text-anchor=\"middle\" x=\"50%\" y=\"16px\">addition</text></svg><svg width=\"100%\" x=\"0%\" y=\"48px\"><defs /><svg width=\"100%\" x=\"0\" y=\"0px\"><defs /><text text-anchor=\"middle\" x=\"50%\" y=\"16px\">O</text></svg></svg><line stroke=\"black\" x1=\"50%\" x2=\"50%\" y1=\"19.2px\" y2=\"48px\" /></svg><line stroke=\"black\" x1=\"50%\" x2=\"15.9624%\" y1=\"19.2px\" y2=\"48px\" /><svg width=\"1.87793%\" x=\"18.3099%\" y=\"48px\"><defs /><svg width=\"100%\" x=\"0\" y=\"0px\"><defs /><text text-anchor=\"middle\" x=\"50%\" y=\"16px\">to</text></svg><svg width=\"100%\" x=\"0%\" y=\"48px\"><defs /><svg width=\"100%\" x=\"0\" y=\"0px\"><defs /><text text-anchor=\"middle\" x=\"50%\" y=\"16px\">O</text></svg></svg><line stroke=\"black\" x1=\"50%\" x2=\"50%\" y1=\"19.2px\" y2=\"48px\" /></svg><line stroke=\"black\" x1=\"50%\" x2=\"19.2488%\" y1=\"19.2px\" y2=\"48px\" /><svg width=\"1.87793%\" x=\"20.1878%\" y=\"48px\"><defs /><svg width=\"100%\" x=\"0\" y=\"0px\"><defs /><text text-anchor=\"middle\" x=\"50%\" y=\"16px\">in</text></svg><svg width=\"100%\" x=\"0%\" y=\"48px\"><defs /><svg width=\"100%\" x=\"0\" y=\"0px\"><defs /><text text-anchor=\"middle\" x=\"50%\" y=\"16px\">O</text></svg></svg><line stroke=\"black\" x1=\"50%\" x2=\"50%\" y1=\"19.2px\" y2=\"48px\" /></svg><line stroke=\"black\" x1=\"50%\" x2=\"21.1268%\" y1=\"19.2px\" y2=\"48px\" /><svg width=\"13.615%\" x=\"22.0657%\" y=\"48px\"><defs /><svg width=\"100%\" x=\"0\" y=\"0px\"><defs /><text text-anchor=\"middle\" x=\"50%\" y=\"16px\">NP</text></svg><svg width=\"17.2414%\" x=\"0%\" y=\"48px\"><defs /><svg width=\"100%\" x=\"0\" y=\"0px\"><defs /><text text-anchor=\"middle\" x=\"50%\" y=\"16px\">(</text></svg><svg width=\"100%\" x=\"0%\" y=\"48px\"><defs /><svg width=\"100%\" x=\"0\" y=\"0px\"><defs /><text text-anchor=\"middle\" x=\"50%\" y=\"16px\">C4S</text></svg></svg><line stroke=\"black\" x1=\"50%\" x2=\"50%\" y1=\"19.2px\" y2=\"48px\" /></svg><line stroke=\"black\" x1=\"50%\" x2=\"8.62069%\" y1=\"19.2px\" y2=\"48px\" /><svg width=\"17.2414%\" x=\"17.2414%\" y=\"48px\"><defs /><svg width=\"100%\" x=\"0\" y=\"0px\"><defs /><text text-anchor=\"middle\" x=\"50%\" y=\"16px\">-</text></svg><svg width=\"100%\" x=\"0%\" y=\"48px\"><defs /><svg width=\"100%\" x=\"0\" y=\"0px\"><defs /><text text-anchor=\"middle\" x=\"50%\" y=\"16px\">C4S</text></svg></svg><line stroke=\"black\" x1=\"50%\" x2=\"50%\" y1=\"19.2px\" y2=\"48px\" /></svg><line stroke=\"black\" x1=\"50%\" x2=\"25.8621%\" y1=\"19.2px\" y2=\"48px\" /><svg width=\"17.2414%\" x=\"34.4828%\" y=\"48px\"><defs /><svg width=\"100%\" x=\"0\" y=\"0px\"><defs /><text text-anchor=\"middle\" x=\"50%\" y=\"16px\">)</text></svg><svg width=\"100%\" x=\"0%\" y=\"48px\"><defs /><svg width=\"100%\" x=\"0\" y=\"0px\"><defs /><text text-anchor=\"middle\" x=\"50%\" y=\"16px\">C4S</text></svg></svg><line stroke=\"black\" x1=\"50%\" x2=\"50%\" y1=\"19.2px\" y2=\"48px\" /></svg><line stroke=\"black\" x1=\"50%\" x2=\"43.1034%\" y1=\"19.2px\" y2=\"48px\" /><svg width=\"48.2759%\" x=\"51.7241%\" y=\"48px\"><defs /><svg width=\"100%\" x=\"0\" y=\"0px\"><defs /><text text-anchor=\"middle\" x=\"50%\" y=\"16px\">-nicardipine</text></svg><svg width=\"100%\" x=\"0%\" y=\"48px\"><defs /><svg width=\"100%\" x=\"0\" y=\"0px\"><defs /><text text-anchor=\"middle\" x=\"50%\" y=\"16px\">C4E</text></svg></svg><line stroke=\"black\" x1=\"50%\" x2=\"50%\" y1=\"19.2px\" y2=\"48px\" /></svg><line stroke=\"black\" x1=\"50%\" x2=\"75.8621%\" y1=\"19.2px\" y2=\"48px\" /></svg><line stroke=\"black\" x1=\"50%\" x2=\"28.8732%\" y1=\"19.2px\" y2=\"48px\" /><svg width=\"4.69484%\" x=\"35.6808%\" y=\"48px\"><defs /><svg width=\"100%\" x=\"0\" y=\"0px\"><defs /><text text-anchor=\"middle\" x=\"50%\" y=\"16px\">therapy,</text></svg><svg width=\"100%\" x=\"0%\" y=\"48px\"><defs /><svg width=\"100%\" x=\"0\" y=\"0px\"><defs /><text text-anchor=\"middle\" x=\"50%\" y=\"16px\">O</text></svg></svg><line stroke=\"black\" x1=\"50%\" x2=\"50%\" y1=\"19.2px\" y2=\"48px\" /></svg><line stroke=\"black\" x1=\"50%\" x2=\"38.0282%\" y1=\"19.2px\" y2=\"48px\" /><svg width=\"4.69484%\" x=\"40.3756%\" y=\"48px\"><defs /><svg width=\"100%\" x=\"0\" y=\"0px\"><defs /><text text-anchor=\"middle\" x=\"50%\" y=\"16px\">efficacy</text></svg><svg width=\"100%\" x=\"0%\" y=\"48px\"><defs /><svg width=\"100%\" x=\"0\" y=\"0px\"><defs /><text text-anchor=\"middle\" x=\"50%\" y=\"16px\">O</text></svg></svg><line stroke=\"black\" x1=\"50%\" x2=\"50%\" y1=\"19.2px\" y2=\"48px\" /></svg><line stroke=\"black\" x1=\"50%\" x2=\"42.723%\" y1=\"19.2px\" y2=\"48px\" /><svg width=\"4.69484%\" x=\"45.0704%\" y=\"48px\"><defs /><svg width=\"100%\" x=\"0\" y=\"0px\"><defs /><text text-anchor=\"middle\" x=\"50%\" y=\"16px\">disease.</text></svg><svg width=\"100%\" x=\"0%\" y=\"48px\"><defs /><svg width=\"100%\" x=\"0\" y=\"0px\"><defs /><text text-anchor=\"middle\" x=\"50%\" y=\"16px\">O</text></svg></svg><line stroke=\"black\" x1=\"50%\" x2=\"50%\" y1=\"19.2px\" y2=\"48px\" /></svg><line stroke=\"black\" x1=\"50%\" x2=\"47.4178%\" y1=\"19.2px\" y2=\"48px\" /><svg width=\"13.615%\" x=\"49.7653%\" y=\"48px\"><defs /><svg width=\"100%\" x=\"0\" y=\"0px\"><defs /><text text-anchor=\"middle\" x=\"50%\" y=\"16px\">NP</text></svg><svg width=\"17.2414%\" x=\"0%\" y=\"48px\"><defs /><svg width=\"100%\" x=\"0\" y=\"0px\"><defs /><text text-anchor=\"middle\" x=\"50%\" y=\"16px\">(</text></svg><svg width=\"100%\" x=\"0%\" y=\"48px\"><defs /><svg width=\"100%\" x=\"0\" y=\"0px\"><defs /><text text-anchor=\"middle\" x=\"50%\" y=\"16px\">C4S</text></svg></svg><line stroke=\"black\" x1=\"50%\" x2=\"50%\" y1=\"19.2px\" y2=\"48px\" /></svg><line stroke=\"black\" x1=\"50%\" x2=\"8.62069%\" y1=\"19.2px\" y2=\"48px\" /><svg width=\"17.2414%\" x=\"17.2414%\" y=\"48px\"><defs /><svg width=\"100%\" x=\"0\" y=\"0px\"><defs /><text text-anchor=\"middle\" x=\"50%\" y=\"16px\">S</text></svg><svg width=\"100%\" x=\"0%\" y=\"48px\"><defs /><svg width=\"100%\" x=\"0\" y=\"0px\"><defs /><text text-anchor=\"middle\" x=\"50%\" y=\"16px\">C4S</text></svg></svg><line stroke=\"black\" x1=\"50%\" x2=\"50%\" y1=\"19.2px\" y2=\"48px\" /></svg><line stroke=\"black\" x1=\"50%\" x2=\"25.8621%\" y1=\"19.2px\" y2=\"48px\" /><svg width=\"17.2414%\" x=\"34.4828%\" y=\"48px\"><defs /><svg width=\"100%\" x=\"0\" y=\"0px\"><defs /><text text-anchor=\"middle\" x=\"50%\" y=\"16px\">)</text></svg><svg width=\"100%\" x=\"0%\" y=\"48px\"><defs /><svg width=\"100%\" x=\"0\" y=\"0px\"><defs /><text text-anchor=\"middle\" x=\"50%\" y=\"16px\">C4S</text></svg></svg><line stroke=\"black\" x1=\"50%\" x2=\"50%\" y1=\"19.2px\" y2=\"48px\" /></svg><line stroke=\"black\" x1=\"50%\" x2=\"43.1034%\" y1=\"19.2px\" y2=\"48px\" /><svg width=\"48.2759%\" x=\"51.7241%\" y=\"48px\"><defs /><svg width=\"100%\" x=\"0\" y=\"0px\"><defs /><text text-anchor=\"middle\" x=\"50%\" y=\"16px\">-nicardipine</text></svg><svg width=\"100%\" x=\"0%\" y=\"48px\"><defs /><svg width=\"100%\" x=\"0\" y=\"0px\"><defs /><text text-anchor=\"middle\" x=\"50%\" y=\"16px\">C4E</text></svg></svg><line stroke=\"black\" x1=\"50%\" x2=\"50%\" y1=\"19.2px\" y2=\"48px\" /></svg><line stroke=\"black\" x1=\"50%\" x2=\"75.8621%\" y1=\"19.2px\" y2=\"48px\" /></svg><line stroke=\"black\" x1=\"50%\" x2=\"56.5728%\" y1=\"19.2px\" y2=\"48px\" /><svg width=\"4.69484%\" x=\"63.3803%\" y=\"48px\"><defs /><svg width=\"100%\" x=\"0\" y=\"0px\"><defs /><text text-anchor=\"middle\" x=\"50%\" y=\"16px\">addition</text></svg><svg width=\"100%\" x=\"0%\" y=\"48px\"><defs /><svg width=\"100%\" x=\"0\" y=\"0px\"><defs /><text text-anchor=\"middle\" x=\"50%\" y=\"16px\">O</text></svg></svg><line stroke=\"black\" x1=\"50%\" x2=\"50%\" y1=\"19.2px\" y2=\"48px\" /></svg><line stroke=\"black\" x1=\"50%\" x2=\"65.7277%\" y1=\"19.2px\" y2=\"48px\" /><svg width=\"1.87793%\" x=\"68.0751%\" y=\"48px\"><defs /><svg width=\"100%\" x=\"0\" y=\"0px\"><defs /><text text-anchor=\"middle\" x=\"50%\" y=\"16px\">of</text></svg><svg width=\"100%\" x=\"0%\" y=\"48px\"><defs /><svg width=\"100%\" x=\"0\" y=\"0px\"><defs /><text text-anchor=\"middle\" x=\"50%\" y=\"16px\">O</text></svg></svg><line stroke=\"black\" x1=\"50%\" x2=\"50%\" y1=\"19.2px\" y2=\"48px\" /></svg><line stroke=\"black\" x1=\"50%\" x2=\"69.0141%\" y1=\"19.2px\" y2=\"48px\" /><svg width=\"1.87793%\" x=\"69.9531%\" y=\"48px\"><defs /><svg width=\"100%\" x=\"0\" y=\"0px\"><defs /><text text-anchor=\"middle\" x=\"50%\" y=\"16px\">of</text></svg><svg width=\"100%\" x=\"0%\" y=\"48px\"><defs /><svg width=\"100%\" x=\"0\" y=\"0px\"><defs /><text text-anchor=\"middle\" x=\"50%\" y=\"16px\">O</text></svg></svg><line stroke=\"black\" x1=\"50%\" x2=\"50%\" y1=\"19.2px\" y2=\"48px\" /></svg><line stroke=\"black\" x1=\"50%\" x2=\"70.892%\" y1=\"19.2px\" y2=\"48px\" /><svg width=\"13.615%\" x=\"71.831%\" y=\"48px\"><defs /><svg width=\"100%\" x=\"0\" y=\"0px\"><defs /><text text-anchor=\"middle\" x=\"50%\" y=\"16px\">NP</text></svg><svg width=\"17.2414%\" x=\"0%\" y=\"48px\"><defs /><svg width=\"100%\" x=\"0\" y=\"0px\"><defs /><text text-anchor=\"middle\" x=\"50%\" y=\"16px\">(</text></svg><svg width=\"100%\" x=\"0%\" y=\"48px\"><defs /><svg width=\"100%\" x=\"0\" y=\"0px\"><defs /><text text-anchor=\"middle\" x=\"50%\" y=\"16px\">C4S</text></svg></svg><line stroke=\"black\" x1=\"50%\" x2=\"50%\" y1=\"19.2px\" y2=\"48px\" /></svg><line stroke=\"black\" x1=\"50%\" x2=\"8.62069%\" y1=\"19.2px\" y2=\"48px\" /><svg width=\"17.2414%\" x=\"17.2414%\" y=\"48px\"><defs /><svg width=\"100%\" x=\"0\" y=\"0px\"><defs /><text text-anchor=\"middle\" x=\"50%\" y=\"16px\">s</text></svg><svg width=\"100%\" x=\"0%\" y=\"48px\"><defs /><svg width=\"100%\" x=\"0\" y=\"0px\"><defs /><text text-anchor=\"middle\" x=\"50%\" y=\"16px\">C4S</text></svg></svg><line stroke=\"black\" x1=\"50%\" x2=\"50%\" y1=\"19.2px\" y2=\"48px\" /></svg><line stroke=\"black\" x1=\"50%\" x2=\"25.8621%\" y1=\"19.2px\" y2=\"48px\" /><svg width=\"17.2414%\" x=\"34.4828%\" y=\"48px\"><defs /><svg width=\"100%\" x=\"0\" y=\"0px\"><defs /><text text-anchor=\"middle\" x=\"50%\" y=\"16px\">)</text></svg><svg width=\"100%\" x=\"0%\" y=\"48px\"><defs /><svg width=\"100%\" x=\"0\" y=\"0px\"><defs /><text text-anchor=\"middle\" x=\"50%\" y=\"16px\">C4S</text></svg></svg><line stroke=\"black\" x1=\"50%\" x2=\"50%\" y1=\"19.2px\" y2=\"48px\" /></svg><line stroke=\"black\" x1=\"50%\" x2=\"43.1034%\" y1=\"19.2px\" y2=\"48px\" /><svg width=\"48.2759%\" x=\"51.7241%\" y=\"48px\"><defs /><svg width=\"100%\" x=\"0\" y=\"0px\"><defs /><text text-anchor=\"middle\" x=\"50%\" y=\"16px\">-nicardipine</text></svg><svg width=\"100%\" x=\"0%\" y=\"48px\"><defs /><svg width=\"100%\" x=\"0\" y=\"0px\"><defs /><text text-anchor=\"middle\" x=\"50%\" y=\"16px\">C4E</text></svg></svg><line stroke=\"black\" x1=\"50%\" x2=\"50%\" y1=\"19.2px\" y2=\"48px\" /></svg><line stroke=\"black\" x1=\"50%\" x2=\"75.8621%\" y1=\"19.2px\" y2=\"48px\" /></svg><line stroke=\"black\" x1=\"50%\" x2=\"78.6385%\" y1=\"19.2px\" y2=\"48px\" /><svg width=\"5.16432%\" x=\"85.446%\" y=\"48px\"><defs /><svg width=\"100%\" x=\"0\" y=\"0px\"><defs /><text text-anchor=\"middle\" x=\"50%\" y=\"16px\">different</text></svg><svg width=\"100%\" x=\"0%\" y=\"48px\"><defs /><svg width=\"100%\" x=\"0\" y=\"0px\"><defs /><text text-anchor=\"middle\" x=\"50%\" y=\"16px\">O</text></svg></svg><line stroke=\"black\" x1=\"50%\" x2=\"50%\" y1=\"19.2px\" y2=\"48px\" /></svg><line stroke=\"black\" x1=\"50%\" x2=\"88.0282%\" y1=\"19.2px\" y2=\"48px\" /><svg width=\"4.69484%\" x=\"90.6103%\" y=\"48px\"><defs /><svg width=\"100%\" x=\"0\" y=\"0px\"><defs /><text text-anchor=\"middle\" x=\"50%\" y=\"16px\">evaluate</text></svg><svg width=\"100%\" x=\"0%\" y=\"48px\"><defs /><svg width=\"100%\" x=\"0\" y=\"0px\"><defs /><text text-anchor=\"middle\" x=\"50%\" y=\"16px\">O</text></svg></svg><line stroke=\"black\" x1=\"50%\" x2=\"50%\" y1=\"19.2px\" y2=\"48px\" /></svg><line stroke=\"black\" x1=\"50%\" x2=\"92.9577%\" y1=\"19.2px\" y2=\"48px\" /><svg width=\"4.69484%\" x=\"95.3052%\" y=\"48px\"><defs /><svg width=\"100%\" x=\"0\" y=\"0px\"><defs /><text text-anchor=\"middle\" x=\"50%\" y=\"16px\">efficacy</text></svg><svg width=\"100%\" x=\"0%\" y=\"48px\"><defs /><svg width=\"100%\" x=\"0\" y=\"0px\"><defs /><text text-anchor=\"middle\" x=\"50%\" y=\"16px\">O</text></svg></svg><line stroke=\"black\" x1=\"50%\" x2=\"50%\" y1=\"19.2px\" y2=\"48px\" /></svg><line stroke=\"black\" x1=\"50%\" x2=\"97.6526%\" y1=\"19.2px\" y2=\"48px\" /></svg>"
      ],
      "text/plain": [
       "Tree('S', [Tree('NP', [('(', 'C4S'), ('-', 'C4S'), (')', 'C4S'), ('-Nicardipine', 'C4E')]), ('addition', 'O'), ('to', 'O'), ('in', 'O'), Tree('NP', [('(', 'C4S'), ('-', 'C4S'), (')', 'C4S'), ('-nicardipine', 'C4E')]), ('therapy,', 'O'), ('efficacy', 'O'), ('disease.', 'O'), Tree('NP', [('(', 'C4S'), ('S', 'C4S'), (')', 'C4S'), ('-nicardipine', 'C4E')]), ('addition', 'O'), ('of', 'O'), ('of', 'O'), Tree('NP', [('(', 'C4S'), ('s', 'C4S'), (')', 'C4S'), ('-nicardipine', 'C4E')]), ('different', 'O'), ('evaluate', 'O'), ('efficacy', 'O')])"
      ]
     },
     "execution_count": 25,
     "metadata": {},
     "output_type": "execute_result"
    }
   ],
   "source": [
    "train_tree_synonyms[1]"
   ]
  },
  {
   "cell_type": "code",
   "execution_count": 26,
   "id": "e4620847835ab110",
   "metadata": {
    "ExecuteTime": {
     "end_time": "2024-03-18T04:39:34.524018Z",
     "start_time": "2024-03-18T04:39:34.519749Z"
    },
    "collapsed": false,
    "jupyter": {
     "outputs_hidden": false
    }
   },
   "outputs": [
    {
     "data": {
      "text/plain": [
       "3"
      ]
     },
     "execution_count": 26,
     "metadata": {},
     "output_type": "execute_result"
    }
   ],
   "source": [
    "train_tree_synonyms[1].height()"
   ]
  },
  {
   "cell_type": "code",
   "execution_count": 27,
   "id": "710d9e53f0d0587b",
   "metadata": {
    "ExecuteTime": {
     "end_time": "2024-03-18T04:39:34.534990Z",
     "start_time": "2024-03-18T04:39:34.529573Z"
    },
    "collapsed": false,
    "jupyter": {
     "outputs_hidden": false
    }
   },
   "outputs": [
    {
     "data": {
      "text/plain": [
       "token_count\n",
       "1     17756\n",
       "2      7535\n",
       "3       980\n",
       "4       765\n",
       "5       245\n",
       "6        93\n",
       "8        15\n",
       "7        14\n",
       "9         8\n",
       "14        2\n",
       "19        2\n",
       "Name: count, dtype: int64"
      ]
     },
     "execution_count": 27,
     "metadata": {},
     "output_type": "execute_result"
    }
   ],
   "source": [
    "syn_counts_df['token_count'].value_counts()"
   ]
  },
  {
   "cell_type": "markdown",
   "id": "99c30090-9f48-491c-ae83-8d413c33a23d",
   "metadata": {},
   "source": [
    "## Prepare Ground Truth"
   ]
  },
  {
   "cell_type": "code",
   "execution_count": 28,
   "id": "493d8d8629a47653",
   "metadata": {
    "ExecuteTime": {
     "end_time": "2024-03-18T04:39:34.549859Z",
     "start_time": "2024-03-18T04:39:34.542567Z"
    },
    "collapsed": false,
    "jupyter": {
     "outputs_hidden": false
    }
   },
   "outputs": [],
   "source": [
    "ground_truth = {\n",
    "    'NCT00037648': ['anakinra'],\n",
    "    'NCT00048542': ['adalimumab', 'methotrexate'],\n",
    "    'NCT00071487': ['belimumab'],\n",
    "    'NCT00071812': ['belimumab'],\n",
    "    'NCT00072839': ['ALX-0600'],\n",
    "    'NCT00074438': ['rituximab', 'methotrexate'],\n",
    "    'NCT00078806': ['etanercept'],\n",
    "    'NCT00078819': ['etanercept'],\n",
    "    'NCT00079937': ['omalizumab'],\n",
    "    'NCT00090142': [],\n",
    "    'NCT00092131': [],\n",
    "    'NCT00095173': ['BMS-188667', 'Abatacept'],\n",
    "    'NCT00097370': ['mepolizumab', 'mepolizumab'],\n",
    "    'NCT00106522': ['tocilizumab', 'methotrexate', 'tocilizumab', 'tocilizumab', 'methotrexate'],\n",
    "    'NCT00106535': ['tocilizumab', 'methotrexate', 'tocilizumab', 'tocilizumab'],\n",
    "    'NCT00106548': ['tocilizumab', 'methotrexate', 'tocilizumab', 'tocilizumab'],\n",
    "    'NCT00109408': ['tocilizumab', 'methotrexate', 'tocilizumab', 'methotrexate'],\n",
    "    'NCT00109707': ['Imatinib', 'imatinib', 'imatinib', 'imatinib', 'Imatinib', 'imatinib','imatinib','imatinib'],\n",
    "    'NCT00110916': ['anakinra', 'anakinra'],\n",
    "    'NCT00111436': ['etanercept', 'etanercept', 'etanercept'],\n",
    "    'NCT00119678': ['Abatacept', 'prednisone'],\n",
    "    'NCT00120523': ['pimecrolimus'],\n",
    "    'NCT00130390': ['nitazoxanide'],\n",
    "    'NCT00137969': ['rituximab'],\n",
    "    'NCT00141921': ['etanercept'],\n",
    "    'NCT00146640': ['prednisone', 'prednisone'],\n",
    "    'NCT00171860': ['imatinib mesylate', 'imatinib mesylate', 'prednisone', 'hydroxyurea', 'oxyurea'],\n",
    "    'NCT00175877': ['Certolizumab Pegol'],\n",
    "    'NCT00195663': ['adalimumab', 'methotrexate', 'adalimumab'],\n",
    "    'NCT00195702': ['adalimumab', 'adalimumab', 'methotrexate',],\n",
    "    'NCT00206596': ['Leukine'],\n",
    "    'NCT00206661': ['sargramostim'],\n",
    "    'NCT00206700': ['sargramostim'],\n",
    "    'NCT00206713': ['Leukine', 'Leukine'],\n",
    "    'NCT00207714': ['Golimumab', 'CNTO 148'],\n",
    "    'NCT00207740': ['CNTO 148', 'golimumab'],\n",
    "    'NCT00221026': [],\n",
    "    'NCT00235820': ['Adalimumab', 'Methotrexate'],\n",
    "    'NCT00244842': ['voclosporin'],\n",
    "    'NCT00245570': [],\n",
    "    'NCT00245765': ['CDP870'],\n",
    "    'NCT00254293': ['Abatacept'],\n",
    "    'NCT00264537': ['golimumab', 'methotrexate'],\n",
    "    'NCT00264550': ['golimumab', 'methotrexate', 'methotrexate'],\n",
    "    'NCT00265096': ['golimumab'],\n",
    "    'NCT00265122': ['CNTO 1275'],\n",
    "    'NCT00266565': [],\n",
    "    'NCT00267956': ['CNTO 1275', 'ustekinumab'],\n",
    "    'NCT00267969': ['ustekinumab', 'CNTO 1275'],\n",
    "    'NCT00269841': [],\n",
    "    'NCT00269854': [],\n",
    "}\n",
    "ground_truth = {k:list(set(v)) for k,v in ground_truth.items()}"
   ]
  },
  {
   "cell_type": "code",
   "execution_count": 29,
   "id": "0d5415b3-1915-4ebe-a007-895d8fb5b8da",
   "metadata": {},
   "outputs": [],
   "source": [
    "preferred_name_by_term = {}\n",
    "for _, row in synonyms_df.iterrows():\n",
    "    preferred_name = row['preferred_name']\n",
    "    synonyms = row['synonyms']\n",
    "    for synonym in synonyms:\n",
    "        # preferred_name_by_term[synonym.replace(' ', '')] = preferred_name\n",
    "        preferred_name_by_term[synonym.replace(' ', '').lower()] = preferred_name"
   ]
  },
  {
   "cell_type": "code",
   "execution_count": 30,
   "id": "dd29efe38a47dacb",
   "metadata": {
    "ExecuteTime": {
     "end_time": "2024-03-18T04:39:34.552147Z",
     "start_time": "2024-03-18T04:39:34.550677Z"
    },
    "collapsed": false,
    "jupyter": {
     "outputs_hidden": false
    }
   },
   "outputs": [],
   "source": [
    "ground_truth_cleaned = {}\n",
    "for nct_id, terms in ground_truth.items():\n",
    "    terms_cleaned = []\n",
    "    for term in terms:\n",
    "        cleaned = term.replace(' ', '').lower()\n",
    "        if cleaned not in preferred_name_by_term:\n",
    "            continue\n",
    "        terms_cleaned.append(preferred_name_by_term[cleaned])\n",
    "    ground_truth_cleaned[nct_id] = list(set(terms_cleaned))"
   ]
  },
  {
   "cell_type": "code",
   "execution_count": null,
   "id": "3105252746a90e42",
   "metadata": {
    "ExecuteTime": {
     "end_time": "2024-03-18T04:39:34.554401Z",
     "start_time": "2024-03-18T04:39:34.552950Z"
    },
    "collapsed": false,
    "jupyter": {
     "outputs_hidden": false
    }
   },
   "outputs": [],
   "source": []
  },
  {
   "cell_type": "code",
   "execution_count": 31,
   "id": "448ff06bbd9a9339",
   "metadata": {
    "ExecuteTime": {
     "end_time": "2024-03-18T04:39:34.557940Z",
     "start_time": "2024-03-18T04:39:34.555194Z"
    },
    "collapsed": false,
    "jupyter": {
     "outputs_hidden": false
    }
   },
   "outputs": [],
   "source": [
    "def split_summary_by_keywords(brief_summary: str, keywords: list[str]) -> str:\n",
    "    tokens = [brief_summary]\n",
    "    for keyword in keywords:\n",
    "        new_tokens = []\n",
    "        for token in tokens:\n",
    "            split_tokens = token.split(keyword)\n",
    "            for index, split_token in enumerate(split_tokens):\n",
    "                new_tokens.append(split_token)\n",
    "                if index < len(split_tokens) - 1:\n",
    "                    new_tokens.append(keyword)\n",
    "        tokens = new_tokens\n",
    "    return tokens\n",
    "\n",
    "def get_synonym_subtree(synonym):\n",
    "    tokens = nltk.word_tokenize(synonym)\n",
    "    synonym_tags = []\n",
    "    for token in tokens[:-1]:\n",
    "        synonym_tags.append((token, f'C{len(tokens)}S'))\n",
    "        \n",
    "    for token in tokens[-1:]:\n",
    "        synonym_tags.append((token, f'C{len(tokens)}E'))\n",
    "        \n",
    "    tree = create_group_tree(synonym_tags)\n",
    "    return tree\n",
    "\n",
    "def get_gt_tree(brief_summary: str, keywords: list[str]) -> nltk.Tree:\n",
    "    tokens = split_summary_by_keywords(brief_summary, keywords)\n",
    "    for part in tokens:\n",
    "        if part in keywords:\n",
    "            tree.append(get_synonym_subtree(token))\n",
    "        else:\n",
    "            tree.extend([(t, 'O') for t in nltk.word_tokenize(part)])\n",
    "    return nltk.Tree('S', tree)"
   ]
  },
  {
   "cell_type": "code",
   "execution_count": 32,
   "id": "21682033ba6e1b2",
   "metadata": {
    "ExecuteTime": {
     "end_time": "2024-03-18T04:39:34.597352Z",
     "start_time": "2024-03-18T04:39:34.569759Z"
    },
    "collapsed": false,
    "jupyter": {
     "outputs_hidden": false
    }
   },
   "outputs": [],
   "source": [
    "# tagger = taggers[-1]\n",
    "# test_trees = []\n",
    "# for _, row in summaries.iterrows():\n",
    "#     nct_id = row['nct_id']\n",
    "#     keywords = ground_truth[nct_id]\n",
    "#     brief_summary = row['brief_summary']\n",
    "#     tree = get_gt_tree(brief_summary, keywords)\n",
    "#     assert ''.join(split_summary_by_keywords(brief_summary, keywords)) == brief_summary\n",
    "#     test_trees.append(tree)"
   ]
  },
  {
   "cell_type": "code",
   "execution_count": null,
   "id": "afe16c5734526f86",
   "metadata": {
    "ExecuteTime": {
     "end_time": "2024-03-18T04:39:34.599663Z",
     "start_time": "2024-03-18T04:39:34.598165Z"
    },
    "collapsed": false,
    "jupyter": {
     "outputs_hidden": false
    }
   },
   "outputs": [],
   "source": []
  },
  {
   "cell_type": "code",
   "execution_count": 33,
   "id": "c1226774b3cd7288",
   "metadata": {
    "ExecuteTime": {
     "end_time": "2024-03-18T04:39:34.602977Z",
     "start_time": "2024-03-18T04:39:34.600451Z"
    },
    "collapsed": false,
    "jupyter": {
     "outputs_hidden": false
    }
   },
   "outputs": [],
   "source": [
    "# test_trees[1].height()"
   ]
  },
  {
   "cell_type": "code",
   "execution_count": 34,
   "id": "978dccfdb07ee727",
   "metadata": {
    "ExecuteTime": {
     "end_time": "2024-03-18T04:39:35.047946Z",
     "start_time": "2024-03-18T04:39:34.644965Z"
    },
    "collapsed": false,
    "jupyter": {
     "outputs_hidden": false
    }
   },
   "outputs": [],
   "source": [
    "chunker = ConsecutiveNPChunker(train_tree_synonyms)"
   ]
  },
  {
   "cell_type": "code",
   "execution_count": 35,
   "id": "889a137f62458fdb",
   "metadata": {
    "ExecuteTime": {
     "end_time": "2024-03-18T04:39:35.049308Z",
     "start_time": "2024-03-18T04:39:35.049225Z"
    },
    "collapsed": false,
    "jupyter": {
     "outputs_hidden": false
    }
   },
   "outputs": [
    {
     "name": "stderr",
     "output_type": "stream",
     "text": [
      "/tmp/ipykernel_270503/684302040.py:2: DeprecationWarning: \n",
      "  Function evaluate() has been deprecated.  Use accuracy(gold)\n",
      "  instead.\n",
      "  print(chunker.evaluate(train_tree_synonyms))\n"
     ]
    },
    {
     "name": "stdout",
     "output_type": "stream",
     "text": [
      "ChunkParse score:\n",
      "    IOB Accuracy: 100.0%%\n",
      "    Precision:    100.0%%\n",
      "    Recall:       100.0%%\n",
      "    F-Measure:    100.0%%\n"
     ]
    }
   ],
   "source": [
    "# Training set evaluation metric for the Chunker.\n",
    "print(chunker.evaluate(train_tree_synonyms))"
   ]
  },
  {
   "cell_type": "markdown",
   "id": "723fb886d43ebb57",
   "metadata": {
    "collapsed": false,
    "jupyter": {
     "outputs_hidden": false
    }
   },
   "source": [
    "## Test set evaluation metric for the Chunker."
   ]
  },
  {
   "cell_type": "code",
   "execution_count": 36,
   "id": "d5b88dffef876f4",
   "metadata": {
    "collapsed": false,
    "jupyter": {
     "outputs_hidden": false
    }
   },
   "outputs": [],
   "source": [
    "tagger = taggers[-1]\n",
    "test_trees = []\n",
    "for _, row in summaries.iterrows():\n",
    "    nct_id = row['nct_id']\n",
    "    keywords = ground_truth[nct_id]\n",
    "    brief_summary = row['brief_summary']\n",
    "    # _tags = tagger.tag(nltk.word_tokenize(brief_summary))\n",
    "    _tags = tagger.tag(nltk.word_tokenize(brief_summary.lower()))\n",
    "    tree = chunker.parse(_tags)\n",
    "    test_trees.append(tree)"
   ]
  },
  {
   "cell_type": "code",
   "execution_count": 37,
   "id": "b722e35f20a2c02c",
   "metadata": {
    "ExecuteTime": {
     "end_time": "2024-03-18T04:47:40.273978Z",
     "start_time": "2024-03-18T04:47:40.234134Z"
    },
    "collapsed": false,
    "jupyter": {
     "outputs_hidden": false
    }
   },
   "outputs": [
    {
     "data": {
      "text/plain": [
       "3"
      ]
     },
     "execution_count": 37,
     "metadata": {},
     "output_type": "execute_result"
    }
   ],
   "source": [
    "max([t.height() for t in train_tree_synonyms])"
   ]
  },
  {
   "cell_type": "code",
   "execution_count": 38,
   "id": "bf9b4db05872e072",
   "metadata": {
    "collapsed": false,
    "jupyter": {
     "outputs_hidden": false
    }
   },
   "outputs": [
    {
     "name": "stdout",
     "output_type": "stream",
     "text": [
      "ChunkParse score:\n",
      "    IOB Accuracy: 100.0%%\n",
      "    Precision:    100.0%%\n",
      "    Recall:       100.0%%\n",
      "    F-Measure:    100.0%%\n"
     ]
    },
    {
     "name": "stderr",
     "output_type": "stream",
     "text": [
      "/tmp/ipykernel_270503/2866446362.py:2: DeprecationWarning: \n",
      "  Function evaluate() has been deprecated.  Use accuracy(gold)\n",
      "  instead.\n",
      "  print(chunker.evaluate(test_trees))\n"
     ]
    }
   ],
   "source": [
    "# Note: 100% is too good, the dataset is rather small.\n",
    "print(chunker.evaluate(test_trees))"
   ]
  },
  {
   "cell_type": "code",
   "execution_count": 39,
   "id": "91a5ffdbb458dcd5",
   "metadata": {
    "collapsed": false,
    "jupyter": {
     "outputs_hidden": false
    }
   },
   "outputs": [
    {
     "data": {
      "image/svg+xml": [
       "<svg baseProfile=\"full\" height=\"168px\" preserveAspectRatio=\"xMidYMid meet\" style=\"font-family: times, serif; font-weight: normal; font-style: normal; font-size: 16px;\" version=\"1.1\" viewBox=\"0,0,4544.0,168.0\" width=\"4544px\" xmlns=\"http://www.w3.org/2000/svg\" xmlns:ev=\"http://www.w3.org/2001/xml-events\" xmlns:xlink=\"http://www.w3.org/1999/xlink\"><defs /><svg width=\"100%\" x=\"0\" y=\"0px\"><defs /><text text-anchor=\"middle\" x=\"50%\" y=\"16px\">S</text></svg><svg width=\"0.880282%\" x=\"0%\" y=\"48px\"><defs /><svg width=\"100%\" x=\"0\" y=\"0px\"><defs /><text text-anchor=\"middle\" x=\"50%\" y=\"16px\">the</text></svg><svg width=\"100%\" x=\"0%\" y=\"48px\"><defs /><svg width=\"100%\" x=\"0\" y=\"0px\"><defs /><text text-anchor=\"middle\" x=\"50%\" y=\"16px\">O</text></svg></svg><line stroke=\"black\" x1=\"50%\" x2=\"50%\" y1=\"19.2px\" y2=\"48px\" /></svg><line stroke=\"black\" x1=\"50%\" x2=\"0.440141%\" y1=\"19.2px\" y2=\"48px\" /><svg width=\"2.11268%\" x=\"0.880282%\" y=\"48px\"><defs /><svg width=\"100%\" x=\"0\" y=\"0px\"><defs /><text text-anchor=\"middle\" x=\"50%\" y=\"16px\">objectives</text></svg><svg width=\"100%\" x=\"0%\" y=\"48px\"><defs /><svg width=\"100%\" x=\"0\" y=\"0px\"><defs /><text text-anchor=\"middle\" x=\"50%\" y=\"16px\">O</text></svg></svg><line stroke=\"black\" x1=\"50%\" x2=\"50%\" y1=\"19.2px\" y2=\"48px\" /></svg><line stroke=\"black\" x1=\"50%\" x2=\"1.93662%\" y1=\"19.2px\" y2=\"48px\" /><svg width=\"0.704225%\" x=\"2.99296%\" y=\"48px\"><defs /><svg width=\"100%\" x=\"0\" y=\"0px\"><defs /><text text-anchor=\"middle\" x=\"50%\" y=\"16px\">of</text></svg><svg width=\"100%\" x=\"0%\" y=\"48px\"><defs /><svg width=\"100%\" x=\"0\" y=\"0px\"><defs /><text text-anchor=\"middle\" x=\"50%\" y=\"16px\">O</text></svg></svg><line stroke=\"black\" x1=\"50%\" x2=\"50%\" y1=\"19.2px\" y2=\"48px\" /></svg><line stroke=\"black\" x1=\"50%\" x2=\"3.34507%\" y1=\"19.2px\" y2=\"48px\" /><svg width=\"0.880282%\" x=\"3.69718%\" y=\"48px\"><defs /><svg width=\"100%\" x=\"0\" y=\"0px\"><defs /><text text-anchor=\"middle\" x=\"50%\" y=\"16px\">the</text></svg><svg width=\"100%\" x=\"0%\" y=\"48px\"><defs /><svg width=\"100%\" x=\"0\" y=\"0px\"><defs /><text text-anchor=\"middle\" x=\"50%\" y=\"16px\">O</text></svg></svg><line stroke=\"black\" x1=\"50%\" x2=\"50%\" y1=\"19.2px\" y2=\"48px\" /></svg><line stroke=\"black\" x1=\"50%\" x2=\"4.13732%\" y1=\"19.2px\" y2=\"48px\" /><svg width=\"1.23239%\" x=\"4.57746%\" y=\"48px\"><defs /><svg width=\"100%\" x=\"0\" y=\"0px\"><defs /><text text-anchor=\"middle\" x=\"50%\" y=\"16px\">study</text></svg><svg width=\"100%\" x=\"0%\" y=\"48px\"><defs /><svg width=\"100%\" x=\"0\" y=\"0px\"><defs /><text text-anchor=\"middle\" x=\"50%\" y=\"16px\">O</text></svg></svg><line stroke=\"black\" x1=\"50%\" x2=\"50%\" y1=\"19.2px\" y2=\"48px\" /></svg><line stroke=\"black\" x1=\"50%\" x2=\"5.19366%\" y1=\"19.2px\" y2=\"48px\" /><svg width=\"0.880282%\" x=\"5.80986%\" y=\"48px\"><defs /><svg width=\"100%\" x=\"0\" y=\"0px\"><defs /><text text-anchor=\"middle\" x=\"50%\" y=\"16px\">are</text></svg><svg width=\"100%\" x=\"0%\" y=\"48px\"><defs /><svg width=\"100%\" x=\"0\" y=\"0px\"><defs /><text text-anchor=\"middle\" x=\"50%\" y=\"16px\">O</text></svg></svg><line stroke=\"black\" x1=\"50%\" x2=\"50%\" y1=\"19.2px\" y2=\"48px\" /></svg><line stroke=\"black\" x1=\"50%\" x2=\"6.25%\" y1=\"19.2px\" y2=\"48px\" /><svg width=\"0.528169%\" x=\"6.69014%\" y=\"48px\"><defs /><svg width=\"100%\" x=\"0\" y=\"0px\"><defs /><text text-anchor=\"middle\" x=\"50%\" y=\"16px\">:</text></svg><svg width=\"100%\" x=\"0%\" y=\"48px\"><defs /><svg width=\"100%\" x=\"0\" y=\"0px\"><defs /><text text-anchor=\"middle\" x=\"50%\" y=\"16px\">O</text></svg></svg><line stroke=\"black\" x1=\"50%\" x2=\"50%\" y1=\"19.2px\" y2=\"48px\" /></svg><line stroke=\"black\" x1=\"50%\" x2=\"6.95423%\" y1=\"19.2px\" y2=\"48px\" /><svg width=\"0.704225%\" x=\"7.21831%\" y=\"48px\"><defs /><svg width=\"100%\" x=\"0\" y=\"0px\"><defs /><text text-anchor=\"middle\" x=\"50%\" y=\"16px\">1.</text></svg><svg width=\"100%\" x=\"0%\" y=\"48px\"><defs /><svg width=\"100%\" x=\"0\" y=\"0px\"><defs /><text text-anchor=\"middle\" x=\"50%\" y=\"16px\">O</text></svg></svg><line stroke=\"black\" x1=\"50%\" x2=\"50%\" y1=\"19.2px\" y2=\"48px\" /></svg><line stroke=\"black\" x1=\"50%\" x2=\"7.57042%\" y1=\"19.2px\" y2=\"48px\" /><svg width=\"2.11268%\" x=\"7.92254%\" y=\"48px\"><defs /><svg width=\"100%\" x=\"0\" y=\"0px\"><defs /><text text-anchor=\"middle\" x=\"50%\" y=\"16px\">evaluation</text></svg><svg width=\"100%\" x=\"0%\" y=\"48px\"><defs /><svg width=\"100%\" x=\"0\" y=\"0px\"><defs /><text text-anchor=\"middle\" x=\"50%\" y=\"16px\">O</text></svg></svg><line stroke=\"black\" x1=\"50%\" x2=\"50%\" y1=\"19.2px\" y2=\"48px\" /></svg><line stroke=\"black\" x1=\"50%\" x2=\"8.97887%\" y1=\"19.2px\" y2=\"48px\" /><svg width=\"0.704225%\" x=\"10.0352%\" y=\"48px\"><defs /><svg width=\"100%\" x=\"0\" y=\"0px\"><defs /><text text-anchor=\"middle\" x=\"50%\" y=\"16px\">of</text></svg><svg width=\"100%\" x=\"0%\" y=\"48px\"><defs /><svg width=\"100%\" x=\"0\" y=\"0px\"><defs /><text text-anchor=\"middle\" x=\"50%\" y=\"16px\">O</text></svg></svg><line stroke=\"black\" x1=\"50%\" x2=\"50%\" y1=\"19.2px\" y2=\"48px\" /></svg><line stroke=\"black\" x1=\"50%\" x2=\"10.3873%\" y1=\"19.2px\" y2=\"48px\" /><svg width=\"0.880282%\" x=\"10.7394%\" y=\"48px\"><defs /><svg width=\"100%\" x=\"0\" y=\"0px\"><defs /><text text-anchor=\"middle\" x=\"50%\" y=\"16px\">the</text></svg><svg width=\"100%\" x=\"0%\" y=\"48px\"><defs /><svg width=\"100%\" x=\"0\" y=\"0px\"><defs /><text text-anchor=\"middle\" x=\"50%\" y=\"16px\">O</text></svg></svg><line stroke=\"black\" x1=\"50%\" x2=\"50%\" y1=\"19.2px\" y2=\"48px\" /></svg><line stroke=\"black\" x1=\"50%\" x2=\"11.1796%\" y1=\"19.2px\" y2=\"48px\" /><svg width=\"1.40845%\" x=\"11.6197%\" y=\"48px\"><defs /><svg width=\"100%\" x=\"0\" y=\"0px\"><defs /><text text-anchor=\"middle\" x=\"50%\" y=\"16px\">safety</text></svg><svg width=\"100%\" x=\"0%\" y=\"48px\"><defs /><svg width=\"100%\" x=\"0\" y=\"0px\"><defs /><text text-anchor=\"middle\" x=\"50%\" y=\"16px\">O</text></svg></svg><line stroke=\"black\" x1=\"50%\" x2=\"50%\" y1=\"19.2px\" y2=\"48px\" /></svg><line stroke=\"black\" x1=\"50%\" x2=\"12.3239%\" y1=\"19.2px\" y2=\"48px\" /><svg width=\"1.58451%\" x=\"13.0282%\" y=\"48px\"><defs /><svg width=\"100%\" x=\"0\" y=\"0px\"><defs /><text text-anchor=\"middle\" x=\"50%\" y=\"16px\">profile</text></svg><svg width=\"100%\" x=\"0%\" y=\"48px\"><defs /><svg width=\"100%\" x=\"0\" y=\"0px\"><defs /><text text-anchor=\"middle\" x=\"50%\" y=\"16px\">O</text></svg></svg><line stroke=\"black\" x1=\"50%\" x2=\"50%\" y1=\"19.2px\" y2=\"48px\" /></svg><line stroke=\"black\" x1=\"50%\" x2=\"13.8204%\" y1=\"19.2px\" y2=\"48px\" /><svg width=\"0.704225%\" x=\"14.6127%\" y=\"48px\"><defs /><svg width=\"100%\" x=\"0\" y=\"0px\"><defs /><text text-anchor=\"middle\" x=\"50%\" y=\"16px\">of</text></svg><svg width=\"100%\" x=\"0%\" y=\"48px\"><defs /><svg width=\"100%\" x=\"0\" y=\"0px\"><defs /><text text-anchor=\"middle\" x=\"50%\" y=\"16px\">O</text></svg></svg><line stroke=\"black\" x1=\"50%\" x2=\"50%\" y1=\"19.2px\" y2=\"48px\" /></svg><line stroke=\"black\" x1=\"50%\" x2=\"14.9648%\" y1=\"19.2px\" y2=\"48px\" /><svg width=\"3.52113%\" x=\"15.3169%\" y=\"48px\"><defs /><svg width=\"100%\" x=\"0\" y=\"0px\"><defs /><text text-anchor=\"middle\" x=\"50%\" y=\"16px\">NP</text></svg><svg width=\"50%\" x=\"0%\" y=\"48px\"><defs /><svg width=\"100%\" x=\"0\" y=\"0px\"><defs /><text text-anchor=\"middle\" x=\"50%\" y=\"16px\">imatinib</text></svg><svg width=\"100%\" x=\"0%\" y=\"48px\"><defs /><svg width=\"100%\" x=\"0\" y=\"0px\"><defs /><text text-anchor=\"middle\" x=\"50%\" y=\"16px\">C1E</text></svg></svg><line stroke=\"black\" x1=\"50%\" x2=\"50%\" y1=\"19.2px\" y2=\"48px\" /></svg><line stroke=\"black\" x1=\"50%\" x2=\"25%\" y1=\"19.2px\" y2=\"48px\" /><svg width=\"50%\" x=\"50%\" y=\"48px\"><defs /><svg width=\"100%\" x=\"0\" y=\"0px\"><defs /><text text-anchor=\"middle\" x=\"50%\" y=\"16px\">mesylate</text></svg><svg width=\"100%\" x=\"0%\" y=\"48px\"><defs /><svg width=\"100%\" x=\"0\" y=\"0px\"><defs /><text text-anchor=\"middle\" x=\"50%\" y=\"16px\">C2E</text></svg></svg><line stroke=\"black\" x1=\"50%\" x2=\"50%\" y1=\"19.2px\" y2=\"48px\" /></svg><line stroke=\"black\" x1=\"50%\" x2=\"75%\" y1=\"19.2px\" y2=\"48px\" /></svg><line stroke=\"black\" x1=\"50%\" x2=\"17.0775%\" y1=\"19.2px\" y2=\"48px\" /><svg width=\"0.704225%\" x=\"18.838%\" y=\"48px\"><defs /><svg width=\"100%\" x=\"0\" y=\"0px\"><defs /><text text-anchor=\"middle\" x=\"50%\" y=\"16px\">in</text></svg><svg width=\"100%\" x=\"0%\" y=\"48px\"><defs /><svg width=\"100%\" x=\"0\" y=\"0px\"><defs /><text text-anchor=\"middle\" x=\"50%\" y=\"16px\">O</text></svg></svg><line stroke=\"black\" x1=\"50%\" x2=\"50%\" y1=\"19.2px\" y2=\"48px\" /></svg><line stroke=\"black\" x1=\"50%\" x2=\"19.1901%\" y1=\"19.2px\" y2=\"48px\" /><svg width=\"1.76056%\" x=\"19.5423%\" y=\"48px\"><defs /><svg width=\"100%\" x=\"0\" y=\"0px\"><defs /><text text-anchor=\"middle\" x=\"50%\" y=\"16px\">patients</text></svg><svg width=\"100%\" x=\"0%\" y=\"48px\"><defs /><svg width=\"100%\" x=\"0\" y=\"0px\"><defs /><text text-anchor=\"middle\" x=\"50%\" y=\"16px\">O</text></svg></svg><line stroke=\"black\" x1=\"50%\" x2=\"50%\" y1=\"19.2px\" y2=\"48px\" /></svg><line stroke=\"black\" x1=\"50%\" x2=\"20.4225%\" y1=\"19.2px\" y2=\"48px\" /><svg width=\"1.05634%\" x=\"21.3028%\" y=\"48px\"><defs /><svg width=\"100%\" x=\"0\" y=\"0px\"><defs /><text text-anchor=\"middle\" x=\"50%\" y=\"16px\">with</text></svg><svg width=\"100%\" x=\"0%\" y=\"48px\"><defs /><svg width=\"100%\" x=\"0\" y=\"0px\"><defs /><text text-anchor=\"middle\" x=\"50%\" y=\"16px\">O</text></svg></svg><line stroke=\"black\" x1=\"50%\" x2=\"50%\" y1=\"19.2px\" y2=\"48px\" /></svg><line stroke=\"black\" x1=\"50%\" x2=\"21.831%\" y1=\"19.2px\" y2=\"48px\" /><svg width=\"2.11268%\" x=\"22.3592%\" y=\"48px\"><defs /><svg width=\"100%\" x=\"0\" y=\"0px\"><defs /><text text-anchor=\"middle\" x=\"50%\" y=\"16px\">idiopathic</text></svg><svg width=\"100%\" x=\"0%\" y=\"48px\"><defs /><svg width=\"100%\" x=\"0\" y=\"0px\"><defs /><text text-anchor=\"middle\" x=\"50%\" y=\"16px\">O</text></svg></svg><line stroke=\"black\" x1=\"50%\" x2=\"50%\" y1=\"19.2px\" y2=\"48px\" /></svg><line stroke=\"black\" x1=\"50%\" x2=\"23.4155%\" y1=\"19.2px\" y2=\"48px\" /><svg width=\"3.34507%\" x=\"24.4718%\" y=\"48px\"><defs /><svg width=\"100%\" x=\"0\" y=\"0px\"><defs /><text text-anchor=\"middle\" x=\"50%\" y=\"16px\">hypereosinophilic</text></svg><svg width=\"100%\" x=\"0%\" y=\"48px\"><defs /><svg width=\"100%\" x=\"0\" y=\"0px\"><defs /><text text-anchor=\"middle\" x=\"50%\" y=\"16px\">O</text></svg></svg><line stroke=\"black\" x1=\"50%\" x2=\"50%\" y1=\"19.2px\" y2=\"48px\" /></svg><line stroke=\"black\" x1=\"50%\" x2=\"26.1444%\" y1=\"19.2px\" y2=\"48px\" /><svg width=\"1.76056%\" x=\"27.8169%\" y=\"48px\"><defs /><svg width=\"100%\" x=\"0\" y=\"0px\"><defs /><text text-anchor=\"middle\" x=\"50%\" y=\"16px\">syndrome</text></svg><svg width=\"100%\" x=\"0%\" y=\"48px\"><defs /><svg width=\"100%\" x=\"0\" y=\"0px\"><defs /><text text-anchor=\"middle\" x=\"50%\" y=\"16px\">O</text></svg></svg><line stroke=\"black\" x1=\"50%\" x2=\"50%\" y1=\"19.2px\" y2=\"48px\" /></svg><line stroke=\"black\" x1=\"50%\" x2=\"28.6972%\" y1=\"19.2px\" y2=\"48px\" /><svg width=\"1.93662%\" x=\"29.5775%\" y=\"48px\"><defs /><svg width=\"100%\" x=\"0\" y=\"0px\"><defs /><text text-anchor=\"middle\" x=\"50%\" y=\"16px\">resistant</text></svg><svg width=\"100%\" x=\"0%\" y=\"48px\"><defs /><svg width=\"100%\" x=\"0\" y=\"0px\"><defs /><text text-anchor=\"middle\" x=\"50%\" y=\"16px\">O</text></svg></svg><line stroke=\"black\" x1=\"50%\" x2=\"50%\" y1=\"19.2px\" y2=\"48px\" /></svg><line stroke=\"black\" x1=\"50%\" x2=\"30.5458%\" y1=\"19.2px\" y2=\"48px\" /><svg width=\"0.704225%\" x=\"31.5141%\" y=\"48px\"><defs /><svg width=\"100%\" x=\"0\" y=\"0px\"><defs /><text text-anchor=\"middle\" x=\"50%\" y=\"16px\">or</text></svg><svg width=\"100%\" x=\"0%\" y=\"48px\"><defs /><svg width=\"100%\" x=\"0\" y=\"0px\"><defs /><text text-anchor=\"middle\" x=\"50%\" y=\"16px\">O</text></svg></svg><line stroke=\"black\" x1=\"50%\" x2=\"50%\" y1=\"19.2px\" y2=\"48px\" /></svg><line stroke=\"black\" x1=\"50%\" x2=\"31.8662%\" y1=\"19.2px\" y2=\"48px\" /><svg width=\"2.11268%\" x=\"32.2183%\" y=\"48px\"><defs /><svg width=\"100%\" x=\"0\" y=\"0px\"><defs /><text text-anchor=\"middle\" x=\"50%\" y=\"16px\">refractory</text></svg><svg width=\"100%\" x=\"0%\" y=\"48px\"><defs /><svg width=\"100%\" x=\"0\" y=\"0px\"><defs /><text text-anchor=\"middle\" x=\"50%\" y=\"16px\">O</text></svg></svg><line stroke=\"black\" x1=\"50%\" x2=\"50%\" y1=\"19.2px\" y2=\"48px\" /></svg><line stroke=\"black\" x1=\"50%\" x2=\"33.2746%\" y1=\"19.2px\" y2=\"48px\" /><svg width=\"0.704225%\" x=\"34.331%\" y=\"48px\"><defs /><svg width=\"100%\" x=\"0\" y=\"0px\"><defs /><text text-anchor=\"middle\" x=\"50%\" y=\"16px\">to</text></svg><svg width=\"100%\" x=\"0%\" y=\"48px\"><defs /><svg width=\"100%\" x=\"0\" y=\"0px\"><defs /><text text-anchor=\"middle\" x=\"50%\" y=\"16px\">O</text></svg></svg><line stroke=\"black\" x1=\"50%\" x2=\"50%\" y1=\"19.2px\" y2=\"48px\" /></svg><line stroke=\"black\" x1=\"50%\" x2=\"34.6831%\" y1=\"19.2px\" y2=\"48px\" /><svg width=\"0.528169%\" x=\"35.0352%\" y=\"48px\"><defs /><svg width=\"100%\" x=\"0\" y=\"0px\"><defs /><text text-anchor=\"middle\" x=\"50%\" y=\"16px\">,</text></svg><svg width=\"100%\" x=\"0%\" y=\"48px\"><defs /><svg width=\"100%\" x=\"0\" y=\"0px\"><defs /><text text-anchor=\"middle\" x=\"50%\" y=\"16px\">O</text></svg></svg><line stroke=\"black\" x1=\"50%\" x2=\"50%\" y1=\"19.2px\" y2=\"48px\" /></svg><line stroke=\"black\" x1=\"50%\" x2=\"35.2993%\" y1=\"19.2px\" y2=\"48px\" /><svg width=\"0.704225%\" x=\"35.5634%\" y=\"48px\"><defs /><svg width=\"100%\" x=\"0\" y=\"0px\"><defs /><text text-anchor=\"middle\" x=\"50%\" y=\"16px\">or</text></svg><svg width=\"100%\" x=\"0%\" y=\"48px\"><defs /><svg width=\"100%\" x=\"0\" y=\"0px\"><defs /><text text-anchor=\"middle\" x=\"50%\" y=\"16px\">O</text></svg></svg><line stroke=\"black\" x1=\"50%\" x2=\"50%\" y1=\"19.2px\" y2=\"48px\" /></svg><line stroke=\"black\" x1=\"50%\" x2=\"35.9155%\" y1=\"19.2px\" y2=\"48px\" /><svg width=\"2.11268%\" x=\"36.2676%\" y=\"48px\"><defs /><svg width=\"100%\" x=\"0\" y=\"0px\"><defs /><text text-anchor=\"middle\" x=\"50%\" y=\"16px\">intolerant</text></svg><svg width=\"100%\" x=\"0%\" y=\"48px\"><defs /><svg width=\"100%\" x=\"0\" y=\"0px\"><defs /><text text-anchor=\"middle\" x=\"50%\" y=\"16px\">O</text></svg></svg><line stroke=\"black\" x1=\"50%\" x2=\"50%\" y1=\"19.2px\" y2=\"48px\" /></svg><line stroke=\"black\" x1=\"50%\" x2=\"37.3239%\" y1=\"19.2px\" y2=\"48px\" /><svg width=\"0.704225%\" x=\"38.3803%\" y=\"48px\"><defs /><svg width=\"100%\" x=\"0\" y=\"0px\"><defs /><text text-anchor=\"middle\" x=\"50%\" y=\"16px\">of</text></svg><svg width=\"100%\" x=\"0%\" y=\"48px\"><defs /><svg width=\"100%\" x=\"0\" y=\"0px\"><defs /><text text-anchor=\"middle\" x=\"50%\" y=\"16px\">O</text></svg></svg><line stroke=\"black\" x1=\"50%\" x2=\"50%\" y1=\"19.2px\" y2=\"48px\" /></svg><line stroke=\"black\" x1=\"50%\" x2=\"38.7324%\" y1=\"19.2px\" y2=\"48px\" /><svg width=\"0.528169%\" x=\"39.0845%\" y=\"48px\"><defs /><svg width=\"100%\" x=\"0\" y=\"0px\"><defs /><text text-anchor=\"middle\" x=\"50%\" y=\"16px\">,</text></svg><svg width=\"100%\" x=\"0%\" y=\"48px\"><defs /><svg width=\"100%\" x=\"0\" y=\"0px\"><defs /><text text-anchor=\"middle\" x=\"50%\" y=\"16px\">O</text></svg></svg><line stroke=\"black\" x1=\"50%\" x2=\"50%\" y1=\"19.2px\" y2=\"48px\" /></svg><line stroke=\"black\" x1=\"50%\" x2=\"39.3486%\" y1=\"19.2px\" y2=\"48px\" /><svg width=\"2.11268%\" x=\"39.6127%\" y=\"48px\"><defs /><svg width=\"100%\" x=\"0\" y=\"0px\"><defs /><text text-anchor=\"middle\" x=\"50%\" y=\"16px\">NP</text></svg><svg width=\"100%\" x=\"0%\" y=\"48px\"><defs /><svg width=\"100%\" x=\"0\" y=\"0px\"><defs /><text text-anchor=\"middle\" x=\"50%\" y=\"16px\">prednisone</text></svg><svg width=\"100%\" x=\"0%\" y=\"48px\"><defs /><svg width=\"100%\" x=\"0\" y=\"0px\"><defs /><text text-anchor=\"middle\" x=\"50%\" y=\"16px\">C1E</text></svg></svg><line stroke=\"black\" x1=\"50%\" x2=\"50%\" y1=\"19.2px\" y2=\"48px\" /></svg><line stroke=\"black\" x1=\"50%\" x2=\"50%\" y1=\"19.2px\" y2=\"48px\" /></svg><line stroke=\"black\" x1=\"50%\" x2=\"40.669%\" y1=\"19.2px\" y2=\"48px\" /><svg width=\"0.528169%\" x=\"41.7254%\" y=\"48px\"><defs /><svg width=\"100%\" x=\"0\" y=\"0px\"><defs /><text text-anchor=\"middle\" x=\"50%\" y=\"16px\">,</text></svg><svg width=\"100%\" x=\"0%\" y=\"48px\"><defs /><svg width=\"100%\" x=\"0\" y=\"0px\"><defs /><text text-anchor=\"middle\" x=\"50%\" y=\"16px\">O</text></svg></svg><line stroke=\"black\" x1=\"50%\" x2=\"50%\" y1=\"19.2px\" y2=\"48px\" /></svg><line stroke=\"black\" x1=\"50%\" x2=\"41.9894%\" y1=\"19.2px\" y2=\"48px\" /><svg width=\"2.28873%\" x=\"42.2535%\" y=\"48px\"><defs /><svg width=\"100%\" x=\"0\" y=\"0px\"><defs /><text text-anchor=\"middle\" x=\"50%\" y=\"16px\">NP</text></svg><svg width=\"100%\" x=\"0%\" y=\"48px\"><defs /><svg width=\"100%\" x=\"0\" y=\"0px\"><defs /><text text-anchor=\"middle\" x=\"50%\" y=\"16px\">hydroxyurea</text></svg><svg width=\"100%\" x=\"0%\" y=\"48px\"><defs /><svg width=\"100%\" x=\"0\" y=\"0px\"><defs /><text text-anchor=\"middle\" x=\"50%\" y=\"16px\">C1E</text></svg></svg><line stroke=\"black\" x1=\"50%\" x2=\"50%\" y1=\"19.2px\" y2=\"48px\" /></svg><line stroke=\"black\" x1=\"50%\" x2=\"50%\" y1=\"19.2px\" y2=\"48px\" /></svg><line stroke=\"black\" x1=\"50%\" x2=\"43.3979%\" y1=\"19.2px\" y2=\"48px\" /><svg width=\"0.704225%\" x=\"44.5423%\" y=\"48px\"><defs /><svg width=\"100%\" x=\"0\" y=\"0px\"><defs /><text text-anchor=\"middle\" x=\"50%\" y=\"16px\">or</text></svg><svg width=\"100%\" x=\"0%\" y=\"48px\"><defs /><svg width=\"100%\" x=\"0\" y=\"0px\"><defs /><text text-anchor=\"middle\" x=\"50%\" y=\"16px\">O</text></svg></svg><line stroke=\"black\" x1=\"50%\" x2=\"50%\" y1=\"19.2px\" y2=\"48px\" /></svg><line stroke=\"black\" x1=\"50%\" x2=\"44.8944%\" y1=\"19.2px\" y2=\"48px\" /><svg width=\"3.16901%\" x=\"45.2465%\" y=\"48px\"><defs /><svg width=\"100%\" x=\"0\" y=\"0px\"><defs /><text text-anchor=\"middle\" x=\"50%\" y=\"16px\">interferon-alpha</text></svg><svg width=\"100%\" x=\"0%\" y=\"48px\"><defs /><svg width=\"100%\" x=\"0\" y=\"0px\"><defs /><text text-anchor=\"middle\" x=\"50%\" y=\"16px\">O</text></svg></svg><line stroke=\"black\" x1=\"50%\" x2=\"50%\" y1=\"19.2px\" y2=\"48px\" /></svg><line stroke=\"black\" x1=\"50%\" x2=\"46.831%\" y1=\"19.2px\" y2=\"48px\" /><svg width=\"0.528169%\" x=\"48.4155%\" y=\"48px\"><defs /><svg width=\"100%\" x=\"0\" y=\"0px\"><defs /><text text-anchor=\"middle\" x=\"50%\" y=\"16px\">,</text></svg><svg width=\"100%\" x=\"0%\" y=\"48px\"><defs /><svg width=\"100%\" x=\"0\" y=\"0px\"><defs /><text text-anchor=\"middle\" x=\"50%\" y=\"16px\">O</text></svg></svg><line stroke=\"black\" x1=\"50%\" x2=\"50%\" y1=\"19.2px\" y2=\"48px\" /></svg><line stroke=\"black\" x1=\"50%\" x2=\"48.6796%\" y1=\"19.2px\" y2=\"48px\" /><svg width=\"0.704225%\" x=\"48.9437%\" y=\"48px\"><defs /><svg width=\"100%\" x=\"0\" y=\"0px\"><defs /><text text-anchor=\"middle\" x=\"50%\" y=\"16px\">or</text></svg><svg width=\"100%\" x=\"0%\" y=\"48px\"><defs /><svg width=\"100%\" x=\"0\" y=\"0px\"><defs /><text text-anchor=\"middle\" x=\"50%\" y=\"16px\">O</text></svg></svg><line stroke=\"black\" x1=\"50%\" x2=\"50%\" y1=\"19.2px\" y2=\"48px\" /></svg><line stroke=\"black\" x1=\"50%\" x2=\"49.2958%\" y1=\"19.2px\" y2=\"48px\" /><svg width=\"1.93662%\" x=\"49.6479%\" y=\"48px\"><defs /><svg width=\"100%\" x=\"0\" y=\"0px\"><defs /><text text-anchor=\"middle\" x=\"50%\" y=\"16px\">untreated</text></svg><svg width=\"100%\" x=\"0%\" y=\"48px\"><defs /><svg width=\"100%\" x=\"0\" y=\"0px\"><defs /><text text-anchor=\"middle\" x=\"50%\" y=\"16px\">O</text></svg></svg><line stroke=\"black\" x1=\"50%\" x2=\"50%\" y1=\"19.2px\" y2=\"48px\" /></svg><line stroke=\"black\" x1=\"50%\" x2=\"50.6162%\" y1=\"19.2px\" y2=\"48px\" /><svg width=\"1.76056%\" x=\"51.5845%\" y=\"48px\"><defs /><svg width=\"100%\" x=\"0\" y=\"0px\"><defs /><text text-anchor=\"middle\" x=\"50%\" y=\"16px\">patients</text></svg><svg width=\"100%\" x=\"0%\" y=\"48px\"><defs /><svg width=\"100%\" x=\"0\" y=\"0px\"><defs /><text text-anchor=\"middle\" x=\"50%\" y=\"16px\">O</text></svg></svg><line stroke=\"black\" x1=\"50%\" x2=\"50%\" y1=\"19.2px\" y2=\"48px\" /></svg><line stroke=\"black\" x1=\"50%\" x2=\"52.4648%\" y1=\"19.2px\" y2=\"48px\" /><svg width=\"1.76056%\" x=\"53.3451%\" y=\"48px\"><defs /><svg width=\"100%\" x=\"0\" y=\"0px\"><defs /><text text-anchor=\"middle\" x=\"50%\" y=\"16px\">carrying</text></svg><svg width=\"100%\" x=\"0%\" y=\"48px\"><defs /><svg width=\"100%\" x=\"0\" y=\"0px\"><defs /><text text-anchor=\"middle\" x=\"50%\" y=\"16px\">O</text></svg></svg><line stroke=\"black\" x1=\"50%\" x2=\"50%\" y1=\"19.2px\" y2=\"48px\" /></svg><line stroke=\"black\" x1=\"50%\" x2=\"54.2254%\" y1=\"19.2px\" y2=\"48px\" /><svg width=\"0.880282%\" x=\"55.1056%\" y=\"48px\"><defs /><svg width=\"100%\" x=\"0\" y=\"0px\"><defs /><text text-anchor=\"middle\" x=\"50%\" y=\"16px\">the</text></svg><svg width=\"100%\" x=\"0%\" y=\"48px\"><defs /><svg width=\"100%\" x=\"0\" y=\"0px\"><defs /><text text-anchor=\"middle\" x=\"50%\" y=\"16px\">O</text></svg></svg><line stroke=\"black\" x1=\"50%\" x2=\"50%\" y1=\"19.2px\" y2=\"48px\" /></svg><line stroke=\"black\" x1=\"50%\" x2=\"55.5458%\" y1=\"19.2px\" y2=\"48px\" /><svg width=\"2.64085%\" x=\"55.9859%\" y=\"48px\"><defs /><svg width=\"100%\" x=\"0\" y=\"0px\"><defs /><text text-anchor=\"middle\" x=\"50%\" y=\"16px\">fip1l1-pdgfra</text></svg><svg width=\"100%\" x=\"0%\" y=\"48px\"><defs /><svg width=\"100%\" x=\"0\" y=\"0px\"><defs /><text text-anchor=\"middle\" x=\"50%\" y=\"16px\">O</text></svg></svg><line stroke=\"black\" x1=\"50%\" x2=\"50%\" y1=\"19.2px\" y2=\"48px\" /></svg><line stroke=\"black\" x1=\"50%\" x2=\"57.3063%\" y1=\"19.2px\" y2=\"48px\" /><svg width=\"1.40845%\" x=\"58.6268%\" y=\"48px\"><defs /><svg width=\"100%\" x=\"0\" y=\"0px\"><defs /><text text-anchor=\"middle\" x=\"50%\" y=\"16px\">fusion</text></svg><svg width=\"100%\" x=\"0%\" y=\"48px\"><defs /><svg width=\"100%\" x=\"0\" y=\"0px\"><defs /><text text-anchor=\"middle\" x=\"50%\" y=\"16px\">O</text></svg></svg><line stroke=\"black\" x1=\"50%\" x2=\"50%\" y1=\"19.2px\" y2=\"48px\" /></svg><line stroke=\"black\" x1=\"50%\" x2=\"59.331%\" y1=\"19.2px\" y2=\"48px\" /><svg width=\"1.58451%\" x=\"60.0352%\" y=\"48px\"><defs /><svg width=\"100%\" x=\"0\" y=\"0px\"><defs /><text text-anchor=\"middle\" x=\"50%\" y=\"16px\">protein</text></svg><svg width=\"100%\" x=\"0%\" y=\"48px\"><defs /><svg width=\"100%\" x=\"0\" y=\"0px\"><defs /><text text-anchor=\"middle\" x=\"50%\" y=\"16px\">O</text></svg></svg><line stroke=\"black\" x1=\"50%\" x2=\"50%\" y1=\"19.2px\" y2=\"48px\" /></svg><line stroke=\"black\" x1=\"50%\" x2=\"60.8275%\" y1=\"19.2px\" y2=\"48px\" /><svg width=\"0.528169%\" x=\"61.6197%\" y=\"48px\"><defs /><svg width=\"100%\" x=\"0\" y=\"0px\"><defs /><text text-anchor=\"middle\" x=\"50%\" y=\"16px\">.</text></svg><svg width=\"100%\" x=\"0%\" y=\"48px\"><defs /><svg width=\"100%\" x=\"0\" y=\"0px\"><defs /><text text-anchor=\"middle\" x=\"50%\" y=\"16px\">O</text></svg></svg><line stroke=\"black\" x1=\"50%\" x2=\"50%\" y1=\"19.2px\" y2=\"48px\" /></svg><line stroke=\"black\" x1=\"50%\" x2=\"61.8838%\" y1=\"19.2px\" y2=\"48px\" /><svg width=\"0.704225%\" x=\"62.1479%\" y=\"48px\"><defs /><svg width=\"100%\" x=\"0\" y=\"0px\"><defs /><text text-anchor=\"middle\" x=\"50%\" y=\"16px\">2.</text></svg><svg width=\"100%\" x=\"0%\" y=\"48px\"><defs /><svg width=\"100%\" x=\"0\" y=\"0px\"><defs /><text text-anchor=\"middle\" x=\"50%\" y=\"16px\">O</text></svg></svg><line stroke=\"black\" x1=\"50%\" x2=\"50%\" y1=\"19.2px\" y2=\"48px\" /></svg><line stroke=\"black\" x1=\"50%\" x2=\"62.5%\" y1=\"19.2px\" y2=\"48px\" /><svg width=\"2.11268%\" x=\"62.8521%\" y=\"48px\"><defs /><svg width=\"100%\" x=\"0\" y=\"0px\"><defs /><text text-anchor=\"middle\" x=\"50%\" y=\"16px\">evaluation</text></svg><svg width=\"100%\" x=\"0%\" y=\"48px\"><defs /><svg width=\"100%\" x=\"0\" y=\"0px\"><defs /><text text-anchor=\"middle\" x=\"50%\" y=\"16px\">O</text></svg></svg><line stroke=\"black\" x1=\"50%\" x2=\"50%\" y1=\"19.2px\" y2=\"48px\" /></svg><line stroke=\"black\" x1=\"50%\" x2=\"63.9085%\" y1=\"19.2px\" y2=\"48px\" /><svg width=\"0.704225%\" x=\"64.9648%\" y=\"48px\"><defs /><svg width=\"100%\" x=\"0\" y=\"0px\"><defs /><text text-anchor=\"middle\" x=\"50%\" y=\"16px\">of</text></svg><svg width=\"100%\" x=\"0%\" y=\"48px\"><defs /><svg width=\"100%\" x=\"0\" y=\"0px\"><defs /><text text-anchor=\"middle\" x=\"50%\" y=\"16px\">O</text></svg></svg><line stroke=\"black\" x1=\"50%\" x2=\"50%\" y1=\"19.2px\" y2=\"48px\" /></svg><line stroke=\"black\" x1=\"50%\" x2=\"65.3169%\" y1=\"19.2px\" y2=\"48px\" /><svg width=\"0.880282%\" x=\"65.669%\" y=\"48px\"><defs /><svg width=\"100%\" x=\"0\" y=\"0px\"><defs /><text text-anchor=\"middle\" x=\"50%\" y=\"16px\">the</text></svg><svg width=\"100%\" x=\"0%\" y=\"48px\"><defs /><svg width=\"100%\" x=\"0\" y=\"0px\"><defs /><text text-anchor=\"middle\" x=\"50%\" y=\"16px\">O</text></svg></svg><line stroke=\"black\" x1=\"50%\" x2=\"50%\" y1=\"19.2px\" y2=\"48px\" /></svg><line stroke=\"black\" x1=\"50%\" x2=\"66.1092%\" y1=\"19.2px\" y2=\"48px\" /><svg width=\"1.76056%\" x=\"66.5493%\" y=\"48px\"><defs /><svg width=\"100%\" x=\"0\" y=\"0px\"><defs /><text text-anchor=\"middle\" x=\"50%\" y=\"16px\">efficacy</text></svg><svg width=\"100%\" x=\"0%\" y=\"48px\"><defs /><svg width=\"100%\" x=\"0\" y=\"0px\"><defs /><text text-anchor=\"middle\" x=\"50%\" y=\"16px\">O</text></svg></svg><line stroke=\"black\" x1=\"50%\" x2=\"50%\" y1=\"19.2px\" y2=\"48px\" /></svg><line stroke=\"black\" x1=\"50%\" x2=\"67.4296%\" y1=\"19.2px\" y2=\"48px\" /><svg width=\"0.704225%\" x=\"68.3099%\" y=\"48px\"><defs /><svg width=\"100%\" x=\"0\" y=\"0px\"><defs /><text text-anchor=\"middle\" x=\"50%\" y=\"16px\">of</text></svg><svg width=\"100%\" x=\"0%\" y=\"48px\"><defs /><svg width=\"100%\" x=\"0\" y=\"0px\"><defs /><text text-anchor=\"middle\" x=\"50%\" y=\"16px\">O</text></svg></svg><line stroke=\"black\" x1=\"50%\" x2=\"50%\" y1=\"19.2px\" y2=\"48px\" /></svg><line stroke=\"black\" x1=\"50%\" x2=\"68.662%\" y1=\"19.2px\" y2=\"48px\" /><svg width=\"3.52113%\" x=\"69.0141%\" y=\"48px\"><defs /><svg width=\"100%\" x=\"0\" y=\"0px\"><defs /><text text-anchor=\"middle\" x=\"50%\" y=\"16px\">NP</text></svg><svg width=\"50%\" x=\"0%\" y=\"48px\"><defs /><svg width=\"100%\" x=\"0\" y=\"0px\"><defs /><text text-anchor=\"middle\" x=\"50%\" y=\"16px\">imatinib</text></svg><svg width=\"100%\" x=\"0%\" y=\"48px\"><defs /><svg width=\"100%\" x=\"0\" y=\"0px\"><defs /><text text-anchor=\"middle\" x=\"50%\" y=\"16px\">C1E</text></svg></svg><line stroke=\"black\" x1=\"50%\" x2=\"50%\" y1=\"19.2px\" y2=\"48px\" /></svg><line stroke=\"black\" x1=\"50%\" x2=\"25%\" y1=\"19.2px\" y2=\"48px\" /><svg width=\"50%\" x=\"50%\" y=\"48px\"><defs /><svg width=\"100%\" x=\"0\" y=\"0px\"><defs /><text text-anchor=\"middle\" x=\"50%\" y=\"16px\">mesylate</text></svg><svg width=\"100%\" x=\"0%\" y=\"48px\"><defs /><svg width=\"100%\" x=\"0\" y=\"0px\"><defs /><text text-anchor=\"middle\" x=\"50%\" y=\"16px\">C2E</text></svg></svg><line stroke=\"black\" x1=\"50%\" x2=\"50%\" y1=\"19.2px\" y2=\"48px\" /></svg><line stroke=\"black\" x1=\"50%\" x2=\"75%\" y1=\"19.2px\" y2=\"48px\" /></svg><line stroke=\"black\" x1=\"50%\" x2=\"70.7746%\" y1=\"19.2px\" y2=\"48px\" /><svg width=\"0.704225%\" x=\"72.5352%\" y=\"48px\"><defs /><svg width=\"100%\" x=\"0\" y=\"0px\"><defs /><text text-anchor=\"middle\" x=\"50%\" y=\"16px\">in</text></svg><svg width=\"100%\" x=\"0%\" y=\"48px\"><defs /><svg width=\"100%\" x=\"0\" y=\"0px\"><defs /><text text-anchor=\"middle\" x=\"50%\" y=\"16px\">O</text></svg></svg><line stroke=\"black\" x1=\"50%\" x2=\"50%\" y1=\"19.2px\" y2=\"48px\" /></svg><line stroke=\"black\" x1=\"50%\" x2=\"72.8873%\" y1=\"19.2px\" y2=\"48px\" /><svg width=\"1.76056%\" x=\"73.2394%\" y=\"48px\"><defs /><svg width=\"100%\" x=\"0\" y=\"0px\"><defs /><text text-anchor=\"middle\" x=\"50%\" y=\"16px\">patients</text></svg><svg width=\"100%\" x=\"0%\" y=\"48px\"><defs /><svg width=\"100%\" x=\"0\" y=\"0px\"><defs /><text text-anchor=\"middle\" x=\"50%\" y=\"16px\">O</text></svg></svg><line stroke=\"black\" x1=\"50%\" x2=\"50%\" y1=\"19.2px\" y2=\"48px\" /></svg><line stroke=\"black\" x1=\"50%\" x2=\"74.1197%\" y1=\"19.2px\" y2=\"48px\" /><svg width=\"1.05634%\" x=\"75%\" y=\"48px\"><defs /><svg width=\"100%\" x=\"0\" y=\"0px\"><defs /><text text-anchor=\"middle\" x=\"50%\" y=\"16px\">with</text></svg><svg width=\"100%\" x=\"0%\" y=\"48px\"><defs /><svg width=\"100%\" x=\"0\" y=\"0px\"><defs /><text text-anchor=\"middle\" x=\"50%\" y=\"16px\">O</text></svg></svg><line stroke=\"black\" x1=\"50%\" x2=\"50%\" y1=\"19.2px\" y2=\"48px\" /></svg><line stroke=\"black\" x1=\"50%\" x2=\"75.5282%\" y1=\"19.2px\" y2=\"48px\" /><svg width=\"2.11268%\" x=\"76.0563%\" y=\"48px\"><defs /><svg width=\"100%\" x=\"0\" y=\"0px\"><defs /><text text-anchor=\"middle\" x=\"50%\" y=\"16px\">idiopathic</text></svg><svg width=\"100%\" x=\"0%\" y=\"48px\"><defs /><svg width=\"100%\" x=\"0\" y=\"0px\"><defs /><text text-anchor=\"middle\" x=\"50%\" y=\"16px\">O</text></svg></svg><line stroke=\"black\" x1=\"50%\" x2=\"50%\" y1=\"19.2px\" y2=\"48px\" /></svg><line stroke=\"black\" x1=\"50%\" x2=\"77.1127%\" y1=\"19.2px\" y2=\"48px\" /><svg width=\"3.34507%\" x=\"78.169%\" y=\"48px\"><defs /><svg width=\"100%\" x=\"0\" y=\"0px\"><defs /><text text-anchor=\"middle\" x=\"50%\" y=\"16px\">hypereosinophilic</text></svg><svg width=\"100%\" x=\"0%\" y=\"48px\"><defs /><svg width=\"100%\" x=\"0\" y=\"0px\"><defs /><text text-anchor=\"middle\" x=\"50%\" y=\"16px\">O</text></svg></svg><line stroke=\"black\" x1=\"50%\" x2=\"50%\" y1=\"19.2px\" y2=\"48px\" /></svg><line stroke=\"black\" x1=\"50%\" x2=\"79.8415%\" y1=\"19.2px\" y2=\"48px\" /><svg width=\"1.76056%\" x=\"81.5141%\" y=\"48px\"><defs /><svg width=\"100%\" x=\"0\" y=\"0px\"><defs /><text text-anchor=\"middle\" x=\"50%\" y=\"16px\">syndrome</text></svg><svg width=\"100%\" x=\"0%\" y=\"48px\"><defs /><svg width=\"100%\" x=\"0\" y=\"0px\"><defs /><text text-anchor=\"middle\" x=\"50%\" y=\"16px\">O</text></svg></svg><line stroke=\"black\" x1=\"50%\" x2=\"50%\" y1=\"19.2px\" y2=\"48px\" /></svg><line stroke=\"black\" x1=\"50%\" x2=\"82.3944%\" y1=\"19.2px\" y2=\"48px\" /><svg width=\"0.704225%\" x=\"83.2746%\" y=\"48px\"><defs /><svg width=\"100%\" x=\"0\" y=\"0px\"><defs /><text text-anchor=\"middle\" x=\"50%\" y=\"16px\">3.</text></svg><svg width=\"100%\" x=\"0%\" y=\"48px\"><defs /><svg width=\"100%\" x=\"0\" y=\"0px\"><defs /><text text-anchor=\"middle\" x=\"50%\" y=\"16px\">O</text></svg></svg><line stroke=\"black\" x1=\"50%\" x2=\"50%\" y1=\"19.2px\" y2=\"48px\" /></svg><line stroke=\"black\" x1=\"50%\" x2=\"83.6268%\" y1=\"19.2px\" y2=\"48px\" /><svg width=\"1.76056%\" x=\"83.9789%\" y=\"48px\"><defs /><svg width=\"100%\" x=\"0\" y=\"0px\"><defs /><text text-anchor=\"middle\" x=\"50%\" y=\"16px\">analysis</text></svg><svg width=\"100%\" x=\"0%\" y=\"48px\"><defs /><svg width=\"100%\" x=\"0\" y=\"0px\"><defs /><text text-anchor=\"middle\" x=\"50%\" y=\"16px\">O</text></svg></svg><line stroke=\"black\" x1=\"50%\" x2=\"50%\" y1=\"19.2px\" y2=\"48px\" /></svg><line stroke=\"black\" x1=\"50%\" x2=\"84.8592%\" y1=\"19.2px\" y2=\"48px\" /><svg width=\"0.704225%\" x=\"85.7394%\" y=\"48px\"><defs /><svg width=\"100%\" x=\"0\" y=\"0px\"><defs /><text text-anchor=\"middle\" x=\"50%\" y=\"16px\">of</text></svg><svg width=\"100%\" x=\"0%\" y=\"48px\"><defs /><svg width=\"100%\" x=\"0\" y=\"0px\"><defs /><text text-anchor=\"middle\" x=\"50%\" y=\"16px\">O</text></svg></svg><line stroke=\"black\" x1=\"50%\" x2=\"50%\" y1=\"19.2px\" y2=\"48px\" /></svg><line stroke=\"black\" x1=\"50%\" x2=\"86.0915%\" y1=\"19.2px\" y2=\"48px\" /><svg width=\"1.58451%\" x=\"86.4437%\" y=\"48px\"><defs /><svg width=\"100%\" x=\"0\" y=\"0px\"><defs /><text text-anchor=\"middle\" x=\"50%\" y=\"16px\">patient</text></svg><svg width=\"100%\" x=\"0%\" y=\"48px\"><defs /><svg width=\"100%\" x=\"0\" y=\"0px\"><defs /><text text-anchor=\"middle\" x=\"50%\" y=\"16px\">O</text></svg></svg><line stroke=\"black\" x1=\"50%\" x2=\"50%\" y1=\"19.2px\" y2=\"48px\" /></svg><line stroke=\"black\" x1=\"50%\" x2=\"87.2359%\" y1=\"19.2px\" y2=\"48px\" /><svg width=\"0.704225%\" x=\"88.0282%\" y=\"48px\"><defs /><svg width=\"100%\" x=\"0\" y=\"0px\"><defs /><text text-anchor=\"middle\" x=\"50%\" y=\"16px\">'s</text></svg><svg width=\"100%\" x=\"0%\" y=\"48px\"><defs /><svg width=\"100%\" x=\"0\" y=\"0px\"><defs /><text text-anchor=\"middle\" x=\"50%\" y=\"16px\">O</text></svg></svg><line stroke=\"black\" x1=\"50%\" x2=\"50%\" y1=\"19.2px\" y2=\"48px\" /></svg><line stroke=\"black\" x1=\"50%\" x2=\"88.3803%\" y1=\"19.2px\" y2=\"48px\" /><svg width=\"1.23239%\" x=\"88.7324%\" y=\"48px\"><defs /><svg width=\"100%\" x=\"0\" y=\"0px\"><defs /><text text-anchor=\"middle\" x=\"50%\" y=\"16px\">blood</text></svg><svg width=\"100%\" x=\"0%\" y=\"48px\"><defs /><svg width=\"100%\" x=\"0\" y=\"0px\"><defs /><text text-anchor=\"middle\" x=\"50%\" y=\"16px\">O</text></svg></svg><line stroke=\"black\" x1=\"50%\" x2=\"50%\" y1=\"19.2px\" y2=\"48px\" /></svg><line stroke=\"black\" x1=\"50%\" x2=\"89.3486%\" y1=\"19.2px\" y2=\"48px\" /><svg width=\"1.58451%\" x=\"89.9648%\" y=\"48px\"><defs /><svg width=\"100%\" x=\"0\" y=\"0px\"><defs /><text text-anchor=\"middle\" x=\"50%\" y=\"16px\">samples</text></svg><svg width=\"100%\" x=\"0%\" y=\"48px\"><defs /><svg width=\"100%\" x=\"0\" y=\"0px\"><defs /><text text-anchor=\"middle\" x=\"50%\" y=\"16px\">O</text></svg></svg><line stroke=\"black\" x1=\"50%\" x2=\"50%\" y1=\"19.2px\" y2=\"48px\" /></svg><line stroke=\"black\" x1=\"50%\" x2=\"90.757%\" y1=\"19.2px\" y2=\"48px\" /><svg width=\"0.880282%\" x=\"91.5493%\" y=\"48px\"><defs /><svg width=\"100%\" x=\"0\" y=\"0px\"><defs /><text text-anchor=\"middle\" x=\"50%\" y=\"16px\">for</text></svg><svg width=\"100%\" x=\"0%\" y=\"48px\"><defs /><svg width=\"100%\" x=\"0\" y=\"0px\"><defs /><text text-anchor=\"middle\" x=\"50%\" y=\"16px\">O</text></svg></svg><line stroke=\"black\" x1=\"50%\" x2=\"50%\" y1=\"19.2px\" y2=\"48px\" /></svg><line stroke=\"black\" x1=\"50%\" x2=\"91.9894%\" y1=\"19.2px\" y2=\"48px\" /><svg width=\"0.880282%\" x=\"92.4296%\" y=\"48px\"><defs /><svg width=\"100%\" x=\"0\" y=\"0px\"><defs /><text text-anchor=\"middle\" x=\"50%\" y=\"16px\">the</text></svg><svg width=\"100%\" x=\"0%\" y=\"48px\"><defs /><svg width=\"100%\" x=\"0\" y=\"0px\"><defs /><text text-anchor=\"middle\" x=\"50%\" y=\"16px\">O</text></svg></svg><line stroke=\"black\" x1=\"50%\" x2=\"50%\" y1=\"19.2px\" y2=\"48px\" /></svg><line stroke=\"black\" x1=\"50%\" x2=\"92.8697%\" y1=\"19.2px\" y2=\"48px\" /><svg width=\"1.93662%\" x=\"93.3099%\" y=\"48px\"><defs /><svg width=\"100%\" x=\"0\" y=\"0px\"><defs /><text text-anchor=\"middle\" x=\"50%\" y=\"16px\">detection</text></svg><svg width=\"100%\" x=\"0%\" y=\"48px\"><defs /><svg width=\"100%\" x=\"0\" y=\"0px\"><defs /><text text-anchor=\"middle\" x=\"50%\" y=\"16px\">O</text></svg></svg><line stroke=\"black\" x1=\"50%\" x2=\"50%\" y1=\"19.2px\" y2=\"48px\" /></svg><line stroke=\"black\" x1=\"50%\" x2=\"94.2782%\" y1=\"19.2px\" y2=\"48px\" /><svg width=\"0.704225%\" x=\"95.2465%\" y=\"48px\"><defs /><svg width=\"100%\" x=\"0\" y=\"0px\"><defs /><text text-anchor=\"middle\" x=\"50%\" y=\"16px\">of</text></svg><svg width=\"100%\" x=\"0%\" y=\"48px\"><defs /><svg width=\"100%\" x=\"0\" y=\"0px\"><defs /><text text-anchor=\"middle\" x=\"50%\" y=\"16px\">O</text></svg></svg><line stroke=\"black\" x1=\"50%\" x2=\"50%\" y1=\"19.2px\" y2=\"48px\" /></svg><line stroke=\"black\" x1=\"50%\" x2=\"95.5986%\" y1=\"19.2px\" y2=\"48px\" /><svg width=\"1.93662%\" x=\"95.9507%\" y=\"48px\"><defs /><svg width=\"100%\" x=\"0\" y=\"0px\"><defs /><text text-anchor=\"middle\" x=\"50%\" y=\"16px\">activated</text></svg><svg width=\"100%\" x=\"0%\" y=\"48px\"><defs /><svg width=\"100%\" x=\"0\" y=\"0px\"><defs /><text text-anchor=\"middle\" x=\"50%\" y=\"16px\">O</text></svg></svg><line stroke=\"black\" x1=\"50%\" x2=\"50%\" y1=\"19.2px\" y2=\"48px\" /></svg><line stroke=\"black\" x1=\"50%\" x2=\"96.919%\" y1=\"19.2px\" y2=\"48px\" /><svg width=\"1.58451%\" x=\"97.8873%\" y=\"48px\"><defs /><svg width=\"100%\" x=\"0\" y=\"0px\"><defs /><text text-anchor=\"middle\" x=\"50%\" y=\"16px\">kinases</text></svg><svg width=\"100%\" x=\"0%\" y=\"48px\"><defs /><svg width=\"100%\" x=\"0\" y=\"0px\"><defs /><text text-anchor=\"middle\" x=\"50%\" y=\"16px\">O</text></svg></svg><line stroke=\"black\" x1=\"50%\" x2=\"50%\" y1=\"19.2px\" y2=\"48px\" /></svg><line stroke=\"black\" x1=\"50%\" x2=\"98.6796%\" y1=\"19.2px\" y2=\"48px\" /><svg width=\"0.528169%\" x=\"99.4718%\" y=\"48px\"><defs /><svg width=\"100%\" x=\"0\" y=\"0px\"><defs /><text text-anchor=\"middle\" x=\"50%\" y=\"16px\">.</text></svg><svg width=\"100%\" x=\"0%\" y=\"48px\"><defs /><svg width=\"100%\" x=\"0\" y=\"0px\"><defs /><text text-anchor=\"middle\" x=\"50%\" y=\"16px\">O</text></svg></svg><line stroke=\"black\" x1=\"50%\" x2=\"50%\" y1=\"19.2px\" y2=\"48px\" /></svg><line stroke=\"black\" x1=\"50%\" x2=\"99.7359%\" y1=\"19.2px\" y2=\"48px\" /></svg>"
      ],
      "text/plain": [
       "Tree('S', [('the', 'O'), ('objectives', 'O'), ('of', 'O'), ('the', 'O'), ('study', 'O'), ('are', 'O'), (':', 'O'), ('1.', 'O'), ('evaluation', 'O'), ('of', 'O'), ('the', 'O'), ('safety', 'O'), ('profile', 'O'), ('of', 'O'), Tree('NP', [('imatinib', 'C1E'), ('mesylate', 'C2E')]), ('in', 'O'), ('patients', 'O'), ('with', 'O'), ('idiopathic', 'O'), ('hypereosinophilic', 'O'), ('syndrome', 'O'), ('resistant', 'O'), ('or', 'O'), ('refractory', 'O'), ('to', 'O'), (',', 'O'), ('or', 'O'), ('intolerant', 'O'), ('of', 'O'), (',', 'O'), Tree('NP', [('prednisone', 'C1E')]), (',', 'O'), Tree('NP', [('hydroxyurea', 'C1E')]), ('or', 'O'), ('interferon-alpha', 'O'), (',', 'O'), ('or', 'O'), ('untreated', 'O'), ('patients', 'O'), ('carrying', 'O'), ('the', 'O'), ('fip1l1-pdgfra', 'O'), ('fusion', 'O'), ('protein', 'O'), ('.', 'O'), ('2.', 'O'), ('evaluation', 'O'), ('of', 'O'), ('the', 'O'), ('efficacy', 'O'), ('of', 'O'), Tree('NP', [('imatinib', 'C1E'), ('mesylate', 'C2E')]), ('in', 'O'), ('patients', 'O'), ('with', 'O'), ('idiopathic', 'O'), ('hypereosinophilic', 'O'), ('syndrome', 'O'), ('3.', 'O'), ('analysis', 'O'), ('of', 'O'), ('patient', 'O'), (\"'s\", 'O'), ('blood', 'O'), ('samples', 'O'), ('for', 'O'), ('the', 'O'), ('detection', 'O'), ('of', 'O'), ('activated', 'O'), ('kinases', 'O'), ('.', 'O')])"
      ]
     },
     "execution_count": 39,
     "metadata": {},
     "output_type": "execute_result"
    }
   ],
   "source": [
    "test_trees[26]"
   ]
  },
  {
   "cell_type": "markdown",
   "id": "dfe7cf8c010d00fa",
   "metadata": {
    "collapsed": false,
    "jupyter": {
     "outputs_hidden": false
    }
   },
   "source": [
    "## Extract terms and map to preferred names"
   ]
  },
  {
   "cell_type": "code",
   "execution_count": 40,
   "id": "e097692bc3aae9f5",
   "metadata": {
    "collapsed": false,
    "jupyter": {
     "outputs_hidden": false
    }
   },
   "outputs": [],
   "source": [
    "def extract_preferred_names_from_tree(tree, group_tag: str = 'NP') -> list[str]:\n",
    "    terms = extract_grouped_terms(tree=tree, group_tag=group_tag)\n",
    "    term_prefered_names = []\n",
    "    for term_raw in terms:\n",
    "        term = term_raw.lower()\n",
    "        # print(term, term_raw)\n",
    "        if term not in preferred_name_by_term:\n",
    "            continue\n",
    "        term_prefered_names.append(preferred_name_by_term[term])\n",
    "    return list(set(term_prefered_names))    \n",
    "    "
   ]
  },
  {
   "cell_type": "code",
   "execution_count": 41,
   "id": "b21752551476e335",
   "metadata": {
    "collapsed": false,
    "jupyter": {
     "outputs_hidden": false
    }
   },
   "outputs": [],
   "source": [
    "extracted_terms = []\n",
    "for tree in test_trees:\n",
    "    extracted_terms.append(extract_preferred_names_from_tree(tree))\n",
    "test_df = pd.DataFrame({\n",
    "    'nct_id': summaries['nct_id'],\n",
    "    'extracted_terms': extracted_terms\n",
    "})"
   ]
  },
  {
   "cell_type": "markdown",
   "id": "1655577b-9be3-48cb-b477-201c69d627e5",
   "metadata": {
    "collapsed": false,
    "jupyter": {
     "outputs_hidden": false
    }
   },
   "source": [
    "## Evaluate"
   ]
  },
  {
   "cell_type": "code",
   "execution_count": 42,
   "id": "62913a3cd2cf6dcf",
   "metadata": {
    "collapsed": false,
    "jupyter": {
     "outputs_hidden": false
    }
   },
   "outputs": [],
   "source": [
    "test_df['gt_cleaned'] = test_df.nct_id.map(lambda x: ground_truth_cleaned[x])"
   ]
  },
  {
   "cell_type": "code",
   "execution_count": 43,
   "id": "13ffe966d12c829d",
   "metadata": {
    "collapsed": false,
    "jupyter": {
     "outputs_hidden": false
    }
   },
   "outputs": [],
   "source": [
    "test_df['match_count'] = test_df.apply(lambda row: len(set(row['extracted_terms']).intersection(set(row['gt_cleaned']))), axis=1)"
   ]
  },
  {
   "cell_type": "code",
   "execution_count": 44,
   "id": "a1262b023a941072",
   "metadata": {
    "collapsed": false,
    "jupyter": {
     "outputs_hidden": false
    }
   },
   "outputs": [
    {
     "data": {
      "text/html": [
       "<div>\n",
       "<style scoped>\n",
       "    .dataframe tbody tr th:only-of-type {\n",
       "        vertical-align: middle;\n",
       "    }\n",
       "\n",
       "    .dataframe tbody tr th {\n",
       "        vertical-align: top;\n",
       "    }\n",
       "\n",
       "    .dataframe thead th {\n",
       "        text-align: right;\n",
       "    }\n",
       "</style>\n",
       "<table border=\"1\" class=\"dataframe\">\n",
       "  <thead>\n",
       "    <tr style=\"text-align: right;\">\n",
       "      <th></th>\n",
       "      <th>nct_id</th>\n",
       "      <th>extracted_terms</th>\n",
       "      <th>gt_cleaned</th>\n",
       "      <th>match_count</th>\n",
       "    </tr>\n",
       "  </thead>\n",
       "  <tbody>\n",
       "    <tr>\n",
       "      <th>0</th>\n",
       "      <td>NCT00037648</td>\n",
       "      <td>[anakinra]</td>\n",
       "      <td>[anakinra]</td>\n",
       "      <td>1</td>\n",
       "    </tr>\n",
       "    <tr>\n",
       "      <th>1</th>\n",
       "      <td>NCT00048542</td>\n",
       "      <td>[adalimumab, methotrexate]</td>\n",
       "      <td>[adalimumab, methotrexate]</td>\n",
       "      <td>2</td>\n",
       "    </tr>\n",
       "    <tr>\n",
       "      <th>2</th>\n",
       "      <td>NCT00071487</td>\n",
       "      <td>[belimumab]</td>\n",
       "      <td>[belimumab]</td>\n",
       "      <td>1</td>\n",
       "    </tr>\n",
       "    <tr>\n",
       "      <th>3</th>\n",
       "      <td>NCT00071812</td>\n",
       "      <td>[belimumab]</td>\n",
       "      <td>[belimumab]</td>\n",
       "      <td>1</td>\n",
       "    </tr>\n",
       "    <tr>\n",
       "      <th>4</th>\n",
       "      <td>NCT00072839</td>\n",
       "      <td>[teduglutide]</td>\n",
       "      <td>[teduglutide]</td>\n",
       "      <td>1</td>\n",
       "    </tr>\n",
       "  </tbody>\n",
       "</table>\n",
       "</div>"
      ],
      "text/plain": [
       "        nct_id             extracted_terms                  gt_cleaned  \\\n",
       "0  NCT00037648                  [anakinra]                  [anakinra]   \n",
       "1  NCT00048542  [adalimumab, methotrexate]  [adalimumab, methotrexate]   \n",
       "2  NCT00071487                 [belimumab]                 [belimumab]   \n",
       "3  NCT00071812                 [belimumab]                 [belimumab]   \n",
       "4  NCT00072839               [teduglutide]               [teduglutide]   \n",
       "\n",
       "   match_count  \n",
       "0            1  \n",
       "1            2  \n",
       "2            1  \n",
       "3            1  \n",
       "4            1  "
      ]
     },
     "execution_count": 44,
     "metadata": {},
     "output_type": "execute_result"
    }
   ],
   "source": [
    "test_df.head()"
   ]
  },
  {
   "cell_type": "code",
   "execution_count": 45,
   "id": "33df1e0fc0697d4e",
   "metadata": {
    "collapsed": false,
    "jupyter": {
     "outputs_hidden": false
    }
   },
   "outputs": [],
   "source": [
    "test_df['extracted_terms_count'] = test_df['extracted_terms'].map(len)\n",
    "test_df['gt_cleaned_count'] = test_df['gt_cleaned'].map(len)"
   ]
  },
  {
   "cell_type": "code",
   "execution_count": null,
   "id": "7c0cd7aff7cca6da",
   "metadata": {
    "collapsed": false,
    "jupyter": {
     "outputs_hidden": false
    }
   },
   "outputs": [],
   "source": []
  },
  {
   "cell_type": "code",
   "execution_count": 46,
   "id": "987cb62dd4c09c38",
   "metadata": {
    "collapsed": false,
    "jupyter": {
     "outputs_hidden": false
    }
   },
   "outputs": [
    {
     "name": "stdout",
     "output_type": "stream",
     "text": [
      "Precision:  100.00%\n",
      "Recall:  98.25%\n"
     ]
    }
   ],
   "source": [
    "true_positive_count = test_df['match_count'].sum()\n",
    "precision = true_positive_count / test_df['extracted_terms_count'].sum()\n",
    "recall = true_positive_count / test_df['gt_cleaned_count'].sum()\n",
    "print(f'Precision: {precision: .2%}')\n",
    "print(f'Recall: {recall: .2%}')\n"
   ]
  },
  {
   "cell_type": "code",
   "execution_count": 47,
   "id": "aa23dad0f6848c",
   "metadata": {
    "collapsed": false,
    "jupyter": {
     "outputs_hidden": false
    }
   },
   "outputs": [
    {
     "data": {
      "text/html": [
       "<div>\n",
       "<style scoped>\n",
       "    .dataframe tbody tr th:only-of-type {\n",
       "        vertical-align: middle;\n",
       "    }\n",
       "\n",
       "    .dataframe tbody tr th {\n",
       "        vertical-align: top;\n",
       "    }\n",
       "\n",
       "    .dataframe thead th {\n",
       "        text-align: right;\n",
       "    }\n",
       "</style>\n",
       "<table border=\"1\" class=\"dataframe\">\n",
       "  <thead>\n",
       "    <tr style=\"text-align: right;\">\n",
       "      <th></th>\n",
       "      <th>nct_id</th>\n",
       "      <th>extracted_terms</th>\n",
       "      <th>gt_cleaned</th>\n",
       "      <th>match_count</th>\n",
       "      <th>extracted_terms_count</th>\n",
       "      <th>gt_cleaned_count</th>\n",
       "    </tr>\n",
       "  </thead>\n",
       "  <tbody>\n",
       "    <tr>\n",
       "      <th>45</th>\n",
       "      <td>NCT00265122</td>\n",
       "      <td>[]</td>\n",
       "      <td>[ustekinumab]</td>\n",
       "      <td>0</td>\n",
       "      <td>0</td>\n",
       "      <td>1</td>\n",
       "    </tr>\n",
       "  </tbody>\n",
       "</table>\n",
       "</div>"
      ],
      "text/plain": [
       "         nct_id extracted_terms     gt_cleaned  match_count  \\\n",
       "45  NCT00265122              []  [ustekinumab]            0   \n",
       "\n",
       "    extracted_terms_count  gt_cleaned_count  \n",
       "45                      0                 1  "
      ]
     },
     "execution_count": 47,
     "metadata": {},
     "output_type": "execute_result"
    }
   ],
   "source": [
    "misses_df = test_df[(test_df['match_count'] != test_df['extracted_terms_count']) | (test_df['match_count'] != test_df['gt_cleaned_count'])]\n",
    "misses_df"
   ]
  },
  {
   "cell_type": "code",
   "execution_count": null,
   "id": "898a2fa0c9c71721",
   "metadata": {
    "collapsed": false,
    "jupyter": {
     "outputs_hidden": false
    }
   },
   "outputs": [],
   "source": []
  },
  {
   "cell_type": "markdown",
   "id": "b7ae4819-5958-4f3c-9a89-a32edbc7696a",
   "metadata": {
    "collapsed": false,
    "jupyter": {
     "outputs_hidden": false
    }
   },
   "source": [
    "### Check specific case(s)"
   ]
  },
  {
   "cell_type": "code",
   "execution_count": 48,
   "id": "fe5794ddad31ad59",
   "metadata": {
    "collapsed": false,
    "jupyter": {
     "outputs_hidden": false
    }
   },
   "outputs": [
    {
     "name": "stdout",
     "output_type": "stream",
     "text": [
      "The purpose of this study is to examine the safety and efficacy of CNTO 1275 in participants with active Crohn's Disease.\n"
     ]
    }
   ],
   "source": [
    "_sum = summaries[summaries['nct_id']=='NCT00265122'].brief_summary.iloc[0]\n",
    "print(_sum)"
   ]
  },
  {
   "cell_type": "code",
   "execution_count": 49,
   "id": "bda1abf07b7d24f4",
   "metadata": {
    "collapsed": false,
    "jupyter": {
     "outputs_hidden": false
    }
   },
   "outputs": [
    {
     "data": {
      "text/plain": [
       "45"
      ]
     },
     "execution_count": 49,
     "metadata": {},
     "output_type": "execute_result"
    }
   ],
   "source": [
    "index = summaries[summaries['nct_id']=='NCT00265122'].index[0]\n",
    "index"
   ]
  },
  {
   "cell_type": "code",
   "execution_count": 50,
   "id": "5f9c975573b196b5",
   "metadata": {
    "collapsed": false,
    "jupyter": {
     "outputs_hidden": false
    }
   },
   "outputs": [
    {
     "data": {
      "image/svg+xml": [
       "<svg baseProfile=\"full\" height=\"168px\" preserveAspectRatio=\"xMidYMid meet\" style=\"font-family: times, serif; font-weight: normal; font-style: normal; font-size: 16px;\" version=\"1.1\" viewBox=\"0,0,1176.0,168.0\" width=\"1176px\" xmlns=\"http://www.w3.org/2000/svg\" xmlns:ev=\"http://www.w3.org/2001/xml-events\" xmlns:xlink=\"http://www.w3.org/1999/xlink\"><defs /><svg width=\"100%\" x=\"0\" y=\"0px\"><defs /><text text-anchor=\"middle\" x=\"50%\" y=\"16px\">S</text></svg><svg width=\"3.40136%\" x=\"0%\" y=\"48px\"><defs /><svg width=\"100%\" x=\"0\" y=\"0px\"><defs /><text text-anchor=\"middle\" x=\"50%\" y=\"16px\">the</text></svg><svg width=\"100%\" x=\"0%\" y=\"48px\"><defs /><svg width=\"100%\" x=\"0\" y=\"0px\"><defs /><text text-anchor=\"middle\" x=\"50%\" y=\"16px\">O</text></svg></svg><line stroke=\"black\" x1=\"50%\" x2=\"50%\" y1=\"19.2px\" y2=\"48px\" /></svg><line stroke=\"black\" x1=\"50%\" x2=\"1.70068%\" y1=\"19.2px\" y2=\"48px\" /><svg width=\"6.12245%\" x=\"3.40136%\" y=\"48px\"><defs /><svg width=\"100%\" x=\"0\" y=\"0px\"><defs /><text text-anchor=\"middle\" x=\"50%\" y=\"16px\">purpose</text></svg><svg width=\"100%\" x=\"0%\" y=\"48px\"><defs /><svg width=\"100%\" x=\"0\" y=\"0px\"><defs /><text text-anchor=\"middle\" x=\"50%\" y=\"16px\">O</text></svg></svg><line stroke=\"black\" x1=\"50%\" x2=\"50%\" y1=\"19.2px\" y2=\"48px\" /></svg><line stroke=\"black\" x1=\"50%\" x2=\"6.46259%\" y1=\"19.2px\" y2=\"48px\" /><svg width=\"2.72109%\" x=\"9.52381%\" y=\"48px\"><defs /><svg width=\"100%\" x=\"0\" y=\"0px\"><defs /><text text-anchor=\"middle\" x=\"50%\" y=\"16px\">of</text></svg><svg width=\"100%\" x=\"0%\" y=\"48px\"><defs /><svg width=\"100%\" x=\"0\" y=\"0px\"><defs /><text text-anchor=\"middle\" x=\"50%\" y=\"16px\">O</text></svg></svg><line stroke=\"black\" x1=\"50%\" x2=\"50%\" y1=\"19.2px\" y2=\"48px\" /></svg><line stroke=\"black\" x1=\"50%\" x2=\"10.8844%\" y1=\"19.2px\" y2=\"48px\" /><svg width=\"4.08163%\" x=\"12.2449%\" y=\"48px\"><defs /><svg width=\"100%\" x=\"0\" y=\"0px\"><defs /><text text-anchor=\"middle\" x=\"50%\" y=\"16px\">this</text></svg><svg width=\"100%\" x=\"0%\" y=\"48px\"><defs /><svg width=\"100%\" x=\"0\" y=\"0px\"><defs /><text text-anchor=\"middle\" x=\"50%\" y=\"16px\">O</text></svg></svg><line stroke=\"black\" x1=\"50%\" x2=\"50%\" y1=\"19.2px\" y2=\"48px\" /></svg><line stroke=\"black\" x1=\"50%\" x2=\"14.2857%\" y1=\"19.2px\" y2=\"48px\" /><svg width=\"4.7619%\" x=\"16.3265%\" y=\"48px\"><defs /><svg width=\"100%\" x=\"0\" y=\"0px\"><defs /><text text-anchor=\"middle\" x=\"50%\" y=\"16px\">study</text></svg><svg width=\"100%\" x=\"0%\" y=\"48px\"><defs /><svg width=\"100%\" x=\"0\" y=\"0px\"><defs /><text text-anchor=\"middle\" x=\"50%\" y=\"16px\">O</text></svg></svg><line stroke=\"black\" x1=\"50%\" x2=\"50%\" y1=\"19.2px\" y2=\"48px\" /></svg><line stroke=\"black\" x1=\"50%\" x2=\"18.7075%\" y1=\"19.2px\" y2=\"48px\" /><svg width=\"2.72109%\" x=\"21.0884%\" y=\"48px\"><defs /><svg width=\"100%\" x=\"0\" y=\"0px\"><defs /><text text-anchor=\"middle\" x=\"50%\" y=\"16px\">is</text></svg><svg width=\"100%\" x=\"0%\" y=\"48px\"><defs /><svg width=\"100%\" x=\"0\" y=\"0px\"><defs /><text text-anchor=\"middle\" x=\"50%\" y=\"16px\">O</text></svg></svg><line stroke=\"black\" x1=\"50%\" x2=\"50%\" y1=\"19.2px\" y2=\"48px\" /></svg><line stroke=\"black\" x1=\"50%\" x2=\"22.449%\" y1=\"19.2px\" y2=\"48px\" /><svg width=\"2.72109%\" x=\"23.8095%\" y=\"48px\"><defs /><svg width=\"100%\" x=\"0\" y=\"0px\"><defs /><text text-anchor=\"middle\" x=\"50%\" y=\"16px\">to</text></svg><svg width=\"100%\" x=\"0%\" y=\"48px\"><defs /><svg width=\"100%\" x=\"0\" y=\"0px\"><defs /><text text-anchor=\"middle\" x=\"50%\" y=\"16px\">O</text></svg></svg><line stroke=\"black\" x1=\"50%\" x2=\"50%\" y1=\"19.2px\" y2=\"48px\" /></svg><line stroke=\"black\" x1=\"50%\" x2=\"25.1701%\" y1=\"19.2px\" y2=\"48px\" /><svg width=\"6.12245%\" x=\"26.5306%\" y=\"48px\"><defs /><svg width=\"100%\" x=\"0\" y=\"0px\"><defs /><text text-anchor=\"middle\" x=\"50%\" y=\"16px\">examine</text></svg><svg width=\"100%\" x=\"0%\" y=\"48px\"><defs /><svg width=\"100%\" x=\"0\" y=\"0px\"><defs /><text text-anchor=\"middle\" x=\"50%\" y=\"16px\">O</text></svg></svg><line stroke=\"black\" x1=\"50%\" x2=\"50%\" y1=\"19.2px\" y2=\"48px\" /></svg><line stroke=\"black\" x1=\"50%\" x2=\"29.5918%\" y1=\"19.2px\" y2=\"48px\" /><svg width=\"3.40136%\" x=\"32.6531%\" y=\"48px\"><defs /><svg width=\"100%\" x=\"0\" y=\"0px\"><defs /><text text-anchor=\"middle\" x=\"50%\" y=\"16px\">the</text></svg><svg width=\"100%\" x=\"0%\" y=\"48px\"><defs /><svg width=\"100%\" x=\"0\" y=\"0px\"><defs /><text text-anchor=\"middle\" x=\"50%\" y=\"16px\">O</text></svg></svg><line stroke=\"black\" x1=\"50%\" x2=\"50%\" y1=\"19.2px\" y2=\"48px\" /></svg><line stroke=\"black\" x1=\"50%\" x2=\"34.3537%\" y1=\"19.2px\" y2=\"48px\" /><svg width=\"5.44218%\" x=\"36.0544%\" y=\"48px\"><defs /><svg width=\"100%\" x=\"0\" y=\"0px\"><defs /><text text-anchor=\"middle\" x=\"50%\" y=\"16px\">safety</text></svg><svg width=\"100%\" x=\"0%\" y=\"48px\"><defs /><svg width=\"100%\" x=\"0\" y=\"0px\"><defs /><text text-anchor=\"middle\" x=\"50%\" y=\"16px\">O</text></svg></svg><line stroke=\"black\" x1=\"50%\" x2=\"50%\" y1=\"19.2px\" y2=\"48px\" /></svg><line stroke=\"black\" x1=\"50%\" x2=\"38.7755%\" y1=\"19.2px\" y2=\"48px\" /><svg width=\"3.40136%\" x=\"41.4966%\" y=\"48px\"><defs /><svg width=\"100%\" x=\"0\" y=\"0px\"><defs /><text text-anchor=\"middle\" x=\"50%\" y=\"16px\">and</text></svg><svg width=\"100%\" x=\"0%\" y=\"48px\"><defs /><svg width=\"100%\" x=\"0\" y=\"0px\"><defs /><text text-anchor=\"middle\" x=\"50%\" y=\"16px\">O</text></svg></svg><line stroke=\"black\" x1=\"50%\" x2=\"50%\" y1=\"19.2px\" y2=\"48px\" /></svg><line stroke=\"black\" x1=\"50%\" x2=\"43.1973%\" y1=\"19.2px\" y2=\"48px\" /><svg width=\"6.80272%\" x=\"44.898%\" y=\"48px\"><defs /><svg width=\"100%\" x=\"0\" y=\"0px\"><defs /><text text-anchor=\"middle\" x=\"50%\" y=\"16px\">efficacy</text></svg><svg width=\"100%\" x=\"0%\" y=\"48px\"><defs /><svg width=\"100%\" x=\"0\" y=\"0px\"><defs /><text text-anchor=\"middle\" x=\"50%\" y=\"16px\">O</text></svg></svg><line stroke=\"black\" x1=\"50%\" x2=\"50%\" y1=\"19.2px\" y2=\"48px\" /></svg><line stroke=\"black\" x1=\"50%\" x2=\"48.2993%\" y1=\"19.2px\" y2=\"48px\" /><svg width=\"2.72109%\" x=\"51.7007%\" y=\"48px\"><defs /><svg width=\"100%\" x=\"0\" y=\"0px\"><defs /><text text-anchor=\"middle\" x=\"50%\" y=\"16px\">of</text></svg><svg width=\"100%\" x=\"0%\" y=\"48px\"><defs /><svg width=\"100%\" x=\"0\" y=\"0px\"><defs /><text text-anchor=\"middle\" x=\"50%\" y=\"16px\">O</text></svg></svg><line stroke=\"black\" x1=\"50%\" x2=\"50%\" y1=\"19.2px\" y2=\"48px\" /></svg><line stroke=\"black\" x1=\"50%\" x2=\"53.0612%\" y1=\"19.2px\" y2=\"48px\" /><svg width=\"4.08163%\" x=\"54.4218%\" y=\"48px\"><defs /><svg width=\"100%\" x=\"0\" y=\"0px\"><defs /><text text-anchor=\"middle\" x=\"50%\" y=\"16px\">cnto</text></svg><svg width=\"100%\" x=\"0%\" y=\"48px\"><defs /><svg width=\"100%\" x=\"0\" y=\"0px\"><defs /><text text-anchor=\"middle\" x=\"50%\" y=\"16px\">O</text></svg></svg><line stroke=\"black\" x1=\"50%\" x2=\"50%\" y1=\"19.2px\" y2=\"48px\" /></svg><line stroke=\"black\" x1=\"50%\" x2=\"56.4626%\" y1=\"19.2px\" y2=\"48px\" /><svg width=\"4.08163%\" x=\"58.5034%\" y=\"48px\"><defs /><svg width=\"100%\" x=\"0\" y=\"0px\"><defs /><text text-anchor=\"middle\" x=\"50%\" y=\"16px\">NP</text></svg><svg width=\"100%\" x=\"0%\" y=\"48px\"><defs /><svg width=\"100%\" x=\"0\" y=\"0px\"><defs /><text text-anchor=\"middle\" x=\"50%\" y=\"16px\">1275</text></svg><svg width=\"100%\" x=\"0%\" y=\"48px\"><defs /><svg width=\"100%\" x=\"0\" y=\"0px\"><defs /><text text-anchor=\"middle\" x=\"50%\" y=\"16px\">C2E</text></svg></svg><line stroke=\"black\" x1=\"50%\" x2=\"50%\" y1=\"19.2px\" y2=\"48px\" /></svg><line stroke=\"black\" x1=\"50%\" x2=\"50%\" y1=\"19.2px\" y2=\"48px\" /></svg><line stroke=\"black\" x1=\"50%\" x2=\"60.5442%\" y1=\"19.2px\" y2=\"48px\" /><svg width=\"2.72109%\" x=\"62.585%\" y=\"48px\"><defs /><svg width=\"100%\" x=\"0\" y=\"0px\"><defs /><text text-anchor=\"middle\" x=\"50%\" y=\"16px\">in</text></svg><svg width=\"100%\" x=\"0%\" y=\"48px\"><defs /><svg width=\"100%\" x=\"0\" y=\"0px\"><defs /><text text-anchor=\"middle\" x=\"50%\" y=\"16px\">O</text></svg></svg><line stroke=\"black\" x1=\"50%\" x2=\"50%\" y1=\"19.2px\" y2=\"48px\" /></svg><line stroke=\"black\" x1=\"50%\" x2=\"63.9456%\" y1=\"19.2px\" y2=\"48px\" /><svg width=\"9.52381%\" x=\"65.3061%\" y=\"48px\"><defs /><svg width=\"100%\" x=\"0\" y=\"0px\"><defs /><text text-anchor=\"middle\" x=\"50%\" y=\"16px\">participants</text></svg><svg width=\"100%\" x=\"0%\" y=\"48px\"><defs /><svg width=\"100%\" x=\"0\" y=\"0px\"><defs /><text text-anchor=\"middle\" x=\"50%\" y=\"16px\">O</text></svg></svg><line stroke=\"black\" x1=\"50%\" x2=\"50%\" y1=\"19.2px\" y2=\"48px\" /></svg><line stroke=\"black\" x1=\"50%\" x2=\"70.068%\" y1=\"19.2px\" y2=\"48px\" /><svg width=\"4.08163%\" x=\"74.8299%\" y=\"48px\"><defs /><svg width=\"100%\" x=\"0\" y=\"0px\"><defs /><text text-anchor=\"middle\" x=\"50%\" y=\"16px\">with</text></svg><svg width=\"100%\" x=\"0%\" y=\"48px\"><defs /><svg width=\"100%\" x=\"0\" y=\"0px\"><defs /><text text-anchor=\"middle\" x=\"50%\" y=\"16px\">O</text></svg></svg><line stroke=\"black\" x1=\"50%\" x2=\"50%\" y1=\"19.2px\" y2=\"48px\" /></svg><line stroke=\"black\" x1=\"50%\" x2=\"76.8707%\" y1=\"19.2px\" y2=\"48px\" /><svg width=\"5.44218%\" x=\"78.9116%\" y=\"48px\"><defs /><svg width=\"100%\" x=\"0\" y=\"0px\"><defs /><text text-anchor=\"middle\" x=\"50%\" y=\"16px\">active</text></svg><svg width=\"100%\" x=\"0%\" y=\"48px\"><defs /><svg width=\"100%\" x=\"0\" y=\"0px\"><defs /><text text-anchor=\"middle\" x=\"50%\" y=\"16px\">O</text></svg></svg><line stroke=\"black\" x1=\"50%\" x2=\"50%\" y1=\"19.2px\" y2=\"48px\" /></svg><line stroke=\"black\" x1=\"50%\" x2=\"81.6327%\" y1=\"19.2px\" y2=\"48px\" /><svg width=\"4.7619%\" x=\"84.3537%\" y=\"48px\"><defs /><svg width=\"100%\" x=\"0\" y=\"0px\"><defs /><text text-anchor=\"middle\" x=\"50%\" y=\"16px\">crohn</text></svg><svg width=\"100%\" x=\"0%\" y=\"48px\"><defs /><svg width=\"100%\" x=\"0\" y=\"0px\"><defs /><text text-anchor=\"middle\" x=\"50%\" y=\"16px\">O</text></svg></svg><line stroke=\"black\" x1=\"50%\" x2=\"50%\" y1=\"19.2px\" y2=\"48px\" /></svg><line stroke=\"black\" x1=\"50%\" x2=\"86.7347%\" y1=\"19.2px\" y2=\"48px\" /><svg width=\"2.72109%\" x=\"89.1156%\" y=\"48px\"><defs /><svg width=\"100%\" x=\"0\" y=\"0px\"><defs /><text text-anchor=\"middle\" x=\"50%\" y=\"16px\">'s</text></svg><svg width=\"100%\" x=\"0%\" y=\"48px\"><defs /><svg width=\"100%\" x=\"0\" y=\"0px\"><defs /><text text-anchor=\"middle\" x=\"50%\" y=\"16px\">O</text></svg></svg><line stroke=\"black\" x1=\"50%\" x2=\"50%\" y1=\"19.2px\" y2=\"48px\" /></svg><line stroke=\"black\" x1=\"50%\" x2=\"90.4762%\" y1=\"19.2px\" y2=\"48px\" /><svg width=\"6.12245%\" x=\"91.8367%\" y=\"48px\"><defs /><svg width=\"100%\" x=\"0\" y=\"0px\"><defs /><text text-anchor=\"middle\" x=\"50%\" y=\"16px\">disease</text></svg><svg width=\"100%\" x=\"0%\" y=\"48px\"><defs /><svg width=\"100%\" x=\"0\" y=\"0px\"><defs /><text text-anchor=\"middle\" x=\"50%\" y=\"16px\">O</text></svg></svg><line stroke=\"black\" x1=\"50%\" x2=\"50%\" y1=\"19.2px\" y2=\"48px\" /></svg><line stroke=\"black\" x1=\"50%\" x2=\"94.898%\" y1=\"19.2px\" y2=\"48px\" /><svg width=\"2.04082%\" x=\"97.9592%\" y=\"48px\"><defs /><svg width=\"100%\" x=\"0\" y=\"0px\"><defs /><text text-anchor=\"middle\" x=\"50%\" y=\"16px\">.</text></svg><svg width=\"100%\" x=\"0%\" y=\"48px\"><defs /><svg width=\"100%\" x=\"0\" y=\"0px\"><defs /><text text-anchor=\"middle\" x=\"50%\" y=\"16px\">O</text></svg></svg><line stroke=\"black\" x1=\"50%\" x2=\"50%\" y1=\"19.2px\" y2=\"48px\" /></svg><line stroke=\"black\" x1=\"50%\" x2=\"98.9796%\" y1=\"19.2px\" y2=\"48px\" /></svg>"
      ],
      "text/plain": [
       "Tree('S', [('the', 'O'), ('purpose', 'O'), ('of', 'O'), ('this', 'O'), ('study', 'O'), ('is', 'O'), ('to', 'O'), ('examine', 'O'), ('the', 'O'), ('safety', 'O'), ('and', 'O'), ('efficacy', 'O'), ('of', 'O'), ('cnto', 'O'), Tree('NP', [('1275', 'C2E')]), ('in', 'O'), ('participants', 'O'), ('with', 'O'), ('active', 'O'), ('crohn', 'O'), (\"'s\", 'O'), ('disease', 'O'), ('.', 'O')])"
      ]
     },
     "execution_count": 50,
     "metadata": {},
     "output_type": "execute_result"
    }
   ],
   "source": [
    "# This is a tagger issue, 'cnto' is tagged as other, it should have been tagged as 'C-2-E'\n",
    "test_trees[index]"
   ]
  },
  {
   "cell_type": "code",
   "execution_count": 51,
   "id": "e1bf357629f2bb08",
   "metadata": {
    "collapsed": false,
    "jupyter": {
     "outputs_hidden": false
    }
   },
   "outputs": [],
   "source": [
    "# terms_by_preferred_name = {}\n",
    "# for _, row in synonyms_df.iterrows():\n",
    "#     preferred_name = row['preferred_name']\n",
    "#     synonyms = row['synonyms']\n",
    "#     synonyms_cleaned = [synonym.replace(' ', '').lower() for synonym in synonyms]\n",
    "#     terms_by_preferred_name[preferred_name] = synonyms_cleaned"
   ]
  },
  {
   "cell_type": "code",
   "execution_count": 52,
   "id": "e9598f5a7bbf4e12",
   "metadata": {
    "collapsed": false,
    "jupyter": {
     "outputs_hidden": false
    }
   },
   "outputs": [],
   "source": [
    "# for term in terms_by_preferred_name['ustekinumab']:\n",
    "#     if term in _sum:\n",
    "#         print(term)"
   ]
  },
  {
   "cell_type": "code",
   "execution_count": 53,
   "id": "d35d74d89403d516",
   "metadata": {
    "collapsed": false,
    "jupyter": {
     "outputs_hidden": false
    }
   },
   "outputs": [],
   "source": [
    "# terms_by_preferred_name['ustekinumab']"
   ]
  },
  {
   "cell_type": "markdown",
   "id": "35e2a26f-e4a2-481b-a3b9-ba0a3b7b28dc",
   "metadata": {
    "collapsed": false,
    "jupyter": {
     "outputs_hidden": false
    }
   },
   "source": [
    "# Save"
   ]
  },
  {
   "cell_type": "code",
   "execution_count": 54,
   "id": "f7b08eff-c4ff-4629-b53d-801e8bfb618f",
   "metadata": {},
   "outputs": [],
   "source": [
    "test_df.to_parquet(data_config['extraction_nltk_file_name'], index=False) "
   ]
  }
 ],
 "metadata": {
  "kernelspec": {
   "display_name": "Python 3 (ipykernel)",
   "language": "python",
   "name": "python3"
  },
  "language_info": {
   "codemirror_mode": {
    "name": "ipython",
    "version": 3
   },
   "file_extension": ".py",
   "mimetype": "text/x-python",
   "name": "python",
   "nbconvert_exporter": "python",
   "pygments_lexer": "ipython3",
   "version": "3.10.13"
  }
 },
 "nbformat": 4,
 "nbformat_minor": 5
}
