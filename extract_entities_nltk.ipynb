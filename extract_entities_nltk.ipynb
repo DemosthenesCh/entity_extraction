{
 "cells": [
  {
   "cell_type": "code",
   "execution_count": 1,
   "id": "6eef6e262a94dba2",
   "metadata": {
    "collapsed": false,
    "ExecuteTime": {
     "end_time": "2024-03-18T18:19:22.979321Z",
     "start_time": "2024-03-18T18:19:22.393528Z"
    }
   },
   "outputs": [],
   "source": [
    "from collections import defaultdict\n",
    "import pandas as pd\n",
    "import nltk\n",
    "import numpy as np\n",
    "\n",
    "import util\n",
    "from third_party.nltk_book import chunker\n"
   ]
  },
  {
   "cell_type": "code",
   "execution_count": 2,
   "id": "f166647f8a2cdf39",
   "metadata": {
    "collapsed": false,
    "ExecuteTime": {
     "end_time": "2024-03-18T18:19:22.983430Z",
     "start_time": "2024-03-18T18:19:22.980579Z"
    }
   },
   "outputs": [],
   "source": [
    "data_config = util.get_data_config()"
   ]
  },
  {
   "cell_type": "code",
   "execution_count": 3,
   "id": "3581206dc0789c71",
   "metadata": {
    "collapsed": false,
    "ExecuteTime": {
     "end_time": "2024-03-18T18:19:23.069105Z",
     "start_time": "2024-03-18T18:19:22.984304Z"
    }
   },
   "outputs": [
    {
     "name": "stderr",
     "output_type": "stream",
     "text": [
      "[nltk_data] Downloading package punkt to\n",
      "[nltk_data]     /home/dimosthenis/nltk_data...\n",
      "[nltk_data]   Package punkt is already up-to-date!\n",
      "[nltk_data] Downloading package averaged_perceptron_tagger to\n",
      "[nltk_data]     /home/dimosthenis/nltk_data...\n",
      "[nltk_data]   Package averaged_perceptron_tagger is already up-to-\n",
      "[nltk_data]       date!\n",
      "[nltk_data] Downloading package brown to\n",
      "[nltk_data]     /home/dimosthenis/nltk_data...\n",
      "[nltk_data]   Package brown is already up-to-date!\n",
      "[nltk_data] Downloading package conll2000 to\n",
      "[nltk_data]     /home/dimosthenis/nltk_data...\n",
      "[nltk_data]   Package conll2000 is already up-to-date!\n"
     ]
    },
    {
     "data": {
      "text/plain": "True"
     },
     "execution_count": 3,
     "metadata": {},
     "output_type": "execute_result"
    }
   ],
   "source": [
    "nltk.download(['punkt', 'averaged_perceptron_tagger'])\n",
    "# Optional\n",
    "nltk.download(['brown', 'conll2000',])"
   ]
  },
  {
   "cell_type": "markdown",
   "id": "144623f5-a98f-4a02-95ad-ea5e21b03ef9",
   "metadata": {},
   "source": [
    "# Load Data"
   ]
  },
  {
   "cell_type": "code",
   "execution_count": 4,
   "id": "49343491d8e9ded",
   "metadata": {
    "collapsed": false,
    "ExecuteTime": {
     "end_time": "2024-03-18T18:19:23.085060Z",
     "start_time": "2024-03-18T18:19:23.070368Z"
    }
   },
   "outputs": [
    {
     "data": {
      "text/plain": "(51, 2)"
     },
     "execution_count": 4,
     "metadata": {},
     "output_type": "execute_result"
    }
   ],
   "source": [
    "summaries = pd.read_parquet(data_config['summaries_file_name'])\n",
    "summaries.shape"
   ]
  },
  {
   "cell_type": "code",
   "execution_count": 5,
   "id": "6df00e9249047aeb",
   "metadata": {
    "collapsed": false,
    "ExecuteTime": {
     "end_time": "2024-03-18T18:19:23.090557Z",
     "start_time": "2024-03-18T18:19:23.085807Z"
    }
   },
   "outputs": [
    {
     "data": {
      "text/plain": "        nct_id                                      brief_summary\n0  NCT00037648  The purpose of this study is to determine the ...\n1  NCT00048542  This is a multicenter, Phase 3 randomized, pla...\n2  NCT00071487  The purpose of this study is to evaluate the s...\n3  NCT00071812  The purpose of this study is to evaluate the s...\n4  NCT00072839  The purpose of the study is to determine wheth...",
      "text/html": "<div>\n<style scoped>\n    .dataframe tbody tr th:only-of-type {\n        vertical-align: middle;\n    }\n\n    .dataframe tbody tr th {\n        vertical-align: top;\n    }\n\n    .dataframe thead th {\n        text-align: right;\n    }\n</style>\n<table border=\"1\" class=\"dataframe\">\n  <thead>\n    <tr style=\"text-align: right;\">\n      <th></th>\n      <th>nct_id</th>\n      <th>brief_summary</th>\n    </tr>\n  </thead>\n  <tbody>\n    <tr>\n      <th>0</th>\n      <td>NCT00037648</td>\n      <td>The purpose of this study is to determine the ...</td>\n    </tr>\n    <tr>\n      <th>1</th>\n      <td>NCT00048542</td>\n      <td>This is a multicenter, Phase 3 randomized, pla...</td>\n    </tr>\n    <tr>\n      <th>2</th>\n      <td>NCT00071487</td>\n      <td>The purpose of this study is to evaluate the s...</td>\n    </tr>\n    <tr>\n      <th>3</th>\n      <td>NCT00071812</td>\n      <td>The purpose of this study is to evaluate the s...</td>\n    </tr>\n    <tr>\n      <th>4</th>\n      <td>NCT00072839</td>\n      <td>The purpose of the study is to determine wheth...</td>\n    </tr>\n  </tbody>\n</table>\n</div>"
     },
     "execution_count": 5,
     "metadata": {},
     "output_type": "execute_result"
    }
   ],
   "source": [
    "summaries.head()"
   ]
  },
  {
   "cell_type": "code",
   "execution_count": 6,
   "id": "3215eae9b2af0b2b",
   "metadata": {
    "collapsed": false,
    "ExecuteTime": {
     "end_time": "2024-03-18T18:19:23.108021Z",
     "start_time": "2024-03-18T18:19:23.091294Z"
    }
   },
   "outputs": [
    {
     "data": {
      "text/plain": "        preferred_name                                           synonyms\nid                                                                       \n4.0    levobupivacaine  [chirocain, levobupivacaine, levobupivacaine H...\n5.0    (S)-nicardipine  [(-)-Nicardipine, (-)-nicardipine, (S)-nicardi...\n6.0   (S)-nitrendipine  [(-)-Nitrendipine, (-)-nitrendipine, (S)-nitre...\n13.0     levdobutamine  [LY206243, levdobutamine, levdobutamine lactob...\n21.0       aminopterin  [4-aminofolic acid, Aminofolic acid, 4-, amino...",
      "text/html": "<div>\n<style scoped>\n    .dataframe tbody tr th:only-of-type {\n        vertical-align: middle;\n    }\n\n    .dataframe tbody tr th {\n        vertical-align: top;\n    }\n\n    .dataframe thead th {\n        text-align: right;\n    }\n</style>\n<table border=\"1\" class=\"dataframe\">\n  <thead>\n    <tr style=\"text-align: right;\">\n      <th></th>\n      <th>preferred_name</th>\n      <th>synonyms</th>\n    </tr>\n    <tr>\n      <th>id</th>\n      <th></th>\n      <th></th>\n    </tr>\n  </thead>\n  <tbody>\n    <tr>\n      <th>4.0</th>\n      <td>levobupivacaine</td>\n      <td>[chirocain, levobupivacaine, levobupivacaine H...</td>\n    </tr>\n    <tr>\n      <th>5.0</th>\n      <td>(S)-nicardipine</td>\n      <td>[(-)-Nicardipine, (-)-nicardipine, (S)-nicardi...</td>\n    </tr>\n    <tr>\n      <th>6.0</th>\n      <td>(S)-nitrendipine</td>\n      <td>[(-)-Nitrendipine, (-)-nitrendipine, (S)-nitre...</td>\n    </tr>\n    <tr>\n      <th>13.0</th>\n      <td>levdobutamine</td>\n      <td>[LY206243, levdobutamine, levdobutamine lactob...</td>\n    </tr>\n    <tr>\n      <th>21.0</th>\n      <td>aminopterin</td>\n      <td>[4-aminofolic acid, Aminofolic acid, 4-, amino...</td>\n    </tr>\n  </tbody>\n</table>\n</div>"
     },
     "execution_count": 6,
     "metadata": {},
     "output_type": "execute_result"
    }
   ],
   "source": [
    "synonyms_df = pd.read_parquet(data_config['processed_synonyms_file_name'])\n",
    "synonyms_df.head()"
   ]
  },
  {
   "cell_type": "code",
   "execution_count": 7,
   "id": "6d054a49288a7db7",
   "metadata": {
    "collapsed": false,
    "ExecuteTime": {
     "end_time": "2024-03-18T18:19:23.115255Z",
     "start_time": "2024-03-18T18:19:23.108705Z"
    }
   },
   "outputs": [
    {
     "data": {
      "text/plain": "            preferred_name                                           synonyms\nid                                                                           \n4.0        levobupivacaine  [chirocain, levobupivacaine, levobupivacaine H...\n5.0        (S)-nicardipine  [(-)-Nicardipine, (-)-nicardipine, (S)-nicardi...\n6.0       (S)-nitrendipine  [(-)-Nitrendipine, (-)-nitrendipine, (S)-nitre...\n13.0         levdobutamine  [LY206243, levdobutamine, levdobutamine lactob...\n21.0           aminopterin  [4-aminofolic acid, Aminofolic acid, 4-, amino...\n...                    ...                                                ...\n5739.0  avacincaptad pegol  [ARC1905, arc1905, avacincaptad pegol, avacinc...\n5740.0           pozelimab  [REGN3918, pozelimab, pozelimab-bbfg, regn3918...\n5741.0         elranatamab  [PF-06863135, RN613, elranatamab, elranatamab-...\n5742.0         talquetamab  [JNJ-64407564, jnj-64407564, talquetamab, talq...\n5743.0         cantharidin                              [cantharidin, ycanth]\n\n[4992 rows x 2 columns]",
      "text/html": "<div>\n<style scoped>\n    .dataframe tbody tr th:only-of-type {\n        vertical-align: middle;\n    }\n\n    .dataframe tbody tr th {\n        vertical-align: top;\n    }\n\n    .dataframe thead th {\n        text-align: right;\n    }\n</style>\n<table border=\"1\" class=\"dataframe\">\n  <thead>\n    <tr style=\"text-align: right;\">\n      <th></th>\n      <th>preferred_name</th>\n      <th>synonyms</th>\n    </tr>\n    <tr>\n      <th>id</th>\n      <th></th>\n      <th></th>\n    </tr>\n  </thead>\n  <tbody>\n    <tr>\n      <th>4.0</th>\n      <td>levobupivacaine</td>\n      <td>[chirocain, levobupivacaine, levobupivacaine H...</td>\n    </tr>\n    <tr>\n      <th>5.0</th>\n      <td>(S)-nicardipine</td>\n      <td>[(-)-Nicardipine, (-)-nicardipine, (S)-nicardi...</td>\n    </tr>\n    <tr>\n      <th>6.0</th>\n      <td>(S)-nitrendipine</td>\n      <td>[(-)-Nitrendipine, (-)-nitrendipine, (S)-nitre...</td>\n    </tr>\n    <tr>\n      <th>13.0</th>\n      <td>levdobutamine</td>\n      <td>[LY206243, levdobutamine, levdobutamine lactob...</td>\n    </tr>\n    <tr>\n      <th>21.0</th>\n      <td>aminopterin</td>\n      <td>[4-aminofolic acid, Aminofolic acid, 4-, amino...</td>\n    </tr>\n    <tr>\n      <th>...</th>\n      <td>...</td>\n      <td>...</td>\n    </tr>\n    <tr>\n      <th>5739.0</th>\n      <td>avacincaptad pegol</td>\n      <td>[ARC1905, arc1905, avacincaptad pegol, avacinc...</td>\n    </tr>\n    <tr>\n      <th>5740.0</th>\n      <td>pozelimab</td>\n      <td>[REGN3918, pozelimab, pozelimab-bbfg, regn3918...</td>\n    </tr>\n    <tr>\n      <th>5741.0</th>\n      <td>elranatamab</td>\n      <td>[PF-06863135, RN613, elranatamab, elranatamab-...</td>\n    </tr>\n    <tr>\n      <th>5742.0</th>\n      <td>talquetamab</td>\n      <td>[JNJ-64407564, jnj-64407564, talquetamab, talq...</td>\n    </tr>\n    <tr>\n      <th>5743.0</th>\n      <td>cantharidin</td>\n      <td>[cantharidin, ycanth]</td>\n    </tr>\n  </tbody>\n</table>\n<p>4992 rows × 2 columns</p>\n</div>"
     },
     "execution_count": 7,
     "metadata": {},
     "output_type": "execute_result"
    }
   ],
   "source": [
    "synonyms_df"
   ]
  },
  {
   "cell_type": "code",
   "execution_count": 8,
   "id": "95c4037f623a6d75",
   "metadata": {
    "collapsed": false,
    "ExecuteTime": {
     "end_time": "2024-03-18T18:19:23.136498Z",
     "start_time": "2024-03-18T18:19:23.115918Z"
    }
   },
   "outputs": [
    {
     "name": "stdout",
     "output_type": "stream",
     "text": [
      "vocabulary size: 22449\n",
      "extra characters['&', \"'\", '(', ')', '+', ',', '-', '.', '/', '0', '1', '2', '3', '4', '5', '6', '7', '8', '9', ':', '<', '>', '[', ']', '–']\n"
     ]
    }
   ],
   "source": [
    "word_set = set(\n",
    "    word\n",
    "    for synonyms in synonyms_df['synonyms']\n",
    "    for synonym in synonyms\n",
    "    for word in synonym.split()\n",
    ")\n",
    "print(f'vocabulary size: {len(word_set)}')\n",
    "characters = set([char for word in word_set for char in word])\n",
    "extra_characters = [char for char in characters if not char.isalpha()]\n",
    "print(f'extra characters{sorted(extra_characters)}')"
   ]
  },
  {
   "cell_type": "code",
   "execution_count": 9,
   "id": "45a581158339c8b6",
   "metadata": {
    "collapsed": false,
    "ExecuteTime": {
     "end_time": "2024-03-18T18:19:23.143220Z",
     "start_time": "2024-03-18T18:19:23.137209Z"
    }
   },
   "outputs": [],
   "source": [
    "# tagged_synonyms = []\n",
    "# max_synonym_tokens = 0\n",
    "# for synonyms in synonyms_df['synonyms']:\n",
    "#     tags = []\n",
    "#     for synonym in synonyms:\n",
    "#         tokens = nltk.word_tokenize(synonym)\n",
    "#         max_synonym_tokens = max(len(tokens), max_synonym_tokens)\n",
    "#         for token in tokens[:-1]:\n",
    "#             tags.append((token, f'C{len(tokens)}S'))\n",
    "            \n",
    "#         for token in tokens[-1:]:\n",
    "#             tags.append((token, f'C{len(tokens)}E'))\n",
    "#     tagged_synonyms.append(tags)\n",
    "# max_synonym_tokens"
   ]
  },
  {
   "cell_type": "code",
   "execution_count": 9,
   "id": "26dd4adc17b311b8",
   "metadata": {
    "collapsed": false,
    "ExecuteTime": {
     "end_time": "2024-03-18T18:19:23.146972Z",
     "start_time": "2024-03-18T18:19:23.145485Z"
    }
   },
   "outputs": [],
   "source": []
  },
  {
   "cell_type": "code",
   "execution_count": 10,
   "id": "1e385dadddce8729",
   "metadata": {
    "collapsed": false,
    "ExecuteTime": {
     "end_time": "2024-03-18T18:19:24.723134Z",
     "start_time": "2024-03-18T18:19:23.147659Z"
    }
   },
   "outputs": [
    {
     "data": {
      "text/plain": "                         synonym                            tokens  \\\n0                      chirocain                       [chirocain]   \n1                levobupivacaine                 [levobupivacaine]   \n2            levobupivacaine HCl            [levobupivacaine, HCl]   \n3            levobupivacaine hcl            [levobupivacaine, hcl]   \n4  levobupivacaine hydrochloride  [levobupivacaine, hydrochloride]   \n5                (-)-Nicardipine           [(, -, ), -Nicardipine]   \n6                (-)-nicardipine           [(, -, ), -nicardipine]   \n7                (S)-nicardipine           [(, S, ), -nicardipine]   \n8                (s)-nicardipine           [(, s, ), -nicardipine]   \n9               (-)-Nitrendipine          [(, -, ), -Nitrendipine]   \n\n   token_count  \n0            1  \n1            1  \n2            2  \n3            2  \n4            2  \n5            4  \n6            4  \n7            4  \n8            4  \n9            4  ",
      "text/html": "<div>\n<style scoped>\n    .dataframe tbody tr th:only-of-type {\n        vertical-align: middle;\n    }\n\n    .dataframe tbody tr th {\n        vertical-align: top;\n    }\n\n    .dataframe thead th {\n        text-align: right;\n    }\n</style>\n<table border=\"1\" class=\"dataframe\">\n  <thead>\n    <tr style=\"text-align: right;\">\n      <th></th>\n      <th>synonym</th>\n      <th>tokens</th>\n      <th>token_count</th>\n    </tr>\n  </thead>\n  <tbody>\n    <tr>\n      <th>0</th>\n      <td>chirocain</td>\n      <td>[chirocain]</td>\n      <td>1</td>\n    </tr>\n    <tr>\n      <th>1</th>\n      <td>levobupivacaine</td>\n      <td>[levobupivacaine]</td>\n      <td>1</td>\n    </tr>\n    <tr>\n      <th>2</th>\n      <td>levobupivacaine HCl</td>\n      <td>[levobupivacaine, HCl]</td>\n      <td>2</td>\n    </tr>\n    <tr>\n      <th>3</th>\n      <td>levobupivacaine hcl</td>\n      <td>[levobupivacaine, hcl]</td>\n      <td>2</td>\n    </tr>\n    <tr>\n      <th>4</th>\n      <td>levobupivacaine hydrochloride</td>\n      <td>[levobupivacaine, hydrochloride]</td>\n      <td>2</td>\n    </tr>\n    <tr>\n      <th>5</th>\n      <td>(-)-Nicardipine</td>\n      <td>[(, -, ), -Nicardipine]</td>\n      <td>4</td>\n    </tr>\n    <tr>\n      <th>6</th>\n      <td>(-)-nicardipine</td>\n      <td>[(, -, ), -nicardipine]</td>\n      <td>4</td>\n    </tr>\n    <tr>\n      <th>7</th>\n      <td>(S)-nicardipine</td>\n      <td>[(, S, ), -nicardipine]</td>\n      <td>4</td>\n    </tr>\n    <tr>\n      <th>8</th>\n      <td>(s)-nicardipine</td>\n      <td>[(, s, ), -nicardipine]</td>\n      <td>4</td>\n    </tr>\n    <tr>\n      <th>9</th>\n      <td>(-)-Nitrendipine</td>\n      <td>[(, -, ), -Nitrendipine]</td>\n      <td>4</td>\n    </tr>\n  </tbody>\n</table>\n</div>"
     },
     "execution_count": 10,
     "metadata": {},
     "output_type": "execute_result"
    }
   ],
   "source": [
    "all_tokens = []\n",
    "all_synonyms = []\n",
    "dataset_by_ngram = defaultdict(list)\n",
    "for synonyms in synonyms_df['synonyms']:\n",
    "    for synonym in synonyms:\n",
    "        tokens = nltk.word_tokenize(synonym)\n",
    "        all_tokens.append(tokens)\n",
    "        all_synonyms.append(synonym)\n",
    "        tags = []\n",
    "        for token in tokens[:-1]:\n",
    "            # tags.append((token, f'C-{len(tokens)}-S'))\n",
    "            tags.append((token, f'C{len(tokens)}S'))\n",
    "            \n",
    "        for token in tokens[-1:]:\n",
    "            # tags.append((token, f'C-{len(tokens)}-E'))\n",
    "            tags.append((token, f'C{len(tokens)}E'))\n",
    "        \n",
    "        assert len(tags) == len(tokens)\n",
    "        dataset_by_ngram[len(tags)].append(tags)\n",
    "\n",
    "syn_counts_df = pd.DataFrame({\n",
    "    'synonym': all_synonyms,\n",
    "    'tokens': all_tokens,\n",
    "})\n",
    "syn_counts_df['token_count'] = syn_counts_df['tokens'].map(len)\n",
    "syn_counts_df.head(10)"
   ]
  },
  {
   "cell_type": "markdown",
   "id": "520c3dbb-0e9c-4eff-85ff-b0eda16b7f58",
   "metadata": {
    "ExecuteTime": {
     "end_time": "2024-03-18T04:39:26.316091Z",
     "start_time": "2024-03-18T04:39:26.314385Z"
    },
    "collapsed": false
   },
   "source": [
    "# NgramTagger that uses N-1 tokens (instead of N-1 tags). "
   ]
  },
  {
   "cell_type": "code",
   "execution_count": 11,
   "id": "90d1407a521549aa",
   "metadata": {
    "collapsed": false,
    "ExecuteTime": {
     "end_time": "2024-03-18T18:19:24.728069Z",
     "start_time": "2024-03-18T18:19:24.723930Z"
    }
   },
   "outputs": [],
   "source": [
    "def parse(text, parser, tagger):\n",
    "    tagged = tagger.tag(nltk.word_tokenize(text))\n",
    "    tree = parser.parse(tagged)\n",
    "    return tree\n",
    "\n",
    "def extract_grouped_terms(tree: nltk.Tree, group_tag: str = 'GROUP') -> list[str]:\n",
    "    terms = []\n",
    "    for subtree in tree:\n",
    "        if type(subtree) != nltk.Tree:\n",
    "            continue\n",
    "        if subtree.label() != group_tag:\n",
    "            continue\n",
    "        term = ''.join([leaf[0] for leaf in subtree.leaves()])\n",
    "        terms.append(term)\n",
    "    return terms\n",
    "\n",
    "class WordNgramTagger(nltk.NgramTagger):\n",
    "    \"\"\"\n",
    "    My override of the NLTK NgramTagger class that considers previous\n",
    "    tokens rather than previous tags for context.\n",
    "    \"\"\"\n",
    "    def __init__(self, n, train=None, model=None,\n",
    "                 backoff=None, cutoff=0, verbose=False):\n",
    "        nltk.NgramTagger.__init__(self, n, train, model, backoff, cutoff, verbose)\n",
    "\n",
    "    def context(self, tokens, index, history):\n",
    "        tag_context = tuple(tokens[max(0,index-self._n+1):index])\n",
    "        return tag_context, tokens[index]\n",
    "    "
   ]
  },
  {
   "cell_type": "code",
   "execution_count": 11,
   "id": "888bd896-cb22-40b4-b5af-bceb6bfa25d4",
   "metadata": {
    "ExecuteTime": {
     "end_time": "2024-03-18T18:19:24.730411Z",
     "start_time": "2024-03-18T18:19:24.728950Z"
    }
   },
   "outputs": [],
   "source": []
  },
  {
   "cell_type": "code",
   "execution_count": 12,
   "id": "5791a7cdaca36531",
   "metadata": {
    "collapsed": false,
    "ExecuteTime": {
     "end_time": "2024-03-18T18:19:25.006280Z",
     "start_time": "2024-03-18T18:19:24.731220Z"
    }
   },
   "outputs": [
    {
     "name": "stdout",
     "output_type": "stream",
     "text": [
      "1\n",
      "2\n",
      "3\n",
      "4\n",
      "5\n",
      "6\n",
      "7\n",
      "8\n",
      "9\n",
      "14\n",
      "19\n"
     ]
    }
   ],
   "source": [
    "taggers = [nltk.DefaultTagger('O')]\n",
    "for n in sorted(dataset_by_ngram.keys()):\n",
    "    print(n)\n",
    "    train = dataset_by_ngram[n]\n",
    "    # ngram_tagger = nltk.NgramTagger(n=n, train=train, backoff=taggers[-1])\n",
    "    ngram_tagger = WordNgramTagger(n=n, train=train, backoff=taggers[-1])\n",
    "    taggers.append(ngram_tagger)\n",
    "\n",
    "tagger = taggers[-1]"
   ]
  },
  {
   "cell_type": "code",
   "execution_count": 13,
   "id": "32cff793-0113-436e-8771-406ad0a33e78",
   "metadata": {
    "ExecuteTime": {
     "end_time": "2024-03-18T18:19:25.012399Z",
     "start_time": "2024-03-18T18:19:25.007130Z"
    }
   },
   "outputs": [
    {
     "name": "stdout",
     "output_type": "stream",
     "text": [
      "GROUP: {<C1E>}\n",
      "{<C\\dS>{0}<C1E>}\n",
      "{<C\\dS>{1}<C2E>}\n",
      "{<C\\dS>{3}<C4E>}\n",
      "{<C\\dS>{2}<C3E>}\n",
      "{<C\\dS>{4}<C5E>}\n",
      "{<C\\dS>{13}<C14E>}\n",
      "{<C\\dS>{5}<C6E>}\n",
      "{<C\\dS>{7}<C8E>}\n",
      "{<C\\dS>{6}<C7E>}\n",
      "{<C\\dS>{8}<C9E>}\n",
      "{<C\\dS>{18}<C19E>}\n"
     ]
    }
   ],
   "source": [
    "grammar = '''GROUP: {<C1E>}'''\n",
    "for num_tokens in dataset_by_ngram.keys():\n",
    "    grammar += '\\n{<C\\dS>{' + str(num_tokens-1) + '}<C' + str(num_tokens) + 'E>}'\n",
    "print(grammar)\n",
    "regexp_parser = nltk.RegexpParser(grammar)"
   ]
  },
  {
   "cell_type": "code",
   "execution_count": 14,
   "id": "787db1b2234c5fef",
   "metadata": {
    "collapsed": false,
    "ExecuteTime": {
     "end_time": "2024-03-18T18:19:28.315230Z",
     "start_time": "2024-03-18T18:19:25.013143Z"
    }
   },
   "outputs": [],
   "source": [
    "all_terms = [\n",
    "    synonym\n",
    "    for synonyms in synonyms_df['synonyms']\n",
    "    for synonym in synonyms\n",
    "]\n",
    "all_trees = [\n",
    "    parse(term, parser=regexp_parser, tagger=tagger)\n",
    "    for term in all_terms\n",
    "]\n",
    "extracted = [\n",
    "    extract_grouped_terms(tree) for tree in all_trees\n",
    "]\n",
    "\n",
    "df = pd.DataFrame({\n",
    "    'term': all_terms,\n",
    "    'tree': all_trees,\n",
    "    'extracted': extracted\n",
    "})"
   ]
  },
  {
   "cell_type": "code",
   "execution_count": 15,
   "id": "db5c8d1bf0e7db68",
   "metadata": {
    "collapsed": false,
    "ExecuteTime": {
     "end_time": "2024-03-18T18:19:28.326143Z",
     "start_time": "2024-03-18T18:19:28.316605Z"
    }
   },
   "outputs": [
    {
     "data": {
      "text/plain": "extracted_count\n1    24791\n0     2624\nName: count, dtype: int64"
     },
     "execution_count": 15,
     "metadata": {},
     "output_type": "execute_result"
    }
   ],
   "source": [
    "df['extracted_count'] = df['extracted'].map(len)\n",
    "df['extracted_count'].value_counts()"
   ]
  },
  {
   "cell_type": "code",
   "execution_count": 16,
   "id": "f86cc69ba3537ba0",
   "metadata": {
    "collapsed": false,
    "ExecuteTime": {
     "end_time": "2024-03-18T18:19:28.348659Z",
     "start_time": "2024-03-18T18:19:28.327319Z"
    }
   },
   "outputs": [
    {
     "data": {
      "text/plain": "                            term  \\\n0                      chirocain   \n1                levobupivacaine   \n2            levobupivacaine HCl   \n3            levobupivacaine hcl   \n4  levobupivacaine hydrochloride   \n5                (-)-Nicardipine   \n6                (-)-nicardipine   \n7                (S)-nicardipine   \n8                (s)-nicardipine   \n9               (-)-Nitrendipine   \n\n                                                tree  \\\n0                               [[(chirocain, C1E)]]   \n1                           [(levobupivacaine, C2S)]   \n2             [[(levobupivacaine, C2S), (HCl, C2E)]]   \n3             [[(levobupivacaine, C2S), (hcl, C2E)]]   \n4   [[(levobupivacaine, C2S), (hydrochloride, C2E)]]   \n5  [[((, C9S), (-, C9S), (), C9S), (-Nicardipine,...   \n6  [[((, C9S), (-, C9S), (), C9S), (-nicardipine,...   \n7  [[((, C9S), (S, C8S), (), C8S), (-nicardipine,...   \n8  [[((, C9S), (s, C8S), (), C8S), (-nicardipine,...   \n9  [[((, C9S), (-, C9S), (), C9S), (-Nitrendipine...   \n\n                        extracted  extracted_count  \n0                     [chirocain]                1  \n1                              []                0  \n2            [levobupivacaineHCl]                1  \n3            [levobupivacainehcl]                1  \n4  [levobupivacainehydrochloride]                1  \n5               [(-)-Nicardipine]                1  \n6               [(-)-nicardipine]                1  \n7               [(S)-nicardipine]                1  \n8               [(s)-nicardipine]                1  \n9              [(-)-Nitrendipine]                1  ",
      "text/html": "<div>\n<style scoped>\n    .dataframe tbody tr th:only-of-type {\n        vertical-align: middle;\n    }\n\n    .dataframe tbody tr th {\n        vertical-align: top;\n    }\n\n    .dataframe thead th {\n        text-align: right;\n    }\n</style>\n<table border=\"1\" class=\"dataframe\">\n  <thead>\n    <tr style=\"text-align: right;\">\n      <th></th>\n      <th>term</th>\n      <th>tree</th>\n      <th>extracted</th>\n      <th>extracted_count</th>\n    </tr>\n  </thead>\n  <tbody>\n    <tr>\n      <th>0</th>\n      <td>chirocain</td>\n      <td>[[(chirocain, C1E)]]</td>\n      <td>[chirocain]</td>\n      <td>1</td>\n    </tr>\n    <tr>\n      <th>1</th>\n      <td>levobupivacaine</td>\n      <td>[(levobupivacaine, C2S)]</td>\n      <td>[]</td>\n      <td>0</td>\n    </tr>\n    <tr>\n      <th>2</th>\n      <td>levobupivacaine HCl</td>\n      <td>[[(levobupivacaine, C2S), (HCl, C2E)]]</td>\n      <td>[levobupivacaineHCl]</td>\n      <td>1</td>\n    </tr>\n    <tr>\n      <th>3</th>\n      <td>levobupivacaine hcl</td>\n      <td>[[(levobupivacaine, C2S), (hcl, C2E)]]</td>\n      <td>[levobupivacainehcl]</td>\n      <td>1</td>\n    </tr>\n    <tr>\n      <th>4</th>\n      <td>levobupivacaine hydrochloride</td>\n      <td>[[(levobupivacaine, C2S), (hydrochloride, C2E)]]</td>\n      <td>[levobupivacainehydrochloride]</td>\n      <td>1</td>\n    </tr>\n    <tr>\n      <th>5</th>\n      <td>(-)-Nicardipine</td>\n      <td>[[((, C9S), (-, C9S), (), C9S), (-Nicardipine,...</td>\n      <td>[(-)-Nicardipine]</td>\n      <td>1</td>\n    </tr>\n    <tr>\n      <th>6</th>\n      <td>(-)-nicardipine</td>\n      <td>[[((, C9S), (-, C9S), (), C9S), (-nicardipine,...</td>\n      <td>[(-)-nicardipine]</td>\n      <td>1</td>\n    </tr>\n    <tr>\n      <th>7</th>\n      <td>(S)-nicardipine</td>\n      <td>[[((, C9S), (S, C8S), (), C8S), (-nicardipine,...</td>\n      <td>[(S)-nicardipine]</td>\n      <td>1</td>\n    </tr>\n    <tr>\n      <th>8</th>\n      <td>(s)-nicardipine</td>\n      <td>[[((, C9S), (s, C8S), (), C8S), (-nicardipine,...</td>\n      <td>[(s)-nicardipine]</td>\n      <td>1</td>\n    </tr>\n    <tr>\n      <th>9</th>\n      <td>(-)-Nitrendipine</td>\n      <td>[[((, C9S), (-, C9S), (), C9S), (-Nitrendipine...</td>\n      <td>[(-)-Nitrendipine]</td>\n      <td>1</td>\n    </tr>\n  </tbody>\n</table>\n</div>"
     },
     "execution_count": 16,
     "metadata": {},
     "output_type": "execute_result"
    }
   ],
   "source": [
    "df.head(10)"
   ]
  },
  {
   "cell_type": "code",
   "execution_count": 17,
   "id": "f2d0beb32394818b",
   "metadata": {
    "collapsed": false,
    "ExecuteTime": {
     "end_time": "2024-03-18T18:19:28.509716Z",
     "start_time": "2024-03-18T18:19:28.349551Z"
    }
   },
   "outputs": [
    {
     "name": "stdout",
     "output_type": "stream",
     "text": [
      "Accuracy: 90.43%\n"
     ]
    }
   ],
   "source": [
    "def is_correct(term: str, extracted: list[str]) -> bool:\n",
    "    if not extracted:\n",
    "        return False\n",
    "    return term.replace(' ', '') == extracted[0]\n",
    "df['correct'] = df.apply(lambda row: is_correct(row['term'], row['extracted']), axis=1)\n",
    "print(f'Accuracy: {df.correct.mean():.2%}')"
   ]
  },
  {
   "cell_type": "code",
   "execution_count": 18,
   "id": "a24ecda350459642",
   "metadata": {
    "collapsed": false,
    "ExecuteTime": {
     "end_time": "2024-03-18T18:19:29.948149Z",
     "start_time": "2024-03-18T18:19:28.510689Z"
    }
   },
   "outputs": [],
   "source": [
    "df['term_token_count'] = df['term'].map(lambda term: len(nltk.word_tokenize(term)))"
   ]
  },
  {
   "cell_type": "code",
   "execution_count": 19,
   "id": "f7319219d0615388",
   "metadata": {
    "collapsed": false,
    "ExecuteTime": {
     "end_time": "2024-03-18T18:19:29.953649Z",
     "start_time": "2024-03-18T18:19:29.949100Z"
    }
   },
   "outputs": [
    {
     "data": {
      "text/plain": "term_token_count\n1     2216\n2      372\n3       28\n4        4\n14       2\n19       2\nName: count, dtype: int64"
     },
     "execution_count": 19,
     "metadata": {},
     "output_type": "execute_result"
    }
   ],
   "source": [
    "df[df['extracted_count']==0].term_token_count.value_counts()"
   ]
  },
  {
   "cell_type": "code",
   "execution_count": 20,
   "id": "5907318b3563ca41",
   "metadata": {
    "collapsed": false,
    "ExecuteTime": {
     "end_time": "2024-03-18T18:19:29.973852Z",
     "start_time": "2024-03-18T18:19:29.954391Z"
    }
   },
   "outputs": [
    {
     "data": {
      "text/plain": "                     term                                 tree extracted  \\\n1         levobupivacaine             [(levobupivacaine, C2S)]        []   \n14          levdobutamine               [(levdobutamine, C2S)]        []   \n20            aminopterin                 [(aminopterin, C2S)]        []   \n56         5-fluorouracil              [(5-fluorouracil, C2S)]        []   \n89               abacavir                    [(abacavir, C2S)]        []   \n...                   ...                                  ...       ...   \n27319         ensitrelvir                 [(ensitrelvir, C3S)]        []   \n27327        ritlecitinib                [(ritlecitinib, C2S)]        []   \n27347         durlobactam                 [(durlobactam, C2S)]        []   \n27358            tofersen                    [(tofersen, C2S)]        []   \n27393  avacincaptad pegol  [(avacincaptad, C3S), (pegol, C3S)]        []   \n\n       extracted_count  correct  term_token_count  \n1                    0    False                 1  \n14                   0    False                 1  \n20                   0    False                 1  \n56                   0    False                 1  \n89                   0    False                 1  \n...                ...      ...               ...  \n27319                0    False                 1  \n27327                0    False                 1  \n27347                0    False                 1  \n27358                0    False                 1  \n27393                0    False                 2  \n\n[2624 rows x 6 columns]",
      "text/html": "<div>\n<style scoped>\n    .dataframe tbody tr th:only-of-type {\n        vertical-align: middle;\n    }\n\n    .dataframe tbody tr th {\n        vertical-align: top;\n    }\n\n    .dataframe thead th {\n        text-align: right;\n    }\n</style>\n<table border=\"1\" class=\"dataframe\">\n  <thead>\n    <tr style=\"text-align: right;\">\n      <th></th>\n      <th>term</th>\n      <th>tree</th>\n      <th>extracted</th>\n      <th>extracted_count</th>\n      <th>correct</th>\n      <th>term_token_count</th>\n    </tr>\n  </thead>\n  <tbody>\n    <tr>\n      <th>1</th>\n      <td>levobupivacaine</td>\n      <td>[(levobupivacaine, C2S)]</td>\n      <td>[]</td>\n      <td>0</td>\n      <td>False</td>\n      <td>1</td>\n    </tr>\n    <tr>\n      <th>14</th>\n      <td>levdobutamine</td>\n      <td>[(levdobutamine, C2S)]</td>\n      <td>[]</td>\n      <td>0</td>\n      <td>False</td>\n      <td>1</td>\n    </tr>\n    <tr>\n      <th>20</th>\n      <td>aminopterin</td>\n      <td>[(aminopterin, C2S)]</td>\n      <td>[]</td>\n      <td>0</td>\n      <td>False</td>\n      <td>1</td>\n    </tr>\n    <tr>\n      <th>56</th>\n      <td>5-fluorouracil</td>\n      <td>[(5-fluorouracil, C2S)]</td>\n      <td>[]</td>\n      <td>0</td>\n      <td>False</td>\n      <td>1</td>\n    </tr>\n    <tr>\n      <th>89</th>\n      <td>abacavir</td>\n      <td>[(abacavir, C2S)]</td>\n      <td>[]</td>\n      <td>0</td>\n      <td>False</td>\n      <td>1</td>\n    </tr>\n    <tr>\n      <th>...</th>\n      <td>...</td>\n      <td>...</td>\n      <td>...</td>\n      <td>...</td>\n      <td>...</td>\n      <td>...</td>\n    </tr>\n    <tr>\n      <th>27319</th>\n      <td>ensitrelvir</td>\n      <td>[(ensitrelvir, C3S)]</td>\n      <td>[]</td>\n      <td>0</td>\n      <td>False</td>\n      <td>1</td>\n    </tr>\n    <tr>\n      <th>27327</th>\n      <td>ritlecitinib</td>\n      <td>[(ritlecitinib, C2S)]</td>\n      <td>[]</td>\n      <td>0</td>\n      <td>False</td>\n      <td>1</td>\n    </tr>\n    <tr>\n      <th>27347</th>\n      <td>durlobactam</td>\n      <td>[(durlobactam, C2S)]</td>\n      <td>[]</td>\n      <td>0</td>\n      <td>False</td>\n      <td>1</td>\n    </tr>\n    <tr>\n      <th>27358</th>\n      <td>tofersen</td>\n      <td>[(tofersen, C2S)]</td>\n      <td>[]</td>\n      <td>0</td>\n      <td>False</td>\n      <td>1</td>\n    </tr>\n    <tr>\n      <th>27393</th>\n      <td>avacincaptad pegol</td>\n      <td>[(avacincaptad, C3S), (pegol, C3S)]</td>\n      <td>[]</td>\n      <td>0</td>\n      <td>False</td>\n      <td>2</td>\n    </tr>\n  </tbody>\n</table>\n<p>2624 rows × 6 columns</p>\n</div>"
     },
     "execution_count": 20,
     "metadata": {},
     "output_type": "execute_result"
    }
   ],
   "source": [
    "_df = df[df['extracted_count']==0].copy()\n",
    "_df"
   ]
  },
  {
   "cell_type": "code",
   "execution_count": 21,
   "id": "c76a19df0e383701",
   "metadata": {
    "collapsed": false,
    "ExecuteTime": {
     "end_time": "2024-03-18T18:19:29.989411Z",
     "start_time": "2024-03-18T18:19:29.974588Z"
    }
   },
   "outputs": [
    {
     "data": {
      "text/plain": "                             term  \\\n159         acefylline piperazine   \n297        acetopromazine maleate   \n379        adenosine triphosphate   \n494            alendronate sodium   \n640              alverine citrate   \n...                           ...   \n26349           efgartigimod alfa   \n26660                iron dextran   \n26670      laidlomycin propionate   \n26845  sodium sulfachloropyrazine   \n27393          avacincaptad pegol   \n\n                                              tree extracted  extracted_count  \\\n159         [(acefylline, C3S), (piperazine, C3S)]        []                0   \n297        [(acetopromazine, C3S), (maleate, C3S)]        []                0   \n379        [(adenosine, C4S), (triphosphate, C4S)]        []                0   \n494            [(alendronate, C4S), (sodium, C3S)]        []                0   \n640              [(alverine, C3S), (citrate, C3S)]        []                0   \n...                                            ...       ...              ...   \n26349           [(efgartigimod, C6S), (alfa, C6S)]        []                0   \n26660                [(iron, C4S), (dextran, C3S)]        []                0   \n26670      [(laidlomycin, C3S), (propionate, C3S)]        []                0   \n26845  [(sodium, C8S), (sulfachloropyrazine, C3S)]        []                0   \n27393          [(avacincaptad, C3S), (pegol, C3S)]        []                0   \n\n       correct  term_token_count  \n159      False                 2  \n297      False                 2  \n379      False                 2  \n494      False                 2  \n640      False                 2  \n...        ...               ...  \n26349    False                 2  \n26660    False                 2  \n26670    False                 2  \n26845    False                 2  \n27393    False                 2  \n\n[372 rows x 6 columns]",
      "text/html": "<div>\n<style scoped>\n    .dataframe tbody tr th:only-of-type {\n        vertical-align: middle;\n    }\n\n    .dataframe tbody tr th {\n        vertical-align: top;\n    }\n\n    .dataframe thead th {\n        text-align: right;\n    }\n</style>\n<table border=\"1\" class=\"dataframe\">\n  <thead>\n    <tr style=\"text-align: right;\">\n      <th></th>\n      <th>term</th>\n      <th>tree</th>\n      <th>extracted</th>\n      <th>extracted_count</th>\n      <th>correct</th>\n      <th>term_token_count</th>\n    </tr>\n  </thead>\n  <tbody>\n    <tr>\n      <th>159</th>\n      <td>acefylline piperazine</td>\n      <td>[(acefylline, C3S), (piperazine, C3S)]</td>\n      <td>[]</td>\n      <td>0</td>\n      <td>False</td>\n      <td>2</td>\n    </tr>\n    <tr>\n      <th>297</th>\n      <td>acetopromazine maleate</td>\n      <td>[(acetopromazine, C3S), (maleate, C3S)]</td>\n      <td>[]</td>\n      <td>0</td>\n      <td>False</td>\n      <td>2</td>\n    </tr>\n    <tr>\n      <th>379</th>\n      <td>adenosine triphosphate</td>\n      <td>[(adenosine, C4S), (triphosphate, C4S)]</td>\n      <td>[]</td>\n      <td>0</td>\n      <td>False</td>\n      <td>2</td>\n    </tr>\n    <tr>\n      <th>494</th>\n      <td>alendronate sodium</td>\n      <td>[(alendronate, C4S), (sodium, C3S)]</td>\n      <td>[]</td>\n      <td>0</td>\n      <td>False</td>\n      <td>2</td>\n    </tr>\n    <tr>\n      <th>640</th>\n      <td>alverine citrate</td>\n      <td>[(alverine, C3S), (citrate, C3S)]</td>\n      <td>[]</td>\n      <td>0</td>\n      <td>False</td>\n      <td>2</td>\n    </tr>\n    <tr>\n      <th>...</th>\n      <td>...</td>\n      <td>...</td>\n      <td>...</td>\n      <td>...</td>\n      <td>...</td>\n      <td>...</td>\n    </tr>\n    <tr>\n      <th>26349</th>\n      <td>efgartigimod alfa</td>\n      <td>[(efgartigimod, C6S), (alfa, C6S)]</td>\n      <td>[]</td>\n      <td>0</td>\n      <td>False</td>\n      <td>2</td>\n    </tr>\n    <tr>\n      <th>26660</th>\n      <td>iron dextran</td>\n      <td>[(iron, C4S), (dextran, C3S)]</td>\n      <td>[]</td>\n      <td>0</td>\n      <td>False</td>\n      <td>2</td>\n    </tr>\n    <tr>\n      <th>26670</th>\n      <td>laidlomycin propionate</td>\n      <td>[(laidlomycin, C3S), (propionate, C3S)]</td>\n      <td>[]</td>\n      <td>0</td>\n      <td>False</td>\n      <td>2</td>\n    </tr>\n    <tr>\n      <th>26845</th>\n      <td>sodium sulfachloropyrazine</td>\n      <td>[(sodium, C8S), (sulfachloropyrazine, C3S)]</td>\n      <td>[]</td>\n      <td>0</td>\n      <td>False</td>\n      <td>2</td>\n    </tr>\n    <tr>\n      <th>27393</th>\n      <td>avacincaptad pegol</td>\n      <td>[(avacincaptad, C3S), (pegol, C3S)]</td>\n      <td>[]</td>\n      <td>0</td>\n      <td>False</td>\n      <td>2</td>\n    </tr>\n  </tbody>\n</table>\n<p>372 rows × 6 columns</p>\n</div>"
     },
     "execution_count": 21,
     "metadata": {},
     "output_type": "execute_result"
    }
   ],
   "source": [
    "_df[_df['term_token_count']==2]"
   ]
  },
  {
   "cell_type": "markdown",
   "id": "6a5f9791d3586335",
   "metadata": {
    "collapsed": false
   },
   "source": [
    "# Classifier based chunker"
   ]
  },
  {
   "cell_type": "code",
   "execution_count": 22,
   "id": "e847a8a9c4d87623",
   "metadata": {
    "collapsed": false,
    "ExecuteTime": {
     "end_time": "2024-03-18T18:19:29.993948Z",
     "start_time": "2024-03-18T18:19:29.990415Z"
    }
   },
   "outputs": [],
   "source": [
    "def create_group_tree(nodes: list[tuple[str, str]]) ->nltk.Tree:\n",
    "    return nltk.Tree(\n",
    "        'NP',\n",
    "        nodes\n",
    "    )\n",
    "\n",
    "\n",
    "def get_filler_trees(words: list[str], size=3, tag='O') -> list[nltk.Tree]:\n",
    "    trees = []\n",
    "    selection = np.random.choice(words, size).tolist()\n",
    "    for word in selection:\n",
    "        # trees.append(nltk.Tree(word, [tag]))\n",
    "        trees.append((word, tag))\n",
    "    return trees\n"
   ]
  },
  {
   "cell_type": "code",
   "execution_count": 23,
   "id": "ad631332d7adeadb",
   "metadata": {
    "collapsed": false,
    "ExecuteTime": {
     "end_time": "2024-03-18T18:19:32.621175Z",
     "start_time": "2024-03-18T18:19:29.994887Z"
    }
   },
   "outputs": [],
   "source": [
    "filler_words = (\n",
    "    'The purpose of this study is to evaluate the safety and efficacy of 3 different doses of '\n",
    "    'administered in addition to standard therapy, in patients with active SLE disease.'\n",
    ").lower().split()\n",
    "\n",
    "    \n",
    "train_tree_synonyms = []\n",
    "for synonyms in synonyms_df['synonyms']:\n",
    "    trees = []\n",
    "    for synonym in synonyms:\n",
    "        tokens = nltk.word_tokenize(synonym)\n",
    "        synonym_tags = []\n",
    "        for token in tokens[:-1]:\n",
    "            synonym_tags.append((token, f'C{len(tokens)}S'))\n",
    "            \n",
    "        for token in tokens[-1:]:\n",
    "            synonym_tags.append((token, f'C{len(tokens)}E'))\n",
    "            \n",
    "        tree = create_group_tree(synonym_tags)\n",
    "        trees.append(tree)\n",
    "        \n",
    "        trees.extend(get_filler_trees(filler_words))\n",
    "    \n",
    "    \n",
    "    train_tree_synonyms.append(nltk.Tree('S', trees))\n",
    "        "
   ]
  },
  {
   "cell_type": "code",
   "execution_count": 24,
   "id": "7b173362bac0e3c9",
   "metadata": {
    "collapsed": false,
    "ExecuteTime": {
     "end_time": "2024-03-18T18:19:32.668527Z",
     "start_time": "2024-03-18T18:19:32.622031Z"
    }
   },
   "outputs": [],
   "source": [
    "# Check that tree height is at most 3.\n",
    "for index, tree in enumerate(train_tree_synonyms):\n",
    "    if tree.height()>3:\n",
    "        print('found')\n",
    "        break"
   ]
  },
  {
   "cell_type": "code",
   "execution_count": 25,
   "id": "989393a8cff6525a",
   "metadata": {
    "collapsed": false,
    "ExecuteTime": {
     "end_time": "2024-03-18T18:19:32.709201Z",
     "start_time": "2024-03-18T18:19:32.669328Z"
    }
   },
   "outputs": [
    {
     "data": {
      "text/plain": "Tree('S', [Tree('NP', [('(', 'C4S'), ('-', 'C4S'), (')', 'C4S'), ('-Nicardipine', 'C4E')]), ('in', 'O'), ('standard', 'O'), ('safety', 'O'), Tree('NP', [('(', 'C4S'), ('-', 'C4S'), (')', 'C4S'), ('-nicardipine', 'C4E')]), ('of', 'O'), ('the', 'O'), ('to', 'O'), Tree('NP', [('(', 'C4S'), ('S', 'C4S'), (')', 'C4S'), ('-nicardipine', 'C4E')]), ('the', 'O'), ('the', 'O'), ('administered', 'O'), Tree('NP', [('(', 'C4S'), ('s', 'C4S'), (')', 'C4S'), ('-nicardipine', 'C4E')]), ('therapy,', 'O'), ('of', 'O'), ('different', 'O')])",
      "image/svg+xml": "<svg baseProfile=\"full\" height=\"168px\" preserveAspectRatio=\"xMidYMid meet\" style=\"font-family: times, serif; font-weight: normal; font-style: normal; font-size: 16px;\" version=\"1.1\" viewBox=\"0,0,1600.0,168.0\" width=\"1600px\" xmlns=\"http://www.w3.org/2000/svg\" xmlns:ev=\"http://www.w3.org/2001/xml-events\" xmlns:xlink=\"http://www.w3.org/1999/xlink\"><defs /><svg width=\"100%\" x=\"0\" y=\"0px\"><defs /><text text-anchor=\"middle\" x=\"50%\" y=\"16px\">S</text></svg><svg width=\"14.5%\" x=\"0%\" y=\"48px\"><defs /><svg width=\"100%\" x=\"0\" y=\"0px\"><defs /><text text-anchor=\"middle\" x=\"50%\" y=\"16px\">NP</text></svg><svg width=\"17.2414%\" x=\"0%\" y=\"48px\"><defs /><svg width=\"100%\" x=\"0\" y=\"0px\"><defs /><text text-anchor=\"middle\" x=\"50%\" y=\"16px\">(</text></svg><svg width=\"100%\" x=\"0%\" y=\"48px\"><defs /><svg width=\"100%\" x=\"0\" y=\"0px\"><defs /><text text-anchor=\"middle\" x=\"50%\" y=\"16px\">C4S</text></svg></svg><line stroke=\"black\" x1=\"50%\" x2=\"50%\" y1=\"19.2px\" y2=\"48px\" /></svg><line stroke=\"black\" x1=\"50%\" x2=\"8.62069%\" y1=\"19.2px\" y2=\"48px\" /><svg width=\"17.2414%\" x=\"17.2414%\" y=\"48px\"><defs /><svg width=\"100%\" x=\"0\" y=\"0px\"><defs /><text text-anchor=\"middle\" x=\"50%\" y=\"16px\">-</text></svg><svg width=\"100%\" x=\"0%\" y=\"48px\"><defs /><svg width=\"100%\" x=\"0\" y=\"0px\"><defs /><text text-anchor=\"middle\" x=\"50%\" y=\"16px\">C4S</text></svg></svg><line stroke=\"black\" x1=\"50%\" x2=\"50%\" y1=\"19.2px\" y2=\"48px\" /></svg><line stroke=\"black\" x1=\"50%\" x2=\"25.8621%\" y1=\"19.2px\" y2=\"48px\" /><svg width=\"17.2414%\" x=\"34.4828%\" y=\"48px\"><defs /><svg width=\"100%\" x=\"0\" y=\"0px\"><defs /><text text-anchor=\"middle\" x=\"50%\" y=\"16px\">)</text></svg><svg width=\"100%\" x=\"0%\" y=\"48px\"><defs /><svg width=\"100%\" x=\"0\" y=\"0px\"><defs /><text text-anchor=\"middle\" x=\"50%\" y=\"16px\">C4S</text></svg></svg><line stroke=\"black\" x1=\"50%\" x2=\"50%\" y1=\"19.2px\" y2=\"48px\" /></svg><line stroke=\"black\" x1=\"50%\" x2=\"43.1034%\" y1=\"19.2px\" y2=\"48px\" /><svg width=\"48.2759%\" x=\"51.7241%\" y=\"48px\"><defs /><svg width=\"100%\" x=\"0\" y=\"0px\"><defs /><text text-anchor=\"middle\" x=\"50%\" y=\"16px\">-Nicardipine</text></svg><svg width=\"100%\" x=\"0%\" y=\"48px\"><defs /><svg width=\"100%\" x=\"0\" y=\"0px\"><defs /><text text-anchor=\"middle\" x=\"50%\" y=\"16px\">C4E</text></svg></svg><line stroke=\"black\" x1=\"50%\" x2=\"50%\" y1=\"19.2px\" y2=\"48px\" /></svg><line stroke=\"black\" x1=\"50%\" x2=\"75.8621%\" y1=\"19.2px\" y2=\"48px\" /></svg><line stroke=\"black\" x1=\"50%\" x2=\"7.25%\" y1=\"19.2px\" y2=\"48px\" /><svg width=\"2%\" x=\"14.5%\" y=\"48px\"><defs /><svg width=\"100%\" x=\"0\" y=\"0px\"><defs /><text text-anchor=\"middle\" x=\"50%\" y=\"16px\">in</text></svg><svg width=\"100%\" x=\"0%\" y=\"48px\"><defs /><svg width=\"100%\" x=\"0\" y=\"0px\"><defs /><text text-anchor=\"middle\" x=\"50%\" y=\"16px\">O</text></svg></svg><line stroke=\"black\" x1=\"50%\" x2=\"50%\" y1=\"19.2px\" y2=\"48px\" /></svg><line stroke=\"black\" x1=\"50%\" x2=\"15.5%\" y1=\"19.2px\" y2=\"48px\" /><svg width=\"5%\" x=\"16.5%\" y=\"48px\"><defs /><svg width=\"100%\" x=\"0\" y=\"0px\"><defs /><text text-anchor=\"middle\" x=\"50%\" y=\"16px\">standard</text></svg><svg width=\"100%\" x=\"0%\" y=\"48px\"><defs /><svg width=\"100%\" x=\"0\" y=\"0px\"><defs /><text text-anchor=\"middle\" x=\"50%\" y=\"16px\">O</text></svg></svg><line stroke=\"black\" x1=\"50%\" x2=\"50%\" y1=\"19.2px\" y2=\"48px\" /></svg><line stroke=\"black\" x1=\"50%\" x2=\"19%\" y1=\"19.2px\" y2=\"48px\" /><svg width=\"4%\" x=\"21.5%\" y=\"48px\"><defs /><svg width=\"100%\" x=\"0\" y=\"0px\"><defs /><text text-anchor=\"middle\" x=\"50%\" y=\"16px\">safety</text></svg><svg width=\"100%\" x=\"0%\" y=\"48px\"><defs /><svg width=\"100%\" x=\"0\" y=\"0px\"><defs /><text text-anchor=\"middle\" x=\"50%\" y=\"16px\">O</text></svg></svg><line stroke=\"black\" x1=\"50%\" x2=\"50%\" y1=\"19.2px\" y2=\"48px\" /></svg><line stroke=\"black\" x1=\"50%\" x2=\"23.5%\" y1=\"19.2px\" y2=\"48px\" /><svg width=\"14.5%\" x=\"25.5%\" y=\"48px\"><defs /><svg width=\"100%\" x=\"0\" y=\"0px\"><defs /><text text-anchor=\"middle\" x=\"50%\" y=\"16px\">NP</text></svg><svg width=\"17.2414%\" x=\"0%\" y=\"48px\"><defs /><svg width=\"100%\" x=\"0\" y=\"0px\"><defs /><text text-anchor=\"middle\" x=\"50%\" y=\"16px\">(</text></svg><svg width=\"100%\" x=\"0%\" y=\"48px\"><defs /><svg width=\"100%\" x=\"0\" y=\"0px\"><defs /><text text-anchor=\"middle\" x=\"50%\" y=\"16px\">C4S</text></svg></svg><line stroke=\"black\" x1=\"50%\" x2=\"50%\" y1=\"19.2px\" y2=\"48px\" /></svg><line stroke=\"black\" x1=\"50%\" x2=\"8.62069%\" y1=\"19.2px\" y2=\"48px\" /><svg width=\"17.2414%\" x=\"17.2414%\" y=\"48px\"><defs /><svg width=\"100%\" x=\"0\" y=\"0px\"><defs /><text text-anchor=\"middle\" x=\"50%\" y=\"16px\">-</text></svg><svg width=\"100%\" x=\"0%\" y=\"48px\"><defs /><svg width=\"100%\" x=\"0\" y=\"0px\"><defs /><text text-anchor=\"middle\" x=\"50%\" y=\"16px\">C4S</text></svg></svg><line stroke=\"black\" x1=\"50%\" x2=\"50%\" y1=\"19.2px\" y2=\"48px\" /></svg><line stroke=\"black\" x1=\"50%\" x2=\"25.8621%\" y1=\"19.2px\" y2=\"48px\" /><svg width=\"17.2414%\" x=\"34.4828%\" y=\"48px\"><defs /><svg width=\"100%\" x=\"0\" y=\"0px\"><defs /><text text-anchor=\"middle\" x=\"50%\" y=\"16px\">)</text></svg><svg width=\"100%\" x=\"0%\" y=\"48px\"><defs /><svg width=\"100%\" x=\"0\" y=\"0px\"><defs /><text text-anchor=\"middle\" x=\"50%\" y=\"16px\">C4S</text></svg></svg><line stroke=\"black\" x1=\"50%\" x2=\"50%\" y1=\"19.2px\" y2=\"48px\" /></svg><line stroke=\"black\" x1=\"50%\" x2=\"43.1034%\" y1=\"19.2px\" y2=\"48px\" /><svg width=\"48.2759%\" x=\"51.7241%\" y=\"48px\"><defs /><svg width=\"100%\" x=\"0\" y=\"0px\"><defs /><text text-anchor=\"middle\" x=\"50%\" y=\"16px\">-nicardipine</text></svg><svg width=\"100%\" x=\"0%\" y=\"48px\"><defs /><svg width=\"100%\" x=\"0\" y=\"0px\"><defs /><text text-anchor=\"middle\" x=\"50%\" y=\"16px\">C4E</text></svg></svg><line stroke=\"black\" x1=\"50%\" x2=\"50%\" y1=\"19.2px\" y2=\"48px\" /></svg><line stroke=\"black\" x1=\"50%\" x2=\"75.8621%\" y1=\"19.2px\" y2=\"48px\" /></svg><line stroke=\"black\" x1=\"50%\" x2=\"32.75%\" y1=\"19.2px\" y2=\"48px\" /><svg width=\"2%\" x=\"40%\" y=\"48px\"><defs /><svg width=\"100%\" x=\"0\" y=\"0px\"><defs /><text text-anchor=\"middle\" x=\"50%\" y=\"16px\">of</text></svg><svg width=\"100%\" x=\"0%\" y=\"48px\"><defs /><svg width=\"100%\" x=\"0\" y=\"0px\"><defs /><text text-anchor=\"middle\" x=\"50%\" y=\"16px\">O</text></svg></svg><line stroke=\"black\" x1=\"50%\" x2=\"50%\" y1=\"19.2px\" y2=\"48px\" /></svg><line stroke=\"black\" x1=\"50%\" x2=\"41%\" y1=\"19.2px\" y2=\"48px\" /><svg width=\"2.5%\" x=\"42%\" y=\"48px\"><defs /><svg width=\"100%\" x=\"0\" y=\"0px\"><defs /><text text-anchor=\"middle\" x=\"50%\" y=\"16px\">the</text></svg><svg width=\"100%\" x=\"0%\" y=\"48px\"><defs /><svg width=\"100%\" x=\"0\" y=\"0px\"><defs /><text text-anchor=\"middle\" x=\"50%\" y=\"16px\">O</text></svg></svg><line stroke=\"black\" x1=\"50%\" x2=\"50%\" y1=\"19.2px\" y2=\"48px\" /></svg><line stroke=\"black\" x1=\"50%\" x2=\"43.25%\" y1=\"19.2px\" y2=\"48px\" /><svg width=\"2%\" x=\"44.5%\" y=\"48px\"><defs /><svg width=\"100%\" x=\"0\" y=\"0px\"><defs /><text text-anchor=\"middle\" x=\"50%\" y=\"16px\">to</text></svg><svg width=\"100%\" x=\"0%\" y=\"48px\"><defs /><svg width=\"100%\" x=\"0\" y=\"0px\"><defs /><text text-anchor=\"middle\" x=\"50%\" y=\"16px\">O</text></svg></svg><line stroke=\"black\" x1=\"50%\" x2=\"50%\" y1=\"19.2px\" y2=\"48px\" /></svg><line stroke=\"black\" x1=\"50%\" x2=\"45.5%\" y1=\"19.2px\" y2=\"48px\" /><svg width=\"14.5%\" x=\"46.5%\" y=\"48px\"><defs /><svg width=\"100%\" x=\"0\" y=\"0px\"><defs /><text text-anchor=\"middle\" x=\"50%\" y=\"16px\">NP</text></svg><svg width=\"17.2414%\" x=\"0%\" y=\"48px\"><defs /><svg width=\"100%\" x=\"0\" y=\"0px\"><defs /><text text-anchor=\"middle\" x=\"50%\" y=\"16px\">(</text></svg><svg width=\"100%\" x=\"0%\" y=\"48px\"><defs /><svg width=\"100%\" x=\"0\" y=\"0px\"><defs /><text text-anchor=\"middle\" x=\"50%\" y=\"16px\">C4S</text></svg></svg><line stroke=\"black\" x1=\"50%\" x2=\"50%\" y1=\"19.2px\" y2=\"48px\" /></svg><line stroke=\"black\" x1=\"50%\" x2=\"8.62069%\" y1=\"19.2px\" y2=\"48px\" /><svg width=\"17.2414%\" x=\"17.2414%\" y=\"48px\"><defs /><svg width=\"100%\" x=\"0\" y=\"0px\"><defs /><text text-anchor=\"middle\" x=\"50%\" y=\"16px\">S</text></svg><svg width=\"100%\" x=\"0%\" y=\"48px\"><defs /><svg width=\"100%\" x=\"0\" y=\"0px\"><defs /><text text-anchor=\"middle\" x=\"50%\" y=\"16px\">C4S</text></svg></svg><line stroke=\"black\" x1=\"50%\" x2=\"50%\" y1=\"19.2px\" y2=\"48px\" /></svg><line stroke=\"black\" x1=\"50%\" x2=\"25.8621%\" y1=\"19.2px\" y2=\"48px\" /><svg width=\"17.2414%\" x=\"34.4828%\" y=\"48px\"><defs /><svg width=\"100%\" x=\"0\" y=\"0px\"><defs /><text text-anchor=\"middle\" x=\"50%\" y=\"16px\">)</text></svg><svg width=\"100%\" x=\"0%\" y=\"48px\"><defs /><svg width=\"100%\" x=\"0\" y=\"0px\"><defs /><text text-anchor=\"middle\" x=\"50%\" y=\"16px\">C4S</text></svg></svg><line stroke=\"black\" x1=\"50%\" x2=\"50%\" y1=\"19.2px\" y2=\"48px\" /></svg><line stroke=\"black\" x1=\"50%\" x2=\"43.1034%\" y1=\"19.2px\" y2=\"48px\" /><svg width=\"48.2759%\" x=\"51.7241%\" y=\"48px\"><defs /><svg width=\"100%\" x=\"0\" y=\"0px\"><defs /><text text-anchor=\"middle\" x=\"50%\" y=\"16px\">-nicardipine</text></svg><svg width=\"100%\" x=\"0%\" y=\"48px\"><defs /><svg width=\"100%\" x=\"0\" y=\"0px\"><defs /><text text-anchor=\"middle\" x=\"50%\" y=\"16px\">C4E</text></svg></svg><line stroke=\"black\" x1=\"50%\" x2=\"50%\" y1=\"19.2px\" y2=\"48px\" /></svg><line stroke=\"black\" x1=\"50%\" x2=\"75.8621%\" y1=\"19.2px\" y2=\"48px\" /></svg><line stroke=\"black\" x1=\"50%\" x2=\"53.75%\" y1=\"19.2px\" y2=\"48px\" /><svg width=\"2.5%\" x=\"61%\" y=\"48px\"><defs /><svg width=\"100%\" x=\"0\" y=\"0px\"><defs /><text text-anchor=\"middle\" x=\"50%\" y=\"16px\">the</text></svg><svg width=\"100%\" x=\"0%\" y=\"48px\"><defs /><svg width=\"100%\" x=\"0\" y=\"0px\"><defs /><text text-anchor=\"middle\" x=\"50%\" y=\"16px\">O</text></svg></svg><line stroke=\"black\" x1=\"50%\" x2=\"50%\" y1=\"19.2px\" y2=\"48px\" /></svg><line stroke=\"black\" x1=\"50%\" x2=\"62.25%\" y1=\"19.2px\" y2=\"48px\" /><svg width=\"2.5%\" x=\"63.5%\" y=\"48px\"><defs /><svg width=\"100%\" x=\"0\" y=\"0px\"><defs /><text text-anchor=\"middle\" x=\"50%\" y=\"16px\">the</text></svg><svg width=\"100%\" x=\"0%\" y=\"48px\"><defs /><svg width=\"100%\" x=\"0\" y=\"0px\"><defs /><text text-anchor=\"middle\" x=\"50%\" y=\"16px\">O</text></svg></svg><line stroke=\"black\" x1=\"50%\" x2=\"50%\" y1=\"19.2px\" y2=\"48px\" /></svg><line stroke=\"black\" x1=\"50%\" x2=\"64.75%\" y1=\"19.2px\" y2=\"48px\" /><svg width=\"7%\" x=\"66%\" y=\"48px\"><defs /><svg width=\"100%\" x=\"0\" y=\"0px\"><defs /><text text-anchor=\"middle\" x=\"50%\" y=\"16px\">administered</text></svg><svg width=\"100%\" x=\"0%\" y=\"48px\"><defs /><svg width=\"100%\" x=\"0\" y=\"0px\"><defs /><text text-anchor=\"middle\" x=\"50%\" y=\"16px\">O</text></svg></svg><line stroke=\"black\" x1=\"50%\" x2=\"50%\" y1=\"19.2px\" y2=\"48px\" /></svg><line stroke=\"black\" x1=\"50%\" x2=\"69.5%\" y1=\"19.2px\" y2=\"48px\" /><svg width=\"14.5%\" x=\"73%\" y=\"48px\"><defs /><svg width=\"100%\" x=\"0\" y=\"0px\"><defs /><text text-anchor=\"middle\" x=\"50%\" y=\"16px\">NP</text></svg><svg width=\"17.2414%\" x=\"0%\" y=\"48px\"><defs /><svg width=\"100%\" x=\"0\" y=\"0px\"><defs /><text text-anchor=\"middle\" x=\"50%\" y=\"16px\">(</text></svg><svg width=\"100%\" x=\"0%\" y=\"48px\"><defs /><svg width=\"100%\" x=\"0\" y=\"0px\"><defs /><text text-anchor=\"middle\" x=\"50%\" y=\"16px\">C4S</text></svg></svg><line stroke=\"black\" x1=\"50%\" x2=\"50%\" y1=\"19.2px\" y2=\"48px\" /></svg><line stroke=\"black\" x1=\"50%\" x2=\"8.62069%\" y1=\"19.2px\" y2=\"48px\" /><svg width=\"17.2414%\" x=\"17.2414%\" y=\"48px\"><defs /><svg width=\"100%\" x=\"0\" y=\"0px\"><defs /><text text-anchor=\"middle\" x=\"50%\" y=\"16px\">s</text></svg><svg width=\"100%\" x=\"0%\" y=\"48px\"><defs /><svg width=\"100%\" x=\"0\" y=\"0px\"><defs /><text text-anchor=\"middle\" x=\"50%\" y=\"16px\">C4S</text></svg></svg><line stroke=\"black\" x1=\"50%\" x2=\"50%\" y1=\"19.2px\" y2=\"48px\" /></svg><line stroke=\"black\" x1=\"50%\" x2=\"25.8621%\" y1=\"19.2px\" y2=\"48px\" /><svg width=\"17.2414%\" x=\"34.4828%\" y=\"48px\"><defs /><svg width=\"100%\" x=\"0\" y=\"0px\"><defs /><text text-anchor=\"middle\" x=\"50%\" y=\"16px\">)</text></svg><svg width=\"100%\" x=\"0%\" y=\"48px\"><defs /><svg width=\"100%\" x=\"0\" y=\"0px\"><defs /><text text-anchor=\"middle\" x=\"50%\" y=\"16px\">C4S</text></svg></svg><line stroke=\"black\" x1=\"50%\" x2=\"50%\" y1=\"19.2px\" y2=\"48px\" /></svg><line stroke=\"black\" x1=\"50%\" x2=\"43.1034%\" y1=\"19.2px\" y2=\"48px\" /><svg width=\"48.2759%\" x=\"51.7241%\" y=\"48px\"><defs /><svg width=\"100%\" x=\"0\" y=\"0px\"><defs /><text text-anchor=\"middle\" x=\"50%\" y=\"16px\">-nicardipine</text></svg><svg width=\"100%\" x=\"0%\" y=\"48px\"><defs /><svg width=\"100%\" x=\"0\" y=\"0px\"><defs /><text text-anchor=\"middle\" x=\"50%\" y=\"16px\">C4E</text></svg></svg><line stroke=\"black\" x1=\"50%\" x2=\"50%\" y1=\"19.2px\" y2=\"48px\" /></svg><line stroke=\"black\" x1=\"50%\" x2=\"75.8621%\" y1=\"19.2px\" y2=\"48px\" /></svg><line stroke=\"black\" x1=\"50%\" x2=\"80.25%\" y1=\"19.2px\" y2=\"48px\" /><svg width=\"5%\" x=\"87.5%\" y=\"48px\"><defs /><svg width=\"100%\" x=\"0\" y=\"0px\"><defs /><text text-anchor=\"middle\" x=\"50%\" y=\"16px\">therapy,</text></svg><svg width=\"100%\" x=\"0%\" y=\"48px\"><defs /><svg width=\"100%\" x=\"0\" y=\"0px\"><defs /><text text-anchor=\"middle\" x=\"50%\" y=\"16px\">O</text></svg></svg><line stroke=\"black\" x1=\"50%\" x2=\"50%\" y1=\"19.2px\" y2=\"48px\" /></svg><line stroke=\"black\" x1=\"50%\" x2=\"90%\" y1=\"19.2px\" y2=\"48px\" /><svg width=\"2%\" x=\"92.5%\" y=\"48px\"><defs /><svg width=\"100%\" x=\"0\" y=\"0px\"><defs /><text text-anchor=\"middle\" x=\"50%\" y=\"16px\">of</text></svg><svg width=\"100%\" x=\"0%\" y=\"48px\"><defs /><svg width=\"100%\" x=\"0\" y=\"0px\"><defs /><text text-anchor=\"middle\" x=\"50%\" y=\"16px\">O</text></svg></svg><line stroke=\"black\" x1=\"50%\" x2=\"50%\" y1=\"19.2px\" y2=\"48px\" /></svg><line stroke=\"black\" x1=\"50%\" x2=\"93.5%\" y1=\"19.2px\" y2=\"48px\" /><svg width=\"5.5%\" x=\"94.5%\" y=\"48px\"><defs /><svg width=\"100%\" x=\"0\" y=\"0px\"><defs /><text text-anchor=\"middle\" x=\"50%\" y=\"16px\">different</text></svg><svg width=\"100%\" x=\"0%\" y=\"48px\"><defs /><svg width=\"100%\" x=\"0\" y=\"0px\"><defs /><text text-anchor=\"middle\" x=\"50%\" y=\"16px\">O</text></svg></svg><line stroke=\"black\" x1=\"50%\" x2=\"50%\" y1=\"19.2px\" y2=\"48px\" /></svg><line stroke=\"black\" x1=\"50%\" x2=\"97.25%\" y1=\"19.2px\" y2=\"48px\" /></svg>"
     },
     "execution_count": 25,
     "metadata": {},
     "output_type": "execute_result"
    }
   ],
   "source": [
    "train_tree_synonyms[1]"
   ]
  },
  {
   "cell_type": "code",
   "execution_count": 26,
   "id": "e4620847835ab110",
   "metadata": {
    "collapsed": false,
    "ExecuteTime": {
     "end_time": "2024-03-18T18:19:32.714958Z",
     "start_time": "2024-03-18T18:19:32.712434Z"
    }
   },
   "outputs": [
    {
     "data": {
      "text/plain": "3"
     },
     "execution_count": 26,
     "metadata": {},
     "output_type": "execute_result"
    }
   ],
   "source": [
    "train_tree_synonyms[1].height()"
   ]
  },
  {
   "cell_type": "code",
   "execution_count": 27,
   "id": "710d9e53f0d0587b",
   "metadata": {
    "collapsed": false,
    "ExecuteTime": {
     "end_time": "2024-03-18T18:19:32.721135Z",
     "start_time": "2024-03-18T18:19:32.715675Z"
    }
   },
   "outputs": [
    {
     "data": {
      "text/plain": "token_count\n1     17756\n2      7535\n3       980\n4       765\n5       245\n6        93\n8        15\n7        14\n9         8\n14        2\n19        2\nName: count, dtype: int64"
     },
     "execution_count": 27,
     "metadata": {},
     "output_type": "execute_result"
    }
   ],
   "source": [
    "syn_counts_df['token_count'].value_counts()"
   ]
  },
  {
   "cell_type": "markdown",
   "id": "99c30090-9f48-491c-ae83-8d413c33a23d",
   "metadata": {},
   "source": [
    "## Prepare Ground Truth"
   ]
  },
  {
   "cell_type": "code",
   "execution_count": 28,
   "id": "493d8d8629a47653",
   "metadata": {
    "collapsed": false,
    "ExecuteTime": {
     "end_time": "2024-03-18T18:19:32.728738Z",
     "start_time": "2024-03-18T18:19:32.721827Z"
    }
   },
   "outputs": [],
   "source": [
    "ground_truth = {\n",
    "    'NCT00037648': ['anakinra'],\n",
    "    'NCT00048542': ['adalimumab', 'methotrexate'],\n",
    "    'NCT00071487': ['belimumab'],\n",
    "    'NCT00071812': ['belimumab'],\n",
    "    'NCT00072839': ['ALX-0600'],\n",
    "    'NCT00074438': ['rituximab', 'methotrexate'],\n",
    "    'NCT00078806': ['etanercept'],\n",
    "    'NCT00078819': ['etanercept'],\n",
    "    'NCT00079937': ['omalizumab'],\n",
    "    'NCT00090142': [],\n",
    "    'NCT00092131': [],\n",
    "    'NCT00095173': ['BMS-188667', 'Abatacept'],\n",
    "    'NCT00097370': ['mepolizumab', 'mepolizumab'],\n",
    "    'NCT00106522': ['tocilizumab', 'methotrexate', 'tocilizumab', 'tocilizumab', 'methotrexate'],\n",
    "    'NCT00106535': ['tocilizumab', 'methotrexate', 'tocilizumab', 'tocilizumab'],\n",
    "    'NCT00106548': ['tocilizumab', 'methotrexate', 'tocilizumab', 'tocilizumab'],\n",
    "    'NCT00109408': ['tocilizumab', 'methotrexate', 'tocilizumab', 'methotrexate'],\n",
    "    'NCT00109707': ['Imatinib', 'imatinib', 'imatinib', 'imatinib', 'Imatinib', 'imatinib','imatinib','imatinib'],\n",
    "    'NCT00110916': ['anakinra', 'anakinra'],\n",
    "    'NCT00111436': ['etanercept', 'etanercept', 'etanercept'],\n",
    "    'NCT00119678': ['Abatacept', 'prednisone'],\n",
    "    'NCT00120523': ['pimecrolimus'],\n",
    "    'NCT00130390': ['nitazoxanide'],\n",
    "    'NCT00137969': ['rituximab'],\n",
    "    'NCT00141921': ['etanercept'],\n",
    "    'NCT00146640': ['prednisone', 'prednisone'],\n",
    "    'NCT00171860': ['imatinib mesylate', 'imatinib mesylate', 'prednisone', 'hydroxyurea', 'oxyurea'],\n",
    "    'NCT00175877': ['Certolizumab Pegol'],\n",
    "    'NCT00195663': ['adalimumab', 'methotrexate', 'adalimumab'],\n",
    "    'NCT00195702': ['adalimumab', 'adalimumab', 'methotrexate',],\n",
    "    'NCT00206596': ['Leukine'],\n",
    "    'NCT00206661': ['sargramostim'],\n",
    "    'NCT00206700': ['sargramostim'],\n",
    "    'NCT00206713': ['Leukine', 'Leukine'],\n",
    "    'NCT00207714': ['Golimumab', 'CNTO 148'],\n",
    "    'NCT00207740': ['CNTO 148', 'golimumab'],\n",
    "    'NCT00221026': [],\n",
    "    'NCT00235820': ['Adalimumab', 'Methotrexate'],\n",
    "    'NCT00244842': ['voclosporin'],\n",
    "    'NCT00245570': [],\n",
    "    'NCT00245765': ['CDP870'],\n",
    "    'NCT00254293': ['Abatacept'],\n",
    "    'NCT00264537': ['golimumab', 'methotrexate'],\n",
    "    'NCT00264550': ['golimumab', 'methotrexate', 'methotrexate'],\n",
    "    'NCT00265096': ['golimumab'],\n",
    "    'NCT00265122': ['CNTO 1275'],\n",
    "    'NCT00266565': [],\n",
    "    'NCT00267956': ['CNTO 1275', 'ustekinumab'],\n",
    "    'NCT00267969': ['ustekinumab', 'CNTO 1275'],\n",
    "    'NCT00269841': [],\n",
    "    'NCT00269854': [],\n",
    "}\n",
    "ground_truth = {k:list(set(v)) for k,v in ground_truth.items()}"
   ]
  },
  {
   "cell_type": "code",
   "execution_count": 29,
   "id": "0d5415b3-1915-4ebe-a007-895d8fb5b8da",
   "metadata": {
    "ExecuteTime": {
     "end_time": "2024-03-18T18:19:32.925267Z",
     "start_time": "2024-03-18T18:19:32.729453Z"
    }
   },
   "outputs": [],
   "source": [
    "preferred_name_by_term = {}\n",
    "for _, row in synonyms_df.iterrows():\n",
    "    preferred_name = row['preferred_name']\n",
    "    synonyms = row['synonyms']\n",
    "    for synonym in synonyms:\n",
    "        # preferred_name_by_term[synonym.replace(' ', '')] = preferred_name\n",
    "        preferred_name_by_term[synonym.replace(' ', '').lower()] = preferred_name"
   ]
  },
  {
   "cell_type": "code",
   "execution_count": 30,
   "id": "dd29efe38a47dacb",
   "metadata": {
    "collapsed": false,
    "ExecuteTime": {
     "end_time": "2024-03-18T18:19:32.929033Z",
     "start_time": "2024-03-18T18:19:32.926302Z"
    }
   },
   "outputs": [],
   "source": [
    "ground_truth_cleaned = {}\n",
    "for nct_id, terms in ground_truth.items():\n",
    "    terms_cleaned = []\n",
    "    for term in terms:\n",
    "        cleaned = term.replace(' ', '').lower()\n",
    "        if cleaned not in preferred_name_by_term:\n",
    "            continue\n",
    "        terms_cleaned.append(preferred_name_by_term[cleaned])\n",
    "    ground_truth_cleaned[nct_id] = list(set(terms_cleaned))"
   ]
  },
  {
   "cell_type": "code",
   "execution_count": 30,
   "id": "3105252746a90e42",
   "metadata": {
    "collapsed": false,
    "ExecuteTime": {
     "end_time": "2024-03-18T18:19:32.931198Z",
     "start_time": "2024-03-18T18:19:32.929771Z"
    }
   },
   "outputs": [],
   "source": []
  },
  {
   "cell_type": "code",
   "execution_count": 31,
   "id": "448ff06bbd9a9339",
   "metadata": {
    "collapsed": false,
    "ExecuteTime": {
     "end_time": "2024-03-18T18:19:32.936294Z",
     "start_time": "2024-03-18T18:19:32.931942Z"
    }
   },
   "outputs": [],
   "source": [
    "def split_summary_by_keywords(brief_summary: str, keywords: list[str]) -> str:\n",
    "    tokens = [brief_summary]\n",
    "    for keyword in keywords:\n",
    "        new_tokens = []\n",
    "        for token in tokens:\n",
    "            split_tokens = token.split(keyword)\n",
    "            for index, split_token in enumerate(split_tokens):\n",
    "                new_tokens.append(split_token)\n",
    "                if index < len(split_tokens) - 1:\n",
    "                    new_tokens.append(keyword)\n",
    "        tokens = new_tokens\n",
    "    return tokens\n",
    "\n",
    "def get_synonym_subtree(synonym):\n",
    "    tokens = nltk.word_tokenize(synonym)\n",
    "    synonym_tags = []\n",
    "    for token in tokens[:-1]:\n",
    "        synonym_tags.append((token, f'C{len(tokens)}S'))\n",
    "        \n",
    "    for token in tokens[-1:]:\n",
    "        synonym_tags.append((token, f'C{len(tokens)}E'))\n",
    "        \n",
    "    tree = create_group_tree(synonym_tags)\n",
    "    return tree\n",
    "\n",
    "def get_gt_tree(brief_summary: str, keywords: list[str]) -> nltk.Tree:\n",
    "    tokens = split_summary_by_keywords(brief_summary, keywords)\n",
    "    for part in tokens:\n",
    "        if part in keywords:\n",
    "            tree.append(get_synonym_subtree(token))\n",
    "        else:\n",
    "            tree.extend([(t, 'O') for t in nltk.word_tokenize(part)])\n",
    "    return nltk.Tree('S', tree)"
   ]
  },
  {
   "cell_type": "code",
   "execution_count": 32,
   "id": "21682033ba6e1b2",
   "metadata": {
    "collapsed": false,
    "ExecuteTime": {
     "end_time": "2024-03-18T18:19:32.943281Z",
     "start_time": "2024-03-18T18:19:32.937084Z"
    }
   },
   "outputs": [],
   "source": [
    "# tagger = taggers[-1]\n",
    "# test_trees = []\n",
    "# for _, row in summaries.iterrows():\n",
    "#     nct_id = row['nct_id']\n",
    "#     keywords = ground_truth[nct_id]\n",
    "#     brief_summary = row['brief_summary']\n",
    "#     tree = get_gt_tree(brief_summary, keywords)\n",
    "#     assert ''.join(split_summary_by_keywords(brief_summary, keywords)) == brief_summary\n",
    "#     test_trees.append(tree)"
   ]
  },
  {
   "cell_type": "code",
   "execution_count": 32,
   "id": "afe16c5734526f86",
   "metadata": {
    "collapsed": false,
    "ExecuteTime": {
     "end_time": "2024-03-18T18:19:32.945332Z",
     "start_time": "2024-03-18T18:19:32.943960Z"
    }
   },
   "outputs": [],
   "source": []
  },
  {
   "cell_type": "code",
   "execution_count": 33,
   "id": "c1226774b3cd7288",
   "metadata": {
    "collapsed": false,
    "ExecuteTime": {
     "end_time": "2024-03-18T18:19:32.948240Z",
     "start_time": "2024-03-18T18:19:32.945965Z"
    }
   },
   "outputs": [],
   "source": [
    "# test_trees[1].height()"
   ]
  },
  {
   "cell_type": "code",
   "execution_count": 34,
   "id": "978dccfdb07ee727",
   "metadata": {
    "collapsed": false,
    "ExecuteTime": {
     "end_time": "2024-03-18T18:19:33.420472Z",
     "start_time": "2024-03-18T18:19:32.948917Z"
    }
   },
   "outputs": [],
   "source": [
    "chunker = chunker.ConsecutiveNPChunker(\n",
    "    train_sents=train_tree_synonyms,\n",
    "    feature_generator_fn=util.get_feature_generator('npchunk_features_bigram_pos')\n",
    ")"
   ]
  },
  {
   "cell_type": "code",
   "execution_count": 35,
   "id": "889a137f62458fdb",
   "metadata": {
    "collapsed": false,
    "ExecuteTime": {
     "end_time": "2024-03-18T18:19:35.579371Z",
     "start_time": "2024-03-18T18:19:33.421380Z"
    }
   },
   "outputs": [
    {
     "name": "stderr",
     "output_type": "stream",
     "text": [
      "/tmp/ipykernel_8827/1776228952.py:2: DeprecationWarning: \n",
      "  Function evaluate() has been deprecated.  Use accuracy(gold)\n",
      "  instead.\n",
      "  print(chunker.evaluate(train_tree_synonyms))\n"
     ]
    },
    {
     "name": "stdout",
     "output_type": "stream",
     "text": [
      "ChunkParse score:\n",
      "    IOB Accuracy: 100.0%%\n",
      "    Precision:    100.0%%\n",
      "    Recall:       100.0%%\n",
      "    F-Measure:    100.0%%\n"
     ]
    }
   ],
   "source": [
    "# Training set evaluation metric for the Chunker.\n",
    "print(chunker.evaluate(train_tree_synonyms))"
   ]
  },
  {
   "cell_type": "markdown",
   "id": "723fb886d43ebb57",
   "metadata": {
    "collapsed": false
   },
   "source": [
    "## Test set evaluation metric for the Chunker."
   ]
  },
  {
   "cell_type": "code",
   "execution_count": 36,
   "id": "d5b88dffef876f4",
   "metadata": {
    "collapsed": false,
    "ExecuteTime": {
     "end_time": "2024-03-18T18:19:35.644953Z",
     "start_time": "2024-03-18T18:19:35.580207Z"
    }
   },
   "outputs": [],
   "source": [
    "tagger = taggers[-1]\n",
    "test_trees = []\n",
    "for _, row in summaries.iterrows():\n",
    "    nct_id = row['nct_id']\n",
    "    keywords = ground_truth[nct_id]\n",
    "    brief_summary = row['brief_summary']\n",
    "    # _tags = tagger.tag(nltk.word_tokenize(brief_summary))\n",
    "    _tags = tagger.tag(nltk.word_tokenize(brief_summary.lower()))\n",
    "    tree = chunker.parse(_tags)\n",
    "    test_trees.append(tree)"
   ]
  },
  {
   "cell_type": "code",
   "execution_count": 37,
   "id": "b722e35f20a2c02c",
   "metadata": {
    "collapsed": false,
    "ExecuteTime": {
     "end_time": "2024-03-18T18:19:35.684016Z",
     "start_time": "2024-03-18T18:19:35.645861Z"
    }
   },
   "outputs": [
    {
     "data": {
      "text/plain": "3"
     },
     "execution_count": 37,
     "metadata": {},
     "output_type": "execute_result"
    }
   ],
   "source": [
    "max([t.height() for t in train_tree_synonyms])"
   ]
  },
  {
   "cell_type": "code",
   "execution_count": 38,
   "id": "bf9b4db05872e072",
   "metadata": {
    "collapsed": false,
    "ExecuteTime": {
     "end_time": "2024-03-18T18:19:35.732533Z",
     "start_time": "2024-03-18T18:19:35.684722Z"
    }
   },
   "outputs": [
    {
     "name": "stdout",
     "output_type": "stream",
     "text": [
      "ChunkParse score:\n",
      "    IOB Accuracy: 100.0%%\n",
      "    Precision:    100.0%%\n",
      "    Recall:       100.0%%\n",
      "    F-Measure:    100.0%%\n"
     ]
    },
    {
     "name": "stderr",
     "output_type": "stream",
     "text": [
      "/tmp/ipykernel_8827/399213640.py:2: DeprecationWarning: \n",
      "  Function evaluate() has been deprecated.  Use accuracy(gold)\n",
      "  instead.\n",
      "  print(chunker.evaluate(test_trees))\n"
     ]
    }
   ],
   "source": [
    "# Note: 100% is too good, the dataset is rather small.\n",
    "print(chunker.evaluate(test_trees))"
   ]
  },
  {
   "cell_type": "code",
   "execution_count": 39,
   "id": "91a5ffdbb458dcd5",
   "metadata": {
    "collapsed": false,
    "ExecuteTime": {
     "end_time": "2024-03-18T18:19:35.783455Z",
     "start_time": "2024-03-18T18:19:35.733269Z"
    }
   },
   "outputs": [
    {
     "data": {
      "text/plain": "Tree('S', [('the', 'O'), ('objectives', 'O'), ('of', 'O'), ('the', 'O'), ('study', 'O'), ('are', 'O'), (':', 'O'), ('1.', 'O'), ('evaluation', 'O'), ('of', 'O'), ('the', 'O'), ('safety', 'O'), ('profile', 'O'), ('of', 'O'), Tree('NP', [('imatinib', 'C1E'), ('mesylate', 'C2E')]), ('in', 'O'), ('patients', 'O'), ('with', 'O'), ('idiopathic', 'O'), ('hypereosinophilic', 'O'), ('syndrome', 'O'), ('resistant', 'O'), ('or', 'O'), ('refractory', 'O'), ('to', 'O'), (',', 'O'), ('or', 'O'), ('intolerant', 'O'), ('of', 'O'), (',', 'O'), Tree('NP', [('prednisone', 'C1E')]), (',', 'O'), Tree('NP', [('hydroxyurea', 'C1E')]), ('or', 'O'), ('interferon-alpha', 'O'), (',', 'O'), ('or', 'O'), ('untreated', 'O'), ('patients', 'O'), ('carrying', 'O'), ('the', 'O'), ('fip1l1-pdgfra', 'O'), ('fusion', 'O'), ('protein', 'O'), ('.', 'O'), ('2.', 'O'), ('evaluation', 'O'), ('of', 'O'), ('the', 'O'), ('efficacy', 'O'), ('of', 'O'), Tree('NP', [('imatinib', 'C1E'), ('mesylate', 'C2E')]), ('in', 'O'), ('patients', 'O'), ('with', 'O'), ('idiopathic', 'O'), ('hypereosinophilic', 'O'), ('syndrome', 'O'), ('3.', 'O'), ('analysis', 'O'), ('of', 'O'), ('patient', 'O'), (\"'s\", 'O'), ('blood', 'O'), ('samples', 'O'), ('for', 'O'), ('the', 'O'), ('detection', 'O'), ('of', 'O'), ('activated', 'O'), ('kinases', 'O'), ('.', 'O')])",
      "image/svg+xml": "<svg baseProfile=\"full\" height=\"168px\" preserveAspectRatio=\"xMidYMid meet\" style=\"font-family: times, serif; font-weight: normal; font-style: normal; font-size: 16px;\" version=\"1.1\" viewBox=\"0,0,4544.0,168.0\" width=\"4544px\" xmlns=\"http://www.w3.org/2000/svg\" xmlns:ev=\"http://www.w3.org/2001/xml-events\" xmlns:xlink=\"http://www.w3.org/1999/xlink\"><defs /><svg width=\"100%\" x=\"0\" y=\"0px\"><defs /><text text-anchor=\"middle\" x=\"50%\" y=\"16px\">S</text></svg><svg width=\"0.880282%\" x=\"0%\" y=\"48px\"><defs /><svg width=\"100%\" x=\"0\" y=\"0px\"><defs /><text text-anchor=\"middle\" x=\"50%\" y=\"16px\">the</text></svg><svg width=\"100%\" x=\"0%\" y=\"48px\"><defs /><svg width=\"100%\" x=\"0\" y=\"0px\"><defs /><text text-anchor=\"middle\" x=\"50%\" y=\"16px\">O</text></svg></svg><line stroke=\"black\" x1=\"50%\" x2=\"50%\" y1=\"19.2px\" y2=\"48px\" /></svg><line stroke=\"black\" x1=\"50%\" x2=\"0.440141%\" y1=\"19.2px\" y2=\"48px\" /><svg width=\"2.11268%\" x=\"0.880282%\" y=\"48px\"><defs /><svg width=\"100%\" x=\"0\" y=\"0px\"><defs /><text text-anchor=\"middle\" x=\"50%\" y=\"16px\">objectives</text></svg><svg width=\"100%\" x=\"0%\" y=\"48px\"><defs /><svg width=\"100%\" x=\"0\" y=\"0px\"><defs /><text text-anchor=\"middle\" x=\"50%\" y=\"16px\">O</text></svg></svg><line stroke=\"black\" x1=\"50%\" x2=\"50%\" y1=\"19.2px\" y2=\"48px\" /></svg><line stroke=\"black\" x1=\"50%\" x2=\"1.93662%\" y1=\"19.2px\" y2=\"48px\" /><svg width=\"0.704225%\" x=\"2.99296%\" y=\"48px\"><defs /><svg width=\"100%\" x=\"0\" y=\"0px\"><defs /><text text-anchor=\"middle\" x=\"50%\" y=\"16px\">of</text></svg><svg width=\"100%\" x=\"0%\" y=\"48px\"><defs /><svg width=\"100%\" x=\"0\" y=\"0px\"><defs /><text text-anchor=\"middle\" x=\"50%\" y=\"16px\">O</text></svg></svg><line stroke=\"black\" x1=\"50%\" x2=\"50%\" y1=\"19.2px\" y2=\"48px\" /></svg><line stroke=\"black\" x1=\"50%\" x2=\"3.34507%\" y1=\"19.2px\" y2=\"48px\" /><svg width=\"0.880282%\" x=\"3.69718%\" y=\"48px\"><defs /><svg width=\"100%\" x=\"0\" y=\"0px\"><defs /><text text-anchor=\"middle\" x=\"50%\" y=\"16px\">the</text></svg><svg width=\"100%\" x=\"0%\" y=\"48px\"><defs /><svg width=\"100%\" x=\"0\" y=\"0px\"><defs /><text text-anchor=\"middle\" x=\"50%\" y=\"16px\">O</text></svg></svg><line stroke=\"black\" x1=\"50%\" x2=\"50%\" y1=\"19.2px\" y2=\"48px\" /></svg><line stroke=\"black\" x1=\"50%\" x2=\"4.13732%\" y1=\"19.2px\" y2=\"48px\" /><svg width=\"1.23239%\" x=\"4.57746%\" y=\"48px\"><defs /><svg width=\"100%\" x=\"0\" y=\"0px\"><defs /><text text-anchor=\"middle\" x=\"50%\" y=\"16px\">study</text></svg><svg width=\"100%\" x=\"0%\" y=\"48px\"><defs /><svg width=\"100%\" x=\"0\" y=\"0px\"><defs /><text text-anchor=\"middle\" x=\"50%\" y=\"16px\">O</text></svg></svg><line stroke=\"black\" x1=\"50%\" x2=\"50%\" y1=\"19.2px\" y2=\"48px\" /></svg><line stroke=\"black\" x1=\"50%\" x2=\"5.19366%\" y1=\"19.2px\" y2=\"48px\" /><svg width=\"0.880282%\" x=\"5.80986%\" y=\"48px\"><defs /><svg width=\"100%\" x=\"0\" y=\"0px\"><defs /><text text-anchor=\"middle\" x=\"50%\" y=\"16px\">are</text></svg><svg width=\"100%\" x=\"0%\" y=\"48px\"><defs /><svg width=\"100%\" x=\"0\" y=\"0px\"><defs /><text text-anchor=\"middle\" x=\"50%\" y=\"16px\">O</text></svg></svg><line stroke=\"black\" x1=\"50%\" x2=\"50%\" y1=\"19.2px\" y2=\"48px\" /></svg><line stroke=\"black\" x1=\"50%\" x2=\"6.25%\" y1=\"19.2px\" y2=\"48px\" /><svg width=\"0.528169%\" x=\"6.69014%\" y=\"48px\"><defs /><svg width=\"100%\" x=\"0\" y=\"0px\"><defs /><text text-anchor=\"middle\" x=\"50%\" y=\"16px\">:</text></svg><svg width=\"100%\" x=\"0%\" y=\"48px\"><defs /><svg width=\"100%\" x=\"0\" y=\"0px\"><defs /><text text-anchor=\"middle\" x=\"50%\" y=\"16px\">O</text></svg></svg><line stroke=\"black\" x1=\"50%\" x2=\"50%\" y1=\"19.2px\" y2=\"48px\" /></svg><line stroke=\"black\" x1=\"50%\" x2=\"6.95423%\" y1=\"19.2px\" y2=\"48px\" /><svg width=\"0.704225%\" x=\"7.21831%\" y=\"48px\"><defs /><svg width=\"100%\" x=\"0\" y=\"0px\"><defs /><text text-anchor=\"middle\" x=\"50%\" y=\"16px\">1.</text></svg><svg width=\"100%\" x=\"0%\" y=\"48px\"><defs /><svg width=\"100%\" x=\"0\" y=\"0px\"><defs /><text text-anchor=\"middle\" x=\"50%\" y=\"16px\">O</text></svg></svg><line stroke=\"black\" x1=\"50%\" x2=\"50%\" y1=\"19.2px\" y2=\"48px\" /></svg><line stroke=\"black\" x1=\"50%\" x2=\"7.57042%\" y1=\"19.2px\" y2=\"48px\" /><svg width=\"2.11268%\" x=\"7.92254%\" y=\"48px\"><defs /><svg width=\"100%\" x=\"0\" y=\"0px\"><defs /><text text-anchor=\"middle\" x=\"50%\" y=\"16px\">evaluation</text></svg><svg width=\"100%\" x=\"0%\" y=\"48px\"><defs /><svg width=\"100%\" x=\"0\" y=\"0px\"><defs /><text text-anchor=\"middle\" x=\"50%\" y=\"16px\">O</text></svg></svg><line stroke=\"black\" x1=\"50%\" x2=\"50%\" y1=\"19.2px\" y2=\"48px\" /></svg><line stroke=\"black\" x1=\"50%\" x2=\"8.97887%\" y1=\"19.2px\" y2=\"48px\" /><svg width=\"0.704225%\" x=\"10.0352%\" y=\"48px\"><defs /><svg width=\"100%\" x=\"0\" y=\"0px\"><defs /><text text-anchor=\"middle\" x=\"50%\" y=\"16px\">of</text></svg><svg width=\"100%\" x=\"0%\" y=\"48px\"><defs /><svg width=\"100%\" x=\"0\" y=\"0px\"><defs /><text text-anchor=\"middle\" x=\"50%\" y=\"16px\">O</text></svg></svg><line stroke=\"black\" x1=\"50%\" x2=\"50%\" y1=\"19.2px\" y2=\"48px\" /></svg><line stroke=\"black\" x1=\"50%\" x2=\"10.3873%\" y1=\"19.2px\" y2=\"48px\" /><svg width=\"0.880282%\" x=\"10.7394%\" y=\"48px\"><defs /><svg width=\"100%\" x=\"0\" y=\"0px\"><defs /><text text-anchor=\"middle\" x=\"50%\" y=\"16px\">the</text></svg><svg width=\"100%\" x=\"0%\" y=\"48px\"><defs /><svg width=\"100%\" x=\"0\" y=\"0px\"><defs /><text text-anchor=\"middle\" x=\"50%\" y=\"16px\">O</text></svg></svg><line stroke=\"black\" x1=\"50%\" x2=\"50%\" y1=\"19.2px\" y2=\"48px\" /></svg><line stroke=\"black\" x1=\"50%\" x2=\"11.1796%\" y1=\"19.2px\" y2=\"48px\" /><svg width=\"1.40845%\" x=\"11.6197%\" y=\"48px\"><defs /><svg width=\"100%\" x=\"0\" y=\"0px\"><defs /><text text-anchor=\"middle\" x=\"50%\" y=\"16px\">safety</text></svg><svg width=\"100%\" x=\"0%\" y=\"48px\"><defs /><svg width=\"100%\" x=\"0\" y=\"0px\"><defs /><text text-anchor=\"middle\" x=\"50%\" y=\"16px\">O</text></svg></svg><line stroke=\"black\" x1=\"50%\" x2=\"50%\" y1=\"19.2px\" y2=\"48px\" /></svg><line stroke=\"black\" x1=\"50%\" x2=\"12.3239%\" y1=\"19.2px\" y2=\"48px\" /><svg width=\"1.58451%\" x=\"13.0282%\" y=\"48px\"><defs /><svg width=\"100%\" x=\"0\" y=\"0px\"><defs /><text text-anchor=\"middle\" x=\"50%\" y=\"16px\">profile</text></svg><svg width=\"100%\" x=\"0%\" y=\"48px\"><defs /><svg width=\"100%\" x=\"0\" y=\"0px\"><defs /><text text-anchor=\"middle\" x=\"50%\" y=\"16px\">O</text></svg></svg><line stroke=\"black\" x1=\"50%\" x2=\"50%\" y1=\"19.2px\" y2=\"48px\" /></svg><line stroke=\"black\" x1=\"50%\" x2=\"13.8204%\" y1=\"19.2px\" y2=\"48px\" /><svg width=\"0.704225%\" x=\"14.6127%\" y=\"48px\"><defs /><svg width=\"100%\" x=\"0\" y=\"0px\"><defs /><text text-anchor=\"middle\" x=\"50%\" y=\"16px\">of</text></svg><svg width=\"100%\" x=\"0%\" y=\"48px\"><defs /><svg width=\"100%\" x=\"0\" y=\"0px\"><defs /><text text-anchor=\"middle\" x=\"50%\" y=\"16px\">O</text></svg></svg><line stroke=\"black\" x1=\"50%\" x2=\"50%\" y1=\"19.2px\" y2=\"48px\" /></svg><line stroke=\"black\" x1=\"50%\" x2=\"14.9648%\" y1=\"19.2px\" y2=\"48px\" /><svg width=\"3.52113%\" x=\"15.3169%\" y=\"48px\"><defs /><svg width=\"100%\" x=\"0\" y=\"0px\"><defs /><text text-anchor=\"middle\" x=\"50%\" y=\"16px\">NP</text></svg><svg width=\"50%\" x=\"0%\" y=\"48px\"><defs /><svg width=\"100%\" x=\"0\" y=\"0px\"><defs /><text text-anchor=\"middle\" x=\"50%\" y=\"16px\">imatinib</text></svg><svg width=\"100%\" x=\"0%\" y=\"48px\"><defs /><svg width=\"100%\" x=\"0\" y=\"0px\"><defs /><text text-anchor=\"middle\" x=\"50%\" y=\"16px\">C1E</text></svg></svg><line stroke=\"black\" x1=\"50%\" x2=\"50%\" y1=\"19.2px\" y2=\"48px\" /></svg><line stroke=\"black\" x1=\"50%\" x2=\"25%\" y1=\"19.2px\" y2=\"48px\" /><svg width=\"50%\" x=\"50%\" y=\"48px\"><defs /><svg width=\"100%\" x=\"0\" y=\"0px\"><defs /><text text-anchor=\"middle\" x=\"50%\" y=\"16px\">mesylate</text></svg><svg width=\"100%\" x=\"0%\" y=\"48px\"><defs /><svg width=\"100%\" x=\"0\" y=\"0px\"><defs /><text text-anchor=\"middle\" x=\"50%\" y=\"16px\">C2E</text></svg></svg><line stroke=\"black\" x1=\"50%\" x2=\"50%\" y1=\"19.2px\" y2=\"48px\" /></svg><line stroke=\"black\" x1=\"50%\" x2=\"75%\" y1=\"19.2px\" y2=\"48px\" /></svg><line stroke=\"black\" x1=\"50%\" x2=\"17.0775%\" y1=\"19.2px\" y2=\"48px\" /><svg width=\"0.704225%\" x=\"18.838%\" y=\"48px\"><defs /><svg width=\"100%\" x=\"0\" y=\"0px\"><defs /><text text-anchor=\"middle\" x=\"50%\" y=\"16px\">in</text></svg><svg width=\"100%\" x=\"0%\" y=\"48px\"><defs /><svg width=\"100%\" x=\"0\" y=\"0px\"><defs /><text text-anchor=\"middle\" x=\"50%\" y=\"16px\">O</text></svg></svg><line stroke=\"black\" x1=\"50%\" x2=\"50%\" y1=\"19.2px\" y2=\"48px\" /></svg><line stroke=\"black\" x1=\"50%\" x2=\"19.1901%\" y1=\"19.2px\" y2=\"48px\" /><svg width=\"1.76056%\" x=\"19.5423%\" y=\"48px\"><defs /><svg width=\"100%\" x=\"0\" y=\"0px\"><defs /><text text-anchor=\"middle\" x=\"50%\" y=\"16px\">patients</text></svg><svg width=\"100%\" x=\"0%\" y=\"48px\"><defs /><svg width=\"100%\" x=\"0\" y=\"0px\"><defs /><text text-anchor=\"middle\" x=\"50%\" y=\"16px\">O</text></svg></svg><line stroke=\"black\" x1=\"50%\" x2=\"50%\" y1=\"19.2px\" y2=\"48px\" /></svg><line stroke=\"black\" x1=\"50%\" x2=\"20.4225%\" y1=\"19.2px\" y2=\"48px\" /><svg width=\"1.05634%\" x=\"21.3028%\" y=\"48px\"><defs /><svg width=\"100%\" x=\"0\" y=\"0px\"><defs /><text text-anchor=\"middle\" x=\"50%\" y=\"16px\">with</text></svg><svg width=\"100%\" x=\"0%\" y=\"48px\"><defs /><svg width=\"100%\" x=\"0\" y=\"0px\"><defs /><text text-anchor=\"middle\" x=\"50%\" y=\"16px\">O</text></svg></svg><line stroke=\"black\" x1=\"50%\" x2=\"50%\" y1=\"19.2px\" y2=\"48px\" /></svg><line stroke=\"black\" x1=\"50%\" x2=\"21.831%\" y1=\"19.2px\" y2=\"48px\" /><svg width=\"2.11268%\" x=\"22.3592%\" y=\"48px\"><defs /><svg width=\"100%\" x=\"0\" y=\"0px\"><defs /><text text-anchor=\"middle\" x=\"50%\" y=\"16px\">idiopathic</text></svg><svg width=\"100%\" x=\"0%\" y=\"48px\"><defs /><svg width=\"100%\" x=\"0\" y=\"0px\"><defs /><text text-anchor=\"middle\" x=\"50%\" y=\"16px\">O</text></svg></svg><line stroke=\"black\" x1=\"50%\" x2=\"50%\" y1=\"19.2px\" y2=\"48px\" /></svg><line stroke=\"black\" x1=\"50%\" x2=\"23.4155%\" y1=\"19.2px\" y2=\"48px\" /><svg width=\"3.34507%\" x=\"24.4718%\" y=\"48px\"><defs /><svg width=\"100%\" x=\"0\" y=\"0px\"><defs /><text text-anchor=\"middle\" x=\"50%\" y=\"16px\">hypereosinophilic</text></svg><svg width=\"100%\" x=\"0%\" y=\"48px\"><defs /><svg width=\"100%\" x=\"0\" y=\"0px\"><defs /><text text-anchor=\"middle\" x=\"50%\" y=\"16px\">O</text></svg></svg><line stroke=\"black\" x1=\"50%\" x2=\"50%\" y1=\"19.2px\" y2=\"48px\" /></svg><line stroke=\"black\" x1=\"50%\" x2=\"26.1444%\" y1=\"19.2px\" y2=\"48px\" /><svg width=\"1.76056%\" x=\"27.8169%\" y=\"48px\"><defs /><svg width=\"100%\" x=\"0\" y=\"0px\"><defs /><text text-anchor=\"middle\" x=\"50%\" y=\"16px\">syndrome</text></svg><svg width=\"100%\" x=\"0%\" y=\"48px\"><defs /><svg width=\"100%\" x=\"0\" y=\"0px\"><defs /><text text-anchor=\"middle\" x=\"50%\" y=\"16px\">O</text></svg></svg><line stroke=\"black\" x1=\"50%\" x2=\"50%\" y1=\"19.2px\" y2=\"48px\" /></svg><line stroke=\"black\" x1=\"50%\" x2=\"28.6972%\" y1=\"19.2px\" y2=\"48px\" /><svg width=\"1.93662%\" x=\"29.5775%\" y=\"48px\"><defs /><svg width=\"100%\" x=\"0\" y=\"0px\"><defs /><text text-anchor=\"middle\" x=\"50%\" y=\"16px\">resistant</text></svg><svg width=\"100%\" x=\"0%\" y=\"48px\"><defs /><svg width=\"100%\" x=\"0\" y=\"0px\"><defs /><text text-anchor=\"middle\" x=\"50%\" y=\"16px\">O</text></svg></svg><line stroke=\"black\" x1=\"50%\" x2=\"50%\" y1=\"19.2px\" y2=\"48px\" /></svg><line stroke=\"black\" x1=\"50%\" x2=\"30.5458%\" y1=\"19.2px\" y2=\"48px\" /><svg width=\"0.704225%\" x=\"31.5141%\" y=\"48px\"><defs /><svg width=\"100%\" x=\"0\" y=\"0px\"><defs /><text text-anchor=\"middle\" x=\"50%\" y=\"16px\">or</text></svg><svg width=\"100%\" x=\"0%\" y=\"48px\"><defs /><svg width=\"100%\" x=\"0\" y=\"0px\"><defs /><text text-anchor=\"middle\" x=\"50%\" y=\"16px\">O</text></svg></svg><line stroke=\"black\" x1=\"50%\" x2=\"50%\" y1=\"19.2px\" y2=\"48px\" /></svg><line stroke=\"black\" x1=\"50%\" x2=\"31.8662%\" y1=\"19.2px\" y2=\"48px\" /><svg width=\"2.11268%\" x=\"32.2183%\" y=\"48px\"><defs /><svg width=\"100%\" x=\"0\" y=\"0px\"><defs /><text text-anchor=\"middle\" x=\"50%\" y=\"16px\">refractory</text></svg><svg width=\"100%\" x=\"0%\" y=\"48px\"><defs /><svg width=\"100%\" x=\"0\" y=\"0px\"><defs /><text text-anchor=\"middle\" x=\"50%\" y=\"16px\">O</text></svg></svg><line stroke=\"black\" x1=\"50%\" x2=\"50%\" y1=\"19.2px\" y2=\"48px\" /></svg><line stroke=\"black\" x1=\"50%\" x2=\"33.2746%\" y1=\"19.2px\" y2=\"48px\" /><svg width=\"0.704225%\" x=\"34.331%\" y=\"48px\"><defs /><svg width=\"100%\" x=\"0\" y=\"0px\"><defs /><text text-anchor=\"middle\" x=\"50%\" y=\"16px\">to</text></svg><svg width=\"100%\" x=\"0%\" y=\"48px\"><defs /><svg width=\"100%\" x=\"0\" y=\"0px\"><defs /><text text-anchor=\"middle\" x=\"50%\" y=\"16px\">O</text></svg></svg><line stroke=\"black\" x1=\"50%\" x2=\"50%\" y1=\"19.2px\" y2=\"48px\" /></svg><line stroke=\"black\" x1=\"50%\" x2=\"34.6831%\" y1=\"19.2px\" y2=\"48px\" /><svg width=\"0.528169%\" x=\"35.0352%\" y=\"48px\"><defs /><svg width=\"100%\" x=\"0\" y=\"0px\"><defs /><text text-anchor=\"middle\" x=\"50%\" y=\"16px\">,</text></svg><svg width=\"100%\" x=\"0%\" y=\"48px\"><defs /><svg width=\"100%\" x=\"0\" y=\"0px\"><defs /><text text-anchor=\"middle\" x=\"50%\" y=\"16px\">O</text></svg></svg><line stroke=\"black\" x1=\"50%\" x2=\"50%\" y1=\"19.2px\" y2=\"48px\" /></svg><line stroke=\"black\" x1=\"50%\" x2=\"35.2993%\" y1=\"19.2px\" y2=\"48px\" /><svg width=\"0.704225%\" x=\"35.5634%\" y=\"48px\"><defs /><svg width=\"100%\" x=\"0\" y=\"0px\"><defs /><text text-anchor=\"middle\" x=\"50%\" y=\"16px\">or</text></svg><svg width=\"100%\" x=\"0%\" y=\"48px\"><defs /><svg width=\"100%\" x=\"0\" y=\"0px\"><defs /><text text-anchor=\"middle\" x=\"50%\" y=\"16px\">O</text></svg></svg><line stroke=\"black\" x1=\"50%\" x2=\"50%\" y1=\"19.2px\" y2=\"48px\" /></svg><line stroke=\"black\" x1=\"50%\" x2=\"35.9155%\" y1=\"19.2px\" y2=\"48px\" /><svg width=\"2.11268%\" x=\"36.2676%\" y=\"48px\"><defs /><svg width=\"100%\" x=\"0\" y=\"0px\"><defs /><text text-anchor=\"middle\" x=\"50%\" y=\"16px\">intolerant</text></svg><svg width=\"100%\" x=\"0%\" y=\"48px\"><defs /><svg width=\"100%\" x=\"0\" y=\"0px\"><defs /><text text-anchor=\"middle\" x=\"50%\" y=\"16px\">O</text></svg></svg><line stroke=\"black\" x1=\"50%\" x2=\"50%\" y1=\"19.2px\" y2=\"48px\" /></svg><line stroke=\"black\" x1=\"50%\" x2=\"37.3239%\" y1=\"19.2px\" y2=\"48px\" /><svg width=\"0.704225%\" x=\"38.3803%\" y=\"48px\"><defs /><svg width=\"100%\" x=\"0\" y=\"0px\"><defs /><text text-anchor=\"middle\" x=\"50%\" y=\"16px\">of</text></svg><svg width=\"100%\" x=\"0%\" y=\"48px\"><defs /><svg width=\"100%\" x=\"0\" y=\"0px\"><defs /><text text-anchor=\"middle\" x=\"50%\" y=\"16px\">O</text></svg></svg><line stroke=\"black\" x1=\"50%\" x2=\"50%\" y1=\"19.2px\" y2=\"48px\" /></svg><line stroke=\"black\" x1=\"50%\" x2=\"38.7324%\" y1=\"19.2px\" y2=\"48px\" /><svg width=\"0.528169%\" x=\"39.0845%\" y=\"48px\"><defs /><svg width=\"100%\" x=\"0\" y=\"0px\"><defs /><text text-anchor=\"middle\" x=\"50%\" y=\"16px\">,</text></svg><svg width=\"100%\" x=\"0%\" y=\"48px\"><defs /><svg width=\"100%\" x=\"0\" y=\"0px\"><defs /><text text-anchor=\"middle\" x=\"50%\" y=\"16px\">O</text></svg></svg><line stroke=\"black\" x1=\"50%\" x2=\"50%\" y1=\"19.2px\" y2=\"48px\" /></svg><line stroke=\"black\" x1=\"50%\" x2=\"39.3486%\" y1=\"19.2px\" y2=\"48px\" /><svg width=\"2.11268%\" x=\"39.6127%\" y=\"48px\"><defs /><svg width=\"100%\" x=\"0\" y=\"0px\"><defs /><text text-anchor=\"middle\" x=\"50%\" y=\"16px\">NP</text></svg><svg width=\"100%\" x=\"0%\" y=\"48px\"><defs /><svg width=\"100%\" x=\"0\" y=\"0px\"><defs /><text text-anchor=\"middle\" x=\"50%\" y=\"16px\">prednisone</text></svg><svg width=\"100%\" x=\"0%\" y=\"48px\"><defs /><svg width=\"100%\" x=\"0\" y=\"0px\"><defs /><text text-anchor=\"middle\" x=\"50%\" y=\"16px\">C1E</text></svg></svg><line stroke=\"black\" x1=\"50%\" x2=\"50%\" y1=\"19.2px\" y2=\"48px\" /></svg><line stroke=\"black\" x1=\"50%\" x2=\"50%\" y1=\"19.2px\" y2=\"48px\" /></svg><line stroke=\"black\" x1=\"50%\" x2=\"40.669%\" y1=\"19.2px\" y2=\"48px\" /><svg width=\"0.528169%\" x=\"41.7254%\" y=\"48px\"><defs /><svg width=\"100%\" x=\"0\" y=\"0px\"><defs /><text text-anchor=\"middle\" x=\"50%\" y=\"16px\">,</text></svg><svg width=\"100%\" x=\"0%\" y=\"48px\"><defs /><svg width=\"100%\" x=\"0\" y=\"0px\"><defs /><text text-anchor=\"middle\" x=\"50%\" y=\"16px\">O</text></svg></svg><line stroke=\"black\" x1=\"50%\" x2=\"50%\" y1=\"19.2px\" y2=\"48px\" /></svg><line stroke=\"black\" x1=\"50%\" x2=\"41.9894%\" y1=\"19.2px\" y2=\"48px\" /><svg width=\"2.28873%\" x=\"42.2535%\" y=\"48px\"><defs /><svg width=\"100%\" x=\"0\" y=\"0px\"><defs /><text text-anchor=\"middle\" x=\"50%\" y=\"16px\">NP</text></svg><svg width=\"100%\" x=\"0%\" y=\"48px\"><defs /><svg width=\"100%\" x=\"0\" y=\"0px\"><defs /><text text-anchor=\"middle\" x=\"50%\" y=\"16px\">hydroxyurea</text></svg><svg width=\"100%\" x=\"0%\" y=\"48px\"><defs /><svg width=\"100%\" x=\"0\" y=\"0px\"><defs /><text text-anchor=\"middle\" x=\"50%\" y=\"16px\">C1E</text></svg></svg><line stroke=\"black\" x1=\"50%\" x2=\"50%\" y1=\"19.2px\" y2=\"48px\" /></svg><line stroke=\"black\" x1=\"50%\" x2=\"50%\" y1=\"19.2px\" y2=\"48px\" /></svg><line stroke=\"black\" x1=\"50%\" x2=\"43.3979%\" y1=\"19.2px\" y2=\"48px\" /><svg width=\"0.704225%\" x=\"44.5423%\" y=\"48px\"><defs /><svg width=\"100%\" x=\"0\" y=\"0px\"><defs /><text text-anchor=\"middle\" x=\"50%\" y=\"16px\">or</text></svg><svg width=\"100%\" x=\"0%\" y=\"48px\"><defs /><svg width=\"100%\" x=\"0\" y=\"0px\"><defs /><text text-anchor=\"middle\" x=\"50%\" y=\"16px\">O</text></svg></svg><line stroke=\"black\" x1=\"50%\" x2=\"50%\" y1=\"19.2px\" y2=\"48px\" /></svg><line stroke=\"black\" x1=\"50%\" x2=\"44.8944%\" y1=\"19.2px\" y2=\"48px\" /><svg width=\"3.16901%\" x=\"45.2465%\" y=\"48px\"><defs /><svg width=\"100%\" x=\"0\" y=\"0px\"><defs /><text text-anchor=\"middle\" x=\"50%\" y=\"16px\">interferon-alpha</text></svg><svg width=\"100%\" x=\"0%\" y=\"48px\"><defs /><svg width=\"100%\" x=\"0\" y=\"0px\"><defs /><text text-anchor=\"middle\" x=\"50%\" y=\"16px\">O</text></svg></svg><line stroke=\"black\" x1=\"50%\" x2=\"50%\" y1=\"19.2px\" y2=\"48px\" /></svg><line stroke=\"black\" x1=\"50%\" x2=\"46.831%\" y1=\"19.2px\" y2=\"48px\" /><svg width=\"0.528169%\" x=\"48.4155%\" y=\"48px\"><defs /><svg width=\"100%\" x=\"0\" y=\"0px\"><defs /><text text-anchor=\"middle\" x=\"50%\" y=\"16px\">,</text></svg><svg width=\"100%\" x=\"0%\" y=\"48px\"><defs /><svg width=\"100%\" x=\"0\" y=\"0px\"><defs /><text text-anchor=\"middle\" x=\"50%\" y=\"16px\">O</text></svg></svg><line stroke=\"black\" x1=\"50%\" x2=\"50%\" y1=\"19.2px\" y2=\"48px\" /></svg><line stroke=\"black\" x1=\"50%\" x2=\"48.6796%\" y1=\"19.2px\" y2=\"48px\" /><svg width=\"0.704225%\" x=\"48.9437%\" y=\"48px\"><defs /><svg width=\"100%\" x=\"0\" y=\"0px\"><defs /><text text-anchor=\"middle\" x=\"50%\" y=\"16px\">or</text></svg><svg width=\"100%\" x=\"0%\" y=\"48px\"><defs /><svg width=\"100%\" x=\"0\" y=\"0px\"><defs /><text text-anchor=\"middle\" x=\"50%\" y=\"16px\">O</text></svg></svg><line stroke=\"black\" x1=\"50%\" x2=\"50%\" y1=\"19.2px\" y2=\"48px\" /></svg><line stroke=\"black\" x1=\"50%\" x2=\"49.2958%\" y1=\"19.2px\" y2=\"48px\" /><svg width=\"1.93662%\" x=\"49.6479%\" y=\"48px\"><defs /><svg width=\"100%\" x=\"0\" y=\"0px\"><defs /><text text-anchor=\"middle\" x=\"50%\" y=\"16px\">untreated</text></svg><svg width=\"100%\" x=\"0%\" y=\"48px\"><defs /><svg width=\"100%\" x=\"0\" y=\"0px\"><defs /><text text-anchor=\"middle\" x=\"50%\" y=\"16px\">O</text></svg></svg><line stroke=\"black\" x1=\"50%\" x2=\"50%\" y1=\"19.2px\" y2=\"48px\" /></svg><line stroke=\"black\" x1=\"50%\" x2=\"50.6162%\" y1=\"19.2px\" y2=\"48px\" /><svg width=\"1.76056%\" x=\"51.5845%\" y=\"48px\"><defs /><svg width=\"100%\" x=\"0\" y=\"0px\"><defs /><text text-anchor=\"middle\" x=\"50%\" y=\"16px\">patients</text></svg><svg width=\"100%\" x=\"0%\" y=\"48px\"><defs /><svg width=\"100%\" x=\"0\" y=\"0px\"><defs /><text text-anchor=\"middle\" x=\"50%\" y=\"16px\">O</text></svg></svg><line stroke=\"black\" x1=\"50%\" x2=\"50%\" y1=\"19.2px\" y2=\"48px\" /></svg><line stroke=\"black\" x1=\"50%\" x2=\"52.4648%\" y1=\"19.2px\" y2=\"48px\" /><svg width=\"1.76056%\" x=\"53.3451%\" y=\"48px\"><defs /><svg width=\"100%\" x=\"0\" y=\"0px\"><defs /><text text-anchor=\"middle\" x=\"50%\" y=\"16px\">carrying</text></svg><svg width=\"100%\" x=\"0%\" y=\"48px\"><defs /><svg width=\"100%\" x=\"0\" y=\"0px\"><defs /><text text-anchor=\"middle\" x=\"50%\" y=\"16px\">O</text></svg></svg><line stroke=\"black\" x1=\"50%\" x2=\"50%\" y1=\"19.2px\" y2=\"48px\" /></svg><line stroke=\"black\" x1=\"50%\" x2=\"54.2254%\" y1=\"19.2px\" y2=\"48px\" /><svg width=\"0.880282%\" x=\"55.1056%\" y=\"48px\"><defs /><svg width=\"100%\" x=\"0\" y=\"0px\"><defs /><text text-anchor=\"middle\" x=\"50%\" y=\"16px\">the</text></svg><svg width=\"100%\" x=\"0%\" y=\"48px\"><defs /><svg width=\"100%\" x=\"0\" y=\"0px\"><defs /><text text-anchor=\"middle\" x=\"50%\" y=\"16px\">O</text></svg></svg><line stroke=\"black\" x1=\"50%\" x2=\"50%\" y1=\"19.2px\" y2=\"48px\" /></svg><line stroke=\"black\" x1=\"50%\" x2=\"55.5458%\" y1=\"19.2px\" y2=\"48px\" /><svg width=\"2.64085%\" x=\"55.9859%\" y=\"48px\"><defs /><svg width=\"100%\" x=\"0\" y=\"0px\"><defs /><text text-anchor=\"middle\" x=\"50%\" y=\"16px\">fip1l1-pdgfra</text></svg><svg width=\"100%\" x=\"0%\" y=\"48px\"><defs /><svg width=\"100%\" x=\"0\" y=\"0px\"><defs /><text text-anchor=\"middle\" x=\"50%\" y=\"16px\">O</text></svg></svg><line stroke=\"black\" x1=\"50%\" x2=\"50%\" y1=\"19.2px\" y2=\"48px\" /></svg><line stroke=\"black\" x1=\"50%\" x2=\"57.3063%\" y1=\"19.2px\" y2=\"48px\" /><svg width=\"1.40845%\" x=\"58.6268%\" y=\"48px\"><defs /><svg width=\"100%\" x=\"0\" y=\"0px\"><defs /><text text-anchor=\"middle\" x=\"50%\" y=\"16px\">fusion</text></svg><svg width=\"100%\" x=\"0%\" y=\"48px\"><defs /><svg width=\"100%\" x=\"0\" y=\"0px\"><defs /><text text-anchor=\"middle\" x=\"50%\" y=\"16px\">O</text></svg></svg><line stroke=\"black\" x1=\"50%\" x2=\"50%\" y1=\"19.2px\" y2=\"48px\" /></svg><line stroke=\"black\" x1=\"50%\" x2=\"59.331%\" y1=\"19.2px\" y2=\"48px\" /><svg width=\"1.58451%\" x=\"60.0352%\" y=\"48px\"><defs /><svg width=\"100%\" x=\"0\" y=\"0px\"><defs /><text text-anchor=\"middle\" x=\"50%\" y=\"16px\">protein</text></svg><svg width=\"100%\" x=\"0%\" y=\"48px\"><defs /><svg width=\"100%\" x=\"0\" y=\"0px\"><defs /><text text-anchor=\"middle\" x=\"50%\" y=\"16px\">O</text></svg></svg><line stroke=\"black\" x1=\"50%\" x2=\"50%\" y1=\"19.2px\" y2=\"48px\" /></svg><line stroke=\"black\" x1=\"50%\" x2=\"60.8275%\" y1=\"19.2px\" y2=\"48px\" /><svg width=\"0.528169%\" x=\"61.6197%\" y=\"48px\"><defs /><svg width=\"100%\" x=\"0\" y=\"0px\"><defs /><text text-anchor=\"middle\" x=\"50%\" y=\"16px\">.</text></svg><svg width=\"100%\" x=\"0%\" y=\"48px\"><defs /><svg width=\"100%\" x=\"0\" y=\"0px\"><defs /><text text-anchor=\"middle\" x=\"50%\" y=\"16px\">O</text></svg></svg><line stroke=\"black\" x1=\"50%\" x2=\"50%\" y1=\"19.2px\" y2=\"48px\" /></svg><line stroke=\"black\" x1=\"50%\" x2=\"61.8838%\" y1=\"19.2px\" y2=\"48px\" /><svg width=\"0.704225%\" x=\"62.1479%\" y=\"48px\"><defs /><svg width=\"100%\" x=\"0\" y=\"0px\"><defs /><text text-anchor=\"middle\" x=\"50%\" y=\"16px\">2.</text></svg><svg width=\"100%\" x=\"0%\" y=\"48px\"><defs /><svg width=\"100%\" x=\"0\" y=\"0px\"><defs /><text text-anchor=\"middle\" x=\"50%\" y=\"16px\">O</text></svg></svg><line stroke=\"black\" x1=\"50%\" x2=\"50%\" y1=\"19.2px\" y2=\"48px\" /></svg><line stroke=\"black\" x1=\"50%\" x2=\"62.5%\" y1=\"19.2px\" y2=\"48px\" /><svg width=\"2.11268%\" x=\"62.8521%\" y=\"48px\"><defs /><svg width=\"100%\" x=\"0\" y=\"0px\"><defs /><text text-anchor=\"middle\" x=\"50%\" y=\"16px\">evaluation</text></svg><svg width=\"100%\" x=\"0%\" y=\"48px\"><defs /><svg width=\"100%\" x=\"0\" y=\"0px\"><defs /><text text-anchor=\"middle\" x=\"50%\" y=\"16px\">O</text></svg></svg><line stroke=\"black\" x1=\"50%\" x2=\"50%\" y1=\"19.2px\" y2=\"48px\" /></svg><line stroke=\"black\" x1=\"50%\" x2=\"63.9085%\" y1=\"19.2px\" y2=\"48px\" /><svg width=\"0.704225%\" x=\"64.9648%\" y=\"48px\"><defs /><svg width=\"100%\" x=\"0\" y=\"0px\"><defs /><text text-anchor=\"middle\" x=\"50%\" y=\"16px\">of</text></svg><svg width=\"100%\" x=\"0%\" y=\"48px\"><defs /><svg width=\"100%\" x=\"0\" y=\"0px\"><defs /><text text-anchor=\"middle\" x=\"50%\" y=\"16px\">O</text></svg></svg><line stroke=\"black\" x1=\"50%\" x2=\"50%\" y1=\"19.2px\" y2=\"48px\" /></svg><line stroke=\"black\" x1=\"50%\" x2=\"65.3169%\" y1=\"19.2px\" y2=\"48px\" /><svg width=\"0.880282%\" x=\"65.669%\" y=\"48px\"><defs /><svg width=\"100%\" x=\"0\" y=\"0px\"><defs /><text text-anchor=\"middle\" x=\"50%\" y=\"16px\">the</text></svg><svg width=\"100%\" x=\"0%\" y=\"48px\"><defs /><svg width=\"100%\" x=\"0\" y=\"0px\"><defs /><text text-anchor=\"middle\" x=\"50%\" y=\"16px\">O</text></svg></svg><line stroke=\"black\" x1=\"50%\" x2=\"50%\" y1=\"19.2px\" y2=\"48px\" /></svg><line stroke=\"black\" x1=\"50%\" x2=\"66.1092%\" y1=\"19.2px\" y2=\"48px\" /><svg width=\"1.76056%\" x=\"66.5493%\" y=\"48px\"><defs /><svg width=\"100%\" x=\"0\" y=\"0px\"><defs /><text text-anchor=\"middle\" x=\"50%\" y=\"16px\">efficacy</text></svg><svg width=\"100%\" x=\"0%\" y=\"48px\"><defs /><svg width=\"100%\" x=\"0\" y=\"0px\"><defs /><text text-anchor=\"middle\" x=\"50%\" y=\"16px\">O</text></svg></svg><line stroke=\"black\" x1=\"50%\" x2=\"50%\" y1=\"19.2px\" y2=\"48px\" /></svg><line stroke=\"black\" x1=\"50%\" x2=\"67.4296%\" y1=\"19.2px\" y2=\"48px\" /><svg width=\"0.704225%\" x=\"68.3099%\" y=\"48px\"><defs /><svg width=\"100%\" x=\"0\" y=\"0px\"><defs /><text text-anchor=\"middle\" x=\"50%\" y=\"16px\">of</text></svg><svg width=\"100%\" x=\"0%\" y=\"48px\"><defs /><svg width=\"100%\" x=\"0\" y=\"0px\"><defs /><text text-anchor=\"middle\" x=\"50%\" y=\"16px\">O</text></svg></svg><line stroke=\"black\" x1=\"50%\" x2=\"50%\" y1=\"19.2px\" y2=\"48px\" /></svg><line stroke=\"black\" x1=\"50%\" x2=\"68.662%\" y1=\"19.2px\" y2=\"48px\" /><svg width=\"3.52113%\" x=\"69.0141%\" y=\"48px\"><defs /><svg width=\"100%\" x=\"0\" y=\"0px\"><defs /><text text-anchor=\"middle\" x=\"50%\" y=\"16px\">NP</text></svg><svg width=\"50%\" x=\"0%\" y=\"48px\"><defs /><svg width=\"100%\" x=\"0\" y=\"0px\"><defs /><text text-anchor=\"middle\" x=\"50%\" y=\"16px\">imatinib</text></svg><svg width=\"100%\" x=\"0%\" y=\"48px\"><defs /><svg width=\"100%\" x=\"0\" y=\"0px\"><defs /><text text-anchor=\"middle\" x=\"50%\" y=\"16px\">C1E</text></svg></svg><line stroke=\"black\" x1=\"50%\" x2=\"50%\" y1=\"19.2px\" y2=\"48px\" /></svg><line stroke=\"black\" x1=\"50%\" x2=\"25%\" y1=\"19.2px\" y2=\"48px\" /><svg width=\"50%\" x=\"50%\" y=\"48px\"><defs /><svg width=\"100%\" x=\"0\" y=\"0px\"><defs /><text text-anchor=\"middle\" x=\"50%\" y=\"16px\">mesylate</text></svg><svg width=\"100%\" x=\"0%\" y=\"48px\"><defs /><svg width=\"100%\" x=\"0\" y=\"0px\"><defs /><text text-anchor=\"middle\" x=\"50%\" y=\"16px\">C2E</text></svg></svg><line stroke=\"black\" x1=\"50%\" x2=\"50%\" y1=\"19.2px\" y2=\"48px\" /></svg><line stroke=\"black\" x1=\"50%\" x2=\"75%\" y1=\"19.2px\" y2=\"48px\" /></svg><line stroke=\"black\" x1=\"50%\" x2=\"70.7746%\" y1=\"19.2px\" y2=\"48px\" /><svg width=\"0.704225%\" x=\"72.5352%\" y=\"48px\"><defs /><svg width=\"100%\" x=\"0\" y=\"0px\"><defs /><text text-anchor=\"middle\" x=\"50%\" y=\"16px\">in</text></svg><svg width=\"100%\" x=\"0%\" y=\"48px\"><defs /><svg width=\"100%\" x=\"0\" y=\"0px\"><defs /><text text-anchor=\"middle\" x=\"50%\" y=\"16px\">O</text></svg></svg><line stroke=\"black\" x1=\"50%\" x2=\"50%\" y1=\"19.2px\" y2=\"48px\" /></svg><line stroke=\"black\" x1=\"50%\" x2=\"72.8873%\" y1=\"19.2px\" y2=\"48px\" /><svg width=\"1.76056%\" x=\"73.2394%\" y=\"48px\"><defs /><svg width=\"100%\" x=\"0\" y=\"0px\"><defs /><text text-anchor=\"middle\" x=\"50%\" y=\"16px\">patients</text></svg><svg width=\"100%\" x=\"0%\" y=\"48px\"><defs /><svg width=\"100%\" x=\"0\" y=\"0px\"><defs /><text text-anchor=\"middle\" x=\"50%\" y=\"16px\">O</text></svg></svg><line stroke=\"black\" x1=\"50%\" x2=\"50%\" y1=\"19.2px\" y2=\"48px\" /></svg><line stroke=\"black\" x1=\"50%\" x2=\"74.1197%\" y1=\"19.2px\" y2=\"48px\" /><svg width=\"1.05634%\" x=\"75%\" y=\"48px\"><defs /><svg width=\"100%\" x=\"0\" y=\"0px\"><defs /><text text-anchor=\"middle\" x=\"50%\" y=\"16px\">with</text></svg><svg width=\"100%\" x=\"0%\" y=\"48px\"><defs /><svg width=\"100%\" x=\"0\" y=\"0px\"><defs /><text text-anchor=\"middle\" x=\"50%\" y=\"16px\">O</text></svg></svg><line stroke=\"black\" x1=\"50%\" x2=\"50%\" y1=\"19.2px\" y2=\"48px\" /></svg><line stroke=\"black\" x1=\"50%\" x2=\"75.5282%\" y1=\"19.2px\" y2=\"48px\" /><svg width=\"2.11268%\" x=\"76.0563%\" y=\"48px\"><defs /><svg width=\"100%\" x=\"0\" y=\"0px\"><defs /><text text-anchor=\"middle\" x=\"50%\" y=\"16px\">idiopathic</text></svg><svg width=\"100%\" x=\"0%\" y=\"48px\"><defs /><svg width=\"100%\" x=\"0\" y=\"0px\"><defs /><text text-anchor=\"middle\" x=\"50%\" y=\"16px\">O</text></svg></svg><line stroke=\"black\" x1=\"50%\" x2=\"50%\" y1=\"19.2px\" y2=\"48px\" /></svg><line stroke=\"black\" x1=\"50%\" x2=\"77.1127%\" y1=\"19.2px\" y2=\"48px\" /><svg width=\"3.34507%\" x=\"78.169%\" y=\"48px\"><defs /><svg width=\"100%\" x=\"0\" y=\"0px\"><defs /><text text-anchor=\"middle\" x=\"50%\" y=\"16px\">hypereosinophilic</text></svg><svg width=\"100%\" x=\"0%\" y=\"48px\"><defs /><svg width=\"100%\" x=\"0\" y=\"0px\"><defs /><text text-anchor=\"middle\" x=\"50%\" y=\"16px\">O</text></svg></svg><line stroke=\"black\" x1=\"50%\" x2=\"50%\" y1=\"19.2px\" y2=\"48px\" /></svg><line stroke=\"black\" x1=\"50%\" x2=\"79.8415%\" y1=\"19.2px\" y2=\"48px\" /><svg width=\"1.76056%\" x=\"81.5141%\" y=\"48px\"><defs /><svg width=\"100%\" x=\"0\" y=\"0px\"><defs /><text text-anchor=\"middle\" x=\"50%\" y=\"16px\">syndrome</text></svg><svg width=\"100%\" x=\"0%\" y=\"48px\"><defs /><svg width=\"100%\" x=\"0\" y=\"0px\"><defs /><text text-anchor=\"middle\" x=\"50%\" y=\"16px\">O</text></svg></svg><line stroke=\"black\" x1=\"50%\" x2=\"50%\" y1=\"19.2px\" y2=\"48px\" /></svg><line stroke=\"black\" x1=\"50%\" x2=\"82.3944%\" y1=\"19.2px\" y2=\"48px\" /><svg width=\"0.704225%\" x=\"83.2746%\" y=\"48px\"><defs /><svg width=\"100%\" x=\"0\" y=\"0px\"><defs /><text text-anchor=\"middle\" x=\"50%\" y=\"16px\">3.</text></svg><svg width=\"100%\" x=\"0%\" y=\"48px\"><defs /><svg width=\"100%\" x=\"0\" y=\"0px\"><defs /><text text-anchor=\"middle\" x=\"50%\" y=\"16px\">O</text></svg></svg><line stroke=\"black\" x1=\"50%\" x2=\"50%\" y1=\"19.2px\" y2=\"48px\" /></svg><line stroke=\"black\" x1=\"50%\" x2=\"83.6268%\" y1=\"19.2px\" y2=\"48px\" /><svg width=\"1.76056%\" x=\"83.9789%\" y=\"48px\"><defs /><svg width=\"100%\" x=\"0\" y=\"0px\"><defs /><text text-anchor=\"middle\" x=\"50%\" y=\"16px\">analysis</text></svg><svg width=\"100%\" x=\"0%\" y=\"48px\"><defs /><svg width=\"100%\" x=\"0\" y=\"0px\"><defs /><text text-anchor=\"middle\" x=\"50%\" y=\"16px\">O</text></svg></svg><line stroke=\"black\" x1=\"50%\" x2=\"50%\" y1=\"19.2px\" y2=\"48px\" /></svg><line stroke=\"black\" x1=\"50%\" x2=\"84.8592%\" y1=\"19.2px\" y2=\"48px\" /><svg width=\"0.704225%\" x=\"85.7394%\" y=\"48px\"><defs /><svg width=\"100%\" x=\"0\" y=\"0px\"><defs /><text text-anchor=\"middle\" x=\"50%\" y=\"16px\">of</text></svg><svg width=\"100%\" x=\"0%\" y=\"48px\"><defs /><svg width=\"100%\" x=\"0\" y=\"0px\"><defs /><text text-anchor=\"middle\" x=\"50%\" y=\"16px\">O</text></svg></svg><line stroke=\"black\" x1=\"50%\" x2=\"50%\" y1=\"19.2px\" y2=\"48px\" /></svg><line stroke=\"black\" x1=\"50%\" x2=\"86.0915%\" y1=\"19.2px\" y2=\"48px\" /><svg width=\"1.58451%\" x=\"86.4437%\" y=\"48px\"><defs /><svg width=\"100%\" x=\"0\" y=\"0px\"><defs /><text text-anchor=\"middle\" x=\"50%\" y=\"16px\">patient</text></svg><svg width=\"100%\" x=\"0%\" y=\"48px\"><defs /><svg width=\"100%\" x=\"0\" y=\"0px\"><defs /><text text-anchor=\"middle\" x=\"50%\" y=\"16px\">O</text></svg></svg><line stroke=\"black\" x1=\"50%\" x2=\"50%\" y1=\"19.2px\" y2=\"48px\" /></svg><line stroke=\"black\" x1=\"50%\" x2=\"87.2359%\" y1=\"19.2px\" y2=\"48px\" /><svg width=\"0.704225%\" x=\"88.0282%\" y=\"48px\"><defs /><svg width=\"100%\" x=\"0\" y=\"0px\"><defs /><text text-anchor=\"middle\" x=\"50%\" y=\"16px\">'s</text></svg><svg width=\"100%\" x=\"0%\" y=\"48px\"><defs /><svg width=\"100%\" x=\"0\" y=\"0px\"><defs /><text text-anchor=\"middle\" x=\"50%\" y=\"16px\">O</text></svg></svg><line stroke=\"black\" x1=\"50%\" x2=\"50%\" y1=\"19.2px\" y2=\"48px\" /></svg><line stroke=\"black\" x1=\"50%\" x2=\"88.3803%\" y1=\"19.2px\" y2=\"48px\" /><svg width=\"1.23239%\" x=\"88.7324%\" y=\"48px\"><defs /><svg width=\"100%\" x=\"0\" y=\"0px\"><defs /><text text-anchor=\"middle\" x=\"50%\" y=\"16px\">blood</text></svg><svg width=\"100%\" x=\"0%\" y=\"48px\"><defs /><svg width=\"100%\" x=\"0\" y=\"0px\"><defs /><text text-anchor=\"middle\" x=\"50%\" y=\"16px\">O</text></svg></svg><line stroke=\"black\" x1=\"50%\" x2=\"50%\" y1=\"19.2px\" y2=\"48px\" /></svg><line stroke=\"black\" x1=\"50%\" x2=\"89.3486%\" y1=\"19.2px\" y2=\"48px\" /><svg width=\"1.58451%\" x=\"89.9648%\" y=\"48px\"><defs /><svg width=\"100%\" x=\"0\" y=\"0px\"><defs /><text text-anchor=\"middle\" x=\"50%\" y=\"16px\">samples</text></svg><svg width=\"100%\" x=\"0%\" y=\"48px\"><defs /><svg width=\"100%\" x=\"0\" y=\"0px\"><defs /><text text-anchor=\"middle\" x=\"50%\" y=\"16px\">O</text></svg></svg><line stroke=\"black\" x1=\"50%\" x2=\"50%\" y1=\"19.2px\" y2=\"48px\" /></svg><line stroke=\"black\" x1=\"50%\" x2=\"90.757%\" y1=\"19.2px\" y2=\"48px\" /><svg width=\"0.880282%\" x=\"91.5493%\" y=\"48px\"><defs /><svg width=\"100%\" x=\"0\" y=\"0px\"><defs /><text text-anchor=\"middle\" x=\"50%\" y=\"16px\">for</text></svg><svg width=\"100%\" x=\"0%\" y=\"48px\"><defs /><svg width=\"100%\" x=\"0\" y=\"0px\"><defs /><text text-anchor=\"middle\" x=\"50%\" y=\"16px\">O</text></svg></svg><line stroke=\"black\" x1=\"50%\" x2=\"50%\" y1=\"19.2px\" y2=\"48px\" /></svg><line stroke=\"black\" x1=\"50%\" x2=\"91.9894%\" y1=\"19.2px\" y2=\"48px\" /><svg width=\"0.880282%\" x=\"92.4296%\" y=\"48px\"><defs /><svg width=\"100%\" x=\"0\" y=\"0px\"><defs /><text text-anchor=\"middle\" x=\"50%\" y=\"16px\">the</text></svg><svg width=\"100%\" x=\"0%\" y=\"48px\"><defs /><svg width=\"100%\" x=\"0\" y=\"0px\"><defs /><text text-anchor=\"middle\" x=\"50%\" y=\"16px\">O</text></svg></svg><line stroke=\"black\" x1=\"50%\" x2=\"50%\" y1=\"19.2px\" y2=\"48px\" /></svg><line stroke=\"black\" x1=\"50%\" x2=\"92.8697%\" y1=\"19.2px\" y2=\"48px\" /><svg width=\"1.93662%\" x=\"93.3099%\" y=\"48px\"><defs /><svg width=\"100%\" x=\"0\" y=\"0px\"><defs /><text text-anchor=\"middle\" x=\"50%\" y=\"16px\">detection</text></svg><svg width=\"100%\" x=\"0%\" y=\"48px\"><defs /><svg width=\"100%\" x=\"0\" y=\"0px\"><defs /><text text-anchor=\"middle\" x=\"50%\" y=\"16px\">O</text></svg></svg><line stroke=\"black\" x1=\"50%\" x2=\"50%\" y1=\"19.2px\" y2=\"48px\" /></svg><line stroke=\"black\" x1=\"50%\" x2=\"94.2782%\" y1=\"19.2px\" y2=\"48px\" /><svg width=\"0.704225%\" x=\"95.2465%\" y=\"48px\"><defs /><svg width=\"100%\" x=\"0\" y=\"0px\"><defs /><text text-anchor=\"middle\" x=\"50%\" y=\"16px\">of</text></svg><svg width=\"100%\" x=\"0%\" y=\"48px\"><defs /><svg width=\"100%\" x=\"0\" y=\"0px\"><defs /><text text-anchor=\"middle\" x=\"50%\" y=\"16px\">O</text></svg></svg><line stroke=\"black\" x1=\"50%\" x2=\"50%\" y1=\"19.2px\" y2=\"48px\" /></svg><line stroke=\"black\" x1=\"50%\" x2=\"95.5986%\" y1=\"19.2px\" y2=\"48px\" /><svg width=\"1.93662%\" x=\"95.9507%\" y=\"48px\"><defs /><svg width=\"100%\" x=\"0\" y=\"0px\"><defs /><text text-anchor=\"middle\" x=\"50%\" y=\"16px\">activated</text></svg><svg width=\"100%\" x=\"0%\" y=\"48px\"><defs /><svg width=\"100%\" x=\"0\" y=\"0px\"><defs /><text text-anchor=\"middle\" x=\"50%\" y=\"16px\">O</text></svg></svg><line stroke=\"black\" x1=\"50%\" x2=\"50%\" y1=\"19.2px\" y2=\"48px\" /></svg><line stroke=\"black\" x1=\"50%\" x2=\"96.919%\" y1=\"19.2px\" y2=\"48px\" /><svg width=\"1.58451%\" x=\"97.8873%\" y=\"48px\"><defs /><svg width=\"100%\" x=\"0\" y=\"0px\"><defs /><text text-anchor=\"middle\" x=\"50%\" y=\"16px\">kinases</text></svg><svg width=\"100%\" x=\"0%\" y=\"48px\"><defs /><svg width=\"100%\" x=\"0\" y=\"0px\"><defs /><text text-anchor=\"middle\" x=\"50%\" y=\"16px\">O</text></svg></svg><line stroke=\"black\" x1=\"50%\" x2=\"50%\" y1=\"19.2px\" y2=\"48px\" /></svg><line stroke=\"black\" x1=\"50%\" x2=\"98.6796%\" y1=\"19.2px\" y2=\"48px\" /><svg width=\"0.528169%\" x=\"99.4718%\" y=\"48px\"><defs /><svg width=\"100%\" x=\"0\" y=\"0px\"><defs /><text text-anchor=\"middle\" x=\"50%\" y=\"16px\">.</text></svg><svg width=\"100%\" x=\"0%\" y=\"48px\"><defs /><svg width=\"100%\" x=\"0\" y=\"0px\"><defs /><text text-anchor=\"middle\" x=\"50%\" y=\"16px\">O</text></svg></svg><line stroke=\"black\" x1=\"50%\" x2=\"50%\" y1=\"19.2px\" y2=\"48px\" /></svg><line stroke=\"black\" x1=\"50%\" x2=\"99.7359%\" y1=\"19.2px\" y2=\"48px\" /></svg>"
     },
     "execution_count": 39,
     "metadata": {},
     "output_type": "execute_result"
    }
   ],
   "source": [
    "test_trees[26]"
   ]
  },
  {
   "cell_type": "markdown",
   "id": "dfe7cf8c010d00fa",
   "metadata": {
    "collapsed": false
   },
   "source": [
    "## Extract terms and map to preferred names"
   ]
  },
  {
   "cell_type": "code",
   "execution_count": 40,
   "id": "e097692bc3aae9f5",
   "metadata": {
    "collapsed": false,
    "ExecuteTime": {
     "end_time": "2024-03-18T18:19:35.787810Z",
     "start_time": "2024-03-18T18:19:35.784436Z"
    }
   },
   "outputs": [],
   "source": [
    "def extract_preferred_names_from_tree(tree, group_tag: str = 'NP') -> list[str]:\n",
    "    terms = extract_grouped_terms(tree=tree, group_tag=group_tag)\n",
    "    term_prefered_names = []\n",
    "    for term_raw in terms:\n",
    "        term = term_raw.lower()\n",
    "        # print(term, term_raw)\n",
    "        if term not in preferred_name_by_term:\n",
    "            continue\n",
    "        term_prefered_names.append(preferred_name_by_term[term])\n",
    "    return list(set(term_prefered_names))    \n",
    "    "
   ]
  },
  {
   "cell_type": "code",
   "execution_count": 41,
   "id": "b21752551476e335",
   "metadata": {
    "collapsed": false,
    "ExecuteTime": {
     "end_time": "2024-03-18T18:19:35.793907Z",
     "start_time": "2024-03-18T18:19:35.788754Z"
    }
   },
   "outputs": [],
   "source": [
    "extracted_terms = []\n",
    "for tree in test_trees:\n",
    "    extracted_terms.append(extract_preferred_names_from_tree(tree))\n",
    "test_df = pd.DataFrame({\n",
    "    'nct_id': summaries['nct_id'],\n",
    "    'extracted_terms': extracted_terms\n",
    "})"
   ]
  },
  {
   "cell_type": "markdown",
   "id": "1655577b-9be3-48cb-b477-201c69d627e5",
   "metadata": {
    "collapsed": false
   },
   "source": [
    "## Evaluate"
   ]
  },
  {
   "cell_type": "code",
   "execution_count": 42,
   "id": "62913a3cd2cf6dcf",
   "metadata": {
    "collapsed": false,
    "ExecuteTime": {
     "end_time": "2024-03-18T18:19:35.799474Z",
     "start_time": "2024-03-18T18:19:35.794828Z"
    }
   },
   "outputs": [],
   "source": [
    "test_df['gt_cleaned'] = test_df.nct_id.map(lambda x: ground_truth_cleaned[x])"
   ]
  },
  {
   "cell_type": "code",
   "execution_count": 43,
   "id": "13ffe966d12c829d",
   "metadata": {
    "collapsed": false,
    "ExecuteTime": {
     "end_time": "2024-03-18T18:19:35.805342Z",
     "start_time": "2024-03-18T18:19:35.800188Z"
    }
   },
   "outputs": [],
   "source": [
    "test_df['match_count'] = test_df.apply(lambda row: len(set(row['extracted_terms']).intersection(set(row['gt_cleaned']))), axis=1)"
   ]
  },
  {
   "cell_type": "code",
   "execution_count": 44,
   "id": "a1262b023a941072",
   "metadata": {
    "collapsed": false,
    "ExecuteTime": {
     "end_time": "2024-03-18T18:19:35.814630Z",
     "start_time": "2024-03-18T18:19:35.806054Z"
    }
   },
   "outputs": [
    {
     "data": {
      "text/plain": "        nct_id             extracted_terms                  gt_cleaned  \\\n0  NCT00037648                  [anakinra]                  [anakinra]   \n1  NCT00048542  [adalimumab, methotrexate]  [adalimumab, methotrexate]   \n2  NCT00071487                 [belimumab]                 [belimumab]   \n3  NCT00071812                 [belimumab]                 [belimumab]   \n4  NCT00072839               [teduglutide]               [teduglutide]   \n\n   match_count  \n0            1  \n1            2  \n2            1  \n3            1  \n4            1  ",
      "text/html": "<div>\n<style scoped>\n    .dataframe tbody tr th:only-of-type {\n        vertical-align: middle;\n    }\n\n    .dataframe tbody tr th {\n        vertical-align: top;\n    }\n\n    .dataframe thead th {\n        text-align: right;\n    }\n</style>\n<table border=\"1\" class=\"dataframe\">\n  <thead>\n    <tr style=\"text-align: right;\">\n      <th></th>\n      <th>nct_id</th>\n      <th>extracted_terms</th>\n      <th>gt_cleaned</th>\n      <th>match_count</th>\n    </tr>\n  </thead>\n  <tbody>\n    <tr>\n      <th>0</th>\n      <td>NCT00037648</td>\n      <td>[anakinra]</td>\n      <td>[anakinra]</td>\n      <td>1</td>\n    </tr>\n    <tr>\n      <th>1</th>\n      <td>NCT00048542</td>\n      <td>[adalimumab, methotrexate]</td>\n      <td>[adalimumab, methotrexate]</td>\n      <td>2</td>\n    </tr>\n    <tr>\n      <th>2</th>\n      <td>NCT00071487</td>\n      <td>[belimumab]</td>\n      <td>[belimumab]</td>\n      <td>1</td>\n    </tr>\n    <tr>\n      <th>3</th>\n      <td>NCT00071812</td>\n      <td>[belimumab]</td>\n      <td>[belimumab]</td>\n      <td>1</td>\n    </tr>\n    <tr>\n      <th>4</th>\n      <td>NCT00072839</td>\n      <td>[teduglutide]</td>\n      <td>[teduglutide]</td>\n      <td>1</td>\n    </tr>\n  </tbody>\n</table>\n</div>"
     },
     "execution_count": 44,
     "metadata": {},
     "output_type": "execute_result"
    }
   ],
   "source": [
    "test_df.head()"
   ]
  },
  {
   "cell_type": "code",
   "execution_count": 45,
   "id": "33df1e0fc0697d4e",
   "metadata": {
    "collapsed": false,
    "ExecuteTime": {
     "end_time": "2024-03-18T18:19:35.820235Z",
     "start_time": "2024-03-18T18:19:35.815356Z"
    }
   },
   "outputs": [],
   "source": [
    "test_df['extracted_terms_count'] = test_df['extracted_terms'].map(len)\n",
    "test_df['gt_cleaned_count'] = test_df['gt_cleaned'].map(len)"
   ]
  },
  {
   "cell_type": "code",
   "execution_count": 45,
   "id": "7c0cd7aff7cca6da",
   "metadata": {
    "collapsed": false,
    "ExecuteTime": {
     "end_time": "2024-03-18T18:19:35.822426Z",
     "start_time": "2024-03-18T18:19:35.821007Z"
    }
   },
   "outputs": [],
   "source": []
  },
  {
   "cell_type": "code",
   "execution_count": 46,
   "id": "987cb62dd4c09c38",
   "metadata": {
    "collapsed": false,
    "ExecuteTime": {
     "end_time": "2024-03-18T18:19:35.828239Z",
     "start_time": "2024-03-18T18:19:35.823282Z"
    }
   },
   "outputs": [
    {
     "name": "stdout",
     "output_type": "stream",
     "text": [
      "Precision:  100.00%\n",
      "Recall:  98.25%\n"
     ]
    }
   ],
   "source": [
    "true_positive_count = test_df['match_count'].sum()\n",
    "precision = true_positive_count / test_df['extracted_terms_count'].sum()\n",
    "recall = true_positive_count / test_df['gt_cleaned_count'].sum()\n",
    "print(f'Precision: {precision: .2%}')\n",
    "print(f'Recall: {recall: .2%}')\n"
   ]
  },
  {
   "cell_type": "code",
   "execution_count": 47,
   "id": "aa23dad0f6848c",
   "metadata": {
    "collapsed": false,
    "ExecuteTime": {
     "end_time": "2024-03-18T18:19:35.838193Z",
     "start_time": "2024-03-18T18:19:35.828889Z"
    }
   },
   "outputs": [
    {
     "data": {
      "text/plain": "         nct_id extracted_terms     gt_cleaned  match_count  \\\n45  NCT00265122              []  [ustekinumab]            0   \n\n    extracted_terms_count  gt_cleaned_count  \n45                      0                 1  ",
      "text/html": "<div>\n<style scoped>\n    .dataframe tbody tr th:only-of-type {\n        vertical-align: middle;\n    }\n\n    .dataframe tbody tr th {\n        vertical-align: top;\n    }\n\n    .dataframe thead th {\n        text-align: right;\n    }\n</style>\n<table border=\"1\" class=\"dataframe\">\n  <thead>\n    <tr style=\"text-align: right;\">\n      <th></th>\n      <th>nct_id</th>\n      <th>extracted_terms</th>\n      <th>gt_cleaned</th>\n      <th>match_count</th>\n      <th>extracted_terms_count</th>\n      <th>gt_cleaned_count</th>\n    </tr>\n  </thead>\n  <tbody>\n    <tr>\n      <th>45</th>\n      <td>NCT00265122</td>\n      <td>[]</td>\n      <td>[ustekinumab]</td>\n      <td>0</td>\n      <td>0</td>\n      <td>1</td>\n    </tr>\n  </tbody>\n</table>\n</div>"
     },
     "execution_count": 47,
     "metadata": {},
     "output_type": "execute_result"
    }
   ],
   "source": [
    "misses_df = test_df[(test_df['match_count'] != test_df['extracted_terms_count']) | (test_df['match_count'] != test_df['gt_cleaned_count'])]\n",
    "misses_df"
   ]
  },
  {
   "cell_type": "code",
   "execution_count": 47,
   "id": "898a2fa0c9c71721",
   "metadata": {
    "collapsed": false,
    "ExecuteTime": {
     "end_time": "2024-03-18T18:19:35.840251Z",
     "start_time": "2024-03-18T18:19:35.838868Z"
    }
   },
   "outputs": [],
   "source": []
  },
  {
   "cell_type": "markdown",
   "id": "b7ae4819-5958-4f3c-9a89-a32edbc7696a",
   "metadata": {
    "collapsed": false
   },
   "source": [
    "### Check specific case(s)"
   ]
  },
  {
   "cell_type": "code",
   "execution_count": 48,
   "id": "fe5794ddad31ad59",
   "metadata": {
    "collapsed": false,
    "ExecuteTime": {
     "end_time": "2024-03-18T18:19:35.843581Z",
     "start_time": "2024-03-18T18:19:35.841058Z"
    }
   },
   "outputs": [
    {
     "name": "stdout",
     "output_type": "stream",
     "text": [
      "The purpose of this study is to examine the safety and efficacy of CNTO 1275 in participants with active Crohn's Disease.\n"
     ]
    }
   ],
   "source": [
    "_sum = summaries[summaries['nct_id']=='NCT00265122'].brief_summary.iloc[0]\n",
    "print(_sum)"
   ]
  },
  {
   "cell_type": "code",
   "execution_count": 49,
   "id": "bda1abf07b7d24f4",
   "metadata": {
    "collapsed": false,
    "ExecuteTime": {
     "end_time": "2024-03-18T18:19:35.851480Z",
     "start_time": "2024-03-18T18:19:35.844356Z"
    }
   },
   "outputs": [
    {
     "data": {
      "text/plain": "45"
     },
     "execution_count": 49,
     "metadata": {},
     "output_type": "execute_result"
    }
   ],
   "source": [
    "index = summaries[summaries['nct_id']=='NCT00265122'].index[0]\n",
    "index"
   ]
  },
  {
   "cell_type": "code",
   "execution_count": 50,
   "id": "5f9c975573b196b5",
   "metadata": {
    "collapsed": false,
    "ExecuteTime": {
     "end_time": "2024-03-18T18:19:35.868443Z",
     "start_time": "2024-03-18T18:19:35.852260Z"
    }
   },
   "outputs": [
    {
     "data": {
      "text/plain": "Tree('S', [('the', 'O'), ('purpose', 'O'), ('of', 'O'), ('this', 'O'), ('study', 'O'), ('is', 'O'), ('to', 'O'), ('examine', 'O'), ('the', 'O'), ('safety', 'O'), ('and', 'O'), ('efficacy', 'O'), ('of', 'O'), ('cnto', 'O'), Tree('NP', [('1275', 'C2E')]), ('in', 'O'), ('participants', 'O'), ('with', 'O'), ('active', 'O'), ('crohn', 'O'), (\"'s\", 'O'), ('disease', 'O'), ('.', 'O')])",
      "image/svg+xml": "<svg baseProfile=\"full\" height=\"168px\" preserveAspectRatio=\"xMidYMid meet\" style=\"font-family: times, serif; font-weight: normal; font-style: normal; font-size: 16px;\" version=\"1.1\" viewBox=\"0,0,1176.0,168.0\" width=\"1176px\" xmlns=\"http://www.w3.org/2000/svg\" xmlns:ev=\"http://www.w3.org/2001/xml-events\" xmlns:xlink=\"http://www.w3.org/1999/xlink\"><defs /><svg width=\"100%\" x=\"0\" y=\"0px\"><defs /><text text-anchor=\"middle\" x=\"50%\" y=\"16px\">S</text></svg><svg width=\"3.40136%\" x=\"0%\" y=\"48px\"><defs /><svg width=\"100%\" x=\"0\" y=\"0px\"><defs /><text text-anchor=\"middle\" x=\"50%\" y=\"16px\">the</text></svg><svg width=\"100%\" x=\"0%\" y=\"48px\"><defs /><svg width=\"100%\" x=\"0\" y=\"0px\"><defs /><text text-anchor=\"middle\" x=\"50%\" y=\"16px\">O</text></svg></svg><line stroke=\"black\" x1=\"50%\" x2=\"50%\" y1=\"19.2px\" y2=\"48px\" /></svg><line stroke=\"black\" x1=\"50%\" x2=\"1.70068%\" y1=\"19.2px\" y2=\"48px\" /><svg width=\"6.12245%\" x=\"3.40136%\" y=\"48px\"><defs /><svg width=\"100%\" x=\"0\" y=\"0px\"><defs /><text text-anchor=\"middle\" x=\"50%\" y=\"16px\">purpose</text></svg><svg width=\"100%\" x=\"0%\" y=\"48px\"><defs /><svg width=\"100%\" x=\"0\" y=\"0px\"><defs /><text text-anchor=\"middle\" x=\"50%\" y=\"16px\">O</text></svg></svg><line stroke=\"black\" x1=\"50%\" x2=\"50%\" y1=\"19.2px\" y2=\"48px\" /></svg><line stroke=\"black\" x1=\"50%\" x2=\"6.46259%\" y1=\"19.2px\" y2=\"48px\" /><svg width=\"2.72109%\" x=\"9.52381%\" y=\"48px\"><defs /><svg width=\"100%\" x=\"0\" y=\"0px\"><defs /><text text-anchor=\"middle\" x=\"50%\" y=\"16px\">of</text></svg><svg width=\"100%\" x=\"0%\" y=\"48px\"><defs /><svg width=\"100%\" x=\"0\" y=\"0px\"><defs /><text text-anchor=\"middle\" x=\"50%\" y=\"16px\">O</text></svg></svg><line stroke=\"black\" x1=\"50%\" x2=\"50%\" y1=\"19.2px\" y2=\"48px\" /></svg><line stroke=\"black\" x1=\"50%\" x2=\"10.8844%\" y1=\"19.2px\" y2=\"48px\" /><svg width=\"4.08163%\" x=\"12.2449%\" y=\"48px\"><defs /><svg width=\"100%\" x=\"0\" y=\"0px\"><defs /><text text-anchor=\"middle\" x=\"50%\" y=\"16px\">this</text></svg><svg width=\"100%\" x=\"0%\" y=\"48px\"><defs /><svg width=\"100%\" x=\"0\" y=\"0px\"><defs /><text text-anchor=\"middle\" x=\"50%\" y=\"16px\">O</text></svg></svg><line stroke=\"black\" x1=\"50%\" x2=\"50%\" y1=\"19.2px\" y2=\"48px\" /></svg><line stroke=\"black\" x1=\"50%\" x2=\"14.2857%\" y1=\"19.2px\" y2=\"48px\" /><svg width=\"4.7619%\" x=\"16.3265%\" y=\"48px\"><defs /><svg width=\"100%\" x=\"0\" y=\"0px\"><defs /><text text-anchor=\"middle\" x=\"50%\" y=\"16px\">study</text></svg><svg width=\"100%\" x=\"0%\" y=\"48px\"><defs /><svg width=\"100%\" x=\"0\" y=\"0px\"><defs /><text text-anchor=\"middle\" x=\"50%\" y=\"16px\">O</text></svg></svg><line stroke=\"black\" x1=\"50%\" x2=\"50%\" y1=\"19.2px\" y2=\"48px\" /></svg><line stroke=\"black\" x1=\"50%\" x2=\"18.7075%\" y1=\"19.2px\" y2=\"48px\" /><svg width=\"2.72109%\" x=\"21.0884%\" y=\"48px\"><defs /><svg width=\"100%\" x=\"0\" y=\"0px\"><defs /><text text-anchor=\"middle\" x=\"50%\" y=\"16px\">is</text></svg><svg width=\"100%\" x=\"0%\" y=\"48px\"><defs /><svg width=\"100%\" x=\"0\" y=\"0px\"><defs /><text text-anchor=\"middle\" x=\"50%\" y=\"16px\">O</text></svg></svg><line stroke=\"black\" x1=\"50%\" x2=\"50%\" y1=\"19.2px\" y2=\"48px\" /></svg><line stroke=\"black\" x1=\"50%\" x2=\"22.449%\" y1=\"19.2px\" y2=\"48px\" /><svg width=\"2.72109%\" x=\"23.8095%\" y=\"48px\"><defs /><svg width=\"100%\" x=\"0\" y=\"0px\"><defs /><text text-anchor=\"middle\" x=\"50%\" y=\"16px\">to</text></svg><svg width=\"100%\" x=\"0%\" y=\"48px\"><defs /><svg width=\"100%\" x=\"0\" y=\"0px\"><defs /><text text-anchor=\"middle\" x=\"50%\" y=\"16px\">O</text></svg></svg><line stroke=\"black\" x1=\"50%\" x2=\"50%\" y1=\"19.2px\" y2=\"48px\" /></svg><line stroke=\"black\" x1=\"50%\" x2=\"25.1701%\" y1=\"19.2px\" y2=\"48px\" /><svg width=\"6.12245%\" x=\"26.5306%\" y=\"48px\"><defs /><svg width=\"100%\" x=\"0\" y=\"0px\"><defs /><text text-anchor=\"middle\" x=\"50%\" y=\"16px\">examine</text></svg><svg width=\"100%\" x=\"0%\" y=\"48px\"><defs /><svg width=\"100%\" x=\"0\" y=\"0px\"><defs /><text text-anchor=\"middle\" x=\"50%\" y=\"16px\">O</text></svg></svg><line stroke=\"black\" x1=\"50%\" x2=\"50%\" y1=\"19.2px\" y2=\"48px\" /></svg><line stroke=\"black\" x1=\"50%\" x2=\"29.5918%\" y1=\"19.2px\" y2=\"48px\" /><svg width=\"3.40136%\" x=\"32.6531%\" y=\"48px\"><defs /><svg width=\"100%\" x=\"0\" y=\"0px\"><defs /><text text-anchor=\"middle\" x=\"50%\" y=\"16px\">the</text></svg><svg width=\"100%\" x=\"0%\" y=\"48px\"><defs /><svg width=\"100%\" x=\"0\" y=\"0px\"><defs /><text text-anchor=\"middle\" x=\"50%\" y=\"16px\">O</text></svg></svg><line stroke=\"black\" x1=\"50%\" x2=\"50%\" y1=\"19.2px\" y2=\"48px\" /></svg><line stroke=\"black\" x1=\"50%\" x2=\"34.3537%\" y1=\"19.2px\" y2=\"48px\" /><svg width=\"5.44218%\" x=\"36.0544%\" y=\"48px\"><defs /><svg width=\"100%\" x=\"0\" y=\"0px\"><defs /><text text-anchor=\"middle\" x=\"50%\" y=\"16px\">safety</text></svg><svg width=\"100%\" x=\"0%\" y=\"48px\"><defs /><svg width=\"100%\" x=\"0\" y=\"0px\"><defs /><text text-anchor=\"middle\" x=\"50%\" y=\"16px\">O</text></svg></svg><line stroke=\"black\" x1=\"50%\" x2=\"50%\" y1=\"19.2px\" y2=\"48px\" /></svg><line stroke=\"black\" x1=\"50%\" x2=\"38.7755%\" y1=\"19.2px\" y2=\"48px\" /><svg width=\"3.40136%\" x=\"41.4966%\" y=\"48px\"><defs /><svg width=\"100%\" x=\"0\" y=\"0px\"><defs /><text text-anchor=\"middle\" x=\"50%\" y=\"16px\">and</text></svg><svg width=\"100%\" x=\"0%\" y=\"48px\"><defs /><svg width=\"100%\" x=\"0\" y=\"0px\"><defs /><text text-anchor=\"middle\" x=\"50%\" y=\"16px\">O</text></svg></svg><line stroke=\"black\" x1=\"50%\" x2=\"50%\" y1=\"19.2px\" y2=\"48px\" /></svg><line stroke=\"black\" x1=\"50%\" x2=\"43.1973%\" y1=\"19.2px\" y2=\"48px\" /><svg width=\"6.80272%\" x=\"44.898%\" y=\"48px\"><defs /><svg width=\"100%\" x=\"0\" y=\"0px\"><defs /><text text-anchor=\"middle\" x=\"50%\" y=\"16px\">efficacy</text></svg><svg width=\"100%\" x=\"0%\" y=\"48px\"><defs /><svg width=\"100%\" x=\"0\" y=\"0px\"><defs /><text text-anchor=\"middle\" x=\"50%\" y=\"16px\">O</text></svg></svg><line stroke=\"black\" x1=\"50%\" x2=\"50%\" y1=\"19.2px\" y2=\"48px\" /></svg><line stroke=\"black\" x1=\"50%\" x2=\"48.2993%\" y1=\"19.2px\" y2=\"48px\" /><svg width=\"2.72109%\" x=\"51.7007%\" y=\"48px\"><defs /><svg width=\"100%\" x=\"0\" y=\"0px\"><defs /><text text-anchor=\"middle\" x=\"50%\" y=\"16px\">of</text></svg><svg width=\"100%\" x=\"0%\" y=\"48px\"><defs /><svg width=\"100%\" x=\"0\" y=\"0px\"><defs /><text text-anchor=\"middle\" x=\"50%\" y=\"16px\">O</text></svg></svg><line stroke=\"black\" x1=\"50%\" x2=\"50%\" y1=\"19.2px\" y2=\"48px\" /></svg><line stroke=\"black\" x1=\"50%\" x2=\"53.0612%\" y1=\"19.2px\" y2=\"48px\" /><svg width=\"4.08163%\" x=\"54.4218%\" y=\"48px\"><defs /><svg width=\"100%\" x=\"0\" y=\"0px\"><defs /><text text-anchor=\"middle\" x=\"50%\" y=\"16px\">cnto</text></svg><svg width=\"100%\" x=\"0%\" y=\"48px\"><defs /><svg width=\"100%\" x=\"0\" y=\"0px\"><defs /><text text-anchor=\"middle\" x=\"50%\" y=\"16px\">O</text></svg></svg><line stroke=\"black\" x1=\"50%\" x2=\"50%\" y1=\"19.2px\" y2=\"48px\" /></svg><line stroke=\"black\" x1=\"50%\" x2=\"56.4626%\" y1=\"19.2px\" y2=\"48px\" /><svg width=\"4.08163%\" x=\"58.5034%\" y=\"48px\"><defs /><svg width=\"100%\" x=\"0\" y=\"0px\"><defs /><text text-anchor=\"middle\" x=\"50%\" y=\"16px\">NP</text></svg><svg width=\"100%\" x=\"0%\" y=\"48px\"><defs /><svg width=\"100%\" x=\"0\" y=\"0px\"><defs /><text text-anchor=\"middle\" x=\"50%\" y=\"16px\">1275</text></svg><svg width=\"100%\" x=\"0%\" y=\"48px\"><defs /><svg width=\"100%\" x=\"0\" y=\"0px\"><defs /><text text-anchor=\"middle\" x=\"50%\" y=\"16px\">C2E</text></svg></svg><line stroke=\"black\" x1=\"50%\" x2=\"50%\" y1=\"19.2px\" y2=\"48px\" /></svg><line stroke=\"black\" x1=\"50%\" x2=\"50%\" y1=\"19.2px\" y2=\"48px\" /></svg><line stroke=\"black\" x1=\"50%\" x2=\"60.5442%\" y1=\"19.2px\" y2=\"48px\" /><svg width=\"2.72109%\" x=\"62.585%\" y=\"48px\"><defs /><svg width=\"100%\" x=\"0\" y=\"0px\"><defs /><text text-anchor=\"middle\" x=\"50%\" y=\"16px\">in</text></svg><svg width=\"100%\" x=\"0%\" y=\"48px\"><defs /><svg width=\"100%\" x=\"0\" y=\"0px\"><defs /><text text-anchor=\"middle\" x=\"50%\" y=\"16px\">O</text></svg></svg><line stroke=\"black\" x1=\"50%\" x2=\"50%\" y1=\"19.2px\" y2=\"48px\" /></svg><line stroke=\"black\" x1=\"50%\" x2=\"63.9456%\" y1=\"19.2px\" y2=\"48px\" /><svg width=\"9.52381%\" x=\"65.3061%\" y=\"48px\"><defs /><svg width=\"100%\" x=\"0\" y=\"0px\"><defs /><text text-anchor=\"middle\" x=\"50%\" y=\"16px\">participants</text></svg><svg width=\"100%\" x=\"0%\" y=\"48px\"><defs /><svg width=\"100%\" x=\"0\" y=\"0px\"><defs /><text text-anchor=\"middle\" x=\"50%\" y=\"16px\">O</text></svg></svg><line stroke=\"black\" x1=\"50%\" x2=\"50%\" y1=\"19.2px\" y2=\"48px\" /></svg><line stroke=\"black\" x1=\"50%\" x2=\"70.068%\" y1=\"19.2px\" y2=\"48px\" /><svg width=\"4.08163%\" x=\"74.8299%\" y=\"48px\"><defs /><svg width=\"100%\" x=\"0\" y=\"0px\"><defs /><text text-anchor=\"middle\" x=\"50%\" y=\"16px\">with</text></svg><svg width=\"100%\" x=\"0%\" y=\"48px\"><defs /><svg width=\"100%\" x=\"0\" y=\"0px\"><defs /><text text-anchor=\"middle\" x=\"50%\" y=\"16px\">O</text></svg></svg><line stroke=\"black\" x1=\"50%\" x2=\"50%\" y1=\"19.2px\" y2=\"48px\" /></svg><line stroke=\"black\" x1=\"50%\" x2=\"76.8707%\" y1=\"19.2px\" y2=\"48px\" /><svg width=\"5.44218%\" x=\"78.9116%\" y=\"48px\"><defs /><svg width=\"100%\" x=\"0\" y=\"0px\"><defs /><text text-anchor=\"middle\" x=\"50%\" y=\"16px\">active</text></svg><svg width=\"100%\" x=\"0%\" y=\"48px\"><defs /><svg width=\"100%\" x=\"0\" y=\"0px\"><defs /><text text-anchor=\"middle\" x=\"50%\" y=\"16px\">O</text></svg></svg><line stroke=\"black\" x1=\"50%\" x2=\"50%\" y1=\"19.2px\" y2=\"48px\" /></svg><line stroke=\"black\" x1=\"50%\" x2=\"81.6327%\" y1=\"19.2px\" y2=\"48px\" /><svg width=\"4.7619%\" x=\"84.3537%\" y=\"48px\"><defs /><svg width=\"100%\" x=\"0\" y=\"0px\"><defs /><text text-anchor=\"middle\" x=\"50%\" y=\"16px\">crohn</text></svg><svg width=\"100%\" x=\"0%\" y=\"48px\"><defs /><svg width=\"100%\" x=\"0\" y=\"0px\"><defs /><text text-anchor=\"middle\" x=\"50%\" y=\"16px\">O</text></svg></svg><line stroke=\"black\" x1=\"50%\" x2=\"50%\" y1=\"19.2px\" y2=\"48px\" /></svg><line stroke=\"black\" x1=\"50%\" x2=\"86.7347%\" y1=\"19.2px\" y2=\"48px\" /><svg width=\"2.72109%\" x=\"89.1156%\" y=\"48px\"><defs /><svg width=\"100%\" x=\"0\" y=\"0px\"><defs /><text text-anchor=\"middle\" x=\"50%\" y=\"16px\">'s</text></svg><svg width=\"100%\" x=\"0%\" y=\"48px\"><defs /><svg width=\"100%\" x=\"0\" y=\"0px\"><defs /><text text-anchor=\"middle\" x=\"50%\" y=\"16px\">O</text></svg></svg><line stroke=\"black\" x1=\"50%\" x2=\"50%\" y1=\"19.2px\" y2=\"48px\" /></svg><line stroke=\"black\" x1=\"50%\" x2=\"90.4762%\" y1=\"19.2px\" y2=\"48px\" /><svg width=\"6.12245%\" x=\"91.8367%\" y=\"48px\"><defs /><svg width=\"100%\" x=\"0\" y=\"0px\"><defs /><text text-anchor=\"middle\" x=\"50%\" y=\"16px\">disease</text></svg><svg width=\"100%\" x=\"0%\" y=\"48px\"><defs /><svg width=\"100%\" x=\"0\" y=\"0px\"><defs /><text text-anchor=\"middle\" x=\"50%\" y=\"16px\">O</text></svg></svg><line stroke=\"black\" x1=\"50%\" x2=\"50%\" y1=\"19.2px\" y2=\"48px\" /></svg><line stroke=\"black\" x1=\"50%\" x2=\"94.898%\" y1=\"19.2px\" y2=\"48px\" /><svg width=\"2.04082%\" x=\"97.9592%\" y=\"48px\"><defs /><svg width=\"100%\" x=\"0\" y=\"0px\"><defs /><text text-anchor=\"middle\" x=\"50%\" y=\"16px\">.</text></svg><svg width=\"100%\" x=\"0%\" y=\"48px\"><defs /><svg width=\"100%\" x=\"0\" y=\"0px\"><defs /><text text-anchor=\"middle\" x=\"50%\" y=\"16px\">O</text></svg></svg><line stroke=\"black\" x1=\"50%\" x2=\"50%\" y1=\"19.2px\" y2=\"48px\" /></svg><line stroke=\"black\" x1=\"50%\" x2=\"98.9796%\" y1=\"19.2px\" y2=\"48px\" /></svg>"
     },
     "execution_count": 50,
     "metadata": {},
     "output_type": "execute_result"
    }
   ],
   "source": [
    "# This is a tagger issue, 'cnto' is tagged as other, it should have been tagged as 'C-2-E'\n",
    "test_trees[index]"
   ]
  },
  {
   "cell_type": "code",
   "execution_count": 51,
   "id": "e1bf357629f2bb08",
   "metadata": {
    "collapsed": false,
    "ExecuteTime": {
     "end_time": "2024-03-18T18:19:35.872987Z",
     "start_time": "2024-03-18T18:19:35.869282Z"
    }
   },
   "outputs": [],
   "source": [
    "# terms_by_preferred_name = {}\n",
    "# for _, row in synonyms_df.iterrows():\n",
    "#     preferred_name = row['preferred_name']\n",
    "#     synonyms = row['synonyms']\n",
    "#     synonyms_cleaned = [synonym.replace(' ', '').lower() for synonym in synonyms]\n",
    "#     terms_by_preferred_name[preferred_name] = synonyms_cleaned"
   ]
  },
  {
   "cell_type": "code",
   "execution_count": 52,
   "id": "e9598f5a7bbf4e12",
   "metadata": {
    "collapsed": false,
    "ExecuteTime": {
     "end_time": "2024-03-18T18:19:35.878039Z",
     "start_time": "2024-03-18T18:19:35.873805Z"
    }
   },
   "outputs": [],
   "source": [
    "# for term in terms_by_preferred_name['ustekinumab']:\n",
    "#     if term in _sum:\n",
    "#         print(term)"
   ]
  },
  {
   "cell_type": "code",
   "execution_count": 53,
   "id": "d35d74d89403d516",
   "metadata": {
    "collapsed": false,
    "ExecuteTime": {
     "end_time": "2024-03-18T18:19:35.882808Z",
     "start_time": "2024-03-18T18:19:35.878853Z"
    }
   },
   "outputs": [],
   "source": [
    "# terms_by_preferred_name['ustekinumab']"
   ]
  },
  {
   "cell_type": "markdown",
   "id": "35e2a26f-e4a2-481b-a3b9-ba0a3b7b28dc",
   "metadata": {
    "collapsed": false
   },
   "source": [
    "# Save"
   ]
  },
  {
   "cell_type": "code",
   "execution_count": 54,
   "id": "f7b08eff-c4ff-4629-b53d-801e8bfb618f",
   "metadata": {
    "ExecuteTime": {
     "end_time": "2024-03-18T18:19:35.889323Z",
     "start_time": "2024-03-18T18:19:35.883596Z"
    }
   },
   "outputs": [],
   "source": [
    "test_df.to_parquet(data_config['extraction_nltk_file_name'], index=False) "
   ]
  },
  {
   "cell_type": "code",
   "outputs": [],
   "source": [],
   "metadata": {
    "collapsed": false,
    "ExecuteTime": {
     "end_time": "2024-03-18T18:19:35.891614Z",
     "start_time": "2024-03-18T18:19:35.890141Z"
    }
   },
   "id": "bb0a9b336d542695",
   "execution_count": 54
  }
 ],
 "metadata": {
  "kernelspec": {
   "display_name": "Python 3 (ipykernel)",
   "language": "python",
   "name": "python3"
  },
  "language_info": {
   "codemirror_mode": {
    "name": "ipython",
    "version": 3
   },
   "file_extension": ".py",
   "mimetype": "text/x-python",
   "name": "python",
   "nbconvert_exporter": "python",
   "pygments_lexer": "ipython3",
   "version": "3.10.13"
  }
 },
 "nbformat": 4,
 "nbformat_minor": 5
}
