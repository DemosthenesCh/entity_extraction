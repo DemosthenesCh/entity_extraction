{
 "cells": [
  {
   "cell_type": "code",
   "execution_count": 1,
   "id": "6eef6e262a94dba2",
   "metadata": {
    "collapsed": false,
    "ExecuteTime": {
     "end_time": "2024-03-18T20:35:42.013323Z",
     "start_time": "2024-03-18T20:35:41.405103Z"
    }
   },
   "outputs": [],
   "source": [
    "from collections import defaultdict\n",
    "import json\n",
    "import pandas as pd\n",
    "import nltk\n",
    "import numpy as np\n",
    "\n",
    "import util\n",
    "from third_party.nltk_book import chunkers\n"
   ]
  },
  {
   "cell_type": "code",
   "execution_count": 2,
   "id": "f166647f8a2cdf39",
   "metadata": {
    "collapsed": false,
    "ExecuteTime": {
     "end_time": "2024-03-18T20:35:42.017577Z",
     "start_time": "2024-03-18T20:35:42.014672Z"
    }
   },
   "outputs": [],
   "source": [
    "data_config = util.get_data_config()"
   ]
  },
  {
   "cell_type": "code",
   "execution_count": 3,
   "id": "3581206dc0789c71",
   "metadata": {
    "collapsed": false,
    "ExecuteTime": {
     "end_time": "2024-03-18T20:35:42.140882Z",
     "start_time": "2024-03-18T20:35:42.018381Z"
    }
   },
   "outputs": [
    {
     "name": "stderr",
     "output_type": "stream",
     "text": [
      "[nltk_data] Downloading package punkt to\n",
      "[nltk_data]     /home/dimosthenis/nltk_data...\n",
      "[nltk_data]   Package punkt is already up-to-date!\n",
      "[nltk_data] Downloading package averaged_perceptron_tagger to\n",
      "[nltk_data]     /home/dimosthenis/nltk_data...\n",
      "[nltk_data]   Package averaged_perceptron_tagger is already up-to-\n",
      "[nltk_data]       date!\n",
      "[nltk_data] Downloading package brown to\n",
      "[nltk_data]     /home/dimosthenis/nltk_data...\n",
      "[nltk_data]   Package brown is already up-to-date!\n",
      "[nltk_data] Downloading package conll2000 to\n",
      "[nltk_data]     /home/dimosthenis/nltk_data...\n",
      "[nltk_data]   Package conll2000 is already up-to-date!\n"
     ]
    },
    {
     "data": {
      "text/plain": "True"
     },
     "execution_count": 3,
     "metadata": {},
     "output_type": "execute_result"
    }
   ],
   "source": [
    "nltk.download(['punkt', 'averaged_perceptron_tagger'])\n",
    "# Optional\n",
    "nltk.download(['brown', 'conll2000',])"
   ]
  },
  {
   "cell_type": "markdown",
   "id": "144623f5-a98f-4a02-95ad-ea5e21b03ef9",
   "metadata": {},
   "source": [
    "# Load Data"
   ]
  },
  {
   "cell_type": "code",
   "execution_count": 4,
   "id": "49343491d8e9ded",
   "metadata": {
    "collapsed": false,
    "ExecuteTime": {
     "end_time": "2024-03-18T20:35:42.156776Z",
     "start_time": "2024-03-18T20:35:42.142230Z"
    }
   },
   "outputs": [
    {
     "data": {
      "text/plain": "(51, 2)"
     },
     "execution_count": 4,
     "metadata": {},
     "output_type": "execute_result"
    }
   ],
   "source": [
    "summaries = pd.read_parquet(data_config['summaries_file_name'])\n",
    "summaries.shape"
   ]
  },
  {
   "cell_type": "code",
   "execution_count": 5,
   "id": "6df00e9249047aeb",
   "metadata": {
    "collapsed": false,
    "ExecuteTime": {
     "end_time": "2024-03-18T20:35:42.162405Z",
     "start_time": "2024-03-18T20:35:42.157591Z"
    }
   },
   "outputs": [
    {
     "data": {
      "text/plain": "        nct_id                                      brief_summary\n0  NCT00037648  The purpose of this study is to determine the ...\n1  NCT00048542  This is a multicenter, Phase 3 randomized, pla...\n2  NCT00071487  The purpose of this study is to evaluate the s...\n3  NCT00071812  The purpose of this study is to evaluate the s...\n4  NCT00072839  The purpose of the study is to determine wheth...",
      "text/html": "<div>\n<style scoped>\n    .dataframe tbody tr th:only-of-type {\n        vertical-align: middle;\n    }\n\n    .dataframe tbody tr th {\n        vertical-align: top;\n    }\n\n    .dataframe thead th {\n        text-align: right;\n    }\n</style>\n<table border=\"1\" class=\"dataframe\">\n  <thead>\n    <tr style=\"text-align: right;\">\n      <th></th>\n      <th>nct_id</th>\n      <th>brief_summary</th>\n    </tr>\n  </thead>\n  <tbody>\n    <tr>\n      <th>0</th>\n      <td>NCT00037648</td>\n      <td>The purpose of this study is to determine the ...</td>\n    </tr>\n    <tr>\n      <th>1</th>\n      <td>NCT00048542</td>\n      <td>This is a multicenter, Phase 3 randomized, pla...</td>\n    </tr>\n    <tr>\n      <th>2</th>\n      <td>NCT00071487</td>\n      <td>The purpose of this study is to evaluate the s...</td>\n    </tr>\n    <tr>\n      <th>3</th>\n      <td>NCT00071812</td>\n      <td>The purpose of this study is to evaluate the s...</td>\n    </tr>\n    <tr>\n      <th>4</th>\n      <td>NCT00072839</td>\n      <td>The purpose of the study is to determine wheth...</td>\n    </tr>\n  </tbody>\n</table>\n</div>"
     },
     "execution_count": 5,
     "metadata": {},
     "output_type": "execute_result"
    }
   ],
   "source": [
    "summaries.head()"
   ]
  },
  {
   "cell_type": "code",
   "execution_count": 6,
   "id": "3215eae9b2af0b2b",
   "metadata": {
    "collapsed": false,
    "ExecuteTime": {
     "end_time": "2024-03-18T20:35:42.180664Z",
     "start_time": "2024-03-18T20:35:42.163239Z"
    }
   },
   "outputs": [
    {
     "data": {
      "text/plain": "        preferred_name                                           synonyms\nid                                                                       \n4.0    levobupivacaine  [chirocain, levobupivacaine, levobupivacaine H...\n5.0    (S)-nicardipine  [(-)-Nicardipine, (-)-nicardipine, (S)-nicardi...\n6.0   (S)-nitrendipine  [(-)-Nitrendipine, (-)-nitrendipine, (S)-nitre...\n13.0     levdobutamine  [LY206243, levdobutamine, levdobutamine lactob...\n21.0       aminopterin  [4-aminofolic acid, Aminofolic acid, 4-, amino...",
      "text/html": "<div>\n<style scoped>\n    .dataframe tbody tr th:only-of-type {\n        vertical-align: middle;\n    }\n\n    .dataframe tbody tr th {\n        vertical-align: top;\n    }\n\n    .dataframe thead th {\n        text-align: right;\n    }\n</style>\n<table border=\"1\" class=\"dataframe\">\n  <thead>\n    <tr style=\"text-align: right;\">\n      <th></th>\n      <th>preferred_name</th>\n      <th>synonyms</th>\n    </tr>\n    <tr>\n      <th>id</th>\n      <th></th>\n      <th></th>\n    </tr>\n  </thead>\n  <tbody>\n    <tr>\n      <th>4.0</th>\n      <td>levobupivacaine</td>\n      <td>[chirocain, levobupivacaine, levobupivacaine H...</td>\n    </tr>\n    <tr>\n      <th>5.0</th>\n      <td>(S)-nicardipine</td>\n      <td>[(-)-Nicardipine, (-)-nicardipine, (S)-nicardi...</td>\n    </tr>\n    <tr>\n      <th>6.0</th>\n      <td>(S)-nitrendipine</td>\n      <td>[(-)-Nitrendipine, (-)-nitrendipine, (S)-nitre...</td>\n    </tr>\n    <tr>\n      <th>13.0</th>\n      <td>levdobutamine</td>\n      <td>[LY206243, levdobutamine, levdobutamine lactob...</td>\n    </tr>\n    <tr>\n      <th>21.0</th>\n      <td>aminopterin</td>\n      <td>[4-aminofolic acid, Aminofolic acid, 4-, amino...</td>\n    </tr>\n  </tbody>\n</table>\n</div>"
     },
     "execution_count": 6,
     "metadata": {},
     "output_type": "execute_result"
    }
   ],
   "source": [
    "synonyms_df = pd.read_parquet(data_config['processed_synonyms_file_name'])\n",
    "synonyms_df.head()"
   ]
  },
  {
   "cell_type": "code",
   "outputs": [],
   "source": [
    "with open(data_config['ground_truth_raw_file_name'], 'r') as fin:\n",
    "    ground_truth = json.loads(fin.read())\n",
    "    \n",
    "with open(data_config['ground_truth_cleaned_file_name'], 'r') as fin:\n",
    "    ground_truth_cleaned = json.loads(fin.read())"
   ],
   "metadata": {
    "collapsed": false,
    "ExecuteTime": {
     "end_time": "2024-03-18T20:35:42.184081Z",
     "start_time": "2024-03-18T20:35:42.181516Z"
    }
   },
   "id": "2ae104b9c138b7f0",
   "execution_count": 7
  },
  {
   "cell_type": "markdown",
   "source": [
    "# Process Data"
   ],
   "metadata": {
    "collapsed": false
   },
   "id": "85b3c0e0d88c0d97"
  },
  {
   "cell_type": "code",
   "outputs": [],
   "source": [
    "synonyms_df['synonyms'] = synonyms_df['synonyms'].map(lambda synonyms: [util.clean_up_synonym_term(synonym) for synonym in synonyms])"
   ],
   "metadata": {
    "collapsed": false,
    "ExecuteTime": {
     "end_time": "2024-03-18T20:35:42.200258Z",
     "start_time": "2024-03-18T20:35:42.185100Z"
    }
   },
   "id": "c31a39f20611d529",
   "execution_count": 8
  },
  {
   "cell_type": "code",
   "outputs": [
    {
     "data": {
      "text/plain": "        preferred_name                                           synonyms\nid                                                                       \n4.0    levobupivacaine  [chirocain, levobupivacaine, levobupivacainehc...\n5.0    (S)-nicardipine  [(-)-nicardipine, (-)-nicardipine, (s)-nicardi...\n6.0   (S)-nitrendipine  [(-)-nitrendipine, (-)-nitrendipine, (s)-nitre...\n13.0     levdobutamine  [ly206243, levdobutamine, levdobutaminelactobi...\n21.0       aminopterin  [4-aminofolicacid, aminofolicacid,4-, aminofol...",
      "text/html": "<div>\n<style scoped>\n    .dataframe tbody tr th:only-of-type {\n        vertical-align: middle;\n    }\n\n    .dataframe tbody tr th {\n        vertical-align: top;\n    }\n\n    .dataframe thead th {\n        text-align: right;\n    }\n</style>\n<table border=\"1\" class=\"dataframe\">\n  <thead>\n    <tr style=\"text-align: right;\">\n      <th></th>\n      <th>preferred_name</th>\n      <th>synonyms</th>\n    </tr>\n    <tr>\n      <th>id</th>\n      <th></th>\n      <th></th>\n    </tr>\n  </thead>\n  <tbody>\n    <tr>\n      <th>4.0</th>\n      <td>levobupivacaine</td>\n      <td>[chirocain, levobupivacaine, levobupivacainehc...</td>\n    </tr>\n    <tr>\n      <th>5.0</th>\n      <td>(S)-nicardipine</td>\n      <td>[(-)-nicardipine, (-)-nicardipine, (s)-nicardi...</td>\n    </tr>\n    <tr>\n      <th>6.0</th>\n      <td>(S)-nitrendipine</td>\n      <td>[(-)-nitrendipine, (-)-nitrendipine, (s)-nitre...</td>\n    </tr>\n    <tr>\n      <th>13.0</th>\n      <td>levdobutamine</td>\n      <td>[ly206243, levdobutamine, levdobutaminelactobi...</td>\n    </tr>\n    <tr>\n      <th>21.0</th>\n      <td>aminopterin</td>\n      <td>[4-aminofolicacid, aminofolicacid,4-, aminofol...</td>\n    </tr>\n  </tbody>\n</table>\n</div>"
     },
     "execution_count": 9,
     "metadata": {},
     "output_type": "execute_result"
    }
   ],
   "source": [
    "synonyms_df.head()"
   ],
   "metadata": {
    "collapsed": false,
    "ExecuteTime": {
     "end_time": "2024-03-18T20:35:42.208262Z",
     "start_time": "2024-03-18T20:35:42.201124Z"
    }
   },
   "id": "30d82c325aa422b3",
   "execution_count": 9
  },
  {
   "cell_type": "code",
   "execution_count": 10,
   "id": "95c4037f623a6d75",
   "metadata": {
    "collapsed": false,
    "ExecuteTime": {
     "end_time": "2024-03-18T20:35:42.227819Z",
     "start_time": "2024-03-18T20:35:42.210346Z"
    }
   },
   "outputs": [
    {
     "name": "stdout",
     "output_type": "stream",
     "text": [
      "vocabulary size: 23140\n",
      "extra characters['&', \"'\", '(', ')', '+', ',', '-', '.', '/', '0', '1', '2', '3', '4', '5', '6', '7', '8', '9', ':', '<', '>', '[', ']', '–']\n"
     ]
    }
   ],
   "source": [
    "word_set = set(\n",
    "    word\n",
    "    for synonyms in synonyms_df['synonyms']\n",
    "    for synonym in synonyms\n",
    "    for word in synonym.split()\n",
    ")\n",
    "print(f'vocabulary size: {len(word_set)}')\n",
    "characters = set([char for word in word_set for char in word])\n",
    "extra_characters = [char for char in characters if not char.isalpha()]\n",
    "print(f'extra characters{sorted(extra_characters)}')"
   ]
  },
  {
   "cell_type": "markdown",
   "source": [],
   "metadata": {
    "collapsed": false
   },
   "id": "eea42d96ce5fcc28"
  },
  {
   "cell_type": "code",
   "execution_count": 11,
   "id": "26dd4adc17b311b8",
   "metadata": {
    "collapsed": false,
    "ExecuteTime": {
     "end_time": "2024-03-18T20:35:42.246146Z",
     "start_time": "2024-03-18T20:35:42.228702Z"
    }
   },
   "outputs": [],
   "source": [
    "summaries['brief_summary_raw'] = summaries['brief_summary'].copy()\n",
    "summaries['brief_summary'] = summaries['brief_summary'].map(util.prerpocess_text)"
   ]
  },
  {
   "cell_type": "code",
   "execution_count": 12,
   "id": "1e385dadddce8729",
   "metadata": {
    "collapsed": false,
    "ExecuteTime": {
     "end_time": "2024-03-18T20:35:43.705046Z",
     "start_time": "2024-03-18T20:35:42.247047Z"
    }
   },
   "outputs": [
    {
     "data": {
      "text/plain": "                        synonym                          tokens  token_count\n0                     chirocain                     [chirocain]            1\n1               levobupivacaine               [levobupivacaine]            1\n2            levobupivacainehcl            [levobupivacainehcl]            1\n3            levobupivacainehcl            [levobupivacainehcl]            1\n4  levobupivacainehydrochloride  [levobupivacainehydrochloride]            1\n5               (-)-nicardipine         [(, -, ), -nicardipine]            4\n6               (-)-nicardipine         [(, -, ), -nicardipine]            4\n7               (s)-nicardipine         [(, s, ), -nicardipine]            4\n8               (s)-nicardipine         [(, s, ), -nicardipine]            4\n9              (-)-nitrendipine        [(, -, ), -nitrendipine]            4",
      "text/html": "<div>\n<style scoped>\n    .dataframe tbody tr th:only-of-type {\n        vertical-align: middle;\n    }\n\n    .dataframe tbody tr th {\n        vertical-align: top;\n    }\n\n    .dataframe thead th {\n        text-align: right;\n    }\n</style>\n<table border=\"1\" class=\"dataframe\">\n  <thead>\n    <tr style=\"text-align: right;\">\n      <th></th>\n      <th>synonym</th>\n      <th>tokens</th>\n      <th>token_count</th>\n    </tr>\n  </thead>\n  <tbody>\n    <tr>\n      <th>0</th>\n      <td>chirocain</td>\n      <td>[chirocain]</td>\n      <td>1</td>\n    </tr>\n    <tr>\n      <th>1</th>\n      <td>levobupivacaine</td>\n      <td>[levobupivacaine]</td>\n      <td>1</td>\n    </tr>\n    <tr>\n      <th>2</th>\n      <td>levobupivacainehcl</td>\n      <td>[levobupivacainehcl]</td>\n      <td>1</td>\n    </tr>\n    <tr>\n      <th>3</th>\n      <td>levobupivacainehcl</td>\n      <td>[levobupivacainehcl]</td>\n      <td>1</td>\n    </tr>\n    <tr>\n      <th>4</th>\n      <td>levobupivacainehydrochloride</td>\n      <td>[levobupivacainehydrochloride]</td>\n      <td>1</td>\n    </tr>\n    <tr>\n      <th>5</th>\n      <td>(-)-nicardipine</td>\n      <td>[(, -, ), -nicardipine]</td>\n      <td>4</td>\n    </tr>\n    <tr>\n      <th>6</th>\n      <td>(-)-nicardipine</td>\n      <td>[(, -, ), -nicardipine]</td>\n      <td>4</td>\n    </tr>\n    <tr>\n      <th>7</th>\n      <td>(s)-nicardipine</td>\n      <td>[(, s, ), -nicardipine]</td>\n      <td>4</td>\n    </tr>\n    <tr>\n      <th>8</th>\n      <td>(s)-nicardipine</td>\n      <td>[(, s, ), -nicardipine]</td>\n      <td>4</td>\n    </tr>\n    <tr>\n      <th>9</th>\n      <td>(-)-nitrendipine</td>\n      <td>[(, -, ), -nitrendipine]</td>\n      <td>4</td>\n    </tr>\n  </tbody>\n</table>\n</div>"
     },
     "execution_count": 12,
     "metadata": {},
     "output_type": "execute_result"
    }
   ],
   "source": [
    "all_tokens = []\n",
    "all_synonyms = []\n",
    "dataset_by_ngram = defaultdict(list)\n",
    "for synonyms in synonyms_df['synonyms']:\n",
    "    for synonym in synonyms:\n",
    "        tokens = util.prerpocess_text(synonym)\n",
    "        all_tokens.append(tokens)\n",
    "        all_synonyms.append(synonym)\n",
    "        tags = []\n",
    "        for token in tokens[:-1]:\n",
    "            # tags.append((token, f'C-{len(tokens)}-S'))\n",
    "            tags.append((token, f'C{len(tokens)}S'))\n",
    "            \n",
    "        for token in tokens[-1:]:\n",
    "            # tags.append((token, f'C-{len(tokens)}-E'))\n",
    "            tags.append((token, f'C{len(tokens)}E'))\n",
    "        \n",
    "        assert len(tags) == len(tokens)\n",
    "        dataset_by_ngram[len(tags)].append(tags)\n",
    "\n",
    "syn_counts_df = pd.DataFrame({\n",
    "    'synonym': all_synonyms,\n",
    "    'tokens': all_tokens,\n",
    "})\n",
    "syn_counts_df['token_count'] = syn_counts_df['tokens'].map(len)\n",
    "syn_counts_df.head(10)"
   ]
  },
  {
   "cell_type": "code",
   "outputs": [
    {
     "data": {
      "text/plain": "token_count\n1     26451\n4       716\n5       119\n3        90\n8        17\n6        12\n2         4\n9         2\n12        2\n7         2\nName: count, dtype: int64"
     },
     "execution_count": 13,
     "metadata": {},
     "output_type": "execute_result"
    }
   ],
   "source": [
    "syn_counts_df['token_count'].value_counts()"
   ],
   "metadata": {
    "collapsed": false,
    "ExecuteTime": {
     "end_time": "2024-03-18T20:35:43.709757Z",
     "start_time": "2024-03-18T20:35:43.706038Z"
    }
   },
   "id": "4d1b78d1082dc67a",
   "execution_count": 13
  },
  {
   "cell_type": "markdown",
   "id": "520c3dbb-0e9c-4eff-85ff-b0eda16b7f58",
   "metadata": {
    "ExecuteTime": {
     "end_time": "2024-03-18T04:39:26.316091Z",
     "start_time": "2024-03-18T04:39:26.314385Z"
    },
    "collapsed": false
   },
   "source": [
    "# NgramTagger that uses N-1 tokens (instead of N-1 tags). \n",
    "\n",
    "We train a series of `NgramTagger`s, one for each ngram size in the ground truth, The tagger with the highest `N` is applied first and if it cannot tag a temrm it uses the tager with the next lowest `N`. "
   ]
  },
  {
   "cell_type": "code",
   "execution_count": 14,
   "id": "90d1407a521549aa",
   "metadata": {
    "collapsed": false,
    "ExecuteTime": {
     "end_time": "2024-03-18T20:35:43.721846Z",
     "start_time": "2024-03-18T20:35:43.710701Z"
    }
   },
   "outputs": [],
   "source": [
    "def parse(text, parser, tagger):\n",
    "    tagged = tagger.tag(util.prerpocess_text(text))\n",
    "    tree = parser.parse(tagged)\n",
    "    return tree\n",
    "\n",
    "def extract_grouped_terms(tree: nltk.Tree, group_tag: str = 'NP') -> list[str]:\n",
    "    terms = []\n",
    "    for subtree in tree:\n",
    "        if type(subtree) != nltk.Tree:\n",
    "            continue\n",
    "        if subtree.label() != group_tag:\n",
    "            continue\n",
    "        term = ''.join([leaf[0] for leaf in subtree.leaves()])\n",
    "        terms.append(term)\n",
    "    return terms\n",
    "\n",
    "class WordNgramTagger(nltk.NgramTagger):\n",
    "    \"\"\"\n",
    "    My override of the NLTK NgramTagger class that considers previous\n",
    "    tokens rather than previous tags for context.\n",
    "    \"\"\"\n",
    "    def __init__(self, n, train=None, model=None,\n",
    "                 backoff=None, cutoff=0, verbose=False):\n",
    "        nltk.NgramTagger.__init__(self, n, train, model, backoff, cutoff, verbose)\n",
    "\n",
    "    def context(self, tokens, index, history):\n",
    "        tag_context = tuple(tokens[max(0,index-self._n+1):index])\n",
    "        return tag_context, tokens[index]\n",
    "    "
   ]
  },
  {
   "cell_type": "code",
   "execution_count": 14,
   "id": "888bd896-cb22-40b4-b5af-bceb6bfa25d4",
   "metadata": {
    "ExecuteTime": {
     "end_time": "2024-03-18T20:35:43.724423Z",
     "start_time": "2024-03-18T20:35:43.722707Z"
    }
   },
   "outputs": [],
   "source": []
  },
  {
   "cell_type": "code",
   "execution_count": 15,
   "id": "5791a7cdaca36531",
   "metadata": {
    "collapsed": false,
    "ExecuteTime": {
     "end_time": "2024-03-18T20:35:43.927092Z",
     "start_time": "2024-03-18T20:35:43.725338Z"
    }
   },
   "outputs": [
    {
     "name": "stdout",
     "output_type": "stream",
     "text": [
      "1\n",
      "2\n",
      "3\n",
      "4\n",
      "5\n",
      "6\n",
      "7\n",
      "8\n",
      "9\n",
      "12\n"
     ]
    }
   ],
   "source": [
    "taggers = [nltk.DefaultTagger('O')]\n",
    "for n in sorted(dataset_by_ngram.keys()):\n",
    "    print(n)\n",
    "    train = dataset_by_ngram[n]\n",
    "    ngram_tagger = WordNgramTagger(n=n, train=train, backoff=taggers[-1])\n",
    "    taggers.append(ngram_tagger)\n",
    "\n",
    "tagger = taggers[-1]"
   ]
  },
  {
   "cell_type": "markdown",
   "source": [
    "## Try a RegexpParser as a Chunker."
   ],
   "metadata": {
    "collapsed": false
   },
   "id": "a29e267a2db4908a"
  },
  {
   "cell_type": "code",
   "execution_count": 16,
   "id": "32cff793-0113-436e-8771-406ad0a33e78",
   "metadata": {
    "ExecuteTime": {
     "end_time": "2024-03-18T20:35:43.933312Z",
     "start_time": "2024-03-18T20:35:43.928067Z"
    }
   },
   "outputs": [
    {
     "name": "stdout",
     "output_type": "stream",
     "text": [
      "NP: {<C1E>}\n",
      "{<C\\dS>{0}<C1E>}\n",
      "{<C\\dS>{3}<C4E>}\n",
      "{<C\\dS>{8}<C9E>}\n",
      "{<C\\dS>{4}<C5E>}\n",
      "{<C\\dS>{2}<C3E>}\n",
      "{<C\\dS>{5}<C6E>}\n",
      "{<C\\dS>{7}<C8E>}\n",
      "{<C\\dS>{1}<C2E>}\n",
      "{<C\\dS>{11}<C12E>}\n",
      "{<C\\dS>{6}<C7E>}\n"
     ]
    }
   ],
   "source": [
    "grammar = '''NP: {<C1E>}'''\n",
    "for num_tokens in dataset_by_ngram.keys():\n",
    "    grammar += '\\n{<C\\dS>{' + str(num_tokens-1) + '}<C' + str(num_tokens) + 'E>}'\n",
    "print(grammar)\n",
    "regexp_parser = nltk.RegexpParser(grammar)"
   ]
  },
  {
   "cell_type": "code",
   "execution_count": 17,
   "id": "787db1b2234c5fef",
   "metadata": {
    "collapsed": false,
    "ExecuteTime": {
     "end_time": "2024-03-18T20:35:47.081453Z",
     "start_time": "2024-03-18T20:35:43.934231Z"
    }
   },
   "outputs": [],
   "source": [
    "all_terms = [\n",
    "    synonym\n",
    "    for synonyms in synonyms_df['synonyms']\n",
    "    for synonym in synonyms\n",
    "]\n",
    "all_trees = [\n",
    "    parse(term, parser=regexp_parser, tagger=tagger)\n",
    "    for term in all_terms\n",
    "]\n",
    "extracted = [\n",
    "    extract_grouped_terms(tree) for tree in all_trees\n",
    "]\n",
    "\n",
    "df = pd.DataFrame({\n",
    "    'term': all_terms,\n",
    "    'tree': all_trees,\n",
    "    'extracted': extracted\n",
    "})"
   ]
  },
  {
   "cell_type": "code",
   "execution_count": 18,
   "id": "db5c8d1bf0e7db68",
   "metadata": {
    "collapsed": false,
    "ExecuteTime": {
     "end_time": "2024-03-18T20:35:47.091486Z",
     "start_time": "2024-03-18T20:35:47.082641Z"
    }
   },
   "outputs": [
    {
     "data": {
      "text/plain": "extracted_count\n1    27264\n0      151\nName: count, dtype: int64"
     },
     "execution_count": 18,
     "metadata": {},
     "output_type": "execute_result"
    }
   ],
   "source": [
    "df['extracted_count'] = df['extracted'].map(len)\n",
    "df['extracted_count'].value_counts()"
   ]
  },
  {
   "cell_type": "code",
   "execution_count": 19,
   "id": "f86cc69ba3537ba0",
   "metadata": {
    "collapsed": false,
    "ExecuteTime": {
     "end_time": "2024-03-18T20:35:47.113718Z",
     "start_time": "2024-03-18T20:35:47.092495Z"
    }
   },
   "outputs": [
    {
     "data": {
      "text/plain": "                           term  \\\n0                     chirocain   \n1               levobupivacaine   \n2            levobupivacainehcl   \n3            levobupivacainehcl   \n4  levobupivacainehydrochloride   \n5               (-)-nicardipine   \n6               (-)-nicardipine   \n7               (s)-nicardipine   \n8               (s)-nicardipine   \n9              (-)-nitrendipine   \n\n                                                tree  \\\n0                               [[(chirocain, C1E)]]   \n1                         [[(levobupivacaine, C1E)]]   \n2                      [[(levobupivacainehcl, C1E)]]   \n3                      [[(levobupivacainehcl, C1E)]]   \n4            [[(levobupivacainehydrochloride, C1E)]]   \n5  [[((, C8S), (-, C8S), (), C8S), (-nicardipine,...   \n6  [[((, C8S), (-, C8S), (), C8S), (-nicardipine,...   \n7  [[((, C8S), (s, C8S), (), C8S), (-nicardipine,...   \n8  [[((, C8S), (s, C8S), (), C8S), (-nicardipine,...   \n9  [[((, C8S), (-, C8S), (), C8S), (-nitrendipine...   \n\n                        extracted  extracted_count  \n0                     [chirocain]                1  \n1               [levobupivacaine]                1  \n2            [levobupivacainehcl]                1  \n3            [levobupivacainehcl]                1  \n4  [levobupivacainehydrochloride]                1  \n5               [(-)-nicardipine]                1  \n6               [(-)-nicardipine]                1  \n7               [(s)-nicardipine]                1  \n8               [(s)-nicardipine]                1  \n9              [(-)-nitrendipine]                1  ",
      "text/html": "<div>\n<style scoped>\n    .dataframe tbody tr th:only-of-type {\n        vertical-align: middle;\n    }\n\n    .dataframe tbody tr th {\n        vertical-align: top;\n    }\n\n    .dataframe thead th {\n        text-align: right;\n    }\n</style>\n<table border=\"1\" class=\"dataframe\">\n  <thead>\n    <tr style=\"text-align: right;\">\n      <th></th>\n      <th>term</th>\n      <th>tree</th>\n      <th>extracted</th>\n      <th>extracted_count</th>\n    </tr>\n  </thead>\n  <tbody>\n    <tr>\n      <th>0</th>\n      <td>chirocain</td>\n      <td>[[(chirocain, C1E)]]</td>\n      <td>[chirocain]</td>\n      <td>1</td>\n    </tr>\n    <tr>\n      <th>1</th>\n      <td>levobupivacaine</td>\n      <td>[[(levobupivacaine, C1E)]]</td>\n      <td>[levobupivacaine]</td>\n      <td>1</td>\n    </tr>\n    <tr>\n      <th>2</th>\n      <td>levobupivacainehcl</td>\n      <td>[[(levobupivacainehcl, C1E)]]</td>\n      <td>[levobupivacainehcl]</td>\n      <td>1</td>\n    </tr>\n    <tr>\n      <th>3</th>\n      <td>levobupivacainehcl</td>\n      <td>[[(levobupivacainehcl, C1E)]]</td>\n      <td>[levobupivacainehcl]</td>\n      <td>1</td>\n    </tr>\n    <tr>\n      <th>4</th>\n      <td>levobupivacainehydrochloride</td>\n      <td>[[(levobupivacainehydrochloride, C1E)]]</td>\n      <td>[levobupivacainehydrochloride]</td>\n      <td>1</td>\n    </tr>\n    <tr>\n      <th>5</th>\n      <td>(-)-nicardipine</td>\n      <td>[[((, C8S), (-, C8S), (), C8S), (-nicardipine,...</td>\n      <td>[(-)-nicardipine]</td>\n      <td>1</td>\n    </tr>\n    <tr>\n      <th>6</th>\n      <td>(-)-nicardipine</td>\n      <td>[[((, C8S), (-, C8S), (), C8S), (-nicardipine,...</td>\n      <td>[(-)-nicardipine]</td>\n      <td>1</td>\n    </tr>\n    <tr>\n      <th>7</th>\n      <td>(s)-nicardipine</td>\n      <td>[[((, C8S), (s, C8S), (), C8S), (-nicardipine,...</td>\n      <td>[(s)-nicardipine]</td>\n      <td>1</td>\n    </tr>\n    <tr>\n      <th>8</th>\n      <td>(s)-nicardipine</td>\n      <td>[[((, C8S), (s, C8S), (), C8S), (-nicardipine,...</td>\n      <td>[(s)-nicardipine]</td>\n      <td>1</td>\n    </tr>\n    <tr>\n      <th>9</th>\n      <td>(-)-nitrendipine</td>\n      <td>[[((, C8S), (-, C8S), (), C8S), (-nitrendipine...</td>\n      <td>[(-)-nitrendipine]</td>\n      <td>1</td>\n    </tr>\n  </tbody>\n</table>\n</div>"
     },
     "execution_count": 19,
     "metadata": {},
     "output_type": "execute_result"
    }
   ],
   "source": [
    "df.head(10)"
   ]
  },
  {
   "cell_type": "code",
   "execution_count": 20,
   "id": "f2d0beb32394818b",
   "metadata": {
    "collapsed": false,
    "ExecuteTime": {
     "end_time": "2024-03-18T20:35:47.272267Z",
     "start_time": "2024-03-18T20:35:47.114600Z"
    }
   },
   "outputs": [
    {
     "name": "stdout",
     "output_type": "stream",
     "text": [
      "Accuracy: 99.45%\n"
     ]
    }
   ],
   "source": [
    "def is_correct(term: str, extracted: list[str]) -> bool:\n",
    "    if not extracted:\n",
    "        return False\n",
    "    return term.replace(' ', '') == extracted[0]\n",
    "df['correct'] = df.apply(lambda row: is_correct(row['term'], row['extracted']), axis=1)\n",
    "print(f'Accuracy: {df.correct.mean():.2%}')"
   ]
  },
  {
   "cell_type": "code",
   "execution_count": 21,
   "id": "a24ecda350459642",
   "metadata": {
    "collapsed": false,
    "ExecuteTime": {
     "end_time": "2024-03-18T20:35:48.597962Z",
     "start_time": "2024-03-18T20:35:47.273290Z"
    }
   },
   "outputs": [],
   "source": [
    "df['term_token_count'] = df['term'].map(lambda term: len(nltk.word_tokenize(term)))"
   ]
  },
  {
   "cell_type": "code",
   "execution_count": 22,
   "id": "f7319219d0615388",
   "metadata": {
    "collapsed": false,
    "ExecuteTime": {
     "end_time": "2024-03-18T20:35:48.603111Z",
     "start_time": "2024-03-18T20:35:48.598962Z"
    }
   },
   "outputs": [
    {
     "data": {
      "text/plain": "term_token_count\n1     143\n4       4\n12      2\n3       2\nName: count, dtype: int64"
     },
     "execution_count": 22,
     "metadata": {},
     "output_type": "execute_result"
    }
   ],
   "source": [
    "df[df['extracted_count']==0].term_token_count.value_counts()"
   ]
  },
  {
   "cell_type": "code",
   "execution_count": 23,
   "id": "5907318b3563ca41",
   "metadata": {
    "collapsed": false,
    "ExecuteTime": {
     "end_time": "2024-03-18T20:35:48.623213Z",
     "start_time": "2024-03-18T20:35:48.603870Z"
    }
   },
   "outputs": [
    {
     "data": {
      "text/plain": "               term                   tree extracted  extracted_count  \\\n2308       caffeine      [(caffeine, C3S)]        []                0   \n2344        camphor       [(camphor, C6S)]        []                0   \n2571    carperitide   [(carperitide, C4S)]        []                0   \n4826       mannitol      [(mannitol, C3S)]        []                0   \n6834   griseofulvin  [(griseofulvin, C3S)]        []                0   \n...             ...                    ...       ...              ...   \n27060   tixagevimab   [(tixagevimab, C4S)]        []                0   \n27067    cilgavimab    [(cilgavimab, C4S)]        []                0   \n27090   nemolizumab   [(nemolizumab, C4S)]        []                0   \n27095  tremelimumab  [(tremelimumab, C4S)]        []                0   \n27305  ozoralizumab  [(ozoralizumab, C4S)]        []                0   \n\n       correct  term_token_count  \n2308     False                 1  \n2344     False                 1  \n2571     False                 1  \n4826     False                 1  \n6834     False                 1  \n...        ...               ...  \n27060    False                 1  \n27067    False                 1  \n27090    False                 1  \n27095    False                 1  \n27305    False                 1  \n\n[151 rows x 6 columns]",
      "text/html": "<div>\n<style scoped>\n    .dataframe tbody tr th:only-of-type {\n        vertical-align: middle;\n    }\n\n    .dataframe tbody tr th {\n        vertical-align: top;\n    }\n\n    .dataframe thead th {\n        text-align: right;\n    }\n</style>\n<table border=\"1\" class=\"dataframe\">\n  <thead>\n    <tr style=\"text-align: right;\">\n      <th></th>\n      <th>term</th>\n      <th>tree</th>\n      <th>extracted</th>\n      <th>extracted_count</th>\n      <th>correct</th>\n      <th>term_token_count</th>\n    </tr>\n  </thead>\n  <tbody>\n    <tr>\n      <th>2308</th>\n      <td>caffeine</td>\n      <td>[(caffeine, C3S)]</td>\n      <td>[]</td>\n      <td>0</td>\n      <td>False</td>\n      <td>1</td>\n    </tr>\n    <tr>\n      <th>2344</th>\n      <td>camphor</td>\n      <td>[(camphor, C6S)]</td>\n      <td>[]</td>\n      <td>0</td>\n      <td>False</td>\n      <td>1</td>\n    </tr>\n    <tr>\n      <th>2571</th>\n      <td>carperitide</td>\n      <td>[(carperitide, C4S)]</td>\n      <td>[]</td>\n      <td>0</td>\n      <td>False</td>\n      <td>1</td>\n    </tr>\n    <tr>\n      <th>4826</th>\n      <td>mannitol</td>\n      <td>[(mannitol, C3S)]</td>\n      <td>[]</td>\n      <td>0</td>\n      <td>False</td>\n      <td>1</td>\n    </tr>\n    <tr>\n      <th>6834</th>\n      <td>griseofulvin</td>\n      <td>[(griseofulvin, C3S)]</td>\n      <td>[]</td>\n      <td>0</td>\n      <td>False</td>\n      <td>1</td>\n    </tr>\n    <tr>\n      <th>...</th>\n      <td>...</td>\n      <td>...</td>\n      <td>...</td>\n      <td>...</td>\n      <td>...</td>\n      <td>...</td>\n    </tr>\n    <tr>\n      <th>27060</th>\n      <td>tixagevimab</td>\n      <td>[(tixagevimab, C4S)]</td>\n      <td>[]</td>\n      <td>0</td>\n      <td>False</td>\n      <td>1</td>\n    </tr>\n    <tr>\n      <th>27067</th>\n      <td>cilgavimab</td>\n      <td>[(cilgavimab, C4S)]</td>\n      <td>[]</td>\n      <td>0</td>\n      <td>False</td>\n      <td>1</td>\n    </tr>\n    <tr>\n      <th>27090</th>\n      <td>nemolizumab</td>\n      <td>[(nemolizumab, C4S)]</td>\n      <td>[]</td>\n      <td>0</td>\n      <td>False</td>\n      <td>1</td>\n    </tr>\n    <tr>\n      <th>27095</th>\n      <td>tremelimumab</td>\n      <td>[(tremelimumab, C4S)]</td>\n      <td>[]</td>\n      <td>0</td>\n      <td>False</td>\n      <td>1</td>\n    </tr>\n    <tr>\n      <th>27305</th>\n      <td>ozoralizumab</td>\n      <td>[(ozoralizumab, C4S)]</td>\n      <td>[]</td>\n      <td>0</td>\n      <td>False</td>\n      <td>1</td>\n    </tr>\n  </tbody>\n</table>\n<p>151 rows × 6 columns</p>\n</div>"
     },
     "execution_count": 23,
     "metadata": {},
     "output_type": "execute_result"
    }
   ],
   "source": [
    "_df = df[df['extracted_count']==0].copy()\n",
    "_df"
   ]
  },
  {
   "cell_type": "code",
   "execution_count": 24,
   "id": "c76a19df0e383701",
   "metadata": {
    "collapsed": false,
    "ExecuteTime": {
     "end_time": "2024-03-18T20:35:48.629993Z",
     "start_time": "2024-03-18T20:35:48.624086Z"
    }
   },
   "outputs": [
    {
     "data": {
      "text/plain": "Empty DataFrame\nColumns: [term, tree, extracted, extracted_count, correct, term_token_count]\nIndex: []",
      "text/html": "<div>\n<style scoped>\n    .dataframe tbody tr th:only-of-type {\n        vertical-align: middle;\n    }\n\n    .dataframe tbody tr th {\n        vertical-align: top;\n    }\n\n    .dataframe thead th {\n        text-align: right;\n    }\n</style>\n<table border=\"1\" class=\"dataframe\">\n  <thead>\n    <tr style=\"text-align: right;\">\n      <th></th>\n      <th>term</th>\n      <th>tree</th>\n      <th>extracted</th>\n      <th>extracted_count</th>\n      <th>correct</th>\n      <th>term_token_count</th>\n    </tr>\n  </thead>\n  <tbody>\n  </tbody>\n</table>\n</div>"
     },
     "execution_count": 24,
     "metadata": {},
     "output_type": "execute_result"
    }
   ],
   "source": [
    "_df[_df['term_token_count']==2]"
   ]
  },
  {
   "cell_type": "markdown",
   "source": [
    "# Create Chunker training data and ground truth"
   ],
   "metadata": {
    "collapsed": false
   },
   "id": "2ba8815b658833e6"
  },
  {
   "cell_type": "code",
   "outputs": [],
   "source": [
    "def create_group_tree(nodes: list[tuple[str, str]], group_tag: str = 'NP') ->nltk.Tree:\n",
    "    return nltk.Tree(group_tag, nodes)\n",
    "\n",
    "\n",
    "def get_random_filler_trees(words: list[str], size=3, tag='O') -> list[nltk.Tree]:\n",
    "    trees = []\n",
    "    selection = np.random.choice(words, size).tolist()\n",
    "    for word in selection:\n",
    "        # trees.append(nltk.Tree(word, [tag]))\n",
    "        trees.append((word, tag))\n",
    "    return trees\n",
    "\n",
    "\n",
    "def get_synonym_tags(tokens: list[str]) -> list[tuple[str, str]]:\n",
    "    \"\"\"Creates tags for a single synonym word, the word must be tokenized already.\"\"\"\n",
    "    synonym_tags = []\n",
    "    for token in tokens[:-1]:\n",
    "        synonym_tags.append((token, f'C{len(tokens)}S'))\n",
    "        \n",
    "    for token in tokens[-1:]:\n",
    "        synonym_tags.append((token, f'C{len(tokens)}E'))\n",
    "    return synonym_tags\n",
    "\n",
    "\n",
    "def split_summary_by_keywords(brief_summary: str, keywords: list[str]) -> str:\n",
    "    tokens = [brief_summary]\n",
    "    for keyword in keywords:\n",
    "        new_tokens = []\n",
    "        for token in tokens:\n",
    "            split_tokens = token.split(keyword)\n",
    "            for index, split_token in enumerate(split_tokens):\n",
    "                new_tokens.append(split_token)\n",
    "                if index < len(split_tokens) - 1:\n",
    "                    new_tokens.append(keyword)\n",
    "        tokens = new_tokens\n",
    "    return tokens\n",
    "\n",
    "\n",
    "def get_synonym_subtree(synonym):\n",
    "    tokens = nltk.word_tokenize(synonym)    \n",
    "    synonym_tags = get_synonym_tags(tokens)\n",
    "        \n",
    "    tree = create_group_tree(synonym_tags)\n",
    "    return tree\n",
    "\n",
    "\n",
    "def get_gt_tree(brief_summary: str, keywords: list[str]) -> nltk.Tree:\n",
    "    tokens = split_summary_by_keywords(brief_summary, keywords)\n",
    "    tree = []\n",
    "    for part in tokens:\n",
    "        if part in keywords:\n",
    "            tree.append(get_synonym_subtree(part))\n",
    "        else:\n",
    "            tree.extend([(t, 'O') for t in nltk.word_tokenize(part)])\n",
    "    return nltk.Tree('S', tree)\n"
   ],
   "metadata": {
    "collapsed": false,
    "ExecuteTime": {
     "end_time": "2024-03-18T20:35:48.636886Z",
     "start_time": "2024-03-18T20:35:48.630799Z"
    }
   },
   "id": "94cb0b04d039d70e",
   "execution_count": 25
  },
  {
   "cell_type": "markdown",
   "source": [
    "## Chunker training data\n",
    "\n",
    "Chunker training data is created by using the synonym lists to create tagged trees and interjecting random words which are labeled 'O'.\n"
   ],
   "metadata": {
    "collapsed": false
   },
   "id": "45054e727cf3e32c"
  },
  {
   "cell_type": "code",
   "outputs": [],
   "source": [
    "filler_words = util.prerpocess_text(\n",
    "    'The purpose of this study is to evaluate the safety and efficacy of 3 different doses of '\n",
    "    'administered in addition to standard therapy, in patients with active SLE disease.'\n",
    "# ).lower().split()\n",
    ")\n",
    "\n",
    "train_tree_synonyms = []\n",
    "for synonyms in synonyms_df['synonyms']:\n",
    "    trees = []\n",
    "    for synonym in synonyms:\n",
    "        tokens = nltk.word_tokenize(synonym)\n",
    "        synonym_tags = get_synonym_tags(tokens)\n",
    "            \n",
    "        tree = create_group_tree(synonym_tags)\n",
    "        trees.append(tree)\n",
    "        \n",
    "        trees.extend(get_random_filler_trees(filler_words))\n",
    "    \n",
    "    \n",
    "    train_tree_synonyms.append(nltk.Tree('S', trees))\n",
    "        "
   ],
   "metadata": {
    "collapsed": false,
    "ExecuteTime": {
     "end_time": "2024-03-18T20:35:50.941956Z",
     "start_time": "2024-03-18T20:35:48.637682Z"
    }
   },
   "id": "57ebf1b01441d686",
   "execution_count": 26
  },
  {
   "cell_type": "code",
   "outputs": [],
   "source": [
    "assert max([t.height() for t in train_tree_synonyms]) == 3"
   ],
   "metadata": {
    "collapsed": false,
    "ExecuteTime": {
     "end_time": "2024-03-18T20:35:50.980837Z",
     "start_time": "2024-03-18T20:35:50.945504Z"
    }
   },
   "id": "6bc0320cf6fae9b3",
   "execution_count": 27
  },
  {
   "cell_type": "code",
   "outputs": [],
   "source": [
    "# Check that tree height is at most 3.\n",
    "# for index, tree in enumerate(train_tree_synonyms):\n",
    "#     if tree.height()>3:\n",
    "#         print('found')\n",
    "#         break"
   ],
   "metadata": {
    "collapsed": false,
    "ExecuteTime": {
     "end_time": "2024-03-18T20:35:50.983420Z",
     "start_time": "2024-03-18T20:35:50.981661Z"
    }
   },
   "id": "6b698a6da144483",
   "execution_count": 28
  },
  {
   "cell_type": "code",
   "outputs": [
    {
     "data": {
      "text/plain": "Tree('S', [Tree('NP', [('(', 'C4S'), ('-', 'C4S'), (')', 'C4S'), ('-nicardipine', 'C4E')]), ('in', 'O'), ('therapy', 'O'), (',', 'O'), Tree('NP', [('(', 'C4S'), ('-', 'C4S'), (')', 'C4S'), ('-nicardipine', 'C4E')]), ('disease', 'O'), ('doses', 'O'), ('efficacy', 'O'), Tree('NP', [('(', 'C4S'), ('s', 'C4S'), (')', 'C4S'), ('-nicardipine', 'C4E')]), ('3', 'O'), ('disease', 'O'), ('doses', 'O'), Tree('NP', [('(', 'C4S'), ('s', 'C4S'), (')', 'C4S'), ('-nicardipine', 'C4E')]), ('to', 'O'), ('evaluate', 'O'), ('disease', 'O')])",
      "image/svg+xml": "<svg baseProfile=\"full\" height=\"168px\" preserveAspectRatio=\"xMidYMid meet\" style=\"font-family: times, serif; font-weight: normal; font-style: normal; font-size: 16px;\" version=\"1.1\" viewBox=\"0,0,1600.0,168.0\" width=\"1600px\" xmlns=\"http://www.w3.org/2000/svg\" xmlns:ev=\"http://www.w3.org/2001/xml-events\" xmlns:xlink=\"http://www.w3.org/1999/xlink\"><defs /><svg width=\"100%\" x=\"0\" y=\"0px\"><defs /><text text-anchor=\"middle\" x=\"50%\" y=\"16px\">S</text></svg><svg width=\"14.5%\" x=\"0%\" y=\"48px\"><defs /><svg width=\"100%\" x=\"0\" y=\"0px\"><defs /><text text-anchor=\"middle\" x=\"50%\" y=\"16px\">NP</text></svg><svg width=\"17.2414%\" x=\"0%\" y=\"48px\"><defs /><svg width=\"100%\" x=\"0\" y=\"0px\"><defs /><text text-anchor=\"middle\" x=\"50%\" y=\"16px\">(</text></svg><svg width=\"100%\" x=\"0%\" y=\"48px\"><defs /><svg width=\"100%\" x=\"0\" y=\"0px\"><defs /><text text-anchor=\"middle\" x=\"50%\" y=\"16px\">C4S</text></svg></svg><line stroke=\"black\" x1=\"50%\" x2=\"50%\" y1=\"19.2px\" y2=\"48px\" /></svg><line stroke=\"black\" x1=\"50%\" x2=\"8.62069%\" y1=\"19.2px\" y2=\"48px\" /><svg width=\"17.2414%\" x=\"17.2414%\" y=\"48px\"><defs /><svg width=\"100%\" x=\"0\" y=\"0px\"><defs /><text text-anchor=\"middle\" x=\"50%\" y=\"16px\">-</text></svg><svg width=\"100%\" x=\"0%\" y=\"48px\"><defs /><svg width=\"100%\" x=\"0\" y=\"0px\"><defs /><text text-anchor=\"middle\" x=\"50%\" y=\"16px\">C4S</text></svg></svg><line stroke=\"black\" x1=\"50%\" x2=\"50%\" y1=\"19.2px\" y2=\"48px\" /></svg><line stroke=\"black\" x1=\"50%\" x2=\"25.8621%\" y1=\"19.2px\" y2=\"48px\" /><svg width=\"17.2414%\" x=\"34.4828%\" y=\"48px\"><defs /><svg width=\"100%\" x=\"0\" y=\"0px\"><defs /><text text-anchor=\"middle\" x=\"50%\" y=\"16px\">)</text></svg><svg width=\"100%\" x=\"0%\" y=\"48px\"><defs /><svg width=\"100%\" x=\"0\" y=\"0px\"><defs /><text text-anchor=\"middle\" x=\"50%\" y=\"16px\">C4S</text></svg></svg><line stroke=\"black\" x1=\"50%\" x2=\"50%\" y1=\"19.2px\" y2=\"48px\" /></svg><line stroke=\"black\" x1=\"50%\" x2=\"43.1034%\" y1=\"19.2px\" y2=\"48px\" /><svg width=\"48.2759%\" x=\"51.7241%\" y=\"48px\"><defs /><svg width=\"100%\" x=\"0\" y=\"0px\"><defs /><text text-anchor=\"middle\" x=\"50%\" y=\"16px\">-nicardipine</text></svg><svg width=\"100%\" x=\"0%\" y=\"48px\"><defs /><svg width=\"100%\" x=\"0\" y=\"0px\"><defs /><text text-anchor=\"middle\" x=\"50%\" y=\"16px\">C4E</text></svg></svg><line stroke=\"black\" x1=\"50%\" x2=\"50%\" y1=\"19.2px\" y2=\"48px\" /></svg><line stroke=\"black\" x1=\"50%\" x2=\"75.8621%\" y1=\"19.2px\" y2=\"48px\" /></svg><line stroke=\"black\" x1=\"50%\" x2=\"7.25%\" y1=\"19.2px\" y2=\"48px\" /><svg width=\"2%\" x=\"14.5%\" y=\"48px\"><defs /><svg width=\"100%\" x=\"0\" y=\"0px\"><defs /><text text-anchor=\"middle\" x=\"50%\" y=\"16px\">in</text></svg><svg width=\"100%\" x=\"0%\" y=\"48px\"><defs /><svg width=\"100%\" x=\"0\" y=\"0px\"><defs /><text text-anchor=\"middle\" x=\"50%\" y=\"16px\">O</text></svg></svg><line stroke=\"black\" x1=\"50%\" x2=\"50%\" y1=\"19.2px\" y2=\"48px\" /></svg><line stroke=\"black\" x1=\"50%\" x2=\"15.5%\" y1=\"19.2px\" y2=\"48px\" /><svg width=\"4.5%\" x=\"16.5%\" y=\"48px\"><defs /><svg width=\"100%\" x=\"0\" y=\"0px\"><defs /><text text-anchor=\"middle\" x=\"50%\" y=\"16px\">therapy</text></svg><svg width=\"100%\" x=\"0%\" y=\"48px\"><defs /><svg width=\"100%\" x=\"0\" y=\"0px\"><defs /><text text-anchor=\"middle\" x=\"50%\" y=\"16px\">O</text></svg></svg><line stroke=\"black\" x1=\"50%\" x2=\"50%\" y1=\"19.2px\" y2=\"48px\" /></svg><line stroke=\"black\" x1=\"50%\" x2=\"18.75%\" y1=\"19.2px\" y2=\"48px\" /><svg width=\"1.5%\" x=\"21%\" y=\"48px\"><defs /><svg width=\"100%\" x=\"0\" y=\"0px\"><defs /><text text-anchor=\"middle\" x=\"50%\" y=\"16px\">,</text></svg><svg width=\"100%\" x=\"0%\" y=\"48px\"><defs /><svg width=\"100%\" x=\"0\" y=\"0px\"><defs /><text text-anchor=\"middle\" x=\"50%\" y=\"16px\">O</text></svg></svg><line stroke=\"black\" x1=\"50%\" x2=\"50%\" y1=\"19.2px\" y2=\"48px\" /></svg><line stroke=\"black\" x1=\"50%\" x2=\"21.75%\" y1=\"19.2px\" y2=\"48px\" /><svg width=\"14.5%\" x=\"22.5%\" y=\"48px\"><defs /><svg width=\"100%\" x=\"0\" y=\"0px\"><defs /><text text-anchor=\"middle\" x=\"50%\" y=\"16px\">NP</text></svg><svg width=\"17.2414%\" x=\"0%\" y=\"48px\"><defs /><svg width=\"100%\" x=\"0\" y=\"0px\"><defs /><text text-anchor=\"middle\" x=\"50%\" y=\"16px\">(</text></svg><svg width=\"100%\" x=\"0%\" y=\"48px\"><defs /><svg width=\"100%\" x=\"0\" y=\"0px\"><defs /><text text-anchor=\"middle\" x=\"50%\" y=\"16px\">C4S</text></svg></svg><line stroke=\"black\" x1=\"50%\" x2=\"50%\" y1=\"19.2px\" y2=\"48px\" /></svg><line stroke=\"black\" x1=\"50%\" x2=\"8.62069%\" y1=\"19.2px\" y2=\"48px\" /><svg width=\"17.2414%\" x=\"17.2414%\" y=\"48px\"><defs /><svg width=\"100%\" x=\"0\" y=\"0px\"><defs /><text text-anchor=\"middle\" x=\"50%\" y=\"16px\">-</text></svg><svg width=\"100%\" x=\"0%\" y=\"48px\"><defs /><svg width=\"100%\" x=\"0\" y=\"0px\"><defs /><text text-anchor=\"middle\" x=\"50%\" y=\"16px\">C4S</text></svg></svg><line stroke=\"black\" x1=\"50%\" x2=\"50%\" y1=\"19.2px\" y2=\"48px\" /></svg><line stroke=\"black\" x1=\"50%\" x2=\"25.8621%\" y1=\"19.2px\" y2=\"48px\" /><svg width=\"17.2414%\" x=\"34.4828%\" y=\"48px\"><defs /><svg width=\"100%\" x=\"0\" y=\"0px\"><defs /><text text-anchor=\"middle\" x=\"50%\" y=\"16px\">)</text></svg><svg width=\"100%\" x=\"0%\" y=\"48px\"><defs /><svg width=\"100%\" x=\"0\" y=\"0px\"><defs /><text text-anchor=\"middle\" x=\"50%\" y=\"16px\">C4S</text></svg></svg><line stroke=\"black\" x1=\"50%\" x2=\"50%\" y1=\"19.2px\" y2=\"48px\" /></svg><line stroke=\"black\" x1=\"50%\" x2=\"43.1034%\" y1=\"19.2px\" y2=\"48px\" /><svg width=\"48.2759%\" x=\"51.7241%\" y=\"48px\"><defs /><svg width=\"100%\" x=\"0\" y=\"0px\"><defs /><text text-anchor=\"middle\" x=\"50%\" y=\"16px\">-nicardipine</text></svg><svg width=\"100%\" x=\"0%\" y=\"48px\"><defs /><svg width=\"100%\" x=\"0\" y=\"0px\"><defs /><text text-anchor=\"middle\" x=\"50%\" y=\"16px\">C4E</text></svg></svg><line stroke=\"black\" x1=\"50%\" x2=\"50%\" y1=\"19.2px\" y2=\"48px\" /></svg><line stroke=\"black\" x1=\"50%\" x2=\"75.8621%\" y1=\"19.2px\" y2=\"48px\" /></svg><line stroke=\"black\" x1=\"50%\" x2=\"29.75%\" y1=\"19.2px\" y2=\"48px\" /><svg width=\"4.5%\" x=\"37%\" y=\"48px\"><defs /><svg width=\"100%\" x=\"0\" y=\"0px\"><defs /><text text-anchor=\"middle\" x=\"50%\" y=\"16px\">disease</text></svg><svg width=\"100%\" x=\"0%\" y=\"48px\"><defs /><svg width=\"100%\" x=\"0\" y=\"0px\"><defs /><text text-anchor=\"middle\" x=\"50%\" y=\"16px\">O</text></svg></svg><line stroke=\"black\" x1=\"50%\" x2=\"50%\" y1=\"19.2px\" y2=\"48px\" /></svg><line stroke=\"black\" x1=\"50%\" x2=\"39.25%\" y1=\"19.2px\" y2=\"48px\" /><svg width=\"3.5%\" x=\"41.5%\" y=\"48px\"><defs /><svg width=\"100%\" x=\"0\" y=\"0px\"><defs /><text text-anchor=\"middle\" x=\"50%\" y=\"16px\">doses</text></svg><svg width=\"100%\" x=\"0%\" y=\"48px\"><defs /><svg width=\"100%\" x=\"0\" y=\"0px\"><defs /><text text-anchor=\"middle\" x=\"50%\" y=\"16px\">O</text></svg></svg><line stroke=\"black\" x1=\"50%\" x2=\"50%\" y1=\"19.2px\" y2=\"48px\" /></svg><line stroke=\"black\" x1=\"50%\" x2=\"43.25%\" y1=\"19.2px\" y2=\"48px\" /><svg width=\"5%\" x=\"45%\" y=\"48px\"><defs /><svg width=\"100%\" x=\"0\" y=\"0px\"><defs /><text text-anchor=\"middle\" x=\"50%\" y=\"16px\">efficacy</text></svg><svg width=\"100%\" x=\"0%\" y=\"48px\"><defs /><svg width=\"100%\" x=\"0\" y=\"0px\"><defs /><text text-anchor=\"middle\" x=\"50%\" y=\"16px\">O</text></svg></svg><line stroke=\"black\" x1=\"50%\" x2=\"50%\" y1=\"19.2px\" y2=\"48px\" /></svg><line stroke=\"black\" x1=\"50%\" x2=\"47.5%\" y1=\"19.2px\" y2=\"48px\" /><svg width=\"14.5%\" x=\"50%\" y=\"48px\"><defs /><svg width=\"100%\" x=\"0\" y=\"0px\"><defs /><text text-anchor=\"middle\" x=\"50%\" y=\"16px\">NP</text></svg><svg width=\"17.2414%\" x=\"0%\" y=\"48px\"><defs /><svg width=\"100%\" x=\"0\" y=\"0px\"><defs /><text text-anchor=\"middle\" x=\"50%\" y=\"16px\">(</text></svg><svg width=\"100%\" x=\"0%\" y=\"48px\"><defs /><svg width=\"100%\" x=\"0\" y=\"0px\"><defs /><text text-anchor=\"middle\" x=\"50%\" y=\"16px\">C4S</text></svg></svg><line stroke=\"black\" x1=\"50%\" x2=\"50%\" y1=\"19.2px\" y2=\"48px\" /></svg><line stroke=\"black\" x1=\"50%\" x2=\"8.62069%\" y1=\"19.2px\" y2=\"48px\" /><svg width=\"17.2414%\" x=\"17.2414%\" y=\"48px\"><defs /><svg width=\"100%\" x=\"0\" y=\"0px\"><defs /><text text-anchor=\"middle\" x=\"50%\" y=\"16px\">s</text></svg><svg width=\"100%\" x=\"0%\" y=\"48px\"><defs /><svg width=\"100%\" x=\"0\" y=\"0px\"><defs /><text text-anchor=\"middle\" x=\"50%\" y=\"16px\">C4S</text></svg></svg><line stroke=\"black\" x1=\"50%\" x2=\"50%\" y1=\"19.2px\" y2=\"48px\" /></svg><line stroke=\"black\" x1=\"50%\" x2=\"25.8621%\" y1=\"19.2px\" y2=\"48px\" /><svg width=\"17.2414%\" x=\"34.4828%\" y=\"48px\"><defs /><svg width=\"100%\" x=\"0\" y=\"0px\"><defs /><text text-anchor=\"middle\" x=\"50%\" y=\"16px\">)</text></svg><svg width=\"100%\" x=\"0%\" y=\"48px\"><defs /><svg width=\"100%\" x=\"0\" y=\"0px\"><defs /><text text-anchor=\"middle\" x=\"50%\" y=\"16px\">C4S</text></svg></svg><line stroke=\"black\" x1=\"50%\" x2=\"50%\" y1=\"19.2px\" y2=\"48px\" /></svg><line stroke=\"black\" x1=\"50%\" x2=\"43.1034%\" y1=\"19.2px\" y2=\"48px\" /><svg width=\"48.2759%\" x=\"51.7241%\" y=\"48px\"><defs /><svg width=\"100%\" x=\"0\" y=\"0px\"><defs /><text text-anchor=\"middle\" x=\"50%\" y=\"16px\">-nicardipine</text></svg><svg width=\"100%\" x=\"0%\" y=\"48px\"><defs /><svg width=\"100%\" x=\"0\" y=\"0px\"><defs /><text text-anchor=\"middle\" x=\"50%\" y=\"16px\">C4E</text></svg></svg><line stroke=\"black\" x1=\"50%\" x2=\"50%\" y1=\"19.2px\" y2=\"48px\" /></svg><line stroke=\"black\" x1=\"50%\" x2=\"75.8621%\" y1=\"19.2px\" y2=\"48px\" /></svg><line stroke=\"black\" x1=\"50%\" x2=\"57.25%\" y1=\"19.2px\" y2=\"48px\" /><svg width=\"1.5%\" x=\"64.5%\" y=\"48px\"><defs /><svg width=\"100%\" x=\"0\" y=\"0px\"><defs /><text text-anchor=\"middle\" x=\"50%\" y=\"16px\">3</text></svg><svg width=\"100%\" x=\"0%\" y=\"48px\"><defs /><svg width=\"100%\" x=\"0\" y=\"0px\"><defs /><text text-anchor=\"middle\" x=\"50%\" y=\"16px\">O</text></svg></svg><line stroke=\"black\" x1=\"50%\" x2=\"50%\" y1=\"19.2px\" y2=\"48px\" /></svg><line stroke=\"black\" x1=\"50%\" x2=\"65.25%\" y1=\"19.2px\" y2=\"48px\" /><svg width=\"4.5%\" x=\"66%\" y=\"48px\"><defs /><svg width=\"100%\" x=\"0\" y=\"0px\"><defs /><text text-anchor=\"middle\" x=\"50%\" y=\"16px\">disease</text></svg><svg width=\"100%\" x=\"0%\" y=\"48px\"><defs /><svg width=\"100%\" x=\"0\" y=\"0px\"><defs /><text text-anchor=\"middle\" x=\"50%\" y=\"16px\">O</text></svg></svg><line stroke=\"black\" x1=\"50%\" x2=\"50%\" y1=\"19.2px\" y2=\"48px\" /></svg><line stroke=\"black\" x1=\"50%\" x2=\"68.25%\" y1=\"19.2px\" y2=\"48px\" /><svg width=\"3.5%\" x=\"70.5%\" y=\"48px\"><defs /><svg width=\"100%\" x=\"0\" y=\"0px\"><defs /><text text-anchor=\"middle\" x=\"50%\" y=\"16px\">doses</text></svg><svg width=\"100%\" x=\"0%\" y=\"48px\"><defs /><svg width=\"100%\" x=\"0\" y=\"0px\"><defs /><text text-anchor=\"middle\" x=\"50%\" y=\"16px\">O</text></svg></svg><line stroke=\"black\" x1=\"50%\" x2=\"50%\" y1=\"19.2px\" y2=\"48px\" /></svg><line stroke=\"black\" x1=\"50%\" x2=\"72.25%\" y1=\"19.2px\" y2=\"48px\" /><svg width=\"14.5%\" x=\"74%\" y=\"48px\"><defs /><svg width=\"100%\" x=\"0\" y=\"0px\"><defs /><text text-anchor=\"middle\" x=\"50%\" y=\"16px\">NP</text></svg><svg width=\"17.2414%\" x=\"0%\" y=\"48px\"><defs /><svg width=\"100%\" x=\"0\" y=\"0px\"><defs /><text text-anchor=\"middle\" x=\"50%\" y=\"16px\">(</text></svg><svg width=\"100%\" x=\"0%\" y=\"48px\"><defs /><svg width=\"100%\" x=\"0\" y=\"0px\"><defs /><text text-anchor=\"middle\" x=\"50%\" y=\"16px\">C4S</text></svg></svg><line stroke=\"black\" x1=\"50%\" x2=\"50%\" y1=\"19.2px\" y2=\"48px\" /></svg><line stroke=\"black\" x1=\"50%\" x2=\"8.62069%\" y1=\"19.2px\" y2=\"48px\" /><svg width=\"17.2414%\" x=\"17.2414%\" y=\"48px\"><defs /><svg width=\"100%\" x=\"0\" y=\"0px\"><defs /><text text-anchor=\"middle\" x=\"50%\" y=\"16px\">s</text></svg><svg width=\"100%\" x=\"0%\" y=\"48px\"><defs /><svg width=\"100%\" x=\"0\" y=\"0px\"><defs /><text text-anchor=\"middle\" x=\"50%\" y=\"16px\">C4S</text></svg></svg><line stroke=\"black\" x1=\"50%\" x2=\"50%\" y1=\"19.2px\" y2=\"48px\" /></svg><line stroke=\"black\" x1=\"50%\" x2=\"25.8621%\" y1=\"19.2px\" y2=\"48px\" /><svg width=\"17.2414%\" x=\"34.4828%\" y=\"48px\"><defs /><svg width=\"100%\" x=\"0\" y=\"0px\"><defs /><text text-anchor=\"middle\" x=\"50%\" y=\"16px\">)</text></svg><svg width=\"100%\" x=\"0%\" y=\"48px\"><defs /><svg width=\"100%\" x=\"0\" y=\"0px\"><defs /><text text-anchor=\"middle\" x=\"50%\" y=\"16px\">C4S</text></svg></svg><line stroke=\"black\" x1=\"50%\" x2=\"50%\" y1=\"19.2px\" y2=\"48px\" /></svg><line stroke=\"black\" x1=\"50%\" x2=\"43.1034%\" y1=\"19.2px\" y2=\"48px\" /><svg width=\"48.2759%\" x=\"51.7241%\" y=\"48px\"><defs /><svg width=\"100%\" x=\"0\" y=\"0px\"><defs /><text text-anchor=\"middle\" x=\"50%\" y=\"16px\">-nicardipine</text></svg><svg width=\"100%\" x=\"0%\" y=\"48px\"><defs /><svg width=\"100%\" x=\"0\" y=\"0px\"><defs /><text text-anchor=\"middle\" x=\"50%\" y=\"16px\">C4E</text></svg></svg><line stroke=\"black\" x1=\"50%\" x2=\"50%\" y1=\"19.2px\" y2=\"48px\" /></svg><line stroke=\"black\" x1=\"50%\" x2=\"75.8621%\" y1=\"19.2px\" y2=\"48px\" /></svg><line stroke=\"black\" x1=\"50%\" x2=\"81.25%\" y1=\"19.2px\" y2=\"48px\" /><svg width=\"2%\" x=\"88.5%\" y=\"48px\"><defs /><svg width=\"100%\" x=\"0\" y=\"0px\"><defs /><text text-anchor=\"middle\" x=\"50%\" y=\"16px\">to</text></svg><svg width=\"100%\" x=\"0%\" y=\"48px\"><defs /><svg width=\"100%\" x=\"0\" y=\"0px\"><defs /><text text-anchor=\"middle\" x=\"50%\" y=\"16px\">O</text></svg></svg><line stroke=\"black\" x1=\"50%\" x2=\"50%\" y1=\"19.2px\" y2=\"48px\" /></svg><line stroke=\"black\" x1=\"50%\" x2=\"89.5%\" y1=\"19.2px\" y2=\"48px\" /><svg width=\"5%\" x=\"90.5%\" y=\"48px\"><defs /><svg width=\"100%\" x=\"0\" y=\"0px\"><defs /><text text-anchor=\"middle\" x=\"50%\" y=\"16px\">evaluate</text></svg><svg width=\"100%\" x=\"0%\" y=\"48px\"><defs /><svg width=\"100%\" x=\"0\" y=\"0px\"><defs /><text text-anchor=\"middle\" x=\"50%\" y=\"16px\">O</text></svg></svg><line stroke=\"black\" x1=\"50%\" x2=\"50%\" y1=\"19.2px\" y2=\"48px\" /></svg><line stroke=\"black\" x1=\"50%\" x2=\"93%\" y1=\"19.2px\" y2=\"48px\" /><svg width=\"4.5%\" x=\"95.5%\" y=\"48px\"><defs /><svg width=\"100%\" x=\"0\" y=\"0px\"><defs /><text text-anchor=\"middle\" x=\"50%\" y=\"16px\">disease</text></svg><svg width=\"100%\" x=\"0%\" y=\"48px\"><defs /><svg width=\"100%\" x=\"0\" y=\"0px\"><defs /><text text-anchor=\"middle\" x=\"50%\" y=\"16px\">O</text></svg></svg><line stroke=\"black\" x1=\"50%\" x2=\"50%\" y1=\"19.2px\" y2=\"48px\" /></svg><line stroke=\"black\" x1=\"50%\" x2=\"97.75%\" y1=\"19.2px\" y2=\"48px\" /></svg>"
     },
     "execution_count": 29,
     "metadata": {},
     "output_type": "execute_result"
    }
   ],
   "source": [
    "train_tree_synonyms[1]"
   ],
   "metadata": {
    "collapsed": false,
    "ExecuteTime": {
     "end_time": "2024-03-18T20:35:51.033420Z",
     "start_time": "2024-03-18T20:35:50.984213Z"
    }
   },
   "id": "23897ba5d90ddc48",
   "execution_count": 29
  },
  {
   "cell_type": "markdown",
   "source": [
    "## Chunker ground truth data"
   ],
   "metadata": {
    "collapsed": false
   },
   "id": "70dd7dae6e837b47"
  },
  {
   "cell_type": "code",
   "outputs": [],
   "source": [
    "tagger = taggers[-1]\n",
    "test_trees_gt = []\n",
    "for _, row in summaries.iterrows():\n",
    "    nct_id = row['nct_id']\n",
    "    keywords = [kw.lower() for kw in ground_truth[nct_id]]\n",
    "    brief_summary_raw = row['brief_summary_raw'].lower()\n",
    "    \n",
    "    tree = get_gt_tree(brief_summary_raw, keywords)\n",
    "    assert ''.join(split_summary_by_keywords(brief_summary_raw, keywords)) == brief_summary_raw\n",
    "    test_trees_gt.append(tree)"
   ],
   "metadata": {
    "collapsed": false,
    "ExecuteTime": {
     "end_time": "2024-03-18T20:35:51.060048Z",
     "start_time": "2024-03-18T20:35:51.034361Z"
    }
   },
   "id": "9074e0408b56101",
   "execution_count": 30
  },
  {
   "cell_type": "code",
   "outputs": [
    {
     "data": {
      "text/plain": "Tree('S', [('the', 'O'), ('purpose', 'O'), ('of', 'O'), ('this', 'O'), ('study', 'O'), ('is', 'O'), ('to', 'O'), ('examine', 'O'), ('the', 'O'), ('safety', 'O'), ('and', 'O'), ('efficacy', 'O'), ('of', 'O'), Tree('NP', [('cnto', 'C2S'), ('1275', 'C2E')]), ('in', 'O'), ('participants', 'O'), ('with', 'O'), ('active', 'O'), ('crohn', 'O'), (\"'s\", 'O'), ('disease', 'O'), ('.', 'O')])",
      "image/svg+xml": "<svg baseProfile=\"full\" height=\"168px\" preserveAspectRatio=\"xMidYMid meet\" style=\"font-family: times, serif; font-weight: normal; font-style: normal; font-size: 16px;\" version=\"1.1\" viewBox=\"0,0,1176.0,168.0\" width=\"1176px\" xmlns=\"http://www.w3.org/2000/svg\" xmlns:ev=\"http://www.w3.org/2001/xml-events\" xmlns:xlink=\"http://www.w3.org/1999/xlink\"><defs /><svg width=\"100%\" x=\"0\" y=\"0px\"><defs /><text text-anchor=\"middle\" x=\"50%\" y=\"16px\">S</text></svg><svg width=\"3.40136%\" x=\"0%\" y=\"48px\"><defs /><svg width=\"100%\" x=\"0\" y=\"0px\"><defs /><text text-anchor=\"middle\" x=\"50%\" y=\"16px\">the</text></svg><svg width=\"100%\" x=\"0%\" y=\"48px\"><defs /><svg width=\"100%\" x=\"0\" y=\"0px\"><defs /><text text-anchor=\"middle\" x=\"50%\" y=\"16px\">O</text></svg></svg><line stroke=\"black\" x1=\"50%\" x2=\"50%\" y1=\"19.2px\" y2=\"48px\" /></svg><line stroke=\"black\" x1=\"50%\" x2=\"1.70068%\" y1=\"19.2px\" y2=\"48px\" /><svg width=\"6.12245%\" x=\"3.40136%\" y=\"48px\"><defs /><svg width=\"100%\" x=\"0\" y=\"0px\"><defs /><text text-anchor=\"middle\" x=\"50%\" y=\"16px\">purpose</text></svg><svg width=\"100%\" x=\"0%\" y=\"48px\"><defs /><svg width=\"100%\" x=\"0\" y=\"0px\"><defs /><text text-anchor=\"middle\" x=\"50%\" y=\"16px\">O</text></svg></svg><line stroke=\"black\" x1=\"50%\" x2=\"50%\" y1=\"19.2px\" y2=\"48px\" /></svg><line stroke=\"black\" x1=\"50%\" x2=\"6.46259%\" y1=\"19.2px\" y2=\"48px\" /><svg width=\"2.72109%\" x=\"9.52381%\" y=\"48px\"><defs /><svg width=\"100%\" x=\"0\" y=\"0px\"><defs /><text text-anchor=\"middle\" x=\"50%\" y=\"16px\">of</text></svg><svg width=\"100%\" x=\"0%\" y=\"48px\"><defs /><svg width=\"100%\" x=\"0\" y=\"0px\"><defs /><text text-anchor=\"middle\" x=\"50%\" y=\"16px\">O</text></svg></svg><line stroke=\"black\" x1=\"50%\" x2=\"50%\" y1=\"19.2px\" y2=\"48px\" /></svg><line stroke=\"black\" x1=\"50%\" x2=\"10.8844%\" y1=\"19.2px\" y2=\"48px\" /><svg width=\"4.08163%\" x=\"12.2449%\" y=\"48px\"><defs /><svg width=\"100%\" x=\"0\" y=\"0px\"><defs /><text text-anchor=\"middle\" x=\"50%\" y=\"16px\">this</text></svg><svg width=\"100%\" x=\"0%\" y=\"48px\"><defs /><svg width=\"100%\" x=\"0\" y=\"0px\"><defs /><text text-anchor=\"middle\" x=\"50%\" y=\"16px\">O</text></svg></svg><line stroke=\"black\" x1=\"50%\" x2=\"50%\" y1=\"19.2px\" y2=\"48px\" /></svg><line stroke=\"black\" x1=\"50%\" x2=\"14.2857%\" y1=\"19.2px\" y2=\"48px\" /><svg width=\"4.7619%\" x=\"16.3265%\" y=\"48px\"><defs /><svg width=\"100%\" x=\"0\" y=\"0px\"><defs /><text text-anchor=\"middle\" x=\"50%\" y=\"16px\">study</text></svg><svg width=\"100%\" x=\"0%\" y=\"48px\"><defs /><svg width=\"100%\" x=\"0\" y=\"0px\"><defs /><text text-anchor=\"middle\" x=\"50%\" y=\"16px\">O</text></svg></svg><line stroke=\"black\" x1=\"50%\" x2=\"50%\" y1=\"19.2px\" y2=\"48px\" /></svg><line stroke=\"black\" x1=\"50%\" x2=\"18.7075%\" y1=\"19.2px\" y2=\"48px\" /><svg width=\"2.72109%\" x=\"21.0884%\" y=\"48px\"><defs /><svg width=\"100%\" x=\"0\" y=\"0px\"><defs /><text text-anchor=\"middle\" x=\"50%\" y=\"16px\">is</text></svg><svg width=\"100%\" x=\"0%\" y=\"48px\"><defs /><svg width=\"100%\" x=\"0\" y=\"0px\"><defs /><text text-anchor=\"middle\" x=\"50%\" y=\"16px\">O</text></svg></svg><line stroke=\"black\" x1=\"50%\" x2=\"50%\" y1=\"19.2px\" y2=\"48px\" /></svg><line stroke=\"black\" x1=\"50%\" x2=\"22.449%\" y1=\"19.2px\" y2=\"48px\" /><svg width=\"2.72109%\" x=\"23.8095%\" y=\"48px\"><defs /><svg width=\"100%\" x=\"0\" y=\"0px\"><defs /><text text-anchor=\"middle\" x=\"50%\" y=\"16px\">to</text></svg><svg width=\"100%\" x=\"0%\" y=\"48px\"><defs /><svg width=\"100%\" x=\"0\" y=\"0px\"><defs /><text text-anchor=\"middle\" x=\"50%\" y=\"16px\">O</text></svg></svg><line stroke=\"black\" x1=\"50%\" x2=\"50%\" y1=\"19.2px\" y2=\"48px\" /></svg><line stroke=\"black\" x1=\"50%\" x2=\"25.1701%\" y1=\"19.2px\" y2=\"48px\" /><svg width=\"6.12245%\" x=\"26.5306%\" y=\"48px\"><defs /><svg width=\"100%\" x=\"0\" y=\"0px\"><defs /><text text-anchor=\"middle\" x=\"50%\" y=\"16px\">examine</text></svg><svg width=\"100%\" x=\"0%\" y=\"48px\"><defs /><svg width=\"100%\" x=\"0\" y=\"0px\"><defs /><text text-anchor=\"middle\" x=\"50%\" y=\"16px\">O</text></svg></svg><line stroke=\"black\" x1=\"50%\" x2=\"50%\" y1=\"19.2px\" y2=\"48px\" /></svg><line stroke=\"black\" x1=\"50%\" x2=\"29.5918%\" y1=\"19.2px\" y2=\"48px\" /><svg width=\"3.40136%\" x=\"32.6531%\" y=\"48px\"><defs /><svg width=\"100%\" x=\"0\" y=\"0px\"><defs /><text text-anchor=\"middle\" x=\"50%\" y=\"16px\">the</text></svg><svg width=\"100%\" x=\"0%\" y=\"48px\"><defs /><svg width=\"100%\" x=\"0\" y=\"0px\"><defs /><text text-anchor=\"middle\" x=\"50%\" y=\"16px\">O</text></svg></svg><line stroke=\"black\" x1=\"50%\" x2=\"50%\" y1=\"19.2px\" y2=\"48px\" /></svg><line stroke=\"black\" x1=\"50%\" x2=\"34.3537%\" y1=\"19.2px\" y2=\"48px\" /><svg width=\"5.44218%\" x=\"36.0544%\" y=\"48px\"><defs /><svg width=\"100%\" x=\"0\" y=\"0px\"><defs /><text text-anchor=\"middle\" x=\"50%\" y=\"16px\">safety</text></svg><svg width=\"100%\" x=\"0%\" y=\"48px\"><defs /><svg width=\"100%\" x=\"0\" y=\"0px\"><defs /><text text-anchor=\"middle\" x=\"50%\" y=\"16px\">O</text></svg></svg><line stroke=\"black\" x1=\"50%\" x2=\"50%\" y1=\"19.2px\" y2=\"48px\" /></svg><line stroke=\"black\" x1=\"50%\" x2=\"38.7755%\" y1=\"19.2px\" y2=\"48px\" /><svg width=\"3.40136%\" x=\"41.4966%\" y=\"48px\"><defs /><svg width=\"100%\" x=\"0\" y=\"0px\"><defs /><text text-anchor=\"middle\" x=\"50%\" y=\"16px\">and</text></svg><svg width=\"100%\" x=\"0%\" y=\"48px\"><defs /><svg width=\"100%\" x=\"0\" y=\"0px\"><defs /><text text-anchor=\"middle\" x=\"50%\" y=\"16px\">O</text></svg></svg><line stroke=\"black\" x1=\"50%\" x2=\"50%\" y1=\"19.2px\" y2=\"48px\" /></svg><line stroke=\"black\" x1=\"50%\" x2=\"43.1973%\" y1=\"19.2px\" y2=\"48px\" /><svg width=\"6.80272%\" x=\"44.898%\" y=\"48px\"><defs /><svg width=\"100%\" x=\"0\" y=\"0px\"><defs /><text text-anchor=\"middle\" x=\"50%\" y=\"16px\">efficacy</text></svg><svg width=\"100%\" x=\"0%\" y=\"48px\"><defs /><svg width=\"100%\" x=\"0\" y=\"0px\"><defs /><text text-anchor=\"middle\" x=\"50%\" y=\"16px\">O</text></svg></svg><line stroke=\"black\" x1=\"50%\" x2=\"50%\" y1=\"19.2px\" y2=\"48px\" /></svg><line stroke=\"black\" x1=\"50%\" x2=\"48.2993%\" y1=\"19.2px\" y2=\"48px\" /><svg width=\"2.72109%\" x=\"51.7007%\" y=\"48px\"><defs /><svg width=\"100%\" x=\"0\" y=\"0px\"><defs /><text text-anchor=\"middle\" x=\"50%\" y=\"16px\">of</text></svg><svg width=\"100%\" x=\"0%\" y=\"48px\"><defs /><svg width=\"100%\" x=\"0\" y=\"0px\"><defs /><text text-anchor=\"middle\" x=\"50%\" y=\"16px\">O</text></svg></svg><line stroke=\"black\" x1=\"50%\" x2=\"50%\" y1=\"19.2px\" y2=\"48px\" /></svg><line stroke=\"black\" x1=\"50%\" x2=\"53.0612%\" y1=\"19.2px\" y2=\"48px\" /><svg width=\"8.16327%\" x=\"54.4218%\" y=\"48px\"><defs /><svg width=\"100%\" x=\"0\" y=\"0px\"><defs /><text text-anchor=\"middle\" x=\"50%\" y=\"16px\">NP</text></svg><svg width=\"50%\" x=\"0%\" y=\"48px\"><defs /><svg width=\"100%\" x=\"0\" y=\"0px\"><defs /><text text-anchor=\"middle\" x=\"50%\" y=\"16px\">cnto</text></svg><svg width=\"100%\" x=\"0%\" y=\"48px\"><defs /><svg width=\"100%\" x=\"0\" y=\"0px\"><defs /><text text-anchor=\"middle\" x=\"50%\" y=\"16px\">C2S</text></svg></svg><line stroke=\"black\" x1=\"50%\" x2=\"50%\" y1=\"19.2px\" y2=\"48px\" /></svg><line stroke=\"black\" x1=\"50%\" x2=\"25%\" y1=\"19.2px\" y2=\"48px\" /><svg width=\"50%\" x=\"50%\" y=\"48px\"><defs /><svg width=\"100%\" x=\"0\" y=\"0px\"><defs /><text text-anchor=\"middle\" x=\"50%\" y=\"16px\">1275</text></svg><svg width=\"100%\" x=\"0%\" y=\"48px\"><defs /><svg width=\"100%\" x=\"0\" y=\"0px\"><defs /><text text-anchor=\"middle\" x=\"50%\" y=\"16px\">C2E</text></svg></svg><line stroke=\"black\" x1=\"50%\" x2=\"50%\" y1=\"19.2px\" y2=\"48px\" /></svg><line stroke=\"black\" x1=\"50%\" x2=\"75%\" y1=\"19.2px\" y2=\"48px\" /></svg><line stroke=\"black\" x1=\"50%\" x2=\"58.5034%\" y1=\"19.2px\" y2=\"48px\" /><svg width=\"2.72109%\" x=\"62.585%\" y=\"48px\"><defs /><svg width=\"100%\" x=\"0\" y=\"0px\"><defs /><text text-anchor=\"middle\" x=\"50%\" y=\"16px\">in</text></svg><svg width=\"100%\" x=\"0%\" y=\"48px\"><defs /><svg width=\"100%\" x=\"0\" y=\"0px\"><defs /><text text-anchor=\"middle\" x=\"50%\" y=\"16px\">O</text></svg></svg><line stroke=\"black\" x1=\"50%\" x2=\"50%\" y1=\"19.2px\" y2=\"48px\" /></svg><line stroke=\"black\" x1=\"50%\" x2=\"63.9456%\" y1=\"19.2px\" y2=\"48px\" /><svg width=\"9.52381%\" x=\"65.3061%\" y=\"48px\"><defs /><svg width=\"100%\" x=\"0\" y=\"0px\"><defs /><text text-anchor=\"middle\" x=\"50%\" y=\"16px\">participants</text></svg><svg width=\"100%\" x=\"0%\" y=\"48px\"><defs /><svg width=\"100%\" x=\"0\" y=\"0px\"><defs /><text text-anchor=\"middle\" x=\"50%\" y=\"16px\">O</text></svg></svg><line stroke=\"black\" x1=\"50%\" x2=\"50%\" y1=\"19.2px\" y2=\"48px\" /></svg><line stroke=\"black\" x1=\"50%\" x2=\"70.068%\" y1=\"19.2px\" y2=\"48px\" /><svg width=\"4.08163%\" x=\"74.8299%\" y=\"48px\"><defs /><svg width=\"100%\" x=\"0\" y=\"0px\"><defs /><text text-anchor=\"middle\" x=\"50%\" y=\"16px\">with</text></svg><svg width=\"100%\" x=\"0%\" y=\"48px\"><defs /><svg width=\"100%\" x=\"0\" y=\"0px\"><defs /><text text-anchor=\"middle\" x=\"50%\" y=\"16px\">O</text></svg></svg><line stroke=\"black\" x1=\"50%\" x2=\"50%\" y1=\"19.2px\" y2=\"48px\" /></svg><line stroke=\"black\" x1=\"50%\" x2=\"76.8707%\" y1=\"19.2px\" y2=\"48px\" /><svg width=\"5.44218%\" x=\"78.9116%\" y=\"48px\"><defs /><svg width=\"100%\" x=\"0\" y=\"0px\"><defs /><text text-anchor=\"middle\" x=\"50%\" y=\"16px\">active</text></svg><svg width=\"100%\" x=\"0%\" y=\"48px\"><defs /><svg width=\"100%\" x=\"0\" y=\"0px\"><defs /><text text-anchor=\"middle\" x=\"50%\" y=\"16px\">O</text></svg></svg><line stroke=\"black\" x1=\"50%\" x2=\"50%\" y1=\"19.2px\" y2=\"48px\" /></svg><line stroke=\"black\" x1=\"50%\" x2=\"81.6327%\" y1=\"19.2px\" y2=\"48px\" /><svg width=\"4.7619%\" x=\"84.3537%\" y=\"48px\"><defs /><svg width=\"100%\" x=\"0\" y=\"0px\"><defs /><text text-anchor=\"middle\" x=\"50%\" y=\"16px\">crohn</text></svg><svg width=\"100%\" x=\"0%\" y=\"48px\"><defs /><svg width=\"100%\" x=\"0\" y=\"0px\"><defs /><text text-anchor=\"middle\" x=\"50%\" y=\"16px\">O</text></svg></svg><line stroke=\"black\" x1=\"50%\" x2=\"50%\" y1=\"19.2px\" y2=\"48px\" /></svg><line stroke=\"black\" x1=\"50%\" x2=\"86.7347%\" y1=\"19.2px\" y2=\"48px\" /><svg width=\"2.72109%\" x=\"89.1156%\" y=\"48px\"><defs /><svg width=\"100%\" x=\"0\" y=\"0px\"><defs /><text text-anchor=\"middle\" x=\"50%\" y=\"16px\">'s</text></svg><svg width=\"100%\" x=\"0%\" y=\"48px\"><defs /><svg width=\"100%\" x=\"0\" y=\"0px\"><defs /><text text-anchor=\"middle\" x=\"50%\" y=\"16px\">O</text></svg></svg><line stroke=\"black\" x1=\"50%\" x2=\"50%\" y1=\"19.2px\" y2=\"48px\" /></svg><line stroke=\"black\" x1=\"50%\" x2=\"90.4762%\" y1=\"19.2px\" y2=\"48px\" /><svg width=\"6.12245%\" x=\"91.8367%\" y=\"48px\"><defs /><svg width=\"100%\" x=\"0\" y=\"0px\"><defs /><text text-anchor=\"middle\" x=\"50%\" y=\"16px\">disease</text></svg><svg width=\"100%\" x=\"0%\" y=\"48px\"><defs /><svg width=\"100%\" x=\"0\" y=\"0px\"><defs /><text text-anchor=\"middle\" x=\"50%\" y=\"16px\">O</text></svg></svg><line stroke=\"black\" x1=\"50%\" x2=\"50%\" y1=\"19.2px\" y2=\"48px\" /></svg><line stroke=\"black\" x1=\"50%\" x2=\"94.898%\" y1=\"19.2px\" y2=\"48px\" /><svg width=\"2.04082%\" x=\"97.9592%\" y=\"48px\"><defs /><svg width=\"100%\" x=\"0\" y=\"0px\"><defs /><text text-anchor=\"middle\" x=\"50%\" y=\"16px\">.</text></svg><svg width=\"100%\" x=\"0%\" y=\"48px\"><defs /><svg width=\"100%\" x=\"0\" y=\"0px\"><defs /><text text-anchor=\"middle\" x=\"50%\" y=\"16px\">O</text></svg></svg><line stroke=\"black\" x1=\"50%\" x2=\"50%\" y1=\"19.2px\" y2=\"48px\" /></svg><line stroke=\"black\" x1=\"50%\" x2=\"98.9796%\" y1=\"19.2px\" y2=\"48px\" /></svg>"
     },
     "execution_count": 31,
     "metadata": {},
     "output_type": "execute_result"
    }
   ],
   "source": [
    "test_trees_gt[45]"
   ],
   "metadata": {
    "collapsed": false,
    "ExecuteTime": {
     "end_time": "2024-03-18T20:35:51.077914Z",
     "start_time": "2024-03-18T20:35:51.060860Z"
    }
   },
   "id": "6851eb3c3f2d0371",
   "execution_count": 31
  },
  {
   "cell_type": "markdown",
   "id": "6a5f9791d3586335",
   "metadata": {
    "collapsed": false
   },
   "source": [
    "# Classifier based chunker"
   ]
  },
  {
   "cell_type": "code",
   "execution_count": 32,
   "id": "978dccfdb07ee727",
   "metadata": {
    "collapsed": false,
    "ExecuteTime": {
     "end_time": "2024-03-18T20:35:51.600797Z",
     "start_time": "2024-03-18T20:35:51.078746Z"
    }
   },
   "outputs": [],
   "source": [
    "chunker = chunkers.ConsecutiveNPChunker(\n",
    "    train_sents=train_tree_synonyms,\n",
    "    feature_generator_fn=util.get_feature_generator('npchunk_features_bigram_pos')\n",
    ")"
   ]
  },
  {
   "cell_type": "code",
   "outputs": [
    {
     "name": "stdout",
     "output_type": "stream",
     "text": [
      "ChunkParse score:\n",
      "    IOB Accuracy: 100.0%%\n",
      "    Precision:    100.0%%\n",
      "    Recall:       100.0%%\n",
      "    F-Measure:    100.0%%\n"
     ]
    }
   ],
   "source": [
    "# Training set evaluation metric for the Chunker.\n",
    "print(chunker.accuracy(train_tree_synonyms))"
   ],
   "metadata": {
    "collapsed": false,
    "ExecuteTime": {
     "end_time": "2024-03-18T20:35:53.570890Z",
     "start_time": "2024-03-18T20:35:51.601987Z"
    }
   },
   "id": "889a137f62458fdb",
   "execution_count": 33
  },
  {
   "cell_type": "code",
   "outputs": [
    {
     "name": "stdout",
     "output_type": "stream",
     "text": [
      "ChunkParse score:\n",
      "    IOB Accuracy: 100.0%%\n",
      "    Precision:    100.0%%\n",
      "    Recall:       100.0%%\n",
      "    F-Measure:    100.0%%\n"
     ]
    }
   ],
   "source": [
    "print(chunker.accuracy(test_trees_gt))"
   ],
   "metadata": {
    "collapsed": false,
    "ExecuteTime": {
     "end_time": "2024-03-18T20:35:53.610950Z",
     "start_time": "2024-03-18T20:35:53.572117Z"
    }
   },
   "id": "a297e529742230c9",
   "execution_count": 34
  },
  {
   "cell_type": "code",
   "outputs": [],
   "source": [],
   "metadata": {
    "collapsed": false,
    "ExecuteTime": {
     "end_time": "2024-03-18T20:35:53.613657Z",
     "start_time": "2024-03-18T20:35:53.611971Z"
    }
   },
   "id": "ecec65b65c99d80",
   "execution_count": 34
  },
  {
   "cell_type": "markdown",
   "source": [
    "## Test set evaluation metric for the Chunker."
   ],
   "metadata": {
    "collapsed": false
   },
   "id": "723fb886d43ebb57"
  },
  {
   "cell_type": "code",
   "outputs": [],
   "source": [
    "tagger = taggers[-1]\n",
    "# test_trees = summaries['brief_summary'].map(lambda text: chunker.parse(tagger.tag(text)))\n",
    "test_trees = summaries['brief_summary_raw'].map(lambda text: parse(text, parser=chunker, tagger=tagger))"
   ],
   "metadata": {
    "collapsed": false,
    "ExecuteTime": {
     "end_time": "2024-03-18T20:35:53.673635Z",
     "start_time": "2024-03-18T20:35:53.614674Z"
    }
   },
   "id": "b07040dc49d478cd",
   "execution_count": 35
  },
  {
   "cell_type": "code",
   "outputs": [],
   "source": [],
   "metadata": {
    "collapsed": false,
    "ExecuteTime": {
     "end_time": "2024-03-18T20:35:53.676071Z",
     "start_time": "2024-03-18T20:35:53.674556Z"
    }
   },
   "id": "f136c58eb3609c75",
   "execution_count": 35
  },
  {
   "cell_type": "code",
   "execution_count": 36,
   "id": "b722e35f20a2c02c",
   "metadata": {
    "collapsed": false,
    "ExecuteTime": {
     "end_time": "2024-03-18T20:35:53.713457Z",
     "start_time": "2024-03-18T20:35:53.676894Z"
    }
   },
   "outputs": [
    {
     "data": {
      "text/plain": "3"
     },
     "execution_count": 36,
     "metadata": {},
     "output_type": "execute_result"
    }
   ],
   "source": [
    "max([t.height() for t in train_tree_synonyms])"
   ]
  },
  {
   "cell_type": "code",
   "execution_count": 37,
   "id": "bf9b4db05872e072",
   "metadata": {
    "collapsed": false,
    "ExecuteTime": {
     "end_time": "2024-03-18T20:35:53.753976Z",
     "start_time": "2024-03-18T20:35:53.714307Z"
    }
   },
   "outputs": [
    {
     "name": "stdout",
     "output_type": "stream",
     "text": [
      "ChunkParse score:\n",
      "    IOB Accuracy: 100.0%%\n",
      "    Precision:    100.0%%\n",
      "    Recall:       100.0%%\n",
      "    F-Measure:    100.0%%\n"
     ]
    }
   ],
   "source": [
    "# Note: 100% is too good, the dataset is rather small.\n",
    "print(chunker.accuracy(test_trees))"
   ]
  },
  {
   "cell_type": "code",
   "execution_count": 38,
   "id": "91a5ffdbb458dcd5",
   "metadata": {
    "collapsed": false,
    "ExecuteTime": {
     "end_time": "2024-03-18T20:35:53.794241Z",
     "start_time": "2024-03-18T20:35:53.754815Z"
    }
   },
   "outputs": [
    {
     "data": {
      "text/plain": "Tree('S', [('the', 'O'), ('objectives', 'O'), ('of', 'O'), ('the', 'O'), ('study', 'O'), ('are', 'O'), (':', 'O'), ('1.', 'O'), ('evaluation', 'O'), ('of', 'O'), ('the', 'O'), ('safety', 'O'), ('profile', 'O'), ('of', 'O'), Tree('NP', [('imatinib', 'C1E')]), ('mesylate', 'O'), ('in', 'O'), ('patients', 'O'), ('with', 'O'), ('idiopathic', 'O'), ('hypereosinophilic', 'O'), ('syndrome', 'O'), ('resistant', 'O'), ('or', 'O'), ('refractory', 'O'), ('to', 'O'), (',', 'O'), ('or', 'O'), ('intolerant', 'O'), ('of', 'O'), (',', 'O'), Tree('NP', [('prednisone', 'C1E')]), (',', 'O'), Tree('NP', [('hydroxyurea', 'C1E')]), ('or', 'O'), ('interferon-alpha', 'O'), (',', 'O'), ('or', 'O'), ('untreated', 'O'), ('patients', 'O'), ('carrying', 'O'), ('the', 'O'), ('fip1l1-pdgfra', 'O'), ('fusion', 'O'), ('protein', 'O'), ('.', 'O'), ('2.', 'O'), ('evaluation', 'O'), ('of', 'O'), ('the', 'O'), ('efficacy', 'O'), ('of', 'O'), Tree('NP', [('imatinib', 'C1E')]), ('mesylate', 'O'), ('in', 'O'), ('patients', 'O'), ('with', 'O'), ('idiopathic', 'O'), ('hypereosinophilic', 'O'), ('syndrome', 'O'), ('3.', 'O'), ('analysis', 'O'), ('of', 'O'), ('patient', 'O'), (\"'s\", 'O'), ('blood', 'O'), ('samples', 'O'), ('for', 'O'), ('the', 'O'), ('detection', 'O'), ('of', 'O'), ('activated', 'O'), ('kinases', 'O'), ('.', 'O')])",
      "image/svg+xml": "<svg baseProfile=\"full\" height=\"168px\" preserveAspectRatio=\"xMidYMid meet\" style=\"font-family: times, serif; font-weight: normal; font-style: normal; font-size: 16px;\" version=\"1.1\" viewBox=\"0,0,4544.0,168.0\" width=\"4544px\" xmlns=\"http://www.w3.org/2000/svg\" xmlns:ev=\"http://www.w3.org/2001/xml-events\" xmlns:xlink=\"http://www.w3.org/1999/xlink\"><defs /><svg width=\"100%\" x=\"0\" y=\"0px\"><defs /><text text-anchor=\"middle\" x=\"50%\" y=\"16px\">S</text></svg><svg width=\"0.880282%\" x=\"0%\" y=\"48px\"><defs /><svg width=\"100%\" x=\"0\" y=\"0px\"><defs /><text text-anchor=\"middle\" x=\"50%\" y=\"16px\">the</text></svg><svg width=\"100%\" x=\"0%\" y=\"48px\"><defs /><svg width=\"100%\" x=\"0\" y=\"0px\"><defs /><text text-anchor=\"middle\" x=\"50%\" y=\"16px\">O</text></svg></svg><line stroke=\"black\" x1=\"50%\" x2=\"50%\" y1=\"19.2px\" y2=\"48px\" /></svg><line stroke=\"black\" x1=\"50%\" x2=\"0.440141%\" y1=\"19.2px\" y2=\"48px\" /><svg width=\"2.11268%\" x=\"0.880282%\" y=\"48px\"><defs /><svg width=\"100%\" x=\"0\" y=\"0px\"><defs /><text text-anchor=\"middle\" x=\"50%\" y=\"16px\">objectives</text></svg><svg width=\"100%\" x=\"0%\" y=\"48px\"><defs /><svg width=\"100%\" x=\"0\" y=\"0px\"><defs /><text text-anchor=\"middle\" x=\"50%\" y=\"16px\">O</text></svg></svg><line stroke=\"black\" x1=\"50%\" x2=\"50%\" y1=\"19.2px\" y2=\"48px\" /></svg><line stroke=\"black\" x1=\"50%\" x2=\"1.93662%\" y1=\"19.2px\" y2=\"48px\" /><svg width=\"0.704225%\" x=\"2.99296%\" y=\"48px\"><defs /><svg width=\"100%\" x=\"0\" y=\"0px\"><defs /><text text-anchor=\"middle\" x=\"50%\" y=\"16px\">of</text></svg><svg width=\"100%\" x=\"0%\" y=\"48px\"><defs /><svg width=\"100%\" x=\"0\" y=\"0px\"><defs /><text text-anchor=\"middle\" x=\"50%\" y=\"16px\">O</text></svg></svg><line stroke=\"black\" x1=\"50%\" x2=\"50%\" y1=\"19.2px\" y2=\"48px\" /></svg><line stroke=\"black\" x1=\"50%\" x2=\"3.34507%\" y1=\"19.2px\" y2=\"48px\" /><svg width=\"0.880282%\" x=\"3.69718%\" y=\"48px\"><defs /><svg width=\"100%\" x=\"0\" y=\"0px\"><defs /><text text-anchor=\"middle\" x=\"50%\" y=\"16px\">the</text></svg><svg width=\"100%\" x=\"0%\" y=\"48px\"><defs /><svg width=\"100%\" x=\"0\" y=\"0px\"><defs /><text text-anchor=\"middle\" x=\"50%\" y=\"16px\">O</text></svg></svg><line stroke=\"black\" x1=\"50%\" x2=\"50%\" y1=\"19.2px\" y2=\"48px\" /></svg><line stroke=\"black\" x1=\"50%\" x2=\"4.13732%\" y1=\"19.2px\" y2=\"48px\" /><svg width=\"1.23239%\" x=\"4.57746%\" y=\"48px\"><defs /><svg width=\"100%\" x=\"0\" y=\"0px\"><defs /><text text-anchor=\"middle\" x=\"50%\" y=\"16px\">study</text></svg><svg width=\"100%\" x=\"0%\" y=\"48px\"><defs /><svg width=\"100%\" x=\"0\" y=\"0px\"><defs /><text text-anchor=\"middle\" x=\"50%\" y=\"16px\">O</text></svg></svg><line stroke=\"black\" x1=\"50%\" x2=\"50%\" y1=\"19.2px\" y2=\"48px\" /></svg><line stroke=\"black\" x1=\"50%\" x2=\"5.19366%\" y1=\"19.2px\" y2=\"48px\" /><svg width=\"0.880282%\" x=\"5.80986%\" y=\"48px\"><defs /><svg width=\"100%\" x=\"0\" y=\"0px\"><defs /><text text-anchor=\"middle\" x=\"50%\" y=\"16px\">are</text></svg><svg width=\"100%\" x=\"0%\" y=\"48px\"><defs /><svg width=\"100%\" x=\"0\" y=\"0px\"><defs /><text text-anchor=\"middle\" x=\"50%\" y=\"16px\">O</text></svg></svg><line stroke=\"black\" x1=\"50%\" x2=\"50%\" y1=\"19.2px\" y2=\"48px\" /></svg><line stroke=\"black\" x1=\"50%\" x2=\"6.25%\" y1=\"19.2px\" y2=\"48px\" /><svg width=\"0.528169%\" x=\"6.69014%\" y=\"48px\"><defs /><svg width=\"100%\" x=\"0\" y=\"0px\"><defs /><text text-anchor=\"middle\" x=\"50%\" y=\"16px\">:</text></svg><svg width=\"100%\" x=\"0%\" y=\"48px\"><defs /><svg width=\"100%\" x=\"0\" y=\"0px\"><defs /><text text-anchor=\"middle\" x=\"50%\" y=\"16px\">O</text></svg></svg><line stroke=\"black\" x1=\"50%\" x2=\"50%\" y1=\"19.2px\" y2=\"48px\" /></svg><line stroke=\"black\" x1=\"50%\" x2=\"6.95423%\" y1=\"19.2px\" y2=\"48px\" /><svg width=\"0.704225%\" x=\"7.21831%\" y=\"48px\"><defs /><svg width=\"100%\" x=\"0\" y=\"0px\"><defs /><text text-anchor=\"middle\" x=\"50%\" y=\"16px\">1.</text></svg><svg width=\"100%\" x=\"0%\" y=\"48px\"><defs /><svg width=\"100%\" x=\"0\" y=\"0px\"><defs /><text text-anchor=\"middle\" x=\"50%\" y=\"16px\">O</text></svg></svg><line stroke=\"black\" x1=\"50%\" x2=\"50%\" y1=\"19.2px\" y2=\"48px\" /></svg><line stroke=\"black\" x1=\"50%\" x2=\"7.57042%\" y1=\"19.2px\" y2=\"48px\" /><svg width=\"2.11268%\" x=\"7.92254%\" y=\"48px\"><defs /><svg width=\"100%\" x=\"0\" y=\"0px\"><defs /><text text-anchor=\"middle\" x=\"50%\" y=\"16px\">evaluation</text></svg><svg width=\"100%\" x=\"0%\" y=\"48px\"><defs /><svg width=\"100%\" x=\"0\" y=\"0px\"><defs /><text text-anchor=\"middle\" x=\"50%\" y=\"16px\">O</text></svg></svg><line stroke=\"black\" x1=\"50%\" x2=\"50%\" y1=\"19.2px\" y2=\"48px\" /></svg><line stroke=\"black\" x1=\"50%\" x2=\"8.97887%\" y1=\"19.2px\" y2=\"48px\" /><svg width=\"0.704225%\" x=\"10.0352%\" y=\"48px\"><defs /><svg width=\"100%\" x=\"0\" y=\"0px\"><defs /><text text-anchor=\"middle\" x=\"50%\" y=\"16px\">of</text></svg><svg width=\"100%\" x=\"0%\" y=\"48px\"><defs /><svg width=\"100%\" x=\"0\" y=\"0px\"><defs /><text text-anchor=\"middle\" x=\"50%\" y=\"16px\">O</text></svg></svg><line stroke=\"black\" x1=\"50%\" x2=\"50%\" y1=\"19.2px\" y2=\"48px\" /></svg><line stroke=\"black\" x1=\"50%\" x2=\"10.3873%\" y1=\"19.2px\" y2=\"48px\" /><svg width=\"0.880282%\" x=\"10.7394%\" y=\"48px\"><defs /><svg width=\"100%\" x=\"0\" y=\"0px\"><defs /><text text-anchor=\"middle\" x=\"50%\" y=\"16px\">the</text></svg><svg width=\"100%\" x=\"0%\" y=\"48px\"><defs /><svg width=\"100%\" x=\"0\" y=\"0px\"><defs /><text text-anchor=\"middle\" x=\"50%\" y=\"16px\">O</text></svg></svg><line stroke=\"black\" x1=\"50%\" x2=\"50%\" y1=\"19.2px\" y2=\"48px\" /></svg><line stroke=\"black\" x1=\"50%\" x2=\"11.1796%\" y1=\"19.2px\" y2=\"48px\" /><svg width=\"1.40845%\" x=\"11.6197%\" y=\"48px\"><defs /><svg width=\"100%\" x=\"0\" y=\"0px\"><defs /><text text-anchor=\"middle\" x=\"50%\" y=\"16px\">safety</text></svg><svg width=\"100%\" x=\"0%\" y=\"48px\"><defs /><svg width=\"100%\" x=\"0\" y=\"0px\"><defs /><text text-anchor=\"middle\" x=\"50%\" y=\"16px\">O</text></svg></svg><line stroke=\"black\" x1=\"50%\" x2=\"50%\" y1=\"19.2px\" y2=\"48px\" /></svg><line stroke=\"black\" x1=\"50%\" x2=\"12.3239%\" y1=\"19.2px\" y2=\"48px\" /><svg width=\"1.58451%\" x=\"13.0282%\" y=\"48px\"><defs /><svg width=\"100%\" x=\"0\" y=\"0px\"><defs /><text text-anchor=\"middle\" x=\"50%\" y=\"16px\">profile</text></svg><svg width=\"100%\" x=\"0%\" y=\"48px\"><defs /><svg width=\"100%\" x=\"0\" y=\"0px\"><defs /><text text-anchor=\"middle\" x=\"50%\" y=\"16px\">O</text></svg></svg><line stroke=\"black\" x1=\"50%\" x2=\"50%\" y1=\"19.2px\" y2=\"48px\" /></svg><line stroke=\"black\" x1=\"50%\" x2=\"13.8204%\" y1=\"19.2px\" y2=\"48px\" /><svg width=\"0.704225%\" x=\"14.6127%\" y=\"48px\"><defs /><svg width=\"100%\" x=\"0\" y=\"0px\"><defs /><text text-anchor=\"middle\" x=\"50%\" y=\"16px\">of</text></svg><svg width=\"100%\" x=\"0%\" y=\"48px\"><defs /><svg width=\"100%\" x=\"0\" y=\"0px\"><defs /><text text-anchor=\"middle\" x=\"50%\" y=\"16px\">O</text></svg></svg><line stroke=\"black\" x1=\"50%\" x2=\"50%\" y1=\"19.2px\" y2=\"48px\" /></svg><line stroke=\"black\" x1=\"50%\" x2=\"14.9648%\" y1=\"19.2px\" y2=\"48px\" /><svg width=\"1.76056%\" x=\"15.3169%\" y=\"48px\"><defs /><svg width=\"100%\" x=\"0\" y=\"0px\"><defs /><text text-anchor=\"middle\" x=\"50%\" y=\"16px\">NP</text></svg><svg width=\"100%\" x=\"0%\" y=\"48px\"><defs /><svg width=\"100%\" x=\"0\" y=\"0px\"><defs /><text text-anchor=\"middle\" x=\"50%\" y=\"16px\">imatinib</text></svg><svg width=\"100%\" x=\"0%\" y=\"48px\"><defs /><svg width=\"100%\" x=\"0\" y=\"0px\"><defs /><text text-anchor=\"middle\" x=\"50%\" y=\"16px\">C1E</text></svg></svg><line stroke=\"black\" x1=\"50%\" x2=\"50%\" y1=\"19.2px\" y2=\"48px\" /></svg><line stroke=\"black\" x1=\"50%\" x2=\"50%\" y1=\"19.2px\" y2=\"48px\" /></svg><line stroke=\"black\" x1=\"50%\" x2=\"16.1972%\" y1=\"19.2px\" y2=\"48px\" /><svg width=\"1.76056%\" x=\"17.0775%\" y=\"48px\"><defs /><svg width=\"100%\" x=\"0\" y=\"0px\"><defs /><text text-anchor=\"middle\" x=\"50%\" y=\"16px\">mesylate</text></svg><svg width=\"100%\" x=\"0%\" y=\"48px\"><defs /><svg width=\"100%\" x=\"0\" y=\"0px\"><defs /><text text-anchor=\"middle\" x=\"50%\" y=\"16px\">O</text></svg></svg><line stroke=\"black\" x1=\"50%\" x2=\"50%\" y1=\"19.2px\" y2=\"48px\" /></svg><line stroke=\"black\" x1=\"50%\" x2=\"17.9577%\" y1=\"19.2px\" y2=\"48px\" /><svg width=\"0.704225%\" x=\"18.838%\" y=\"48px\"><defs /><svg width=\"100%\" x=\"0\" y=\"0px\"><defs /><text text-anchor=\"middle\" x=\"50%\" y=\"16px\">in</text></svg><svg width=\"100%\" x=\"0%\" y=\"48px\"><defs /><svg width=\"100%\" x=\"0\" y=\"0px\"><defs /><text text-anchor=\"middle\" x=\"50%\" y=\"16px\">O</text></svg></svg><line stroke=\"black\" x1=\"50%\" x2=\"50%\" y1=\"19.2px\" y2=\"48px\" /></svg><line stroke=\"black\" x1=\"50%\" x2=\"19.1901%\" y1=\"19.2px\" y2=\"48px\" /><svg width=\"1.76056%\" x=\"19.5423%\" y=\"48px\"><defs /><svg width=\"100%\" x=\"0\" y=\"0px\"><defs /><text text-anchor=\"middle\" x=\"50%\" y=\"16px\">patients</text></svg><svg width=\"100%\" x=\"0%\" y=\"48px\"><defs /><svg width=\"100%\" x=\"0\" y=\"0px\"><defs /><text text-anchor=\"middle\" x=\"50%\" y=\"16px\">O</text></svg></svg><line stroke=\"black\" x1=\"50%\" x2=\"50%\" y1=\"19.2px\" y2=\"48px\" /></svg><line stroke=\"black\" x1=\"50%\" x2=\"20.4225%\" y1=\"19.2px\" y2=\"48px\" /><svg width=\"1.05634%\" x=\"21.3028%\" y=\"48px\"><defs /><svg width=\"100%\" x=\"0\" y=\"0px\"><defs /><text text-anchor=\"middle\" x=\"50%\" y=\"16px\">with</text></svg><svg width=\"100%\" x=\"0%\" y=\"48px\"><defs /><svg width=\"100%\" x=\"0\" y=\"0px\"><defs /><text text-anchor=\"middle\" x=\"50%\" y=\"16px\">O</text></svg></svg><line stroke=\"black\" x1=\"50%\" x2=\"50%\" y1=\"19.2px\" y2=\"48px\" /></svg><line stroke=\"black\" x1=\"50%\" x2=\"21.831%\" y1=\"19.2px\" y2=\"48px\" /><svg width=\"2.11268%\" x=\"22.3592%\" y=\"48px\"><defs /><svg width=\"100%\" x=\"0\" y=\"0px\"><defs /><text text-anchor=\"middle\" x=\"50%\" y=\"16px\">idiopathic</text></svg><svg width=\"100%\" x=\"0%\" y=\"48px\"><defs /><svg width=\"100%\" x=\"0\" y=\"0px\"><defs /><text text-anchor=\"middle\" x=\"50%\" y=\"16px\">O</text></svg></svg><line stroke=\"black\" x1=\"50%\" x2=\"50%\" y1=\"19.2px\" y2=\"48px\" /></svg><line stroke=\"black\" x1=\"50%\" x2=\"23.4155%\" y1=\"19.2px\" y2=\"48px\" /><svg width=\"3.34507%\" x=\"24.4718%\" y=\"48px\"><defs /><svg width=\"100%\" x=\"0\" y=\"0px\"><defs /><text text-anchor=\"middle\" x=\"50%\" y=\"16px\">hypereosinophilic</text></svg><svg width=\"100%\" x=\"0%\" y=\"48px\"><defs /><svg width=\"100%\" x=\"0\" y=\"0px\"><defs /><text text-anchor=\"middle\" x=\"50%\" y=\"16px\">O</text></svg></svg><line stroke=\"black\" x1=\"50%\" x2=\"50%\" y1=\"19.2px\" y2=\"48px\" /></svg><line stroke=\"black\" x1=\"50%\" x2=\"26.1444%\" y1=\"19.2px\" y2=\"48px\" /><svg width=\"1.76056%\" x=\"27.8169%\" y=\"48px\"><defs /><svg width=\"100%\" x=\"0\" y=\"0px\"><defs /><text text-anchor=\"middle\" x=\"50%\" y=\"16px\">syndrome</text></svg><svg width=\"100%\" x=\"0%\" y=\"48px\"><defs /><svg width=\"100%\" x=\"0\" y=\"0px\"><defs /><text text-anchor=\"middle\" x=\"50%\" y=\"16px\">O</text></svg></svg><line stroke=\"black\" x1=\"50%\" x2=\"50%\" y1=\"19.2px\" y2=\"48px\" /></svg><line stroke=\"black\" x1=\"50%\" x2=\"28.6972%\" y1=\"19.2px\" y2=\"48px\" /><svg width=\"1.93662%\" x=\"29.5775%\" y=\"48px\"><defs /><svg width=\"100%\" x=\"0\" y=\"0px\"><defs /><text text-anchor=\"middle\" x=\"50%\" y=\"16px\">resistant</text></svg><svg width=\"100%\" x=\"0%\" y=\"48px\"><defs /><svg width=\"100%\" x=\"0\" y=\"0px\"><defs /><text text-anchor=\"middle\" x=\"50%\" y=\"16px\">O</text></svg></svg><line stroke=\"black\" x1=\"50%\" x2=\"50%\" y1=\"19.2px\" y2=\"48px\" /></svg><line stroke=\"black\" x1=\"50%\" x2=\"30.5458%\" y1=\"19.2px\" y2=\"48px\" /><svg width=\"0.704225%\" x=\"31.5141%\" y=\"48px\"><defs /><svg width=\"100%\" x=\"0\" y=\"0px\"><defs /><text text-anchor=\"middle\" x=\"50%\" y=\"16px\">or</text></svg><svg width=\"100%\" x=\"0%\" y=\"48px\"><defs /><svg width=\"100%\" x=\"0\" y=\"0px\"><defs /><text text-anchor=\"middle\" x=\"50%\" y=\"16px\">O</text></svg></svg><line stroke=\"black\" x1=\"50%\" x2=\"50%\" y1=\"19.2px\" y2=\"48px\" /></svg><line stroke=\"black\" x1=\"50%\" x2=\"31.8662%\" y1=\"19.2px\" y2=\"48px\" /><svg width=\"2.11268%\" x=\"32.2183%\" y=\"48px\"><defs /><svg width=\"100%\" x=\"0\" y=\"0px\"><defs /><text text-anchor=\"middle\" x=\"50%\" y=\"16px\">refractory</text></svg><svg width=\"100%\" x=\"0%\" y=\"48px\"><defs /><svg width=\"100%\" x=\"0\" y=\"0px\"><defs /><text text-anchor=\"middle\" x=\"50%\" y=\"16px\">O</text></svg></svg><line stroke=\"black\" x1=\"50%\" x2=\"50%\" y1=\"19.2px\" y2=\"48px\" /></svg><line stroke=\"black\" x1=\"50%\" x2=\"33.2746%\" y1=\"19.2px\" y2=\"48px\" /><svg width=\"0.704225%\" x=\"34.331%\" y=\"48px\"><defs /><svg width=\"100%\" x=\"0\" y=\"0px\"><defs /><text text-anchor=\"middle\" x=\"50%\" y=\"16px\">to</text></svg><svg width=\"100%\" x=\"0%\" y=\"48px\"><defs /><svg width=\"100%\" x=\"0\" y=\"0px\"><defs /><text text-anchor=\"middle\" x=\"50%\" y=\"16px\">O</text></svg></svg><line stroke=\"black\" x1=\"50%\" x2=\"50%\" y1=\"19.2px\" y2=\"48px\" /></svg><line stroke=\"black\" x1=\"50%\" x2=\"34.6831%\" y1=\"19.2px\" y2=\"48px\" /><svg width=\"0.528169%\" x=\"35.0352%\" y=\"48px\"><defs /><svg width=\"100%\" x=\"0\" y=\"0px\"><defs /><text text-anchor=\"middle\" x=\"50%\" y=\"16px\">,</text></svg><svg width=\"100%\" x=\"0%\" y=\"48px\"><defs /><svg width=\"100%\" x=\"0\" y=\"0px\"><defs /><text text-anchor=\"middle\" x=\"50%\" y=\"16px\">O</text></svg></svg><line stroke=\"black\" x1=\"50%\" x2=\"50%\" y1=\"19.2px\" y2=\"48px\" /></svg><line stroke=\"black\" x1=\"50%\" x2=\"35.2993%\" y1=\"19.2px\" y2=\"48px\" /><svg width=\"0.704225%\" x=\"35.5634%\" y=\"48px\"><defs /><svg width=\"100%\" x=\"0\" y=\"0px\"><defs /><text text-anchor=\"middle\" x=\"50%\" y=\"16px\">or</text></svg><svg width=\"100%\" x=\"0%\" y=\"48px\"><defs /><svg width=\"100%\" x=\"0\" y=\"0px\"><defs /><text text-anchor=\"middle\" x=\"50%\" y=\"16px\">O</text></svg></svg><line stroke=\"black\" x1=\"50%\" x2=\"50%\" y1=\"19.2px\" y2=\"48px\" /></svg><line stroke=\"black\" x1=\"50%\" x2=\"35.9155%\" y1=\"19.2px\" y2=\"48px\" /><svg width=\"2.11268%\" x=\"36.2676%\" y=\"48px\"><defs /><svg width=\"100%\" x=\"0\" y=\"0px\"><defs /><text text-anchor=\"middle\" x=\"50%\" y=\"16px\">intolerant</text></svg><svg width=\"100%\" x=\"0%\" y=\"48px\"><defs /><svg width=\"100%\" x=\"0\" y=\"0px\"><defs /><text text-anchor=\"middle\" x=\"50%\" y=\"16px\">O</text></svg></svg><line stroke=\"black\" x1=\"50%\" x2=\"50%\" y1=\"19.2px\" y2=\"48px\" /></svg><line stroke=\"black\" x1=\"50%\" x2=\"37.3239%\" y1=\"19.2px\" y2=\"48px\" /><svg width=\"0.704225%\" x=\"38.3803%\" y=\"48px\"><defs /><svg width=\"100%\" x=\"0\" y=\"0px\"><defs /><text text-anchor=\"middle\" x=\"50%\" y=\"16px\">of</text></svg><svg width=\"100%\" x=\"0%\" y=\"48px\"><defs /><svg width=\"100%\" x=\"0\" y=\"0px\"><defs /><text text-anchor=\"middle\" x=\"50%\" y=\"16px\">O</text></svg></svg><line stroke=\"black\" x1=\"50%\" x2=\"50%\" y1=\"19.2px\" y2=\"48px\" /></svg><line stroke=\"black\" x1=\"50%\" x2=\"38.7324%\" y1=\"19.2px\" y2=\"48px\" /><svg width=\"0.528169%\" x=\"39.0845%\" y=\"48px\"><defs /><svg width=\"100%\" x=\"0\" y=\"0px\"><defs /><text text-anchor=\"middle\" x=\"50%\" y=\"16px\">,</text></svg><svg width=\"100%\" x=\"0%\" y=\"48px\"><defs /><svg width=\"100%\" x=\"0\" y=\"0px\"><defs /><text text-anchor=\"middle\" x=\"50%\" y=\"16px\">O</text></svg></svg><line stroke=\"black\" x1=\"50%\" x2=\"50%\" y1=\"19.2px\" y2=\"48px\" /></svg><line stroke=\"black\" x1=\"50%\" x2=\"39.3486%\" y1=\"19.2px\" y2=\"48px\" /><svg width=\"2.11268%\" x=\"39.6127%\" y=\"48px\"><defs /><svg width=\"100%\" x=\"0\" y=\"0px\"><defs /><text text-anchor=\"middle\" x=\"50%\" y=\"16px\">NP</text></svg><svg width=\"100%\" x=\"0%\" y=\"48px\"><defs /><svg width=\"100%\" x=\"0\" y=\"0px\"><defs /><text text-anchor=\"middle\" x=\"50%\" y=\"16px\">prednisone</text></svg><svg width=\"100%\" x=\"0%\" y=\"48px\"><defs /><svg width=\"100%\" x=\"0\" y=\"0px\"><defs /><text text-anchor=\"middle\" x=\"50%\" y=\"16px\">C1E</text></svg></svg><line stroke=\"black\" x1=\"50%\" x2=\"50%\" y1=\"19.2px\" y2=\"48px\" /></svg><line stroke=\"black\" x1=\"50%\" x2=\"50%\" y1=\"19.2px\" y2=\"48px\" /></svg><line stroke=\"black\" x1=\"50%\" x2=\"40.669%\" y1=\"19.2px\" y2=\"48px\" /><svg width=\"0.528169%\" x=\"41.7254%\" y=\"48px\"><defs /><svg width=\"100%\" x=\"0\" y=\"0px\"><defs /><text text-anchor=\"middle\" x=\"50%\" y=\"16px\">,</text></svg><svg width=\"100%\" x=\"0%\" y=\"48px\"><defs /><svg width=\"100%\" x=\"0\" y=\"0px\"><defs /><text text-anchor=\"middle\" x=\"50%\" y=\"16px\">O</text></svg></svg><line stroke=\"black\" x1=\"50%\" x2=\"50%\" y1=\"19.2px\" y2=\"48px\" /></svg><line stroke=\"black\" x1=\"50%\" x2=\"41.9894%\" y1=\"19.2px\" y2=\"48px\" /><svg width=\"2.28873%\" x=\"42.2535%\" y=\"48px\"><defs /><svg width=\"100%\" x=\"0\" y=\"0px\"><defs /><text text-anchor=\"middle\" x=\"50%\" y=\"16px\">NP</text></svg><svg width=\"100%\" x=\"0%\" y=\"48px\"><defs /><svg width=\"100%\" x=\"0\" y=\"0px\"><defs /><text text-anchor=\"middle\" x=\"50%\" y=\"16px\">hydroxyurea</text></svg><svg width=\"100%\" x=\"0%\" y=\"48px\"><defs /><svg width=\"100%\" x=\"0\" y=\"0px\"><defs /><text text-anchor=\"middle\" x=\"50%\" y=\"16px\">C1E</text></svg></svg><line stroke=\"black\" x1=\"50%\" x2=\"50%\" y1=\"19.2px\" y2=\"48px\" /></svg><line stroke=\"black\" x1=\"50%\" x2=\"50%\" y1=\"19.2px\" y2=\"48px\" /></svg><line stroke=\"black\" x1=\"50%\" x2=\"43.3979%\" y1=\"19.2px\" y2=\"48px\" /><svg width=\"0.704225%\" x=\"44.5423%\" y=\"48px\"><defs /><svg width=\"100%\" x=\"0\" y=\"0px\"><defs /><text text-anchor=\"middle\" x=\"50%\" y=\"16px\">or</text></svg><svg width=\"100%\" x=\"0%\" y=\"48px\"><defs /><svg width=\"100%\" x=\"0\" y=\"0px\"><defs /><text text-anchor=\"middle\" x=\"50%\" y=\"16px\">O</text></svg></svg><line stroke=\"black\" x1=\"50%\" x2=\"50%\" y1=\"19.2px\" y2=\"48px\" /></svg><line stroke=\"black\" x1=\"50%\" x2=\"44.8944%\" y1=\"19.2px\" y2=\"48px\" /><svg width=\"3.16901%\" x=\"45.2465%\" y=\"48px\"><defs /><svg width=\"100%\" x=\"0\" y=\"0px\"><defs /><text text-anchor=\"middle\" x=\"50%\" y=\"16px\">interferon-alpha</text></svg><svg width=\"100%\" x=\"0%\" y=\"48px\"><defs /><svg width=\"100%\" x=\"0\" y=\"0px\"><defs /><text text-anchor=\"middle\" x=\"50%\" y=\"16px\">O</text></svg></svg><line stroke=\"black\" x1=\"50%\" x2=\"50%\" y1=\"19.2px\" y2=\"48px\" /></svg><line stroke=\"black\" x1=\"50%\" x2=\"46.831%\" y1=\"19.2px\" y2=\"48px\" /><svg width=\"0.528169%\" x=\"48.4155%\" y=\"48px\"><defs /><svg width=\"100%\" x=\"0\" y=\"0px\"><defs /><text text-anchor=\"middle\" x=\"50%\" y=\"16px\">,</text></svg><svg width=\"100%\" x=\"0%\" y=\"48px\"><defs /><svg width=\"100%\" x=\"0\" y=\"0px\"><defs /><text text-anchor=\"middle\" x=\"50%\" y=\"16px\">O</text></svg></svg><line stroke=\"black\" x1=\"50%\" x2=\"50%\" y1=\"19.2px\" y2=\"48px\" /></svg><line stroke=\"black\" x1=\"50%\" x2=\"48.6796%\" y1=\"19.2px\" y2=\"48px\" /><svg width=\"0.704225%\" x=\"48.9437%\" y=\"48px\"><defs /><svg width=\"100%\" x=\"0\" y=\"0px\"><defs /><text text-anchor=\"middle\" x=\"50%\" y=\"16px\">or</text></svg><svg width=\"100%\" x=\"0%\" y=\"48px\"><defs /><svg width=\"100%\" x=\"0\" y=\"0px\"><defs /><text text-anchor=\"middle\" x=\"50%\" y=\"16px\">O</text></svg></svg><line stroke=\"black\" x1=\"50%\" x2=\"50%\" y1=\"19.2px\" y2=\"48px\" /></svg><line stroke=\"black\" x1=\"50%\" x2=\"49.2958%\" y1=\"19.2px\" y2=\"48px\" /><svg width=\"1.93662%\" x=\"49.6479%\" y=\"48px\"><defs /><svg width=\"100%\" x=\"0\" y=\"0px\"><defs /><text text-anchor=\"middle\" x=\"50%\" y=\"16px\">untreated</text></svg><svg width=\"100%\" x=\"0%\" y=\"48px\"><defs /><svg width=\"100%\" x=\"0\" y=\"0px\"><defs /><text text-anchor=\"middle\" x=\"50%\" y=\"16px\">O</text></svg></svg><line stroke=\"black\" x1=\"50%\" x2=\"50%\" y1=\"19.2px\" y2=\"48px\" /></svg><line stroke=\"black\" x1=\"50%\" x2=\"50.6162%\" y1=\"19.2px\" y2=\"48px\" /><svg width=\"1.76056%\" x=\"51.5845%\" y=\"48px\"><defs /><svg width=\"100%\" x=\"0\" y=\"0px\"><defs /><text text-anchor=\"middle\" x=\"50%\" y=\"16px\">patients</text></svg><svg width=\"100%\" x=\"0%\" y=\"48px\"><defs /><svg width=\"100%\" x=\"0\" y=\"0px\"><defs /><text text-anchor=\"middle\" x=\"50%\" y=\"16px\">O</text></svg></svg><line stroke=\"black\" x1=\"50%\" x2=\"50%\" y1=\"19.2px\" y2=\"48px\" /></svg><line stroke=\"black\" x1=\"50%\" x2=\"52.4648%\" y1=\"19.2px\" y2=\"48px\" /><svg width=\"1.76056%\" x=\"53.3451%\" y=\"48px\"><defs /><svg width=\"100%\" x=\"0\" y=\"0px\"><defs /><text text-anchor=\"middle\" x=\"50%\" y=\"16px\">carrying</text></svg><svg width=\"100%\" x=\"0%\" y=\"48px\"><defs /><svg width=\"100%\" x=\"0\" y=\"0px\"><defs /><text text-anchor=\"middle\" x=\"50%\" y=\"16px\">O</text></svg></svg><line stroke=\"black\" x1=\"50%\" x2=\"50%\" y1=\"19.2px\" y2=\"48px\" /></svg><line stroke=\"black\" x1=\"50%\" x2=\"54.2254%\" y1=\"19.2px\" y2=\"48px\" /><svg width=\"0.880282%\" x=\"55.1056%\" y=\"48px\"><defs /><svg width=\"100%\" x=\"0\" y=\"0px\"><defs /><text text-anchor=\"middle\" x=\"50%\" y=\"16px\">the</text></svg><svg width=\"100%\" x=\"0%\" y=\"48px\"><defs /><svg width=\"100%\" x=\"0\" y=\"0px\"><defs /><text text-anchor=\"middle\" x=\"50%\" y=\"16px\">O</text></svg></svg><line stroke=\"black\" x1=\"50%\" x2=\"50%\" y1=\"19.2px\" y2=\"48px\" /></svg><line stroke=\"black\" x1=\"50%\" x2=\"55.5458%\" y1=\"19.2px\" y2=\"48px\" /><svg width=\"2.64085%\" x=\"55.9859%\" y=\"48px\"><defs /><svg width=\"100%\" x=\"0\" y=\"0px\"><defs /><text text-anchor=\"middle\" x=\"50%\" y=\"16px\">fip1l1-pdgfra</text></svg><svg width=\"100%\" x=\"0%\" y=\"48px\"><defs /><svg width=\"100%\" x=\"0\" y=\"0px\"><defs /><text text-anchor=\"middle\" x=\"50%\" y=\"16px\">O</text></svg></svg><line stroke=\"black\" x1=\"50%\" x2=\"50%\" y1=\"19.2px\" y2=\"48px\" /></svg><line stroke=\"black\" x1=\"50%\" x2=\"57.3063%\" y1=\"19.2px\" y2=\"48px\" /><svg width=\"1.40845%\" x=\"58.6268%\" y=\"48px\"><defs /><svg width=\"100%\" x=\"0\" y=\"0px\"><defs /><text text-anchor=\"middle\" x=\"50%\" y=\"16px\">fusion</text></svg><svg width=\"100%\" x=\"0%\" y=\"48px\"><defs /><svg width=\"100%\" x=\"0\" y=\"0px\"><defs /><text text-anchor=\"middle\" x=\"50%\" y=\"16px\">O</text></svg></svg><line stroke=\"black\" x1=\"50%\" x2=\"50%\" y1=\"19.2px\" y2=\"48px\" /></svg><line stroke=\"black\" x1=\"50%\" x2=\"59.331%\" y1=\"19.2px\" y2=\"48px\" /><svg width=\"1.58451%\" x=\"60.0352%\" y=\"48px\"><defs /><svg width=\"100%\" x=\"0\" y=\"0px\"><defs /><text text-anchor=\"middle\" x=\"50%\" y=\"16px\">protein</text></svg><svg width=\"100%\" x=\"0%\" y=\"48px\"><defs /><svg width=\"100%\" x=\"0\" y=\"0px\"><defs /><text text-anchor=\"middle\" x=\"50%\" y=\"16px\">O</text></svg></svg><line stroke=\"black\" x1=\"50%\" x2=\"50%\" y1=\"19.2px\" y2=\"48px\" /></svg><line stroke=\"black\" x1=\"50%\" x2=\"60.8275%\" y1=\"19.2px\" y2=\"48px\" /><svg width=\"0.528169%\" x=\"61.6197%\" y=\"48px\"><defs /><svg width=\"100%\" x=\"0\" y=\"0px\"><defs /><text text-anchor=\"middle\" x=\"50%\" y=\"16px\">.</text></svg><svg width=\"100%\" x=\"0%\" y=\"48px\"><defs /><svg width=\"100%\" x=\"0\" y=\"0px\"><defs /><text text-anchor=\"middle\" x=\"50%\" y=\"16px\">O</text></svg></svg><line stroke=\"black\" x1=\"50%\" x2=\"50%\" y1=\"19.2px\" y2=\"48px\" /></svg><line stroke=\"black\" x1=\"50%\" x2=\"61.8838%\" y1=\"19.2px\" y2=\"48px\" /><svg width=\"0.704225%\" x=\"62.1479%\" y=\"48px\"><defs /><svg width=\"100%\" x=\"0\" y=\"0px\"><defs /><text text-anchor=\"middle\" x=\"50%\" y=\"16px\">2.</text></svg><svg width=\"100%\" x=\"0%\" y=\"48px\"><defs /><svg width=\"100%\" x=\"0\" y=\"0px\"><defs /><text text-anchor=\"middle\" x=\"50%\" y=\"16px\">O</text></svg></svg><line stroke=\"black\" x1=\"50%\" x2=\"50%\" y1=\"19.2px\" y2=\"48px\" /></svg><line stroke=\"black\" x1=\"50%\" x2=\"62.5%\" y1=\"19.2px\" y2=\"48px\" /><svg width=\"2.11268%\" x=\"62.8521%\" y=\"48px\"><defs /><svg width=\"100%\" x=\"0\" y=\"0px\"><defs /><text text-anchor=\"middle\" x=\"50%\" y=\"16px\">evaluation</text></svg><svg width=\"100%\" x=\"0%\" y=\"48px\"><defs /><svg width=\"100%\" x=\"0\" y=\"0px\"><defs /><text text-anchor=\"middle\" x=\"50%\" y=\"16px\">O</text></svg></svg><line stroke=\"black\" x1=\"50%\" x2=\"50%\" y1=\"19.2px\" y2=\"48px\" /></svg><line stroke=\"black\" x1=\"50%\" x2=\"63.9085%\" y1=\"19.2px\" y2=\"48px\" /><svg width=\"0.704225%\" x=\"64.9648%\" y=\"48px\"><defs /><svg width=\"100%\" x=\"0\" y=\"0px\"><defs /><text text-anchor=\"middle\" x=\"50%\" y=\"16px\">of</text></svg><svg width=\"100%\" x=\"0%\" y=\"48px\"><defs /><svg width=\"100%\" x=\"0\" y=\"0px\"><defs /><text text-anchor=\"middle\" x=\"50%\" y=\"16px\">O</text></svg></svg><line stroke=\"black\" x1=\"50%\" x2=\"50%\" y1=\"19.2px\" y2=\"48px\" /></svg><line stroke=\"black\" x1=\"50%\" x2=\"65.3169%\" y1=\"19.2px\" y2=\"48px\" /><svg width=\"0.880282%\" x=\"65.669%\" y=\"48px\"><defs /><svg width=\"100%\" x=\"0\" y=\"0px\"><defs /><text text-anchor=\"middle\" x=\"50%\" y=\"16px\">the</text></svg><svg width=\"100%\" x=\"0%\" y=\"48px\"><defs /><svg width=\"100%\" x=\"0\" y=\"0px\"><defs /><text text-anchor=\"middle\" x=\"50%\" y=\"16px\">O</text></svg></svg><line stroke=\"black\" x1=\"50%\" x2=\"50%\" y1=\"19.2px\" y2=\"48px\" /></svg><line stroke=\"black\" x1=\"50%\" x2=\"66.1092%\" y1=\"19.2px\" y2=\"48px\" /><svg width=\"1.76056%\" x=\"66.5493%\" y=\"48px\"><defs /><svg width=\"100%\" x=\"0\" y=\"0px\"><defs /><text text-anchor=\"middle\" x=\"50%\" y=\"16px\">efficacy</text></svg><svg width=\"100%\" x=\"0%\" y=\"48px\"><defs /><svg width=\"100%\" x=\"0\" y=\"0px\"><defs /><text text-anchor=\"middle\" x=\"50%\" y=\"16px\">O</text></svg></svg><line stroke=\"black\" x1=\"50%\" x2=\"50%\" y1=\"19.2px\" y2=\"48px\" /></svg><line stroke=\"black\" x1=\"50%\" x2=\"67.4296%\" y1=\"19.2px\" y2=\"48px\" /><svg width=\"0.704225%\" x=\"68.3099%\" y=\"48px\"><defs /><svg width=\"100%\" x=\"0\" y=\"0px\"><defs /><text text-anchor=\"middle\" x=\"50%\" y=\"16px\">of</text></svg><svg width=\"100%\" x=\"0%\" y=\"48px\"><defs /><svg width=\"100%\" x=\"0\" y=\"0px\"><defs /><text text-anchor=\"middle\" x=\"50%\" y=\"16px\">O</text></svg></svg><line stroke=\"black\" x1=\"50%\" x2=\"50%\" y1=\"19.2px\" y2=\"48px\" /></svg><line stroke=\"black\" x1=\"50%\" x2=\"68.662%\" y1=\"19.2px\" y2=\"48px\" /><svg width=\"1.76056%\" x=\"69.0141%\" y=\"48px\"><defs /><svg width=\"100%\" x=\"0\" y=\"0px\"><defs /><text text-anchor=\"middle\" x=\"50%\" y=\"16px\">NP</text></svg><svg width=\"100%\" x=\"0%\" y=\"48px\"><defs /><svg width=\"100%\" x=\"0\" y=\"0px\"><defs /><text text-anchor=\"middle\" x=\"50%\" y=\"16px\">imatinib</text></svg><svg width=\"100%\" x=\"0%\" y=\"48px\"><defs /><svg width=\"100%\" x=\"0\" y=\"0px\"><defs /><text text-anchor=\"middle\" x=\"50%\" y=\"16px\">C1E</text></svg></svg><line stroke=\"black\" x1=\"50%\" x2=\"50%\" y1=\"19.2px\" y2=\"48px\" /></svg><line stroke=\"black\" x1=\"50%\" x2=\"50%\" y1=\"19.2px\" y2=\"48px\" /></svg><line stroke=\"black\" x1=\"50%\" x2=\"69.8944%\" y1=\"19.2px\" y2=\"48px\" /><svg width=\"1.76056%\" x=\"70.7746%\" y=\"48px\"><defs /><svg width=\"100%\" x=\"0\" y=\"0px\"><defs /><text text-anchor=\"middle\" x=\"50%\" y=\"16px\">mesylate</text></svg><svg width=\"100%\" x=\"0%\" y=\"48px\"><defs /><svg width=\"100%\" x=\"0\" y=\"0px\"><defs /><text text-anchor=\"middle\" x=\"50%\" y=\"16px\">O</text></svg></svg><line stroke=\"black\" x1=\"50%\" x2=\"50%\" y1=\"19.2px\" y2=\"48px\" /></svg><line stroke=\"black\" x1=\"50%\" x2=\"71.6549%\" y1=\"19.2px\" y2=\"48px\" /><svg width=\"0.704225%\" x=\"72.5352%\" y=\"48px\"><defs /><svg width=\"100%\" x=\"0\" y=\"0px\"><defs /><text text-anchor=\"middle\" x=\"50%\" y=\"16px\">in</text></svg><svg width=\"100%\" x=\"0%\" y=\"48px\"><defs /><svg width=\"100%\" x=\"0\" y=\"0px\"><defs /><text text-anchor=\"middle\" x=\"50%\" y=\"16px\">O</text></svg></svg><line stroke=\"black\" x1=\"50%\" x2=\"50%\" y1=\"19.2px\" y2=\"48px\" /></svg><line stroke=\"black\" x1=\"50%\" x2=\"72.8873%\" y1=\"19.2px\" y2=\"48px\" /><svg width=\"1.76056%\" x=\"73.2394%\" y=\"48px\"><defs /><svg width=\"100%\" x=\"0\" y=\"0px\"><defs /><text text-anchor=\"middle\" x=\"50%\" y=\"16px\">patients</text></svg><svg width=\"100%\" x=\"0%\" y=\"48px\"><defs /><svg width=\"100%\" x=\"0\" y=\"0px\"><defs /><text text-anchor=\"middle\" x=\"50%\" y=\"16px\">O</text></svg></svg><line stroke=\"black\" x1=\"50%\" x2=\"50%\" y1=\"19.2px\" y2=\"48px\" /></svg><line stroke=\"black\" x1=\"50%\" x2=\"74.1197%\" y1=\"19.2px\" y2=\"48px\" /><svg width=\"1.05634%\" x=\"75%\" y=\"48px\"><defs /><svg width=\"100%\" x=\"0\" y=\"0px\"><defs /><text text-anchor=\"middle\" x=\"50%\" y=\"16px\">with</text></svg><svg width=\"100%\" x=\"0%\" y=\"48px\"><defs /><svg width=\"100%\" x=\"0\" y=\"0px\"><defs /><text text-anchor=\"middle\" x=\"50%\" y=\"16px\">O</text></svg></svg><line stroke=\"black\" x1=\"50%\" x2=\"50%\" y1=\"19.2px\" y2=\"48px\" /></svg><line stroke=\"black\" x1=\"50%\" x2=\"75.5282%\" y1=\"19.2px\" y2=\"48px\" /><svg width=\"2.11268%\" x=\"76.0563%\" y=\"48px\"><defs /><svg width=\"100%\" x=\"0\" y=\"0px\"><defs /><text text-anchor=\"middle\" x=\"50%\" y=\"16px\">idiopathic</text></svg><svg width=\"100%\" x=\"0%\" y=\"48px\"><defs /><svg width=\"100%\" x=\"0\" y=\"0px\"><defs /><text text-anchor=\"middle\" x=\"50%\" y=\"16px\">O</text></svg></svg><line stroke=\"black\" x1=\"50%\" x2=\"50%\" y1=\"19.2px\" y2=\"48px\" /></svg><line stroke=\"black\" x1=\"50%\" x2=\"77.1127%\" y1=\"19.2px\" y2=\"48px\" /><svg width=\"3.34507%\" x=\"78.169%\" y=\"48px\"><defs /><svg width=\"100%\" x=\"0\" y=\"0px\"><defs /><text text-anchor=\"middle\" x=\"50%\" y=\"16px\">hypereosinophilic</text></svg><svg width=\"100%\" x=\"0%\" y=\"48px\"><defs /><svg width=\"100%\" x=\"0\" y=\"0px\"><defs /><text text-anchor=\"middle\" x=\"50%\" y=\"16px\">O</text></svg></svg><line stroke=\"black\" x1=\"50%\" x2=\"50%\" y1=\"19.2px\" y2=\"48px\" /></svg><line stroke=\"black\" x1=\"50%\" x2=\"79.8415%\" y1=\"19.2px\" y2=\"48px\" /><svg width=\"1.76056%\" x=\"81.5141%\" y=\"48px\"><defs /><svg width=\"100%\" x=\"0\" y=\"0px\"><defs /><text text-anchor=\"middle\" x=\"50%\" y=\"16px\">syndrome</text></svg><svg width=\"100%\" x=\"0%\" y=\"48px\"><defs /><svg width=\"100%\" x=\"0\" y=\"0px\"><defs /><text text-anchor=\"middle\" x=\"50%\" y=\"16px\">O</text></svg></svg><line stroke=\"black\" x1=\"50%\" x2=\"50%\" y1=\"19.2px\" y2=\"48px\" /></svg><line stroke=\"black\" x1=\"50%\" x2=\"82.3944%\" y1=\"19.2px\" y2=\"48px\" /><svg width=\"0.704225%\" x=\"83.2746%\" y=\"48px\"><defs /><svg width=\"100%\" x=\"0\" y=\"0px\"><defs /><text text-anchor=\"middle\" x=\"50%\" y=\"16px\">3.</text></svg><svg width=\"100%\" x=\"0%\" y=\"48px\"><defs /><svg width=\"100%\" x=\"0\" y=\"0px\"><defs /><text text-anchor=\"middle\" x=\"50%\" y=\"16px\">O</text></svg></svg><line stroke=\"black\" x1=\"50%\" x2=\"50%\" y1=\"19.2px\" y2=\"48px\" /></svg><line stroke=\"black\" x1=\"50%\" x2=\"83.6268%\" y1=\"19.2px\" y2=\"48px\" /><svg width=\"1.76056%\" x=\"83.9789%\" y=\"48px\"><defs /><svg width=\"100%\" x=\"0\" y=\"0px\"><defs /><text text-anchor=\"middle\" x=\"50%\" y=\"16px\">analysis</text></svg><svg width=\"100%\" x=\"0%\" y=\"48px\"><defs /><svg width=\"100%\" x=\"0\" y=\"0px\"><defs /><text text-anchor=\"middle\" x=\"50%\" y=\"16px\">O</text></svg></svg><line stroke=\"black\" x1=\"50%\" x2=\"50%\" y1=\"19.2px\" y2=\"48px\" /></svg><line stroke=\"black\" x1=\"50%\" x2=\"84.8592%\" y1=\"19.2px\" y2=\"48px\" /><svg width=\"0.704225%\" x=\"85.7394%\" y=\"48px\"><defs /><svg width=\"100%\" x=\"0\" y=\"0px\"><defs /><text text-anchor=\"middle\" x=\"50%\" y=\"16px\">of</text></svg><svg width=\"100%\" x=\"0%\" y=\"48px\"><defs /><svg width=\"100%\" x=\"0\" y=\"0px\"><defs /><text text-anchor=\"middle\" x=\"50%\" y=\"16px\">O</text></svg></svg><line stroke=\"black\" x1=\"50%\" x2=\"50%\" y1=\"19.2px\" y2=\"48px\" /></svg><line stroke=\"black\" x1=\"50%\" x2=\"86.0915%\" y1=\"19.2px\" y2=\"48px\" /><svg width=\"1.58451%\" x=\"86.4437%\" y=\"48px\"><defs /><svg width=\"100%\" x=\"0\" y=\"0px\"><defs /><text text-anchor=\"middle\" x=\"50%\" y=\"16px\">patient</text></svg><svg width=\"100%\" x=\"0%\" y=\"48px\"><defs /><svg width=\"100%\" x=\"0\" y=\"0px\"><defs /><text text-anchor=\"middle\" x=\"50%\" y=\"16px\">O</text></svg></svg><line stroke=\"black\" x1=\"50%\" x2=\"50%\" y1=\"19.2px\" y2=\"48px\" /></svg><line stroke=\"black\" x1=\"50%\" x2=\"87.2359%\" y1=\"19.2px\" y2=\"48px\" /><svg width=\"0.704225%\" x=\"88.0282%\" y=\"48px\"><defs /><svg width=\"100%\" x=\"0\" y=\"0px\"><defs /><text text-anchor=\"middle\" x=\"50%\" y=\"16px\">'s</text></svg><svg width=\"100%\" x=\"0%\" y=\"48px\"><defs /><svg width=\"100%\" x=\"0\" y=\"0px\"><defs /><text text-anchor=\"middle\" x=\"50%\" y=\"16px\">O</text></svg></svg><line stroke=\"black\" x1=\"50%\" x2=\"50%\" y1=\"19.2px\" y2=\"48px\" /></svg><line stroke=\"black\" x1=\"50%\" x2=\"88.3803%\" y1=\"19.2px\" y2=\"48px\" /><svg width=\"1.23239%\" x=\"88.7324%\" y=\"48px\"><defs /><svg width=\"100%\" x=\"0\" y=\"0px\"><defs /><text text-anchor=\"middle\" x=\"50%\" y=\"16px\">blood</text></svg><svg width=\"100%\" x=\"0%\" y=\"48px\"><defs /><svg width=\"100%\" x=\"0\" y=\"0px\"><defs /><text text-anchor=\"middle\" x=\"50%\" y=\"16px\">O</text></svg></svg><line stroke=\"black\" x1=\"50%\" x2=\"50%\" y1=\"19.2px\" y2=\"48px\" /></svg><line stroke=\"black\" x1=\"50%\" x2=\"89.3486%\" y1=\"19.2px\" y2=\"48px\" /><svg width=\"1.58451%\" x=\"89.9648%\" y=\"48px\"><defs /><svg width=\"100%\" x=\"0\" y=\"0px\"><defs /><text text-anchor=\"middle\" x=\"50%\" y=\"16px\">samples</text></svg><svg width=\"100%\" x=\"0%\" y=\"48px\"><defs /><svg width=\"100%\" x=\"0\" y=\"0px\"><defs /><text text-anchor=\"middle\" x=\"50%\" y=\"16px\">O</text></svg></svg><line stroke=\"black\" x1=\"50%\" x2=\"50%\" y1=\"19.2px\" y2=\"48px\" /></svg><line stroke=\"black\" x1=\"50%\" x2=\"90.757%\" y1=\"19.2px\" y2=\"48px\" /><svg width=\"0.880282%\" x=\"91.5493%\" y=\"48px\"><defs /><svg width=\"100%\" x=\"0\" y=\"0px\"><defs /><text text-anchor=\"middle\" x=\"50%\" y=\"16px\">for</text></svg><svg width=\"100%\" x=\"0%\" y=\"48px\"><defs /><svg width=\"100%\" x=\"0\" y=\"0px\"><defs /><text text-anchor=\"middle\" x=\"50%\" y=\"16px\">O</text></svg></svg><line stroke=\"black\" x1=\"50%\" x2=\"50%\" y1=\"19.2px\" y2=\"48px\" /></svg><line stroke=\"black\" x1=\"50%\" x2=\"91.9894%\" y1=\"19.2px\" y2=\"48px\" /><svg width=\"0.880282%\" x=\"92.4296%\" y=\"48px\"><defs /><svg width=\"100%\" x=\"0\" y=\"0px\"><defs /><text text-anchor=\"middle\" x=\"50%\" y=\"16px\">the</text></svg><svg width=\"100%\" x=\"0%\" y=\"48px\"><defs /><svg width=\"100%\" x=\"0\" y=\"0px\"><defs /><text text-anchor=\"middle\" x=\"50%\" y=\"16px\">O</text></svg></svg><line stroke=\"black\" x1=\"50%\" x2=\"50%\" y1=\"19.2px\" y2=\"48px\" /></svg><line stroke=\"black\" x1=\"50%\" x2=\"92.8697%\" y1=\"19.2px\" y2=\"48px\" /><svg width=\"1.93662%\" x=\"93.3099%\" y=\"48px\"><defs /><svg width=\"100%\" x=\"0\" y=\"0px\"><defs /><text text-anchor=\"middle\" x=\"50%\" y=\"16px\">detection</text></svg><svg width=\"100%\" x=\"0%\" y=\"48px\"><defs /><svg width=\"100%\" x=\"0\" y=\"0px\"><defs /><text text-anchor=\"middle\" x=\"50%\" y=\"16px\">O</text></svg></svg><line stroke=\"black\" x1=\"50%\" x2=\"50%\" y1=\"19.2px\" y2=\"48px\" /></svg><line stroke=\"black\" x1=\"50%\" x2=\"94.2782%\" y1=\"19.2px\" y2=\"48px\" /><svg width=\"0.704225%\" x=\"95.2465%\" y=\"48px\"><defs /><svg width=\"100%\" x=\"0\" y=\"0px\"><defs /><text text-anchor=\"middle\" x=\"50%\" y=\"16px\">of</text></svg><svg width=\"100%\" x=\"0%\" y=\"48px\"><defs /><svg width=\"100%\" x=\"0\" y=\"0px\"><defs /><text text-anchor=\"middle\" x=\"50%\" y=\"16px\">O</text></svg></svg><line stroke=\"black\" x1=\"50%\" x2=\"50%\" y1=\"19.2px\" y2=\"48px\" /></svg><line stroke=\"black\" x1=\"50%\" x2=\"95.5986%\" y1=\"19.2px\" y2=\"48px\" /><svg width=\"1.93662%\" x=\"95.9507%\" y=\"48px\"><defs /><svg width=\"100%\" x=\"0\" y=\"0px\"><defs /><text text-anchor=\"middle\" x=\"50%\" y=\"16px\">activated</text></svg><svg width=\"100%\" x=\"0%\" y=\"48px\"><defs /><svg width=\"100%\" x=\"0\" y=\"0px\"><defs /><text text-anchor=\"middle\" x=\"50%\" y=\"16px\">O</text></svg></svg><line stroke=\"black\" x1=\"50%\" x2=\"50%\" y1=\"19.2px\" y2=\"48px\" /></svg><line stroke=\"black\" x1=\"50%\" x2=\"96.919%\" y1=\"19.2px\" y2=\"48px\" /><svg width=\"1.58451%\" x=\"97.8873%\" y=\"48px\"><defs /><svg width=\"100%\" x=\"0\" y=\"0px\"><defs /><text text-anchor=\"middle\" x=\"50%\" y=\"16px\">kinases</text></svg><svg width=\"100%\" x=\"0%\" y=\"48px\"><defs /><svg width=\"100%\" x=\"0\" y=\"0px\"><defs /><text text-anchor=\"middle\" x=\"50%\" y=\"16px\">O</text></svg></svg><line stroke=\"black\" x1=\"50%\" x2=\"50%\" y1=\"19.2px\" y2=\"48px\" /></svg><line stroke=\"black\" x1=\"50%\" x2=\"98.6796%\" y1=\"19.2px\" y2=\"48px\" /><svg width=\"0.528169%\" x=\"99.4718%\" y=\"48px\"><defs /><svg width=\"100%\" x=\"0\" y=\"0px\"><defs /><text text-anchor=\"middle\" x=\"50%\" y=\"16px\">.</text></svg><svg width=\"100%\" x=\"0%\" y=\"48px\"><defs /><svg width=\"100%\" x=\"0\" y=\"0px\"><defs /><text text-anchor=\"middle\" x=\"50%\" y=\"16px\">O</text></svg></svg><line stroke=\"black\" x1=\"50%\" x2=\"50%\" y1=\"19.2px\" y2=\"48px\" /></svg><line stroke=\"black\" x1=\"50%\" x2=\"99.7359%\" y1=\"19.2px\" y2=\"48px\" /></svg>"
     },
     "execution_count": 38,
     "metadata": {},
     "output_type": "execute_result"
    }
   ],
   "source": [
    "test_trees[26]"
   ]
  },
  {
   "cell_type": "markdown",
   "id": "dfe7cf8c010d00fa",
   "metadata": {
    "collapsed": false
   },
   "source": [
    "## Extract terms and map to preferred names"
   ]
  },
  {
   "cell_type": "code",
   "outputs": [],
   "source": [
    "synonym_maps = util.get_synonym_maps(synonyms_df)\n",
    "preferred_name_by_term = synonym_maps['preferred_name_by_term']"
   ],
   "metadata": {
    "collapsed": false,
    "ExecuteTime": {
     "end_time": "2024-03-18T20:35:53.976871Z",
     "start_time": "2024-03-18T20:35:53.795110Z"
    }
   },
   "id": "d6d2781a57e39867",
   "execution_count": 39
  },
  {
   "cell_type": "code",
   "outputs": [],
   "source": [
    "def extract_preferred_names_from_tree(tree, group_tag: str = 'NP') -> list[str]:\n",
    "    terms = extract_grouped_terms(tree=tree, group_tag=group_tag)\n",
    "    term_prefered_names = []\n",
    "    for term_raw in terms:\n",
    "        term = term_raw.lower()\n",
    "        # print(term, term_raw)\n",
    "        if term not in preferred_name_by_term:\n",
    "            continue\n",
    "        term_prefered_names.append(preferred_name_by_term[term])\n",
    "    return list(set(term_prefered_names))    \n",
    "    "
   ],
   "metadata": {
    "collapsed": false,
    "ExecuteTime": {
     "end_time": "2024-03-18T20:35:53.980947Z",
     "start_time": "2024-03-18T20:35:53.977969Z"
    }
   },
   "id": "e097692bc3aae9f5",
   "execution_count": 40
  },
  {
   "cell_type": "code",
   "outputs": [],
   "source": [
    "extracted_terms = []\n",
    "for tree in test_trees:\n",
    "    extracted_terms.append(extract_preferred_names_from_tree(tree))\n",
    "test_df = pd.DataFrame({\n",
    "    'nct_id': summaries['nct_id'],\n",
    "    'extracted_terms': extracted_terms\n",
    "})"
   ],
   "metadata": {
    "collapsed": false,
    "ExecuteTime": {
     "end_time": "2024-03-18T20:35:53.987212Z",
     "start_time": "2024-03-18T20:35:53.982020Z"
    }
   },
   "id": "b21752551476e335",
   "execution_count": 41
  },
  {
   "cell_type": "markdown",
   "id": "1655577b-9be3-48cb-b477-201c69d627e5",
   "metadata": {
    "collapsed": false
   },
   "source": [
    "## Evaluate"
   ]
  },
  {
   "cell_type": "code",
   "execution_count": 42,
   "id": "62913a3cd2cf6dcf",
   "metadata": {
    "collapsed": false,
    "ExecuteTime": {
     "end_time": "2024-03-18T20:35:53.992865Z",
     "start_time": "2024-03-18T20:35:53.988035Z"
    }
   },
   "outputs": [],
   "source": [
    "test_df['gt_cleaned'] = test_df.nct_id.map(lambda x: ground_truth_cleaned[x])"
   ]
  },
  {
   "cell_type": "code",
   "execution_count": 43,
   "id": "13ffe966d12c829d",
   "metadata": {
    "collapsed": false,
    "ExecuteTime": {
     "end_time": "2024-03-18T20:35:53.998979Z",
     "start_time": "2024-03-18T20:35:53.993667Z"
    }
   },
   "outputs": [],
   "source": [
    "test_df['match_count'] = test_df.apply(lambda row: len(set(row['extracted_terms']).intersection(set(row['gt_cleaned']))), axis=1)"
   ]
  },
  {
   "cell_type": "code",
   "execution_count": 44,
   "id": "a1262b023a941072",
   "metadata": {
    "collapsed": false,
    "ExecuteTime": {
     "end_time": "2024-03-18T20:35:54.008519Z",
     "start_time": "2024-03-18T20:35:53.999780Z"
    }
   },
   "outputs": [
    {
     "data": {
      "text/plain": "        nct_id             extracted_terms                  gt_cleaned  \\\n0  NCT00037648                  [anakinra]                  [anakinra]   \n1  NCT00048542  [methotrexate, adalimumab]  [adalimumab, methotrexate]   \n2  NCT00071487                 [belimumab]                 [belimumab]   \n3  NCT00071812                 [belimumab]                 [belimumab]   \n4  NCT00072839               [teduglutide]               [teduglutide]   \n\n   match_count  \n0            1  \n1            2  \n2            1  \n3            1  \n4            1  ",
      "text/html": "<div>\n<style scoped>\n    .dataframe tbody tr th:only-of-type {\n        vertical-align: middle;\n    }\n\n    .dataframe tbody tr th {\n        vertical-align: top;\n    }\n\n    .dataframe thead th {\n        text-align: right;\n    }\n</style>\n<table border=\"1\" class=\"dataframe\">\n  <thead>\n    <tr style=\"text-align: right;\">\n      <th></th>\n      <th>nct_id</th>\n      <th>extracted_terms</th>\n      <th>gt_cleaned</th>\n      <th>match_count</th>\n    </tr>\n  </thead>\n  <tbody>\n    <tr>\n      <th>0</th>\n      <td>NCT00037648</td>\n      <td>[anakinra]</td>\n      <td>[anakinra]</td>\n      <td>1</td>\n    </tr>\n    <tr>\n      <th>1</th>\n      <td>NCT00048542</td>\n      <td>[methotrexate, adalimumab]</td>\n      <td>[adalimumab, methotrexate]</td>\n      <td>2</td>\n    </tr>\n    <tr>\n      <th>2</th>\n      <td>NCT00071487</td>\n      <td>[belimumab]</td>\n      <td>[belimumab]</td>\n      <td>1</td>\n    </tr>\n    <tr>\n      <th>3</th>\n      <td>NCT00071812</td>\n      <td>[belimumab]</td>\n      <td>[belimumab]</td>\n      <td>1</td>\n    </tr>\n    <tr>\n      <th>4</th>\n      <td>NCT00072839</td>\n      <td>[teduglutide]</td>\n      <td>[teduglutide]</td>\n      <td>1</td>\n    </tr>\n  </tbody>\n</table>\n</div>"
     },
     "execution_count": 44,
     "metadata": {},
     "output_type": "execute_result"
    }
   ],
   "source": [
    "test_df.head()"
   ]
  },
  {
   "cell_type": "code",
   "execution_count": 45,
   "id": "33df1e0fc0697d4e",
   "metadata": {
    "collapsed": false,
    "ExecuteTime": {
     "end_time": "2024-03-18T20:35:54.013620Z",
     "start_time": "2024-03-18T20:35:54.009304Z"
    }
   },
   "outputs": [],
   "source": [
    "test_df['extracted_terms_count'] = test_df['extracted_terms'].map(len)\n",
    "test_df['gt_cleaned_count'] = test_df['gt_cleaned'].map(len)"
   ]
  },
  {
   "cell_type": "code",
   "execution_count": 45,
   "id": "7c0cd7aff7cca6da",
   "metadata": {
    "collapsed": false,
    "ExecuteTime": {
     "end_time": "2024-03-18T20:35:54.016058Z",
     "start_time": "2024-03-18T20:35:54.014465Z"
    }
   },
   "outputs": [],
   "source": []
  },
  {
   "cell_type": "code",
   "execution_count": 46,
   "id": "987cb62dd4c09c38",
   "metadata": {
    "collapsed": false,
    "ExecuteTime": {
     "end_time": "2024-03-18T20:35:54.019888Z",
     "start_time": "2024-03-18T20:35:54.016874Z"
    }
   },
   "outputs": [
    {
     "name": "stdout",
     "output_type": "stream",
     "text": [
      "Precision:  100.00%\n",
      "Recall:  98.25%\n"
     ]
    }
   ],
   "source": [
    "true_positive_count = test_df['match_count'].sum()\n",
    "precision = true_positive_count / test_df['extracted_terms_count'].sum()\n",
    "recall = true_positive_count / test_df['gt_cleaned_count'].sum()\n",
    "print(f'Precision: {precision: .2%}')\n",
    "print(f'Recall: {recall: .2%}')\n"
   ]
  },
  {
   "cell_type": "code",
   "execution_count": 47,
   "id": "aa23dad0f6848c",
   "metadata": {
    "collapsed": false,
    "ExecuteTime": {
     "end_time": "2024-03-18T20:35:54.028805Z",
     "start_time": "2024-03-18T20:35:54.020948Z"
    }
   },
   "outputs": [
    {
     "data": {
      "text/plain": "         nct_id extracted_terms     gt_cleaned  match_count  \\\n45  NCT00265122              []  [ustekinumab]            0   \n\n    extracted_terms_count  gt_cleaned_count  \n45                      0                 1  ",
      "text/html": "<div>\n<style scoped>\n    .dataframe tbody tr th:only-of-type {\n        vertical-align: middle;\n    }\n\n    .dataframe tbody tr th {\n        vertical-align: top;\n    }\n\n    .dataframe thead th {\n        text-align: right;\n    }\n</style>\n<table border=\"1\" class=\"dataframe\">\n  <thead>\n    <tr style=\"text-align: right;\">\n      <th></th>\n      <th>nct_id</th>\n      <th>extracted_terms</th>\n      <th>gt_cleaned</th>\n      <th>match_count</th>\n      <th>extracted_terms_count</th>\n      <th>gt_cleaned_count</th>\n    </tr>\n  </thead>\n  <tbody>\n    <tr>\n      <th>45</th>\n      <td>NCT00265122</td>\n      <td>[]</td>\n      <td>[ustekinumab]</td>\n      <td>0</td>\n      <td>0</td>\n      <td>1</td>\n    </tr>\n  </tbody>\n</table>\n</div>"
     },
     "execution_count": 47,
     "metadata": {},
     "output_type": "execute_result"
    }
   ],
   "source": [
    "misses_df = test_df[(test_df['match_count'] != test_df['extracted_terms_count']) | (test_df['match_count'] != test_df['gt_cleaned_count'])]\n",
    "misses_df"
   ]
  },
  {
   "cell_type": "code",
   "execution_count": 47,
   "id": "898a2fa0c9c71721",
   "metadata": {
    "collapsed": false,
    "ExecuteTime": {
     "end_time": "2024-03-18T20:35:54.031171Z",
     "start_time": "2024-03-18T20:35:54.029659Z"
    }
   },
   "outputs": [],
   "source": []
  },
  {
   "cell_type": "markdown",
   "id": "b7ae4819-5958-4f3c-9a89-a32edbc7696a",
   "metadata": {
    "collapsed": false
   },
   "source": [
    "### Check specific case(s)"
   ]
  },
  {
   "cell_type": "code",
   "outputs": [],
   "source": [
    "nct_id = 'NCT00265122'"
   ],
   "metadata": {
    "collapsed": false,
    "ExecuteTime": {
     "end_time": "2024-03-18T20:35:54.035168Z",
     "start_time": "2024-03-18T20:35:54.031998Z"
    }
   },
   "id": "f495da4579afc032",
   "execution_count": 48
  },
  {
   "cell_type": "code",
   "execution_count": 49,
   "id": "fe5794ddad31ad59",
   "metadata": {
    "collapsed": false,
    "ExecuteTime": {
     "end_time": "2024-03-18T20:35:54.041110Z",
     "start_time": "2024-03-18T20:35:54.035889Z"
    }
   },
   "outputs": [
    {
     "name": "stdout",
     "output_type": "stream",
     "text": [
      "['the', 'purpose', 'of', 'this', 'study', 'is', 'to', 'examine', 'the', 'safety', 'and', 'efficacy', 'of', 'cnto', '1275', 'in', 'participants', 'with', 'active', 'crohn', \"'s\", 'disease', '.']\n"
     ]
    }
   ],
   "source": [
    "_sum = summaries[summaries['nct_id']==nct_id].brief_summary.iloc[0]\n",
    "print(_sum)"
   ]
  },
  {
   "cell_type": "code",
   "outputs": [
    {
     "name": "stdout",
     "output_type": "stream",
     "text": [
      "The purpose of this study is to examine the safety and efficacy of CNTO 1275 in participants with active Crohn's Disease.\n"
     ]
    }
   ],
   "source": [
    "_sum_raw = summaries[summaries['nct_id']==nct_id].brief_summary_raw.iloc[0]\n",
    "print(_sum_raw)"
   ],
   "metadata": {
    "collapsed": false,
    "ExecuteTime": {
     "end_time": "2024-03-18T20:35:54.046917Z",
     "start_time": "2024-03-18T20:35:54.041925Z"
    }
   },
   "id": "b4bc15ab07c9bbcc",
   "execution_count": 50
  },
  {
   "cell_type": "code",
   "execution_count": 51,
   "id": "bda1abf07b7d24f4",
   "metadata": {
    "collapsed": false,
    "ExecuteTime": {
     "end_time": "2024-03-18T20:35:54.052523Z",
     "start_time": "2024-03-18T20:35:54.047771Z"
    }
   },
   "outputs": [
    {
     "data": {
      "text/plain": "45"
     },
     "execution_count": 51,
     "metadata": {},
     "output_type": "execute_result"
    }
   ],
   "source": [
    "index = summaries[summaries['nct_id']=='NCT00265122'].index[0]\n",
    "index"
   ]
  },
  {
   "cell_type": "code",
   "execution_count": 52,
   "id": "5f9c975573b196b5",
   "metadata": {
    "collapsed": false,
    "ExecuteTime": {
     "end_time": "2024-03-18T20:35:54.069570Z",
     "start_time": "2024-03-18T20:35:54.053331Z"
    }
   },
   "outputs": [
    {
     "data": {
      "text/plain": "Tree('S', [('the', 'O'), ('purpose', 'O'), ('of', 'O'), ('this', 'O'), ('study', 'O'), ('is', 'O'), ('to', 'O'), ('examine', 'O'), ('the', 'O'), ('safety', 'O'), ('and', 'O'), ('efficacy', 'O'), ('of', 'O'), ('cnto', 'O'), ('1275', 'O'), ('in', 'O'), ('participants', 'O'), ('with', 'O'), ('active', 'O'), ('crohn', 'O'), (\"'s\", 'O'), ('disease', 'O'), ('.', 'O')])",
      "image/svg+xml": "<svg baseProfile=\"full\" height=\"120px\" preserveAspectRatio=\"xMidYMid meet\" style=\"font-family: times, serif; font-weight: normal; font-style: normal; font-size: 16px;\" version=\"1.1\" viewBox=\"0,0,1176.0,120.0\" width=\"1176px\" xmlns=\"http://www.w3.org/2000/svg\" xmlns:ev=\"http://www.w3.org/2001/xml-events\" xmlns:xlink=\"http://www.w3.org/1999/xlink\"><defs /><svg width=\"100%\" x=\"0\" y=\"0px\"><defs /><text text-anchor=\"middle\" x=\"50%\" y=\"16px\">S</text></svg><svg width=\"3.40136%\" x=\"0%\" y=\"48px\"><defs /><svg width=\"100%\" x=\"0\" y=\"0px\"><defs /><text text-anchor=\"middle\" x=\"50%\" y=\"16px\">the</text></svg><svg width=\"100%\" x=\"0%\" y=\"48px\"><defs /><svg width=\"100%\" x=\"0\" y=\"0px\"><defs /><text text-anchor=\"middle\" x=\"50%\" y=\"16px\">O</text></svg></svg><line stroke=\"black\" x1=\"50%\" x2=\"50%\" y1=\"19.2px\" y2=\"48px\" /></svg><line stroke=\"black\" x1=\"50%\" x2=\"1.70068%\" y1=\"19.2px\" y2=\"48px\" /><svg width=\"6.12245%\" x=\"3.40136%\" y=\"48px\"><defs /><svg width=\"100%\" x=\"0\" y=\"0px\"><defs /><text text-anchor=\"middle\" x=\"50%\" y=\"16px\">purpose</text></svg><svg width=\"100%\" x=\"0%\" y=\"48px\"><defs /><svg width=\"100%\" x=\"0\" y=\"0px\"><defs /><text text-anchor=\"middle\" x=\"50%\" y=\"16px\">O</text></svg></svg><line stroke=\"black\" x1=\"50%\" x2=\"50%\" y1=\"19.2px\" y2=\"48px\" /></svg><line stroke=\"black\" x1=\"50%\" x2=\"6.46259%\" y1=\"19.2px\" y2=\"48px\" /><svg width=\"2.72109%\" x=\"9.52381%\" y=\"48px\"><defs /><svg width=\"100%\" x=\"0\" y=\"0px\"><defs /><text text-anchor=\"middle\" x=\"50%\" y=\"16px\">of</text></svg><svg width=\"100%\" x=\"0%\" y=\"48px\"><defs /><svg width=\"100%\" x=\"0\" y=\"0px\"><defs /><text text-anchor=\"middle\" x=\"50%\" y=\"16px\">O</text></svg></svg><line stroke=\"black\" x1=\"50%\" x2=\"50%\" y1=\"19.2px\" y2=\"48px\" /></svg><line stroke=\"black\" x1=\"50%\" x2=\"10.8844%\" y1=\"19.2px\" y2=\"48px\" /><svg width=\"4.08163%\" x=\"12.2449%\" y=\"48px\"><defs /><svg width=\"100%\" x=\"0\" y=\"0px\"><defs /><text text-anchor=\"middle\" x=\"50%\" y=\"16px\">this</text></svg><svg width=\"100%\" x=\"0%\" y=\"48px\"><defs /><svg width=\"100%\" x=\"0\" y=\"0px\"><defs /><text text-anchor=\"middle\" x=\"50%\" y=\"16px\">O</text></svg></svg><line stroke=\"black\" x1=\"50%\" x2=\"50%\" y1=\"19.2px\" y2=\"48px\" /></svg><line stroke=\"black\" x1=\"50%\" x2=\"14.2857%\" y1=\"19.2px\" y2=\"48px\" /><svg width=\"4.7619%\" x=\"16.3265%\" y=\"48px\"><defs /><svg width=\"100%\" x=\"0\" y=\"0px\"><defs /><text text-anchor=\"middle\" x=\"50%\" y=\"16px\">study</text></svg><svg width=\"100%\" x=\"0%\" y=\"48px\"><defs /><svg width=\"100%\" x=\"0\" y=\"0px\"><defs /><text text-anchor=\"middle\" x=\"50%\" y=\"16px\">O</text></svg></svg><line stroke=\"black\" x1=\"50%\" x2=\"50%\" y1=\"19.2px\" y2=\"48px\" /></svg><line stroke=\"black\" x1=\"50%\" x2=\"18.7075%\" y1=\"19.2px\" y2=\"48px\" /><svg width=\"2.72109%\" x=\"21.0884%\" y=\"48px\"><defs /><svg width=\"100%\" x=\"0\" y=\"0px\"><defs /><text text-anchor=\"middle\" x=\"50%\" y=\"16px\">is</text></svg><svg width=\"100%\" x=\"0%\" y=\"48px\"><defs /><svg width=\"100%\" x=\"0\" y=\"0px\"><defs /><text text-anchor=\"middle\" x=\"50%\" y=\"16px\">O</text></svg></svg><line stroke=\"black\" x1=\"50%\" x2=\"50%\" y1=\"19.2px\" y2=\"48px\" /></svg><line stroke=\"black\" x1=\"50%\" x2=\"22.449%\" y1=\"19.2px\" y2=\"48px\" /><svg width=\"2.72109%\" x=\"23.8095%\" y=\"48px\"><defs /><svg width=\"100%\" x=\"0\" y=\"0px\"><defs /><text text-anchor=\"middle\" x=\"50%\" y=\"16px\">to</text></svg><svg width=\"100%\" x=\"0%\" y=\"48px\"><defs /><svg width=\"100%\" x=\"0\" y=\"0px\"><defs /><text text-anchor=\"middle\" x=\"50%\" y=\"16px\">O</text></svg></svg><line stroke=\"black\" x1=\"50%\" x2=\"50%\" y1=\"19.2px\" y2=\"48px\" /></svg><line stroke=\"black\" x1=\"50%\" x2=\"25.1701%\" y1=\"19.2px\" y2=\"48px\" /><svg width=\"6.12245%\" x=\"26.5306%\" y=\"48px\"><defs /><svg width=\"100%\" x=\"0\" y=\"0px\"><defs /><text text-anchor=\"middle\" x=\"50%\" y=\"16px\">examine</text></svg><svg width=\"100%\" x=\"0%\" y=\"48px\"><defs /><svg width=\"100%\" x=\"0\" y=\"0px\"><defs /><text text-anchor=\"middle\" x=\"50%\" y=\"16px\">O</text></svg></svg><line stroke=\"black\" x1=\"50%\" x2=\"50%\" y1=\"19.2px\" y2=\"48px\" /></svg><line stroke=\"black\" x1=\"50%\" x2=\"29.5918%\" y1=\"19.2px\" y2=\"48px\" /><svg width=\"3.40136%\" x=\"32.6531%\" y=\"48px\"><defs /><svg width=\"100%\" x=\"0\" y=\"0px\"><defs /><text text-anchor=\"middle\" x=\"50%\" y=\"16px\">the</text></svg><svg width=\"100%\" x=\"0%\" y=\"48px\"><defs /><svg width=\"100%\" x=\"0\" y=\"0px\"><defs /><text text-anchor=\"middle\" x=\"50%\" y=\"16px\">O</text></svg></svg><line stroke=\"black\" x1=\"50%\" x2=\"50%\" y1=\"19.2px\" y2=\"48px\" /></svg><line stroke=\"black\" x1=\"50%\" x2=\"34.3537%\" y1=\"19.2px\" y2=\"48px\" /><svg width=\"5.44218%\" x=\"36.0544%\" y=\"48px\"><defs /><svg width=\"100%\" x=\"0\" y=\"0px\"><defs /><text text-anchor=\"middle\" x=\"50%\" y=\"16px\">safety</text></svg><svg width=\"100%\" x=\"0%\" y=\"48px\"><defs /><svg width=\"100%\" x=\"0\" y=\"0px\"><defs /><text text-anchor=\"middle\" x=\"50%\" y=\"16px\">O</text></svg></svg><line stroke=\"black\" x1=\"50%\" x2=\"50%\" y1=\"19.2px\" y2=\"48px\" /></svg><line stroke=\"black\" x1=\"50%\" x2=\"38.7755%\" y1=\"19.2px\" y2=\"48px\" /><svg width=\"3.40136%\" x=\"41.4966%\" y=\"48px\"><defs /><svg width=\"100%\" x=\"0\" y=\"0px\"><defs /><text text-anchor=\"middle\" x=\"50%\" y=\"16px\">and</text></svg><svg width=\"100%\" x=\"0%\" y=\"48px\"><defs /><svg width=\"100%\" x=\"0\" y=\"0px\"><defs /><text text-anchor=\"middle\" x=\"50%\" y=\"16px\">O</text></svg></svg><line stroke=\"black\" x1=\"50%\" x2=\"50%\" y1=\"19.2px\" y2=\"48px\" /></svg><line stroke=\"black\" x1=\"50%\" x2=\"43.1973%\" y1=\"19.2px\" y2=\"48px\" /><svg width=\"6.80272%\" x=\"44.898%\" y=\"48px\"><defs /><svg width=\"100%\" x=\"0\" y=\"0px\"><defs /><text text-anchor=\"middle\" x=\"50%\" y=\"16px\">efficacy</text></svg><svg width=\"100%\" x=\"0%\" y=\"48px\"><defs /><svg width=\"100%\" x=\"0\" y=\"0px\"><defs /><text text-anchor=\"middle\" x=\"50%\" y=\"16px\">O</text></svg></svg><line stroke=\"black\" x1=\"50%\" x2=\"50%\" y1=\"19.2px\" y2=\"48px\" /></svg><line stroke=\"black\" x1=\"50%\" x2=\"48.2993%\" y1=\"19.2px\" y2=\"48px\" /><svg width=\"2.72109%\" x=\"51.7007%\" y=\"48px\"><defs /><svg width=\"100%\" x=\"0\" y=\"0px\"><defs /><text text-anchor=\"middle\" x=\"50%\" y=\"16px\">of</text></svg><svg width=\"100%\" x=\"0%\" y=\"48px\"><defs /><svg width=\"100%\" x=\"0\" y=\"0px\"><defs /><text text-anchor=\"middle\" x=\"50%\" y=\"16px\">O</text></svg></svg><line stroke=\"black\" x1=\"50%\" x2=\"50%\" y1=\"19.2px\" y2=\"48px\" /></svg><line stroke=\"black\" x1=\"50%\" x2=\"53.0612%\" y1=\"19.2px\" y2=\"48px\" /><svg width=\"4.08163%\" x=\"54.4218%\" y=\"48px\"><defs /><svg width=\"100%\" x=\"0\" y=\"0px\"><defs /><text text-anchor=\"middle\" x=\"50%\" y=\"16px\">cnto</text></svg><svg width=\"100%\" x=\"0%\" y=\"48px\"><defs /><svg width=\"100%\" x=\"0\" y=\"0px\"><defs /><text text-anchor=\"middle\" x=\"50%\" y=\"16px\">O</text></svg></svg><line stroke=\"black\" x1=\"50%\" x2=\"50%\" y1=\"19.2px\" y2=\"48px\" /></svg><line stroke=\"black\" x1=\"50%\" x2=\"56.4626%\" y1=\"19.2px\" y2=\"48px\" /><svg width=\"4.08163%\" x=\"58.5034%\" y=\"48px\"><defs /><svg width=\"100%\" x=\"0\" y=\"0px\"><defs /><text text-anchor=\"middle\" x=\"50%\" y=\"16px\">1275</text></svg><svg width=\"100%\" x=\"0%\" y=\"48px\"><defs /><svg width=\"100%\" x=\"0\" y=\"0px\"><defs /><text text-anchor=\"middle\" x=\"50%\" y=\"16px\">O</text></svg></svg><line stroke=\"black\" x1=\"50%\" x2=\"50%\" y1=\"19.2px\" y2=\"48px\" /></svg><line stroke=\"black\" x1=\"50%\" x2=\"60.5442%\" y1=\"19.2px\" y2=\"48px\" /><svg width=\"2.72109%\" x=\"62.585%\" y=\"48px\"><defs /><svg width=\"100%\" x=\"0\" y=\"0px\"><defs /><text text-anchor=\"middle\" x=\"50%\" y=\"16px\">in</text></svg><svg width=\"100%\" x=\"0%\" y=\"48px\"><defs /><svg width=\"100%\" x=\"0\" y=\"0px\"><defs /><text text-anchor=\"middle\" x=\"50%\" y=\"16px\">O</text></svg></svg><line stroke=\"black\" x1=\"50%\" x2=\"50%\" y1=\"19.2px\" y2=\"48px\" /></svg><line stroke=\"black\" x1=\"50%\" x2=\"63.9456%\" y1=\"19.2px\" y2=\"48px\" /><svg width=\"9.52381%\" x=\"65.3061%\" y=\"48px\"><defs /><svg width=\"100%\" x=\"0\" y=\"0px\"><defs /><text text-anchor=\"middle\" x=\"50%\" y=\"16px\">participants</text></svg><svg width=\"100%\" x=\"0%\" y=\"48px\"><defs /><svg width=\"100%\" x=\"0\" y=\"0px\"><defs /><text text-anchor=\"middle\" x=\"50%\" y=\"16px\">O</text></svg></svg><line stroke=\"black\" x1=\"50%\" x2=\"50%\" y1=\"19.2px\" y2=\"48px\" /></svg><line stroke=\"black\" x1=\"50%\" x2=\"70.068%\" y1=\"19.2px\" y2=\"48px\" /><svg width=\"4.08163%\" x=\"74.8299%\" y=\"48px\"><defs /><svg width=\"100%\" x=\"0\" y=\"0px\"><defs /><text text-anchor=\"middle\" x=\"50%\" y=\"16px\">with</text></svg><svg width=\"100%\" x=\"0%\" y=\"48px\"><defs /><svg width=\"100%\" x=\"0\" y=\"0px\"><defs /><text text-anchor=\"middle\" x=\"50%\" y=\"16px\">O</text></svg></svg><line stroke=\"black\" x1=\"50%\" x2=\"50%\" y1=\"19.2px\" y2=\"48px\" /></svg><line stroke=\"black\" x1=\"50%\" x2=\"76.8707%\" y1=\"19.2px\" y2=\"48px\" /><svg width=\"5.44218%\" x=\"78.9116%\" y=\"48px\"><defs /><svg width=\"100%\" x=\"0\" y=\"0px\"><defs /><text text-anchor=\"middle\" x=\"50%\" y=\"16px\">active</text></svg><svg width=\"100%\" x=\"0%\" y=\"48px\"><defs /><svg width=\"100%\" x=\"0\" y=\"0px\"><defs /><text text-anchor=\"middle\" x=\"50%\" y=\"16px\">O</text></svg></svg><line stroke=\"black\" x1=\"50%\" x2=\"50%\" y1=\"19.2px\" y2=\"48px\" /></svg><line stroke=\"black\" x1=\"50%\" x2=\"81.6327%\" y1=\"19.2px\" y2=\"48px\" /><svg width=\"4.7619%\" x=\"84.3537%\" y=\"48px\"><defs /><svg width=\"100%\" x=\"0\" y=\"0px\"><defs /><text text-anchor=\"middle\" x=\"50%\" y=\"16px\">crohn</text></svg><svg width=\"100%\" x=\"0%\" y=\"48px\"><defs /><svg width=\"100%\" x=\"0\" y=\"0px\"><defs /><text text-anchor=\"middle\" x=\"50%\" y=\"16px\">O</text></svg></svg><line stroke=\"black\" x1=\"50%\" x2=\"50%\" y1=\"19.2px\" y2=\"48px\" /></svg><line stroke=\"black\" x1=\"50%\" x2=\"86.7347%\" y1=\"19.2px\" y2=\"48px\" /><svg width=\"2.72109%\" x=\"89.1156%\" y=\"48px\"><defs /><svg width=\"100%\" x=\"0\" y=\"0px\"><defs /><text text-anchor=\"middle\" x=\"50%\" y=\"16px\">'s</text></svg><svg width=\"100%\" x=\"0%\" y=\"48px\"><defs /><svg width=\"100%\" x=\"0\" y=\"0px\"><defs /><text text-anchor=\"middle\" x=\"50%\" y=\"16px\">O</text></svg></svg><line stroke=\"black\" x1=\"50%\" x2=\"50%\" y1=\"19.2px\" y2=\"48px\" /></svg><line stroke=\"black\" x1=\"50%\" x2=\"90.4762%\" y1=\"19.2px\" y2=\"48px\" /><svg width=\"6.12245%\" x=\"91.8367%\" y=\"48px\"><defs /><svg width=\"100%\" x=\"0\" y=\"0px\"><defs /><text text-anchor=\"middle\" x=\"50%\" y=\"16px\">disease</text></svg><svg width=\"100%\" x=\"0%\" y=\"48px\"><defs /><svg width=\"100%\" x=\"0\" y=\"0px\"><defs /><text text-anchor=\"middle\" x=\"50%\" y=\"16px\">O</text></svg></svg><line stroke=\"black\" x1=\"50%\" x2=\"50%\" y1=\"19.2px\" y2=\"48px\" /></svg><line stroke=\"black\" x1=\"50%\" x2=\"94.898%\" y1=\"19.2px\" y2=\"48px\" /><svg width=\"2.04082%\" x=\"97.9592%\" y=\"48px\"><defs /><svg width=\"100%\" x=\"0\" y=\"0px\"><defs /><text text-anchor=\"middle\" x=\"50%\" y=\"16px\">.</text></svg><svg width=\"100%\" x=\"0%\" y=\"48px\"><defs /><svg width=\"100%\" x=\"0\" y=\"0px\"><defs /><text text-anchor=\"middle\" x=\"50%\" y=\"16px\">O</text></svg></svg><line stroke=\"black\" x1=\"50%\" x2=\"50%\" y1=\"19.2px\" y2=\"48px\" /></svg><line stroke=\"black\" x1=\"50%\" x2=\"98.9796%\" y1=\"19.2px\" y2=\"48px\" /></svg>"
     },
     "execution_count": 52,
     "metadata": {},
     "output_type": "execute_result"
    }
   ],
   "source": [
    "# This is a tagger issue, 'cnto' is tagged as other, it should have been tagged as 'C2E'\n",
    "test_trees[index]"
   ]
  },
  {
   "cell_type": "code",
   "execution_count": 53,
   "id": "e1bf357629f2bb08",
   "metadata": {
    "collapsed": false,
    "ExecuteTime": {
     "end_time": "2024-03-18T20:35:54.251146Z",
     "start_time": "2024-03-18T20:35:54.070436Z"
    }
   },
   "outputs": [],
   "source": [
    "raw_synonym_maps = util.get_synonym_maps(synonyms_df, clean_up_terms=False)\n",
    "raw_terms_by_preferred_name = raw_synonym_maps['terms_by_preferred_name']"
   ]
  },
  {
   "cell_type": "code",
   "execution_count": 54,
   "id": "e9598f5a7bbf4e12",
   "metadata": {
    "collapsed": false,
    "ExecuteTime": {
     "end_time": "2024-03-18T20:35:54.255627Z",
     "start_time": "2024-03-18T20:35:54.252178Z"
    }
   },
   "outputs": [
    {
     "data": {
      "text/plain": "['cnto1275', 'cnto-1275', 'cnto1275', 'cnto-1275', 'stelara', 'ustekinumab']"
     },
     "execution_count": 54,
     "metadata": {},
     "output_type": "execute_result"
    }
   ],
   "source": [
    "_pref_name = 'ustekinumab'\n",
    "for term in raw_terms_by_preferred_name[_pref_name]:\n",
    "    if term in _sum_raw:\n",
    "        print(term)\n",
    "raw_terms_by_preferred_name[_pref_name]"
   ]
  },
  {
   "cell_type": "code",
   "execution_count": 54,
   "id": "d35d74d89403d516",
   "metadata": {
    "collapsed": false,
    "ExecuteTime": {
     "end_time": "2024-03-18T20:35:54.257955Z",
     "start_time": "2024-03-18T20:35:54.256478Z"
    }
   },
   "outputs": [],
   "source": []
  },
  {
   "cell_type": "markdown",
   "id": "35e2a26f-e4a2-481b-a3b9-ba0a3b7b28dc",
   "metadata": {
    "collapsed": false
   },
   "source": [
    "# Save"
   ]
  },
  {
   "cell_type": "code",
   "execution_count": 55,
   "id": "f7b08eff-c4ff-4629-b53d-801e8bfb618f",
   "metadata": {
    "ExecuteTime": {
     "end_time": "2024-03-18T20:35:54.262621Z",
     "start_time": "2024-03-18T20:35:54.258782Z"
    }
   },
   "outputs": [],
   "source": [
    "test_df.to_parquet(data_config['extraction_nltk_file_name'], index=False) "
   ]
  },
  {
   "cell_type": "code",
   "outputs": [],
   "source": [],
   "metadata": {
    "collapsed": false,
    "ExecuteTime": {
     "end_time": "2024-03-18T20:35:54.264962Z",
     "start_time": "2024-03-18T20:35:54.263453Z"
    }
   },
   "id": "bb0a9b336d542695",
   "execution_count": 55
  }
 ],
 "metadata": {
  "kernelspec": {
   "display_name": "Python 3 (ipykernel)",
   "language": "python",
   "name": "python3"
  },
  "language_info": {
   "codemirror_mode": {
    "name": "ipython",
    "version": 3
   },
   "file_extension": ".py",
   "mimetype": "text/x-python",
   "name": "python",
   "nbconvert_exporter": "python",
   "pygments_lexer": "ipython3",
   "version": "3.10.13"
  }
 },
 "nbformat": 4,
 "nbformat_minor": 5
}
