{
 "cells": [
  {
   "cell_type": "code",
   "id": "initial_id",
   "metadata": {
    "collapsed": true,
    "ExecuteTime": {
     "end_time": "2024-04-07T22:20:23.955396Z",
     "start_time": "2024-04-07T22:20:22.369477Z"
    }
   },
   "source": [
    "import dotenv\n",
    "import pandas as pd\n",
    "\n",
    "from src.features import build_features"
   ],
   "outputs": [],
   "execution_count": 1
  },
  {
   "metadata": {
    "ExecuteTime": {
     "end_time": "2024-04-07T22:20:23.960104Z",
     "start_time": "2024-04-07T22:20:23.956448Z"
    }
   },
   "cell_type": "code",
   "source": "config = dotenv.dotenv_values(dotenv_path=dotenv.find_dotenv())",
   "id": "a217166fe170fa91",
   "outputs": [],
   "execution_count": 2
  },
  {
   "metadata": {
    "ExecuteTime": {
     "end_time": "2024-04-07T22:20:23.962396Z",
     "start_time": "2024-04-07T22:20:23.960848Z"
    }
   },
   "cell_type": "code",
   "source": "",
   "id": "96ea4e5ce2de3ee0",
   "outputs": [],
   "execution_count": 2
  },
  {
   "metadata": {
    "ExecuteTime": {
     "end_time": "2024-04-07T22:20:23.976018Z",
     "start_time": "2024-04-07T22:20:23.964135Z"
    }
   },
   "cell_type": "code",
   "source": [
    "def check_characters(text_column: pd.Series):\n",
    "    word_set = set(\n",
    "        word\n",
    "        for synonym in text_column\n",
    "        for word in synonym.split()\n",
    "    )\n",
    "    print(f'vocabulary size: {len(word_set)}')\n",
    "    characters = set([char for word in word_set for char in word])\n",
    "    extra_characters = [char for char in characters if not char.isalpha()]\n",
    "    print(f'All characters{sorted(characters)}')\n",
    "    print(f'Extra characters{sorted(extra_characters)}')"
   ],
   "id": "42666d0d4c51f161",
   "outputs": [],
   "execution_count": 3
  },
  {
   "metadata": {},
   "cell_type": "markdown",
   "source": "# Raw Synonyms",
   "id": "60644a69e6308f86"
  },
  {
   "metadata": {
    "ExecuteTime": {
     "end_time": "2024-04-07T22:20:24.002727Z",
     "start_time": "2024-04-07T22:20:23.978401Z"
    }
   },
   "cell_type": "code",
   "source": [
    "raw_synonyms = pd.read_csv(config['raw_synonyms_file_name'])\n",
    "raw_synonyms.shape"
   ],
   "id": "3c6a77c6ea70619b",
   "outputs": [
    {
     "data": {
      "text/plain": [
       "(23369, 6)"
      ]
     },
     "execution_count": 4,
     "metadata": {},
     "output_type": "execute_result"
    }
   ],
   "execution_count": 4
  },
  {
   "metadata": {
    "ExecuteTime": {
     "end_time": "2024-04-07T22:20:24.010432Z",
     "start_time": "2024-04-07T22:20:24.003516Z"
    }
   },
   "cell_type": "code",
   "source": "raw_synonyms.head()",
   "id": "89e3574e463e2d3",
   "outputs": [
    {
     "data": {
      "text/plain": [
       "   syn_id      id                        name  preferred_name  parent_id  \\\n",
       "0   23310  5391.0                 sacituzumab             NaN        NaN   \n",
       "1   23311  5391.0       sacituzumab govitecan             1.0        NaN   \n",
       "2   23312  5391.0  sacituzumab govitecan-hziy             NaN        NaN   \n",
       "3   23313  5391.0                    trodelvy             NaN        NaN   \n",
       "4   23314  5391.0                    IMMU-132             NaN        NaN   \n",
       "\n",
       "                        lname  \n",
       "0                 sacituzumab  \n",
       "1       sacituzumab govitecan  \n",
       "2  sacituzumab govitecan-hziy  \n",
       "3                    trodelvy  \n",
       "4                    immu-132  "
      ],
      "text/html": [
       "<div>\n",
       "<style scoped>\n",
       "    .dataframe tbody tr th:only-of-type {\n",
       "        vertical-align: middle;\n",
       "    }\n",
       "\n",
       "    .dataframe tbody tr th {\n",
       "        vertical-align: top;\n",
       "    }\n",
       "\n",
       "    .dataframe thead th {\n",
       "        text-align: right;\n",
       "    }\n",
       "</style>\n",
       "<table border=\"1\" class=\"dataframe\">\n",
       "  <thead>\n",
       "    <tr style=\"text-align: right;\">\n",
       "      <th></th>\n",
       "      <th>syn_id</th>\n",
       "      <th>id</th>\n",
       "      <th>name</th>\n",
       "      <th>preferred_name</th>\n",
       "      <th>parent_id</th>\n",
       "      <th>lname</th>\n",
       "    </tr>\n",
       "  </thead>\n",
       "  <tbody>\n",
       "    <tr>\n",
       "      <th>0</th>\n",
       "      <td>23310</td>\n",
       "      <td>5391.0</td>\n",
       "      <td>sacituzumab</td>\n",
       "      <td>NaN</td>\n",
       "      <td>NaN</td>\n",
       "      <td>sacituzumab</td>\n",
       "    </tr>\n",
       "    <tr>\n",
       "      <th>1</th>\n",
       "      <td>23311</td>\n",
       "      <td>5391.0</td>\n",
       "      <td>sacituzumab govitecan</td>\n",
       "      <td>1.0</td>\n",
       "      <td>NaN</td>\n",
       "      <td>sacituzumab govitecan</td>\n",
       "    </tr>\n",
       "    <tr>\n",
       "      <th>2</th>\n",
       "      <td>23312</td>\n",
       "      <td>5391.0</td>\n",
       "      <td>sacituzumab govitecan-hziy</td>\n",
       "      <td>NaN</td>\n",
       "      <td>NaN</td>\n",
       "      <td>sacituzumab govitecan-hziy</td>\n",
       "    </tr>\n",
       "    <tr>\n",
       "      <th>3</th>\n",
       "      <td>23313</td>\n",
       "      <td>5391.0</td>\n",
       "      <td>trodelvy</td>\n",
       "      <td>NaN</td>\n",
       "      <td>NaN</td>\n",
       "      <td>trodelvy</td>\n",
       "    </tr>\n",
       "    <tr>\n",
       "      <th>4</th>\n",
       "      <td>23314</td>\n",
       "      <td>5391.0</td>\n",
       "      <td>IMMU-132</td>\n",
       "      <td>NaN</td>\n",
       "      <td>NaN</td>\n",
       "      <td>immu-132</td>\n",
       "    </tr>\n",
       "  </tbody>\n",
       "</table>\n",
       "</div>"
      ]
     },
     "execution_count": 5,
     "metadata": {},
     "output_type": "execute_result"
    }
   ],
   "execution_count": 5
  },
  {
   "metadata": {
    "ExecuteTime": {
     "end_time": "2024-04-07T22:20:24.017511Z",
     "start_time": "2024-04-07T22:20:24.011149Z"
    }
   },
   "cell_type": "code",
   "source": "raw_synonyms.info()",
   "id": "510732b45cd1d737",
   "outputs": [
    {
     "name": "stdout",
     "output_type": "stream",
     "text": [
      "<class 'pandas.core.frame.DataFrame'>\n",
      "RangeIndex: 23369 entries, 0 to 23368\n",
      "Data columns (total 6 columns):\n",
      " #   Column          Non-Null Count  Dtype  \n",
      "---  ------          --------------  -----  \n",
      " 0   syn_id          23369 non-null  int64  \n",
      " 1   id              23236 non-null  float64\n",
      " 2   name            23369 non-null  object \n",
      " 3   preferred_name  5025 non-null   float64\n",
      " 4   parent_id       226 non-null    float64\n",
      " 5   lname           23369 non-null  object \n",
      "dtypes: float64(3), int64(1), object(2)\n",
      "memory usage: 1.1+ MB\n"
     ]
    }
   ],
   "execution_count": 6
  },
  {
   "metadata": {
    "ExecuteTime": {
     "end_time": "2024-04-07T22:20:24.042174Z",
     "start_time": "2024-04-07T22:20:24.018220Z"
    }
   },
   "cell_type": "code",
   "source": "raw_synonyms.describe(include='all')",
   "id": "f7ff5bc60e33e2d3",
   "outputs": [
    {
     "data": {
      "text/plain": [
       "              syn_id            id         name  preferred_name   parent_id  \\\n",
       "count   23369.000000  23236.000000        23369     5025.000000  226.000000   \n",
       "unique           NaN           NaN        23369             NaN         NaN   \n",
       "top              NaN           NaN  sacituzumab             NaN         NaN   \n",
       "freq             NaN           NaN            1             NaN         NaN   \n",
       "mean    12120.703453   2705.518506          NaN        0.999602  118.420354   \n",
       "std      7117.063200   1671.680913          NaN        0.019948   71.019655   \n",
       "min         3.000000      4.000000          NaN        0.000000    1.000000   \n",
       "25%      6023.000000   1280.750000          NaN        1.000000   58.250000   \n",
       "50%     11983.000000   2493.000000          NaN        1.000000  114.500000   \n",
       "75%     17934.000000   4230.000000          NaN        1.000000  170.250000   \n",
       "max     25489.000000   5743.000000          NaN        1.000000  237.000000   \n",
       "\n",
       "              lname  \n",
       "count         23369  \n",
       "unique        23369  \n",
       "top     sacituzumab  \n",
       "freq              1  \n",
       "mean            NaN  \n",
       "std             NaN  \n",
       "min             NaN  \n",
       "25%             NaN  \n",
       "50%             NaN  \n",
       "75%             NaN  \n",
       "max             NaN  "
      ],
      "text/html": [
       "<div>\n",
       "<style scoped>\n",
       "    .dataframe tbody tr th:only-of-type {\n",
       "        vertical-align: middle;\n",
       "    }\n",
       "\n",
       "    .dataframe tbody tr th {\n",
       "        vertical-align: top;\n",
       "    }\n",
       "\n",
       "    .dataframe thead th {\n",
       "        text-align: right;\n",
       "    }\n",
       "</style>\n",
       "<table border=\"1\" class=\"dataframe\">\n",
       "  <thead>\n",
       "    <tr style=\"text-align: right;\">\n",
       "      <th></th>\n",
       "      <th>syn_id</th>\n",
       "      <th>id</th>\n",
       "      <th>name</th>\n",
       "      <th>preferred_name</th>\n",
       "      <th>parent_id</th>\n",
       "      <th>lname</th>\n",
       "    </tr>\n",
       "  </thead>\n",
       "  <tbody>\n",
       "    <tr>\n",
       "      <th>count</th>\n",
       "      <td>23369.000000</td>\n",
       "      <td>23236.000000</td>\n",
       "      <td>23369</td>\n",
       "      <td>5025.000000</td>\n",
       "      <td>226.000000</td>\n",
       "      <td>23369</td>\n",
       "    </tr>\n",
       "    <tr>\n",
       "      <th>unique</th>\n",
       "      <td>NaN</td>\n",
       "      <td>NaN</td>\n",
       "      <td>23369</td>\n",
       "      <td>NaN</td>\n",
       "      <td>NaN</td>\n",
       "      <td>23369</td>\n",
       "    </tr>\n",
       "    <tr>\n",
       "      <th>top</th>\n",
       "      <td>NaN</td>\n",
       "      <td>NaN</td>\n",
       "      <td>sacituzumab</td>\n",
       "      <td>NaN</td>\n",
       "      <td>NaN</td>\n",
       "      <td>sacituzumab</td>\n",
       "    </tr>\n",
       "    <tr>\n",
       "      <th>freq</th>\n",
       "      <td>NaN</td>\n",
       "      <td>NaN</td>\n",
       "      <td>1</td>\n",
       "      <td>NaN</td>\n",
       "      <td>NaN</td>\n",
       "      <td>1</td>\n",
       "    </tr>\n",
       "    <tr>\n",
       "      <th>mean</th>\n",
       "      <td>12120.703453</td>\n",
       "      <td>2705.518506</td>\n",
       "      <td>NaN</td>\n",
       "      <td>0.999602</td>\n",
       "      <td>118.420354</td>\n",
       "      <td>NaN</td>\n",
       "    </tr>\n",
       "    <tr>\n",
       "      <th>std</th>\n",
       "      <td>7117.063200</td>\n",
       "      <td>1671.680913</td>\n",
       "      <td>NaN</td>\n",
       "      <td>0.019948</td>\n",
       "      <td>71.019655</td>\n",
       "      <td>NaN</td>\n",
       "    </tr>\n",
       "    <tr>\n",
       "      <th>min</th>\n",
       "      <td>3.000000</td>\n",
       "      <td>4.000000</td>\n",
       "      <td>NaN</td>\n",
       "      <td>0.000000</td>\n",
       "      <td>1.000000</td>\n",
       "      <td>NaN</td>\n",
       "    </tr>\n",
       "    <tr>\n",
       "      <th>25%</th>\n",
       "      <td>6023.000000</td>\n",
       "      <td>1280.750000</td>\n",
       "      <td>NaN</td>\n",
       "      <td>1.000000</td>\n",
       "      <td>58.250000</td>\n",
       "      <td>NaN</td>\n",
       "    </tr>\n",
       "    <tr>\n",
       "      <th>50%</th>\n",
       "      <td>11983.000000</td>\n",
       "      <td>2493.000000</td>\n",
       "      <td>NaN</td>\n",
       "      <td>1.000000</td>\n",
       "      <td>114.500000</td>\n",
       "      <td>NaN</td>\n",
       "    </tr>\n",
       "    <tr>\n",
       "      <th>75%</th>\n",
       "      <td>17934.000000</td>\n",
       "      <td>4230.000000</td>\n",
       "      <td>NaN</td>\n",
       "      <td>1.000000</td>\n",
       "      <td>170.250000</td>\n",
       "      <td>NaN</td>\n",
       "    </tr>\n",
       "    <tr>\n",
       "      <th>max</th>\n",
       "      <td>25489.000000</td>\n",
       "      <td>5743.000000</td>\n",
       "      <td>NaN</td>\n",
       "      <td>1.000000</td>\n",
       "      <td>237.000000</td>\n",
       "      <td>NaN</td>\n",
       "    </tr>\n",
       "  </tbody>\n",
       "</table>\n",
       "</div>"
      ]
     },
     "execution_count": 7,
     "metadata": {},
     "output_type": "execute_result"
    }
   ],
   "execution_count": 7
  },
  {
   "metadata": {},
   "cell_type": "markdown",
   "source": "## Check characters",
   "id": "c2daf9ea24129da6"
  },
  {
   "metadata": {
    "ExecuteTime": {
     "end_time": "2024-04-07T22:20:24.055869Z",
     "start_time": "2024-04-07T22:20:24.042881Z"
    }
   },
   "cell_type": "code",
   "source": "check_characters(raw_synonyms['name'])",
   "id": "f38be1f87245d367",
   "outputs": [
    {
     "name": "stdout",
     "output_type": "stream",
     "text": [
      "vocabulary size: 19501\n",
      "All characters['&', \"'\", '(', ')', '+', ',', '-', '.', '/', '0', '1', '2', '3', '4', '5', '6', '7', '8', '9', ':', '<', '>', 'A', 'B', 'C', 'D', 'E', 'F', 'G', 'H', 'I', 'J', 'K', 'L', 'M', 'N', 'O', 'P', 'Q', 'R', 'S', 'T', 'U', 'V', 'W', 'X', 'Y', 'Z', '[', ']', 'a', 'b', 'c', 'd', 'e', 'f', 'g', 'h', 'i', 'j', 'k', 'l', 'm', 'n', 'o', 'p', 'q', 'r', 's', 't', 'u', 'v', 'w', 'x', 'y', 'z', '–']\n",
      "Extra characters['&', \"'\", '(', ')', '+', ',', '-', '.', '/', '0', '1', '2', '3', '4', '5', '6', '7', '8', '9', ':', '<', '>', '[', ']', '–']\n"
     ]
    }
   ],
   "execution_count": 8
  },
  {
   "metadata": {
    "ExecuteTime": {
     "end_time": "2024-04-07T22:20:24.070722Z",
     "start_time": "2024-04-07T22:20:24.057908Z"
    }
   },
   "cell_type": "code",
   "source": "check_characters(raw_synonyms['lname'])",
   "id": "7e2e7126ad3ecb6f",
   "outputs": [
    {
     "name": "stdout",
     "output_type": "stream",
     "text": [
      "vocabulary size: 19349\n",
      "All characters['&', \"'\", '(', ')', '+', ',', '-', '.', '/', '0', '1', '2', '3', '4', '5', '6', '7', '8', '9', ':', '<', '>', '[', ']', 'a', 'b', 'c', 'd', 'e', 'f', 'g', 'h', 'i', 'j', 'k', 'l', 'm', 'n', 'o', 'p', 'q', 'r', 's', 't', 'u', 'v', 'w', 'x', 'y', 'z', '–']\n",
      "Extra characters['&', \"'\", '(', ')', '+', ',', '-', '.', '/', '0', '1', '2', '3', '4', '5', '6', '7', '8', '9', ':', '<', '>', '[', ']', '–']\n"
     ]
    }
   ],
   "execution_count": 9
  },
  {
   "metadata": {},
   "cell_type": "markdown",
   "source": "## Check id and parent_id",
   "id": "63b6ad553299aa41"
  },
  {
   "metadata": {
    "ExecuteTime": {
     "end_time": "2024-04-07T22:20:24.081293Z",
     "start_time": "2024-04-07T22:20:24.071485Z"
    }
   },
   "cell_type": "code",
   "source": "raw_synonyms[~raw_synonyms['parent_id'].isna()]",
   "id": "2583bf1b7bc41f8",
   "outputs": [
    {
     "data": {
      "text/plain": [
       "       syn_id      id                       name  preferred_name  parent_id  \\\n",
       "68      23378  5401.0                 BMS-626529             NaN      230.0   \n",
       "69      23379  5401.0                 BMS 626529             NaN      230.0   \n",
       "310     23720  5448.0      serdexmethylphenidate             1.0      231.0   \n",
       "476     23151  5377.0         N4-Hydroxycytidine             NaN      229.0   \n",
       "477     23152  5377.0  Beta-D-N4-hydroxycytidine             NaN      229.0   \n",
       "...       ...     ...                        ...             ...        ...   \n",
       "22545   24416     NaN                laidlomycin             1.0      236.0   \n",
       "22546   24417     NaN                BRN 1675244             NaN      236.0   \n",
       "22547   24418     NaN           EINECS 260-095-1             NaN      236.0   \n",
       "23071   25105     NaN                carotegrast             1.0      237.0   \n",
       "23072   25106     NaN                    HCA2969             NaN      237.0   \n",
       "\n",
       "                           lname  \n",
       "68                    bms-626529  \n",
       "69                    bms 626529  \n",
       "310        serdexmethylphenidate  \n",
       "476           n4-hydroxycytidine  \n",
       "477    beta-d-n4-hydroxycytidine  \n",
       "...                          ...  \n",
       "22545                laidlomycin  \n",
       "22546                brn 1675244  \n",
       "22547           einecs 260-095-1  \n",
       "23071                carotegrast  \n",
       "23072                    hca2969  \n",
       "\n",
       "[226 rows x 6 columns]"
      ],
      "text/html": [
       "<div>\n",
       "<style scoped>\n",
       "    .dataframe tbody tr th:only-of-type {\n",
       "        vertical-align: middle;\n",
       "    }\n",
       "\n",
       "    .dataframe tbody tr th {\n",
       "        vertical-align: top;\n",
       "    }\n",
       "\n",
       "    .dataframe thead th {\n",
       "        text-align: right;\n",
       "    }\n",
       "</style>\n",
       "<table border=\"1\" class=\"dataframe\">\n",
       "  <thead>\n",
       "    <tr style=\"text-align: right;\">\n",
       "      <th></th>\n",
       "      <th>syn_id</th>\n",
       "      <th>id</th>\n",
       "      <th>name</th>\n",
       "      <th>preferred_name</th>\n",
       "      <th>parent_id</th>\n",
       "      <th>lname</th>\n",
       "    </tr>\n",
       "  </thead>\n",
       "  <tbody>\n",
       "    <tr>\n",
       "      <th>68</th>\n",
       "      <td>23378</td>\n",
       "      <td>5401.0</td>\n",
       "      <td>BMS-626529</td>\n",
       "      <td>NaN</td>\n",
       "      <td>230.0</td>\n",
       "      <td>bms-626529</td>\n",
       "    </tr>\n",
       "    <tr>\n",
       "      <th>69</th>\n",
       "      <td>23379</td>\n",
       "      <td>5401.0</td>\n",
       "      <td>BMS 626529</td>\n",
       "      <td>NaN</td>\n",
       "      <td>230.0</td>\n",
       "      <td>bms 626529</td>\n",
       "    </tr>\n",
       "    <tr>\n",
       "      <th>310</th>\n",
       "      <td>23720</td>\n",
       "      <td>5448.0</td>\n",
       "      <td>serdexmethylphenidate</td>\n",
       "      <td>1.0</td>\n",
       "      <td>231.0</td>\n",
       "      <td>serdexmethylphenidate</td>\n",
       "    </tr>\n",
       "    <tr>\n",
       "      <th>476</th>\n",
       "      <td>23151</td>\n",
       "      <td>5377.0</td>\n",
       "      <td>N4-Hydroxycytidine</td>\n",
       "      <td>NaN</td>\n",
       "      <td>229.0</td>\n",
       "      <td>n4-hydroxycytidine</td>\n",
       "    </tr>\n",
       "    <tr>\n",
       "      <th>477</th>\n",
       "      <td>23152</td>\n",
       "      <td>5377.0</td>\n",
       "      <td>Beta-D-N4-hydroxycytidine</td>\n",
       "      <td>NaN</td>\n",
       "      <td>229.0</td>\n",
       "      <td>beta-d-n4-hydroxycytidine</td>\n",
       "    </tr>\n",
       "    <tr>\n",
       "      <th>...</th>\n",
       "      <td>...</td>\n",
       "      <td>...</td>\n",
       "      <td>...</td>\n",
       "      <td>...</td>\n",
       "      <td>...</td>\n",
       "      <td>...</td>\n",
       "    </tr>\n",
       "    <tr>\n",
       "      <th>22545</th>\n",
       "      <td>24416</td>\n",
       "      <td>NaN</td>\n",
       "      <td>laidlomycin</td>\n",
       "      <td>1.0</td>\n",
       "      <td>236.0</td>\n",
       "      <td>laidlomycin</td>\n",
       "    </tr>\n",
       "    <tr>\n",
       "      <th>22546</th>\n",
       "      <td>24417</td>\n",
       "      <td>NaN</td>\n",
       "      <td>BRN 1675244</td>\n",
       "      <td>NaN</td>\n",
       "      <td>236.0</td>\n",
       "      <td>brn 1675244</td>\n",
       "    </tr>\n",
       "    <tr>\n",
       "      <th>22547</th>\n",
       "      <td>24418</td>\n",
       "      <td>NaN</td>\n",
       "      <td>EINECS 260-095-1</td>\n",
       "      <td>NaN</td>\n",
       "      <td>236.0</td>\n",
       "      <td>einecs 260-095-1</td>\n",
       "    </tr>\n",
       "    <tr>\n",
       "      <th>23071</th>\n",
       "      <td>25105</td>\n",
       "      <td>NaN</td>\n",
       "      <td>carotegrast</td>\n",
       "      <td>1.0</td>\n",
       "      <td>237.0</td>\n",
       "      <td>carotegrast</td>\n",
       "    </tr>\n",
       "    <tr>\n",
       "      <th>23072</th>\n",
       "      <td>25106</td>\n",
       "      <td>NaN</td>\n",
       "      <td>HCA2969</td>\n",
       "      <td>NaN</td>\n",
       "      <td>237.0</td>\n",
       "      <td>hca2969</td>\n",
       "    </tr>\n",
       "  </tbody>\n",
       "</table>\n",
       "<p>226 rows × 6 columns</p>\n",
       "</div>"
      ]
     },
     "execution_count": 10,
     "metadata": {},
     "output_type": "execute_result"
    }
   ],
   "execution_count": 10
  },
  {
   "metadata": {
    "ExecuteTime": {
     "end_time": "2024-04-07T22:20:24.090130Z",
     "start_time": "2024-04-07T22:20:24.082014Z"
    }
   },
   "cell_type": "code",
   "source": "raw_synonyms[raw_synonyms['name']=='clobetasone butyrate']",
   "id": "5e92d10976a06465",
   "outputs": [
    {
     "data": {
      "text/plain": [
       "      syn_id      id                  name  preferred_name  parent_id  \\\n",
       "7516    4562  3911.0  clobetasone butyrate             1.0        NaN   \n",
       "\n",
       "                     lname  \n",
       "7516  clobetasone butyrate  "
      ],
      "text/html": [
       "<div>\n",
       "<style scoped>\n",
       "    .dataframe tbody tr th:only-of-type {\n",
       "        vertical-align: middle;\n",
       "    }\n",
       "\n",
       "    .dataframe tbody tr th {\n",
       "        vertical-align: top;\n",
       "    }\n",
       "\n",
       "    .dataframe thead th {\n",
       "        text-align: right;\n",
       "    }\n",
       "</style>\n",
       "<table border=\"1\" class=\"dataframe\">\n",
       "  <thead>\n",
       "    <tr style=\"text-align: right;\">\n",
       "      <th></th>\n",
       "      <th>syn_id</th>\n",
       "      <th>id</th>\n",
       "      <th>name</th>\n",
       "      <th>preferred_name</th>\n",
       "      <th>parent_id</th>\n",
       "      <th>lname</th>\n",
       "    </tr>\n",
       "  </thead>\n",
       "  <tbody>\n",
       "    <tr>\n",
       "      <th>7516</th>\n",
       "      <td>4562</td>\n",
       "      <td>3911.0</td>\n",
       "      <td>clobetasone butyrate</td>\n",
       "      <td>1.0</td>\n",
       "      <td>NaN</td>\n",
       "      <td>clobetasone butyrate</td>\n",
       "    </tr>\n",
       "  </tbody>\n",
       "</table>\n",
       "</div>"
      ]
     },
     "execution_count": 11,
     "metadata": {},
     "output_type": "execute_result"
    }
   ],
   "execution_count": 11
  },
  {
   "metadata": {},
   "cell_type": "markdown",
   "source": [
    "Notes: rows with missing `id` will be dropped. \n",
    "`tamatinib` gives 0 results in [https://drugcentral.org/?q=tamatinib&approval=](https://drugcentral.org/?q=tamatinib&approval=)\n",
    "\n",
    "`clobetasone` gives 1 resut: [clobetasone butyrate](https://drugcentral.org/?q=clobetasone&approval=)\n",
    " This is not the same, `clobetasone` is not mentioned in the synonyms of [clobetasone butyrate](https://drugcentral.org/drugcard/3911)\n",
    " "
   ],
   "id": "b3343a17e91f3842"
  },
  {
   "metadata": {
    "ExecuteTime": {
     "end_time": "2024-04-07T22:20:24.092254Z",
     "start_time": "2024-04-07T22:20:24.090885Z"
    }
   },
   "cell_type": "code",
   "source": "",
   "id": "213ba8d378df57ce",
   "outputs": [],
   "execution_count": 11
  },
  {
   "metadata": {
    "ExecuteTime": {
     "end_time": "2024-04-07T22:20:24.098671Z",
     "start_time": "2024-04-07T22:20:24.093067Z"
    }
   },
   "cell_type": "code",
   "source": "raw_synonyms[raw_synonyms['id']==217.0]",
   "id": "e5e4c4d2938614fa",
   "outputs": [
    {
     "data": {
      "text/plain": [
       "       syn_id     id                name  preferred_name  parent_id  \\\n",
       "7017     4046  217.0  anecortave acetate             NaN        NaN   \n",
       "16343   13593  217.0          anecortave             1.0        NaN   \n",
       "19700   17011  217.0             retaane             NaN        NaN   \n",
       "\n",
       "                    lname  \n",
       "7017   anecortave acetate  \n",
       "16343          anecortave  \n",
       "19700             retaane  "
      ],
      "text/html": [
       "<div>\n",
       "<style scoped>\n",
       "    .dataframe tbody tr th:only-of-type {\n",
       "        vertical-align: middle;\n",
       "    }\n",
       "\n",
       "    .dataframe tbody tr th {\n",
       "        vertical-align: top;\n",
       "    }\n",
       "\n",
       "    .dataframe thead th {\n",
       "        text-align: right;\n",
       "    }\n",
       "</style>\n",
       "<table border=\"1\" class=\"dataframe\">\n",
       "  <thead>\n",
       "    <tr style=\"text-align: right;\">\n",
       "      <th></th>\n",
       "      <th>syn_id</th>\n",
       "      <th>id</th>\n",
       "      <th>name</th>\n",
       "      <th>preferred_name</th>\n",
       "      <th>parent_id</th>\n",
       "      <th>lname</th>\n",
       "    </tr>\n",
       "  </thead>\n",
       "  <tbody>\n",
       "    <tr>\n",
       "      <th>7017</th>\n",
       "      <td>4046</td>\n",
       "      <td>217.0</td>\n",
       "      <td>anecortave acetate</td>\n",
       "      <td>NaN</td>\n",
       "      <td>NaN</td>\n",
       "      <td>anecortave acetate</td>\n",
       "    </tr>\n",
       "    <tr>\n",
       "      <th>16343</th>\n",
       "      <td>13593</td>\n",
       "      <td>217.0</td>\n",
       "      <td>anecortave</td>\n",
       "      <td>1.0</td>\n",
       "      <td>NaN</td>\n",
       "      <td>anecortave</td>\n",
       "    </tr>\n",
       "    <tr>\n",
       "      <th>19700</th>\n",
       "      <td>17011</td>\n",
       "      <td>217.0</td>\n",
       "      <td>retaane</td>\n",
       "      <td>NaN</td>\n",
       "      <td>NaN</td>\n",
       "      <td>retaane</td>\n",
       "    </tr>\n",
       "  </tbody>\n",
       "</table>\n",
       "</div>"
      ]
     },
     "execution_count": 12,
     "metadata": {},
     "output_type": "execute_result"
    }
   ],
   "execution_count": 12
  },
  {
   "metadata": {
    "ExecuteTime": {
     "end_time": "2024-04-07T22:20:24.105015Z",
     "start_time": "2024-04-07T22:20:24.099481Z"
    }
   },
   "cell_type": "code",
   "source": "raw_synonyms[raw_synonyms['parent_id'] == 225.0]",
   "id": "f00828acadfd7612",
   "outputs": [
    {
     "data": {
      "text/plain": [
       "     syn_id  id       name  preferred_name  parent_id      lname\n",
       "576   22536 NaN  tamatinib             1.0      225.0  tamatinib\n",
       "577   22537 NaN       R406             NaN      225.0       r406\n",
       "578   22538 NaN      R 406             NaN      225.0      r 406"
      ],
      "text/html": [
       "<div>\n",
       "<style scoped>\n",
       "    .dataframe tbody tr th:only-of-type {\n",
       "        vertical-align: middle;\n",
       "    }\n",
       "\n",
       "    .dataframe tbody tr th {\n",
       "        vertical-align: top;\n",
       "    }\n",
       "\n",
       "    .dataframe thead th {\n",
       "        text-align: right;\n",
       "    }\n",
       "</style>\n",
       "<table border=\"1\" class=\"dataframe\">\n",
       "  <thead>\n",
       "    <tr style=\"text-align: right;\">\n",
       "      <th></th>\n",
       "      <th>syn_id</th>\n",
       "      <th>id</th>\n",
       "      <th>name</th>\n",
       "      <th>preferred_name</th>\n",
       "      <th>parent_id</th>\n",
       "      <th>lname</th>\n",
       "    </tr>\n",
       "  </thead>\n",
       "  <tbody>\n",
       "    <tr>\n",
       "      <th>576</th>\n",
       "      <td>22536</td>\n",
       "      <td>NaN</td>\n",
       "      <td>tamatinib</td>\n",
       "      <td>1.0</td>\n",
       "      <td>225.0</td>\n",
       "      <td>tamatinib</td>\n",
       "    </tr>\n",
       "    <tr>\n",
       "      <th>577</th>\n",
       "      <td>22537</td>\n",
       "      <td>NaN</td>\n",
       "      <td>R406</td>\n",
       "      <td>NaN</td>\n",
       "      <td>225.0</td>\n",
       "      <td>r406</td>\n",
       "    </tr>\n",
       "    <tr>\n",
       "      <th>578</th>\n",
       "      <td>22538</td>\n",
       "      <td>NaN</td>\n",
       "      <td>R 406</td>\n",
       "      <td>NaN</td>\n",
       "      <td>225.0</td>\n",
       "      <td>r 406</td>\n",
       "    </tr>\n",
       "  </tbody>\n",
       "</table>\n",
       "</div>"
      ]
     },
     "execution_count": 13,
     "metadata": {},
     "output_type": "execute_result"
    }
   ],
   "execution_count": 13
  },
  {
   "metadata": {
    "ExecuteTime": {
     "end_time": "2024-04-07T22:20:24.112101Z",
     "start_time": "2024-04-07T22:20:24.105820Z"
    }
   },
   "cell_type": "code",
   "source": "(raw_synonyms['name'] == raw_synonyms['lname']).value_counts()",
   "id": "d41fe3d892894a4b",
   "outputs": [
    {
     "data": {
      "text/plain": [
       "True     19151\n",
       "False     4218\n",
       "Name: count, dtype: int64"
      ]
     },
     "execution_count": 14,
     "metadata": {},
     "output_type": "execute_result"
    }
   ],
   "execution_count": 14
  },
  {
   "metadata": {
    "ExecuteTime": {
     "end_time": "2024-04-07T22:20:24.122538Z",
     "start_time": "2024-04-07T22:20:24.112850Z"
    }
   },
   "cell_type": "code",
   "source": "raw_synonyms[(raw_synonyms['name'] != raw_synonyms['lname'])]",
   "id": "7616b68e516fbe64",
   "outputs": [
    {
     "data": {
      "text/plain": [
       "       syn_id      id            name  preferred_name  parent_id  \\\n",
       "4       23314  5391.0        IMMU-132             NaN        NaN   \n",
       "5       23315  5391.0    TROP-2-SN-38             NaN        NaN   \n",
       "6       23316  5391.0  hRS7-SN-38-ADC             NaN        NaN   \n",
       "11      23321  5392.0   NVP-INC280-NX             NaN        NaN   \n",
       "12      23322  5392.0          INC280             NaN        NaN   \n",
       "...       ...     ...             ...             ...        ...   \n",
       "23337   25458  5739.0         ARC1905             NaN        NaN   \n",
       "23341   25462  5740.0        REGN3918             NaN        NaN   \n",
       "23345   25466  5741.0     PF-06863135             NaN        NaN   \n",
       "23346   25467  5741.0           RN613             NaN        NaN   \n",
       "23350   25471  5742.0    JNJ-64407564             NaN        NaN   \n",
       "\n",
       "                lname  \n",
       "4            immu-132  \n",
       "5        trop-2-sn-38  \n",
       "6      hrs7-sn-38-adc  \n",
       "11      nvp-inc280-nx  \n",
       "12             inc280  \n",
       "...               ...  \n",
       "23337         arc1905  \n",
       "23341        regn3918  \n",
       "23345     pf-06863135  \n",
       "23346           rn613  \n",
       "23350    jnj-64407564  \n",
       "\n",
       "[4218 rows x 6 columns]"
      ],
      "text/html": [
       "<div>\n",
       "<style scoped>\n",
       "    .dataframe tbody tr th:only-of-type {\n",
       "        vertical-align: middle;\n",
       "    }\n",
       "\n",
       "    .dataframe tbody tr th {\n",
       "        vertical-align: top;\n",
       "    }\n",
       "\n",
       "    .dataframe thead th {\n",
       "        text-align: right;\n",
       "    }\n",
       "</style>\n",
       "<table border=\"1\" class=\"dataframe\">\n",
       "  <thead>\n",
       "    <tr style=\"text-align: right;\">\n",
       "      <th></th>\n",
       "      <th>syn_id</th>\n",
       "      <th>id</th>\n",
       "      <th>name</th>\n",
       "      <th>preferred_name</th>\n",
       "      <th>parent_id</th>\n",
       "      <th>lname</th>\n",
       "    </tr>\n",
       "  </thead>\n",
       "  <tbody>\n",
       "    <tr>\n",
       "      <th>4</th>\n",
       "      <td>23314</td>\n",
       "      <td>5391.0</td>\n",
       "      <td>IMMU-132</td>\n",
       "      <td>NaN</td>\n",
       "      <td>NaN</td>\n",
       "      <td>immu-132</td>\n",
       "    </tr>\n",
       "    <tr>\n",
       "      <th>5</th>\n",
       "      <td>23315</td>\n",
       "      <td>5391.0</td>\n",
       "      <td>TROP-2-SN-38</td>\n",
       "      <td>NaN</td>\n",
       "      <td>NaN</td>\n",
       "      <td>trop-2-sn-38</td>\n",
       "    </tr>\n",
       "    <tr>\n",
       "      <th>6</th>\n",
       "      <td>23316</td>\n",
       "      <td>5391.0</td>\n",
       "      <td>hRS7-SN-38-ADC</td>\n",
       "      <td>NaN</td>\n",
       "      <td>NaN</td>\n",
       "      <td>hrs7-sn-38-adc</td>\n",
       "    </tr>\n",
       "    <tr>\n",
       "      <th>11</th>\n",
       "      <td>23321</td>\n",
       "      <td>5392.0</td>\n",
       "      <td>NVP-INC280-NX</td>\n",
       "      <td>NaN</td>\n",
       "      <td>NaN</td>\n",
       "      <td>nvp-inc280-nx</td>\n",
       "    </tr>\n",
       "    <tr>\n",
       "      <th>12</th>\n",
       "      <td>23322</td>\n",
       "      <td>5392.0</td>\n",
       "      <td>INC280</td>\n",
       "      <td>NaN</td>\n",
       "      <td>NaN</td>\n",
       "      <td>inc280</td>\n",
       "    </tr>\n",
       "    <tr>\n",
       "      <th>...</th>\n",
       "      <td>...</td>\n",
       "      <td>...</td>\n",
       "      <td>...</td>\n",
       "      <td>...</td>\n",
       "      <td>...</td>\n",
       "      <td>...</td>\n",
       "    </tr>\n",
       "    <tr>\n",
       "      <th>23337</th>\n",
       "      <td>25458</td>\n",
       "      <td>5739.0</td>\n",
       "      <td>ARC1905</td>\n",
       "      <td>NaN</td>\n",
       "      <td>NaN</td>\n",
       "      <td>arc1905</td>\n",
       "    </tr>\n",
       "    <tr>\n",
       "      <th>23341</th>\n",
       "      <td>25462</td>\n",
       "      <td>5740.0</td>\n",
       "      <td>REGN3918</td>\n",
       "      <td>NaN</td>\n",
       "      <td>NaN</td>\n",
       "      <td>regn3918</td>\n",
       "    </tr>\n",
       "    <tr>\n",
       "      <th>23345</th>\n",
       "      <td>25466</td>\n",
       "      <td>5741.0</td>\n",
       "      <td>PF-06863135</td>\n",
       "      <td>NaN</td>\n",
       "      <td>NaN</td>\n",
       "      <td>pf-06863135</td>\n",
       "    </tr>\n",
       "    <tr>\n",
       "      <th>23346</th>\n",
       "      <td>25467</td>\n",
       "      <td>5741.0</td>\n",
       "      <td>RN613</td>\n",
       "      <td>NaN</td>\n",
       "      <td>NaN</td>\n",
       "      <td>rn613</td>\n",
       "    </tr>\n",
       "    <tr>\n",
       "      <th>23350</th>\n",
       "      <td>25471</td>\n",
       "      <td>5742.0</td>\n",
       "      <td>JNJ-64407564</td>\n",
       "      <td>NaN</td>\n",
       "      <td>NaN</td>\n",
       "      <td>jnj-64407564</td>\n",
       "    </tr>\n",
       "  </tbody>\n",
       "</table>\n",
       "<p>4218 rows × 6 columns</p>\n",
       "</div>"
      ]
     },
     "execution_count": 15,
     "metadata": {},
     "output_type": "execute_result"
    }
   ],
   "execution_count": 15
  },
  {
   "metadata": {
    "ExecuteTime": {
     "end_time": "2024-04-07T22:20:24.127761Z",
     "start_time": "2024-04-07T22:20:24.123184Z"
    }
   },
   "cell_type": "code",
   "source": "raw_synonyms[(raw_synonyms['name'] != raw_synonyms['lname'])].preferred_name.value_counts()",
   "id": "d3a61f3a05e9aeeb",
   "outputs": [
    {
     "data": {
      "text/plain": [
       "preferred_name\n",
       "1.0    86\n",
       "0.0     1\n",
       "Name: count, dtype: int64"
      ]
     },
     "execution_count": 16,
     "metadata": {},
     "output_type": "execute_result"
    }
   ],
   "execution_count": 16
  },
  {
   "metadata": {
    "ExecuteTime": {
     "end_time": "2024-04-07T22:20:24.133286Z",
     "start_time": "2024-04-07T22:20:24.128422Z"
    }
   },
   "cell_type": "code",
   "source": [
    "print(raw_synonyms.shape)\n",
    "raw_synonyms = raw_synonyms[~raw_synonyms['id'].isna()]\n",
    "print(raw_synonyms.shape)"
   ],
   "id": "67d8939370887865",
   "outputs": [
    {
     "name": "stdout",
     "output_type": "stream",
     "text": [
      "(23369, 6)\n",
      "(23236, 6)\n"
     ]
    }
   ],
   "execution_count": 17
  },
  {
   "metadata": {},
   "cell_type": "markdown",
   "source": "## Check preferred_name",
   "id": "76157958d6844ec5"
  },
  {
   "metadata": {
    "ExecuteTime": {
     "end_time": "2024-04-07T22:20:24.138761Z",
     "start_time": "2024-04-07T22:20:24.133928Z"
    }
   },
   "cell_type": "code",
   "source": "raw_synonyms.preferred_name.value_counts()",
   "id": "a99f07e69da0249e",
   "outputs": [
    {
     "data": {
      "text/plain": [
       "preferred_name\n",
       "1.0    4992\n",
       "0.0       2\n",
       "Name: count, dtype: int64"
      ]
     },
     "execution_count": 18,
     "metadata": {},
     "output_type": "execute_result"
    }
   ],
   "execution_count": 18
  },
  {
   "metadata": {
    "ExecuteTime": {
     "end_time": "2024-04-07T22:20:24.147034Z",
     "start_time": "2024-04-07T22:20:24.139424Z"
    }
   },
   "cell_type": "code",
   "source": [
    "_raw_synonyms = raw_synonyms[raw_synonyms.preferred_name == 0.]\n",
    "_raw_synonyms"
   ],
   "id": "bb7ba2400c58c45",
   "outputs": [
    {
     "data": {
      "text/plain": [
       "       syn_id      id                    name  preferred_name  parent_id  \\\n",
       "725     22694  5313.0               ALN-TTR02             0.0        NaN   \n",
       "16253   13500  1549.0  arginine hydrochloride             0.0        NaN   \n",
       "\n",
       "                        lname  \n",
       "725                 aln-ttr02  \n",
       "16253  arginine hydrochloride  "
      ],
      "text/html": [
       "<div>\n",
       "<style scoped>\n",
       "    .dataframe tbody tr th:only-of-type {\n",
       "        vertical-align: middle;\n",
       "    }\n",
       "\n",
       "    .dataframe tbody tr th {\n",
       "        vertical-align: top;\n",
       "    }\n",
       "\n",
       "    .dataframe thead th {\n",
       "        text-align: right;\n",
       "    }\n",
       "</style>\n",
       "<table border=\"1\" class=\"dataframe\">\n",
       "  <thead>\n",
       "    <tr style=\"text-align: right;\">\n",
       "      <th></th>\n",
       "      <th>syn_id</th>\n",
       "      <th>id</th>\n",
       "      <th>name</th>\n",
       "      <th>preferred_name</th>\n",
       "      <th>parent_id</th>\n",
       "      <th>lname</th>\n",
       "    </tr>\n",
       "  </thead>\n",
       "  <tbody>\n",
       "    <tr>\n",
       "      <th>725</th>\n",
       "      <td>22694</td>\n",
       "      <td>5313.0</td>\n",
       "      <td>ALN-TTR02</td>\n",
       "      <td>0.0</td>\n",
       "      <td>NaN</td>\n",
       "      <td>aln-ttr02</td>\n",
       "    </tr>\n",
       "    <tr>\n",
       "      <th>16253</th>\n",
       "      <td>13500</td>\n",
       "      <td>1549.0</td>\n",
       "      <td>arginine hydrochloride</td>\n",
       "      <td>0.0</td>\n",
       "      <td>NaN</td>\n",
       "      <td>arginine hydrochloride</td>\n",
       "    </tr>\n",
       "  </tbody>\n",
       "</table>\n",
       "</div>"
      ]
     },
     "execution_count": 19,
     "metadata": {},
     "output_type": "execute_result"
    }
   ],
   "execution_count": 19
  },
  {
   "metadata": {
    "ExecuteTime": {
     "end_time": "2024-04-07T22:20:24.159616Z",
     "start_time": "2024-04-07T22:20:24.147734Z"
    }
   },
   "cell_type": "code",
   "source": [
    "ids = set(_raw_synonyms.id)\n",
    "raw_synonyms[raw_synonyms.id.map(lambda id: id in ids)].sort_values(by='id')"
   ],
   "id": "2063f4cfbe502323",
   "outputs": [
    {
     "data": {
      "text/plain": [
       "       syn_id      id                    name  preferred_name  parent_id  \\\n",
       "4989     1971  1549.0              l-arginine             NaN        NaN   \n",
       "8238     5319  1549.0                   L-Arg             NaN        NaN   \n",
       "11131    8279  1549.0                arginine             1.0        NaN   \n",
       "16253   13500  1549.0  arginine hydrochloride             0.0        NaN   \n",
       "20852   18180  1549.0            arginine HCl             NaN        NaN   \n",
       "724     22693  5313.0               patisiran             1.0        NaN   \n",
       "725     22694  5313.0               ALN-TTR02             0.0        NaN   \n",
       "726     22696  5313.0               ALN-18328             NaN        NaN   \n",
       "22365   24142  5313.0        patisiran sodium             NaN        NaN   \n",
       "22366   24143  5313.0                onpattro             NaN        NaN   \n",
       "\n",
       "                        lname  \n",
       "4989               l-arginine  \n",
       "8238                    l-arg  \n",
       "11131                arginine  \n",
       "16253  arginine hydrochloride  \n",
       "20852            arginine hcl  \n",
       "724                 patisiran  \n",
       "725                 aln-ttr02  \n",
       "726                 aln-18328  \n",
       "22365        patisiran sodium  \n",
       "22366                onpattro  "
      ],
      "text/html": [
       "<div>\n",
       "<style scoped>\n",
       "    .dataframe tbody tr th:only-of-type {\n",
       "        vertical-align: middle;\n",
       "    }\n",
       "\n",
       "    .dataframe tbody tr th {\n",
       "        vertical-align: top;\n",
       "    }\n",
       "\n",
       "    .dataframe thead th {\n",
       "        text-align: right;\n",
       "    }\n",
       "</style>\n",
       "<table border=\"1\" class=\"dataframe\">\n",
       "  <thead>\n",
       "    <tr style=\"text-align: right;\">\n",
       "      <th></th>\n",
       "      <th>syn_id</th>\n",
       "      <th>id</th>\n",
       "      <th>name</th>\n",
       "      <th>preferred_name</th>\n",
       "      <th>parent_id</th>\n",
       "      <th>lname</th>\n",
       "    </tr>\n",
       "  </thead>\n",
       "  <tbody>\n",
       "    <tr>\n",
       "      <th>4989</th>\n",
       "      <td>1971</td>\n",
       "      <td>1549.0</td>\n",
       "      <td>l-arginine</td>\n",
       "      <td>NaN</td>\n",
       "      <td>NaN</td>\n",
       "      <td>l-arginine</td>\n",
       "    </tr>\n",
       "    <tr>\n",
       "      <th>8238</th>\n",
       "      <td>5319</td>\n",
       "      <td>1549.0</td>\n",
       "      <td>L-Arg</td>\n",
       "      <td>NaN</td>\n",
       "      <td>NaN</td>\n",
       "      <td>l-arg</td>\n",
       "    </tr>\n",
       "    <tr>\n",
       "      <th>11131</th>\n",
       "      <td>8279</td>\n",
       "      <td>1549.0</td>\n",
       "      <td>arginine</td>\n",
       "      <td>1.0</td>\n",
       "      <td>NaN</td>\n",
       "      <td>arginine</td>\n",
       "    </tr>\n",
       "    <tr>\n",
       "      <th>16253</th>\n",
       "      <td>13500</td>\n",
       "      <td>1549.0</td>\n",
       "      <td>arginine hydrochloride</td>\n",
       "      <td>0.0</td>\n",
       "      <td>NaN</td>\n",
       "      <td>arginine hydrochloride</td>\n",
       "    </tr>\n",
       "    <tr>\n",
       "      <th>20852</th>\n",
       "      <td>18180</td>\n",
       "      <td>1549.0</td>\n",
       "      <td>arginine HCl</td>\n",
       "      <td>NaN</td>\n",
       "      <td>NaN</td>\n",
       "      <td>arginine hcl</td>\n",
       "    </tr>\n",
       "    <tr>\n",
       "      <th>724</th>\n",
       "      <td>22693</td>\n",
       "      <td>5313.0</td>\n",
       "      <td>patisiran</td>\n",
       "      <td>1.0</td>\n",
       "      <td>NaN</td>\n",
       "      <td>patisiran</td>\n",
       "    </tr>\n",
       "    <tr>\n",
       "      <th>725</th>\n",
       "      <td>22694</td>\n",
       "      <td>5313.0</td>\n",
       "      <td>ALN-TTR02</td>\n",
       "      <td>0.0</td>\n",
       "      <td>NaN</td>\n",
       "      <td>aln-ttr02</td>\n",
       "    </tr>\n",
       "    <tr>\n",
       "      <th>726</th>\n",
       "      <td>22696</td>\n",
       "      <td>5313.0</td>\n",
       "      <td>ALN-18328</td>\n",
       "      <td>NaN</td>\n",
       "      <td>NaN</td>\n",
       "      <td>aln-18328</td>\n",
       "    </tr>\n",
       "    <tr>\n",
       "      <th>22365</th>\n",
       "      <td>24142</td>\n",
       "      <td>5313.0</td>\n",
       "      <td>patisiran sodium</td>\n",
       "      <td>NaN</td>\n",
       "      <td>NaN</td>\n",
       "      <td>patisiran sodium</td>\n",
       "    </tr>\n",
       "    <tr>\n",
       "      <th>22366</th>\n",
       "      <td>24143</td>\n",
       "      <td>5313.0</td>\n",
       "      <td>onpattro</td>\n",
       "      <td>NaN</td>\n",
       "      <td>NaN</td>\n",
       "      <td>onpattro</td>\n",
       "    </tr>\n",
       "  </tbody>\n",
       "</table>\n",
       "</div>"
      ]
     },
     "execution_count": 20,
     "metadata": {},
     "output_type": "execute_result"
    }
   ],
   "execution_count": 20
  },
  {
   "metadata": {
    "ExecuteTime": {
     "end_time": "2024-04-07T22:20:24.164107Z",
     "start_time": "2024-04-07T22:20:24.160330Z"
    }
   },
   "cell_type": "code",
   "source": "del ids, _raw_synonyms",
   "id": "abc355bf5c1edf57",
   "outputs": [],
   "execution_count": 21
  },
  {
   "metadata": {},
   "cell_type": "markdown",
   "source": [
    "`preferred_name` equal to 1. indicates preferred name, NaN or 0. not.\n",
    "\n",
    "`arginine hydrochloride` is in the synonyms of [arginine](https://drugcentral.org/drugcard/1549?q=arginine)\n",
    "`ALN-TTR02` is in the synonyms of [patisiran](https://drugcentral.org/drugcard/5313?q=patisiran)"
   ],
   "id": "f990ad7dfb3ff5d9"
  },
  {
   "metadata": {
    "ExecuteTime": {
     "end_time": "2024-04-07T22:20:24.174336Z",
     "start_time": "2024-04-07T22:20:24.164830Z"
    }
   },
   "cell_type": "code",
   "source": [
    "check_raw_synonyms = raw_synonyms.groupby('id').agg(count_preferred_name=('preferred_name', 'sum'))\n",
    "check_raw_synonyms.value_counts()"
   ],
   "id": "6df46c0963ee44d9",
   "outputs": [
    {
     "data": {
      "text/plain": [
       "count_preferred_name\n",
       "1.0                     4992\n",
       "0.0                        3\n",
       "Name: count, dtype: int64"
      ]
     },
     "execution_count": 22,
     "metadata": {},
     "output_type": "execute_result"
    }
   ],
   "execution_count": 22
  },
  {
   "metadata": {},
   "cell_type": "markdown",
   "source": "There are 3 synonym groups that don't have a preferred name, they will be deleted.",
   "id": "3b50dea5bc9f1b7a"
  },
  {
   "metadata": {
    "ExecuteTime": {
     "end_time": "2024-04-07T22:20:24.181241Z",
     "start_time": "2024-04-07T22:20:24.175015Z"
    }
   },
   "cell_type": "code",
   "source": [
    "raw_synonyms = raw_synonyms.set_index(['id']).drop(labels=check_raw_synonyms[check_raw_synonyms.count_preferred_name==0].index)\n",
    "raw_synonyms = raw_synonyms.reset_index()"
   ],
   "id": "d01a2bff5e34cd21",
   "outputs": [],
   "execution_count": 23
  },
  {
   "metadata": {
    "ExecuteTime": {
     "end_time": "2024-04-07T22:20:24.183619Z",
     "start_time": "2024-04-07T22:20:24.182032Z"
    }
   },
   "cell_type": "code",
   "source": "del check_raw_synonyms",
   "id": "e08eeebcd6ddf4de",
   "outputs": [],
   "execution_count": 24
  },
  {
   "metadata": {},
   "cell_type": "markdown",
   "source": "## Other checks",
   "id": "12fecc2cb6ef1fb5"
  },
  {
   "metadata": {
    "ExecuteTime": {
     "end_time": "2024-04-07T22:20:24.194073Z",
     "start_time": "2024-04-07T22:20:24.185670Z"
    }
   },
   "cell_type": "code",
   "source": [
    "assert raw_synonyms.syn_id.unique().shape[0] == raw_synonyms.shape[0]\n",
    "assert raw_synonyms.name.unique().shape[0] == raw_synonyms.shape[0]"
   ],
   "id": "79c75d9f720e9f1f",
   "outputs": [],
   "execution_count": 25
  },
  {
   "metadata": {
    "ExecuteTime": {
     "end_time": "2024-04-07T22:20:24.207531Z",
     "start_time": "2024-04-07T22:20:24.199056Z"
    }
   },
   "cell_type": "code",
   "source": [
    "# lname is also unique, so if it is not equal to name we should keep it as an extra synonym.\n",
    "assert raw_synonyms.lname.unique().shape[0] == raw_synonyms.shape[0]"
   ],
   "id": "1ee999a785f7452c",
   "outputs": [],
   "execution_count": 26
  },
  {
   "metadata": {
    "ExecuteTime": {
     "end_time": "2024-04-07T22:20:24.211057Z",
     "start_time": "2024-04-07T22:20:24.209298Z"
    }
   },
   "cell_type": "code",
   "source": "",
   "id": "2fa6618e9837ec67",
   "outputs": [],
   "execution_count": 26
  },
  {
   "metadata": {
    "ExecuteTime": {
     "end_time": "2024-04-07T22:20:24.214377Z",
     "start_time": "2024-04-07T22:20:24.212291Z"
    }
   },
   "cell_type": "code",
   "source": "del raw_synonyms",
   "id": "a78756ba762fa62c",
   "outputs": [],
   "execution_count": 27
  },
  {
   "metadata": {},
   "cell_type": "markdown",
   "source": "# Cleaned Synonyms",
   "id": "78a7565ff645973e"
  },
  {
   "metadata": {
    "ExecuteTime": {
     "end_time": "2024-04-07T22:20:24.239989Z",
     "start_time": "2024-04-07T22:20:24.215442Z"
    }
   },
   "cell_type": "code",
   "source": "synonyms = pd.read_parquet(config['processed_synonyms_file_name'])",
   "id": "3ad598cda2d27164",
   "outputs": [],
   "execution_count": 28
  },
  {
   "metadata": {
    "ExecuteTime": {
     "end_time": "2024-04-07T22:20:24.246721Z",
     "start_time": "2024-04-07T22:20:24.240978Z"
    }
   },
   "cell_type": "code",
   "source": "synonyms.head()",
   "id": "a02e46fe48c3fd21",
   "outputs": [
    {
     "data": {
      "text/plain": [
       "        preferred_name                                           synonyms\n",
       "id                                                                       \n",
       "4.0    levobupivacaine  [chirocain, levobupivacaine, levobupivacaine h...\n",
       "5.0    (S)-nicardipine                 [(-)-nicardipine, (s)-nicardipine]\n",
       "6.0   (S)-nitrendipine               [(-)-nitrendipine, (s)-nitrendipine]\n",
       "13.0     levdobutamine  [levdobutamine, levdobutamine lactobionate, ly...\n",
       "21.0       aminopterin  [4-aminofolic acid, aminofolic acid, 4-, amino..."
      ],
      "text/html": [
       "<div>\n",
       "<style scoped>\n",
       "    .dataframe tbody tr th:only-of-type {\n",
       "        vertical-align: middle;\n",
       "    }\n",
       "\n",
       "    .dataframe tbody tr th {\n",
       "        vertical-align: top;\n",
       "    }\n",
       "\n",
       "    .dataframe thead th {\n",
       "        text-align: right;\n",
       "    }\n",
       "</style>\n",
       "<table border=\"1\" class=\"dataframe\">\n",
       "  <thead>\n",
       "    <tr style=\"text-align: right;\">\n",
       "      <th></th>\n",
       "      <th>preferred_name</th>\n",
       "      <th>synonyms</th>\n",
       "    </tr>\n",
       "    <tr>\n",
       "      <th>id</th>\n",
       "      <th></th>\n",
       "      <th></th>\n",
       "    </tr>\n",
       "  </thead>\n",
       "  <tbody>\n",
       "    <tr>\n",
       "      <th>4.0</th>\n",
       "      <td>levobupivacaine</td>\n",
       "      <td>[chirocain, levobupivacaine, levobupivacaine h...</td>\n",
       "    </tr>\n",
       "    <tr>\n",
       "      <th>5.0</th>\n",
       "      <td>(S)-nicardipine</td>\n",
       "      <td>[(-)-nicardipine, (s)-nicardipine]</td>\n",
       "    </tr>\n",
       "    <tr>\n",
       "      <th>6.0</th>\n",
       "      <td>(S)-nitrendipine</td>\n",
       "      <td>[(-)-nitrendipine, (s)-nitrendipine]</td>\n",
       "    </tr>\n",
       "    <tr>\n",
       "      <th>13.0</th>\n",
       "      <td>levdobutamine</td>\n",
       "      <td>[levdobutamine, levdobutamine lactobionate, ly...</td>\n",
       "    </tr>\n",
       "    <tr>\n",
       "      <th>21.0</th>\n",
       "      <td>aminopterin</td>\n",
       "      <td>[4-aminofolic acid, aminofolic acid, 4-, amino...</td>\n",
       "    </tr>\n",
       "  </tbody>\n",
       "</table>\n",
       "</div>"
      ]
     },
     "execution_count": 29,
     "metadata": {},
     "output_type": "execute_result"
    }
   ],
   "execution_count": 29
  },
  {
   "metadata": {
    "ExecuteTime": {
     "end_time": "2024-04-07T22:20:24.254147Z",
     "start_time": "2024-04-07T22:20:24.247523Z"
    }
   },
   "cell_type": "code",
   "source": "synonyms.info()",
   "id": "d80acbb7af068f02",
   "outputs": [
    {
     "name": "stdout",
     "output_type": "stream",
     "text": [
      "<class 'pandas.core.frame.DataFrame'>\n",
      "Index: 4992 entries, 4.0 to 5743.0\n",
      "Data columns (total 2 columns):\n",
      " #   Column          Non-Null Count  Dtype \n",
      "---  ------          --------------  ----- \n",
      " 0   preferred_name  4992 non-null   object\n",
      " 1   synonyms        4992 non-null   object\n",
      "dtypes: object(2)\n",
      "memory usage: 117.0+ KB\n"
     ]
    }
   ],
   "execution_count": 30
  },
  {
   "metadata": {
    "ExecuteTime": {
     "end_time": "2024-04-07T22:20:24.258918Z",
     "start_time": "2024-04-07T22:20:24.255117Z"
    }
   },
   "cell_type": "code",
   "source": "# synonyms.describe(include='all')",
   "id": "2172bf4425bdea11",
   "outputs": [],
   "execution_count": 31
  },
  {
   "metadata": {
    "ExecuteTime": {
     "end_time": "2024-04-07T22:20:24.390537Z",
     "start_time": "2024-04-07T22:20:24.259987Z"
    }
   },
   "cell_type": "code",
   "source": "synonyms['synonyms'].map(len).plot(kind='hist', bins=30)",
   "id": "e0ada909bc927440",
   "outputs": [
    {
     "data": {
      "text/plain": [
       "<Axes: ylabel='Frequency'>"
      ]
     },
     "execution_count": 32,
     "metadata": {},
     "output_type": "execute_result"
    },
    {
     "data": {
      "text/plain": [
       "<Figure size 640x480 with 1 Axes>"
      ],
      "image/png": "[encoded data removed]"
     },
     "metadata": {},
     "output_type": "display_data"
    }
   ],
   "execution_count": 32
  },
  {
   "metadata": {},
   "cell_type": "markdown",
   "source": "## Check characters",
   "id": "301ab220dc4f1394"
  },
  {
   "metadata": {
    "ExecuteTime": {
     "end_time": "2024-04-07T22:20:24.397300Z",
     "start_time": "2024-04-07T22:20:24.391629Z"
    }
   },
   "cell_type": "code",
   "source": "check_characters(synonyms['preferred_name'])",
   "id": "23de5c94e8cdbab7",
   "outputs": [
    {
     "name": "stdout",
     "output_type": "stream",
     "text": [
      "vocabulary size: 4999\n",
      "All characters['(', ')', ',', '-', '0', '1', '2', '3', '4', '5', '6', '7', '8', '9', 'A', 'B', 'C', 'D', 'E', 'F', 'G', 'I', 'K', 'L', 'M', 'N', 'O', 'P', 'R', 'S', 'T', 'U', 'V', 'X', 'a', 'b', 'c', 'd', 'e', 'f', 'g', 'h', 'i', 'j', 'k', 'l', 'm', 'n', 'o', 'p', 'q', 'r', 's', 't', 'u', 'v', 'w', 'x', 'y', 'z']\n",
      "Extra characters['(', ')', ',', '-', '0', '1', '2', '3', '4', '5', '6', '7', '8', '9']\n"
     ]
    }
   ],
   "execution_count": 33
  },
  {
   "metadata": {
    "ExecuteTime": {
     "end_time": "2024-04-07T22:20:24.409168Z",
     "start_time": "2024-04-07T22:20:24.398165Z"
    }
   },
   "cell_type": "code",
   "source": [
    "all_synonyms = [el for synms in synonyms['synonyms'] for el in synms]\n",
    "assert len(all_synonyms) == len(set(all_synonyms))"
   ],
   "id": "39ea2f0b6d87cd30",
   "outputs": [],
   "execution_count": 34
  },
  {
   "metadata": {
    "ExecuteTime": {
     "end_time": "2024-04-07T22:20:24.423892Z",
     "start_time": "2024-04-07T22:20:24.410078Z"
    }
   },
   "cell_type": "code",
   "source": "check_characters(all_synonyms)",
   "id": "364c5b776d274923",
   "outputs": [
    {
     "name": "stdout",
     "output_type": "stream",
     "text": [
      "vocabulary size: 19275\n",
      "All characters['&', \"'\", '(', ')', '+', ',', '-', '.', '/', '0', '1', '2', '3', '4', '5', '6', '7', '8', '9', ':', '<', '>', '[', ']', 'a', 'b', 'c', 'd', 'e', 'f', 'g', 'h', 'i', 'j', 'k', 'l', 'm', 'n', 'o', 'p', 'q', 'r', 's', 't', 'u', 'v', 'w', 'x', 'y', 'z', '–']\n",
      "Extra characters['&', \"'\", '(', ')', '+', ',', '-', '.', '/', '0', '1', '2', '3', '4', '5', '6', '7', '8', '9', ':', '<', '>', '[', ']', '–']\n"
     ]
    }
   ],
   "execution_count": 35
  },
  {
   "metadata": {},
   "cell_type": "markdown",
   "source": "## Check synonym token count",
   "id": "688683073d8e996"
  },
  {
   "metadata": {
    "ExecuteTime": {
     "end_time": "2024-04-07T22:20:25.780579Z",
     "start_time": "2024-04-07T22:20:24.424990Z"
    }
   },
   "cell_type": "code",
   "source": [
    "syn_counts_df = pd.DataFrame({\n",
    "    'synonym': all_synonyms,\n",
    "    'tokens': [build_features.preprocess_text(synonym) for synonym in all_synonyms],\n",
    "})\n",
    "syn_counts_df['token_count'] = syn_counts_df['tokens'].map(len)\n",
    "syn_counts_df.head(10)"
   ],
   "id": "5771149cd40c8bfa",
   "outputs": [
    {
     "data": {
      "text/plain": [
       "                         synonym                            tokens  \\\n",
       "0                      chirocain                       [chirocain]   \n",
       "1                levobupivacaine                 [levobupivacaine]   \n",
       "2            levobupivacaine hcl            [levobupivacaine, hcl]   \n",
       "3  levobupivacaine hydrochloride  [levobupivacaine, hydrochloride]   \n",
       "4                (-)-nicardipine           [(, -, ), -nicardipine]   \n",
       "5                (s)-nicardipine           [(, s, ), -nicardipine]   \n",
       "6               (-)-nitrendipine          [(, -, ), -nitrendipine]   \n",
       "7               (s)-nitrendipine          [(, s, ), -nitrendipine]   \n",
       "8                  levdobutamine                   [levdobutamine]   \n",
       "9     levdobutamine lactobionate     [levdobutamine, lactobionate]   \n",
       "\n",
       "   token_count  \n",
       "0            1  \n",
       "1            1  \n",
       "2            2  \n",
       "3            2  \n",
       "4            4  \n",
       "5            4  \n",
       "6            4  \n",
       "7            4  \n",
       "8            1  \n",
       "9            2  "
      ],
      "text/html": [
       "<div>\n",
       "<style scoped>\n",
       "    .dataframe tbody tr th:only-of-type {\n",
       "        vertical-align: middle;\n",
       "    }\n",
       "\n",
       "    .dataframe tbody tr th {\n",
       "        vertical-align: top;\n",
       "    }\n",
       "\n",
       "    .dataframe thead th {\n",
       "        text-align: right;\n",
       "    }\n",
       "</style>\n",
       "<table border=\"1\" class=\"dataframe\">\n",
       "  <thead>\n",
       "    <tr style=\"text-align: right;\">\n",
       "      <th></th>\n",
       "      <th>synonym</th>\n",
       "      <th>tokens</th>\n",
       "      <th>token_count</th>\n",
       "    </tr>\n",
       "  </thead>\n",
       "  <tbody>\n",
       "    <tr>\n",
       "      <th>0</th>\n",
       "      <td>chirocain</td>\n",
       "      <td>[chirocain]</td>\n",
       "      <td>1</td>\n",
       "    </tr>\n",
       "    <tr>\n",
       "      <th>1</th>\n",
       "      <td>levobupivacaine</td>\n",
       "      <td>[levobupivacaine]</td>\n",
       "      <td>1</td>\n",
       "    </tr>\n",
       "    <tr>\n",
       "      <th>2</th>\n",
       "      <td>levobupivacaine hcl</td>\n",
       "      <td>[levobupivacaine, hcl]</td>\n",
       "      <td>2</td>\n",
       "    </tr>\n",
       "    <tr>\n",
       "      <th>3</th>\n",
       "      <td>levobupivacaine hydrochloride</td>\n",
       "      <td>[levobupivacaine, hydrochloride]</td>\n",
       "      <td>2</td>\n",
       "    </tr>\n",
       "    <tr>\n",
       "      <th>4</th>\n",
       "      <td>(-)-nicardipine</td>\n",
       "      <td>[(, -, ), -nicardipine]</td>\n",
       "      <td>4</td>\n",
       "    </tr>\n",
       "    <tr>\n",
       "      <th>5</th>\n",
       "      <td>(s)-nicardipine</td>\n",
       "      <td>[(, s, ), -nicardipine]</td>\n",
       "      <td>4</td>\n",
       "    </tr>\n",
       "    <tr>\n",
       "      <th>6</th>\n",
       "      <td>(-)-nitrendipine</td>\n",
       "      <td>[(, -, ), -nitrendipine]</td>\n",
       "      <td>4</td>\n",
       "    </tr>\n",
       "    <tr>\n",
       "      <th>7</th>\n",
       "      <td>(s)-nitrendipine</td>\n",
       "      <td>[(, s, ), -nitrendipine]</td>\n",
       "      <td>4</td>\n",
       "    </tr>\n",
       "    <tr>\n",
       "      <th>8</th>\n",
       "      <td>levdobutamine</td>\n",
       "      <td>[levdobutamine]</td>\n",
       "      <td>1</td>\n",
       "    </tr>\n",
       "    <tr>\n",
       "      <th>9</th>\n",
       "      <td>levdobutamine lactobionate</td>\n",
       "      <td>[levdobutamine, lactobionate]</td>\n",
       "      <td>2</td>\n",
       "    </tr>\n",
       "  </tbody>\n",
       "</table>\n",
       "</div>"
      ]
     },
     "execution_count": 36,
     "metadata": {},
     "output_type": "execute_result"
    }
   ],
   "execution_count": 36
  },
  {
   "metadata": {
    "ExecuteTime": {
     "end_time": "2024-04-07T22:20:25.785536Z",
     "start_time": "2024-04-07T22:20:25.781761Z"
    }
   },
   "cell_type": "code",
   "source": "syn_counts_df['token_count'].value_counts()",
   "id": "b5c298568e73b4e1",
   "outputs": [
    {
     "data": {
      "text/plain": [
       "token_count\n",
       "1     15647\n",
       "2      6049\n",
       "3       816\n",
       "4       460\n",
       "5       166\n",
       "6        64\n",
       "7        10\n",
       "8         9\n",
       "9         4\n",
       "14        1\n",
       "19        1\n",
       "Name: count, dtype: int64"
      ]
     },
     "execution_count": 37,
     "metadata": {},
     "output_type": "execute_result"
    }
   ],
   "execution_count": 37
  }
 ],
 "metadata": {
  "kernelspec": {
   "display_name": "Python 3",
   "language": "python",
   "name": "python3"
  },
  "language_info": {
   "codemirror_mode": {
    "name": "ipython",
    "version": 2
   },
   "file_extension": ".py",
   "mimetype": "text/x-python",
   "name": "python",
   "nbconvert_exporter": "python",
   "pygments_lexer": "ipython2",
   "version": "2.7.6"
  }
 },
 "nbformat": 4,
 "nbformat_minor": 5
}
