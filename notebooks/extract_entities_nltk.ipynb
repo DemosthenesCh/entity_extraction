{
 "cells": [
  {
   "cell_type": "code",
   "id": "6eef6e262a94dba2",
   "metadata": {
    "collapsed": false,
    "ExecuteTime": {
     "end_time": "2024-04-08T02:37:34.069480Z",
     "start_time": "2024-04-08T02:37:32.428625Z"
    }
   },
   "source": [
    "from collections import defaultdict\n",
    "import dotenv\n",
    "import json\n",
    "import pandas as pd\n",
    "import nltk\n",
    "import numpy as np\n",
    "\n",
    "# import util\n",
    "from third_party.nltk_book import chunkers\n",
    "\n",
    "from src.features import build_features\n",
    "from src.models import train_nltk\n"
   ],
   "outputs": [],
   "execution_count": 1
  },
  {
   "metadata": {
    "ExecuteTime": {
     "end_time": "2024-04-08T02:37:34.074687Z",
     "start_time": "2024-04-08T02:37:34.070559Z"
    }
   },
   "cell_type": "code",
   "source": "config = dotenv.dotenv_values(dotenv_path=dotenv.find_dotenv())",
   "id": "34909054afe449e3",
   "outputs": [],
   "execution_count": 2
  },
  {
   "cell_type": "code",
   "id": "f166647f8a2cdf39",
   "metadata": {
    "collapsed": false,
    "ExecuteTime": {
     "end_time": "2024-04-08T02:37:34.080105Z",
     "start_time": "2024-04-08T02:37:34.075596Z"
    }
   },
   "source": "# data_config = util.get_data_config()",
   "outputs": [],
   "execution_count": 3
  },
  {
   "cell_type": "code",
   "id": "3581206dc0789c71",
   "metadata": {
    "collapsed": false,
    "ExecuteTime": {
     "end_time": "2024-04-08T02:37:34.181925Z",
     "start_time": "2024-04-08T02:37:34.081236Z"
    }
   },
   "source": [
    "nltk.download(['punkt', 'averaged_perceptron_tagger'])\n",
    "# Optional\n",
    "nltk.download(['brown', 'conll2000',])"
   ],
   "outputs": [
    {
     "name": "stderr",
     "output_type": "stream",
     "text": [
      "[nltk_data] Downloading package punkt to\n",
      "[nltk_data]     /home/dimosthenis/nltk_data...\n",
      "[nltk_data]   Package punkt is already up-to-date!\n",
      "[nltk_data] Downloading package averaged_perceptron_tagger to\n",
      "[nltk_data]     /home/dimosthenis/nltk_data...\n",
      "[nltk_data]   Package averaged_perceptron_tagger is already up-to-\n",
      "[nltk_data]       date!\n",
      "[nltk_data] Downloading package brown to\n",
      "[nltk_data]     /home/dimosthenis/nltk_data...\n",
      "[nltk_data]   Package brown is already up-to-date!\n",
      "[nltk_data] Downloading package conll2000 to\n",
      "[nltk_data]     /home/dimosthenis/nltk_data...\n",
      "[nltk_data]   Package conll2000 is already up-to-date!\n"
     ]
    },
    {
     "data": {
      "text/plain": [
       "True"
      ]
     },
     "execution_count": 4,
     "metadata": {},
     "output_type": "execute_result"
    }
   ],
   "execution_count": 4
  },
  {
   "cell_type": "markdown",
   "id": "144623f5-a98f-4a02-95ad-ea5e21b03ef9",
   "metadata": {},
   "source": [
    "# Load Data"
   ]
  },
  {
   "cell_type": "code",
   "id": "49343491d8e9ded",
   "metadata": {
    "collapsed": false,
    "ExecuteTime": {
     "end_time": "2024-04-08T02:37:34.197449Z",
     "start_time": "2024-04-08T02:37:34.182715Z"
    }
   },
   "source": [
    "# summaries_df = pd.read_parquet(config['summaries_file_name'])\n",
    "summaries_df = pd.read_parquet(config['preprocessed_summaries_file_name'])\n",
    "summaries_df.shape"
   ],
   "outputs": [
    {
     "data": {
      "text/plain": [
       "(51, 3)"
      ]
     },
     "execution_count": 5,
     "metadata": {},
     "output_type": "execute_result"
    }
   ],
   "execution_count": 5
  },
  {
   "cell_type": "code",
   "id": "6df00e9249047aeb",
   "metadata": {
    "collapsed": false,
    "ExecuteTime": {
     "end_time": "2024-04-08T02:37:34.204674Z",
     "start_time": "2024-04-08T02:37:34.198339Z"
    }
   },
   "source": "summaries_df.head()",
   "outputs": [
    {
     "data": {
      "text/plain": [
       "        nct_id                                      brief_summary  \\\n",
       "0  NCT00037648  The purpose of this study is to determine the ...   \n",
       "1  NCT00048542  This is a multicenter, Phase 3 randomized, pla...   \n",
       "2  NCT00071487  The purpose of this study is to evaluate the s...   \n",
       "3  NCT00071812  The purpose of this study is to evaluate the s...   \n",
       "4  NCT00072839  The purpose of the study is to determine wheth...   \n",
       "\n",
       "                          brief_summary_preprocessed  \n",
       "0  [the, purpose, of, this, study, is, to, determ...  \n",
       "1  [this, is, a, multicenter, ,, phase, 3, random...  \n",
       "2  [the, purpose, of, this, study, is, to, evalua...  \n",
       "3  [the, purpose, of, this, study, is, to, evalua...  \n",
       "4  [the, purpose, of, the, study, is, to, determi...  "
      ],
      "text/html": [
       "<div>\n",
       "<style scoped>\n",
       "    .dataframe tbody tr th:only-of-type {\n",
       "        vertical-align: middle;\n",
       "    }\n",
       "\n",
       "    .dataframe tbody tr th {\n",
       "        vertical-align: top;\n",
       "    }\n",
       "\n",
       "    .dataframe thead th {\n",
       "        text-align: right;\n",
       "    }\n",
       "</style>\n",
       "<table border=\"1\" class=\"dataframe\">\n",
       "  <thead>\n",
       "    <tr style=\"text-align: right;\">\n",
       "      <th></th>\n",
       "      <th>nct_id</th>\n",
       "      <th>brief_summary</th>\n",
       "      <th>brief_summary_preprocessed</th>\n",
       "    </tr>\n",
       "  </thead>\n",
       "  <tbody>\n",
       "    <tr>\n",
       "      <th>0</th>\n",
       "      <td>NCT00037648</td>\n",
       "      <td>The purpose of this study is to determine the ...</td>\n",
       "      <td>[the, purpose, of, this, study, is, to, determ...</td>\n",
       "    </tr>\n",
       "    <tr>\n",
       "      <th>1</th>\n",
       "      <td>NCT00048542</td>\n",
       "      <td>This is a multicenter, Phase 3 randomized, pla...</td>\n",
       "      <td>[this, is, a, multicenter, ,, phase, 3, random...</td>\n",
       "    </tr>\n",
       "    <tr>\n",
       "      <th>2</th>\n",
       "      <td>NCT00071487</td>\n",
       "      <td>The purpose of this study is to evaluate the s...</td>\n",
       "      <td>[the, purpose, of, this, study, is, to, evalua...</td>\n",
       "    </tr>\n",
       "    <tr>\n",
       "      <th>3</th>\n",
       "      <td>NCT00071812</td>\n",
       "      <td>The purpose of this study is to evaluate the s...</td>\n",
       "      <td>[the, purpose, of, this, study, is, to, evalua...</td>\n",
       "    </tr>\n",
       "    <tr>\n",
       "      <th>4</th>\n",
       "      <td>NCT00072839</td>\n",
       "      <td>The purpose of the study is to determine wheth...</td>\n",
       "      <td>[the, purpose, of, the, study, is, to, determi...</td>\n",
       "    </tr>\n",
       "  </tbody>\n",
       "</table>\n",
       "</div>"
      ]
     },
     "execution_count": 6,
     "metadata": {},
     "output_type": "execute_result"
    }
   ],
   "execution_count": 6
  },
  {
   "cell_type": "code",
   "id": "3215eae9b2af0b2b",
   "metadata": {
    "collapsed": false,
    "ExecuteTime": {
     "end_time": "2024-04-08T02:37:34.220560Z",
     "start_time": "2024-04-08T02:37:34.205410Z"
    }
   },
   "source": [
    "synonyms_df = pd.read_parquet(config['processed_synonyms_file_name'])\n",
    "\n",
    "synonyms_df.head()"
   ],
   "outputs": [
    {
     "data": {
      "text/plain": [
       "        preferred_name                                           synonyms\n",
       "id                                                                       \n",
       "4.0    levobupivacaine  [chirocain, levobupivacaine, levobupivacaine h...\n",
       "5.0    (S)-nicardipine                 [(-)-nicardipine, (s)-nicardipine]\n",
       "6.0   (S)-nitrendipine               [(-)-nitrendipine, (s)-nitrendipine]\n",
       "13.0     levdobutamine  [levdobutamine, levdobutamine lactobionate, ly...\n",
       "21.0       aminopterin  [4-aminofolic acid, aminofolic acid, 4-, amino..."
      ],
      "text/html": [
       "<div>\n",
       "<style scoped>\n",
       "    .dataframe tbody tr th:only-of-type {\n",
       "        vertical-align: middle;\n",
       "    }\n",
       "\n",
       "    .dataframe tbody tr th {\n",
       "        vertical-align: top;\n",
       "    }\n",
       "\n",
       "    .dataframe thead th {\n",
       "        text-align: right;\n",
       "    }\n",
       "</style>\n",
       "<table border=\"1\" class=\"dataframe\">\n",
       "  <thead>\n",
       "    <tr style=\"text-align: right;\">\n",
       "      <th></th>\n",
       "      <th>preferred_name</th>\n",
       "      <th>synonyms</th>\n",
       "    </tr>\n",
       "    <tr>\n",
       "      <th>id</th>\n",
       "      <th></th>\n",
       "      <th></th>\n",
       "    </tr>\n",
       "  </thead>\n",
       "  <tbody>\n",
       "    <tr>\n",
       "      <th>4.0</th>\n",
       "      <td>levobupivacaine</td>\n",
       "      <td>[chirocain, levobupivacaine, levobupivacaine h...</td>\n",
       "    </tr>\n",
       "    <tr>\n",
       "      <th>5.0</th>\n",
       "      <td>(S)-nicardipine</td>\n",
       "      <td>[(-)-nicardipine, (s)-nicardipine]</td>\n",
       "    </tr>\n",
       "    <tr>\n",
       "      <th>6.0</th>\n",
       "      <td>(S)-nitrendipine</td>\n",
       "      <td>[(-)-nitrendipine, (s)-nitrendipine]</td>\n",
       "    </tr>\n",
       "    <tr>\n",
       "      <th>13.0</th>\n",
       "      <td>levdobutamine</td>\n",
       "      <td>[levdobutamine, levdobutamine lactobionate, ly...</td>\n",
       "    </tr>\n",
       "    <tr>\n",
       "      <th>21.0</th>\n",
       "      <td>aminopterin</td>\n",
       "      <td>[4-aminofolic acid, aminofolic acid, 4-, amino...</td>\n",
       "    </tr>\n",
       "  </tbody>\n",
       "</table>\n",
       "</div>"
      ]
     },
     "execution_count": 7,
     "metadata": {},
     "output_type": "execute_result"
    }
   ],
   "execution_count": 7
  },
  {
   "metadata": {
    "ExecuteTime": {
     "end_time": "2024-04-08T02:37:34.449075Z",
     "start_time": "2024-04-08T02:37:34.221297Z"
    }
   },
   "cell_type": "code",
   "source": [
    "synonyms_gt_df = pd.read_parquet(config['synonyms_ground_truth_file_name'])\n",
    "synonyms_gt_df['synonym_gt_trees'] =  synonyms_gt_df['synonym_gt_trees'].map(build_features.parse_gt_tree)\n",
    "synonyms_gt_df.head()"
   ],
   "id": "1b50ac7ea54724dd",
   "outputs": [
    {
     "data": {
      "text/plain": [
       "                         synonym  \\\n",
       "0                      chirocain   \n",
       "1                levobupivacaine   \n",
       "2            levobupivacaine hcl   \n",
       "3  levobupivacaine hydrochloride   \n",
       "4                (-)-nicardipine   \n",
       "\n",
       "                                      synonym_tag_gt  \\\n",
       "0                                 [[chirocain, C1E]]   \n",
       "1                           [[levobupivacaine, C1E]]   \n",
       "2               [[levobupivacaine, C2S], [hcl, C2E]]   \n",
       "3     [[levobupivacaine, C2S], [hydrochloride, C2E]]   \n",
       "4  [[(, C4S], [-, C4S], [), C4S], [-nicardipine, ...   \n",
       "\n",
       "                                   synonym_gt_trees  \n",
       "0                              [[(chirocain, C1E)]]  \n",
       "1                        [[(levobupivacaine, C1E)]]  \n",
       "2            [[(levobupivacaine, C2S), (hcl, C2E)]]  \n",
       "3  [[(levobupivacaine, C2S), (hydrochloride, C2E)]]  \n",
       "4  [[[('-', 'C4S')], (, C4S), (-nicardipine, C4E)]]  "
      ],
      "text/html": [
       "<div>\n",
       "<style scoped>\n",
       "    .dataframe tbody tr th:only-of-type {\n",
       "        vertical-align: middle;\n",
       "    }\n",
       "\n",
       "    .dataframe tbody tr th {\n",
       "        vertical-align: top;\n",
       "    }\n",
       "\n",
       "    .dataframe thead th {\n",
       "        text-align: right;\n",
       "    }\n",
       "</style>\n",
       "<table border=\"1\" class=\"dataframe\">\n",
       "  <thead>\n",
       "    <tr style=\"text-align: right;\">\n",
       "      <th></th>\n",
       "      <th>synonym</th>\n",
       "      <th>synonym_tag_gt</th>\n",
       "      <th>synonym_gt_trees</th>\n",
       "    </tr>\n",
       "  </thead>\n",
       "  <tbody>\n",
       "    <tr>\n",
       "      <th>0</th>\n",
       "      <td>chirocain</td>\n",
       "      <td>[[chirocain, C1E]]</td>\n",
       "      <td>[[(chirocain, C1E)]]</td>\n",
       "    </tr>\n",
       "    <tr>\n",
       "      <th>1</th>\n",
       "      <td>levobupivacaine</td>\n",
       "      <td>[[levobupivacaine, C1E]]</td>\n",
       "      <td>[[(levobupivacaine, C1E)]]</td>\n",
       "    </tr>\n",
       "    <tr>\n",
       "      <th>2</th>\n",
       "      <td>levobupivacaine hcl</td>\n",
       "      <td>[[levobupivacaine, C2S], [hcl, C2E]]</td>\n",
       "      <td>[[(levobupivacaine, C2S), (hcl, C2E)]]</td>\n",
       "    </tr>\n",
       "    <tr>\n",
       "      <th>3</th>\n",
       "      <td>levobupivacaine hydrochloride</td>\n",
       "      <td>[[levobupivacaine, C2S], [hydrochloride, C2E]]</td>\n",
       "      <td>[[(levobupivacaine, C2S), (hydrochloride, C2E)]]</td>\n",
       "    </tr>\n",
       "    <tr>\n",
       "      <th>4</th>\n",
       "      <td>(-)-nicardipine</td>\n",
       "      <td>[[(, C4S], [-, C4S], [), C4S], [-nicardipine, ...</td>\n",
       "      <td>[[[('-', 'C4S')], (, C4S), (-nicardipine, C4E)]]</td>\n",
       "    </tr>\n",
       "  </tbody>\n",
       "</table>\n",
       "</div>"
      ]
     },
     "execution_count": 8,
     "metadata": {},
     "output_type": "execute_result"
    }
   ],
   "execution_count": 8
  },
  {
   "metadata": {
    "ExecuteTime": {
     "end_time": "2024-04-08T02:37:34.452520Z",
     "start_time": "2024-04-08T02:37:34.449852Z"
    }
   },
   "cell_type": "code",
   "source": "synonyms_gt_df.columns",
   "id": "401cbce249207736",
   "outputs": [
    {
     "data": {
      "text/plain": [
       "Index(['synonym', 'synonym_tag_gt', 'synonym_gt_trees'], dtype='object')"
      ]
     },
     "execution_count": 9,
     "metadata": {},
     "output_type": "execute_result"
    }
   ],
   "execution_count": 9
  },
  {
   "cell_type": "code",
   "source": [
    "with open(config['ground_truth_raw_file_name'], 'r') as fin:\n",
    "    ground_truth = json.loads(fin.read())\n",
    "    \n",
    "with open(config['ground_truth_cleaned_file_name'], 'r') as fin:\n",
    "    ground_truth_cleaned = json.loads(fin.read())\n",
    "\n",
    "with open(config['tagged_synonyms_file_name'], 'r') as fin:\n",
    "    dataset_by_ngram = json.load(fin)"
   ],
   "metadata": {
    "collapsed": false,
    "ExecuteTime": {
     "end_time": "2024-04-08T02:37:34.539043Z",
     "start_time": "2024-04-08T02:37:34.454383Z"
    }
   },
   "id": "2ae104b9c138b7f0",
   "outputs": [],
   "execution_count": 10
  },
  {
   "cell_type": "markdown",
   "id": "520c3dbb-0e9c-4eff-85ff-b0eda16b7f58",
   "metadata": {
    "ExecuteTime": {
     "end_time": "2024-03-18T04:39:26.316091Z",
     "start_time": "2024-03-18T04:39:26.314385Z"
    },
    "collapsed": false
   },
   "source": [
    "# NgramTagger that uses N-1 tokens (instead of N-1 tags). \n",
    "\n",
    "We train a series of `NgramTagger`s, one for each ngram size in the ground truth, The tagger with the highest `N` is applied first and if it cannot tag a temrm it uses the tager with the next lowest `N`. "
   ]
  },
  {
   "cell_type": "code",
   "id": "90d1407a521549aa",
   "metadata": {
    "collapsed": false,
    "ExecuteTime": {
     "end_time": "2024-04-08T02:37:34.541508Z",
     "start_time": "2024-04-08T02:37:34.539927Z"
    }
   },
   "source": "",
   "outputs": [],
   "execution_count": 10
  },
  {
   "cell_type": "code",
   "id": "888bd896-cb22-40b4-b5af-bceb6bfa25d4",
   "metadata": {
    "ExecuteTime": {
     "end_time": "2024-04-08T02:37:34.543833Z",
     "start_time": "2024-04-08T02:37:34.542223Z"
    }
   },
   "source": [],
   "outputs": [],
   "execution_count": 10
  },
  {
   "cell_type": "code",
   "id": "5791a7cdaca36531",
   "metadata": {
    "collapsed": false,
    "ExecuteTime": {
     "end_time": "2024-04-08T02:37:34.715905Z",
     "start_time": "2024-04-08T02:37:34.544640Z"
    }
   },
   "source": [
    "taggers = [nltk.DefaultTagger('O')]\n",
    "keys = sorted([int(key) for key in dataset_by_ngram.keys()])\n",
    "for n in keys:\n",
    "    print(n)\n",
    "    train = dataset_by_ngram[str(n)]\n",
    "    ngram_tagger = train_nltk.WordNgramTagger(n=int(n), train=train, backoff=taggers[-1])\n",
    "    taggers.append(ngram_tagger)\n",
    "\n",
    "tagger = taggers[-1]"
   ],
   "outputs": [
    {
     "name": "stdout",
     "output_type": "stream",
     "text": [
      "1\n",
      "2\n",
      "3\n",
      "4\n",
      "5\n",
      "6\n",
      "7\n",
      "8\n",
      "9\n",
      "14\n",
      "19\n"
     ]
    }
   ],
   "execution_count": 11
  },
  {
   "metadata": {
    "ExecuteTime": {
     "end_time": "2024-04-08T02:37:35.322043Z",
     "start_time": "2024-04-08T02:37:34.716846Z"
    }
   },
   "cell_type": "code",
   "source": [
    "tagger_accuracy = tagger.accuracy(synonyms_gt_df['synonym_tag_gt'])\n",
    "print(f'Tagger Accuracy: {tagger_accuracy}')"
   ],
   "id": "51e661ba7a1b13a2",
   "outputs": [
    {
     "name": "stdout",
     "output_type": "stream",
     "text": [
      "Tagger Accuracy: [1.         0.84607568]\n"
     ]
    }
   ],
   "execution_count": 12
  },
  {
   "cell_type": "markdown",
   "source": [
    "## Try a RegexpParser as a Chunker."
   ],
   "metadata": {
    "collapsed": false
   },
   "id": "a29e267a2db4908a"
  },
  {
   "cell_type": "code",
   "id": "32cff793-0113-436e-8771-406ad0a33e78",
   "metadata": {
    "ExecuteTime": {
     "end_time": "2024-04-08T02:37:35.330550Z",
     "start_time": "2024-04-08T02:37:35.323222Z"
    }
   },
   "source": [
    "grammar = '''NP: {<C1E>}'''\n",
    "keys = sorted([int(key) for key in dataset_by_ngram.keys()])\n",
    "for num_tokens in keys:\n",
    "    if num_tokens == 1:\n",
    "        continue\n",
    "    grammar += '\\n{<C\\dS>{' + str(num_tokens-1) + '}<C' + str(num_tokens) + 'E>}'\n",
    "print(grammar)\n",
    "regexp_parser = nltk.RegexpParser(grammar)"
   ],
   "outputs": [
    {
     "name": "stdout",
     "output_type": "stream",
     "text": [
      "NP: {<C1E>}\n",
      "{<C\\dS>{1}<C2E>}\n",
      "{<C\\dS>{2}<C3E>}\n",
      "{<C\\dS>{3}<C4E>}\n",
      "{<C\\dS>{4}<C5E>}\n",
      "{<C\\dS>{5}<C6E>}\n",
      "{<C\\dS>{6}<C7E>}\n",
      "{<C\\dS>{7}<C8E>}\n",
      "{<C\\dS>{8}<C9E>}\n",
      "{<C\\dS>{13}<C14E>}\n",
      "{<C\\dS>{18}<C19E>}\n"
     ]
    }
   ],
   "execution_count": 13
  },
  {
   "metadata": {
    "ExecuteTime": {
     "end_time": "2024-04-08T02:37:35.333180Z",
     "start_time": "2024-04-08T02:37:35.331557Z"
    }
   },
   "cell_type": "code",
   "source": "",
   "id": "cfb3c5a2d68b0d8",
   "outputs": [],
   "execution_count": 13
  },
  {
   "cell_type": "code",
   "id": "787db1b2234c5fef",
   "metadata": {
    "collapsed": false,
    "ExecuteTime": {
     "end_time": "2024-04-08T02:37:38.090319Z",
     "start_time": "2024-04-08T02:37:35.333972Z"
    }
   },
   "source": [
    "df = synonyms_gt_df.copy()\n",
    "df['tree'] = df['synonym'].map(lambda syn: train_nltk.parse(syn, chunker=regexp_parser, tagger=tagger))\n",
    "df['extracted'] = df['tree'].map(train_nltk.extract_chunked_terms)\n",
    "\n",
    "# all_terms = [\n",
    "#     synonym\n",
    "#     for synonyms in synonyms_df['synonyms']\n",
    "#     for synonym in synonyms\n",
    "# ]\n",
    "\n",
    "# all_trees = [\n",
    "#     train_nltk.parse(term, chunker=regexp_parser, tagger=tagger)\n",
    "#     for term in all_terms\n",
    "# ]\n",
    "# extracted = [\n",
    "#     train_nltk.extract_chunked_terms(tree) for tree in all_trees\n",
    "# ]\n",
    "\n",
    "# df = pd.DataFrame({\n",
    "#     'term': all_terms,\n",
    "#     'tree': all_trees,\n",
    "#     'extracted': extracted\n",
    "# })"
   ],
   "outputs": [],
   "execution_count": 14
  },
  {
   "metadata": {
    "ExecuteTime": {
     "end_time": "2024-04-08T02:37:38.092870Z",
     "start_time": "2024-04-08T02:37:38.091251Z"
    }
   },
   "cell_type": "code",
   "source": "",
   "id": "f5647c7d058855b4",
   "outputs": [],
   "execution_count": 14
  },
  {
   "metadata": {
    "ExecuteTime": {
     "end_time": "2024-04-08T02:37:38.095419Z",
     "start_time": "2024-04-08T02:37:38.093604Z"
    }
   },
   "cell_type": "code",
   "source": [
    "# synonym_tag_gt = [\n",
    "#     build_features.get_synonym_tags(build_features.preprocess_text(term))\n",
    "#     for term in all_terms\n",
    "# ]\n",
    "\n",
    "# all_tags = [\n",
    "#     tagger.tag(build_features.preprocess_text(term))\n",
    "#     for term in all_terms\n",
    "# ]\n",
    "# tagger.accuracy(all_tags), tagger.accuracy(synonym_tag_gt)\n",
    "# (1.0, 0.0, 0.8460756769681391)"
   ],
   "id": "8d97bd085b474288",
   "outputs": [],
   "execution_count": 15
  },
  {
   "metadata": {
    "ExecuteTime": {
     "end_time": "2024-04-08T02:37:39.648398Z",
     "start_time": "2024-04-08T02:37:38.096183Z"
    }
   },
   "cell_type": "code",
   "source": "print(regexp_parser.accuracy(synonyms_gt_df['synonym_gt_trees']))",
   "id": "e29322c476291a1e",
   "outputs": [
    {
     "name": "stdout",
     "output_type": "stream",
     "text": [
      "ChunkParse score:\n",
      "    IOB Accuracy: 100.0%%\n",
      "    Precision:    100.0%%\n",
      "    Recall:        97.9%%\n",
      "    F-Measure:     99.0%%\n"
     ]
    }
   ],
   "execution_count": 16
  },
  {
   "metadata": {},
   "cell_type": "markdown",
   "source": [
    "```print(regexp_parser.accuracy(synonym_gt_trees))```\n",
    "\n",
    "ChunkParse score:\n",
    " - IOB Accuracy:  99.9%%\n",
    " - Precision:    100.0%%\n",
    " - Recall:       100.0%%\n",
    " - F-Measure:    100.0%%"
   ],
   "id": "92d3461fa4b4b226"
  },
  {
   "metadata": {
    "ExecuteTime": {
     "end_time": "2024-04-08T02:37:39.650878Z",
     "start_time": "2024-04-08T02:37:39.649325Z"
    }
   },
   "cell_type": "code",
   "source": "",
   "id": "19a1fad342d72aae",
   "outputs": [],
   "execution_count": 16
  },
  {
   "cell_type": "code",
   "id": "db5c8d1bf0e7db68",
   "metadata": {
    "collapsed": false,
    "ExecuteTime": {
     "end_time": "2024-04-08T02:37:39.659135Z",
     "start_time": "2024-04-08T02:37:39.651563Z"
    }
   },
   "source": [
    "df['extracted_count'] = df['extracted'].map(len)\n",
    "df['extracted_count'].value_counts()"
   ],
   "outputs": [
    {
     "data": {
      "text/plain": [
       "extracted_count\n",
       "1    20634\n",
       "0     2593\n",
       "Name: count, dtype: int64"
      ]
     },
     "execution_count": 17,
     "metadata": {},
     "output_type": "execute_result"
    }
   ],
   "execution_count": 17
  },
  {
   "cell_type": "code",
   "id": "f86cc69ba3537ba0",
   "metadata": {
    "collapsed": false,
    "ExecuteTime": {
     "end_time": "2024-04-08T02:37:39.689760Z",
     "start_time": "2024-04-08T02:37:39.659829Z"
    }
   },
   "source": [
    "df.head(10)"
   ],
   "outputs": [
    {
     "data": {
      "text/plain": [
       "                         synonym  \\\n",
       "0                      chirocain   \n",
       "1                levobupivacaine   \n",
       "2            levobupivacaine hcl   \n",
       "3  levobupivacaine hydrochloride   \n",
       "4                (-)-nicardipine   \n",
       "5                (s)-nicardipine   \n",
       "6               (-)-nitrendipine   \n",
       "7               (s)-nitrendipine   \n",
       "8                  levdobutamine   \n",
       "9     levdobutamine lactobionate   \n",
       "\n",
       "                                      synonym_tag_gt  \\\n",
       "0                                 [[chirocain, C1E]]   \n",
       "1                           [[levobupivacaine, C1E]]   \n",
       "2               [[levobupivacaine, C2S], [hcl, C2E]]   \n",
       "3     [[levobupivacaine, C2S], [hydrochloride, C2E]]   \n",
       "4  [[(, C4S], [-, C4S], [), C4S], [-nicardipine, ...   \n",
       "5  [[(, C4S], [s, C4S], [), C4S], [-nicardipine, ...   \n",
       "6  [[(, C4S], [-, C4S], [), C4S], [-nitrendipine,...   \n",
       "7  [[(, C4S], [s, C4S], [), C4S], [-nitrendipine,...   \n",
       "8                             [[levdobutamine, C1E]]   \n",
       "9        [[levdobutamine, C2S], [lactobionate, C2E]]   \n",
       "\n",
       "                                    synonym_gt_trees  \\\n",
       "0                               [[(chirocain, C1E)]]   \n",
       "1                         [[(levobupivacaine, C1E)]]   \n",
       "2             [[(levobupivacaine, C2S), (hcl, C2E)]]   \n",
       "3   [[(levobupivacaine, C2S), (hydrochloride, C2E)]]   \n",
       "4   [[[('-', 'C4S')], (, C4S), (-nicardipine, C4E)]]   \n",
       "5   [[[('s', 'C4S')], (, C4S), (-nicardipine, C4E)]]   \n",
       "6  [[[('-', 'C4S')], (, C4S), (-nitrendipine, C4E)]]   \n",
       "7  [[[('s', 'C4S')], (, C4S), (-nitrendipine, C4E)]]   \n",
       "8                           [[(levdobutamine, C1E)]]   \n",
       "9      [[(levdobutamine, C2S), (lactobionate, C2E)]]   \n",
       "\n",
       "                                                tree  \\\n",
       "0                               [[(chirocain, C1E)]]   \n",
       "1                           [(levobupivacaine, C2S)]   \n",
       "2             [[(levobupivacaine, C2S), (hcl, C2E)]]   \n",
       "3   [[(levobupivacaine, C2S), (hydrochloride, C2E)]]   \n",
       "4  [[((, C9S), (-, C9S), (), C9S), (-nicardipine,...   \n",
       "5  [[((, C9S), (s, C8S), (), C8S), (-nicardipine,...   \n",
       "6  [[((, C9S), (-, C9S), (), C9S), (-nitrendipine...   \n",
       "7  [[((, C9S), (s, C8S), (), C8S), (-nitrendipine...   \n",
       "8                             [(levdobutamine, C2S)]   \n",
       "9      [[(levdobutamine, C2S), (lactobionate, C2E)]]   \n",
       "\n",
       "                        extracted  extracted_count  \n",
       "0                     [chirocain]                1  \n",
       "1                              []                0  \n",
       "2            [levobupivacainehcl]                1  \n",
       "3  [levobupivacainehydrochloride]                1  \n",
       "4               [(-)-nicardipine]                1  \n",
       "5               [(s)-nicardipine]                1  \n",
       "6              [(-)-nitrendipine]                1  \n",
       "7              [(s)-nitrendipine]                1  \n",
       "8                              []                0  \n",
       "9     [levdobutaminelactobionate]                1  "
      ],
      "text/html": [
       "<div>\n",
       "<style scoped>\n",
       "    .dataframe tbody tr th:only-of-type {\n",
       "        vertical-align: middle;\n",
       "    }\n",
       "\n",
       "    .dataframe tbody tr th {\n",
       "        vertical-align: top;\n",
       "    }\n",
       "\n",
       "    .dataframe thead th {\n",
       "        text-align: right;\n",
       "    }\n",
       "</style>\n",
       "<table border=\"1\" class=\"dataframe\">\n",
       "  <thead>\n",
       "    <tr style=\"text-align: right;\">\n",
       "      <th></th>\n",
       "      <th>synonym</th>\n",
       "      <th>synonym_tag_gt</th>\n",
       "      <th>synonym_gt_trees</th>\n",
       "      <th>tree</th>\n",
       "      <th>extracted</th>\n",
       "      <th>extracted_count</th>\n",
       "    </tr>\n",
       "  </thead>\n",
       "  <tbody>\n",
       "    <tr>\n",
       "      <th>0</th>\n",
       "      <td>chirocain</td>\n",
       "      <td>[[chirocain, C1E]]</td>\n",
       "      <td>[[(chirocain, C1E)]]</td>\n",
       "      <td>[[(chirocain, C1E)]]</td>\n",
       "      <td>[chirocain]</td>\n",
       "      <td>1</td>\n",
       "    </tr>\n",
       "    <tr>\n",
       "      <th>1</th>\n",
       "      <td>levobupivacaine</td>\n",
       "      <td>[[levobupivacaine, C1E]]</td>\n",
       "      <td>[[(levobupivacaine, C1E)]]</td>\n",
       "      <td>[(levobupivacaine, C2S)]</td>\n",
       "      <td>[]</td>\n",
       "      <td>0</td>\n",
       "    </tr>\n",
       "    <tr>\n",
       "      <th>2</th>\n",
       "      <td>levobupivacaine hcl</td>\n",
       "      <td>[[levobupivacaine, C2S], [hcl, C2E]]</td>\n",
       "      <td>[[(levobupivacaine, C2S), (hcl, C2E)]]</td>\n",
       "      <td>[[(levobupivacaine, C2S), (hcl, C2E)]]</td>\n",
       "      <td>[levobupivacainehcl]</td>\n",
       "      <td>1</td>\n",
       "    </tr>\n",
       "    <tr>\n",
       "      <th>3</th>\n",
       "      <td>levobupivacaine hydrochloride</td>\n",
       "      <td>[[levobupivacaine, C2S], [hydrochloride, C2E]]</td>\n",
       "      <td>[[(levobupivacaine, C2S), (hydrochloride, C2E)]]</td>\n",
       "      <td>[[(levobupivacaine, C2S), (hydrochloride, C2E)]]</td>\n",
       "      <td>[levobupivacainehydrochloride]</td>\n",
       "      <td>1</td>\n",
       "    </tr>\n",
       "    <tr>\n",
       "      <th>4</th>\n",
       "      <td>(-)-nicardipine</td>\n",
       "      <td>[[(, C4S], [-, C4S], [), C4S], [-nicardipine, ...</td>\n",
       "      <td>[[[('-', 'C4S')], (, C4S), (-nicardipine, C4E)]]</td>\n",
       "      <td>[[((, C9S), (-, C9S), (), C9S), (-nicardipine,...</td>\n",
       "      <td>[(-)-nicardipine]</td>\n",
       "      <td>1</td>\n",
       "    </tr>\n",
       "    <tr>\n",
       "      <th>5</th>\n",
       "      <td>(s)-nicardipine</td>\n",
       "      <td>[[(, C4S], [s, C4S], [), C4S], [-nicardipine, ...</td>\n",
       "      <td>[[[('s', 'C4S')], (, C4S), (-nicardipine, C4E)]]</td>\n",
       "      <td>[[((, C9S), (s, C8S), (), C8S), (-nicardipine,...</td>\n",
       "      <td>[(s)-nicardipine]</td>\n",
       "      <td>1</td>\n",
       "    </tr>\n",
       "    <tr>\n",
       "      <th>6</th>\n",
       "      <td>(-)-nitrendipine</td>\n",
       "      <td>[[(, C4S], [-, C4S], [), C4S], [-nitrendipine,...</td>\n",
       "      <td>[[[('-', 'C4S')], (, C4S), (-nitrendipine, C4E)]]</td>\n",
       "      <td>[[((, C9S), (-, C9S), (), C9S), (-nitrendipine...</td>\n",
       "      <td>[(-)-nitrendipine]</td>\n",
       "      <td>1</td>\n",
       "    </tr>\n",
       "    <tr>\n",
       "      <th>7</th>\n",
       "      <td>(s)-nitrendipine</td>\n",
       "      <td>[[(, C4S], [s, C4S], [), C4S], [-nitrendipine,...</td>\n",
       "      <td>[[[('s', 'C4S')], (, C4S), (-nitrendipine, C4E)]]</td>\n",
       "      <td>[[((, C9S), (s, C8S), (), C8S), (-nitrendipine...</td>\n",
       "      <td>[(s)-nitrendipine]</td>\n",
       "      <td>1</td>\n",
       "    </tr>\n",
       "    <tr>\n",
       "      <th>8</th>\n",
       "      <td>levdobutamine</td>\n",
       "      <td>[[levdobutamine, C1E]]</td>\n",
       "      <td>[[(levdobutamine, C1E)]]</td>\n",
       "      <td>[(levdobutamine, C2S)]</td>\n",
       "      <td>[]</td>\n",
       "      <td>0</td>\n",
       "    </tr>\n",
       "    <tr>\n",
       "      <th>9</th>\n",
       "      <td>levdobutamine lactobionate</td>\n",
       "      <td>[[levdobutamine, C2S], [lactobionate, C2E]]</td>\n",
       "      <td>[[(levdobutamine, C2S), (lactobionate, C2E)]]</td>\n",
       "      <td>[[(levdobutamine, C2S), (lactobionate, C2E)]]</td>\n",
       "      <td>[levdobutaminelactobionate]</td>\n",
       "      <td>1</td>\n",
       "    </tr>\n",
       "  </tbody>\n",
       "</table>\n",
       "</div>"
      ]
     },
     "execution_count": 18,
     "metadata": {},
     "output_type": "execute_result"
    }
   ],
   "execution_count": 18
  },
  {
   "metadata": {
    "ExecuteTime": {
     "end_time": "2024-04-08T02:49:13.043438Z",
     "start_time": "2024-04-08T02:49:13.033946Z"
    }
   },
   "cell_type": "code",
   "source": "df['extracted'].map(len).value_counts()",
   "id": "38750529b15b7e1a",
   "outputs": [
    {
     "data": {
      "text/plain": [
       "extracted\n",
       "1    20634\n",
       "0     2593\n",
       "Name: count, dtype: int64"
      ]
     },
     "execution_count": 62,
     "metadata": {},
     "output_type": "execute_result"
    }
   ],
   "execution_count": 62
  },
  {
   "cell_type": "code",
   "id": "f2d0beb32394818b",
   "metadata": {
    "collapsed": false,
    "ExecuteTime": {
     "end_time": "2024-04-08T02:37:39.824267Z",
     "start_time": "2024-04-08T02:37:39.690432Z"
    }
   },
   "source": [
    "def is_correct(term: str, extracted: list[str]) -> bool:\n",
    "    if not extracted:\n",
    "        return False\n",
    "    return term.replace(' ', '') == extracted[0]\n",
    "df['correct'] = df.apply(lambda row: is_correct(row['synonym'], row['extracted']), axis=1)\n",
    "print(f'Accuracy: {df.correct.mean():.2%}')"
   ],
   "outputs": [
    {
     "name": "stdout",
     "output_type": "stream",
     "text": [
      "Accuracy: 88.84%\n"
     ]
    }
   ],
   "execution_count": 19
  },
  {
   "cell_type": "code",
   "id": "a24ecda350459642",
   "metadata": {
    "collapsed": false,
    "ExecuteTime": {
     "end_time": "2024-04-08T02:37:41.195719Z",
     "start_time": "2024-04-08T02:37:39.825055Z"
    }
   },
   "source": "df['synonym_token_count'] = df['synonym'].map(lambda syn: len(nltk.word_tokenize(syn)))",
   "outputs": [],
   "execution_count": 20
  },
  {
   "cell_type": "code",
   "id": "f7319219d0615388",
   "metadata": {
    "collapsed": false,
    "ExecuteTime": {
     "end_time": "2024-04-08T02:37:41.201125Z",
     "start_time": "2024-04-08T02:37:41.196631Z"
    }
   },
   "source": "df[df['extracted_count']==0].synonym_token_count.value_counts()",
   "outputs": [
    {
     "data": {
      "text/plain": [
       "synonym_token_count\n",
       "1     2202\n",
       "2      362\n",
       "3       23\n",
       "4        4\n",
       "14       1\n",
       "19       1\n",
       "Name: count, dtype: int64"
      ]
     },
     "execution_count": 21,
     "metadata": {},
     "output_type": "execute_result"
    }
   ],
   "execution_count": 21
  },
  {
   "cell_type": "code",
   "id": "5907318b3563ca41",
   "metadata": {
    "collapsed": false,
    "ExecuteTime": {
     "end_time": "2024-04-08T02:37:41.227959Z",
     "start_time": "2024-04-08T02:37:41.201849Z"
    }
   },
   "source": [
    "_df = df[df['extracted_count']==0].copy()\n",
    "_df"
   ],
   "outputs": [
    {
     "data": {
      "text/plain": [
       "                  synonym                       synonym_tag_gt  \\\n",
       "1         levobupivacaine             [[levobupivacaine, C1E]]   \n",
       "8           levdobutamine               [[levdobutamine, C1E]]   \n",
       "13            aminopterin                 [[aminopterin, C1E]]   \n",
       "44         5-fluorouracil              [[5-fluorouracil, C1E]]   \n",
       "73               abacavir                    [[abacavir, C1E]]   \n",
       "...                   ...                                  ...   \n",
       "23155         ensitrelvir                 [[ensitrelvir, C1E]]   \n",
       "23162        ritlecitinib                [[ritlecitinib, C1E]]   \n",
       "23175         durlobactam                 [[durlobactam, C1E]]   \n",
       "23184            tofersen                    [[tofersen, C1E]]   \n",
       "23209  avacincaptad pegol  [[avacincaptad, C2S], [pegol, C2E]]   \n",
       "\n",
       "                            synonym_gt_trees  \\\n",
       "1                 [[(levobupivacaine, C1E)]]   \n",
       "8                   [[(levdobutamine, C1E)]]   \n",
       "13                    [[(aminopterin, C1E)]]   \n",
       "44                 [[(5-fluorouracil, C1E)]]   \n",
       "73                       [[(abacavir, C1E)]]   \n",
       "...                                      ...   \n",
       "23155                 [[(ensitrelvir, C1E)]]   \n",
       "23162                [[(ritlecitinib, C1E)]]   \n",
       "23175                 [[(durlobactam, C1E)]]   \n",
       "23184                    [[(tofersen, C1E)]]   \n",
       "23209  [[(avacincaptad, C2S), (pegol, C2E)]]   \n",
       "\n",
       "                                      tree extracted  extracted_count  \\\n",
       "1                 [(levobupivacaine, C2S)]        []                0   \n",
       "8                   [(levdobutamine, C2S)]        []                0   \n",
       "13                    [(aminopterin, C2S)]        []                0   \n",
       "44                 [(5-fluorouracil, C2S)]        []                0   \n",
       "73                       [(abacavir, C2S)]        []                0   \n",
       "...                                    ...       ...              ...   \n",
       "23155                 [(ensitrelvir, C3S)]        []                0   \n",
       "23162                [(ritlecitinib, C2S)]        []                0   \n",
       "23175                 [(durlobactam, C2S)]        []                0   \n",
       "23184                    [(tofersen, C2S)]        []                0   \n",
       "23209  [(avacincaptad, C3S), (pegol, C3S)]        []                0   \n",
       "\n",
       "       correct  synonym_token_count  \n",
       "1        False                    1  \n",
       "8        False                    1  \n",
       "13       False                    1  \n",
       "44       False                    1  \n",
       "73       False                    1  \n",
       "...        ...                  ...  \n",
       "23155    False                    1  \n",
       "23162    False                    1  \n",
       "23175    False                    1  \n",
       "23184    False                    1  \n",
       "23209    False                    2  \n",
       "\n",
       "[2593 rows x 8 columns]"
      ],
      "text/html": [
       "<div>\n",
       "<style scoped>\n",
       "    .dataframe tbody tr th:only-of-type {\n",
       "        vertical-align: middle;\n",
       "    }\n",
       "\n",
       "    .dataframe tbody tr th {\n",
       "        vertical-align: top;\n",
       "    }\n",
       "\n",
       "    .dataframe thead th {\n",
       "        text-align: right;\n",
       "    }\n",
       "</style>\n",
       "<table border=\"1\" class=\"dataframe\">\n",
       "  <thead>\n",
       "    <tr style=\"text-align: right;\">\n",
       "      <th></th>\n",
       "      <th>synonym</th>\n",
       "      <th>synonym_tag_gt</th>\n",
       "      <th>synonym_gt_trees</th>\n",
       "      <th>tree</th>\n",
       "      <th>extracted</th>\n",
       "      <th>extracted_count</th>\n",
       "      <th>correct</th>\n",
       "      <th>synonym_token_count</th>\n",
       "    </tr>\n",
       "  </thead>\n",
       "  <tbody>\n",
       "    <tr>\n",
       "      <th>1</th>\n",
       "      <td>levobupivacaine</td>\n",
       "      <td>[[levobupivacaine, C1E]]</td>\n",
       "      <td>[[(levobupivacaine, C1E)]]</td>\n",
       "      <td>[(levobupivacaine, C2S)]</td>\n",
       "      <td>[]</td>\n",
       "      <td>0</td>\n",
       "      <td>False</td>\n",
       "      <td>1</td>\n",
       "    </tr>\n",
       "    <tr>\n",
       "      <th>8</th>\n",
       "      <td>levdobutamine</td>\n",
       "      <td>[[levdobutamine, C1E]]</td>\n",
       "      <td>[[(levdobutamine, C1E)]]</td>\n",
       "      <td>[(levdobutamine, C2S)]</td>\n",
       "      <td>[]</td>\n",
       "      <td>0</td>\n",
       "      <td>False</td>\n",
       "      <td>1</td>\n",
       "    </tr>\n",
       "    <tr>\n",
       "      <th>13</th>\n",
       "      <td>aminopterin</td>\n",
       "      <td>[[aminopterin, C1E]]</td>\n",
       "      <td>[[(aminopterin, C1E)]]</td>\n",
       "      <td>[(aminopterin, C2S)]</td>\n",
       "      <td>[]</td>\n",
       "      <td>0</td>\n",
       "      <td>False</td>\n",
       "      <td>1</td>\n",
       "    </tr>\n",
       "    <tr>\n",
       "      <th>44</th>\n",
       "      <td>5-fluorouracil</td>\n",
       "      <td>[[5-fluorouracil, C1E]]</td>\n",
       "      <td>[[(5-fluorouracil, C1E)]]</td>\n",
       "      <td>[(5-fluorouracil, C2S)]</td>\n",
       "      <td>[]</td>\n",
       "      <td>0</td>\n",
       "      <td>False</td>\n",
       "      <td>1</td>\n",
       "    </tr>\n",
       "    <tr>\n",
       "      <th>73</th>\n",
       "      <td>abacavir</td>\n",
       "      <td>[[abacavir, C1E]]</td>\n",
       "      <td>[[(abacavir, C1E)]]</td>\n",
       "      <td>[(abacavir, C2S)]</td>\n",
       "      <td>[]</td>\n",
       "      <td>0</td>\n",
       "      <td>False</td>\n",
       "      <td>1</td>\n",
       "    </tr>\n",
       "    <tr>\n",
       "      <th>...</th>\n",
       "      <td>...</td>\n",
       "      <td>...</td>\n",
       "      <td>...</td>\n",
       "      <td>...</td>\n",
       "      <td>...</td>\n",
       "      <td>...</td>\n",
       "      <td>...</td>\n",
       "      <td>...</td>\n",
       "    </tr>\n",
       "    <tr>\n",
       "      <th>23155</th>\n",
       "      <td>ensitrelvir</td>\n",
       "      <td>[[ensitrelvir, C1E]]</td>\n",
       "      <td>[[(ensitrelvir, C1E)]]</td>\n",
       "      <td>[(ensitrelvir, C3S)]</td>\n",
       "      <td>[]</td>\n",
       "      <td>0</td>\n",
       "      <td>False</td>\n",
       "      <td>1</td>\n",
       "    </tr>\n",
       "    <tr>\n",
       "      <th>23162</th>\n",
       "      <td>ritlecitinib</td>\n",
       "      <td>[[ritlecitinib, C1E]]</td>\n",
       "      <td>[[(ritlecitinib, C1E)]]</td>\n",
       "      <td>[(ritlecitinib, C2S)]</td>\n",
       "      <td>[]</td>\n",
       "      <td>0</td>\n",
       "      <td>False</td>\n",
       "      <td>1</td>\n",
       "    </tr>\n",
       "    <tr>\n",
       "      <th>23175</th>\n",
       "      <td>durlobactam</td>\n",
       "      <td>[[durlobactam, C1E]]</td>\n",
       "      <td>[[(durlobactam, C1E)]]</td>\n",
       "      <td>[(durlobactam, C2S)]</td>\n",
       "      <td>[]</td>\n",
       "      <td>0</td>\n",
       "      <td>False</td>\n",
       "      <td>1</td>\n",
       "    </tr>\n",
       "    <tr>\n",
       "      <th>23184</th>\n",
       "      <td>tofersen</td>\n",
       "      <td>[[tofersen, C1E]]</td>\n",
       "      <td>[[(tofersen, C1E)]]</td>\n",
       "      <td>[(tofersen, C2S)]</td>\n",
       "      <td>[]</td>\n",
       "      <td>0</td>\n",
       "      <td>False</td>\n",
       "      <td>1</td>\n",
       "    </tr>\n",
       "    <tr>\n",
       "      <th>23209</th>\n",
       "      <td>avacincaptad pegol</td>\n",
       "      <td>[[avacincaptad, C2S], [pegol, C2E]]</td>\n",
       "      <td>[[(avacincaptad, C2S), (pegol, C2E)]]</td>\n",
       "      <td>[(avacincaptad, C3S), (pegol, C3S)]</td>\n",
       "      <td>[]</td>\n",
       "      <td>0</td>\n",
       "      <td>False</td>\n",
       "      <td>2</td>\n",
       "    </tr>\n",
       "  </tbody>\n",
       "</table>\n",
       "<p>2593 rows × 8 columns</p>\n",
       "</div>"
      ]
     },
     "execution_count": 22,
     "metadata": {},
     "output_type": "execute_result"
    }
   ],
   "execution_count": 22
  },
  {
   "cell_type": "code",
   "id": "c76a19df0e383701",
   "metadata": {
    "collapsed": false,
    "ExecuteTime": {
     "end_time": "2024-04-08T02:37:41.245854Z",
     "start_time": "2024-04-08T02:37:41.231883Z"
    }
   },
   "source": "_df[_df['synonym_token_count']==2].head()",
   "outputs": [
    {
     "data": {
      "text/plain": [
       "                    synonym                           synonym_tag_gt  \\\n",
       "131   acefylline piperazine   [[acefylline, C2S], [piperazine, C2E]]   \n",
       "251  acetopromazine maleate  [[acetopromazine, C2S], [maleate, C2E]]   \n",
       "321  adenosine triphosphate  [[adenosine, C2S], [triphosphate, C2E]]   \n",
       "423      alendronate sodium      [[alendronate, C2S], [sodium, C2E]]   \n",
       "548        alverine citrate        [[alverine, C2S], [citrate, C2E]]   \n",
       "\n",
       "                              synonym_gt_trees  \\\n",
       "131   [[(acefylline, C2S), (piperazine, C2E)]]   \n",
       "251  [[(acetopromazine, C2S), (maleate, C2E)]]   \n",
       "321  [[(adenosine, C2S), (triphosphate, C2E)]]   \n",
       "423      [[(alendronate, C2S), (sodium, C2E)]]   \n",
       "548        [[(alverine, C2S), (citrate, C2E)]]   \n",
       "\n",
       "                                        tree extracted  extracted_count  \\\n",
       "131   [(acefylline, C3S), (piperazine, C3S)]        []                0   \n",
       "251  [(acetopromazine, C3S), (maleate, C3S)]        []                0   \n",
       "321  [(adenosine, C4S), (triphosphate, C4S)]        []                0   \n",
       "423      [(alendronate, C4S), (sodium, C3S)]        []                0   \n",
       "548        [(alverine, C3S), (citrate, C3S)]        []                0   \n",
       "\n",
       "     correct  synonym_token_count  \n",
       "131    False                    2  \n",
       "251    False                    2  \n",
       "321    False                    2  \n",
       "423    False                    2  \n",
       "548    False                    2  "
      ],
      "text/html": [
       "<div>\n",
       "<style scoped>\n",
       "    .dataframe tbody tr th:only-of-type {\n",
       "        vertical-align: middle;\n",
       "    }\n",
       "\n",
       "    .dataframe tbody tr th {\n",
       "        vertical-align: top;\n",
       "    }\n",
       "\n",
       "    .dataframe thead th {\n",
       "        text-align: right;\n",
       "    }\n",
       "</style>\n",
       "<table border=\"1\" class=\"dataframe\">\n",
       "  <thead>\n",
       "    <tr style=\"text-align: right;\">\n",
       "      <th></th>\n",
       "      <th>synonym</th>\n",
       "      <th>synonym_tag_gt</th>\n",
       "      <th>synonym_gt_trees</th>\n",
       "      <th>tree</th>\n",
       "      <th>extracted</th>\n",
       "      <th>extracted_count</th>\n",
       "      <th>correct</th>\n",
       "      <th>synonym_token_count</th>\n",
       "    </tr>\n",
       "  </thead>\n",
       "  <tbody>\n",
       "    <tr>\n",
       "      <th>131</th>\n",
       "      <td>acefylline piperazine</td>\n",
       "      <td>[[acefylline, C2S], [piperazine, C2E]]</td>\n",
       "      <td>[[(acefylline, C2S), (piperazine, C2E)]]</td>\n",
       "      <td>[(acefylline, C3S), (piperazine, C3S)]</td>\n",
       "      <td>[]</td>\n",
       "      <td>0</td>\n",
       "      <td>False</td>\n",
       "      <td>2</td>\n",
       "    </tr>\n",
       "    <tr>\n",
       "      <th>251</th>\n",
       "      <td>acetopromazine maleate</td>\n",
       "      <td>[[acetopromazine, C2S], [maleate, C2E]]</td>\n",
       "      <td>[[(acetopromazine, C2S), (maleate, C2E)]]</td>\n",
       "      <td>[(acetopromazine, C3S), (maleate, C3S)]</td>\n",
       "      <td>[]</td>\n",
       "      <td>0</td>\n",
       "      <td>False</td>\n",
       "      <td>2</td>\n",
       "    </tr>\n",
       "    <tr>\n",
       "      <th>321</th>\n",
       "      <td>adenosine triphosphate</td>\n",
       "      <td>[[adenosine, C2S], [triphosphate, C2E]]</td>\n",
       "      <td>[[(adenosine, C2S), (triphosphate, C2E)]]</td>\n",
       "      <td>[(adenosine, C4S), (triphosphate, C4S)]</td>\n",
       "      <td>[]</td>\n",
       "      <td>0</td>\n",
       "      <td>False</td>\n",
       "      <td>2</td>\n",
       "    </tr>\n",
       "    <tr>\n",
       "      <th>423</th>\n",
       "      <td>alendronate sodium</td>\n",
       "      <td>[[alendronate, C2S], [sodium, C2E]]</td>\n",
       "      <td>[[(alendronate, C2S), (sodium, C2E)]]</td>\n",
       "      <td>[(alendronate, C4S), (sodium, C3S)]</td>\n",
       "      <td>[]</td>\n",
       "      <td>0</td>\n",
       "      <td>False</td>\n",
       "      <td>2</td>\n",
       "    </tr>\n",
       "    <tr>\n",
       "      <th>548</th>\n",
       "      <td>alverine citrate</td>\n",
       "      <td>[[alverine, C2S], [citrate, C2E]]</td>\n",
       "      <td>[[(alverine, C2S), (citrate, C2E)]]</td>\n",
       "      <td>[(alverine, C3S), (citrate, C3S)]</td>\n",
       "      <td>[]</td>\n",
       "      <td>0</td>\n",
       "      <td>False</td>\n",
       "      <td>2</td>\n",
       "    </tr>\n",
       "  </tbody>\n",
       "</table>\n",
       "</div>"
      ]
     },
     "execution_count": 23,
     "metadata": {},
     "output_type": "execute_result"
    }
   ],
   "execution_count": 23
  },
  {
   "cell_type": "markdown",
   "source": [
    "# Create Chunker training data and ground truth"
   ],
   "metadata": {
    "collapsed": false
   },
   "id": "2ba8815b658833e6"
  },
  {
   "cell_type": "markdown",
   "source": [
    "## Chunker training data\n",
    "\n",
    "Chunker training data is created by using the synonym lists to create tagged trees and interjecting random words which are labeled 'O'.\n"
   ],
   "metadata": {
    "collapsed": false
   },
   "id": "45054e727cf3e32c"
  },
  {
   "cell_type": "code",
   "source": [
    "filler_words = build_features.preprocess_text(\n",
    "    'The purpose of this study is to evaluate the safety and efficacy of 3 different doses of '\n",
    "    'administered in addition to standard therapy, in patients with active SLE disease.'\n",
    "# ).lower().split()\n",
    ")\n",
    "\n",
    "train_tree_synonyms = []\n",
    "for synonyms in synonyms_df['synonyms']:\n",
    "    trees = []\n",
    "    for synonym in synonyms:\n",
    "        tokens = nltk.word_tokenize(synonym)\n",
    "        synonym_tags = build_features.get_synonym_tags(tokens)\n",
    "            \n",
    "        tree = build_features.create_chunk_tree(synonym_tags)\n",
    "        trees.append(tree)\n",
    "        \n",
    "        trees.extend(build_features.get_random_filler_trees(filler_words))\n",
    "    \n",
    "    \n",
    "    train_tree_synonyms.append(nltk.Tree('S', trees))\n",
    "        "
   ],
   "metadata": {
    "collapsed": false,
    "ExecuteTime": {
     "end_time": "2024-04-08T02:37:43.477360Z",
     "start_time": "2024-04-08T02:37:41.246626Z"
    }
   },
   "id": "57ebf1b01441d686",
   "outputs": [],
   "execution_count": 24
  },
  {
   "cell_type": "code",
   "source": [
    "assert max([t.height() for t in train_tree_synonyms]) == 3"
   ],
   "metadata": {
    "collapsed": false,
    "ExecuteTime": {
     "end_time": "2024-04-08T02:37:43.519550Z",
     "start_time": "2024-04-08T02:37:43.478213Z"
    }
   },
   "id": "6bc0320cf6fae9b3",
   "outputs": [],
   "execution_count": 25
  },
  {
   "cell_type": "code",
   "source": [
    "# Check that tree height is at most 3.\n",
    "# for index, tree in enumerate(train_tree_synonyms):\n",
    "#     if tree.height()>3:\n",
    "#         print('found')\n",
    "#         break"
   ],
   "metadata": {
    "collapsed": false,
    "ExecuteTime": {
     "end_time": "2024-04-08T02:37:43.521993Z",
     "start_time": "2024-04-08T02:37:43.520306Z"
    }
   },
   "id": "6b698a6da144483",
   "outputs": [],
   "execution_count": 26
  },
  {
   "cell_type": "code",
   "source": [
    "train_tree_synonyms[1]"
   ],
   "metadata": {
    "collapsed": false,
    "ExecuteTime": {
     "end_time": "2024-04-08T02:37:43.557852Z",
     "start_time": "2024-04-08T02:37:43.522643Z"
    }
   },
   "id": "23897ba5d90ddc48",
   "outputs": [
    {
     "data": {
      "text/plain": [
       "Tree('S', [Tree('NP', [('(', 'C4S'), ('-', 'C4S'), (')', 'C4S'), ('-nicardipine', 'C4E')]), ('of', 'O'), ('of', 'O'), ('with', 'O'), Tree('NP', [('(', 'C4S'), ('s', 'C4S'), (')', 'C4S'), ('-nicardipine', 'C4E')]), ('to', 'O'), ('safety', 'O'), ('sle', 'O')])"
      ],
      "image/svg+xml": "<svg baseProfile=\"full\" height=\"168px\" preserveAspectRatio=\"xMidYMid meet\" style=\"font-family: times, serif; font-weight: normal; font-style: normal; font-size: 16px;\" version=\"1.1\" viewBox=\"0,0,712.0,168.0\" width=\"712px\" xmlns=\"http://www.w3.org/2000/svg\" xmlns:ev=\"http://www.w3.org/2001/xml-events\" xmlns:xlink=\"http://www.w3.org/1999/xlink\"><defs /><svg width=\"100%\" x=\"0\" y=\"0px\"><defs /><text text-anchor=\"middle\" x=\"50%\" y=\"16px\">S</text></svg><svg width=\"32.5843%\" x=\"0%\" y=\"48px\"><defs /><svg width=\"100%\" x=\"0\" y=\"0px\"><defs /><text text-anchor=\"middle\" x=\"50%\" y=\"16px\">NP</text></svg><svg width=\"17.2414%\" x=\"0%\" y=\"48px\"><defs /><svg width=\"100%\" x=\"0\" y=\"0px\"><defs /><text text-anchor=\"middle\" x=\"50%\" y=\"16px\">(</text></svg><svg width=\"100%\" x=\"0%\" y=\"48px\"><defs /><svg width=\"100%\" x=\"0\" y=\"0px\"><defs /><text text-anchor=\"middle\" x=\"50%\" y=\"16px\">C4S</text></svg></svg><line stroke=\"black\" x1=\"50%\" x2=\"50%\" y1=\"19.2px\" y2=\"48px\" /></svg><line stroke=\"black\" x1=\"50%\" x2=\"8.62069%\" y1=\"19.2px\" y2=\"48px\" /><svg width=\"17.2414%\" x=\"17.2414%\" y=\"48px\"><defs /><svg width=\"100%\" x=\"0\" y=\"0px\"><defs /><text text-anchor=\"middle\" x=\"50%\" y=\"16px\">-</text></svg><svg width=\"100%\" x=\"0%\" y=\"48px\"><defs /><svg width=\"100%\" x=\"0\" y=\"0px\"><defs /><text text-anchor=\"middle\" x=\"50%\" y=\"16px\">C4S</text></svg></svg><line stroke=\"black\" x1=\"50%\" x2=\"50%\" y1=\"19.2px\" y2=\"48px\" /></svg><line stroke=\"black\" x1=\"50%\" x2=\"25.8621%\" y1=\"19.2px\" y2=\"48px\" /><svg width=\"17.2414%\" x=\"34.4828%\" y=\"48px\"><defs /><svg width=\"100%\" x=\"0\" y=\"0px\"><defs /><text text-anchor=\"middle\" x=\"50%\" y=\"16px\">)</text></svg><svg width=\"100%\" x=\"0%\" y=\"48px\"><defs /><svg width=\"100%\" x=\"0\" y=\"0px\"><defs /><text text-anchor=\"middle\" x=\"50%\" y=\"16px\">C4S</text></svg></svg><line stroke=\"black\" x1=\"50%\" x2=\"50%\" y1=\"19.2px\" y2=\"48px\" /></svg><line stroke=\"black\" x1=\"50%\" x2=\"43.1034%\" y1=\"19.2px\" y2=\"48px\" /><svg width=\"48.2759%\" x=\"51.7241%\" y=\"48px\"><defs /><svg width=\"100%\" x=\"0\" y=\"0px\"><defs /><text text-anchor=\"middle\" x=\"50%\" y=\"16px\">-nicardipine</text></svg><svg width=\"100%\" x=\"0%\" y=\"48px\"><defs /><svg width=\"100%\" x=\"0\" y=\"0px\"><defs /><text text-anchor=\"middle\" x=\"50%\" y=\"16px\">C4E</text></svg></svg><line stroke=\"black\" x1=\"50%\" x2=\"50%\" y1=\"19.2px\" y2=\"48px\" /></svg><line stroke=\"black\" x1=\"50%\" x2=\"75.8621%\" y1=\"19.2px\" y2=\"48px\" /></svg><line stroke=\"black\" x1=\"50%\" x2=\"16.2921%\" y1=\"19.2px\" y2=\"48px\" /><svg width=\"4.49438%\" x=\"32.5843%\" y=\"48px\"><defs /><svg width=\"100%\" x=\"0\" y=\"0px\"><defs /><text text-anchor=\"middle\" x=\"50%\" y=\"16px\">of</text></svg><svg width=\"100%\" x=\"0%\" y=\"48px\"><defs /><svg width=\"100%\" x=\"0\" y=\"0px\"><defs /><text text-anchor=\"middle\" x=\"50%\" y=\"16px\">O</text></svg></svg><line stroke=\"black\" x1=\"50%\" x2=\"50%\" y1=\"19.2px\" y2=\"48px\" /></svg><line stroke=\"black\" x1=\"50%\" x2=\"34.8315%\" y1=\"19.2px\" y2=\"48px\" /><svg width=\"4.49438%\" x=\"37.0787%\" y=\"48px\"><defs /><svg width=\"100%\" x=\"0\" y=\"0px\"><defs /><text text-anchor=\"middle\" x=\"50%\" y=\"16px\">of</text></svg><svg width=\"100%\" x=\"0%\" y=\"48px\"><defs /><svg width=\"100%\" x=\"0\" y=\"0px\"><defs /><text text-anchor=\"middle\" x=\"50%\" y=\"16px\">O</text></svg></svg><line stroke=\"black\" x1=\"50%\" x2=\"50%\" y1=\"19.2px\" y2=\"48px\" /></svg><line stroke=\"black\" x1=\"50%\" x2=\"39.3258%\" y1=\"19.2px\" y2=\"48px\" /><svg width=\"6.74157%\" x=\"41.573%\" y=\"48px\"><defs /><svg width=\"100%\" x=\"0\" y=\"0px\"><defs /><text text-anchor=\"middle\" x=\"50%\" y=\"16px\">with</text></svg><svg width=\"100%\" x=\"0%\" y=\"48px\"><defs /><svg width=\"100%\" x=\"0\" y=\"0px\"><defs /><text text-anchor=\"middle\" x=\"50%\" y=\"16px\">O</text></svg></svg><line stroke=\"black\" x1=\"50%\" x2=\"50%\" y1=\"19.2px\" y2=\"48px\" /></svg><line stroke=\"black\" x1=\"50%\" x2=\"44.9438%\" y1=\"19.2px\" y2=\"48px\" /><svg width=\"32.5843%\" x=\"48.3146%\" y=\"48px\"><defs /><svg width=\"100%\" x=\"0\" y=\"0px\"><defs /><text text-anchor=\"middle\" x=\"50%\" y=\"16px\">NP</text></svg><svg width=\"17.2414%\" x=\"0%\" y=\"48px\"><defs /><svg width=\"100%\" x=\"0\" y=\"0px\"><defs /><text text-anchor=\"middle\" x=\"50%\" y=\"16px\">(</text></svg><svg width=\"100%\" x=\"0%\" y=\"48px\"><defs /><svg width=\"100%\" x=\"0\" y=\"0px\"><defs /><text text-anchor=\"middle\" x=\"50%\" y=\"16px\">C4S</text></svg></svg><line stroke=\"black\" x1=\"50%\" x2=\"50%\" y1=\"19.2px\" y2=\"48px\" /></svg><line stroke=\"black\" x1=\"50%\" x2=\"8.62069%\" y1=\"19.2px\" y2=\"48px\" /><svg width=\"17.2414%\" x=\"17.2414%\" y=\"48px\"><defs /><svg width=\"100%\" x=\"0\" y=\"0px\"><defs /><text text-anchor=\"middle\" x=\"50%\" y=\"16px\">s</text></svg><svg width=\"100%\" x=\"0%\" y=\"48px\"><defs /><svg width=\"100%\" x=\"0\" y=\"0px\"><defs /><text text-anchor=\"middle\" x=\"50%\" y=\"16px\">C4S</text></svg></svg><line stroke=\"black\" x1=\"50%\" x2=\"50%\" y1=\"19.2px\" y2=\"48px\" /></svg><line stroke=\"black\" x1=\"50%\" x2=\"25.8621%\" y1=\"19.2px\" y2=\"48px\" /><svg width=\"17.2414%\" x=\"34.4828%\" y=\"48px\"><defs /><svg width=\"100%\" x=\"0\" y=\"0px\"><defs /><text text-anchor=\"middle\" x=\"50%\" y=\"16px\">)</text></svg><svg width=\"100%\" x=\"0%\" y=\"48px\"><defs /><svg width=\"100%\" x=\"0\" y=\"0px\"><defs /><text text-anchor=\"middle\" x=\"50%\" y=\"16px\">C4S</text></svg></svg><line stroke=\"black\" x1=\"50%\" x2=\"50%\" y1=\"19.2px\" y2=\"48px\" /></svg><line stroke=\"black\" x1=\"50%\" x2=\"43.1034%\" y1=\"19.2px\" y2=\"48px\" /><svg width=\"48.2759%\" x=\"51.7241%\" y=\"48px\"><defs /><svg width=\"100%\" x=\"0\" y=\"0px\"><defs /><text text-anchor=\"middle\" x=\"50%\" y=\"16px\">-nicardipine</text></svg><svg width=\"100%\" x=\"0%\" y=\"48px\"><defs /><svg width=\"100%\" x=\"0\" y=\"0px\"><defs /><text text-anchor=\"middle\" x=\"50%\" y=\"16px\">C4E</text></svg></svg><line stroke=\"black\" x1=\"50%\" x2=\"50%\" y1=\"19.2px\" y2=\"48px\" /></svg><line stroke=\"black\" x1=\"50%\" x2=\"75.8621%\" y1=\"19.2px\" y2=\"48px\" /></svg><line stroke=\"black\" x1=\"50%\" x2=\"64.6067%\" y1=\"19.2px\" y2=\"48px\" /><svg width=\"4.49438%\" x=\"80.8989%\" y=\"48px\"><defs /><svg width=\"100%\" x=\"0\" y=\"0px\"><defs /><text text-anchor=\"middle\" x=\"50%\" y=\"16px\">to</text></svg><svg width=\"100%\" x=\"0%\" y=\"48px\"><defs /><svg width=\"100%\" x=\"0\" y=\"0px\"><defs /><text text-anchor=\"middle\" x=\"50%\" y=\"16px\">O</text></svg></svg><line stroke=\"black\" x1=\"50%\" x2=\"50%\" y1=\"19.2px\" y2=\"48px\" /></svg><line stroke=\"black\" x1=\"50%\" x2=\"83.1461%\" y1=\"19.2px\" y2=\"48px\" /><svg width=\"8.98876%\" x=\"85.3933%\" y=\"48px\"><defs /><svg width=\"100%\" x=\"0\" y=\"0px\"><defs /><text text-anchor=\"middle\" x=\"50%\" y=\"16px\">safety</text></svg><svg width=\"100%\" x=\"0%\" y=\"48px\"><defs /><svg width=\"100%\" x=\"0\" y=\"0px\"><defs /><text text-anchor=\"middle\" x=\"50%\" y=\"16px\">O</text></svg></svg><line stroke=\"black\" x1=\"50%\" x2=\"50%\" y1=\"19.2px\" y2=\"48px\" /></svg><line stroke=\"black\" x1=\"50%\" x2=\"89.8876%\" y1=\"19.2px\" y2=\"48px\" /><svg width=\"5.61798%\" x=\"94.382%\" y=\"48px\"><defs /><svg width=\"100%\" x=\"0\" y=\"0px\"><defs /><text text-anchor=\"middle\" x=\"50%\" y=\"16px\">sle</text></svg><svg width=\"100%\" x=\"0%\" y=\"48px\"><defs /><svg width=\"100%\" x=\"0\" y=\"0px\"><defs /><text text-anchor=\"middle\" x=\"50%\" y=\"16px\">O</text></svg></svg><line stroke=\"black\" x1=\"50%\" x2=\"50%\" y1=\"19.2px\" y2=\"48px\" /></svg><line stroke=\"black\" x1=\"50%\" x2=\"97.191%\" y1=\"19.2px\" y2=\"48px\" /></svg>"
     },
     "execution_count": 27,
     "metadata": {},
     "output_type": "execute_result"
    }
   ],
   "execution_count": 27
  },
  {
   "cell_type": "markdown",
   "source": [
    "## Chunker ground truth data"
   ],
   "metadata": {
    "collapsed": false
   },
   "id": "70dd7dae6e837b47"
  },
  {
   "cell_type": "code",
   "source": [
    "tagger = taggers[-1]\n",
    "test_trees_gt = []\n",
    "for _, row in summaries_df.iterrows():\n",
    "    nct_id = row['nct_id']\n",
    "    keywords = [kw.lower() for kw in ground_truth[nct_id]]\n",
    "    brief_summary_raw = row['brief_summary'].lower()\n",
    "    \n",
    "    tree = build_features.get_gt_tree(brief_summary_raw, keywords)\n",
    "    assert ''.join(build_features.split_summary_by_keywords(brief_summary_raw, keywords)) == brief_summary_raw\n",
    "    test_trees_gt.append(tree)"
   ],
   "metadata": {
    "collapsed": false,
    "ExecuteTime": {
     "end_time": "2024-04-08T02:37:43.583539Z",
     "start_time": "2024-04-08T02:37:43.558518Z"
    }
   },
   "id": "9074e0408b56101",
   "outputs": [],
   "execution_count": 28
  },
  {
   "cell_type": "code",
   "source": [
    "test_trees_gt[45]"
   ],
   "metadata": {
    "collapsed": false,
    "ExecuteTime": {
     "end_time": "2024-04-08T02:37:43.602152Z",
     "start_time": "2024-04-08T02:37:43.584239Z"
    }
   },
   "id": "6851eb3c3f2d0371",
   "outputs": [
    {
     "data": {
      "text/plain": [
       "Tree('S', [('the', 'O'), ('purpose', 'O'), ('of', 'O'), ('this', 'O'), ('study', 'O'), ('is', 'O'), ('to', 'O'), ('examine', 'O'), ('the', 'O'), ('safety', 'O'), ('and', 'O'), ('efficacy', 'O'), ('of', 'O'), Tree('NP', [('cnto', 'C2S'), ('1275', 'C2E')]), ('in', 'O'), ('participants', 'O'), ('with', 'O'), ('active', 'O'), ('crohn', 'O'), (\"'s\", 'O'), ('disease', 'O'), ('.', 'O')])"
      ],
      "image/svg+xml": "<svg baseProfile=\"full\" height=\"168px\" preserveAspectRatio=\"xMidYMid meet\" style=\"font-family: times, serif; font-weight: normal; font-style: normal; font-size: 16px;\" version=\"1.1\" viewBox=\"0,0,1176.0,168.0\" width=\"1176px\" xmlns=\"http://www.w3.org/2000/svg\" xmlns:ev=\"http://www.w3.org/2001/xml-events\" xmlns:xlink=\"http://www.w3.org/1999/xlink\"><defs /><svg width=\"100%\" x=\"0\" y=\"0px\"><defs /><text text-anchor=\"middle\" x=\"50%\" y=\"16px\">S</text></svg><svg width=\"3.40136%\" x=\"0%\" y=\"48px\"><defs /><svg width=\"100%\" x=\"0\" y=\"0px\"><defs /><text text-anchor=\"middle\" x=\"50%\" y=\"16px\">the</text></svg><svg width=\"100%\" x=\"0%\" y=\"48px\"><defs /><svg width=\"100%\" x=\"0\" y=\"0px\"><defs /><text text-anchor=\"middle\" x=\"50%\" y=\"16px\">O</text></svg></svg><line stroke=\"black\" x1=\"50%\" x2=\"50%\" y1=\"19.2px\" y2=\"48px\" /></svg><line stroke=\"black\" x1=\"50%\" x2=\"1.70068%\" y1=\"19.2px\" y2=\"48px\" /><svg width=\"6.12245%\" x=\"3.40136%\" y=\"48px\"><defs /><svg width=\"100%\" x=\"0\" y=\"0px\"><defs /><text text-anchor=\"middle\" x=\"50%\" y=\"16px\">purpose</text></svg><svg width=\"100%\" x=\"0%\" y=\"48px\"><defs /><svg width=\"100%\" x=\"0\" y=\"0px\"><defs /><text text-anchor=\"middle\" x=\"50%\" y=\"16px\">O</text></svg></svg><line stroke=\"black\" x1=\"50%\" x2=\"50%\" y1=\"19.2px\" y2=\"48px\" /></svg><line stroke=\"black\" x1=\"50%\" x2=\"6.46259%\" y1=\"19.2px\" y2=\"48px\" /><svg width=\"2.72109%\" x=\"9.52381%\" y=\"48px\"><defs /><svg width=\"100%\" x=\"0\" y=\"0px\"><defs /><text text-anchor=\"middle\" x=\"50%\" y=\"16px\">of</text></svg><svg width=\"100%\" x=\"0%\" y=\"48px\"><defs /><svg width=\"100%\" x=\"0\" y=\"0px\"><defs /><text text-anchor=\"middle\" x=\"50%\" y=\"16px\">O</text></svg></svg><line stroke=\"black\" x1=\"50%\" x2=\"50%\" y1=\"19.2px\" y2=\"48px\" /></svg><line stroke=\"black\" x1=\"50%\" x2=\"10.8844%\" y1=\"19.2px\" y2=\"48px\" /><svg width=\"4.08163%\" x=\"12.2449%\" y=\"48px\"><defs /><svg width=\"100%\" x=\"0\" y=\"0px\"><defs /><text text-anchor=\"middle\" x=\"50%\" y=\"16px\">this</text></svg><svg width=\"100%\" x=\"0%\" y=\"48px\"><defs /><svg width=\"100%\" x=\"0\" y=\"0px\"><defs /><text text-anchor=\"middle\" x=\"50%\" y=\"16px\">O</text></svg></svg><line stroke=\"black\" x1=\"50%\" x2=\"50%\" y1=\"19.2px\" y2=\"48px\" /></svg><line stroke=\"black\" x1=\"50%\" x2=\"14.2857%\" y1=\"19.2px\" y2=\"48px\" /><svg width=\"4.7619%\" x=\"16.3265%\" y=\"48px\"><defs /><svg width=\"100%\" x=\"0\" y=\"0px\"><defs /><text text-anchor=\"middle\" x=\"50%\" y=\"16px\">study</text></svg><svg width=\"100%\" x=\"0%\" y=\"48px\"><defs /><svg width=\"100%\" x=\"0\" y=\"0px\"><defs /><text text-anchor=\"middle\" x=\"50%\" y=\"16px\">O</text></svg></svg><line stroke=\"black\" x1=\"50%\" x2=\"50%\" y1=\"19.2px\" y2=\"48px\" /></svg><line stroke=\"black\" x1=\"50%\" x2=\"18.7075%\" y1=\"19.2px\" y2=\"48px\" /><svg width=\"2.72109%\" x=\"21.0884%\" y=\"48px\"><defs /><svg width=\"100%\" x=\"0\" y=\"0px\"><defs /><text text-anchor=\"middle\" x=\"50%\" y=\"16px\">is</text></svg><svg width=\"100%\" x=\"0%\" y=\"48px\"><defs /><svg width=\"100%\" x=\"0\" y=\"0px\"><defs /><text text-anchor=\"middle\" x=\"50%\" y=\"16px\">O</text></svg></svg><line stroke=\"black\" x1=\"50%\" x2=\"50%\" y1=\"19.2px\" y2=\"48px\" /></svg><line stroke=\"black\" x1=\"50%\" x2=\"22.449%\" y1=\"19.2px\" y2=\"48px\" /><svg width=\"2.72109%\" x=\"23.8095%\" y=\"48px\"><defs /><svg width=\"100%\" x=\"0\" y=\"0px\"><defs /><text text-anchor=\"middle\" x=\"50%\" y=\"16px\">to</text></svg><svg width=\"100%\" x=\"0%\" y=\"48px\"><defs /><svg width=\"100%\" x=\"0\" y=\"0px\"><defs /><text text-anchor=\"middle\" x=\"50%\" y=\"16px\">O</text></svg></svg><line stroke=\"black\" x1=\"50%\" x2=\"50%\" y1=\"19.2px\" y2=\"48px\" /></svg><line stroke=\"black\" x1=\"50%\" x2=\"25.1701%\" y1=\"19.2px\" y2=\"48px\" /><svg width=\"6.12245%\" x=\"26.5306%\" y=\"48px\"><defs /><svg width=\"100%\" x=\"0\" y=\"0px\"><defs /><text text-anchor=\"middle\" x=\"50%\" y=\"16px\">examine</text></svg><svg width=\"100%\" x=\"0%\" y=\"48px\"><defs /><svg width=\"100%\" x=\"0\" y=\"0px\"><defs /><text text-anchor=\"middle\" x=\"50%\" y=\"16px\">O</text></svg></svg><line stroke=\"black\" x1=\"50%\" x2=\"50%\" y1=\"19.2px\" y2=\"48px\" /></svg><line stroke=\"black\" x1=\"50%\" x2=\"29.5918%\" y1=\"19.2px\" y2=\"48px\" /><svg width=\"3.40136%\" x=\"32.6531%\" y=\"48px\"><defs /><svg width=\"100%\" x=\"0\" y=\"0px\"><defs /><text text-anchor=\"middle\" x=\"50%\" y=\"16px\">the</text></svg><svg width=\"100%\" x=\"0%\" y=\"48px\"><defs /><svg width=\"100%\" x=\"0\" y=\"0px\"><defs /><text text-anchor=\"middle\" x=\"50%\" y=\"16px\">O</text></svg></svg><line stroke=\"black\" x1=\"50%\" x2=\"50%\" y1=\"19.2px\" y2=\"48px\" /></svg><line stroke=\"black\" x1=\"50%\" x2=\"34.3537%\" y1=\"19.2px\" y2=\"48px\" /><svg width=\"5.44218%\" x=\"36.0544%\" y=\"48px\"><defs /><svg width=\"100%\" x=\"0\" y=\"0px\"><defs /><text text-anchor=\"middle\" x=\"50%\" y=\"16px\">safety</text></svg><svg width=\"100%\" x=\"0%\" y=\"48px\"><defs /><svg width=\"100%\" x=\"0\" y=\"0px\"><defs /><text text-anchor=\"middle\" x=\"50%\" y=\"16px\">O</text></svg></svg><line stroke=\"black\" x1=\"50%\" x2=\"50%\" y1=\"19.2px\" y2=\"48px\" /></svg><line stroke=\"black\" x1=\"50%\" x2=\"38.7755%\" y1=\"19.2px\" y2=\"48px\" /><svg width=\"3.40136%\" x=\"41.4966%\" y=\"48px\"><defs /><svg width=\"100%\" x=\"0\" y=\"0px\"><defs /><text text-anchor=\"middle\" x=\"50%\" y=\"16px\">and</text></svg><svg width=\"100%\" x=\"0%\" y=\"48px\"><defs /><svg width=\"100%\" x=\"0\" y=\"0px\"><defs /><text text-anchor=\"middle\" x=\"50%\" y=\"16px\">O</text></svg></svg><line stroke=\"black\" x1=\"50%\" x2=\"50%\" y1=\"19.2px\" y2=\"48px\" /></svg><line stroke=\"black\" x1=\"50%\" x2=\"43.1973%\" y1=\"19.2px\" y2=\"48px\" /><svg width=\"6.80272%\" x=\"44.898%\" y=\"48px\"><defs /><svg width=\"100%\" x=\"0\" y=\"0px\"><defs /><text text-anchor=\"middle\" x=\"50%\" y=\"16px\">efficacy</text></svg><svg width=\"100%\" x=\"0%\" y=\"48px\"><defs /><svg width=\"100%\" x=\"0\" y=\"0px\"><defs /><text text-anchor=\"middle\" x=\"50%\" y=\"16px\">O</text></svg></svg><line stroke=\"black\" x1=\"50%\" x2=\"50%\" y1=\"19.2px\" y2=\"48px\" /></svg><line stroke=\"black\" x1=\"50%\" x2=\"48.2993%\" y1=\"19.2px\" y2=\"48px\" /><svg width=\"2.72109%\" x=\"51.7007%\" y=\"48px\"><defs /><svg width=\"100%\" x=\"0\" y=\"0px\"><defs /><text text-anchor=\"middle\" x=\"50%\" y=\"16px\">of</text></svg><svg width=\"100%\" x=\"0%\" y=\"48px\"><defs /><svg width=\"100%\" x=\"0\" y=\"0px\"><defs /><text text-anchor=\"middle\" x=\"50%\" y=\"16px\">O</text></svg></svg><line stroke=\"black\" x1=\"50%\" x2=\"50%\" y1=\"19.2px\" y2=\"48px\" /></svg><line stroke=\"black\" x1=\"50%\" x2=\"53.0612%\" y1=\"19.2px\" y2=\"48px\" /><svg width=\"8.16327%\" x=\"54.4218%\" y=\"48px\"><defs /><svg width=\"100%\" x=\"0\" y=\"0px\"><defs /><text text-anchor=\"middle\" x=\"50%\" y=\"16px\">NP</text></svg><svg width=\"50%\" x=\"0%\" y=\"48px\"><defs /><svg width=\"100%\" x=\"0\" y=\"0px\"><defs /><text text-anchor=\"middle\" x=\"50%\" y=\"16px\">cnto</text></svg><svg width=\"100%\" x=\"0%\" y=\"48px\"><defs /><svg width=\"100%\" x=\"0\" y=\"0px\"><defs /><text text-anchor=\"middle\" x=\"50%\" y=\"16px\">C2S</text></svg></svg><line stroke=\"black\" x1=\"50%\" x2=\"50%\" y1=\"19.2px\" y2=\"48px\" /></svg><line stroke=\"black\" x1=\"50%\" x2=\"25%\" y1=\"19.2px\" y2=\"48px\" /><svg width=\"50%\" x=\"50%\" y=\"48px\"><defs /><svg width=\"100%\" x=\"0\" y=\"0px\"><defs /><text text-anchor=\"middle\" x=\"50%\" y=\"16px\">1275</text></svg><svg width=\"100%\" x=\"0%\" y=\"48px\"><defs /><svg width=\"100%\" x=\"0\" y=\"0px\"><defs /><text text-anchor=\"middle\" x=\"50%\" y=\"16px\">C2E</text></svg></svg><line stroke=\"black\" x1=\"50%\" x2=\"50%\" y1=\"19.2px\" y2=\"48px\" /></svg><line stroke=\"black\" x1=\"50%\" x2=\"75%\" y1=\"19.2px\" y2=\"48px\" /></svg><line stroke=\"black\" x1=\"50%\" x2=\"58.5034%\" y1=\"19.2px\" y2=\"48px\" /><svg width=\"2.72109%\" x=\"62.585%\" y=\"48px\"><defs /><svg width=\"100%\" x=\"0\" y=\"0px\"><defs /><text text-anchor=\"middle\" x=\"50%\" y=\"16px\">in</text></svg><svg width=\"100%\" x=\"0%\" y=\"48px\"><defs /><svg width=\"100%\" x=\"0\" y=\"0px\"><defs /><text text-anchor=\"middle\" x=\"50%\" y=\"16px\">O</text></svg></svg><line stroke=\"black\" x1=\"50%\" x2=\"50%\" y1=\"19.2px\" y2=\"48px\" /></svg><line stroke=\"black\" x1=\"50%\" x2=\"63.9456%\" y1=\"19.2px\" y2=\"48px\" /><svg width=\"9.52381%\" x=\"65.3061%\" y=\"48px\"><defs /><svg width=\"100%\" x=\"0\" y=\"0px\"><defs /><text text-anchor=\"middle\" x=\"50%\" y=\"16px\">participants</text></svg><svg width=\"100%\" x=\"0%\" y=\"48px\"><defs /><svg width=\"100%\" x=\"0\" y=\"0px\"><defs /><text text-anchor=\"middle\" x=\"50%\" y=\"16px\">O</text></svg></svg><line stroke=\"black\" x1=\"50%\" x2=\"50%\" y1=\"19.2px\" y2=\"48px\" /></svg><line stroke=\"black\" x1=\"50%\" x2=\"70.068%\" y1=\"19.2px\" y2=\"48px\" /><svg width=\"4.08163%\" x=\"74.8299%\" y=\"48px\"><defs /><svg width=\"100%\" x=\"0\" y=\"0px\"><defs /><text text-anchor=\"middle\" x=\"50%\" y=\"16px\">with</text></svg><svg width=\"100%\" x=\"0%\" y=\"48px\"><defs /><svg width=\"100%\" x=\"0\" y=\"0px\"><defs /><text text-anchor=\"middle\" x=\"50%\" y=\"16px\">O</text></svg></svg><line stroke=\"black\" x1=\"50%\" x2=\"50%\" y1=\"19.2px\" y2=\"48px\" /></svg><line stroke=\"black\" x1=\"50%\" x2=\"76.8707%\" y1=\"19.2px\" y2=\"48px\" /><svg width=\"5.44218%\" x=\"78.9116%\" y=\"48px\"><defs /><svg width=\"100%\" x=\"0\" y=\"0px\"><defs /><text text-anchor=\"middle\" x=\"50%\" y=\"16px\">active</text></svg><svg width=\"100%\" x=\"0%\" y=\"48px\"><defs /><svg width=\"100%\" x=\"0\" y=\"0px\"><defs /><text text-anchor=\"middle\" x=\"50%\" y=\"16px\">O</text></svg></svg><line stroke=\"black\" x1=\"50%\" x2=\"50%\" y1=\"19.2px\" y2=\"48px\" /></svg><line stroke=\"black\" x1=\"50%\" x2=\"81.6327%\" y1=\"19.2px\" y2=\"48px\" /><svg width=\"4.7619%\" x=\"84.3537%\" y=\"48px\"><defs /><svg width=\"100%\" x=\"0\" y=\"0px\"><defs /><text text-anchor=\"middle\" x=\"50%\" y=\"16px\">crohn</text></svg><svg width=\"100%\" x=\"0%\" y=\"48px\"><defs /><svg width=\"100%\" x=\"0\" y=\"0px\"><defs /><text text-anchor=\"middle\" x=\"50%\" y=\"16px\">O</text></svg></svg><line stroke=\"black\" x1=\"50%\" x2=\"50%\" y1=\"19.2px\" y2=\"48px\" /></svg><line stroke=\"black\" x1=\"50%\" x2=\"86.7347%\" y1=\"19.2px\" y2=\"48px\" /><svg width=\"2.72109%\" x=\"89.1156%\" y=\"48px\"><defs /><svg width=\"100%\" x=\"0\" y=\"0px\"><defs /><text text-anchor=\"middle\" x=\"50%\" y=\"16px\">'s</text></svg><svg width=\"100%\" x=\"0%\" y=\"48px\"><defs /><svg width=\"100%\" x=\"0\" y=\"0px\"><defs /><text text-anchor=\"middle\" x=\"50%\" y=\"16px\">O</text></svg></svg><line stroke=\"black\" x1=\"50%\" x2=\"50%\" y1=\"19.2px\" y2=\"48px\" /></svg><line stroke=\"black\" x1=\"50%\" x2=\"90.4762%\" y1=\"19.2px\" y2=\"48px\" /><svg width=\"6.12245%\" x=\"91.8367%\" y=\"48px\"><defs /><svg width=\"100%\" x=\"0\" y=\"0px\"><defs /><text text-anchor=\"middle\" x=\"50%\" y=\"16px\">disease</text></svg><svg width=\"100%\" x=\"0%\" y=\"48px\"><defs /><svg width=\"100%\" x=\"0\" y=\"0px\"><defs /><text text-anchor=\"middle\" x=\"50%\" y=\"16px\">O</text></svg></svg><line stroke=\"black\" x1=\"50%\" x2=\"50%\" y1=\"19.2px\" y2=\"48px\" /></svg><line stroke=\"black\" x1=\"50%\" x2=\"94.898%\" y1=\"19.2px\" y2=\"48px\" /><svg width=\"2.04082%\" x=\"97.9592%\" y=\"48px\"><defs /><svg width=\"100%\" x=\"0\" y=\"0px\"><defs /><text text-anchor=\"middle\" x=\"50%\" y=\"16px\">.</text></svg><svg width=\"100%\" x=\"0%\" y=\"48px\"><defs /><svg width=\"100%\" x=\"0\" y=\"0px\"><defs /><text text-anchor=\"middle\" x=\"50%\" y=\"16px\">O</text></svg></svg><line stroke=\"black\" x1=\"50%\" x2=\"50%\" y1=\"19.2px\" y2=\"48px\" /></svg><line stroke=\"black\" x1=\"50%\" x2=\"98.9796%\" y1=\"19.2px\" y2=\"48px\" /></svg>"
     },
     "execution_count": 29,
     "metadata": {},
     "output_type": "execute_result"
    }
   ],
   "execution_count": 29
  },
  {
   "cell_type": "markdown",
   "id": "6a5f9791d3586335",
   "metadata": {
    "collapsed": false
   },
   "source": [
    "# Classifier based chunker"
   ]
  },
  {
   "cell_type": "code",
   "id": "978dccfdb07ee727",
   "metadata": {
    "collapsed": false,
    "ExecuteTime": {
     "end_time": "2024-04-08T02:37:44.045698Z",
     "start_time": "2024-04-08T02:37:43.609898Z"
    }
   },
   "source": [
    "chunker = chunkers.ConsecutiveNPChunker(\n",
    "    train_sents=train_tree_synonyms,\n",
    "    feature_generator_fn=build_features.get_feature_generator('npchunk_features_bigram_pos')\n",
    ")"
   ],
   "outputs": [],
   "execution_count": 31
  },
  {
   "cell_type": "code",
   "source": [
    "# Training set evaluation metric for the Chunker.\n",
    "print('chunkers.ConsecutiveNPChunker on train_tree_synonyms:', chunker.accuracy(train_tree_synonyms))"
   ],
   "metadata": {
    "collapsed": false,
    "ExecuteTime": {
     "end_time": "2024-04-08T02:55:06.921926Z",
     "start_time": "2024-04-08T02:55:05.065652Z"
    }
   },
   "id": "889a137f62458fdb",
   "outputs": [
    {
     "name": "stdout",
     "output_type": "stream",
     "text": [
      "chunkers.ConsecutiveNPChunker on train_tree_synonyms: ChunkParse score:\n",
      "    IOB Accuracy: 100.0%%\n",
      "    Precision:    100.0%%\n",
      "    Recall:       100.0%%\n",
      "    F-Measure:    100.0%%\n"
     ]
    }
   ],
   "execution_count": 66
  },
  {
   "metadata": {
    "ExecuteTime": {
     "end_time": "2024-04-08T02:55:07.744897Z",
     "start_time": "2024-04-08T02:55:06.922967Z"
    }
   },
   "cell_type": "code",
   "source": "print('regexp_parser on train_tree_synonyms:', regexp_parser.accuracy(train_tree_synonyms))",
   "id": "91dec24290fb499f",
   "outputs": [
    {
     "name": "stdout",
     "output_type": "stream",
     "text": [
      "regexp_parser on train_tree_synonyms: ChunkParse score:\n",
      "    IOB Accuracy: 100.0%%\n",
      "    Precision:    100.0%%\n",
      "    Recall:       100.0%%\n",
      "    F-Measure:    100.0%%\n"
     ]
    }
   ],
   "execution_count": 67
  },
  {
   "cell_type": "code",
   "source": "print('chunkers.ConsecutiveNPChunker on test_trees_gt:', chunker.accuracy(test_trees_gt))",
   "metadata": {
    "collapsed": false,
    "ExecuteTime": {
     "end_time": "2024-04-08T02:55:07.781841Z",
     "start_time": "2024-04-08T02:55:07.745708Z"
    }
   },
   "id": "a297e529742230c9",
   "outputs": [
    {
     "name": "stdout",
     "output_type": "stream",
     "text": [
      "chunkers.ConsecutiveNPChunker on test_trees_gt: ChunkParse score:\n",
      "    IOB Accuracy: 100.0%%\n",
      "    Precision:    100.0%%\n",
      "    Recall:       100.0%%\n",
      "    F-Measure:    100.0%%\n"
     ]
    }
   ],
   "execution_count": 68
  },
  {
   "cell_type": "code",
   "source": "print('chunkers.ConsecutiveNPChunker on synonym_gt_trees', chunker.accuracy(synonyms_gt_df['synonym_gt_trees']))",
   "metadata": {
    "collapsed": false,
    "ExecuteTime": {
     "end_time": "2024-04-08T02:55:08.828393Z",
     "start_time": "2024-04-08T02:55:07.783080Z"
    }
   },
   "id": "ecec65b65c99d80",
   "outputs": [
    {
     "name": "stdout",
     "output_type": "stream",
     "text": [
      "chunkers.ConsecutiveNPChunker on synonym_gt_trees ChunkParse score:\n",
      "    IOB Accuracy: 100.0%%\n",
      "    Precision:     97.9%%\n",
      "    Recall:        97.9%%\n",
      "    F-Measure:     97.9%%\n"
     ]
    }
   ],
   "execution_count": 69
  },
  {
   "metadata": {
    "ExecuteTime": {
     "end_time": "2024-04-08T02:55:31.605728Z",
     "start_time": "2024-04-08T02:55:28.345058Z"
    }
   },
   "cell_type": "code",
   "source": [
    "chunker_eval_df = synonyms_gt_df.copy()\n",
    "chunker_eval_df['tree'] = chunker_eval_df['synonym'].map(\n",
    "    lambda syn: train_nltk.parse(syn, chunker=chunker, tagger=tagger))\n",
    "chunker_eval_df['extracted'] = chunker_eval_df['tree'].map(train_nltk.extract_chunked_terms)\n",
    "chunker_eval_df['extracted_count'] = chunker_eval_df['extracted'].map(len)\n",
    "chunker_eval_df['synonym_token_count'] = chunker_eval_df['synonym'].map(lambda syn: len(nltk.word_tokenize(syn)))"
   ],
   "id": "5664f38b54209c6c",
   "outputs": [],
   "execution_count": 70
  },
  {
   "metadata": {
    "ExecuteTime": {
     "end_time": "2024-04-08T02:55:31.743159Z",
     "start_time": "2024-04-08T02:55:31.607001Z"
    }
   },
   "cell_type": "code",
   "source": [
    "chunker_eval_df['correct'] = chunker_eval_df.apply(lambda row: is_correct(row['synonym'], row['extracted']), axis=1)\n",
    "print(f'chunkers.ConsecutiveNPChunker Accuracy on synonym_gt_trees: {df.correct.mean():.2%}')"
   ],
   "id": "d8ab1ecbcac874cc",
   "outputs": [
    {
     "name": "stdout",
     "output_type": "stream",
     "text": [
      "chunkers.ConsecutiveNPChunker Accuracy on synonym_gt_trees: 88.84%\n"
     ]
    }
   ],
   "execution_count": 71
  },
  {
   "metadata": {},
   "cell_type": "code",
   "outputs": [],
   "execution_count": null,
   "source": "",
   "id": "f736e14c5c09c5f"
  },
  {
   "metadata": {
    "ExecuteTime": {
     "end_time": "2024-04-08T02:47:23.649453Z",
     "start_time": "2024-04-08T02:47:23.645231Z"
    }
   },
   "cell_type": "code",
   "source": "chunker_eval_df['extracted_count'].value_counts()",
   "id": "69c2451303b51ae9",
   "outputs": [
    {
     "data": {
      "text/plain": [
       "extracted_count\n",
       "1    23227\n",
       "Name: count, dtype: int64"
      ]
     },
     "execution_count": 60,
     "metadata": {},
     "output_type": "execute_result"
    }
   ],
   "execution_count": 60
  },
  {
   "cell_type": "markdown",
   "source": [
    "## Test set evaluation metric for the Chunker."
   ],
   "metadata": {
    "collapsed": false
   },
   "id": "723fb886d43ebb57"
  },
  {
   "cell_type": "code",
   "source": [
    "tagger = taggers[-1]\n",
    "# test_trees = summaries_df['brief_summary'].map(lambda text: chunker.parse(tagger.tag(text)))\n",
    "test_trees = summaries_df['brief_summary'].map(lambda text: train_nltk.parse(text, chunker=chunker, tagger=tagger))"
   ],
   "metadata": {
    "collapsed": false,
    "ExecuteTime": {
     "end_time": "2024-04-08T02:37:45.924485Z",
     "start_time": "2024-04-08T02:37:45.859780Z"
    }
   },
   "id": "b07040dc49d478cd",
   "outputs": [],
   "execution_count": 34
  },
  {
   "cell_type": "code",
   "source": [],
   "metadata": {
    "collapsed": false,
    "ExecuteTime": {
     "end_time": "2024-04-08T02:37:45.926599Z",
     "start_time": "2024-04-08T02:37:45.925141Z"
    }
   },
   "id": "f136c58eb3609c75",
   "outputs": [],
   "execution_count": 34
  },
  {
   "cell_type": "code",
   "id": "b722e35f20a2c02c",
   "metadata": {
    "collapsed": false,
    "ExecuteTime": {
     "end_time": "2024-04-08T02:37:45.960746Z",
     "start_time": "2024-04-08T02:37:45.927250Z"
    }
   },
   "source": [
    "max([t.height() for t in train_tree_synonyms])"
   ],
   "outputs": [
    {
     "data": {
      "text/plain": [
       "3"
      ]
     },
     "execution_count": 35,
     "metadata": {},
     "output_type": "execute_result"
    }
   ],
   "execution_count": 35
  },
  {
   "cell_type": "code",
   "id": "bf9b4db05872e072",
   "metadata": {
    "collapsed": false,
    "ExecuteTime": {
     "end_time": "2024-04-08T02:37:45.999819Z",
     "start_time": "2024-04-08T02:37:45.961470Z"
    }
   },
   "source": [
    "# Note: 100% is too good, the dataset is rather small.\n",
    "print(chunker.accuracy(test_trees))"
   ],
   "outputs": [
    {
     "name": "stdout",
     "output_type": "stream",
     "text": [
      "ChunkParse score:\n",
      "    IOB Accuracy: 100.0%%\n",
      "    Precision:    100.0%%\n",
      "    Recall:       100.0%%\n",
      "    F-Measure:    100.0%%\n"
     ]
    }
   ],
   "execution_count": 36
  },
  {
   "cell_type": "code",
   "id": "91a5ffdbb458dcd5",
   "metadata": {
    "collapsed": false,
    "ExecuteTime": {
     "end_time": "2024-04-08T02:37:46.039795Z",
     "start_time": "2024-04-08T02:37:46.000730Z"
    }
   },
   "source": [
    "test_trees[26]"
   ],
   "outputs": [
    {
     "data": {
      "text/plain": [
       "Tree('S', [('the', 'O'), ('objectives', 'O'), ('of', 'O'), ('the', 'O'), ('study', 'O'), ('are', 'O'), (':', 'O'), ('1.', 'O'), ('evaluation', 'O'), ('of', 'O'), ('the', 'O'), ('safety', 'O'), ('profile', 'O'), ('of', 'O'), Tree('NP', [('imatinib', 'C1E'), ('mesylate', 'C2E')]), ('in', 'O'), ('patients', 'O'), ('with', 'O'), ('idiopathic', 'O'), ('hypereosinophilic', 'O'), ('syndrome', 'O'), ('resistant', 'O'), ('or', 'O'), ('refractory', 'O'), ('to', 'O'), (',', 'O'), ('or', 'O'), ('intolerant', 'O'), ('of', 'O'), (',', 'O'), Tree('NP', [('prednisone', 'C1E')]), (',', 'O'), Tree('NP', [('hydroxyurea', 'C1E')]), ('or', 'O'), ('interferon-alpha', 'O'), (',', 'O'), ('or', 'O'), ('untreated', 'O'), ('patients', 'O'), ('carrying', 'O'), ('the', 'O'), ('fip1l1-pdgfra', 'O'), ('fusion', 'O'), ('protein', 'O'), ('.', 'O'), ('2.', 'O'), ('evaluation', 'O'), ('of', 'O'), ('the', 'O'), ('efficacy', 'O'), ('of', 'O'), Tree('NP', [('imatinib', 'C1E'), ('mesylate', 'C2E')]), ('in', 'O'), ('patients', 'O'), ('with', 'O'), ('idiopathic', 'O'), ('hypereosinophilic', 'O'), ('syndrome', 'O'), ('3.', 'O'), ('analysis', 'O'), ('of', 'O'), ('patient', 'O'), (\"'s\", 'O'), ('blood', 'O'), ('samples', 'O'), ('for', 'O'), ('the', 'O'), ('detection', 'O'), ('of', 'O'), ('activated', 'O'), ('kinases', 'O'), ('.', 'O')])"
      ],
      "image/svg+xml": "<svg baseProfile=\"full\" height=\"168px\" preserveAspectRatio=\"xMidYMid meet\" style=\"font-family: times, serif; font-weight: normal; font-style: normal; font-size: 16px;\" version=\"1.1\" viewBox=\"0,0,4544.0,168.0\" width=\"4544px\" xmlns=\"http://www.w3.org/2000/svg\" xmlns:ev=\"http://www.w3.org/2001/xml-events\" xmlns:xlink=\"http://www.w3.org/1999/xlink\"><defs /><svg width=\"100%\" x=\"0\" y=\"0px\"><defs /><text text-anchor=\"middle\" x=\"50%\" y=\"16px\">S</text></svg><svg width=\"0.880282%\" x=\"0%\" y=\"48px\"><defs /><svg width=\"100%\" x=\"0\" y=\"0px\"><defs /><text text-anchor=\"middle\" x=\"50%\" y=\"16px\">the</text></svg><svg width=\"100%\" x=\"0%\" y=\"48px\"><defs /><svg width=\"100%\" x=\"0\" y=\"0px\"><defs /><text text-anchor=\"middle\" x=\"50%\" y=\"16px\">O</text></svg></svg><line stroke=\"black\" x1=\"50%\" x2=\"50%\" y1=\"19.2px\" y2=\"48px\" /></svg><line stroke=\"black\" x1=\"50%\" x2=\"0.440141%\" y1=\"19.2px\" y2=\"48px\" /><svg width=\"2.11268%\" x=\"0.880282%\" y=\"48px\"><defs /><svg width=\"100%\" x=\"0\" y=\"0px\"><defs /><text text-anchor=\"middle\" x=\"50%\" y=\"16px\">objectives</text></svg><svg width=\"100%\" x=\"0%\" y=\"48px\"><defs /><svg width=\"100%\" x=\"0\" y=\"0px\"><defs /><text text-anchor=\"middle\" x=\"50%\" y=\"16px\">O</text></svg></svg><line stroke=\"black\" x1=\"50%\" x2=\"50%\" y1=\"19.2px\" y2=\"48px\" /></svg><line stroke=\"black\" x1=\"50%\" x2=\"1.93662%\" y1=\"19.2px\" y2=\"48px\" /><svg width=\"0.704225%\" x=\"2.99296%\" y=\"48px\"><defs /><svg width=\"100%\" x=\"0\" y=\"0px\"><defs /><text text-anchor=\"middle\" x=\"50%\" y=\"16px\">of</text></svg><svg width=\"100%\" x=\"0%\" y=\"48px\"><defs /><svg width=\"100%\" x=\"0\" y=\"0px\"><defs /><text text-anchor=\"middle\" x=\"50%\" y=\"16px\">O</text></svg></svg><line stroke=\"black\" x1=\"50%\" x2=\"50%\" y1=\"19.2px\" y2=\"48px\" /></svg><line stroke=\"black\" x1=\"50%\" x2=\"3.34507%\" y1=\"19.2px\" y2=\"48px\" /><svg width=\"0.880282%\" x=\"3.69718%\" y=\"48px\"><defs /><svg width=\"100%\" x=\"0\" y=\"0px\"><defs /><text text-anchor=\"middle\" x=\"50%\" y=\"16px\">the</text></svg><svg width=\"100%\" x=\"0%\" y=\"48px\"><defs /><svg width=\"100%\" x=\"0\" y=\"0px\"><defs /><text text-anchor=\"middle\" x=\"50%\" y=\"16px\">O</text></svg></svg><line stroke=\"black\" x1=\"50%\" x2=\"50%\" y1=\"19.2px\" y2=\"48px\" /></svg><line stroke=\"black\" x1=\"50%\" x2=\"4.13732%\" y1=\"19.2px\" y2=\"48px\" /><svg width=\"1.23239%\" x=\"4.57746%\" y=\"48px\"><defs /><svg width=\"100%\" x=\"0\" y=\"0px\"><defs /><text text-anchor=\"middle\" x=\"50%\" y=\"16px\">study</text></svg><svg width=\"100%\" x=\"0%\" y=\"48px\"><defs /><svg width=\"100%\" x=\"0\" y=\"0px\"><defs /><text text-anchor=\"middle\" x=\"50%\" y=\"16px\">O</text></svg></svg><line stroke=\"black\" x1=\"50%\" x2=\"50%\" y1=\"19.2px\" y2=\"48px\" /></svg><line stroke=\"black\" x1=\"50%\" x2=\"5.19366%\" y1=\"19.2px\" y2=\"48px\" /><svg width=\"0.880282%\" x=\"5.80986%\" y=\"48px\"><defs /><svg width=\"100%\" x=\"0\" y=\"0px\"><defs /><text text-anchor=\"middle\" x=\"50%\" y=\"16px\">are</text></svg><svg width=\"100%\" x=\"0%\" y=\"48px\"><defs /><svg width=\"100%\" x=\"0\" y=\"0px\"><defs /><text text-anchor=\"middle\" x=\"50%\" y=\"16px\">O</text></svg></svg><line stroke=\"black\" x1=\"50%\" x2=\"50%\" y1=\"19.2px\" y2=\"48px\" /></svg><line stroke=\"black\" x1=\"50%\" x2=\"6.25%\" y1=\"19.2px\" y2=\"48px\" /><svg width=\"0.528169%\" x=\"6.69014%\" y=\"48px\"><defs /><svg width=\"100%\" x=\"0\" y=\"0px\"><defs /><text text-anchor=\"middle\" x=\"50%\" y=\"16px\">:</text></svg><svg width=\"100%\" x=\"0%\" y=\"48px\"><defs /><svg width=\"100%\" x=\"0\" y=\"0px\"><defs /><text text-anchor=\"middle\" x=\"50%\" y=\"16px\">O</text></svg></svg><line stroke=\"black\" x1=\"50%\" x2=\"50%\" y1=\"19.2px\" y2=\"48px\" /></svg><line stroke=\"black\" x1=\"50%\" x2=\"6.95423%\" y1=\"19.2px\" y2=\"48px\" /><svg width=\"0.704225%\" x=\"7.21831%\" y=\"48px\"><defs /><svg width=\"100%\" x=\"0\" y=\"0px\"><defs /><text text-anchor=\"middle\" x=\"50%\" y=\"16px\">1.</text></svg><svg width=\"100%\" x=\"0%\" y=\"48px\"><defs /><svg width=\"100%\" x=\"0\" y=\"0px\"><defs /><text text-anchor=\"middle\" x=\"50%\" y=\"16px\">O</text></svg></svg><line stroke=\"black\" x1=\"50%\" x2=\"50%\" y1=\"19.2px\" y2=\"48px\" /></svg><line stroke=\"black\" x1=\"50%\" x2=\"7.57042%\" y1=\"19.2px\" y2=\"48px\" /><svg width=\"2.11268%\" x=\"7.92254%\" y=\"48px\"><defs /><svg width=\"100%\" x=\"0\" y=\"0px\"><defs /><text text-anchor=\"middle\" x=\"50%\" y=\"16px\">evaluation</text></svg><svg width=\"100%\" x=\"0%\" y=\"48px\"><defs /><svg width=\"100%\" x=\"0\" y=\"0px\"><defs /><text text-anchor=\"middle\" x=\"50%\" y=\"16px\">O</text></svg></svg><line stroke=\"black\" x1=\"50%\" x2=\"50%\" y1=\"19.2px\" y2=\"48px\" /></svg><line stroke=\"black\" x1=\"50%\" x2=\"8.97887%\" y1=\"19.2px\" y2=\"48px\" /><svg width=\"0.704225%\" x=\"10.0352%\" y=\"48px\"><defs /><svg width=\"100%\" x=\"0\" y=\"0px\"><defs /><text text-anchor=\"middle\" x=\"50%\" y=\"16px\">of</text></svg><svg width=\"100%\" x=\"0%\" y=\"48px\"><defs /><svg width=\"100%\" x=\"0\" y=\"0px\"><defs /><text text-anchor=\"middle\" x=\"50%\" y=\"16px\">O</text></svg></svg><line stroke=\"black\" x1=\"50%\" x2=\"50%\" y1=\"19.2px\" y2=\"48px\" /></svg><line stroke=\"black\" x1=\"50%\" x2=\"10.3873%\" y1=\"19.2px\" y2=\"48px\" /><svg width=\"0.880282%\" x=\"10.7394%\" y=\"48px\"><defs /><svg width=\"100%\" x=\"0\" y=\"0px\"><defs /><text text-anchor=\"middle\" x=\"50%\" y=\"16px\">the</text></svg><svg width=\"100%\" x=\"0%\" y=\"48px\"><defs /><svg width=\"100%\" x=\"0\" y=\"0px\"><defs /><text text-anchor=\"middle\" x=\"50%\" y=\"16px\">O</text></svg></svg><line stroke=\"black\" x1=\"50%\" x2=\"50%\" y1=\"19.2px\" y2=\"48px\" /></svg><line stroke=\"black\" x1=\"50%\" x2=\"11.1796%\" y1=\"19.2px\" y2=\"48px\" /><svg width=\"1.40845%\" x=\"11.6197%\" y=\"48px\"><defs /><svg width=\"100%\" x=\"0\" y=\"0px\"><defs /><text text-anchor=\"middle\" x=\"50%\" y=\"16px\">safety</text></svg><svg width=\"100%\" x=\"0%\" y=\"48px\"><defs /><svg width=\"100%\" x=\"0\" y=\"0px\"><defs /><text text-anchor=\"middle\" x=\"50%\" y=\"16px\">O</text></svg></svg><line stroke=\"black\" x1=\"50%\" x2=\"50%\" y1=\"19.2px\" y2=\"48px\" /></svg><line stroke=\"black\" x1=\"50%\" x2=\"12.3239%\" y1=\"19.2px\" y2=\"48px\" /><svg width=\"1.58451%\" x=\"13.0282%\" y=\"48px\"><defs /><svg width=\"100%\" x=\"0\" y=\"0px\"><defs /><text text-anchor=\"middle\" x=\"50%\" y=\"16px\">profile</text></svg><svg width=\"100%\" x=\"0%\" y=\"48px\"><defs /><svg width=\"100%\" x=\"0\" y=\"0px\"><defs /><text text-anchor=\"middle\" x=\"50%\" y=\"16px\">O</text></svg></svg><line stroke=\"black\" x1=\"50%\" x2=\"50%\" y1=\"19.2px\" y2=\"48px\" /></svg><line stroke=\"black\" x1=\"50%\" x2=\"13.8204%\" y1=\"19.2px\" y2=\"48px\" /><svg width=\"0.704225%\" x=\"14.6127%\" y=\"48px\"><defs /><svg width=\"100%\" x=\"0\" y=\"0px\"><defs /><text text-anchor=\"middle\" x=\"50%\" y=\"16px\">of</text></svg><svg width=\"100%\" x=\"0%\" y=\"48px\"><defs /><svg width=\"100%\" x=\"0\" y=\"0px\"><defs /><text text-anchor=\"middle\" x=\"50%\" y=\"16px\">O</text></svg></svg><line stroke=\"black\" x1=\"50%\" x2=\"50%\" y1=\"19.2px\" y2=\"48px\" /></svg><line stroke=\"black\" x1=\"50%\" x2=\"14.9648%\" y1=\"19.2px\" y2=\"48px\" /><svg width=\"3.52113%\" x=\"15.3169%\" y=\"48px\"><defs /><svg width=\"100%\" x=\"0\" y=\"0px\"><defs /><text text-anchor=\"middle\" x=\"50%\" y=\"16px\">NP</text></svg><svg width=\"50%\" x=\"0%\" y=\"48px\"><defs /><svg width=\"100%\" x=\"0\" y=\"0px\"><defs /><text text-anchor=\"middle\" x=\"50%\" y=\"16px\">imatinib</text></svg><svg width=\"100%\" x=\"0%\" y=\"48px\"><defs /><svg width=\"100%\" x=\"0\" y=\"0px\"><defs /><text text-anchor=\"middle\" x=\"50%\" y=\"16px\">C1E</text></svg></svg><line stroke=\"black\" x1=\"50%\" x2=\"50%\" y1=\"19.2px\" y2=\"48px\" /></svg><line stroke=\"black\" x1=\"50%\" x2=\"25%\" y1=\"19.2px\" y2=\"48px\" /><svg width=\"50%\" x=\"50%\" y=\"48px\"><defs /><svg width=\"100%\" x=\"0\" y=\"0px\"><defs /><text text-anchor=\"middle\" x=\"50%\" y=\"16px\">mesylate</text></svg><svg width=\"100%\" x=\"0%\" y=\"48px\"><defs /><svg width=\"100%\" x=\"0\" y=\"0px\"><defs /><text text-anchor=\"middle\" x=\"50%\" y=\"16px\">C2E</text></svg></svg><line stroke=\"black\" x1=\"50%\" x2=\"50%\" y1=\"19.2px\" y2=\"48px\" /></svg><line stroke=\"black\" x1=\"50%\" x2=\"75%\" y1=\"19.2px\" y2=\"48px\" /></svg><line stroke=\"black\" x1=\"50%\" x2=\"17.0775%\" y1=\"19.2px\" y2=\"48px\" /><svg width=\"0.704225%\" x=\"18.838%\" y=\"48px\"><defs /><svg width=\"100%\" x=\"0\" y=\"0px\"><defs /><text text-anchor=\"middle\" x=\"50%\" y=\"16px\">in</text></svg><svg width=\"100%\" x=\"0%\" y=\"48px\"><defs /><svg width=\"100%\" x=\"0\" y=\"0px\"><defs /><text text-anchor=\"middle\" x=\"50%\" y=\"16px\">O</text></svg></svg><line stroke=\"black\" x1=\"50%\" x2=\"50%\" y1=\"19.2px\" y2=\"48px\" /></svg><line stroke=\"black\" x1=\"50%\" x2=\"19.1901%\" y1=\"19.2px\" y2=\"48px\" /><svg width=\"1.76056%\" x=\"19.5423%\" y=\"48px\"><defs /><svg width=\"100%\" x=\"0\" y=\"0px\"><defs /><text text-anchor=\"middle\" x=\"50%\" y=\"16px\">patients</text></svg><svg width=\"100%\" x=\"0%\" y=\"48px\"><defs /><svg width=\"100%\" x=\"0\" y=\"0px\"><defs /><text text-anchor=\"middle\" x=\"50%\" y=\"16px\">O</text></svg></svg><line stroke=\"black\" x1=\"50%\" x2=\"50%\" y1=\"19.2px\" y2=\"48px\" /></svg><line stroke=\"black\" x1=\"50%\" x2=\"20.4225%\" y1=\"19.2px\" y2=\"48px\" /><svg width=\"1.05634%\" x=\"21.3028%\" y=\"48px\"><defs /><svg width=\"100%\" x=\"0\" y=\"0px\"><defs /><text text-anchor=\"middle\" x=\"50%\" y=\"16px\">with</text></svg><svg width=\"100%\" x=\"0%\" y=\"48px\"><defs /><svg width=\"100%\" x=\"0\" y=\"0px\"><defs /><text text-anchor=\"middle\" x=\"50%\" y=\"16px\">O</text></svg></svg><line stroke=\"black\" x1=\"50%\" x2=\"50%\" y1=\"19.2px\" y2=\"48px\" /></svg><line stroke=\"black\" x1=\"50%\" x2=\"21.831%\" y1=\"19.2px\" y2=\"48px\" /><svg width=\"2.11268%\" x=\"22.3592%\" y=\"48px\"><defs /><svg width=\"100%\" x=\"0\" y=\"0px\"><defs /><text text-anchor=\"middle\" x=\"50%\" y=\"16px\">idiopathic</text></svg><svg width=\"100%\" x=\"0%\" y=\"48px\"><defs /><svg width=\"100%\" x=\"0\" y=\"0px\"><defs /><text text-anchor=\"middle\" x=\"50%\" y=\"16px\">O</text></svg></svg><line stroke=\"black\" x1=\"50%\" x2=\"50%\" y1=\"19.2px\" y2=\"48px\" /></svg><line stroke=\"black\" x1=\"50%\" x2=\"23.4155%\" y1=\"19.2px\" y2=\"48px\" /><svg width=\"3.34507%\" x=\"24.4718%\" y=\"48px\"><defs /><svg width=\"100%\" x=\"0\" y=\"0px\"><defs /><text text-anchor=\"middle\" x=\"50%\" y=\"16px\">hypereosinophilic</text></svg><svg width=\"100%\" x=\"0%\" y=\"48px\"><defs /><svg width=\"100%\" x=\"0\" y=\"0px\"><defs /><text text-anchor=\"middle\" x=\"50%\" y=\"16px\">O</text></svg></svg><line stroke=\"black\" x1=\"50%\" x2=\"50%\" y1=\"19.2px\" y2=\"48px\" /></svg><line stroke=\"black\" x1=\"50%\" x2=\"26.1444%\" y1=\"19.2px\" y2=\"48px\" /><svg width=\"1.76056%\" x=\"27.8169%\" y=\"48px\"><defs /><svg width=\"100%\" x=\"0\" y=\"0px\"><defs /><text text-anchor=\"middle\" x=\"50%\" y=\"16px\">syndrome</text></svg><svg width=\"100%\" x=\"0%\" y=\"48px\"><defs /><svg width=\"100%\" x=\"0\" y=\"0px\"><defs /><text text-anchor=\"middle\" x=\"50%\" y=\"16px\">O</text></svg></svg><line stroke=\"black\" x1=\"50%\" x2=\"50%\" y1=\"19.2px\" y2=\"48px\" /></svg><line stroke=\"black\" x1=\"50%\" x2=\"28.6972%\" y1=\"19.2px\" y2=\"48px\" /><svg width=\"1.93662%\" x=\"29.5775%\" y=\"48px\"><defs /><svg width=\"100%\" x=\"0\" y=\"0px\"><defs /><text text-anchor=\"middle\" x=\"50%\" y=\"16px\">resistant</text></svg><svg width=\"100%\" x=\"0%\" y=\"48px\"><defs /><svg width=\"100%\" x=\"0\" y=\"0px\"><defs /><text text-anchor=\"middle\" x=\"50%\" y=\"16px\">O</text></svg></svg><line stroke=\"black\" x1=\"50%\" x2=\"50%\" y1=\"19.2px\" y2=\"48px\" /></svg><line stroke=\"black\" x1=\"50%\" x2=\"30.5458%\" y1=\"19.2px\" y2=\"48px\" /><svg width=\"0.704225%\" x=\"31.5141%\" y=\"48px\"><defs /><svg width=\"100%\" x=\"0\" y=\"0px\"><defs /><text text-anchor=\"middle\" x=\"50%\" y=\"16px\">or</text></svg><svg width=\"100%\" x=\"0%\" y=\"48px\"><defs /><svg width=\"100%\" x=\"0\" y=\"0px\"><defs /><text text-anchor=\"middle\" x=\"50%\" y=\"16px\">O</text></svg></svg><line stroke=\"black\" x1=\"50%\" x2=\"50%\" y1=\"19.2px\" y2=\"48px\" /></svg><line stroke=\"black\" x1=\"50%\" x2=\"31.8662%\" y1=\"19.2px\" y2=\"48px\" /><svg width=\"2.11268%\" x=\"32.2183%\" y=\"48px\"><defs /><svg width=\"100%\" x=\"0\" y=\"0px\"><defs /><text text-anchor=\"middle\" x=\"50%\" y=\"16px\">refractory</text></svg><svg width=\"100%\" x=\"0%\" y=\"48px\"><defs /><svg width=\"100%\" x=\"0\" y=\"0px\"><defs /><text text-anchor=\"middle\" x=\"50%\" y=\"16px\">O</text></svg></svg><line stroke=\"black\" x1=\"50%\" x2=\"50%\" y1=\"19.2px\" y2=\"48px\" /></svg><line stroke=\"black\" x1=\"50%\" x2=\"33.2746%\" y1=\"19.2px\" y2=\"48px\" /><svg width=\"0.704225%\" x=\"34.331%\" y=\"48px\"><defs /><svg width=\"100%\" x=\"0\" y=\"0px\"><defs /><text text-anchor=\"middle\" x=\"50%\" y=\"16px\">to</text></svg><svg width=\"100%\" x=\"0%\" y=\"48px\"><defs /><svg width=\"100%\" x=\"0\" y=\"0px\"><defs /><text text-anchor=\"middle\" x=\"50%\" y=\"16px\">O</text></svg></svg><line stroke=\"black\" x1=\"50%\" x2=\"50%\" y1=\"19.2px\" y2=\"48px\" /></svg><line stroke=\"black\" x1=\"50%\" x2=\"34.6831%\" y1=\"19.2px\" y2=\"48px\" /><svg width=\"0.528169%\" x=\"35.0352%\" y=\"48px\"><defs /><svg width=\"100%\" x=\"0\" y=\"0px\"><defs /><text text-anchor=\"middle\" x=\"50%\" y=\"16px\">,</text></svg><svg width=\"100%\" x=\"0%\" y=\"48px\"><defs /><svg width=\"100%\" x=\"0\" y=\"0px\"><defs /><text text-anchor=\"middle\" x=\"50%\" y=\"16px\">O</text></svg></svg><line stroke=\"black\" x1=\"50%\" x2=\"50%\" y1=\"19.2px\" y2=\"48px\" /></svg><line stroke=\"black\" x1=\"50%\" x2=\"35.2993%\" y1=\"19.2px\" y2=\"48px\" /><svg width=\"0.704225%\" x=\"35.5634%\" y=\"48px\"><defs /><svg width=\"100%\" x=\"0\" y=\"0px\"><defs /><text text-anchor=\"middle\" x=\"50%\" y=\"16px\">or</text></svg><svg width=\"100%\" x=\"0%\" y=\"48px\"><defs /><svg width=\"100%\" x=\"0\" y=\"0px\"><defs /><text text-anchor=\"middle\" x=\"50%\" y=\"16px\">O</text></svg></svg><line stroke=\"black\" x1=\"50%\" x2=\"50%\" y1=\"19.2px\" y2=\"48px\" /></svg><line stroke=\"black\" x1=\"50%\" x2=\"35.9155%\" y1=\"19.2px\" y2=\"48px\" /><svg width=\"2.11268%\" x=\"36.2676%\" y=\"48px\"><defs /><svg width=\"100%\" x=\"0\" y=\"0px\"><defs /><text text-anchor=\"middle\" x=\"50%\" y=\"16px\">intolerant</text></svg><svg width=\"100%\" x=\"0%\" y=\"48px\"><defs /><svg width=\"100%\" x=\"0\" y=\"0px\"><defs /><text text-anchor=\"middle\" x=\"50%\" y=\"16px\">O</text></svg></svg><line stroke=\"black\" x1=\"50%\" x2=\"50%\" y1=\"19.2px\" y2=\"48px\" /></svg><line stroke=\"black\" x1=\"50%\" x2=\"37.3239%\" y1=\"19.2px\" y2=\"48px\" /><svg width=\"0.704225%\" x=\"38.3803%\" y=\"48px\"><defs /><svg width=\"100%\" x=\"0\" y=\"0px\"><defs /><text text-anchor=\"middle\" x=\"50%\" y=\"16px\">of</text></svg><svg width=\"100%\" x=\"0%\" y=\"48px\"><defs /><svg width=\"100%\" x=\"0\" y=\"0px\"><defs /><text text-anchor=\"middle\" x=\"50%\" y=\"16px\">O</text></svg></svg><line stroke=\"black\" x1=\"50%\" x2=\"50%\" y1=\"19.2px\" y2=\"48px\" /></svg><line stroke=\"black\" x1=\"50%\" x2=\"38.7324%\" y1=\"19.2px\" y2=\"48px\" /><svg width=\"0.528169%\" x=\"39.0845%\" y=\"48px\"><defs /><svg width=\"100%\" x=\"0\" y=\"0px\"><defs /><text text-anchor=\"middle\" x=\"50%\" y=\"16px\">,</text></svg><svg width=\"100%\" x=\"0%\" y=\"48px\"><defs /><svg width=\"100%\" x=\"0\" y=\"0px\"><defs /><text text-anchor=\"middle\" x=\"50%\" y=\"16px\">O</text></svg></svg><line stroke=\"black\" x1=\"50%\" x2=\"50%\" y1=\"19.2px\" y2=\"48px\" /></svg><line stroke=\"black\" x1=\"50%\" x2=\"39.3486%\" y1=\"19.2px\" y2=\"48px\" /><svg width=\"2.11268%\" x=\"39.6127%\" y=\"48px\"><defs /><svg width=\"100%\" x=\"0\" y=\"0px\"><defs /><text text-anchor=\"middle\" x=\"50%\" y=\"16px\">NP</text></svg><svg width=\"100%\" x=\"0%\" y=\"48px\"><defs /><svg width=\"100%\" x=\"0\" y=\"0px\"><defs /><text text-anchor=\"middle\" x=\"50%\" y=\"16px\">prednisone</text></svg><svg width=\"100%\" x=\"0%\" y=\"48px\"><defs /><svg width=\"100%\" x=\"0\" y=\"0px\"><defs /><text text-anchor=\"middle\" x=\"50%\" y=\"16px\">C1E</text></svg></svg><line stroke=\"black\" x1=\"50%\" x2=\"50%\" y1=\"19.2px\" y2=\"48px\" /></svg><line stroke=\"black\" x1=\"50%\" x2=\"50%\" y1=\"19.2px\" y2=\"48px\" /></svg><line stroke=\"black\" x1=\"50%\" x2=\"40.669%\" y1=\"19.2px\" y2=\"48px\" /><svg width=\"0.528169%\" x=\"41.7254%\" y=\"48px\"><defs /><svg width=\"100%\" x=\"0\" y=\"0px\"><defs /><text text-anchor=\"middle\" x=\"50%\" y=\"16px\">,</text></svg><svg width=\"100%\" x=\"0%\" y=\"48px\"><defs /><svg width=\"100%\" x=\"0\" y=\"0px\"><defs /><text text-anchor=\"middle\" x=\"50%\" y=\"16px\">O</text></svg></svg><line stroke=\"black\" x1=\"50%\" x2=\"50%\" y1=\"19.2px\" y2=\"48px\" /></svg><line stroke=\"black\" x1=\"50%\" x2=\"41.9894%\" y1=\"19.2px\" y2=\"48px\" /><svg width=\"2.28873%\" x=\"42.2535%\" y=\"48px\"><defs /><svg width=\"100%\" x=\"0\" y=\"0px\"><defs /><text text-anchor=\"middle\" x=\"50%\" y=\"16px\">NP</text></svg><svg width=\"100%\" x=\"0%\" y=\"48px\"><defs /><svg width=\"100%\" x=\"0\" y=\"0px\"><defs /><text text-anchor=\"middle\" x=\"50%\" y=\"16px\">hydroxyurea</text></svg><svg width=\"100%\" x=\"0%\" y=\"48px\"><defs /><svg width=\"100%\" x=\"0\" y=\"0px\"><defs /><text text-anchor=\"middle\" x=\"50%\" y=\"16px\">C1E</text></svg></svg><line stroke=\"black\" x1=\"50%\" x2=\"50%\" y1=\"19.2px\" y2=\"48px\" /></svg><line stroke=\"black\" x1=\"50%\" x2=\"50%\" y1=\"19.2px\" y2=\"48px\" /></svg><line stroke=\"black\" x1=\"50%\" x2=\"43.3979%\" y1=\"19.2px\" y2=\"48px\" /><svg width=\"0.704225%\" x=\"44.5423%\" y=\"48px\"><defs /><svg width=\"100%\" x=\"0\" y=\"0px\"><defs /><text text-anchor=\"middle\" x=\"50%\" y=\"16px\">or</text></svg><svg width=\"100%\" x=\"0%\" y=\"48px\"><defs /><svg width=\"100%\" x=\"0\" y=\"0px\"><defs /><text text-anchor=\"middle\" x=\"50%\" y=\"16px\">O</text></svg></svg><line stroke=\"black\" x1=\"50%\" x2=\"50%\" y1=\"19.2px\" y2=\"48px\" /></svg><line stroke=\"black\" x1=\"50%\" x2=\"44.8944%\" y1=\"19.2px\" y2=\"48px\" /><svg width=\"3.16901%\" x=\"45.2465%\" y=\"48px\"><defs /><svg width=\"100%\" x=\"0\" y=\"0px\"><defs /><text text-anchor=\"middle\" x=\"50%\" y=\"16px\">interferon-alpha</text></svg><svg width=\"100%\" x=\"0%\" y=\"48px\"><defs /><svg width=\"100%\" x=\"0\" y=\"0px\"><defs /><text text-anchor=\"middle\" x=\"50%\" y=\"16px\">O</text></svg></svg><line stroke=\"black\" x1=\"50%\" x2=\"50%\" y1=\"19.2px\" y2=\"48px\" /></svg><line stroke=\"black\" x1=\"50%\" x2=\"46.831%\" y1=\"19.2px\" y2=\"48px\" /><svg width=\"0.528169%\" x=\"48.4155%\" y=\"48px\"><defs /><svg width=\"100%\" x=\"0\" y=\"0px\"><defs /><text text-anchor=\"middle\" x=\"50%\" y=\"16px\">,</text></svg><svg width=\"100%\" x=\"0%\" y=\"48px\"><defs /><svg width=\"100%\" x=\"0\" y=\"0px\"><defs /><text text-anchor=\"middle\" x=\"50%\" y=\"16px\">O</text></svg></svg><line stroke=\"black\" x1=\"50%\" x2=\"50%\" y1=\"19.2px\" y2=\"48px\" /></svg><line stroke=\"black\" x1=\"50%\" x2=\"48.6796%\" y1=\"19.2px\" y2=\"48px\" /><svg width=\"0.704225%\" x=\"48.9437%\" y=\"48px\"><defs /><svg width=\"100%\" x=\"0\" y=\"0px\"><defs /><text text-anchor=\"middle\" x=\"50%\" y=\"16px\">or</text></svg><svg width=\"100%\" x=\"0%\" y=\"48px\"><defs /><svg width=\"100%\" x=\"0\" y=\"0px\"><defs /><text text-anchor=\"middle\" x=\"50%\" y=\"16px\">O</text></svg></svg><line stroke=\"black\" x1=\"50%\" x2=\"50%\" y1=\"19.2px\" y2=\"48px\" /></svg><line stroke=\"black\" x1=\"50%\" x2=\"49.2958%\" y1=\"19.2px\" y2=\"48px\" /><svg width=\"1.93662%\" x=\"49.6479%\" y=\"48px\"><defs /><svg width=\"100%\" x=\"0\" y=\"0px\"><defs /><text text-anchor=\"middle\" x=\"50%\" y=\"16px\">untreated</text></svg><svg width=\"100%\" x=\"0%\" y=\"48px\"><defs /><svg width=\"100%\" x=\"0\" y=\"0px\"><defs /><text text-anchor=\"middle\" x=\"50%\" y=\"16px\">O</text></svg></svg><line stroke=\"black\" x1=\"50%\" x2=\"50%\" y1=\"19.2px\" y2=\"48px\" /></svg><line stroke=\"black\" x1=\"50%\" x2=\"50.6162%\" y1=\"19.2px\" y2=\"48px\" /><svg width=\"1.76056%\" x=\"51.5845%\" y=\"48px\"><defs /><svg width=\"100%\" x=\"0\" y=\"0px\"><defs /><text text-anchor=\"middle\" x=\"50%\" y=\"16px\">patients</text></svg><svg width=\"100%\" x=\"0%\" y=\"48px\"><defs /><svg width=\"100%\" x=\"0\" y=\"0px\"><defs /><text text-anchor=\"middle\" x=\"50%\" y=\"16px\">O</text></svg></svg><line stroke=\"black\" x1=\"50%\" x2=\"50%\" y1=\"19.2px\" y2=\"48px\" /></svg><line stroke=\"black\" x1=\"50%\" x2=\"52.4648%\" y1=\"19.2px\" y2=\"48px\" /><svg width=\"1.76056%\" x=\"53.3451%\" y=\"48px\"><defs /><svg width=\"100%\" x=\"0\" y=\"0px\"><defs /><text text-anchor=\"middle\" x=\"50%\" y=\"16px\">carrying</text></svg><svg width=\"100%\" x=\"0%\" y=\"48px\"><defs /><svg width=\"100%\" x=\"0\" y=\"0px\"><defs /><text text-anchor=\"middle\" x=\"50%\" y=\"16px\">O</text></svg></svg><line stroke=\"black\" x1=\"50%\" x2=\"50%\" y1=\"19.2px\" y2=\"48px\" /></svg><line stroke=\"black\" x1=\"50%\" x2=\"54.2254%\" y1=\"19.2px\" y2=\"48px\" /><svg width=\"0.880282%\" x=\"55.1056%\" y=\"48px\"><defs /><svg width=\"100%\" x=\"0\" y=\"0px\"><defs /><text text-anchor=\"middle\" x=\"50%\" y=\"16px\">the</text></svg><svg width=\"100%\" x=\"0%\" y=\"48px\"><defs /><svg width=\"100%\" x=\"0\" y=\"0px\"><defs /><text text-anchor=\"middle\" x=\"50%\" y=\"16px\">O</text></svg></svg><line stroke=\"black\" x1=\"50%\" x2=\"50%\" y1=\"19.2px\" y2=\"48px\" /></svg><line stroke=\"black\" x1=\"50%\" x2=\"55.5458%\" y1=\"19.2px\" y2=\"48px\" /><svg width=\"2.64085%\" x=\"55.9859%\" y=\"48px\"><defs /><svg width=\"100%\" x=\"0\" y=\"0px\"><defs /><text text-anchor=\"middle\" x=\"50%\" y=\"16px\">fip1l1-pdgfra</text></svg><svg width=\"100%\" x=\"0%\" y=\"48px\"><defs /><svg width=\"100%\" x=\"0\" y=\"0px\"><defs /><text text-anchor=\"middle\" x=\"50%\" y=\"16px\">O</text></svg></svg><line stroke=\"black\" x1=\"50%\" x2=\"50%\" y1=\"19.2px\" y2=\"48px\" /></svg><line stroke=\"black\" x1=\"50%\" x2=\"57.3063%\" y1=\"19.2px\" y2=\"48px\" /><svg width=\"1.40845%\" x=\"58.6268%\" y=\"48px\"><defs /><svg width=\"100%\" x=\"0\" y=\"0px\"><defs /><text text-anchor=\"middle\" x=\"50%\" y=\"16px\">fusion</text></svg><svg width=\"100%\" x=\"0%\" y=\"48px\"><defs /><svg width=\"100%\" x=\"0\" y=\"0px\"><defs /><text text-anchor=\"middle\" x=\"50%\" y=\"16px\">O</text></svg></svg><line stroke=\"black\" x1=\"50%\" x2=\"50%\" y1=\"19.2px\" y2=\"48px\" /></svg><line stroke=\"black\" x1=\"50%\" x2=\"59.331%\" y1=\"19.2px\" y2=\"48px\" /><svg width=\"1.58451%\" x=\"60.0352%\" y=\"48px\"><defs /><svg width=\"100%\" x=\"0\" y=\"0px\"><defs /><text text-anchor=\"middle\" x=\"50%\" y=\"16px\">protein</text></svg><svg width=\"100%\" x=\"0%\" y=\"48px\"><defs /><svg width=\"100%\" x=\"0\" y=\"0px\"><defs /><text text-anchor=\"middle\" x=\"50%\" y=\"16px\">O</text></svg></svg><line stroke=\"black\" x1=\"50%\" x2=\"50%\" y1=\"19.2px\" y2=\"48px\" /></svg><line stroke=\"black\" x1=\"50%\" x2=\"60.8275%\" y1=\"19.2px\" y2=\"48px\" /><svg width=\"0.528169%\" x=\"61.6197%\" y=\"48px\"><defs /><svg width=\"100%\" x=\"0\" y=\"0px\"><defs /><text text-anchor=\"middle\" x=\"50%\" y=\"16px\">.</text></svg><svg width=\"100%\" x=\"0%\" y=\"48px\"><defs /><svg width=\"100%\" x=\"0\" y=\"0px\"><defs /><text text-anchor=\"middle\" x=\"50%\" y=\"16px\">O</text></svg></svg><line stroke=\"black\" x1=\"50%\" x2=\"50%\" y1=\"19.2px\" y2=\"48px\" /></svg><line stroke=\"black\" x1=\"50%\" x2=\"61.8838%\" y1=\"19.2px\" y2=\"48px\" /><svg width=\"0.704225%\" x=\"62.1479%\" y=\"48px\"><defs /><svg width=\"100%\" x=\"0\" y=\"0px\"><defs /><text text-anchor=\"middle\" x=\"50%\" y=\"16px\">2.</text></svg><svg width=\"100%\" x=\"0%\" y=\"48px\"><defs /><svg width=\"100%\" x=\"0\" y=\"0px\"><defs /><text text-anchor=\"middle\" x=\"50%\" y=\"16px\">O</text></svg></svg><line stroke=\"black\" x1=\"50%\" x2=\"50%\" y1=\"19.2px\" y2=\"48px\" /></svg><line stroke=\"black\" x1=\"50%\" x2=\"62.5%\" y1=\"19.2px\" y2=\"48px\" /><svg width=\"2.11268%\" x=\"62.8521%\" y=\"48px\"><defs /><svg width=\"100%\" x=\"0\" y=\"0px\"><defs /><text text-anchor=\"middle\" x=\"50%\" y=\"16px\">evaluation</text></svg><svg width=\"100%\" x=\"0%\" y=\"48px\"><defs /><svg width=\"100%\" x=\"0\" y=\"0px\"><defs /><text text-anchor=\"middle\" x=\"50%\" y=\"16px\">O</text></svg></svg><line stroke=\"black\" x1=\"50%\" x2=\"50%\" y1=\"19.2px\" y2=\"48px\" /></svg><line stroke=\"black\" x1=\"50%\" x2=\"63.9085%\" y1=\"19.2px\" y2=\"48px\" /><svg width=\"0.704225%\" x=\"64.9648%\" y=\"48px\"><defs /><svg width=\"100%\" x=\"0\" y=\"0px\"><defs /><text text-anchor=\"middle\" x=\"50%\" y=\"16px\">of</text></svg><svg width=\"100%\" x=\"0%\" y=\"48px\"><defs /><svg width=\"100%\" x=\"0\" y=\"0px\"><defs /><text text-anchor=\"middle\" x=\"50%\" y=\"16px\">O</text></svg></svg><line stroke=\"black\" x1=\"50%\" x2=\"50%\" y1=\"19.2px\" y2=\"48px\" /></svg><line stroke=\"black\" x1=\"50%\" x2=\"65.3169%\" y1=\"19.2px\" y2=\"48px\" /><svg width=\"0.880282%\" x=\"65.669%\" y=\"48px\"><defs /><svg width=\"100%\" x=\"0\" y=\"0px\"><defs /><text text-anchor=\"middle\" x=\"50%\" y=\"16px\">the</text></svg><svg width=\"100%\" x=\"0%\" y=\"48px\"><defs /><svg width=\"100%\" x=\"0\" y=\"0px\"><defs /><text text-anchor=\"middle\" x=\"50%\" y=\"16px\">O</text></svg></svg><line stroke=\"black\" x1=\"50%\" x2=\"50%\" y1=\"19.2px\" y2=\"48px\" /></svg><line stroke=\"black\" x1=\"50%\" x2=\"66.1092%\" y1=\"19.2px\" y2=\"48px\" /><svg width=\"1.76056%\" x=\"66.5493%\" y=\"48px\"><defs /><svg width=\"100%\" x=\"0\" y=\"0px\"><defs /><text text-anchor=\"middle\" x=\"50%\" y=\"16px\">efficacy</text></svg><svg width=\"100%\" x=\"0%\" y=\"48px\"><defs /><svg width=\"100%\" x=\"0\" y=\"0px\"><defs /><text text-anchor=\"middle\" x=\"50%\" y=\"16px\">O</text></svg></svg><line stroke=\"black\" x1=\"50%\" x2=\"50%\" y1=\"19.2px\" y2=\"48px\" /></svg><line stroke=\"black\" x1=\"50%\" x2=\"67.4296%\" y1=\"19.2px\" y2=\"48px\" /><svg width=\"0.704225%\" x=\"68.3099%\" y=\"48px\"><defs /><svg width=\"100%\" x=\"0\" y=\"0px\"><defs /><text text-anchor=\"middle\" x=\"50%\" y=\"16px\">of</text></svg><svg width=\"100%\" x=\"0%\" y=\"48px\"><defs /><svg width=\"100%\" x=\"0\" y=\"0px\"><defs /><text text-anchor=\"middle\" x=\"50%\" y=\"16px\">O</text></svg></svg><line stroke=\"black\" x1=\"50%\" x2=\"50%\" y1=\"19.2px\" y2=\"48px\" /></svg><line stroke=\"black\" x1=\"50%\" x2=\"68.662%\" y1=\"19.2px\" y2=\"48px\" /><svg width=\"3.52113%\" x=\"69.0141%\" y=\"48px\"><defs /><svg width=\"100%\" x=\"0\" y=\"0px\"><defs /><text text-anchor=\"middle\" x=\"50%\" y=\"16px\">NP</text></svg><svg width=\"50%\" x=\"0%\" y=\"48px\"><defs /><svg width=\"100%\" x=\"0\" y=\"0px\"><defs /><text text-anchor=\"middle\" x=\"50%\" y=\"16px\">imatinib</text></svg><svg width=\"100%\" x=\"0%\" y=\"48px\"><defs /><svg width=\"100%\" x=\"0\" y=\"0px\"><defs /><text text-anchor=\"middle\" x=\"50%\" y=\"16px\">C1E</text></svg></svg><line stroke=\"black\" x1=\"50%\" x2=\"50%\" y1=\"19.2px\" y2=\"48px\" /></svg><line stroke=\"black\" x1=\"50%\" x2=\"25%\" y1=\"19.2px\" y2=\"48px\" /><svg width=\"50%\" x=\"50%\" y=\"48px\"><defs /><svg width=\"100%\" x=\"0\" y=\"0px\"><defs /><text text-anchor=\"middle\" x=\"50%\" y=\"16px\">mesylate</text></svg><svg width=\"100%\" x=\"0%\" y=\"48px\"><defs /><svg width=\"100%\" x=\"0\" y=\"0px\"><defs /><text text-anchor=\"middle\" x=\"50%\" y=\"16px\">C2E</text></svg></svg><line stroke=\"black\" x1=\"50%\" x2=\"50%\" y1=\"19.2px\" y2=\"48px\" /></svg><line stroke=\"black\" x1=\"50%\" x2=\"75%\" y1=\"19.2px\" y2=\"48px\" /></svg><line stroke=\"black\" x1=\"50%\" x2=\"70.7746%\" y1=\"19.2px\" y2=\"48px\" /><svg width=\"0.704225%\" x=\"72.5352%\" y=\"48px\"><defs /><svg width=\"100%\" x=\"0\" y=\"0px\"><defs /><text text-anchor=\"middle\" x=\"50%\" y=\"16px\">in</text></svg><svg width=\"100%\" x=\"0%\" y=\"48px\"><defs /><svg width=\"100%\" x=\"0\" y=\"0px\"><defs /><text text-anchor=\"middle\" x=\"50%\" y=\"16px\">O</text></svg></svg><line stroke=\"black\" x1=\"50%\" x2=\"50%\" y1=\"19.2px\" y2=\"48px\" /></svg><line stroke=\"black\" x1=\"50%\" x2=\"72.8873%\" y1=\"19.2px\" y2=\"48px\" /><svg width=\"1.76056%\" x=\"73.2394%\" y=\"48px\"><defs /><svg width=\"100%\" x=\"0\" y=\"0px\"><defs /><text text-anchor=\"middle\" x=\"50%\" y=\"16px\">patients</text></svg><svg width=\"100%\" x=\"0%\" y=\"48px\"><defs /><svg width=\"100%\" x=\"0\" y=\"0px\"><defs /><text text-anchor=\"middle\" x=\"50%\" y=\"16px\">O</text></svg></svg><line stroke=\"black\" x1=\"50%\" x2=\"50%\" y1=\"19.2px\" y2=\"48px\" /></svg><line stroke=\"black\" x1=\"50%\" x2=\"74.1197%\" y1=\"19.2px\" y2=\"48px\" /><svg width=\"1.05634%\" x=\"75%\" y=\"48px\"><defs /><svg width=\"100%\" x=\"0\" y=\"0px\"><defs /><text text-anchor=\"middle\" x=\"50%\" y=\"16px\">with</text></svg><svg width=\"100%\" x=\"0%\" y=\"48px\"><defs /><svg width=\"100%\" x=\"0\" y=\"0px\"><defs /><text text-anchor=\"middle\" x=\"50%\" y=\"16px\">O</text></svg></svg><line stroke=\"black\" x1=\"50%\" x2=\"50%\" y1=\"19.2px\" y2=\"48px\" /></svg><line stroke=\"black\" x1=\"50%\" x2=\"75.5282%\" y1=\"19.2px\" y2=\"48px\" /><svg width=\"2.11268%\" x=\"76.0563%\" y=\"48px\"><defs /><svg width=\"100%\" x=\"0\" y=\"0px\"><defs /><text text-anchor=\"middle\" x=\"50%\" y=\"16px\">idiopathic</text></svg><svg width=\"100%\" x=\"0%\" y=\"48px\"><defs /><svg width=\"100%\" x=\"0\" y=\"0px\"><defs /><text text-anchor=\"middle\" x=\"50%\" y=\"16px\">O</text></svg></svg><line stroke=\"black\" x1=\"50%\" x2=\"50%\" y1=\"19.2px\" y2=\"48px\" /></svg><line stroke=\"black\" x1=\"50%\" x2=\"77.1127%\" y1=\"19.2px\" y2=\"48px\" /><svg width=\"3.34507%\" x=\"78.169%\" y=\"48px\"><defs /><svg width=\"100%\" x=\"0\" y=\"0px\"><defs /><text text-anchor=\"middle\" x=\"50%\" y=\"16px\">hypereosinophilic</text></svg><svg width=\"100%\" x=\"0%\" y=\"48px\"><defs /><svg width=\"100%\" x=\"0\" y=\"0px\"><defs /><text text-anchor=\"middle\" x=\"50%\" y=\"16px\">O</text></svg></svg><line stroke=\"black\" x1=\"50%\" x2=\"50%\" y1=\"19.2px\" y2=\"48px\" /></svg><line stroke=\"black\" x1=\"50%\" x2=\"79.8415%\" y1=\"19.2px\" y2=\"48px\" /><svg width=\"1.76056%\" x=\"81.5141%\" y=\"48px\"><defs /><svg width=\"100%\" x=\"0\" y=\"0px\"><defs /><text text-anchor=\"middle\" x=\"50%\" y=\"16px\">syndrome</text></svg><svg width=\"100%\" x=\"0%\" y=\"48px\"><defs /><svg width=\"100%\" x=\"0\" y=\"0px\"><defs /><text text-anchor=\"middle\" x=\"50%\" y=\"16px\">O</text></svg></svg><line stroke=\"black\" x1=\"50%\" x2=\"50%\" y1=\"19.2px\" y2=\"48px\" /></svg><line stroke=\"black\" x1=\"50%\" x2=\"82.3944%\" y1=\"19.2px\" y2=\"48px\" /><svg width=\"0.704225%\" x=\"83.2746%\" y=\"48px\"><defs /><svg width=\"100%\" x=\"0\" y=\"0px\"><defs /><text text-anchor=\"middle\" x=\"50%\" y=\"16px\">3.</text></svg><svg width=\"100%\" x=\"0%\" y=\"48px\"><defs /><svg width=\"100%\" x=\"0\" y=\"0px\"><defs /><text text-anchor=\"middle\" x=\"50%\" y=\"16px\">O</text></svg></svg><line stroke=\"black\" x1=\"50%\" x2=\"50%\" y1=\"19.2px\" y2=\"48px\" /></svg><line stroke=\"black\" x1=\"50%\" x2=\"83.6268%\" y1=\"19.2px\" y2=\"48px\" /><svg width=\"1.76056%\" x=\"83.9789%\" y=\"48px\"><defs /><svg width=\"100%\" x=\"0\" y=\"0px\"><defs /><text text-anchor=\"middle\" x=\"50%\" y=\"16px\">analysis</text></svg><svg width=\"100%\" x=\"0%\" y=\"48px\"><defs /><svg width=\"100%\" x=\"0\" y=\"0px\"><defs /><text text-anchor=\"middle\" x=\"50%\" y=\"16px\">O</text></svg></svg><line stroke=\"black\" x1=\"50%\" x2=\"50%\" y1=\"19.2px\" y2=\"48px\" /></svg><line stroke=\"black\" x1=\"50%\" x2=\"84.8592%\" y1=\"19.2px\" y2=\"48px\" /><svg width=\"0.704225%\" x=\"85.7394%\" y=\"48px\"><defs /><svg width=\"100%\" x=\"0\" y=\"0px\"><defs /><text text-anchor=\"middle\" x=\"50%\" y=\"16px\">of</text></svg><svg width=\"100%\" x=\"0%\" y=\"48px\"><defs /><svg width=\"100%\" x=\"0\" y=\"0px\"><defs /><text text-anchor=\"middle\" x=\"50%\" y=\"16px\">O</text></svg></svg><line stroke=\"black\" x1=\"50%\" x2=\"50%\" y1=\"19.2px\" y2=\"48px\" /></svg><line stroke=\"black\" x1=\"50%\" x2=\"86.0915%\" y1=\"19.2px\" y2=\"48px\" /><svg width=\"1.58451%\" x=\"86.4437%\" y=\"48px\"><defs /><svg width=\"100%\" x=\"0\" y=\"0px\"><defs /><text text-anchor=\"middle\" x=\"50%\" y=\"16px\">patient</text></svg><svg width=\"100%\" x=\"0%\" y=\"48px\"><defs /><svg width=\"100%\" x=\"0\" y=\"0px\"><defs /><text text-anchor=\"middle\" x=\"50%\" y=\"16px\">O</text></svg></svg><line stroke=\"black\" x1=\"50%\" x2=\"50%\" y1=\"19.2px\" y2=\"48px\" /></svg><line stroke=\"black\" x1=\"50%\" x2=\"87.2359%\" y1=\"19.2px\" y2=\"48px\" /><svg width=\"0.704225%\" x=\"88.0282%\" y=\"48px\"><defs /><svg width=\"100%\" x=\"0\" y=\"0px\"><defs /><text text-anchor=\"middle\" x=\"50%\" y=\"16px\">'s</text></svg><svg width=\"100%\" x=\"0%\" y=\"48px\"><defs /><svg width=\"100%\" x=\"0\" y=\"0px\"><defs /><text text-anchor=\"middle\" x=\"50%\" y=\"16px\">O</text></svg></svg><line stroke=\"black\" x1=\"50%\" x2=\"50%\" y1=\"19.2px\" y2=\"48px\" /></svg><line stroke=\"black\" x1=\"50%\" x2=\"88.3803%\" y1=\"19.2px\" y2=\"48px\" /><svg width=\"1.23239%\" x=\"88.7324%\" y=\"48px\"><defs /><svg width=\"100%\" x=\"0\" y=\"0px\"><defs /><text text-anchor=\"middle\" x=\"50%\" y=\"16px\">blood</text></svg><svg width=\"100%\" x=\"0%\" y=\"48px\"><defs /><svg width=\"100%\" x=\"0\" y=\"0px\"><defs /><text text-anchor=\"middle\" x=\"50%\" y=\"16px\">O</text></svg></svg><line stroke=\"black\" x1=\"50%\" x2=\"50%\" y1=\"19.2px\" y2=\"48px\" /></svg><line stroke=\"black\" x1=\"50%\" x2=\"89.3486%\" y1=\"19.2px\" y2=\"48px\" /><svg width=\"1.58451%\" x=\"89.9648%\" y=\"48px\"><defs /><svg width=\"100%\" x=\"0\" y=\"0px\"><defs /><text text-anchor=\"middle\" x=\"50%\" y=\"16px\">samples</text></svg><svg width=\"100%\" x=\"0%\" y=\"48px\"><defs /><svg width=\"100%\" x=\"0\" y=\"0px\"><defs /><text text-anchor=\"middle\" x=\"50%\" y=\"16px\">O</text></svg></svg><line stroke=\"black\" x1=\"50%\" x2=\"50%\" y1=\"19.2px\" y2=\"48px\" /></svg><line stroke=\"black\" x1=\"50%\" x2=\"90.757%\" y1=\"19.2px\" y2=\"48px\" /><svg width=\"0.880282%\" x=\"91.5493%\" y=\"48px\"><defs /><svg width=\"100%\" x=\"0\" y=\"0px\"><defs /><text text-anchor=\"middle\" x=\"50%\" y=\"16px\">for</text></svg><svg width=\"100%\" x=\"0%\" y=\"48px\"><defs /><svg width=\"100%\" x=\"0\" y=\"0px\"><defs /><text text-anchor=\"middle\" x=\"50%\" y=\"16px\">O</text></svg></svg><line stroke=\"black\" x1=\"50%\" x2=\"50%\" y1=\"19.2px\" y2=\"48px\" /></svg><line stroke=\"black\" x1=\"50%\" x2=\"91.9894%\" y1=\"19.2px\" y2=\"48px\" /><svg width=\"0.880282%\" x=\"92.4296%\" y=\"48px\"><defs /><svg width=\"100%\" x=\"0\" y=\"0px\"><defs /><text text-anchor=\"middle\" x=\"50%\" y=\"16px\">the</text></svg><svg width=\"100%\" x=\"0%\" y=\"48px\"><defs /><svg width=\"100%\" x=\"0\" y=\"0px\"><defs /><text text-anchor=\"middle\" x=\"50%\" y=\"16px\">O</text></svg></svg><line stroke=\"black\" x1=\"50%\" x2=\"50%\" y1=\"19.2px\" y2=\"48px\" /></svg><line stroke=\"black\" x1=\"50%\" x2=\"92.8697%\" y1=\"19.2px\" y2=\"48px\" /><svg width=\"1.93662%\" x=\"93.3099%\" y=\"48px\"><defs /><svg width=\"100%\" x=\"0\" y=\"0px\"><defs /><text text-anchor=\"middle\" x=\"50%\" y=\"16px\">detection</text></svg><svg width=\"100%\" x=\"0%\" y=\"48px\"><defs /><svg width=\"100%\" x=\"0\" y=\"0px\"><defs /><text text-anchor=\"middle\" x=\"50%\" y=\"16px\">O</text></svg></svg><line stroke=\"black\" x1=\"50%\" x2=\"50%\" y1=\"19.2px\" y2=\"48px\" /></svg><line stroke=\"black\" x1=\"50%\" x2=\"94.2782%\" y1=\"19.2px\" y2=\"48px\" /><svg width=\"0.704225%\" x=\"95.2465%\" y=\"48px\"><defs /><svg width=\"100%\" x=\"0\" y=\"0px\"><defs /><text text-anchor=\"middle\" x=\"50%\" y=\"16px\">of</text></svg><svg width=\"100%\" x=\"0%\" y=\"48px\"><defs /><svg width=\"100%\" x=\"0\" y=\"0px\"><defs /><text text-anchor=\"middle\" x=\"50%\" y=\"16px\">O</text></svg></svg><line stroke=\"black\" x1=\"50%\" x2=\"50%\" y1=\"19.2px\" y2=\"48px\" /></svg><line stroke=\"black\" x1=\"50%\" x2=\"95.5986%\" y1=\"19.2px\" y2=\"48px\" /><svg width=\"1.93662%\" x=\"95.9507%\" y=\"48px\"><defs /><svg width=\"100%\" x=\"0\" y=\"0px\"><defs /><text text-anchor=\"middle\" x=\"50%\" y=\"16px\">activated</text></svg><svg width=\"100%\" x=\"0%\" y=\"48px\"><defs /><svg width=\"100%\" x=\"0\" y=\"0px\"><defs /><text text-anchor=\"middle\" x=\"50%\" y=\"16px\">O</text></svg></svg><line stroke=\"black\" x1=\"50%\" x2=\"50%\" y1=\"19.2px\" y2=\"48px\" /></svg><line stroke=\"black\" x1=\"50%\" x2=\"96.919%\" y1=\"19.2px\" y2=\"48px\" /><svg width=\"1.58451%\" x=\"97.8873%\" y=\"48px\"><defs /><svg width=\"100%\" x=\"0\" y=\"0px\"><defs /><text text-anchor=\"middle\" x=\"50%\" y=\"16px\">kinases</text></svg><svg width=\"100%\" x=\"0%\" y=\"48px\"><defs /><svg width=\"100%\" x=\"0\" y=\"0px\"><defs /><text text-anchor=\"middle\" x=\"50%\" y=\"16px\">O</text></svg></svg><line stroke=\"black\" x1=\"50%\" x2=\"50%\" y1=\"19.2px\" y2=\"48px\" /></svg><line stroke=\"black\" x1=\"50%\" x2=\"98.6796%\" y1=\"19.2px\" y2=\"48px\" /><svg width=\"0.528169%\" x=\"99.4718%\" y=\"48px\"><defs /><svg width=\"100%\" x=\"0\" y=\"0px\"><defs /><text text-anchor=\"middle\" x=\"50%\" y=\"16px\">.</text></svg><svg width=\"100%\" x=\"0%\" y=\"48px\"><defs /><svg width=\"100%\" x=\"0\" y=\"0px\"><defs /><text text-anchor=\"middle\" x=\"50%\" y=\"16px\">O</text></svg></svg><line stroke=\"black\" x1=\"50%\" x2=\"50%\" y1=\"19.2px\" y2=\"48px\" /></svg><line stroke=\"black\" x1=\"50%\" x2=\"99.7359%\" y1=\"19.2px\" y2=\"48px\" /></svg>"
     },
     "execution_count": 37,
     "metadata": {},
     "output_type": "execute_result"
    }
   ],
   "execution_count": 37
  },
  {
   "cell_type": "markdown",
   "id": "dfe7cf8c010d00fa",
   "metadata": {
    "collapsed": false
   },
   "source": [
    "## Extract terms and map to preferred names"
   ]
  },
  {
   "cell_type": "code",
   "source": [
    "synonym_maps = build_features.get_synonym_maps(synonyms_df)\n",
    "preferred_name_by_term = synonym_maps['preferred_name_by_term']"
   ],
   "metadata": {
    "collapsed": false,
    "ExecuteTime": {
     "end_time": "2024-04-08T02:37:46.229540Z",
     "start_time": "2024-04-08T02:37:46.040543Z"
    }
   },
   "id": "d6d2781a57e39867",
   "outputs": [],
   "execution_count": 38
  },
  {
   "cell_type": "code",
   "source": [
    "def extract_preferred_names_from_tree(tree, chunk_tag: str = 'NP') -> list[str]:\n",
    "    terms = train_nltk.extract_chunked_terms(tree=tree, chunk_tag=chunk_tag)\n",
    "    term_prefered_names = []\n",
    "    for term_raw in terms:\n",
    "        term = term_raw.lower()\n",
    "        # print(term, term_raw)\n",
    "        if term not in preferred_name_by_term:\n",
    "            continue\n",
    "        term_prefered_names.append(preferred_name_by_term[term])\n",
    "    return list(set(term_prefered_names))    \n",
    "    "
   ],
   "metadata": {
    "collapsed": false,
    "ExecuteTime": {
     "end_time": "2024-04-08T02:37:46.233063Z",
     "start_time": "2024-04-08T02:37:46.230376Z"
    }
   },
   "id": "e097692bc3aae9f5",
   "outputs": [],
   "execution_count": 39
  },
  {
   "cell_type": "code",
   "source": [
    "extracted_terms = []\n",
    "for tree in test_trees:\n",
    "    extracted_terms.append(extract_preferred_names_from_tree(tree))\n",
    "test_df = pd.DataFrame({\n",
    "    'nct_id': summaries_df['nct_id'],\n",
    "    'extracted_terms': extracted_terms\n",
    "})"
   ],
   "metadata": {
    "collapsed": false,
    "ExecuteTime": {
     "end_time": "2024-04-08T02:37:46.241525Z",
     "start_time": "2024-04-08T02:37:46.233807Z"
    }
   },
   "id": "b21752551476e335",
   "outputs": [],
   "execution_count": 40
  },
  {
   "cell_type": "markdown",
   "id": "1655577b-9be3-48cb-b477-201c69d627e5",
   "metadata": {
    "collapsed": false
   },
   "source": [
    "## Evaluate"
   ]
  },
  {
   "cell_type": "code",
   "id": "62913a3cd2cf6dcf",
   "metadata": {
    "collapsed": false,
    "ExecuteTime": {
     "end_time": "2024-04-08T02:37:46.246935Z",
     "start_time": "2024-04-08T02:37:46.242195Z"
    }
   },
   "source": [
    "test_df['gt_cleaned'] = test_df.nct_id.map(lambda x: ground_truth_cleaned[x])"
   ],
   "outputs": [],
   "execution_count": 41
  },
  {
   "cell_type": "code",
   "id": "13ffe966d12c829d",
   "metadata": {
    "collapsed": false,
    "ExecuteTime": {
     "end_time": "2024-04-08T02:37:46.252877Z",
     "start_time": "2024-04-08T02:37:46.247618Z"
    }
   },
   "source": [
    "test_df['match_count'] = test_df.apply(lambda row: len(set(row['extracted_terms']).intersection(set(row['gt_cleaned']))), axis=1)"
   ],
   "outputs": [],
   "execution_count": 42
  },
  {
   "cell_type": "code",
   "id": "a1262b023a941072",
   "metadata": {
    "collapsed": false,
    "ExecuteTime": {
     "end_time": "2024-04-08T02:37:46.262150Z",
     "start_time": "2024-04-08T02:37:46.253541Z"
    }
   },
   "source": [
    "test_df.head()"
   ],
   "outputs": [
    {
     "data": {
      "text/plain": [
       "        nct_id             extracted_terms                  gt_cleaned  \\\n",
       "0  NCT00037648                  [anakinra]                  [anakinra]   \n",
       "1  NCT00048542  [methotrexate, adalimumab]  [adalimumab, methotrexate]   \n",
       "2  NCT00071487                 [belimumab]                 [belimumab]   \n",
       "3  NCT00071812                 [belimumab]                 [belimumab]   \n",
       "4  NCT00072839               [teduglutide]               [teduglutide]   \n",
       "\n",
       "   match_count  \n",
       "0            1  \n",
       "1            2  \n",
       "2            1  \n",
       "3            1  \n",
       "4            1  "
      ],
      "text/html": [
       "<div>\n",
       "<style scoped>\n",
       "    .dataframe tbody tr th:only-of-type {\n",
       "        vertical-align: middle;\n",
       "    }\n",
       "\n",
       "    .dataframe tbody tr th {\n",
       "        vertical-align: top;\n",
       "    }\n",
       "\n",
       "    .dataframe thead th {\n",
       "        text-align: right;\n",
       "    }\n",
       "</style>\n",
       "<table border=\"1\" class=\"dataframe\">\n",
       "  <thead>\n",
       "    <tr style=\"text-align: right;\">\n",
       "      <th></th>\n",
       "      <th>nct_id</th>\n",
       "      <th>extracted_terms</th>\n",
       "      <th>gt_cleaned</th>\n",
       "      <th>match_count</th>\n",
       "    </tr>\n",
       "  </thead>\n",
       "  <tbody>\n",
       "    <tr>\n",
       "      <th>0</th>\n",
       "      <td>NCT00037648</td>\n",
       "      <td>[anakinra]</td>\n",
       "      <td>[anakinra]</td>\n",
       "      <td>1</td>\n",
       "    </tr>\n",
       "    <tr>\n",
       "      <th>1</th>\n",
       "      <td>NCT00048542</td>\n",
       "      <td>[methotrexate, adalimumab]</td>\n",
       "      <td>[adalimumab, methotrexate]</td>\n",
       "      <td>2</td>\n",
       "    </tr>\n",
       "    <tr>\n",
       "      <th>2</th>\n",
       "      <td>NCT00071487</td>\n",
       "      <td>[belimumab]</td>\n",
       "      <td>[belimumab]</td>\n",
       "      <td>1</td>\n",
       "    </tr>\n",
       "    <tr>\n",
       "      <th>3</th>\n",
       "      <td>NCT00071812</td>\n",
       "      <td>[belimumab]</td>\n",
       "      <td>[belimumab]</td>\n",
       "      <td>1</td>\n",
       "    </tr>\n",
       "    <tr>\n",
       "      <th>4</th>\n",
       "      <td>NCT00072839</td>\n",
       "      <td>[teduglutide]</td>\n",
       "      <td>[teduglutide]</td>\n",
       "      <td>1</td>\n",
       "    </tr>\n",
       "  </tbody>\n",
       "</table>\n",
       "</div>"
      ]
     },
     "execution_count": 43,
     "metadata": {},
     "output_type": "execute_result"
    }
   ],
   "execution_count": 43
  },
  {
   "cell_type": "code",
   "id": "33df1e0fc0697d4e",
   "metadata": {
    "collapsed": false,
    "ExecuteTime": {
     "end_time": "2024-04-08T02:37:46.267445Z",
     "start_time": "2024-04-08T02:37:46.262790Z"
    }
   },
   "source": [
    "test_df['extracted_terms_count'] = test_df['extracted_terms'].map(len)\n",
    "test_df['gt_cleaned_count'] = test_df['gt_cleaned'].map(len)"
   ],
   "outputs": [],
   "execution_count": 44
  },
  {
   "cell_type": "code",
   "id": "7c0cd7aff7cca6da",
   "metadata": {
    "collapsed": false,
    "ExecuteTime": {
     "end_time": "2024-04-08T02:37:46.269388Z",
     "start_time": "2024-04-08T02:37:46.268093Z"
    }
   },
   "source": [],
   "outputs": [],
   "execution_count": 44
  },
  {
   "cell_type": "code",
   "id": "987cb62dd4c09c38",
   "metadata": {
    "collapsed": false,
    "ExecuteTime": {
     "end_time": "2024-04-08T02:37:46.273100Z",
     "start_time": "2024-04-08T02:37:46.270004Z"
    }
   },
   "source": [
    "true_positive_count = test_df['match_count'].sum()\n",
    "precision = true_positive_count / test_df['extracted_terms_count'].sum()\n",
    "recall = true_positive_count / test_df['gt_cleaned_count'].sum()\n",
    "print(f'Precision: {precision: .2%}')\n",
    "print(f'Recall: {recall: .2%}')\n"
   ],
   "outputs": [
    {
     "name": "stdout",
     "output_type": "stream",
     "text": [
      "Precision:  100.00%\n",
      "Recall:  98.25%\n"
     ]
    }
   ],
   "execution_count": 45
  },
  {
   "cell_type": "code",
   "id": "aa23dad0f6848c",
   "metadata": {
    "collapsed": false,
    "ExecuteTime": {
     "end_time": "2024-04-08T02:37:46.281304Z",
     "start_time": "2024-04-08T02:37:46.273744Z"
    }
   },
   "source": [
    "misses_df = test_df[(test_df['match_count'] != test_df['extracted_terms_count']) | (test_df['match_count'] != test_df['gt_cleaned_count'])]\n",
    "misses_df"
   ],
   "outputs": [
    {
     "data": {
      "text/plain": [
       "         nct_id extracted_terms     gt_cleaned  match_count  \\\n",
       "45  NCT00265122              []  [ustekinumab]            0   \n",
       "\n",
       "    extracted_terms_count  gt_cleaned_count  \n",
       "45                      0                 1  "
      ],
      "text/html": [
       "<div>\n",
       "<style scoped>\n",
       "    .dataframe tbody tr th:only-of-type {\n",
       "        vertical-align: middle;\n",
       "    }\n",
       "\n",
       "    .dataframe tbody tr th {\n",
       "        vertical-align: top;\n",
       "    }\n",
       "\n",
       "    .dataframe thead th {\n",
       "        text-align: right;\n",
       "    }\n",
       "</style>\n",
       "<table border=\"1\" class=\"dataframe\">\n",
       "  <thead>\n",
       "    <tr style=\"text-align: right;\">\n",
       "      <th></th>\n",
       "      <th>nct_id</th>\n",
       "      <th>extracted_terms</th>\n",
       "      <th>gt_cleaned</th>\n",
       "      <th>match_count</th>\n",
       "      <th>extracted_terms_count</th>\n",
       "      <th>gt_cleaned_count</th>\n",
       "    </tr>\n",
       "  </thead>\n",
       "  <tbody>\n",
       "    <tr>\n",
       "      <th>45</th>\n",
       "      <td>NCT00265122</td>\n",
       "      <td>[]</td>\n",
       "      <td>[ustekinumab]</td>\n",
       "      <td>0</td>\n",
       "      <td>0</td>\n",
       "      <td>1</td>\n",
       "    </tr>\n",
       "  </tbody>\n",
       "</table>\n",
       "</div>"
      ]
     },
     "execution_count": 46,
     "metadata": {},
     "output_type": "execute_result"
    }
   ],
   "execution_count": 46
  },
  {
   "cell_type": "code",
   "id": "898a2fa0c9c71721",
   "metadata": {
    "collapsed": false,
    "ExecuteTime": {
     "end_time": "2024-04-08T02:37:46.283243Z",
     "start_time": "2024-04-08T02:37:46.281910Z"
    }
   },
   "source": [],
   "outputs": [],
   "execution_count": 46
  },
  {
   "cell_type": "markdown",
   "id": "b7ae4819-5958-4f3c-9a89-a32edbc7696a",
   "metadata": {
    "collapsed": false
   },
   "source": [
    "### Check specific case(s)"
   ]
  },
  {
   "cell_type": "code",
   "source": [
    "nct_id = 'NCT00265122'"
   ],
   "metadata": {
    "collapsed": false,
    "ExecuteTime": {
     "end_time": "2024-04-08T02:37:46.285621Z",
     "start_time": "2024-04-08T02:37:46.283870Z"
    }
   },
   "id": "f495da4579afc032",
   "outputs": [],
   "execution_count": 47
  },
  {
   "cell_type": "code",
   "id": "fe5794ddad31ad59",
   "metadata": {
    "collapsed": false,
    "ExecuteTime": {
     "end_time": "2024-04-08T02:37:46.291247Z",
     "start_time": "2024-04-08T02:37:46.286257Z"
    }
   },
   "source": [
    "_sum = summaries_df[summaries_df['nct_id']==nct_id].brief_summary_preprocessed.iloc[0]\n",
    "print(_sum)"
   ],
   "outputs": [
    {
     "name": "stdout",
     "output_type": "stream",
     "text": [
      "['the' 'purpose' 'of' 'this' 'study' 'is' 'to' 'examine' 'the' 'safety'\n",
      " 'and' 'efficacy' 'of' 'cnto' '1275' 'in' 'participants' 'with' 'active'\n",
      " 'crohn' \"'s\" 'disease' '.']\n"
     ]
    }
   ],
   "execution_count": 48
  },
  {
   "cell_type": "code",
   "source": [
    "_sum_raw = summaries_df[summaries_df['nct_id']==nct_id].brief_summary.iloc[0]\n",
    "print(_sum_raw)"
   ],
   "metadata": {
    "collapsed": false,
    "ExecuteTime": {
     "end_time": "2024-04-08T02:37:46.296864Z",
     "start_time": "2024-04-08T02:37:46.291923Z"
    }
   },
   "id": "b4bc15ab07c9bbcc",
   "outputs": [
    {
     "name": "stdout",
     "output_type": "stream",
     "text": [
      "The purpose of this study is to examine the safety and efficacy of CNTO 1275 in participants with active Crohn's Disease.\n"
     ]
    }
   ],
   "execution_count": 49
  },
  {
   "cell_type": "code",
   "id": "bda1abf07b7d24f4",
   "metadata": {
    "collapsed": false,
    "ExecuteTime": {
     "end_time": "2024-04-08T02:37:46.302733Z",
     "start_time": "2024-04-08T02:37:46.297554Z"
    }
   },
   "source": [
    "index = summaries_df[summaries_df['nct_id']=='NCT00265122'].index[0]\n",
    "index"
   ],
   "outputs": [
    {
     "data": {
      "text/plain": [
       "45"
      ]
     },
     "execution_count": 50,
     "metadata": {},
     "output_type": "execute_result"
    }
   ],
   "execution_count": 50
  },
  {
   "cell_type": "code",
   "id": "5f9c975573b196b5",
   "metadata": {
    "collapsed": false,
    "ExecuteTime": {
     "end_time": "2024-04-08T02:37:46.319972Z",
     "start_time": "2024-04-08T02:37:46.303388Z"
    }
   },
   "source": [
    "# This is a tagger issue, 'cnto' is tagged as other, it should have been tagged as 'C2E'\n",
    "test_trees[index]"
   ],
   "outputs": [
    {
     "data": {
      "text/plain": [
       "Tree('S', [('the', 'O'), ('purpose', 'O'), ('of', 'O'), ('this', 'O'), ('study', 'O'), ('is', 'O'), ('to', 'O'), ('examine', 'O'), ('the', 'O'), ('safety', 'O'), ('and', 'O'), ('efficacy', 'O'), ('of', 'O'), ('cnto', 'O'), Tree('NP', [('1275', 'C2E')]), ('in', 'O'), ('participants', 'O'), ('with', 'O'), ('active', 'O'), ('crohn', 'O'), (\"'s\", 'O'), ('disease', 'O'), ('.', 'O')])"
      ],
      "image/svg+xml": "<svg baseProfile=\"full\" height=\"168px\" preserveAspectRatio=\"xMidYMid meet\" style=\"font-family: times, serif; font-weight: normal; font-style: normal; font-size: 16px;\" version=\"1.1\" viewBox=\"0,0,1176.0,168.0\" width=\"1176px\" xmlns=\"http://www.w3.org/2000/svg\" xmlns:ev=\"http://www.w3.org/2001/xml-events\" xmlns:xlink=\"http://www.w3.org/1999/xlink\"><defs /><svg width=\"100%\" x=\"0\" y=\"0px\"><defs /><text text-anchor=\"middle\" x=\"50%\" y=\"16px\">S</text></svg><svg width=\"3.40136%\" x=\"0%\" y=\"48px\"><defs /><svg width=\"100%\" x=\"0\" y=\"0px\"><defs /><text text-anchor=\"middle\" x=\"50%\" y=\"16px\">the</text></svg><svg width=\"100%\" x=\"0%\" y=\"48px\"><defs /><svg width=\"100%\" x=\"0\" y=\"0px\"><defs /><text text-anchor=\"middle\" x=\"50%\" y=\"16px\">O</text></svg></svg><line stroke=\"black\" x1=\"50%\" x2=\"50%\" y1=\"19.2px\" y2=\"48px\" /></svg><line stroke=\"black\" x1=\"50%\" x2=\"1.70068%\" y1=\"19.2px\" y2=\"48px\" /><svg width=\"6.12245%\" x=\"3.40136%\" y=\"48px\"><defs /><svg width=\"100%\" x=\"0\" y=\"0px\"><defs /><text text-anchor=\"middle\" x=\"50%\" y=\"16px\">purpose</text></svg><svg width=\"100%\" x=\"0%\" y=\"48px\"><defs /><svg width=\"100%\" x=\"0\" y=\"0px\"><defs /><text text-anchor=\"middle\" x=\"50%\" y=\"16px\">O</text></svg></svg><line stroke=\"black\" x1=\"50%\" x2=\"50%\" y1=\"19.2px\" y2=\"48px\" /></svg><line stroke=\"black\" x1=\"50%\" x2=\"6.46259%\" y1=\"19.2px\" y2=\"48px\" /><svg width=\"2.72109%\" x=\"9.52381%\" y=\"48px\"><defs /><svg width=\"100%\" x=\"0\" y=\"0px\"><defs /><text text-anchor=\"middle\" x=\"50%\" y=\"16px\">of</text></svg><svg width=\"100%\" x=\"0%\" y=\"48px\"><defs /><svg width=\"100%\" x=\"0\" y=\"0px\"><defs /><text text-anchor=\"middle\" x=\"50%\" y=\"16px\">O</text></svg></svg><line stroke=\"black\" x1=\"50%\" x2=\"50%\" y1=\"19.2px\" y2=\"48px\" /></svg><line stroke=\"black\" x1=\"50%\" x2=\"10.8844%\" y1=\"19.2px\" y2=\"48px\" /><svg width=\"4.08163%\" x=\"12.2449%\" y=\"48px\"><defs /><svg width=\"100%\" x=\"0\" y=\"0px\"><defs /><text text-anchor=\"middle\" x=\"50%\" y=\"16px\">this</text></svg><svg width=\"100%\" x=\"0%\" y=\"48px\"><defs /><svg width=\"100%\" x=\"0\" y=\"0px\"><defs /><text text-anchor=\"middle\" x=\"50%\" y=\"16px\">O</text></svg></svg><line stroke=\"black\" x1=\"50%\" x2=\"50%\" y1=\"19.2px\" y2=\"48px\" /></svg><line stroke=\"black\" x1=\"50%\" x2=\"14.2857%\" y1=\"19.2px\" y2=\"48px\" /><svg width=\"4.7619%\" x=\"16.3265%\" y=\"48px\"><defs /><svg width=\"100%\" x=\"0\" y=\"0px\"><defs /><text text-anchor=\"middle\" x=\"50%\" y=\"16px\">study</text></svg><svg width=\"100%\" x=\"0%\" y=\"48px\"><defs /><svg width=\"100%\" x=\"0\" y=\"0px\"><defs /><text text-anchor=\"middle\" x=\"50%\" y=\"16px\">O</text></svg></svg><line stroke=\"black\" x1=\"50%\" x2=\"50%\" y1=\"19.2px\" y2=\"48px\" /></svg><line stroke=\"black\" x1=\"50%\" x2=\"18.7075%\" y1=\"19.2px\" y2=\"48px\" /><svg width=\"2.72109%\" x=\"21.0884%\" y=\"48px\"><defs /><svg width=\"100%\" x=\"0\" y=\"0px\"><defs /><text text-anchor=\"middle\" x=\"50%\" y=\"16px\">is</text></svg><svg width=\"100%\" x=\"0%\" y=\"48px\"><defs /><svg width=\"100%\" x=\"0\" y=\"0px\"><defs /><text text-anchor=\"middle\" x=\"50%\" y=\"16px\">O</text></svg></svg><line stroke=\"black\" x1=\"50%\" x2=\"50%\" y1=\"19.2px\" y2=\"48px\" /></svg><line stroke=\"black\" x1=\"50%\" x2=\"22.449%\" y1=\"19.2px\" y2=\"48px\" /><svg width=\"2.72109%\" x=\"23.8095%\" y=\"48px\"><defs /><svg width=\"100%\" x=\"0\" y=\"0px\"><defs /><text text-anchor=\"middle\" x=\"50%\" y=\"16px\">to</text></svg><svg width=\"100%\" x=\"0%\" y=\"48px\"><defs /><svg width=\"100%\" x=\"0\" y=\"0px\"><defs /><text text-anchor=\"middle\" x=\"50%\" y=\"16px\">O</text></svg></svg><line stroke=\"black\" x1=\"50%\" x2=\"50%\" y1=\"19.2px\" y2=\"48px\" /></svg><line stroke=\"black\" x1=\"50%\" x2=\"25.1701%\" y1=\"19.2px\" y2=\"48px\" /><svg width=\"6.12245%\" x=\"26.5306%\" y=\"48px\"><defs /><svg width=\"100%\" x=\"0\" y=\"0px\"><defs /><text text-anchor=\"middle\" x=\"50%\" y=\"16px\">examine</text></svg><svg width=\"100%\" x=\"0%\" y=\"48px\"><defs /><svg width=\"100%\" x=\"0\" y=\"0px\"><defs /><text text-anchor=\"middle\" x=\"50%\" y=\"16px\">O</text></svg></svg><line stroke=\"black\" x1=\"50%\" x2=\"50%\" y1=\"19.2px\" y2=\"48px\" /></svg><line stroke=\"black\" x1=\"50%\" x2=\"29.5918%\" y1=\"19.2px\" y2=\"48px\" /><svg width=\"3.40136%\" x=\"32.6531%\" y=\"48px\"><defs /><svg width=\"100%\" x=\"0\" y=\"0px\"><defs /><text text-anchor=\"middle\" x=\"50%\" y=\"16px\">the</text></svg><svg width=\"100%\" x=\"0%\" y=\"48px\"><defs /><svg width=\"100%\" x=\"0\" y=\"0px\"><defs /><text text-anchor=\"middle\" x=\"50%\" y=\"16px\">O</text></svg></svg><line stroke=\"black\" x1=\"50%\" x2=\"50%\" y1=\"19.2px\" y2=\"48px\" /></svg><line stroke=\"black\" x1=\"50%\" x2=\"34.3537%\" y1=\"19.2px\" y2=\"48px\" /><svg width=\"5.44218%\" x=\"36.0544%\" y=\"48px\"><defs /><svg width=\"100%\" x=\"0\" y=\"0px\"><defs /><text text-anchor=\"middle\" x=\"50%\" y=\"16px\">safety</text></svg><svg width=\"100%\" x=\"0%\" y=\"48px\"><defs /><svg width=\"100%\" x=\"0\" y=\"0px\"><defs /><text text-anchor=\"middle\" x=\"50%\" y=\"16px\">O</text></svg></svg><line stroke=\"black\" x1=\"50%\" x2=\"50%\" y1=\"19.2px\" y2=\"48px\" /></svg><line stroke=\"black\" x1=\"50%\" x2=\"38.7755%\" y1=\"19.2px\" y2=\"48px\" /><svg width=\"3.40136%\" x=\"41.4966%\" y=\"48px\"><defs /><svg width=\"100%\" x=\"0\" y=\"0px\"><defs /><text text-anchor=\"middle\" x=\"50%\" y=\"16px\">and</text></svg><svg width=\"100%\" x=\"0%\" y=\"48px\"><defs /><svg width=\"100%\" x=\"0\" y=\"0px\"><defs /><text text-anchor=\"middle\" x=\"50%\" y=\"16px\">O</text></svg></svg><line stroke=\"black\" x1=\"50%\" x2=\"50%\" y1=\"19.2px\" y2=\"48px\" /></svg><line stroke=\"black\" x1=\"50%\" x2=\"43.1973%\" y1=\"19.2px\" y2=\"48px\" /><svg width=\"6.80272%\" x=\"44.898%\" y=\"48px\"><defs /><svg width=\"100%\" x=\"0\" y=\"0px\"><defs /><text text-anchor=\"middle\" x=\"50%\" y=\"16px\">efficacy</text></svg><svg width=\"100%\" x=\"0%\" y=\"48px\"><defs /><svg width=\"100%\" x=\"0\" y=\"0px\"><defs /><text text-anchor=\"middle\" x=\"50%\" y=\"16px\">O</text></svg></svg><line stroke=\"black\" x1=\"50%\" x2=\"50%\" y1=\"19.2px\" y2=\"48px\" /></svg><line stroke=\"black\" x1=\"50%\" x2=\"48.2993%\" y1=\"19.2px\" y2=\"48px\" /><svg width=\"2.72109%\" x=\"51.7007%\" y=\"48px\"><defs /><svg width=\"100%\" x=\"0\" y=\"0px\"><defs /><text text-anchor=\"middle\" x=\"50%\" y=\"16px\">of</text></svg><svg width=\"100%\" x=\"0%\" y=\"48px\"><defs /><svg width=\"100%\" x=\"0\" y=\"0px\"><defs /><text text-anchor=\"middle\" x=\"50%\" y=\"16px\">O</text></svg></svg><line stroke=\"black\" x1=\"50%\" x2=\"50%\" y1=\"19.2px\" y2=\"48px\" /></svg><line stroke=\"black\" x1=\"50%\" x2=\"53.0612%\" y1=\"19.2px\" y2=\"48px\" /><svg width=\"4.08163%\" x=\"54.4218%\" y=\"48px\"><defs /><svg width=\"100%\" x=\"0\" y=\"0px\"><defs /><text text-anchor=\"middle\" x=\"50%\" y=\"16px\">cnto</text></svg><svg width=\"100%\" x=\"0%\" y=\"48px\"><defs /><svg width=\"100%\" x=\"0\" y=\"0px\"><defs /><text text-anchor=\"middle\" x=\"50%\" y=\"16px\">O</text></svg></svg><line stroke=\"black\" x1=\"50%\" x2=\"50%\" y1=\"19.2px\" y2=\"48px\" /></svg><line stroke=\"black\" x1=\"50%\" x2=\"56.4626%\" y1=\"19.2px\" y2=\"48px\" /><svg width=\"4.08163%\" x=\"58.5034%\" y=\"48px\"><defs /><svg width=\"100%\" x=\"0\" y=\"0px\"><defs /><text text-anchor=\"middle\" x=\"50%\" y=\"16px\">NP</text></svg><svg width=\"100%\" x=\"0%\" y=\"48px\"><defs /><svg width=\"100%\" x=\"0\" y=\"0px\"><defs /><text text-anchor=\"middle\" x=\"50%\" y=\"16px\">1275</text></svg><svg width=\"100%\" x=\"0%\" y=\"48px\"><defs /><svg width=\"100%\" x=\"0\" y=\"0px\"><defs /><text text-anchor=\"middle\" x=\"50%\" y=\"16px\">C2E</text></svg></svg><line stroke=\"black\" x1=\"50%\" x2=\"50%\" y1=\"19.2px\" y2=\"48px\" /></svg><line stroke=\"black\" x1=\"50%\" x2=\"50%\" y1=\"19.2px\" y2=\"48px\" /></svg><line stroke=\"black\" x1=\"50%\" x2=\"60.5442%\" y1=\"19.2px\" y2=\"48px\" /><svg width=\"2.72109%\" x=\"62.585%\" y=\"48px\"><defs /><svg width=\"100%\" x=\"0\" y=\"0px\"><defs /><text text-anchor=\"middle\" x=\"50%\" y=\"16px\">in</text></svg><svg width=\"100%\" x=\"0%\" y=\"48px\"><defs /><svg width=\"100%\" x=\"0\" y=\"0px\"><defs /><text text-anchor=\"middle\" x=\"50%\" y=\"16px\">O</text></svg></svg><line stroke=\"black\" x1=\"50%\" x2=\"50%\" y1=\"19.2px\" y2=\"48px\" /></svg><line stroke=\"black\" x1=\"50%\" x2=\"63.9456%\" y1=\"19.2px\" y2=\"48px\" /><svg width=\"9.52381%\" x=\"65.3061%\" y=\"48px\"><defs /><svg width=\"100%\" x=\"0\" y=\"0px\"><defs /><text text-anchor=\"middle\" x=\"50%\" y=\"16px\">participants</text></svg><svg width=\"100%\" x=\"0%\" y=\"48px\"><defs /><svg width=\"100%\" x=\"0\" y=\"0px\"><defs /><text text-anchor=\"middle\" x=\"50%\" y=\"16px\">O</text></svg></svg><line stroke=\"black\" x1=\"50%\" x2=\"50%\" y1=\"19.2px\" y2=\"48px\" /></svg><line stroke=\"black\" x1=\"50%\" x2=\"70.068%\" y1=\"19.2px\" y2=\"48px\" /><svg width=\"4.08163%\" x=\"74.8299%\" y=\"48px\"><defs /><svg width=\"100%\" x=\"0\" y=\"0px\"><defs /><text text-anchor=\"middle\" x=\"50%\" y=\"16px\">with</text></svg><svg width=\"100%\" x=\"0%\" y=\"48px\"><defs /><svg width=\"100%\" x=\"0\" y=\"0px\"><defs /><text text-anchor=\"middle\" x=\"50%\" y=\"16px\">O</text></svg></svg><line stroke=\"black\" x1=\"50%\" x2=\"50%\" y1=\"19.2px\" y2=\"48px\" /></svg><line stroke=\"black\" x1=\"50%\" x2=\"76.8707%\" y1=\"19.2px\" y2=\"48px\" /><svg width=\"5.44218%\" x=\"78.9116%\" y=\"48px\"><defs /><svg width=\"100%\" x=\"0\" y=\"0px\"><defs /><text text-anchor=\"middle\" x=\"50%\" y=\"16px\">active</text></svg><svg width=\"100%\" x=\"0%\" y=\"48px\"><defs /><svg width=\"100%\" x=\"0\" y=\"0px\"><defs /><text text-anchor=\"middle\" x=\"50%\" y=\"16px\">O</text></svg></svg><line stroke=\"black\" x1=\"50%\" x2=\"50%\" y1=\"19.2px\" y2=\"48px\" /></svg><line stroke=\"black\" x1=\"50%\" x2=\"81.6327%\" y1=\"19.2px\" y2=\"48px\" /><svg width=\"4.7619%\" x=\"84.3537%\" y=\"48px\"><defs /><svg width=\"100%\" x=\"0\" y=\"0px\"><defs /><text text-anchor=\"middle\" x=\"50%\" y=\"16px\">crohn</text></svg><svg width=\"100%\" x=\"0%\" y=\"48px\"><defs /><svg width=\"100%\" x=\"0\" y=\"0px\"><defs /><text text-anchor=\"middle\" x=\"50%\" y=\"16px\">O</text></svg></svg><line stroke=\"black\" x1=\"50%\" x2=\"50%\" y1=\"19.2px\" y2=\"48px\" /></svg><line stroke=\"black\" x1=\"50%\" x2=\"86.7347%\" y1=\"19.2px\" y2=\"48px\" /><svg width=\"2.72109%\" x=\"89.1156%\" y=\"48px\"><defs /><svg width=\"100%\" x=\"0\" y=\"0px\"><defs /><text text-anchor=\"middle\" x=\"50%\" y=\"16px\">'s</text></svg><svg width=\"100%\" x=\"0%\" y=\"48px\"><defs /><svg width=\"100%\" x=\"0\" y=\"0px\"><defs /><text text-anchor=\"middle\" x=\"50%\" y=\"16px\">O</text></svg></svg><line stroke=\"black\" x1=\"50%\" x2=\"50%\" y1=\"19.2px\" y2=\"48px\" /></svg><line stroke=\"black\" x1=\"50%\" x2=\"90.4762%\" y1=\"19.2px\" y2=\"48px\" /><svg width=\"6.12245%\" x=\"91.8367%\" y=\"48px\"><defs /><svg width=\"100%\" x=\"0\" y=\"0px\"><defs /><text text-anchor=\"middle\" x=\"50%\" y=\"16px\">disease</text></svg><svg width=\"100%\" x=\"0%\" y=\"48px\"><defs /><svg width=\"100%\" x=\"0\" y=\"0px\"><defs /><text text-anchor=\"middle\" x=\"50%\" y=\"16px\">O</text></svg></svg><line stroke=\"black\" x1=\"50%\" x2=\"50%\" y1=\"19.2px\" y2=\"48px\" /></svg><line stroke=\"black\" x1=\"50%\" x2=\"94.898%\" y1=\"19.2px\" y2=\"48px\" /><svg width=\"2.04082%\" x=\"97.9592%\" y=\"48px\"><defs /><svg width=\"100%\" x=\"0\" y=\"0px\"><defs /><text text-anchor=\"middle\" x=\"50%\" y=\"16px\">.</text></svg><svg width=\"100%\" x=\"0%\" y=\"48px\"><defs /><svg width=\"100%\" x=\"0\" y=\"0px\"><defs /><text text-anchor=\"middle\" x=\"50%\" y=\"16px\">O</text></svg></svg><line stroke=\"black\" x1=\"50%\" x2=\"50%\" y1=\"19.2px\" y2=\"48px\" /></svg><line stroke=\"black\" x1=\"50%\" x2=\"98.9796%\" y1=\"19.2px\" y2=\"48px\" /></svg>"
     },
     "execution_count": 51,
     "metadata": {},
     "output_type": "execute_result"
    }
   ],
   "execution_count": 51
  },
  {
   "cell_type": "code",
   "id": "e1bf357629f2bb08",
   "metadata": {
    "collapsed": false,
    "ExecuteTime": {
     "end_time": "2024-04-08T02:37:46.514154Z",
     "start_time": "2024-04-08T02:37:46.320654Z"
    }
   },
   "source": [
    "raw_synonym_maps = build_features.get_synonym_maps(synonyms_df, clean_up_terms=False)\n",
    "raw_terms_by_preferred_name = raw_synonym_maps['terms_by_preferred_name']"
   ],
   "outputs": [],
   "execution_count": 52
  },
  {
   "cell_type": "code",
   "id": "e9598f5a7bbf4e12",
   "metadata": {
    "collapsed": false,
    "ExecuteTime": {
     "end_time": "2024-04-08T02:37:46.517926Z",
     "start_time": "2024-04-08T02:37:46.514927Z"
    }
   },
   "source": [
    "_pref_name = 'ustekinumab'\n",
    "for term in raw_terms_by_preferred_name[_pref_name]:\n",
    "    if term in _sum_raw:\n",
    "        print(term)\n",
    "raw_terms_by_preferred_name[_pref_name]"
   ],
   "outputs": [
    {
     "data": {
      "text/plain": [
       "array(['cnto 1275', 'cnto-1275', 'stelara', 'ustekinumab'], dtype=object)"
      ]
     },
     "execution_count": 53,
     "metadata": {},
     "output_type": "execute_result"
    }
   ],
   "execution_count": 53
  },
  {
   "cell_type": "code",
   "id": "d35d74d89403d516",
   "metadata": {
    "collapsed": false,
    "ExecuteTime": {
     "end_time": "2024-04-08T02:37:46.520103Z",
     "start_time": "2024-04-08T02:37:46.518680Z"
    }
   },
   "source": [],
   "outputs": [],
   "execution_count": 53
  },
  {
   "cell_type": "markdown",
   "id": "35e2a26f-e4a2-481b-a3b9-ba0a3b7b28dc",
   "metadata": {
    "collapsed": false
   },
   "source": [
    "# Save"
   ]
  },
  {
   "cell_type": "code",
   "id": "f7b08eff-c4ff-4629-b53d-801e8bfb618f",
   "metadata": {
    "ExecuteTime": {
     "end_time": "2024-04-08T02:37:46.527694Z",
     "start_time": "2024-04-08T02:37:46.520881Z"
    }
   },
   "source": "test_df.to_parquet(config['extraction_nltk_file_name'], index=False) ",
   "outputs": [],
   "execution_count": 54
  },
  {
   "cell_type": "code",
   "source": "",
   "metadata": {
    "collapsed": false,
    "ExecuteTime": {
     "end_time": "2024-04-08T02:38:21.391465Z",
     "start_time": "2024-04-08T02:38:21.389317Z"
    }
   },
   "id": "bb0a9b336d542695",
   "outputs": [],
   "execution_count": 55
  },
  {
   "metadata": {},
   "cell_type": "code",
   "outputs": [],
   "execution_count": null,
   "source": "",
   "id": "35f145c88c32f260"
  }
 ],
 "metadata": {
  "kernelspec": {
   "display_name": "Python 3 (ipykernel)",
   "language": "python",
   "name": "python3"
  },
  "language_info": {
   "codemirror_mode": {
    "name": "ipython",
    "version": 3
   },
   "file_extension": ".py",
   "mimetype": "text/x-python",
   "name": "python",
   "nbconvert_exporter": "python",
   "pygments_lexer": "ipython3",
   "version": "3.10.13"
  }
 },
 "nbformat": 4,
 "nbformat_minor": 5
}
