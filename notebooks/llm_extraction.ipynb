{
 "cells": [
  {
   "cell_type": "code",
   "execution_count": 1,
   "id": "initial_id",
   "metadata": {
    "collapsed": true,
    "ExecuteTime": {
     "end_time": "2024-03-19T01:18:32.635323Z",
     "start_time": "2024-03-19T01:18:31.559357Z"
    }
   },
   "outputs": [],
   "source": [
    "from typing import List\n",
    "\n",
    "import json\n",
    "from langchain_google_genai import GoogleGenerativeAI\n",
    "from langchain.prompts import PromptTemplate, MessagesPlaceholder, ChatPromptTemplate\n",
    "from langchain.output_parsers import PydanticOutputParser\n",
    "from langchain_core.messages import (\n",
    "    AIMessage,\n",
    "    BaseMessage,\n",
    "    HumanMessage,\n",
    "    SystemMessage,\n",
    "    ToolMessage,\n",
    ")\n",
    "from langchain_core.pydantic_v1 import BaseModel, Field, validator\n",
    "import pandas as pd\n",
    "from tqdm.notebook import tqdm\n",
    "\n",
    "import util"
   ]
  },
  {
   "cell_type": "code",
   "outputs": [],
   "source": [
    "from getpass import getpass\n",
    "\n",
    "api_key = getpass()"
   ],
   "metadata": {
    "collapsed": false,
    "ExecuteTime": {
     "end_time": "2024-03-19T01:18:44.429103Z",
     "start_time": "2024-03-19T01:18:42.456844Z"
    }
   },
   "id": "4c5473f1585b99b6",
   "execution_count": 3
  },
  {
   "cell_type": "code",
   "outputs": [],
   "source": [
    "data_config = util.get_data_config()"
   ],
   "metadata": {
    "collapsed": false,
    "ExecuteTime": {
     "end_time": "2024-03-19T01:19:05.270705Z",
     "start_time": "2024-03-19T01:19:05.265710Z"
    }
   },
   "id": "56bb21fdcbeffef8",
   "execution_count": 9
  },
  {
   "cell_type": "code",
   "outputs": [],
   "source": [
    "llm_config = {\n",
    "    'temperature': 0.,\n",
    "}\n"
   ],
   "metadata": {
    "collapsed": false,
    "ExecuteTime": {
     "end_time": "2024-03-19T01:19:05.769457Z",
     "start_time": "2024-03-19T01:19:05.767021Z"
    }
   },
   "id": "687ea25c87db19f0",
   "execution_count": 10
  },
  {
   "cell_type": "code",
   "outputs": [],
   "source": [
    "llm = GoogleGenerativeAI(model='gemini-1.0-pro', google_api_key=api_key, **llm_config)"
   ],
   "metadata": {
    "collapsed": false,
    "ExecuteTime": {
     "end_time": "2024-03-19T01:19:06.186370Z",
     "start_time": "2024-03-19T01:19:06.181667Z"
    }
   },
   "id": "7903152d1c0d927d",
   "execution_count": 11
  },
  {
   "cell_type": "code",
   "outputs": [
    {
     "data": {
      "text/plain": "GoogleGenerativeAI(model='gemini-1.0-pro', google_api_key=SecretStr('**********'), temperature=0.0, client=genai.GenerativeModel(\n    model_name='models/gemini-1.0-pro',\n    generation_config={},\n    safety_settings={},\n    tools=None,\n))"
     },
     "execution_count": 12,
     "metadata": {},
     "output_type": "execute_result"
    }
   ],
   "source": [
    "llm"
   ],
   "metadata": {
    "collapsed": false,
    "ExecuteTime": {
     "end_time": "2024-03-19T01:19:06.561369Z",
     "start_time": "2024-03-19T01:19:06.557763Z"
    }
   },
   "id": "228f3d2995aba83",
   "execution_count": 12
  },
  {
   "cell_type": "markdown",
   "source": [
    "# Load Data"
   ],
   "metadata": {
    "collapsed": false
   },
   "id": "14e3247c74b43c85"
  },
  {
   "cell_type": "code",
   "outputs": [
    {
     "data": {
      "text/plain": "(51, 2)"
     },
     "execution_count": 13,
     "metadata": {},
     "output_type": "execute_result"
    }
   ],
   "source": [
    "summaries = pd.read_parquet(data_config['summaries_file_name'])\n",
    "summaries.shape"
   ],
   "metadata": {
    "collapsed": false,
    "ExecuteTime": {
     "end_time": "2024-03-19T01:19:07.300780Z",
     "start_time": "2024-03-19T01:19:07.282659Z"
    }
   },
   "id": "d2d515373296bd4a",
   "execution_count": 13
  },
  {
   "cell_type": "code",
   "outputs": [
    {
     "data": {
      "text/plain": "        nct_id                                      brief_summary\n0  NCT00037648  The purpose of this study is to determine the ...\n1  NCT00048542  This is a multicenter, Phase 3 randomized, pla...\n2  NCT00071487  The purpose of this study is to evaluate the s...\n3  NCT00071812  The purpose of this study is to evaluate the s...\n4  NCT00072839  The purpose of the study is to determine wheth...",
      "text/html": "<div>\n<style scoped>\n    .dataframe tbody tr th:only-of-type {\n        vertical-align: middle;\n    }\n\n    .dataframe tbody tr th {\n        vertical-align: top;\n    }\n\n    .dataframe thead th {\n        text-align: right;\n    }\n</style>\n<table border=\"1\" class=\"dataframe\">\n  <thead>\n    <tr style=\"text-align: right;\">\n      <th></th>\n      <th>nct_id</th>\n      <th>brief_summary</th>\n    </tr>\n  </thead>\n  <tbody>\n    <tr>\n      <th>0</th>\n      <td>NCT00037648</td>\n      <td>The purpose of this study is to determine the ...</td>\n    </tr>\n    <tr>\n      <th>1</th>\n      <td>NCT00048542</td>\n      <td>This is a multicenter, Phase 3 randomized, pla...</td>\n    </tr>\n    <tr>\n      <th>2</th>\n      <td>NCT00071487</td>\n      <td>The purpose of this study is to evaluate the s...</td>\n    </tr>\n    <tr>\n      <th>3</th>\n      <td>NCT00071812</td>\n      <td>The purpose of this study is to evaluate the s...</td>\n    </tr>\n    <tr>\n      <th>4</th>\n      <td>NCT00072839</td>\n      <td>The purpose of the study is to determine wheth...</td>\n    </tr>\n  </tbody>\n</table>\n</div>"
     },
     "execution_count": 14,
     "metadata": {},
     "output_type": "execute_result"
    }
   ],
   "source": [
    "summaries.head()"
   ],
   "metadata": {
    "collapsed": false,
    "ExecuteTime": {
     "end_time": "2024-03-19T01:19:07.770957Z",
     "start_time": "2024-03-19T01:19:07.764465Z"
    }
   },
   "id": "a94ffcd327de33cd",
   "execution_count": 14
  },
  {
   "cell_type": "code",
   "outputs": [
    {
     "data": {
      "text/plain": "        preferred_name                                           synonyms\nid                                                                       \n4.0    levobupivacaine  [chirocain, levobupivacaine, levobupivacaine H...\n5.0    (S)-nicardipine  [(-)-Nicardipine, (-)-nicardipine, (S)-nicardi...\n6.0   (S)-nitrendipine  [(-)-Nitrendipine, (-)-nitrendipine, (S)-nitre...\n13.0     levdobutamine  [LY206243, levdobutamine, levdobutamine lactob...\n21.0       aminopterin  [4-aminofolic acid, Aminofolic acid, 4-, amino...",
      "text/html": "<div>\n<style scoped>\n    .dataframe tbody tr th:only-of-type {\n        vertical-align: middle;\n    }\n\n    .dataframe tbody tr th {\n        vertical-align: top;\n    }\n\n    .dataframe thead th {\n        text-align: right;\n    }\n</style>\n<table border=\"1\" class=\"dataframe\">\n  <thead>\n    <tr style=\"text-align: right;\">\n      <th></th>\n      <th>preferred_name</th>\n      <th>synonyms</th>\n    </tr>\n    <tr>\n      <th>id</th>\n      <th></th>\n      <th></th>\n    </tr>\n  </thead>\n  <tbody>\n    <tr>\n      <th>4.0</th>\n      <td>levobupivacaine</td>\n      <td>[chirocain, levobupivacaine, levobupivacaine H...</td>\n    </tr>\n    <tr>\n      <th>5.0</th>\n      <td>(S)-nicardipine</td>\n      <td>[(-)-Nicardipine, (-)-nicardipine, (S)-nicardi...</td>\n    </tr>\n    <tr>\n      <th>6.0</th>\n      <td>(S)-nitrendipine</td>\n      <td>[(-)-Nitrendipine, (-)-nitrendipine, (S)-nitre...</td>\n    </tr>\n    <tr>\n      <th>13.0</th>\n      <td>levdobutamine</td>\n      <td>[LY206243, levdobutamine, levdobutamine lactob...</td>\n    </tr>\n    <tr>\n      <th>21.0</th>\n      <td>aminopterin</td>\n      <td>[4-aminofolic acid, Aminofolic acid, 4-, amino...</td>\n    </tr>\n  </tbody>\n</table>\n</div>"
     },
     "execution_count": 15,
     "metadata": {},
     "output_type": "execute_result"
    }
   ],
   "source": [
    "synonyms_df = pd.read_parquet(data_config['processed_synonyms_file_name'])\n",
    "synonyms_df.head()"
   ],
   "metadata": {
    "collapsed": false,
    "ExecuteTime": {
     "end_time": "2024-03-19T01:19:08.270139Z",
     "start_time": "2024-03-19T01:19:08.252835Z"
    }
   },
   "id": "fdebea0dbc841fc5",
   "execution_count": 15
  },
  {
   "cell_type": "code",
   "outputs": [],
   "source": [
    "with open(data_config['ground_truth_raw_file_name'], 'r') as fin:\n",
    "    ground_truth = json.loads(fin.read())\n",
    "    \n",
    "with open(data_config['ground_truth_cleaned_file_name'], 'r') as fin:\n",
    "    ground_truth_cleaned = json.loads(fin.read())"
   ],
   "metadata": {
    "collapsed": false,
    "ExecuteTime": {
     "end_time": "2024-03-19T01:19:08.777500Z",
     "start_time": "2024-03-19T01:19:08.774595Z"
    }
   },
   "id": "fdec628ae7cbb348",
   "execution_count": 16
  },
  {
   "cell_type": "markdown",
   "source": [
    "# Prompt without examples"
   ],
   "metadata": {
    "collapsed": false
   },
   "id": "fe91abc19887eb28"
  },
  {
   "cell_type": "code",
   "outputs": [],
   "source": [
    "class Drug(BaseModel):\n",
    "    \"\"\"Information about a drug. Placebo is not a drug.\"\"\"\n",
    "    name: str = Field(..., description='The name of the drug')\n",
    "\n",
    "class Drugs(BaseModel):\n",
    "    \"\"\"Identifying information about all drugs in a text.\"\"\"\n",
    "    drugs: List[Drug]\n",
    "\n",
    "class Disease(BaseModel):\n",
    "    \"\"\"Information about a disease.\"\"\"\n",
    "    name: str = Field(..., description='The name of the disease')\n",
    "\n",
    "class Data(BaseModel):\n",
    "    \"\"\"Identifying information about all drugs and diseases in a text.\"\"\"\n",
    "    drugs: List[Drug]\n",
    "    diseases: List[Disease]\n",
    "\n",
    "def get_prompt_messages(with_examples: bool = False):\n",
    "    messages = [\n",
    "        (\n",
    "            'system',\n",
    "            'You are an expert extraction algorithm. '\n",
    "            'Only extract relevant information from the text. '\n",
    "            ' The text is a brief summary text of a clinical trial. '\n",
    "            'If you do not know the value of an attribute asked to extract, '\n",
    "            \"return null for the attribute's value. Wrap the output in `json` tags\\n{format_instructions}\",\n",
    "        ),\n",
    "    ]\n",
    "    if with_examples:\n",
    "        messages.append(MessagesPlaceholder('examples'))\n",
    "    \n",
    "    messages.append(('human', '{text}'))\n",
    "    return messages\n",
    "\n",
    "\n",
    "def score(chain, example_messages=None):\n",
    "    all_responses = []\n",
    "    extracted = []\n",
    "    for _, row in tqdm(summaries.iterrows(), total=summaries.shape[0]):\n",
    "        text = row['brief_summary']\n",
    "        \n",
    "        chain_input = {'text': text}\n",
    "        if example_messages is not None:\n",
    "            chain_input['examples'] = example_messages\n",
    "        response = chain.invoke(chain_input)\n",
    "        all_responses.append(response)\n",
    "        drugs = response.drugs\n",
    "        drug_names = [drug.name for drug in drugs]\n",
    "        extracted.append(drug_names)\n",
    "        print(drug_names)\n",
    "    return all_responses, extracted\n",
    "\n",
    "\n",
    "def evaluate(summaries_df: pd.DataFrame, extracted: list[list[str]], preferred_name_by_term: dict[str, str]) -> pd.DataFrame:\n",
    "    df = summaries_df.copy()\n",
    "\n",
    "    # Clean up extracted text to match synonyms.\n",
    "    df['extracted_terms_raw'] = extracted\n",
    "    df['extracted_terms_cleaned'] = df['extracted_terms_raw'].map(lambda terms: [util.clean_up_synonym_term(term) for term in terms])\n",
    "    \n",
    "    extractive_terms_preferred_names = []\n",
    "    for terms in df['extracted_terms_cleaned']:\n",
    "        terms_preferred_names = []\n",
    "        for term in terms:\n",
    "            if term in preferred_name_by_term:\n",
    "                terms_preferred_names.append(preferred_name_by_term[term])\n",
    "        extractive_terms_preferred_names.append(terms_preferred_names)\n",
    "    \n",
    "    df['extracted_terms'] = extractive_terms_preferred_names\n",
    "    \n",
    "    # df['extracted_terms'] = extracted\n",
    "    df['gt_cleaned'] = df.nct_id.map(lambda x: ground_truth_cleaned[x])\n",
    "    df['match_count'] = df.apply(lambda row: len(set(row['extracted_terms']).intersection(set(row['gt_cleaned']))), axis=1)\n",
    "    df['extracted_terms_count'] = df['extracted_terms'].map(len)\n",
    "    df['gt_cleaned_count'] = df['gt_cleaned'].map(len)\n",
    "    \n",
    "    true_positive_count = df['match_count'].sum()\n",
    "    precision = true_positive_count / df['extracted_terms_count'].sum()\n",
    "    recall = true_positive_count / df['gt_cleaned_count'].sum()\n",
    "    print(f'Precision: {precision: .2%}')\n",
    "    print(f'Recall: {recall: .2%}')\n",
    "    return df\n"
   ],
   "metadata": {
    "collapsed": false,
    "ExecuteTime": {
     "end_time": "2024-03-19T01:19:09.567197Z",
     "start_time": "2024-03-19T01:19:09.557607Z"
    }
   },
   "id": "a445c6e7ca0a5b11",
   "execution_count": 17
  },
  {
   "cell_type": "code",
   "outputs": [],
   "source": [
    "# Set up a parser and prompt\n",
    "parser = PydanticOutputParser(pydantic_object=Drugs)\n",
    "\n",
    "prompt = ChatPromptTemplate.from_messages(\n",
    "  get_prompt_messages(with_examples=False)\n",
    ").partial(format_instructions=parser.get_format_instructions())"
   ],
   "metadata": {
    "collapsed": false,
    "ExecuteTime": {
     "end_time": "2024-03-19T01:19:09.985304Z",
     "start_time": "2024-03-19T01:19:09.982008Z"
    }
   },
   "id": "622d5103fac06ca",
   "execution_count": 18
  },
  {
   "cell_type": "code",
   "outputs": [],
   "source": [],
   "metadata": {
    "collapsed": false,
    "ExecuteTime": {
     "end_time": "2024-03-19T01:19:10.263035Z",
     "start_time": "2024-03-19T01:19:10.261132Z"
    }
   },
   "id": "694e28a5858d089f",
   "execution_count": 18
  },
  {
   "cell_type": "code",
   "outputs": [],
   "source": [
    "text = summaries['brief_summary'].iloc[0] "
   ],
   "metadata": {
    "collapsed": false,
    "ExecuteTime": {
     "end_time": "2024-03-19T01:19:12.683799Z",
     "start_time": "2024-03-19T01:19:12.680062Z"
    }
   },
   "id": "20b4ce165d7798ff",
   "execution_count": 19
  },
  {
   "cell_type": "code",
   "outputs": [
    {
     "name": "stdout",
     "output_type": "stream",
     "text": [
      "System: You are an expert extraction algorithm. Only extract relevant information from the text.  The text is a brief summary text of a clinical trial. If you do not know the value of an attribute asked to extract, return null for the attribute's value. Wrap the output in `json` tags\n",
      "The output should be formatted as a JSON instance that conforms to the JSON schema below.\n",
      "\n",
      "As an example, for the schema {\"properties\": {\"foo\": {\"title\": \"Foo\", \"description\": \"a list of strings\", \"type\": \"array\", \"items\": {\"type\": \"string\"}}}, \"required\": [\"foo\"]}\n",
      "the object {\"foo\": [\"bar\", \"baz\"]} is a well-formatted instance of the schema. The object {\"properties\": {\"foo\": [\"bar\", \"baz\"]}} is not well-formatted.\n",
      "\n",
      "Here is the output schema:\n",
      "```\n",
      "{\"description\": \"Identifying information about all drugs in a text.\", \"properties\": {\"drugs\": {\"title\": \"Drugs\", \"type\": \"array\", \"items\": {\"$ref\": \"#/definitions/Drug\"}}}, \"required\": [\"drugs\"], \"definitions\": {\"Drug\": {\"title\": \"Drug\", \"description\": \"Information about a drug. Placebo is not a drug.\", \"type\": \"object\", \"properties\": {\"name\": {\"title\": \"Name\", \"description\": \"The name of the drug\", \"type\": \"string\"}}, \"required\": [\"name\"]}}}\n",
      "```\n",
      "Human: The purpose of this study is to determine the safety of anakinra in patients with Polyarticular-Course Juvenile Rheumatoid Arthritis, a form of rheumatoid arthritis affecting children.\n"
     ]
    }
   ],
   "source": [
    "print(prompt.format_prompt(text=text).to_string())"
   ],
   "metadata": {
    "collapsed": false,
    "ExecuteTime": {
     "end_time": "2024-03-19T01:19:13.032112Z",
     "start_time": "2024-03-19T01:19:13.029031Z"
    }
   },
   "id": "dac508d3c5ebcc40",
   "execution_count": 20
  },
  {
   "cell_type": "code",
   "outputs": [
    {
     "data": {
      "text/plain": "Drugs(drugs=[Drug(name='anakinra')])"
     },
     "execution_count": 21,
     "metadata": {},
     "output_type": "execute_result"
    }
   ],
   "source": [
    "chain = prompt | llm | parser\n",
    "response = chain.invoke({'text': text})\n",
    "response"
   ],
   "metadata": {
    "collapsed": false,
    "ExecuteTime": {
     "end_time": "2024-03-19T01:19:16.485133Z",
     "start_time": "2024-03-19T01:19:14.456029Z"
    }
   },
   "id": "51ce1158c6050e21",
   "execution_count": 21
  },
  {
   "cell_type": "code",
   "outputs": [
    {
     "data": {
      "text/plain": "[Drug(name='anakinra')]"
     },
     "execution_count": 22,
     "metadata": {},
     "output_type": "execute_result"
    }
   ],
   "source": [
    "response.drugs"
   ],
   "metadata": {
    "collapsed": false,
    "ExecuteTime": {
     "end_time": "2024-03-19T01:19:19.764813Z",
     "start_time": "2024-03-19T01:19:19.760699Z"
    }
   },
   "id": "edf881c7b068d07b",
   "execution_count": 22
  },
  {
   "cell_type": "code",
   "outputs": [
    {
     "data": {
      "text/plain": "  0%|          | 0/51 [00:00<?, ?it/s]",
      "application/vnd.jupyter.widget-view+json": {
       "version_major": 2,
       "version_minor": 0,
       "model_id": "a73ac571b42c4205aeb5d97ad3122120"
      }
     },
     "metadata": {},
     "output_type": "display_data"
    },
    {
     "name": "stdout",
     "output_type": "stream",
     "text": [
      "['anakinra']\n",
      "['adalimumab', 'methotrexate']\n",
      "['belimumab']\n",
      "['belimumab']\n",
      "['ALX-0600']\n",
      "['rituximab', 'methotrexate', 'placebo']\n",
      "['etanercept']\n",
      "['etanercept']\n",
      "['Omalizumab']\n",
      "[]\n",
      "[]\n",
      "['BMS-188667']\n",
      "['mepolizumab']\n",
      "['tocilizumab', 'methotrexate', 'placebo']\n",
      "['tocilizumab', 'methotrexate', 'placebo']\n",
      "['tocilizumab', 'methotrexate', 'placebo']\n",
      "['tocilizumab', 'methotrexate', 'placebo']\n",
      "['AMN107', 'imatinib']\n",
      "['anakinra', 'placebo']\n",
      "['etanercept']\n",
      "['Abatacept', 'prednisone']\n",
      "['pimecrolimus cream 1%', 'topical corticosteroids (TCS)']\n",
      "['nitazoxanide', 'placebo']\n",
      "['rituximab', 'placebo']\n",
      "['etanercept']\n",
      "['prednisone MR', 'prednisone IR']\n",
      "['imatinib mesylate', 'prednisone', 'hydroxyurea', 'interferon-alpha']\n",
      "['Certolizumab Pegol']\n",
      "['adalimumab', 'methotrexate']\n",
      "['adalimumab', 'placebo', 'methotrexate']\n",
      "['Leukine']\n",
      "['sargramostim']\n",
      "['sargramostim']\n",
      "['Leukine']\n",
      "['Golimumab (CNTO 148)']\n",
      "['CNTO 148 (golimumab)']\n",
      "['UVADEX']\n",
      "['Adalimumab', 'Methotrexate', 'Placebo']\n",
      "['voclosporin', 'placebo']\n",
      "[]\n",
      "['CDP870', 'placebo']\n",
      "['Abatacept']\n",
      "['golimumab', 'methotrexate']\n",
      "['golimumab', 'methotrexate']\n",
      "['golimumab']\n",
      "['CNTO 1275']\n",
      "['anti-IL-5']\n",
      "['CNTO 1275 (ustekinumab)']\n",
      "['ustekinumab']\n",
      "['anti-TNF chimeric monoclonal antibody (cA2)', 'placebo']\n",
      "['anti-TNF chimeric monoclonal antibody (cA2)', 'placebo']\n"
     ]
    }
   ],
   "source": [
    "all_responses, extracted = score(chain)\n"
   ],
   "metadata": {
    "collapsed": false,
    "ExecuteTime": {
     "end_time": "2024-03-19T01:20:54.994344Z",
     "start_time": "2024-03-19T01:19:20.375733Z"
    }
   },
   "id": "a69e5c518c24e77a",
   "execution_count": 23
  },
  {
   "cell_type": "code",
   "outputs": [],
   "source": [
    "# all_responses = []\n",
    "# for _, row in tqdm(summaries.iterrows(), total=summaries.shape[0]):\n",
    "#     text = row['brief_summary']\n",
    "#     response = chain.invoke({'text': text})\n",
    "#     all_responses.append(response)"
   ],
   "metadata": {
    "collapsed": false,
    "ExecuteTime": {
     "end_time": "2024-03-19T01:20:55.000033Z",
     "start_time": "2024-03-19T01:20:54.996764Z"
    }
   },
   "id": "9a17338080e64cee",
   "execution_count": 24
  },
  {
   "cell_type": "code",
   "outputs": [],
   "source": [
    "# extracted = []\n",
    "# for response in all_responses:\n",
    "#     drugs = response.drugs\n",
    "#     drug_names = [drug.name for drug in drugs]\n",
    "#     extracted.append(drug_names)\n"
   ],
   "metadata": {
    "collapsed": false,
    "ExecuteTime": {
     "end_time": "2024-03-19T01:20:55.008704Z",
     "start_time": "2024-03-19T01:20:55.001590Z"
    }
   },
   "id": "966516c4312e5e45",
   "execution_count": 25
  },
  {
   "cell_type": "code",
   "outputs": [],
   "source": [
    "synonym_maps = util.get_synonym_maps(synonyms_df)\n",
    "preferred_name_by_term = synonym_maps['preferred_name_by_term']"
   ],
   "metadata": {
    "collapsed": false,
    "ExecuteTime": {
     "end_time": "2024-03-19T01:20:55.219815Z",
     "start_time": "2024-03-19T01:20:55.011045Z"
    }
   },
   "id": "db8e3edd43e6eeed",
   "execution_count": 26
  },
  {
   "cell_type": "code",
   "outputs": [
    {
     "name": "stdout",
     "output_type": "stream",
     "text": [
      "Precision:  100.00%\n",
      "Recall:  91.23%\n"
     ]
    }
   ],
   "source": [
    "test_df = evaluate(\n",
    "    summaries_df=summaries,\n",
    "    extracted=extracted,\n",
    "    preferred_name_by_term=preferred_name_by_term\n",
    ")"
   ],
   "metadata": {
    "collapsed": false,
    "ExecuteTime": {
     "end_time": "2024-03-19T01:20:55.225681Z",
     "start_time": "2024-03-19T01:20:55.220636Z"
    }
   },
   "id": "611be879b492a552",
   "execution_count": 27
  },
  {
   "cell_type": "markdown",
   "source": [],
   "metadata": {
    "collapsed": false
   },
   "id": "e178151a69a5041f"
  },
  {
   "cell_type": "code",
   "outputs": [],
   "source": [],
   "metadata": {
    "collapsed": false,
    "ExecuteTime": {
     "end_time": "2024-03-19T01:20:55.228301Z",
     "start_time": "2024-03-19T01:20:55.226543Z"
    }
   },
   "id": "a9a6871a86cbbe81",
   "execution_count": 27
  },
  {
   "cell_type": "code",
   "outputs": [
    {
     "data": {
      "text/plain": "         nct_id                                      brief_summary  \\\n21  NCT00120523  The primary purpose of this study is to invest...   \n25  NCT00146640  The objective of this study is to investigate ...   \n34  NCT00207714  Multicenter, randomized, double-blind, placebo...   \n35  NCT00207740  The purpose of this study is to evaluate the e...   \n47  NCT00267956  The purpose of this study is to evaluate the e...   \n\n                                  extracted_terms_raw  \\\n21  [pimecrolimus cream 1%, topical corticosteroid...   \n25                     [prednisone MR, prednisone IR]   \n34                             [Golimumab (CNTO 148)]   \n35                             [CNTO 148 (golimumab)]   \n47                          [CNTO 1275 (ustekinumab)]   \n\n                              extracted_terms_cleaned extracted_terms  \\\n21  [pimecrolimuscream1%, topicalcorticosteroids(t...              []   \n25                       [prednisonemr, prednisoneir]              []   \n34                               [golimumab(cnto148)]              []   \n35                               [cnto148(golimumab)]              []   \n47                            [cnto1275(ustekinumab)]              []   \n\n        gt_cleaned  match_count  extracted_terms_count  gt_cleaned_count  \n21  [pimecrolimus]            0                      0                 1  \n25    [prednisone]            0                      0                 1  \n34     [golimumab]            0                      0                 1  \n35     [golimumab]            0                      0                 1  \n47   [ustekinumab]            0                      0                 1  ",
      "text/html": "<div>\n<style scoped>\n    .dataframe tbody tr th:only-of-type {\n        vertical-align: middle;\n    }\n\n    .dataframe tbody tr th {\n        vertical-align: top;\n    }\n\n    .dataframe thead th {\n        text-align: right;\n    }\n</style>\n<table border=\"1\" class=\"dataframe\">\n  <thead>\n    <tr style=\"text-align: right;\">\n      <th></th>\n      <th>nct_id</th>\n      <th>brief_summary</th>\n      <th>extracted_terms_raw</th>\n      <th>extracted_terms_cleaned</th>\n      <th>extracted_terms</th>\n      <th>gt_cleaned</th>\n      <th>match_count</th>\n      <th>extracted_terms_count</th>\n      <th>gt_cleaned_count</th>\n    </tr>\n  </thead>\n  <tbody>\n    <tr>\n      <th>21</th>\n      <td>NCT00120523</td>\n      <td>The primary purpose of this study is to invest...</td>\n      <td>[pimecrolimus cream 1%, topical corticosteroid...</td>\n      <td>[pimecrolimuscream1%, topicalcorticosteroids(t...</td>\n      <td>[]</td>\n      <td>[pimecrolimus]</td>\n      <td>0</td>\n      <td>0</td>\n      <td>1</td>\n    </tr>\n    <tr>\n      <th>25</th>\n      <td>NCT00146640</td>\n      <td>The objective of this study is to investigate ...</td>\n      <td>[prednisone MR, prednisone IR]</td>\n      <td>[prednisonemr, prednisoneir]</td>\n      <td>[]</td>\n      <td>[prednisone]</td>\n      <td>0</td>\n      <td>0</td>\n      <td>1</td>\n    </tr>\n    <tr>\n      <th>34</th>\n      <td>NCT00207714</td>\n      <td>Multicenter, randomized, double-blind, placebo...</td>\n      <td>[Golimumab (CNTO 148)]</td>\n      <td>[golimumab(cnto148)]</td>\n      <td>[]</td>\n      <td>[golimumab]</td>\n      <td>0</td>\n      <td>0</td>\n      <td>1</td>\n    </tr>\n    <tr>\n      <th>35</th>\n      <td>NCT00207740</td>\n      <td>The purpose of this study is to evaluate the e...</td>\n      <td>[CNTO 148 (golimumab)]</td>\n      <td>[cnto148(golimumab)]</td>\n      <td>[]</td>\n      <td>[golimumab]</td>\n      <td>0</td>\n      <td>0</td>\n      <td>1</td>\n    </tr>\n    <tr>\n      <th>47</th>\n      <td>NCT00267956</td>\n      <td>The purpose of this study is to evaluate the e...</td>\n      <td>[CNTO 1275 (ustekinumab)]</td>\n      <td>[cnto1275(ustekinumab)]</td>\n      <td>[]</td>\n      <td>[ustekinumab]</td>\n      <td>0</td>\n      <td>0</td>\n      <td>1</td>\n    </tr>\n  </tbody>\n</table>\n</div>"
     },
     "execution_count": 28,
     "metadata": {},
     "output_type": "execute_result"
    }
   ],
   "source": [
    "test_df[test_df['match_count'] != test_df['gt_cleaned_count']]"
   ],
   "metadata": {
    "collapsed": false,
    "ExecuteTime": {
     "end_time": "2024-03-19T01:20:55.239092Z",
     "start_time": "2024-03-19T01:20:55.229224Z"
    }
   },
   "id": "b4a3dcdd9ee08c32",
   "execution_count": 28
  },
  {
   "cell_type": "markdown",
   "source": [
    "The issue lies on the extracted data cleanup phase. The LLM recognizes all the drugs in the (small) dataset, but it extracts a bit more text, ex. `CNTO 1275 (ustekinumab)`. The nltk approach considers this two instances of the drug name.\n",
    "\n",
    "Several false positives have been removed by the cleanup phase above.\n",
    "\n",
    "A Retrieval step on a datastore built on top of the synonyms could help clean up the data in a better fashion."
   ],
   "metadata": {
    "collapsed": false
   },
   "id": "bfab92dc578b3bca"
  },
  {
   "cell_type": "markdown",
   "source": [
    "# Add examples "
   ],
   "metadata": {
    "collapsed": false
   },
   "id": "a3ee2649d90bdea0"
  },
  {
   "cell_type": "code",
   "outputs": [],
   "source": [
    "examples = [\n",
    "    (\n",
    "        'The purpose of this study is to assess the safety and tolerability of CNTO 5825 following a single intravenous (IV) or subcutaneous (SC) dose administration in healthy volunteers.',\n",
    "        '```json\\n{\\n  \"drugs\": [\\n    {\\n      \"name\": \"CNTO 5825\"\\n    }\\n  ]\\n}\\n```',\n",
    "    ),\n",
    "    (\n",
    "        'The purpose of Part 1 of this study is to assess the safety and tolerability of 2 dose levels (1.4 and 2.8 mg/kg) of CHO-derived CNTO 328 and Sp2/0-derived CNTO 328. The purpose of Part 2 of this study is to access the pharmacokinetics (what the body does to the study medication) comparability of the 1.4 mg/kg dose of CHO-derived CNTO 328 and Sp2/0-derived CNTO 328.',\n",
    "        '```json\\n{\\n  \"drugs\": [\\n    {\\n      \"name\": \"CNTO 328 (CHO-derived)\"\\n    },\\n    {\\n      \"name\": \"CNTO 328 (Sp2/0-derived)\"\\n    }\\n  ]\\n}\\n```'\n",
    "    ),\n",
    "    (\n",
    "        '''The purpose of this study is to:\n",
    "\n",
    "Evaluate the efficacy of Adapalene gel 0.3% compared to Tretinoin Emollient cream 0.05%, reducing signs of cutaneous photoageing, measured trough photonumeric scale evaluation, investigator evaluation of global response to treatment and subject's evaluation of improvement.\n",
    "Evaluate the safety and tolerability of Adapalene Gel 0.3%, compared to Tretinoin Emollient cream 0.05% during 24 weeks of treatment.\n",
    "The study has the clinical hypothesis that Adapalene Gel 0.3% is as effective as Tretinoin Emollient cream 0.05% in the treatment of cutaneous photoaging.''',\n",
    "        '```json\\n{\\n  \"drugs\": [\\n    {\\n      \"name\": \"Adapalene\"\\n    },\\n    {\\n      \"name\": \"Tretinoin Emollient cream 0.05%\"\\n    }\\n  ]\\n}\\n```'\n",
    "    )\n",
    "]"
   ],
   "metadata": {
    "collapsed": false,
    "ExecuteTime": {
     "end_time": "2024-03-19T01:20:55.243685Z",
     "start_time": "2024-03-19T01:20:55.239929Z"
    }
   },
   "id": "9f72d89805116b4a",
   "execution_count": 29
  },
  {
   "cell_type": "code",
   "outputs": [],
   "source": [
    "def example_to_messages(example):\n",
    "    messages: List[BaseMessage] = [HumanMessage(content=example[0])]\n",
    "    messages.append(AIMessage(content=example[1]))\n",
    "    return messages\n",
    "    "
   ],
   "metadata": {
    "collapsed": false,
    "ExecuteTime": {
     "end_time": "2024-03-19T01:20:55.250724Z",
     "start_time": "2024-03-19T01:20:55.244492Z"
    }
   },
   "id": "66a3458383bc9ddb",
   "execution_count": 30
  },
  {
   "cell_type": "code",
   "outputs": [
    {
     "name": "stdout",
     "output_type": "stream",
     "text": [
      "System: You are an expert extraction algorithm. Only extract relevant information from the text.  The text is a brief summary text of a clinical trial. If you do not know the value of an attribute asked to extract, return null for the attribute's value. Wrap the output in `json` tags\n",
      "The output should be formatted as a JSON instance that conforms to the JSON schema below.\n",
      "\n",
      "As an example, for the schema {\"properties\": {\"foo\": {\"title\": \"Foo\", \"description\": \"a list of strings\", \"type\": \"array\", \"items\": {\"type\": \"string\"}}}, \"required\": [\"foo\"]}\n",
      "the object {\"foo\": [\"bar\", \"baz\"]} is a well-formatted instance of the schema. The object {\"properties\": {\"foo\": [\"bar\", \"baz\"]}} is not well-formatted.\n",
      "\n",
      "Here is the output schema:\n",
      "```\n",
      "{\"description\": \"Identifying information about all drugs in a text.\", \"properties\": {\"drugs\": {\"title\": \"Drugs\", \"type\": \"array\", \"items\": {\"$ref\": \"#/definitions/Drug\"}}}, \"required\": [\"drugs\"], \"definitions\": {\"Drug\": {\"title\": \"Drug\", \"description\": \"Information about a drug. Placebo is not a drug.\", \"type\": \"object\", \"properties\": {\"name\": {\"title\": \"Name\", \"description\": \"The name of the drug\", \"type\": \"string\"}}, \"required\": [\"name\"]}}}\n",
      "```\n",
      "Human: The purpose of this study is to assess the safety and tolerability of CNTO 5825 following a single intravenous (IV) or subcutaneous (SC) dose administration in healthy volunteers.\n",
      "AI: ```json\n",
      "{\n",
      "  \"drugs\": [\n",
      "    {\n",
      "      \"name\": \"CNTO 5825\"\n",
      "    }\n",
      "  ]\n",
      "}\n",
      "```\n",
      "Human: The purpose of Part 1 of this study is to assess the safety and tolerability of 2 dose levels (1.4 and 2.8 mg/kg) of CHO-derived CNTO 328 and Sp2/0-derived CNTO 328. The purpose of Part 2 of this study is to access the pharmacokinetics (what the body does to the study medication) comparability of the 1.4 mg/kg dose of CHO-derived CNTO 328 and Sp2/0-derived CNTO 328.\n",
      "AI: ```json\n",
      "{\n",
      "  \"drugs\": [\n",
      "    {\n",
      "      \"name\": \"CNTO 328 (CHO-derived)\"\n",
      "    },\n",
      "    {\n",
      "      \"name\": \"CNTO 328 (Sp2/0-derived)\"\n",
      "    }\n",
      "  ]\n",
      "}\n",
      "```\n",
      "Human: The purpose of this study is to:\n",
      "\n",
      "Evaluate the efficacy of Adapalene gel 0.3% compared to Tretinoin Emollient cream 0.05%, reducing signs of cutaneous photoageing, measured trough photonumeric scale evaluation, investigator evaluation of global response to treatment and subject's evaluation of improvement.\n",
      "Evaluate the safety and tolerability of Adapalene Gel 0.3%, compared to Tretinoin Emollient cream 0.05% during 24 weeks of treatment.\n",
      "The study has the clinical hypothesis that Adapalene Gel 0.3% is as effective as Tretinoin Emollient cream 0.05% in the treatment of cutaneous photoaging.\n",
      "AI: ```json\n",
      "{\n",
      "  \"drugs\": [\n",
      "    {\n",
      "      \"name\": \"Adapalene\"\n",
      "    },\n",
      "    {\n",
      "      \"name\": \"Tretinoin Emollient cream 0.05%\"\n",
      "    }\n",
      "  ]\n",
      "}\n",
      "```\n",
      "Human: The purpose of this study is to determine the safety of anakinra in patients with Polyarticular-Course Juvenile Rheumatoid Arthritis, a form of rheumatoid arthritis affecting children.\n"
     ]
    }
   ],
   "source": [
    "example_messages = []\n",
    "for example in examples:\n",
    "    example_messages.extend(example_to_messages(example))\n",
    "\n",
    "prompt_with_examples = ChatPromptTemplate.from_messages(\n",
    "    get_prompt_messages(with_examples=True),\n",
    ").partial(\n",
    "    format_instructions=parser.get_format_instructions(),\n",
    ")\n",
    "print(prompt_with_examples.format_prompt(text=text, examples=example_messages).to_string())"
   ],
   "metadata": {
    "collapsed": false,
    "ExecuteTime": {
     "end_time": "2024-03-19T01:20:55.257043Z",
     "start_time": "2024-03-19T01:20:55.252936Z"
    }
   },
   "id": "d526519d0e50d73c",
   "execution_count": 31
  },
  {
   "cell_type": "code",
   "outputs": [
    {
     "data": {
      "text/plain": "Drugs(drugs=[Drug(name='anakinra')])"
     },
     "execution_count": 32,
     "metadata": {},
     "output_type": "execute_result"
    }
   ],
   "source": [
    "chain_with_examples = prompt_with_examples | llm | parser\n",
    "response = chain_with_examples.invoke({'text': text, 'examples': example_messages})\n",
    "response"
   ],
   "metadata": {
    "collapsed": false,
    "ExecuteTime": {
     "end_time": "2024-03-19T01:20:57.249959Z",
     "start_time": "2024-03-19T01:20:55.257830Z"
    }
   },
   "id": "141c86586ea9a7fa",
   "execution_count": 32
  },
  {
   "cell_type": "code",
   "outputs": [
    {
     "data": {
      "text/plain": "  0%|          | 0/51 [00:00<?, ?it/s]",
      "application/vnd.jupyter.widget-view+json": {
       "version_major": 2,
       "version_minor": 0,
       "model_id": "627988142ff545fe9c0def76903ce022"
      }
     },
     "metadata": {},
     "output_type": "display_data"
    },
    {
     "name": "stdout",
     "output_type": "stream",
     "text": [
      "['anakinra']\n",
      "['adalimumab', 'methotrexate (MTX)']\n",
      "['belimumab']\n",
      "['belimumab']\n",
      "['ALX-0600']\n",
      "['Rituximab', 'Methotrexate']\n",
      "['etanercept']\n",
      "['etanercept']\n",
      "['Omalizumab']\n",
      "[]\n",
      "[]\n",
      "['BMS-188667 (Abatacept)']\n",
      "['mepolizumab']\n",
      "['tocilizumab', 'methotrexate (MTX)']\n",
      "['tocilizumab', 'methotrexate']\n",
      "['tocilizumab', 'methotrexate (MTX)']\n",
      "['tocilizumab', 'methotrexate']\n",
      "['AMN107', 'Imatinib']\n",
      "['anakinra']\n",
      "['etanercept']\n",
      "['Abatacept', 'Prednisone']\n",
      "['pimecrolimus cream 1%', 'topical corticosteroids (TCS)']\n",
      "['nitazoxanide', 'placebo']\n",
      "['rituximab']\n",
      "['etanercept']\n",
      "['prednisone MR formulation', 'prednisone IR']\n",
      "['imatinib mesylate']\n",
      "['Certolizumab Pegol (CZP)']\n",
      "['adalimumab', 'methotrexate']\n",
      "['adalimumab', 'methotrexate']\n",
      "['Leukine']\n",
      "['sargramostim']\n",
      "['sargramostim']\n",
      "['Leukine']\n",
      "['Golimumab (CNTO 148)', 'Methotrexate (MTX)']\n",
      "['CNTO 148 (golimumab)']\n",
      "['UVADEX']\n",
      "['Adalimumab', 'Methotrexate']\n",
      "['voclosporin', 'placebo']\n",
      "[]\n",
      "['CDP870', 'placebo']\n",
      "['Abatacept']\n",
      "['golimumab', 'methotrexate']\n",
      "['golimumab', 'methotrexate (MTX)']\n",
      "['golimumab']\n",
      "['CNTO 1275']\n",
      "['anti-IL-5']\n",
      "['CNTO 1275 (ustekinumab)']\n",
      "['ustekinumab (CNTO 1275)']\n",
      "['anti-TNF chimeric monoclonal antibody (cA2)', 'placebo']\n",
      "['anti-TNF chimeric monoclonal antibody (cA2)']\n"
     ]
    }
   ],
   "source": [
    "all_responses_with_examples, extracted_with_examples = score(chain_with_examples, example_messages=example_messages)"
   ],
   "metadata": {
    "collapsed": false,
    "ExecuteTime": {
     "end_time": "2024-03-19T01:22:45.586663Z",
     "start_time": "2024-03-19T01:20:57.251467Z"
    }
   },
   "id": "bf9fef0789c3a5ce",
   "execution_count": 33
  },
  {
   "cell_type": "code",
   "outputs": [
    {
     "name": "stdout",
     "output_type": "stream",
     "text": [
      "Precision:  100.00%\n",
      "Recall:  75.44%\n"
     ]
    }
   ],
   "source": [
    "test_with_examples_df = evaluate(\n",
    "    summaries_df=summaries,\n",
    "    extracted=extracted_with_examples,\n",
    "    preferred_name_by_term=preferred_name_by_term\n",
    ")"
   ],
   "metadata": {
    "collapsed": false,
    "ExecuteTime": {
     "end_time": "2024-03-19T01:22:45.597440Z",
     "start_time": "2024-03-19T01:22:45.588865Z"
    }
   },
   "id": "be8df93ad5b56f0a",
   "execution_count": 34
  },
  {
   "cell_type": "markdown",
   "source": [
    "# [incomplete] Cleaning up responses with RAG\n",
    "\n",
    "Well, the retrieval part, not generation.\n",
    "\n",
    "\n",
    "Adapted from [langchain's RAG cookbook](https://python.langchain.com/docs/expression_language/cookbook/retrieval)"
   ],
   "metadata": {
    "collapsed": false
   },
   "id": "9e3bc62e0c5ddf54"
  },
  {
   "cell_type": "code",
   "outputs": [],
   "source": [
    "from langchain_community.vectorstores import FAISS\n",
    "from langchain_core.output_parsers import StrOutputParser\n",
    "from langchain_core.prompts import ChatPromptTemplate\n",
    "from langchain_core.runnables import RunnableLambda, RunnablePassthrough\n",
    "from langchain_google_genai import GoogleGenerativeAIEmbeddings\n",
    "import math"
   ],
   "metadata": {
    "collapsed": false,
    "ExecuteTime": {
     "end_time": "2024-03-19T01:22:46.124813Z",
     "start_time": "2024-03-19T01:22:46.113473Z"
    }
   },
   "id": "7aceb6cddffaab56",
   "execution_count": 39
  },
  {
   "cell_type": "code",
   "outputs": [],
   "source": [
    "embeddings_llm = GoogleGenerativeAIEmbeddings(model='models/embedding-001', google_api_key=api_key)\n"
   ],
   "metadata": {
    "collapsed": false,
    "ExecuteTime": {
     "end_time": "2024-03-19T01:22:45.617900Z",
     "start_time": "2024-03-19T01:22:45.614644Z"
    }
   },
   "id": "c4f1c9e819a798a8",
   "execution_count": 36
  },
  {
   "cell_type": "code",
   "outputs": [
    {
     "data": {
      "text/plain": "[0.023084601,\n -0.025059354,\n -0.07961606,\n 0.008955923,\n 0.04864266,\n 0.007839439,\n -0.0045868554,\n -0.025806641,\n 0.014736501,\n 0.048185743,\n 0.004881629,\n 0.03529224,\n 0.026073176,\n -0.003535608,\n 0.014341052,\n -0.015081712,\n 0.022542626,\n 0.007935388,\n -0.016002657,\n 0.019658072,\n 0.014963381,\n 0.034099385,\n -0.019226383,\n -0.026446614,\n -0.040287122,\n -0.031387016,\n 0.03283562,\n -0.0710565,\n -0.014579742,\n 0.042835716,\n -0.03685568,\n 0.027751768,\n -0.0043345797,\n -0.0010353795,\n -0.059268977,\n -0.084676735,\n -0.018681535,\n -0.030509226,\n -0.012053325,\n 0.03248099,\n -0.0020808352,\n -0.020201702,\n -0.052452028,\n 0.0051273117,\n 0.02359672,\n 0.016149832,\n -0.012028812,\n 0.04197049,\n 0.041959573,\n -0.063283674,\n 0.04432846,\n 0.036107812,\n 0.054297153,\n -0.012818668,\n 0.019672962,\n -0.03972611,\n 0.05740015,\n -0.020961974,\n -0.0196247,\n 0.046559334,\n -0.044270094,\n 0.070880875,\n -0.03571292,\n 0.042567857,\n -0.0047877873,\n -0.05406059,\n 0.012660801,\n -0.049162626,\n 0.06778261,\n 0.012518933,\n 0.0025750136,\n 0.018972937,\n 0.03361773,\n -0.01806489,\n -0.028711708,\n -0.12787256,\n 0.051563527,\n 0.029673196,\n 0.024124863,\n 0.0010259892,\n 0.0104465885,\n 0.016072942,\n -0.039790362,\n -0.04140753,\n -0.046997182,\n 0.03805959,\n -0.03942539,\n 0.023243748,\n 0.013684584,\n -0.006167206,\n -0.019493109,\n -0.030617762,\n 0.049272507,\n -0.100616954,\n -0.02642317,\n 0.079661354,\n 0.028582139,\n -0.038684424,\n 0.027791545,\n -0.05898487,\n 0.031868845,\n 0.015245101,\n -0.04066027,\n -0.03554779,\n 0.026310626,\n 0.01145502,\n -0.025623847,\n 0.04396555,\n 0.02674809,\n 0.03836954,\n 0.003425343,\n -0.06139546,\n -0.02126408,\n -0.0073161838,\n 0.031489737,\n -0.029935688,\n 0.0033176073,\n 0.08430417,\n 0.037319742,\n 0.043722466,\n 0.025817353,\n -0.011403952,\n 0.07021049,\n -0.018742971,\n -0.0029202632,\n 0.006417004,\n 0.00015302931,\n -0.012156616,\n 0.049028806,\n 0.018447679,\n 0.0064431396,\n -0.018866414,\n -0.03875553,\n -0.002941563,\n 0.026685107,\n 0.06792316,\n 0.055704154,\n -0.024346491,\n 0.028128397,\n -0.025777575,\n -0.0062486627,\n 0.05474392,\n 0.022994597,\n 0.031199297,\n -0.012830292,\n 0.03153106,\n -0.038993835,\n -0.01612126,\n 0.079648525,\n -0.036806025,\n 0.011179536,\n -0.031980082,\n -0.02070442,\n 0.0028588735,\n 0.015410495,\n 0.03619939,\n -0.00548345,\n 0.046791077,\n -0.004392678,\n -0.003934713,\n 0.0031428342,\n 0.008164037,\n 0.024647757,\n 0.025042037,\n -0.022409633,\n 0.022128716,\n 0.028994396,\n -0.042168234,\n -0.037158415,\n -0.018043093,\n 0.018176084,\n 0.034207854,\n -0.01097704,\n -0.033109903,\n 0.033969235,\n -0.034734298,\n -0.005932198,\n 0.02697677,\n -0.052457012,\n -0.012843102,\n 0.012238595,\n 0.0068585924,\n -0.008271921,\n 0.01453607,\n 0.007410056,\n -0.048132077,\n 0.07323669,\n 0.003982022,\n -0.03847174,\n 0.019597055,\n 0.014142777,\n 0.01653458,\n -0.06430161,\n -0.06404332,\n -0.06252498,\n 0.030879015,\n -0.01186588,\n -0.0027248275,\n -0.03890614,\n -0.038026623,\n 0.0040361295,\n 0.06500586,\n -0.008930607,\n -0.011192464,\n 0.052718427,\n -0.048269294,\n 0.045292705,\n -0.032905657,\n 0.021569261,\n 0.037612345,\n -0.048660424,\n 0.026765881,\n 0.025451075,\n 0.029566964,\n 0.023991667,\n -0.030635484,\n 0.019640386,\n -0.0065715625,\n 0.010372045,\n -0.030317502,\n 0.025608588,\n -0.0074433344,\n -0.03583065,\n 0.015098509,\n 0.005316511,\n 0.07201075,\n 0.0084963795,\n 0.053660076,\n 0.025733232,\n -0.05058633,\n 0.02996721,\n 0.07025435,\n 0.048457786,\n 0.00054738525,\n 0.02272049,\n -0.03568995,\n 0.001415531,\n 0.033514507,\n 0.014034809,\n 0.06250953,\n -0.0708118,\n 0.043483596,\n -0.020296803,\n 0.01138019,\n -0.048741855,\n -0.06563696,\n -0.051761452,\n 0.04993682,\n 0.038734984,\n 0.0007471306,\n -0.013665564,\n -0.04264665,\n -0.023898574,\n -0.032704223,\n -0.04402825,\n 0.08421914,\n -0.045502536,\n -0.013396116,\n -0.036301102,\n -0.024166884,\n 0.051147748,\n -0.01884877,\n 0.041389346,\n 0.019428926,\n -0.024983058,\n -0.03427691,\n -0.016604053,\n -0.07046583,\n -0.033612248,\n 0.023452241,\n -0.0030084294,\n -0.019980667,\n 0.05901241,\n 0.030849574,\n -0.03206014,\n 0.021795658,\n 0.023480153,\n 0.024945032,\n 0.029611932,\n -0.070064366,\n 0.032775555,\n 0.048173603,\n 0.05060084,\n -0.05336958,\n 0.0041211024,\n -0.0066979523,\n -0.067531355,\n -0.0073412075,\n 0.0041185725,\n -0.0465424,\n -0.030702908,\n 0.004792525,\n 0.007279206,\n 0.014296487,\n -0.017972114,\n 0.020677252,\n -0.016275594,\n 0.037430692,\n 0.008706315,\n 0.011391163,\n 0.047434993,\n -0.030439196,\n 0.018366108,\n -0.08002831,\n 0.010515759,\n -0.004292603,\n -0.051759616,\n -0.008797666,\n 0.017699214,\n -0.0280356,\n 0.023841482,\n -0.034382973,\n -0.011416684,\n 0.0319166,\n 0.05915658,\n 0.0470193,\n -0.001960465,\n 0.036621056,\n -0.016035266,\n 0.029622475,\n 0.0060158754,\n 0.024618812,\n 0.046473034,\n -0.03165733,\n -0.04502275,\n 0.05924852,\n -0.0076326216,\n 0.046450935,\n -0.0090159755,\n 0.030809872,\n -0.015042902,\n 0.016712232,\n -0.017395625,\n 0.019329825,\n 0.0015653217,\n -0.001360015,\n -0.06800161,\n -0.041824695,\n -0.015359395,\n -0.027368415,\n -0.041668758,\n 0.0040608123,\n -0.014592823,\n -0.009057438,\n 0.037930414,\n 0.014312558,\n -0.029819237,\n 0.010491016,\n 0.07693134,\n 0.014511117,\n 0.014429352,\n 0.021413153,\n 0.020816743,\n 0.028572237,\n 0.0067144614,\n -0.024453646,\n 0.07390001,\n 0.033224005,\n 0.04584494,\n -0.039289813,\n -0.036343627,\n 0.022678735,\n 0.042197127,\n -0.00990549,\n 0.02054592,\n -0.004336411,\n -0.00087625196,\n 0.020464431,\n -0.022316942,\n 0.056179803,\n 0.021015411,\n -0.07405034,\n 0.039906222,\n -0.03863807,\n 0.034259427,\n 0.026409512,\n -0.016967516,\n -0.019748406,\n 0.015098611,\n -0.013211184,\n -0.049503956,\n -0.014103206,\n 0.08809878,\n 0.034644723,\n -0.02924057,\n -0.0065148477,\n 0.025054691,\n -0.007910126,\n -0.012995229,\n 0.038674973,\n 0.018944163,\n -0.0015134545,\n 0.09576833,\n 0.025254987,\n 0.0064309253,\n -0.04536162,\n -0.013304203,\n -0.04592966,\n 0.0023521786,\n 0.017070333,\n 0.015554267,\n -0.032089747,\n -0.04814674,\n 0.004490727,\n -0.07191728,\n -0.012954746,\n 0.0151902735,\n -0.019386342,\n -0.0012595091,\n 0.014235504,\n -0.01706849,\n -0.0041632983,\n -0.006090395,\n -0.096851535,\n -0.047737177,\n 0.019273965,\n 0.034313284,\n 0.0068680733,\n -0.046647698,\n -0.0019261285,\n -0.01198696,\n -0.02767806,\n 0.033206567,\n -0.012685487,\n -0.04722683,\n -0.027562086,\n 0.05313312,\n 0.014083064,\n 0.0027315584,\n 0.009165352,\n -0.0003818174,\n 0.031100145,\n 0.015519054,\n -0.022988219,\n -0.00070069893,\n -0.053469695,\n 0.007348909,\n 0.024914095,\n -0.041047912,\n -0.003087934,\n 0.035938147,\n 0.006130849,\n 0.053328626,\n -0.033597875,\n -0.036355738,\n -0.017971838,\n -0.053579118,\n -0.021610511,\n 0.026153168,\n -0.060916934,\n 0.06427182,\n -0.07587137,\n 0.0033100145,\n -0.10981789,\n -0.018873444,\n 0.03084156,\n -0.012037064,\n 0.016025659,\n 0.0047182515,\n 0.0028044726,\n -0.013917387,\n -0.042451326,\n 0.06101958,\n -0.0807137,\n 0.031055052,\n -0.030439764,\n 0.005655317,\n 0.0033388722,\n -0.019261254,\n 0.047803994,\n -0.026500504,\n -0.08184014,\n 0.009587079,\n -0.010915875,\n 0.0067335567,\n -0.027376357,\n -0.10257963,\n 0.042883188,\n 0.003759691,\n -0.026242148,\n -0.021632075,\n 0.0043445397,\n 0.059302453,\n 0.018075276,\n -0.0053565456,\n 0.04671077,\n -0.05698185,\n 0.024930993,\n -0.0082450695,\n 0.028386105,\n 0.0065398235,\n 0.002077653,\n 0.023203949,\n -0.037520684,\n -0.045695737,\n 0.036178593,\n 0.009578915,\n 0.0383811,\n 0.040268604,\n 0.009808042,\n 0.0057002637,\n 0.020240024,\n -0.036820244,\n -0.02641116,\n 0.06650687,\n -0.054057002,\n 0.031508606,\n 0.016125878,\n 0.020000689,\n -0.01252606,\n 0.013870374,\n 0.008712917,\n -0.023206104,\n -0.007821308,\n 0.013393609,\n 0.0020699524,\n 0.041721266,\n -0.00034958674,\n -0.036883418,\n 0.027323114,\n 0.020077953,\n -0.010921599,\n -0.0700841,\n -0.029546298,\n 0.0005222349,\n -0.034722272,\n 0.030108547,\n 0.031149497,\n -0.022724915,\n 0.0017090135,\n -0.04933165,\n 0.041571233,\n -0.06537221,\n -0.025039641,\n 0.0048644342,\n 0.024632111,\n 0.010714702,\n -0.009018511,\n 0.02234635,\n 0.0096446425,\n 0.017861597,\n -0.049593873,\n 0.03852749,\n 0.05336158,\n -0.0023404337,\n 0.013657558,\n -0.008561754,\n -0.060833305,\n 0.040483397,\n -0.030842591,\n 0.035073765,\n -0.002448987,\n 0.05237755,\n -0.033210214,\n -0.011346113,\n -0.020768622,\n 0.013105537,\n 0.021678066,\n 0.034007296,\n -0.0059955665,\n -0.04528271,\n -0.031588994,\n -0.025829341,\n 0.018757552,\n 0.04009211,\n 0.03302914,\n -0.006041879,\n -0.016316652,\n 0.046770077,\n -0.022490464,\n 0.01667844,\n -0.02951613,\n 0.04427847,\n 0.0442074,\n 0.038151275,\n -0.036999874,\n -0.10124666,\n 0.0054292954,\n -0.037299518,\n -0.03102642,\n -0.018064916,\n 0.013118775,\n 0.019412426,\n 0.08047917,\n -0.0120552005,\n 0.054440536,\n 0.053075235,\n 0.03241235,\n 0.08283692,\n -0.061786484,\n -0.057963967,\n 0.010387933,\n -0.052591722,\n 0.014887806,\n -0.04039466,\n 0.040842053,\n 0.049418777,\n 0.044810664,\n -0.016666317,\n 0.009080638,\n -0.019194448,\n 0.012628693,\n 0.06339155,\n 0.039089836,\n 0.022346826,\n 0.0055566,\n 0.0033758262,\n -0.032359287,\n 0.015712729,\n 0.040976673,\n -0.009683976,\n -0.024369556,\n 0.020506723,\n 0.037376277,\n -0.062429216,\n -0.019509936,\n 0.048219316,\n -0.03109726,\n -0.027227724,\n -0.03160878,\n 0.0041516167,\n 0.03286461,\n 0.021131705,\n -0.014534566,\n -0.015965348,\n 0.018349703,\n -0.023882946,\n -0.038448997,\n 0.06509477,\n 0.05554808,\n 0.041418698,\n 0.02096226,\n -0.014818056,\n 0.019648634,\n -0.07434758,\n -0.0146783935,\n -0.035506733,\n 0.0071582315,\n 0.012147006,\n -0.04555563,\n -0.066205226,\n -0.010690629,\n 0.03158327,\n 0.026057234,\n -0.023793148,\n 0.019971559,\n 0.040881593,\n -0.08760508,\n -0.063830435,\n 0.029343357,\n -0.042137407,\n -0.028066302,\n 0.04447461,\n -0.019302124,\n 0.0005741234,\n 0.0075752623,\n -0.0475822,\n -0.024088332,\n 0.029446963,\n -0.028971793,\n -0.041067023,\n -0.009304468,\n 0.019242708,\n 0.03598804,\n -0.031513795,\n -0.025810208,\n -0.029077087,\n -0.063268736,\n -0.029519899,\n 0.024047492,\n -0.049839724,\n -0.014300927,\n 0.07093609,\n 0.02329865,\n 0.031188315,\n 0.02554341,\n -0.033861406,\n 0.045323268,\n 0.018298294,\n 0.0107015185,\n -0.033810653,\n -0.005363287,\n -0.04527805,\n -0.024978418,\n -0.030885722,\n 0.020417914,\n 0.04503148,\n 0.019280767,\n -0.026006134,\n -0.009599906,\n -0.0013020423,\n 0.005607881,\n 0.029515224,\n 0.058082964,\n 0.059957776,\n 0.039371405,\n -0.030473918,\n 0.0061571947,\n -0.022767695,\n 0.035370406,\n -0.04304389,\n -0.06502858,\n 0.030166347,\n 0.06557576,\n -4.327493e-05,\n 0.005774735,\n 0.014485389,\n 0.0021376973,\n 0.024832005,\n 0.0834758,\n 0.018628139,\n -0.0630383,\n -0.020576637,\n 0.020623548,\n 0.038791776,\n -0.013686746,\n -0.033079207,\n 0.07178604,\n -0.03801086,\n 0.029555934,\n 0.046534285,\n 0.0003859647,\n 0.0031844953,\n 0.016236903,\n -0.007637768,\n 0.062003285,\n -0.047662158,\n -0.034704495,\n 0.033211775,\n 0.04444673,\n 0.030195633,\n -0.027744299,\n -0.02676163,\n 0.03700866,\n -0.019936107,\n 0.08279096,\n 0.027927507,\n 0.011048389,\n -0.0037511978,\n -0.047222797,\n -0.025240513,\n -0.0295373,\n 0.016292395,\n -0.009151518,\n 0.0032132838,\n -0.03307225,\n -0.036867514,\n -0.026654229,\n 0.025837865,\n -0.047143526,\n -0.04366206,\n -0.025246985,\n 0.0092384545,\n 0.0890768,\n 0.06660689,\n -0.013311986,\n -0.0077052405,\n -0.02162922,\n 0.036076408,\n -0.028682139,\n -0.023011213,\n 0.013154106,\n 0.025085371,\n -0.0051698056,\n 0.06152988,\n -0.0031403962,\n -0.019550188,\n 0.050726384]"
     },
     "execution_count": 37,
     "metadata": {},
     "output_type": "execute_result"
    }
   ],
   "source": [
    "embeddings_llm.embed_query(text)"
   ],
   "metadata": {
    "collapsed": false,
    "ExecuteTime": {
     "end_time": "2024-03-19T01:22:46.104486Z",
     "start_time": "2024-03-19T01:22:45.619378Z"
    }
   },
   "id": "d92e11be73911852",
   "execution_count": 37
  },
  {
   "cell_type": "code",
   "outputs": [],
   "source": [],
   "metadata": {
    "collapsed": false
   },
   "id": "3725a75cebbd3628"
  },
  {
   "cell_type": "code",
   "outputs": [],
   "source": [
    "# limit = 100\n",
    "limit = math.inf\n",
    "texts = []\n",
    "metadata = []\n",
    "for index, (term, preferred_name) in enumerate(preferred_name_by_term.items()):\n",
    "    texts.append(term)\n",
    "    metadata.append({'preferred_name': preferred_name})\n",
    "    # if index + 1  > limit:\n",
    "    if index > limit - 1:\n",
    "        break\n"
   ],
   "metadata": {
    "collapsed": false,
    "ExecuteTime": {
     "end_time": "2024-03-19T00:10:14.731651Z",
     "start_time": "2024-03-19T00:10:14.721245Z"
    }
   },
   "id": "8b465ee2c77c4103",
   "execution_count": 168
  },
  {
   "cell_type": "code",
   "outputs": [
    {
     "data": {
      "text/plain": "23140"
     },
     "execution_count": 169,
     "metadata": {},
     "output_type": "execute_result"
    }
   ],
   "source": [
    "len(texts)"
   ],
   "metadata": {
    "collapsed": false,
    "ExecuteTime": {
     "end_time": "2024-03-19T00:10:15.684032Z",
     "start_time": "2024-03-19T00:10:15.681065Z"
    }
   },
   "id": "815d4c2d56602a33",
   "execution_count": 169
  },
  {
   "cell_type": "code",
   "outputs": [],
   "source": [
    "data_store = FAISS.from_texts(\n",
    "    texts=texts,\n",
    "    metadatas=metadata,\n",
    "    embedding=embeddings_llm,\n",
    ")"
   ],
   "metadata": {
    "collapsed": false,
    "ExecuteTime": {
     "end_time": "2024-03-19T00:13:52.444211Z",
     "start_time": "2024-03-19T00:10:18.288814Z"
    }
   },
   "id": "b15e13d9367d041d",
   "execution_count": 170
  },
  {
   "cell_type": "code",
   "outputs": [],
   "source": [
    "data_store.save_local('data/faiss_index')"
   ],
   "metadata": {
    "collapsed": false,
    "ExecuteTime": {
     "end_time": "2024-03-19T00:13:52.978011Z",
     "start_time": "2024-03-19T00:13:52.814478Z"
    }
   },
   "id": "858b7b87a178b6ea",
   "execution_count": 174
  },
  {
   "cell_type": "code",
   "outputs": [],
   "source": [
    "# data_store.save_to_file('data/FAISS_data_store')"
   ],
   "metadata": {
    "collapsed": false,
    "ExecuteTime": {
     "end_time": "2024-03-19T00:13:52.813002Z",
     "start_time": "2024-03-19T00:13:52.803215Z"
    }
   },
   "id": "4738e00129411ba1",
   "execution_count": 173
  },
  {
   "cell_type": "code",
   "outputs": [],
   "source": [
    "# CNTO 1275 (ustekinumab)\n",
    "# cnto1275(ustekinumab)\n",
    "\n",
    "res = data_store.search(\n",
    "    # query='cnto1275(ustekinumab)',\n",
    "    query='cnto1275',\n",
    "    # query='CNTO 1275 (ustekinumab)',\n",
    "    search_type='similarity',\n",
    "    # search_type='mmr',\n",
    "    k=20,\n",
    ")"
   ],
   "metadata": {
    "collapsed": false,
    "ExecuteTime": {
     "end_time": "2024-03-19T00:16:35.012969Z",
     "start_time": "2024-03-19T00:16:34.768793Z"
    }
   },
   "id": "6da5d8a4927ce441",
   "execution_count": 185
  },
  {
   "cell_type": "code",
   "outputs": [
    {
     "data": {
      "text/plain": "[Document(page_content='cnto1275', metadata={'preferred_name': 'ustekinumab'}),\n Document(page_content='cnto-1275', metadata={'preferred_name': 'ustekinumab'}),\n Document(page_content='cnto4424', metadata={'preferred_name': 'amivantamab'}),\n Document(page_content='cnto148', metadata={'preferred_name': 'golimumab'}),\n Document(page_content='nn1250', metadata={'preferred_name': 'insulin degludec'}),\n Document(page_content='cnto328', metadata={'preferred_name': 'siltuximab'}),\n Document(page_content='cm6912', metadata={'preferred_name': 'ethyl loflazepate'}),\n Document(page_content='cns7056', metadata={'preferred_name': 'remimazolam'}),\n Document(page_content='ono1206', metadata={'preferred_name': 'limaprost'}),\n Document(page_content='cnto-328', metadata={'preferred_name': 'siltuximab'}),\n Document(page_content='cp65703', metadata={'preferred_name': 'ampiroxicam'}),\n Document(page_content='cm-8282', metadata={'preferred_name': 'omoconazole'}),\n Document(page_content='ono1078', metadata={'preferred_name': 'pranlukast'}),\n Document(page_content='alxn1215', metadata={'preferred_name': 'asfotase alfa'}),\n Document(page_content='ucb7665', metadata={'preferred_name': 'rozanolixizumab'}),\n Document(page_content='ana756', metadata={'preferred_name': 'tasosartan'}),\n Document(page_content='cgp41251', metadata={'preferred_name': 'midostaurin'}),\n Document(page_content='ck1535', metadata={'preferred_name': 'melphalan flufenamide'}),\n Document(page_content='cb7630', metadata={'preferred_name': 'abiraterone acetate'}),\n Document(page_content='cp16171', metadata={'preferred_name': 'piroxicam'})]"
     },
     "execution_count": 186,
     "metadata": {},
     "output_type": "execute_result"
    }
   ],
   "source": [
    "res"
   ],
   "metadata": {
    "collapsed": false,
    "ExecuteTime": {
     "end_time": "2024-03-19T00:16:35.327371Z",
     "start_time": "2024-03-19T00:16:35.323723Z"
    }
   },
   "id": "580f40b312173670",
   "execution_count": 186
  },
  {
   "cell_type": "code",
   "outputs": [
    {
     "data": {
      "text/plain": "True"
     },
     "execution_count": 184,
     "metadata": {},
     "output_type": "execute_result"
    }
   ],
   "source": [
    "'cnto1275' in preferred_name_by_term"
   ],
   "metadata": {
    "collapsed": false,
    "ExecuteTime": {
     "end_time": "2024-03-19T00:16:14.798152Z",
     "start_time": "2024-03-19T00:16:14.794917Z"
    }
   },
   "id": "c63eacd516e3d4e0",
   "execution_count": 184
  },
  {
   "cell_type": "code",
   "outputs": [],
   "source": [],
   "metadata": {
    "collapsed": false
   },
   "id": "2cc46ebbce81b85b"
  },
  {
   "cell_type": "code",
   "outputs": [
    {
     "data": {
      "text/plain": "[Document(page_content='acamprosate', metadata={'preferred_name': 'acamprosate'}),\n Document(page_content='5-fluorouracil', metadata={'preferred_name': 'fluorouracil'}),\n Document(page_content='fluorouracil', metadata={'preferred_name': 'fluorouracil'}),\n Document(page_content='methoxsalen', metadata={'preferred_name': 'methoxsalen'}),\n Document(page_content='ladakamycin', metadata={'preferred_name': 'azacitidine'}),\n Document(page_content='ledakamycin', metadata={'preferred_name': 'azacitidine'}),\n Document(page_content='azacitidine', metadata={'preferred_name': 'azacitidine'}),\n Document(page_content='abacavirsulfate', metadata={'preferred_name': 'abacavir'}),\n Document(page_content='abacavirsuccinate', metadata={'preferred_name': 'abacavir'}),\n Document(page_content='methoxsalene', metadata={'preferred_name': 'methoxsalen'})]"
     },
     "execution_count": 158,
     "metadata": {},
     "output_type": "execute_result"
    }
   ],
   "source": [
    "res"
   ],
   "metadata": {
    "collapsed": false
   },
   "id": "3926d48989fbe3e5",
   "execution_count": 158
  },
  {
   "cell_type": "code",
   "outputs": [],
   "source": [
    "raw_synonym_maps = util.get_synonym_maps(synonyms_df, clean_up_terms=False)\n",
    "raw_terms_by_preferred_name = raw_synonym_maps['terms_by_preferred_name']"
   ],
   "metadata": {
    "collapsed": false,
    "ExecuteTime": {
     "end_time": "2024-03-19T00:06:51.645324Z",
     "start_time": "2024-03-19T00:06:51.439521Z"
    }
   },
   "id": "b7eaf4239b323d1c",
   "execution_count": 155
  },
  {
   "cell_type": "code",
   "outputs": [
    {
     "data": {
      "text/plain": "array(['CNTO 1275', 'CNTO-1275', 'cnto 1275', 'cnto-1275', 'stelara',\n       'ustekinumab'], dtype=object)"
     },
     "execution_count": 156,
     "metadata": {},
     "output_type": "execute_result"
    }
   ],
   "source": [
    "raw_terms_by_preferred_name['ustekinumab']\n"
   ],
   "metadata": {
    "collapsed": false,
    "ExecuteTime": {
     "end_time": "2024-03-19T00:06:56.322349Z",
     "start_time": "2024-03-19T00:06:56.319294Z"
    }
   },
   "id": "9aeafdf83ccd683",
   "execution_count": 156
  },
  {
   "cell_type": "code",
   "outputs": [
    {
     "data": {
      "text/plain": "array(['N-acetylhomotaurine', 'acamprosaic acid', 'acamprosate',\n       'acamprosate calcium', 'calcium acetylhomotaurinate',\n       'calcium acetylhomotaurine', 'campral', 'n-acetylhomotaurine',\n       'zulex'], dtype=object)"
     },
     "execution_count": 159,
     "metadata": {},
     "output_type": "execute_result"
    }
   ],
   "source": [
    "raw_terms_by_preferred_name['acamprosate']"
   ],
   "metadata": {
    "collapsed": false,
    "ExecuteTime": {
     "end_time": "2024-03-19T00:07:34.696027Z",
     "start_time": "2024-03-19T00:07:34.692032Z"
    }
   },
   "id": "1cc1991c05c3669f",
   "execution_count": 159
  }
 ],
 "metadata": {
  "kernelspec": {
   "display_name": "Python 3",
   "language": "python",
   "name": "python3"
  },
  "language_info": {
   "codemirror_mode": {
    "name": "ipython",
    "version": 2
   },
   "file_extension": ".py",
   "mimetype": "text/x-python",
   "name": "python",
   "nbconvert_exporter": "python",
   "pygments_lexer": "ipython2",
   "version": "2.7.6"
  }
 },
 "nbformat": 4,
 "nbformat_minor": 5
}
