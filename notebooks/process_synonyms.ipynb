{
 "cells": [
  {
   "cell_type": "code",
   "execution_count": 1,
   "id": "initial_id",
   "metadata": {
    "collapsed": true,
    "ExecuteTime": {
     "end_time": "2024-03-17T18:15:03.782100Z",
     "start_time": "2024-03-17T18:15:02.293851Z"
    }
   },
   "outputs": [],
   "source": [
    "import numpy as np\n",
    "import pandas as pd\n",
    "from ydata_profiling import ProfileReport\n",
    "\n",
    "import util"
   ]
  },
  {
   "cell_type": "code",
   "outputs": [],
   "source": [
    "data_config = util.get_data_config()"
   ],
   "metadata": {
    "collapsed": false,
    "ExecuteTime": {
     "end_time": "2024-03-17T18:15:03.785951Z",
     "start_time": "2024-03-17T18:15:03.783215Z"
    }
   },
   "id": "6230ef161306204f",
   "execution_count": 2
  },
  {
   "cell_type": "code",
   "outputs": [
    {
     "data": {
      "text/plain": "(23369, 6)"
     },
     "execution_count": 3,
     "metadata": {},
     "output_type": "execute_result"
    }
   ],
   "source": [
    "df = pd.read_csv(data_config['raw_synonyms_file_name'])\n",
    "df.shape"
   ],
   "metadata": {
    "collapsed": false,
    "ExecuteTime": {
     "end_time": "2024-03-17T18:15:03.809950Z",
     "start_time": "2024-03-17T18:15:03.786669Z"
    }
   },
   "id": "be8b09c8f1e01549",
   "execution_count": 3
  },
  {
   "cell_type": "code",
   "outputs": [
    {
     "data": {
      "text/plain": "   syn_id      id                              name  preferred_name  \\\n0   23310  5391.0                       sacituzumab             NaN   \n1   23311  5391.0             sacituzumab govitecan             1.0   \n2   23312  5391.0        sacituzumab govitecan-hziy             NaN   \n3   23313  5391.0                          trodelvy             NaN   \n4   23314  5391.0                          IMMU-132             NaN   \n5   23315  5391.0                      TROP-2-SN-38             NaN   \n6   23316  5391.0                    hRS7-SN-38-ADC             NaN   \n7   23317  5392.0                        capmatinib             1.0   \n8   23318  5392.0          capmatinib hydrochloride             NaN   \n9   23319  5392.0  capmatinib hydrochloride hydrate             NaN   \n\n   parent_id                             lname  \n0        NaN                       sacituzumab  \n1        NaN             sacituzumab govitecan  \n2        NaN        sacituzumab govitecan-hziy  \n3        NaN                          trodelvy  \n4        NaN                          immu-132  \n5        NaN                      trop-2-sn-38  \n6        NaN                    hrs7-sn-38-adc  \n7        NaN                        capmatinib  \n8        NaN          capmatinib hydrochloride  \n9        NaN  capmatinib hydrochloride hydrate  ",
      "text/html": "<div>\n<style scoped>\n    .dataframe tbody tr th:only-of-type {\n        vertical-align: middle;\n    }\n\n    .dataframe tbody tr th {\n        vertical-align: top;\n    }\n\n    .dataframe thead th {\n        text-align: right;\n    }\n</style>\n<table border=\"1\" class=\"dataframe\">\n  <thead>\n    <tr style=\"text-align: right;\">\n      <th></th>\n      <th>syn_id</th>\n      <th>id</th>\n      <th>name</th>\n      <th>preferred_name</th>\n      <th>parent_id</th>\n      <th>lname</th>\n    </tr>\n  </thead>\n  <tbody>\n    <tr>\n      <th>0</th>\n      <td>23310</td>\n      <td>5391.0</td>\n      <td>sacituzumab</td>\n      <td>NaN</td>\n      <td>NaN</td>\n      <td>sacituzumab</td>\n    </tr>\n    <tr>\n      <th>1</th>\n      <td>23311</td>\n      <td>5391.0</td>\n      <td>sacituzumab govitecan</td>\n      <td>1.0</td>\n      <td>NaN</td>\n      <td>sacituzumab govitecan</td>\n    </tr>\n    <tr>\n      <th>2</th>\n      <td>23312</td>\n      <td>5391.0</td>\n      <td>sacituzumab govitecan-hziy</td>\n      <td>NaN</td>\n      <td>NaN</td>\n      <td>sacituzumab govitecan-hziy</td>\n    </tr>\n    <tr>\n      <th>3</th>\n      <td>23313</td>\n      <td>5391.0</td>\n      <td>trodelvy</td>\n      <td>NaN</td>\n      <td>NaN</td>\n      <td>trodelvy</td>\n    </tr>\n    <tr>\n      <th>4</th>\n      <td>23314</td>\n      <td>5391.0</td>\n      <td>IMMU-132</td>\n      <td>NaN</td>\n      <td>NaN</td>\n      <td>immu-132</td>\n    </tr>\n    <tr>\n      <th>5</th>\n      <td>23315</td>\n      <td>5391.0</td>\n      <td>TROP-2-SN-38</td>\n      <td>NaN</td>\n      <td>NaN</td>\n      <td>trop-2-sn-38</td>\n    </tr>\n    <tr>\n      <th>6</th>\n      <td>23316</td>\n      <td>5391.0</td>\n      <td>hRS7-SN-38-ADC</td>\n      <td>NaN</td>\n      <td>NaN</td>\n      <td>hrs7-sn-38-adc</td>\n    </tr>\n    <tr>\n      <th>7</th>\n      <td>23317</td>\n      <td>5392.0</td>\n      <td>capmatinib</td>\n      <td>1.0</td>\n      <td>NaN</td>\n      <td>capmatinib</td>\n    </tr>\n    <tr>\n      <th>8</th>\n      <td>23318</td>\n      <td>5392.0</td>\n      <td>capmatinib hydrochloride</td>\n      <td>NaN</td>\n      <td>NaN</td>\n      <td>capmatinib hydrochloride</td>\n    </tr>\n    <tr>\n      <th>9</th>\n      <td>23319</td>\n      <td>5392.0</td>\n      <td>capmatinib hydrochloride hydrate</td>\n      <td>NaN</td>\n      <td>NaN</td>\n      <td>capmatinib hydrochloride hydrate</td>\n    </tr>\n  </tbody>\n</table>\n</div>"
     },
     "execution_count": 4,
     "metadata": {},
     "output_type": "execute_result"
    }
   ],
   "source": [
    "df.head(10)"
   ],
   "metadata": {
    "collapsed": false,
    "ExecuteTime": {
     "end_time": "2024-03-17T18:15:03.818222Z",
     "start_time": "2024-03-17T18:15:03.811225Z"
    }
   },
   "id": "c4a5b2ea291f337d",
   "execution_count": 4
  },
  {
   "cell_type": "markdown",
   "source": [
    "# Data quality checks"
   ],
   "metadata": {
    "collapsed": false
   },
   "id": "61b38f8f187fcaca"
  },
  {
   "cell_type": "code",
   "outputs": [
    {
     "data": {
      "text/plain": "              syn_id            id         name  preferred_name   parent_id  \\\ncount   23369.000000  23236.000000        23369     5025.000000  226.000000   \nunique           NaN           NaN        23369             NaN         NaN   \ntop              NaN           NaN  sacituzumab             NaN         NaN   \nfreq             NaN           NaN            1             NaN         NaN   \nmean    12120.703453   2705.518506          NaN        0.999602  118.420354   \nstd      7117.063200   1671.680913          NaN        0.019948   71.019655   \nmin         3.000000      4.000000          NaN        0.000000    1.000000   \n25%      6023.000000   1280.750000          NaN        1.000000   58.250000   \n50%     11983.000000   2493.000000          NaN        1.000000  114.500000   \n75%     17934.000000   4230.000000          NaN        1.000000  170.250000   \nmax     25489.000000   5743.000000          NaN        1.000000  237.000000   \n\n              lname  \ncount         23369  \nunique        23369  \ntop     sacituzumab  \nfreq              1  \nmean            NaN  \nstd             NaN  \nmin             NaN  \n25%             NaN  \n50%             NaN  \n75%             NaN  \nmax             NaN  ",
      "text/html": "<div>\n<style scoped>\n    .dataframe tbody tr th:only-of-type {\n        vertical-align: middle;\n    }\n\n    .dataframe tbody tr th {\n        vertical-align: top;\n    }\n\n    .dataframe thead th {\n        text-align: right;\n    }\n</style>\n<table border=\"1\" class=\"dataframe\">\n  <thead>\n    <tr style=\"text-align: right;\">\n      <th></th>\n      <th>syn_id</th>\n      <th>id</th>\n      <th>name</th>\n      <th>preferred_name</th>\n      <th>parent_id</th>\n      <th>lname</th>\n    </tr>\n  </thead>\n  <tbody>\n    <tr>\n      <th>count</th>\n      <td>23369.000000</td>\n      <td>23236.000000</td>\n      <td>23369</td>\n      <td>5025.000000</td>\n      <td>226.000000</td>\n      <td>23369</td>\n    </tr>\n    <tr>\n      <th>unique</th>\n      <td>NaN</td>\n      <td>NaN</td>\n      <td>23369</td>\n      <td>NaN</td>\n      <td>NaN</td>\n      <td>23369</td>\n    </tr>\n    <tr>\n      <th>top</th>\n      <td>NaN</td>\n      <td>NaN</td>\n      <td>sacituzumab</td>\n      <td>NaN</td>\n      <td>NaN</td>\n      <td>sacituzumab</td>\n    </tr>\n    <tr>\n      <th>freq</th>\n      <td>NaN</td>\n      <td>NaN</td>\n      <td>1</td>\n      <td>NaN</td>\n      <td>NaN</td>\n      <td>1</td>\n    </tr>\n    <tr>\n      <th>mean</th>\n      <td>12120.703453</td>\n      <td>2705.518506</td>\n      <td>NaN</td>\n      <td>0.999602</td>\n      <td>118.420354</td>\n      <td>NaN</td>\n    </tr>\n    <tr>\n      <th>std</th>\n      <td>7117.063200</td>\n      <td>1671.680913</td>\n      <td>NaN</td>\n      <td>0.019948</td>\n      <td>71.019655</td>\n      <td>NaN</td>\n    </tr>\n    <tr>\n      <th>min</th>\n      <td>3.000000</td>\n      <td>4.000000</td>\n      <td>NaN</td>\n      <td>0.000000</td>\n      <td>1.000000</td>\n      <td>NaN</td>\n    </tr>\n    <tr>\n      <th>25%</th>\n      <td>6023.000000</td>\n      <td>1280.750000</td>\n      <td>NaN</td>\n      <td>1.000000</td>\n      <td>58.250000</td>\n      <td>NaN</td>\n    </tr>\n    <tr>\n      <th>50%</th>\n      <td>11983.000000</td>\n      <td>2493.000000</td>\n      <td>NaN</td>\n      <td>1.000000</td>\n      <td>114.500000</td>\n      <td>NaN</td>\n    </tr>\n    <tr>\n      <th>75%</th>\n      <td>17934.000000</td>\n      <td>4230.000000</td>\n      <td>NaN</td>\n      <td>1.000000</td>\n      <td>170.250000</td>\n      <td>NaN</td>\n    </tr>\n    <tr>\n      <th>max</th>\n      <td>25489.000000</td>\n      <td>5743.000000</td>\n      <td>NaN</td>\n      <td>1.000000</td>\n      <td>237.000000</td>\n      <td>NaN</td>\n    </tr>\n  </tbody>\n</table>\n</div>"
     },
     "execution_count": 5,
     "metadata": {},
     "output_type": "execute_result"
    }
   ],
   "source": [
    "df.describe(include='all')"
   ],
   "metadata": {
    "collapsed": false,
    "ExecuteTime": {
     "end_time": "2024-03-17T18:15:03.840894Z",
     "start_time": "2024-03-17T18:15:03.818915Z"
    }
   },
   "id": "567d944a6562f650",
   "execution_count": 5
  },
  {
   "cell_type": "code",
   "outputs": [],
   "source": [
    "profile = ProfileReport(\n",
    "    df,\n",
    "    title='Profiling Report',\n",
    "    correlations=None,\n",
    ")"
   ],
   "metadata": {
    "collapsed": false,
    "ExecuteTime": {
     "end_time": "2024-03-17T18:15:03.850335Z",
     "start_time": "2024-03-17T18:15:03.841849Z"
    }
   },
   "id": "a40971c0dd974e69",
   "execution_count": 6
  },
  {
   "cell_type": "code",
   "outputs": [
    {
     "data": {
      "text/plain": "Summarize dataset:   0%|          | 0/5 [00:00<?, ?it/s]",
      "application/vnd.jupyter.widget-view+json": {
       "version_major": 2,
       "version_minor": 0,
       "model_id": "bddd8bfa2e8844268d137595609b4ee4"
      }
     },
     "metadata": {},
     "output_type": "display_data"
    },
    {
     "name": "stderr",
     "output_type": "stream",
     "text": [
      "/home/dimosthenis/.pyenv/versions/3.10.13/envs/intelligencia/lib/python3.10/site-packages/seaborn/matrix.py:260: FutureWarning: Format strings passed to MaskedConstant are ignored, but in future may error or produce different behavior\n",
      "  annotation = (\"{:\" + self.fmt + \"}\").format(val)\n",
      "/home/dimosthenis/.pyenv/versions/3.10.13/envs/intelligencia/lib/python3.10/site-packages/ydata_profiling/model/missing.py:78: UserWarning: There was an attempt to generate the Heatmap missing values diagrams, but this failed.\n",
      "To hide this warning, disable the calculation\n",
      "(using `df.profile_report(missing_diagrams={\"Heatmap\": False}`)\n",
      "If this is problematic for your use case, please report this as an issue:\n",
      "https://github.com/ydataai/ydata-profiling/issues\n",
      "(include the error message: 'could not convert string to float: '--'')\n",
      "  warnings.warn(\n"
     ]
    },
    {
     "data": {
      "text/plain": "Generate report structure:   0%|          | 0/1 [00:00<?, ?it/s]",
      "application/vnd.jupyter.widget-view+json": {
       "version_major": 2,
       "version_minor": 0,
       "model_id": "e09e0c56c70a4036b17699bf5a17ad65"
      }
     },
     "metadata": {},
     "output_type": "display_data"
    },
    {
     "data": {
      "text/plain": "Render widgets:   0%|          | 0/1 [00:00<?, ?it/s]",
      "application/vnd.jupyter.widget-view+json": {
       "version_major": 2,
       "version_minor": 0,
       "model_id": "8f547fd5b1f544059482ac5733c7aefa"
      }
     },
     "metadata": {},
     "output_type": "display_data"
    },
    {
     "name": "stderr",
     "output_type": "stream",
     "text": [
      "IOPub message rate exceeded.\n",
      "The Jupyter server will temporarily stop sending output\n",
      "to the client in order to avoid crashing it.\n",
      "To change this limit, set the config variable\n",
      "`--ServerApp.iopub_msg_rate_limit`.\n",
      "\n",
      "Current values:\n",
      "ServerApp.iopub_msg_rate_limit=1000.0 (msgs/sec)\n",
      "ServerApp.rate_limit_window=3.0 (secs)\n",
      "\n"
     ]
    },
    {
     "data": {
      "text/plain": "VBox(children=(Tab(children=(Tab(children=(GridBox(children=(VBox(children=(GridspecLayout(children=(HTML(valu…",
      "application/vnd.jupyter.widget-view+json": {
       "version_major": 2,
       "version_minor": 0,
       "model_id": "41e1e1eca5b64dbe888bbf422571ab88"
      }
     },
     "metadata": {},
     "output_type": "display_data"
    }
   ],
   "source": [
    "profile.to_widgets()"
   ],
   "metadata": {
    "collapsed": false,
    "ExecuteTime": {
     "end_time": "2024-03-17T18:15:10.365670Z",
     "start_time": "2024-03-17T18:15:03.851115Z"
    }
   },
   "id": "c2b2f1a181adbfa1",
   "execution_count": 7
  },
  {
   "cell_type": "markdown",
   "source": [
    "## Check id and parent_id"
   ],
   "metadata": {
    "collapsed": false
   },
   "id": "ca0e0cb2538eaf2a"
  },
  {
   "cell_type": "code",
   "outputs": [
    {
     "data": {
      "text/plain": "       syn_id      id                       name  preferred_name  parent_id  \\\n68      23378  5401.0                 BMS-626529             NaN      230.0   \n69      23379  5401.0                 BMS 626529             NaN      230.0   \n310     23720  5448.0      serdexmethylphenidate             1.0      231.0   \n476     23151  5377.0         N4-Hydroxycytidine             NaN      229.0   \n477     23152  5377.0  Beta-D-N4-hydroxycytidine             NaN      229.0   \n...       ...     ...                        ...             ...        ...   \n22545   24416     NaN                laidlomycin             1.0      236.0   \n22546   24417     NaN                BRN 1675244             NaN      236.0   \n22547   24418     NaN           EINECS 260-095-1             NaN      236.0   \n23071   25105     NaN                carotegrast             1.0      237.0   \n23072   25106     NaN                    HCA2969             NaN      237.0   \n\n                           lname  \n68                    bms-626529  \n69                    bms 626529  \n310        serdexmethylphenidate  \n476           n4-hydroxycytidine  \n477    beta-d-n4-hydroxycytidine  \n...                          ...  \n22545                laidlomycin  \n22546                brn 1675244  \n22547           einecs 260-095-1  \n23071                carotegrast  \n23072                    hca2969  \n\n[226 rows x 6 columns]",
      "text/html": "<div>\n<style scoped>\n    .dataframe tbody tr th:only-of-type {\n        vertical-align: middle;\n    }\n\n    .dataframe tbody tr th {\n        vertical-align: top;\n    }\n\n    .dataframe thead th {\n        text-align: right;\n    }\n</style>\n<table border=\"1\" class=\"dataframe\">\n  <thead>\n    <tr style=\"text-align: right;\">\n      <th></th>\n      <th>syn_id</th>\n      <th>id</th>\n      <th>name</th>\n      <th>preferred_name</th>\n      <th>parent_id</th>\n      <th>lname</th>\n    </tr>\n  </thead>\n  <tbody>\n    <tr>\n      <th>68</th>\n      <td>23378</td>\n      <td>5401.0</td>\n      <td>BMS-626529</td>\n      <td>NaN</td>\n      <td>230.0</td>\n      <td>bms-626529</td>\n    </tr>\n    <tr>\n      <th>69</th>\n      <td>23379</td>\n      <td>5401.0</td>\n      <td>BMS 626529</td>\n      <td>NaN</td>\n      <td>230.0</td>\n      <td>bms 626529</td>\n    </tr>\n    <tr>\n      <th>310</th>\n      <td>23720</td>\n      <td>5448.0</td>\n      <td>serdexmethylphenidate</td>\n      <td>1.0</td>\n      <td>231.0</td>\n      <td>serdexmethylphenidate</td>\n    </tr>\n    <tr>\n      <th>476</th>\n      <td>23151</td>\n      <td>5377.0</td>\n      <td>N4-Hydroxycytidine</td>\n      <td>NaN</td>\n      <td>229.0</td>\n      <td>n4-hydroxycytidine</td>\n    </tr>\n    <tr>\n      <th>477</th>\n      <td>23152</td>\n      <td>5377.0</td>\n      <td>Beta-D-N4-hydroxycytidine</td>\n      <td>NaN</td>\n      <td>229.0</td>\n      <td>beta-d-n4-hydroxycytidine</td>\n    </tr>\n    <tr>\n      <th>...</th>\n      <td>...</td>\n      <td>...</td>\n      <td>...</td>\n      <td>...</td>\n      <td>...</td>\n      <td>...</td>\n    </tr>\n    <tr>\n      <th>22545</th>\n      <td>24416</td>\n      <td>NaN</td>\n      <td>laidlomycin</td>\n      <td>1.0</td>\n      <td>236.0</td>\n      <td>laidlomycin</td>\n    </tr>\n    <tr>\n      <th>22546</th>\n      <td>24417</td>\n      <td>NaN</td>\n      <td>BRN 1675244</td>\n      <td>NaN</td>\n      <td>236.0</td>\n      <td>brn 1675244</td>\n    </tr>\n    <tr>\n      <th>22547</th>\n      <td>24418</td>\n      <td>NaN</td>\n      <td>EINECS 260-095-1</td>\n      <td>NaN</td>\n      <td>236.0</td>\n      <td>einecs 260-095-1</td>\n    </tr>\n    <tr>\n      <th>23071</th>\n      <td>25105</td>\n      <td>NaN</td>\n      <td>carotegrast</td>\n      <td>1.0</td>\n      <td>237.0</td>\n      <td>carotegrast</td>\n    </tr>\n    <tr>\n      <th>23072</th>\n      <td>25106</td>\n      <td>NaN</td>\n      <td>HCA2969</td>\n      <td>NaN</td>\n      <td>237.0</td>\n      <td>hca2969</td>\n    </tr>\n  </tbody>\n</table>\n<p>226 rows × 6 columns</p>\n</div>"
     },
     "execution_count": 8,
     "metadata": {},
     "output_type": "execute_result"
    }
   ],
   "source": [
    "df[~df['parent_id'].isna()]"
   ],
   "metadata": {
    "collapsed": false
   },
   "id": "82109ebb9204a1a0",
   "execution_count": 8
  },
  {
   "cell_type": "code",
   "outputs": [
    {
     "data": {
      "text/plain": "      syn_id      id                  name  preferred_name  parent_id  \\\n7516    4562  3911.0  clobetasone butyrate             1.0        NaN   \n\n                     lname  \n7516  clobetasone butyrate  ",
      "text/html": "<div>\n<style scoped>\n    .dataframe tbody tr th:only-of-type {\n        vertical-align: middle;\n    }\n\n    .dataframe tbody tr th {\n        vertical-align: top;\n    }\n\n    .dataframe thead th {\n        text-align: right;\n    }\n</style>\n<table border=\"1\" class=\"dataframe\">\n  <thead>\n    <tr style=\"text-align: right;\">\n      <th></th>\n      <th>syn_id</th>\n      <th>id</th>\n      <th>name</th>\n      <th>preferred_name</th>\n      <th>parent_id</th>\n      <th>lname</th>\n    </tr>\n  </thead>\n  <tbody>\n    <tr>\n      <th>7516</th>\n      <td>4562</td>\n      <td>3911.0</td>\n      <td>clobetasone butyrate</td>\n      <td>1.0</td>\n      <td>NaN</td>\n      <td>clobetasone butyrate</td>\n    </tr>\n  </tbody>\n</table>\n</div>"
     },
     "execution_count": 9,
     "metadata": {},
     "output_type": "execute_result"
    }
   ],
   "source": [
    "df[df['name']=='clobetasone butyrate']"
   ],
   "metadata": {
    "collapsed": false
   },
   "id": "4e80cd70e1c0174",
   "execution_count": 9
  },
  {
   "cell_type": "markdown",
   "source": [
    "Notes: rows with missing `id` will be dropped. \n",
    "`tamatinib` gives 0 results in [https://drugcentral.org/?q=tamatinib&approval=](https://drugcentral.org/?q=tamatinib&approval=)\n",
    "\n",
    "`clobetasone` gives 1 resut: [clobetasone butyrate](https://drugcentral.org/?q=clobetasone&approval=)\n",
    " This is not the same, `clobetasone` is not mentioned in the synonyms of [clobetasone butyrate](https://drugcentral.org/drugcard/3911)\n",
    " "
   ],
   "metadata": {
    "collapsed": false
   },
   "id": "a1391064f8457a60"
  },
  {
   "cell_type": "code",
   "outputs": [
    {
     "data": {
      "text/plain": "       syn_id     id                name  preferred_name  parent_id  \\\n7017     4046  217.0  anecortave acetate             NaN        NaN   \n16343   13593  217.0          anecortave             1.0        NaN   \n19700   17011  217.0             retaane             NaN        NaN   \n\n                    lname  \n7017   anecortave acetate  \n16343          anecortave  \n19700             retaane  ",
      "text/html": "<div>\n<style scoped>\n    .dataframe tbody tr th:only-of-type {\n        vertical-align: middle;\n    }\n\n    .dataframe tbody tr th {\n        vertical-align: top;\n    }\n\n    .dataframe thead th {\n        text-align: right;\n    }\n</style>\n<table border=\"1\" class=\"dataframe\">\n  <thead>\n    <tr style=\"text-align: right;\">\n      <th></th>\n      <th>syn_id</th>\n      <th>id</th>\n      <th>name</th>\n      <th>preferred_name</th>\n      <th>parent_id</th>\n      <th>lname</th>\n    </tr>\n  </thead>\n  <tbody>\n    <tr>\n      <th>7017</th>\n      <td>4046</td>\n      <td>217.0</td>\n      <td>anecortave acetate</td>\n      <td>NaN</td>\n      <td>NaN</td>\n      <td>anecortave acetate</td>\n    </tr>\n    <tr>\n      <th>16343</th>\n      <td>13593</td>\n      <td>217.0</td>\n      <td>anecortave</td>\n      <td>1.0</td>\n      <td>NaN</td>\n      <td>anecortave</td>\n    </tr>\n    <tr>\n      <th>19700</th>\n      <td>17011</td>\n      <td>217.0</td>\n      <td>retaane</td>\n      <td>NaN</td>\n      <td>NaN</td>\n      <td>retaane</td>\n    </tr>\n  </tbody>\n</table>\n</div>"
     },
     "execution_count": 10,
     "metadata": {},
     "output_type": "execute_result"
    }
   ],
   "source": [
    "df[df['id']==217.0]"
   ],
   "metadata": {
    "collapsed": false
   },
   "id": "16b554f04350b76e",
   "execution_count": 10
  },
  {
   "cell_type": "code",
   "outputs": [
    {
     "data": {
      "text/plain": "     syn_id  id       name  preferred_name  parent_id      lname\n576   22536 NaN  tamatinib             1.0      225.0  tamatinib\n577   22537 NaN       R406             NaN      225.0       r406\n578   22538 NaN      R 406             NaN      225.0      r 406",
      "text/html": "<div>\n<style scoped>\n    .dataframe tbody tr th:only-of-type {\n        vertical-align: middle;\n    }\n\n    .dataframe tbody tr th {\n        vertical-align: top;\n    }\n\n    .dataframe thead th {\n        text-align: right;\n    }\n</style>\n<table border=\"1\" class=\"dataframe\">\n  <thead>\n    <tr style=\"text-align: right;\">\n      <th></th>\n      <th>syn_id</th>\n      <th>id</th>\n      <th>name</th>\n      <th>preferred_name</th>\n      <th>parent_id</th>\n      <th>lname</th>\n    </tr>\n  </thead>\n  <tbody>\n    <tr>\n      <th>576</th>\n      <td>22536</td>\n      <td>NaN</td>\n      <td>tamatinib</td>\n      <td>1.0</td>\n      <td>225.0</td>\n      <td>tamatinib</td>\n    </tr>\n    <tr>\n      <th>577</th>\n      <td>22537</td>\n      <td>NaN</td>\n      <td>R406</td>\n      <td>NaN</td>\n      <td>225.0</td>\n      <td>r406</td>\n    </tr>\n    <tr>\n      <th>578</th>\n      <td>22538</td>\n      <td>NaN</td>\n      <td>R 406</td>\n      <td>NaN</td>\n      <td>225.0</td>\n      <td>r 406</td>\n    </tr>\n  </tbody>\n</table>\n</div>"
     },
     "execution_count": 11,
     "metadata": {},
     "output_type": "execute_result"
    }
   ],
   "source": [
    "df[df['parent_id'] == 225.0]"
   ],
   "metadata": {
    "collapsed": false
   },
   "id": "d6340e8885c50002",
   "execution_count": 11
  },
  {
   "cell_type": "code",
   "outputs": [
    {
     "data": {
      "text/plain": "True     19151\nFalse     4218\nName: count, dtype: int64"
     },
     "execution_count": 12,
     "metadata": {},
     "output_type": "execute_result"
    }
   ],
   "source": [
    "(df['name'] == df['lname']).value_counts()"
   ],
   "metadata": {
    "collapsed": false
   },
   "id": "f868e6acd73fed66",
   "execution_count": 12
  },
  {
   "cell_type": "code",
   "outputs": [
    {
     "data": {
      "text/plain": "       syn_id      id            name  preferred_name  parent_id  \\\n4       23314  5391.0        IMMU-132             NaN        NaN   \n5       23315  5391.0    TROP-2-SN-38             NaN        NaN   \n6       23316  5391.0  hRS7-SN-38-ADC             NaN        NaN   \n11      23321  5392.0   NVP-INC280-NX             NaN        NaN   \n12      23322  5392.0          INC280             NaN        NaN   \n...       ...     ...             ...             ...        ...   \n23337   25458  5739.0         ARC1905             NaN        NaN   \n23341   25462  5740.0        REGN3918             NaN        NaN   \n23345   25466  5741.0     PF-06863135             NaN        NaN   \n23346   25467  5741.0           RN613             NaN        NaN   \n23350   25471  5742.0    JNJ-64407564             NaN        NaN   \n\n                lname  \n4            immu-132  \n5        trop-2-sn-38  \n6      hrs7-sn-38-adc  \n11      nvp-inc280-nx  \n12             inc280  \n...               ...  \n23337         arc1905  \n23341        regn3918  \n23345     pf-06863135  \n23346           rn613  \n23350    jnj-64407564  \n\n[4218 rows x 6 columns]",
      "text/html": "<div>\n<style scoped>\n    .dataframe tbody tr th:only-of-type {\n        vertical-align: middle;\n    }\n\n    .dataframe tbody tr th {\n        vertical-align: top;\n    }\n\n    .dataframe thead th {\n        text-align: right;\n    }\n</style>\n<table border=\"1\" class=\"dataframe\">\n  <thead>\n    <tr style=\"text-align: right;\">\n      <th></th>\n      <th>syn_id</th>\n      <th>id</th>\n      <th>name</th>\n      <th>preferred_name</th>\n      <th>parent_id</th>\n      <th>lname</th>\n    </tr>\n  </thead>\n  <tbody>\n    <tr>\n      <th>4</th>\n      <td>23314</td>\n      <td>5391.0</td>\n      <td>IMMU-132</td>\n      <td>NaN</td>\n      <td>NaN</td>\n      <td>immu-132</td>\n    </tr>\n    <tr>\n      <th>5</th>\n      <td>23315</td>\n      <td>5391.0</td>\n      <td>TROP-2-SN-38</td>\n      <td>NaN</td>\n      <td>NaN</td>\n      <td>trop-2-sn-38</td>\n    </tr>\n    <tr>\n      <th>6</th>\n      <td>23316</td>\n      <td>5391.0</td>\n      <td>hRS7-SN-38-ADC</td>\n      <td>NaN</td>\n      <td>NaN</td>\n      <td>hrs7-sn-38-adc</td>\n    </tr>\n    <tr>\n      <th>11</th>\n      <td>23321</td>\n      <td>5392.0</td>\n      <td>NVP-INC280-NX</td>\n      <td>NaN</td>\n      <td>NaN</td>\n      <td>nvp-inc280-nx</td>\n    </tr>\n    <tr>\n      <th>12</th>\n      <td>23322</td>\n      <td>5392.0</td>\n      <td>INC280</td>\n      <td>NaN</td>\n      <td>NaN</td>\n      <td>inc280</td>\n    </tr>\n    <tr>\n      <th>...</th>\n      <td>...</td>\n      <td>...</td>\n      <td>...</td>\n      <td>...</td>\n      <td>...</td>\n      <td>...</td>\n    </tr>\n    <tr>\n      <th>23337</th>\n      <td>25458</td>\n      <td>5739.0</td>\n      <td>ARC1905</td>\n      <td>NaN</td>\n      <td>NaN</td>\n      <td>arc1905</td>\n    </tr>\n    <tr>\n      <th>23341</th>\n      <td>25462</td>\n      <td>5740.0</td>\n      <td>REGN3918</td>\n      <td>NaN</td>\n      <td>NaN</td>\n      <td>regn3918</td>\n    </tr>\n    <tr>\n      <th>23345</th>\n      <td>25466</td>\n      <td>5741.0</td>\n      <td>PF-06863135</td>\n      <td>NaN</td>\n      <td>NaN</td>\n      <td>pf-06863135</td>\n    </tr>\n    <tr>\n      <th>23346</th>\n      <td>25467</td>\n      <td>5741.0</td>\n      <td>RN613</td>\n      <td>NaN</td>\n      <td>NaN</td>\n      <td>rn613</td>\n    </tr>\n    <tr>\n      <th>23350</th>\n      <td>25471</td>\n      <td>5742.0</td>\n      <td>JNJ-64407564</td>\n      <td>NaN</td>\n      <td>NaN</td>\n      <td>jnj-64407564</td>\n    </tr>\n  </tbody>\n</table>\n<p>4218 rows × 6 columns</p>\n</div>"
     },
     "execution_count": 13,
     "metadata": {},
     "output_type": "execute_result"
    }
   ],
   "source": [
    "df[(df['name'] != df['lname'])]"
   ],
   "metadata": {
    "collapsed": false
   },
   "id": "d35913c74928a39f",
   "execution_count": 13
  },
  {
   "cell_type": "code",
   "outputs": [
    {
     "data": {
      "text/plain": "preferred_name\n1.0    86\n0.0     1\nName: count, dtype: int64"
     },
     "execution_count": 14,
     "metadata": {},
     "output_type": "execute_result"
    }
   ],
   "source": [
    "df[(df['name'] != df['lname'])].preferred_name.value_counts()"
   ],
   "metadata": {
    "collapsed": false
   },
   "id": "109e9eb33beed4b8",
   "execution_count": 14
  },
  {
   "cell_type": "code",
   "outputs": [
    {
     "data": {
      "text/plain": "((23236, 6), (23369, 6))"
     },
     "execution_count": 15,
     "metadata": {},
     "output_type": "execute_result"
    }
   ],
   "source": [
    "original_df = df.copy()\n",
    "df = df[~df['id'].isna()]\n",
    "df.shape, original_df.shape"
   ],
   "metadata": {
    "collapsed": false
   },
   "id": "3e947a3727d9f5b0",
   "execution_count": 15
  },
  {
   "cell_type": "markdown",
   "source": [
    "## Check preferred_name"
   ],
   "metadata": {
    "collapsed": false
   },
   "id": "c10e8f3a5df9b45f"
  },
  {
   "cell_type": "code",
   "outputs": [
    {
     "data": {
      "text/plain": "preferred_name\n1.0    4992\n0.0       2\nName: count, dtype: int64"
     },
     "execution_count": 16,
     "metadata": {},
     "output_type": "execute_result"
    }
   ],
   "source": [
    "df.preferred_name.value_counts()"
   ],
   "metadata": {
    "collapsed": false
   },
   "id": "2f5617cd7adba899",
   "execution_count": 16
  },
  {
   "cell_type": "code",
   "outputs": [
    {
     "data": {
      "text/plain": "       syn_id      id                    name  preferred_name  parent_id  \\\n725     22694  5313.0               ALN-TTR02             0.0        NaN   \n16253   13500  1549.0  arginine hydrochloride             0.0        NaN   \n\n                        lname  \n725                 aln-ttr02  \n16253  arginine hydrochloride  ",
      "text/html": "<div>\n<style scoped>\n    .dataframe tbody tr th:only-of-type {\n        vertical-align: middle;\n    }\n\n    .dataframe tbody tr th {\n        vertical-align: top;\n    }\n\n    .dataframe thead th {\n        text-align: right;\n    }\n</style>\n<table border=\"1\" class=\"dataframe\">\n  <thead>\n    <tr style=\"text-align: right;\">\n      <th></th>\n      <th>syn_id</th>\n      <th>id</th>\n      <th>name</th>\n      <th>preferred_name</th>\n      <th>parent_id</th>\n      <th>lname</th>\n    </tr>\n  </thead>\n  <tbody>\n    <tr>\n      <th>725</th>\n      <td>22694</td>\n      <td>5313.0</td>\n      <td>ALN-TTR02</td>\n      <td>0.0</td>\n      <td>NaN</td>\n      <td>aln-ttr02</td>\n    </tr>\n    <tr>\n      <th>16253</th>\n      <td>13500</td>\n      <td>1549.0</td>\n      <td>arginine hydrochloride</td>\n      <td>0.0</td>\n      <td>NaN</td>\n      <td>arginine hydrochloride</td>\n    </tr>\n  </tbody>\n</table>\n</div>"
     },
     "execution_count": 17,
     "metadata": {},
     "output_type": "execute_result"
    }
   ],
   "source": [
    "_df = df[df.preferred_name == 0.]\n",
    "_df"
   ],
   "metadata": {
    "collapsed": false
   },
   "id": "6fcaa0750d674068",
   "execution_count": 17
  },
  {
   "cell_type": "code",
   "outputs": [
    {
     "data": {
      "text/plain": "       syn_id      id                    name  preferred_name  parent_id  \\\n4989     1971  1549.0              l-arginine             NaN        NaN   \n8238     5319  1549.0                   L-Arg             NaN        NaN   \n11131    8279  1549.0                arginine             1.0        NaN   \n16253   13500  1549.0  arginine hydrochloride             0.0        NaN   \n20852   18180  1549.0            arginine HCl             NaN        NaN   \n724     22693  5313.0               patisiran             1.0        NaN   \n725     22694  5313.0               ALN-TTR02             0.0        NaN   \n726     22696  5313.0               ALN-18328             NaN        NaN   \n22365   24142  5313.0        patisiran sodium             NaN        NaN   \n22366   24143  5313.0                onpattro             NaN        NaN   \n\n                        lname  \n4989               l-arginine  \n8238                    l-arg  \n11131                arginine  \n16253  arginine hydrochloride  \n20852            arginine hcl  \n724                 patisiran  \n725                 aln-ttr02  \n726                 aln-18328  \n22365        patisiran sodium  \n22366                onpattro  ",
      "text/html": "<div>\n<style scoped>\n    .dataframe tbody tr th:only-of-type {\n        vertical-align: middle;\n    }\n\n    .dataframe tbody tr th {\n        vertical-align: top;\n    }\n\n    .dataframe thead th {\n        text-align: right;\n    }\n</style>\n<table border=\"1\" class=\"dataframe\">\n  <thead>\n    <tr style=\"text-align: right;\">\n      <th></th>\n      <th>syn_id</th>\n      <th>id</th>\n      <th>name</th>\n      <th>preferred_name</th>\n      <th>parent_id</th>\n      <th>lname</th>\n    </tr>\n  </thead>\n  <tbody>\n    <tr>\n      <th>4989</th>\n      <td>1971</td>\n      <td>1549.0</td>\n      <td>l-arginine</td>\n      <td>NaN</td>\n      <td>NaN</td>\n      <td>l-arginine</td>\n    </tr>\n    <tr>\n      <th>8238</th>\n      <td>5319</td>\n      <td>1549.0</td>\n      <td>L-Arg</td>\n      <td>NaN</td>\n      <td>NaN</td>\n      <td>l-arg</td>\n    </tr>\n    <tr>\n      <th>11131</th>\n      <td>8279</td>\n      <td>1549.0</td>\n      <td>arginine</td>\n      <td>1.0</td>\n      <td>NaN</td>\n      <td>arginine</td>\n    </tr>\n    <tr>\n      <th>16253</th>\n      <td>13500</td>\n      <td>1549.0</td>\n      <td>arginine hydrochloride</td>\n      <td>0.0</td>\n      <td>NaN</td>\n      <td>arginine hydrochloride</td>\n    </tr>\n    <tr>\n      <th>20852</th>\n      <td>18180</td>\n      <td>1549.0</td>\n      <td>arginine HCl</td>\n      <td>NaN</td>\n      <td>NaN</td>\n      <td>arginine hcl</td>\n    </tr>\n    <tr>\n      <th>724</th>\n      <td>22693</td>\n      <td>5313.0</td>\n      <td>patisiran</td>\n      <td>1.0</td>\n      <td>NaN</td>\n      <td>patisiran</td>\n    </tr>\n    <tr>\n      <th>725</th>\n      <td>22694</td>\n      <td>5313.0</td>\n      <td>ALN-TTR02</td>\n      <td>0.0</td>\n      <td>NaN</td>\n      <td>aln-ttr02</td>\n    </tr>\n    <tr>\n      <th>726</th>\n      <td>22696</td>\n      <td>5313.0</td>\n      <td>ALN-18328</td>\n      <td>NaN</td>\n      <td>NaN</td>\n      <td>aln-18328</td>\n    </tr>\n    <tr>\n      <th>22365</th>\n      <td>24142</td>\n      <td>5313.0</td>\n      <td>patisiran sodium</td>\n      <td>NaN</td>\n      <td>NaN</td>\n      <td>patisiran sodium</td>\n    </tr>\n    <tr>\n      <th>22366</th>\n      <td>24143</td>\n      <td>5313.0</td>\n      <td>onpattro</td>\n      <td>NaN</td>\n      <td>NaN</td>\n      <td>onpattro</td>\n    </tr>\n  </tbody>\n</table>\n</div>"
     },
     "execution_count": 18,
     "metadata": {},
     "output_type": "execute_result"
    }
   ],
   "source": [
    "ids = set(_df.id)\n",
    "df[df.id.map(lambda id: id in ids)].sort_values(by='id')"
   ],
   "metadata": {
    "collapsed": false
   },
   "id": "47046225088888f4",
   "execution_count": 18
  },
  {
   "cell_type": "code",
   "outputs": [],
   "source": [
    "del ids, _df"
   ],
   "metadata": {
    "collapsed": false
   },
   "id": "e7f7b8ad9e6541dd",
   "execution_count": 19
  },
  {
   "cell_type": "markdown",
   "source": [
    "`preferred_name` equal to 1. indicates preferred name, NaN or 0. not.\n",
    "\n",
    "`arginine hydrochloride` is in the synonyms of [arginine](https://drugcentral.org/drugcard/1549?q=arginine)\n",
    "`ALN-TTR02` is in the synonyms of [patisiran](https://drugcentral.org/drugcard/5313?q=patisiran)"
   ],
   "metadata": {
    "collapsed": false
   },
   "id": "a961b3069fa4c6fe"
  },
  {
   "cell_type": "code",
   "outputs": [
    {
     "data": {
      "text/plain": "count_preferred_name\n1.0                     4992\n0.0                        3\nName: count, dtype: int64"
     },
     "execution_count": 20,
     "metadata": {},
     "output_type": "execute_result"
    }
   ],
   "source": [
    "check_df = df.groupby('id').agg(count_preferred_name=('preferred_name', 'sum'))\n",
    "check_df.value_counts()"
   ],
   "metadata": {
    "collapsed": false
   },
   "id": "87f1293f6ae306f5",
   "execution_count": 20
  },
  {
   "cell_type": "markdown",
   "source": [
    "There are 3 synonym groups that don't have a preferred name, they will be deleted."
   ],
   "metadata": {
    "collapsed": false
   },
   "id": "1de89d7591ede657"
  },
  {
   "cell_type": "code",
   "outputs": [],
   "source": [
    "df = df.set_index(['id']).drop(labels=check_df[check_df.count_preferred_name==0].index)\n",
    "df = df.reset_index()"
   ],
   "metadata": {
    "collapsed": false
   },
   "id": "e0028eac5083e9ba",
   "execution_count": 21
  },
  {
   "cell_type": "code",
   "outputs": [],
   "source": [
    "del check_df"
   ],
   "metadata": {
    "collapsed": false
   },
   "id": "a556739e1ef9f260",
   "execution_count": 22
  },
  {
   "cell_type": "markdown",
   "source": [
    "## Other checks"
   ],
   "metadata": {
    "collapsed": false
   },
   "id": "a1e8962da3cf0851"
  },
  {
   "cell_type": "code",
   "outputs": [],
   "source": [
    "assert df.syn_id.unique().shape[0] == df.shape[0]\n",
    "assert df.name.unique().shape[0] == df.shape[0]"
   ],
   "metadata": {
    "collapsed": false
   },
   "id": "8be59b7ecb39bcc4",
   "execution_count": 23
  },
  {
   "cell_type": "code",
   "outputs": [],
   "source": [
    "# lname is also unique, so if it is not equal to name we should keep it as an extra synonym.\n",
    "assert df.lname.unique().shape[0] == df.shape[0]"
   ],
   "metadata": {
    "collapsed": false
   },
   "id": "64955eb7b7c330a",
   "execution_count": 24
  },
  {
   "cell_type": "markdown",
   "source": [
    "# Group synonyms"
   ],
   "metadata": {
    "collapsed": false
   },
   "id": "c9f261af67f3d4ba"
  },
  {
   "cell_type": "code",
   "outputs": [
    {
     "data": {
      "text/plain": "(4992, 2)"
     },
     "execution_count": 25,
     "metadata": {},
     "output_type": "execute_result"
    }
   ],
   "source": [
    "df_preferred_names = df[df.preferred_name == 1][['id', 'name']].copy()\n",
    "df_preferred_names.rename(columns={'name': 'preferred_name'}, inplace=True)\n",
    "df_preferred_names.shape"
   ],
   "metadata": {
    "collapsed": false
   },
   "id": "d3da81cf0230e7d2",
   "execution_count": 25
  },
  {
   "cell_type": "code",
   "outputs": [
    {
     "data": {
      "text/plain": "        id         preferred_name\n1   5391.0  sacituzumab govitecan\n7   5392.0             capmatinib\n14  5393.0          selpercatinib\n18  5394.0             ripretinib\n22  5395.0   fluoroestradiol F 18",
      "text/html": "<div>\n<style scoped>\n    .dataframe tbody tr th:only-of-type {\n        vertical-align: middle;\n    }\n\n    .dataframe tbody tr th {\n        vertical-align: top;\n    }\n\n    .dataframe thead th {\n        text-align: right;\n    }\n</style>\n<table border=\"1\" class=\"dataframe\">\n  <thead>\n    <tr style=\"text-align: right;\">\n      <th></th>\n      <th>id</th>\n      <th>preferred_name</th>\n    </tr>\n  </thead>\n  <tbody>\n    <tr>\n      <th>1</th>\n      <td>5391.0</td>\n      <td>sacituzumab govitecan</td>\n    </tr>\n    <tr>\n      <th>7</th>\n      <td>5392.0</td>\n      <td>capmatinib</td>\n    </tr>\n    <tr>\n      <th>14</th>\n      <td>5393.0</td>\n      <td>selpercatinib</td>\n    </tr>\n    <tr>\n      <th>18</th>\n      <td>5394.0</td>\n      <td>ripretinib</td>\n    </tr>\n    <tr>\n      <th>22</th>\n      <td>5395.0</td>\n      <td>fluoroestradiol F 18</td>\n    </tr>\n  </tbody>\n</table>\n</div>"
     },
     "execution_count": 26,
     "metadata": {},
     "output_type": "execute_result"
    }
   ],
   "source": [
    "df_preferred_names.head()"
   ],
   "metadata": {
    "collapsed": false
   },
   "id": "2cfdf02f17836885",
   "execution_count": 26
  },
  {
   "cell_type": "code",
   "outputs": [
    {
     "data": {
      "text/plain": "       id                        name                       lname  \\\n0  5391.0                 sacituzumab                 sacituzumab   \n1  5391.0       sacituzumab govitecan       sacituzumab govitecan   \n2  5391.0  sacituzumab govitecan-hziy  sacituzumab govitecan-hziy   \n3  5391.0                    trodelvy                    trodelvy   \n4  5391.0                    IMMU-132                    immu-132   \n\n          preferred_name  \n0  sacituzumab govitecan  \n1  sacituzumab govitecan  \n2  sacituzumab govitecan  \n3  sacituzumab govitecan  \n4  sacituzumab govitecan  ",
      "text/html": "<div>\n<style scoped>\n    .dataframe tbody tr th:only-of-type {\n        vertical-align: middle;\n    }\n\n    .dataframe tbody tr th {\n        vertical-align: top;\n    }\n\n    .dataframe thead th {\n        text-align: right;\n    }\n</style>\n<table border=\"1\" class=\"dataframe\">\n  <thead>\n    <tr style=\"text-align: right;\">\n      <th></th>\n      <th>id</th>\n      <th>name</th>\n      <th>lname</th>\n      <th>preferred_name</th>\n    </tr>\n  </thead>\n  <tbody>\n    <tr>\n      <th>0</th>\n      <td>5391.0</td>\n      <td>sacituzumab</td>\n      <td>sacituzumab</td>\n      <td>sacituzumab govitecan</td>\n    </tr>\n    <tr>\n      <th>1</th>\n      <td>5391.0</td>\n      <td>sacituzumab govitecan</td>\n      <td>sacituzumab govitecan</td>\n      <td>sacituzumab govitecan</td>\n    </tr>\n    <tr>\n      <th>2</th>\n      <td>5391.0</td>\n      <td>sacituzumab govitecan-hziy</td>\n      <td>sacituzumab govitecan-hziy</td>\n      <td>sacituzumab govitecan</td>\n    </tr>\n    <tr>\n      <th>3</th>\n      <td>5391.0</td>\n      <td>trodelvy</td>\n      <td>trodelvy</td>\n      <td>sacituzumab govitecan</td>\n    </tr>\n    <tr>\n      <th>4</th>\n      <td>5391.0</td>\n      <td>IMMU-132</td>\n      <td>immu-132</td>\n      <td>sacituzumab govitecan</td>\n    </tr>\n  </tbody>\n</table>\n</div>"
     },
     "execution_count": 27,
     "metadata": {},
     "output_type": "execute_result"
    }
   ],
   "source": [
    "df_processed = df[['id', 'name', 'lname']].copy().merge(df_preferred_names[['id', 'preferred_name']].copy(), on='id')\n",
    "df_processed.head()"
   ],
   "metadata": {
    "collapsed": false
   },
   "id": "1c979c514726d0ce",
   "execution_count": 27
  },
  {
   "cell_type": "code",
   "outputs": [
    {
     "data": {
      "text/plain": "        preferred_name                                           synonyms\nid                                                                       \n4.0    levobupivacaine  [chirocain, levobupivacaine, levobupivacaine H...\n5.0    (S)-nicardipine  [(-)-Nicardipine, (-)-nicardipine, (S)-nicardi...\n6.0   (S)-nitrendipine  [(-)-Nitrendipine, (-)-nitrendipine, (S)-nitre...\n13.0     levdobutamine  [LY206243, levdobutamine, levdobutamine lactob...\n21.0       aminopterin  [4-aminofolic acid, Aminofolic acid, 4-, amino...",
      "text/html": "<div>\n<style scoped>\n    .dataframe tbody tr th:only-of-type {\n        vertical-align: middle;\n    }\n\n    .dataframe tbody tr th {\n        vertical-align: top;\n    }\n\n    .dataframe thead th {\n        text-align: right;\n    }\n</style>\n<table border=\"1\" class=\"dataframe\">\n  <thead>\n    <tr style=\"text-align: right;\">\n      <th></th>\n      <th>preferred_name</th>\n      <th>synonyms</th>\n    </tr>\n    <tr>\n      <th>id</th>\n      <th></th>\n      <th></th>\n    </tr>\n  </thead>\n  <tbody>\n    <tr>\n      <th>4.0</th>\n      <td>levobupivacaine</td>\n      <td>[chirocain, levobupivacaine, levobupivacaine H...</td>\n    </tr>\n    <tr>\n      <th>5.0</th>\n      <td>(S)-nicardipine</td>\n      <td>[(-)-Nicardipine, (-)-nicardipine, (S)-nicardi...</td>\n    </tr>\n    <tr>\n      <th>6.0</th>\n      <td>(S)-nitrendipine</td>\n      <td>[(-)-Nitrendipine, (-)-nitrendipine, (S)-nitre...</td>\n    </tr>\n    <tr>\n      <th>13.0</th>\n      <td>levdobutamine</td>\n      <td>[LY206243, levdobutamine, levdobutamine lactob...</td>\n    </tr>\n    <tr>\n      <th>21.0</th>\n      <td>aminopterin</td>\n      <td>[4-aminofolic acid, Aminofolic acid, 4-, amino...</td>\n    </tr>\n  </tbody>\n</table>\n</div>"
     },
     "execution_count": 28,
     "metadata": {},
     "output_type": "execute_result"
    }
   ],
   "source": [
    "synonyms = df_processed.groupby('id').agg({\n",
    "    'name': np.unique,\n",
    "    'lname': np.unique,\n",
    "    'preferred_name': lambda g: g.iloc[0],\n",
    "})\n",
    "synonyms['synonyms'] = synonyms.apply(lambda row: np.unique(np.concatenate([row['name'], row['lname']], axis=0)), axis=1)\n",
    "del synonyms['name'], synonyms['lname']\n",
    "synonyms.head()"
   ],
   "metadata": {
    "collapsed": false
   },
   "id": "b88f58808ba1543",
   "execution_count": 28
  },
  {
   "cell_type": "code",
   "outputs": [],
   "source": [
    "del df_processed, df_preferred_names"
   ],
   "metadata": {
    "collapsed": false
   },
   "id": "9948d1afa550ac47",
   "execution_count": 29
  },
  {
   "cell_type": "markdown",
   "source": [
    "# Save"
   ],
   "metadata": {
    "collapsed": false
   },
   "id": "379bbdea8506f8f5"
  },
  {
   "cell_type": "code",
   "outputs": [],
   "source": [
    "synonyms.to_parquet(path=data_config['processed_synonyms_file_name'])"
   ],
   "metadata": {
    "collapsed": false
   },
   "id": "b82b6480bdff3af6",
   "execution_count": 30
  },
  {
   "cell_type": "code",
   "outputs": [
    {
     "data": {
      "text/plain": "       preferred_name             synonyms\nid                                        \n5017.0       anakinra  [anakinra, kineret]",
      "text/html": "<div>\n<style scoped>\n    .dataframe tbody tr th:only-of-type {\n        vertical-align: middle;\n    }\n\n    .dataframe tbody tr th {\n        vertical-align: top;\n    }\n\n    .dataframe thead th {\n        text-align: right;\n    }\n</style>\n<table border=\"1\" class=\"dataframe\">\n  <thead>\n    <tr style=\"text-align: right;\">\n      <th></th>\n      <th>preferred_name</th>\n      <th>synonyms</th>\n    </tr>\n    <tr>\n      <th>id</th>\n      <th></th>\n      <th></th>\n    </tr>\n  </thead>\n  <tbody>\n    <tr>\n      <th>5017.0</th>\n      <td>anakinra</td>\n      <td>[anakinra, kineret]</td>\n    </tr>\n  </tbody>\n</table>\n</div>"
     },
     "execution_count": 31,
     "metadata": {},
     "output_type": "execute_result"
    }
   ],
   "source": [
    "synonyms[synonyms['synonyms'].map(lambda s: 'anakinra' in s)]"
   ],
   "metadata": {
    "collapsed": false
   },
   "id": "f9a4c562aed747a3",
   "execution_count": 31
  },
  {
   "cell_type": "code",
   "outputs": [],
   "source": [],
   "metadata": {
    "collapsed": false
   },
   "id": "b1f6b97c54ffcb66",
   "execution_count": 31
  },
  {
   "cell_type": "code",
   "outputs": [],
   "source": [],
   "metadata": {
    "collapsed": false
   },
   "id": "dbd7c16b32a44eac",
   "execution_count": 31
  },
  {
   "cell_type": "code",
   "outputs": [],
   "source": [],
   "metadata": {
    "collapsed": false
   },
   "id": "56dff5b4abfb0d4d",
   "execution_count": 31
  }
 ],
 "metadata": {
  "kernelspec": {
   "display_name": "Python 3",
   "language": "python",
   "name": "python3"
  },
  "language_info": {
   "codemirror_mode": {
    "name": "ipython",
    "version": 2
   },
   "file_extension": ".py",
   "mimetype": "text/x-python",
   "name": "python",
   "nbconvert_exporter": "python",
   "pygments_lexer": "ipython2",
   "version": "2.7.6"
  }
 },
 "nbformat": 4,
 "nbformat_minor": 5
}
